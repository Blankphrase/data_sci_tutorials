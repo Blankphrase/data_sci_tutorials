{
 "cells": [
  {
   "cell_type": "markdown",
   "metadata": {},
   "source": [
    "# RW API and visualising data in Carto\n",
    "\n",
    "Exploring code in the RW platform, you can see that there are id codes for layers in the `div` itesm on the sites.\n",
    "\n",
    "Layers are visulisations on a dataset.\n",
    "\n",
    "For example, the VIIRS fires dataset is here: \n",
    "\n",
    "https://api.resourcewatch.org/v1/dataset/20cc5eca-8c63-4c41-8e8e-134dcf1e6d76\n",
    "\n",
    "And a layer view on that dataset is here (based on the id exposed in the RW site).\n",
    "\n",
    "http://api.resourcewatch.org/v1/layer/f9029b9a-a435-4d5f-9800-7440db013ada\n",
    "\n",
    "You can see that the Layer refrences the dataset id. It contains all the info to produce tiles.\n",
    "\n",
    "You can also search for all layers that use a particular dataset id, e.g.:\n",
    "https://api.resourcewatch.org/v1/layer?dataset=20cc5eca-8c63-4c41-8e8e-134dcf1e6d76\n",
    "\n",
    "To display a layer on a map, you will need to use attributes from the layer config, and also call the Carto map service, and then handle the response to create a tile url object."
   ]
  },
  {
   "cell_type": "markdown",
   "metadata": {},
   "source": [
    "```javascript\n",
    "const layerTpl = {\n",
    "  version: '1.3.0',\n",
    "  stat_tag: 'API',\n",
    "  layers: layer.body.layers.map((l) => {\n",
    "    if (isInteractive) {\n",
    "      return {\n",
    "        ...l,\n",
    "        options: {\n",
    "          ...l.options,\n",
    "          interactivity: layerSpec.interactionConfig.output.map(o => o.column)\n",
    "        }\n",
    "      };\n",
    "    }\n",
    "    return l;\n",
    "  })\n",
    "};\n",
    "const params = `?stat_tag=API&config=${encodeURIComponent(JSON.stringify(layerTpl))}`;\n",
    "\n",
    "fetch(`https://${layer.account}.carto.com/api/v1/map${params}`)\n",
    "  .then((response) => {\n",
    "    this.errors = !response.ok;\n",
    "    if (this.errors) this.rejectLayersLoading = true;\n",
    "    return response.json();\n",
    "  })\n",
    "  .then((data) => {\n",
    "    if (verifyLayersOnly === true) {\n",
    "      if (this.layersUpdated && typeof this.layersUpdated === 'function') this.layersUpdated(!this.errors, data);\n",
    "      if (this.errors) this.errorDetails = data;\n",
    "      if (callback && typeof callback === 'function') callback(!this.errors);\n",
    "      return;\n",
    "    }\n",
    "\n",
    "    const tileUrl = `${data.cdn_url.templates.https.url}/${layer.account}/api/v1/map/${data.layergroupid}/{z}/{x}/{y}.png`;\n",
    "```"
   ]
  },
  {
   "cell_type": "code",
   "execution_count": 1,
   "metadata": {},
   "outputs": [],
   "source": [
    "import folium\n",
    "import json\n",
    "#import urllib\n",
    "import requests\n",
    "from pprint import pprint"
   ]
  },
  {
   "cell_type": "markdown",
   "metadata": {},
   "source": [
    "### Example of how to generate web map tiles from a carto layer using the RW api"
   ]
  },
  {
   "cell_type": "code",
   "execution_count": null,
   "metadata": {},
   "outputs": [],
   "source": [
    "account = 'wri-rw'\n",
    "urlCarto = 'https://'+account+'.carto.com/api/v1/map'\n",
    "body = {\n",
    "    \"layers\": [{\n",
    "        \"type\": \"cartodb\",\n",
    "        \"options\": {\n",
    "            \"sql\": \"select * from countries\",\n",
    "            \"cartocss\":\"#layer {\\n  polygon-fill: #374C70;\\n  polygon-opacity: 0.9;\\n  polygon-gamma: 0.5;\\n  line-color: #FFF;\\n  line-width: 1;\\n  line-opacity: 0.5;\\n  line-comp-op: soft-light;\\n}\",\n",
    "            \"cartocss_version\": \"2.1.1\"\n",
    "        }\n",
    "    }]\n",
    "}"
   ]
  },
  {
   "cell_type": "code",
   "execution_count": null,
   "metadata": {},
   "outputs": [],
   "source": [
    "r  =  requests.post(urlCarto, data=json.dumps(body), headers={'content-type': 'application/json; charset=UTF-8'})\n",
    "tileUrl = 'https://'+account+'.carto.com/api/v1/map/' + r.json()['layergroupid'] + '/{z}/{x}/{y}.png32';"
   ]
  },
  {
   "cell_type": "code",
   "execution_count": null,
   "metadata": {},
   "outputs": [],
   "source": [
    "r.json()"
   ]
  },
  {
   "cell_type": "code",
   "execution_count": null,
   "metadata": {},
   "outputs": [],
   "source": [
    "map_osm = folium.Map(location=[45.5236, 0.6750], zoom_start=3)\n",
    "folium.TileLayer(\n",
    "    tiles=tileUrl,\n",
    "    attr='text',\n",
    "    name='text',\n",
    "    overlay=True\n",
    ").add_to(map_osm)\n",
    "map_osm"
   ]
  },
  {
   "cell_type": "markdown",
   "metadata": {},
   "source": [
    "### Replicate this for a random layer"
   ]
  },
  {
   "cell_type": "code",
   "execution_count": 2,
   "metadata": {},
   "outputs": [
    {
     "name": "stdout",
     "output_type": "stream",
     "text": [
      "{'attributes': {'application': ['rw'],\n",
      "                'applicationConfig': {},\n",
      "                'dataset': '20cc5eca-8c63-4c41-8e8e-134dcf1e6d76',\n",
      "                'default': False,\n",
      "                'description': 'This layer shows fires detected in the past '\n",
      "                               'week.',\n",
      "                'env': 'production',\n",
      "                'interactionConfig': {'output': [{'column': 'frp',\n",
      "                                                  'format': None,\n",
      "                                                  'prefix': '',\n",
      "                                                  'property': 'Fire Radiative '\n",
      "                                                              'Power',\n",
      "                                                  'suffix': '',\n",
      "                                                  'type': 'number'},\n",
      "                                                 {'column': 'acq_date',\n",
      "                                                  'format': None,\n",
      "                                                  'prefix': '',\n",
      "                                                  'property': 'Date',\n",
      "                                                  'suffix': '',\n",
      "                                                  'type': 'date'}]},\n",
      "                'iso': [],\n",
      "                'layerConfig': {'account': 'wri-01',\n",
      "                                'body': {'layers': [{'options': {'cartocss': '#layer '\n",
      "                                                                             '{ '\n",
      "                                                                             'marker-width: '\n",
      "                                                                             '4; '\n",
      "                                                                             'marker-fill: '\n",
      "                                                                             '#ffcc00; '\n",
      "                                                                             'marker-fill-opacity: '\n",
      "                                                                             '1; '\n",
      "                                                                             'marker-line-color: '\n",
      "                                                                             '#FFF; '\n",
      "                                                                             'marker-line-width: '\n",
      "                                                                             '0; '\n",
      "                                                                             'marker-line-opacity: '\n",
      "                                                                             '1; '\n",
      "                                                                             'marker-placement: '\n",
      "                                                                             'point; '\n",
      "                                                                             'marker-type: '\n",
      "                                                                             'ellipse; '\n",
      "                                                                             'marker-allow-overlap: '\n",
      "                                                                             'true; '\n",
      "                                                                             '}',\n",
      "                                                                 'cartocss_version': '2.3.0',\n",
      "                                                                 'sql': 'SELECT '\n",
      "                                                                        '* '\n",
      "                                                                        'FROM '\n",
      "                                                                        'vnp14imgtdl_nrt_global_7d '\n",
      "                                                                        'where '\n",
      "                                                                        '(acq_date> '\n",
      "                                                                        '(CURRENT_DATE '\n",
      "                                                                        '- '\n",
      "                                                                        'interval '\n",
      "                                                                        \"'7 \"\n",
      "                                                                        \"day')) \"\n",
      "                                                                        'ORDER '\n",
      "                                                                        'BY '\n",
      "                                                                        'frp '\n",
      "                                                                        'asc'},\n",
      "                                                     'type': 'cartodb'}],\n",
      "                                         'maxzoom': 18,\n",
      "                                         'minzoom': 3},\n",
      "                                'pulseConfig': {'sql': 'SELECT '\n",
      "                                                       'ST_Transform(the_geom_webmercator, '\n",
      "                                                       '32663) as '\n",
      "                                                       'the_geom_webmercator, '\n",
      "                                                       'bright_ti4, scan, '\n",
      "                                                       'track, acq_date, '\n",
      "                                                       'acq_time, satellite, '\n",
      "                                                       'confidence, version, '\n",
      "                                                       'bright_ti5, frp, '\n",
      "                                                       'daynight FROM '\n",
      "                                                       'vnp14imgtdl_nrt_global_7d '\n",
      "                                                       'WHERE (acq_date> '\n",
      "                                                       '(CURRENT_DATE - '\n",
      "                                                       \"interval '7 day'))\",\n",
      "                                                'type': 'imageOverlay',\n",
      "                                                'urlTemplate': 'https://{{account}}.carto.com/api/v1/map/static/bbox/{{token_groupid}}/{{bbox}}/{{width}}/{{height}}.{{format}}',\n",
      "                                                'values': {'bbox': [-110,\n",
      "                                                                    -65,\n",
      "                                                                    110,\n",
      "                                                                    65],\n",
      "                                                           'format': 'png',\n",
      "                                                           'height': 1024,\n",
      "                                                           'width': 2048}}},\n",
      "                'legendConfig': {'items': [{'color': '#ffcc00',\n",
      "                                            'name': 'Fire'}],\n",
      "                                 'type': 'basic'},\n",
      "                'name': 'All Fires (Past Week)',\n",
      "                'protected': False,\n",
      "                'provider': 'cartodb',\n",
      "                'slug': 'All-Fires-Latest-Week',\n",
      "                'staticImageConfig': {},\n",
      "                'updatedAt': '2018-04-10T04:25:22.178Z',\n",
      "                'userId': '57d021e329309063404573a8'},\n",
      " 'id': 'f9029b9a-a435-4d5f-9800-7440db013ada',\n",
      " 'type': 'layer'}\n"
     ]
    }
   ],
   "source": [
    "layer_url = 'http://api.resourcewatch.org/v1/layer/f9029b9a-a435-4d5f-9800-7440db013ada'\n",
    "r = requests.get(layer_url)\n",
    "data = r.json().get('data')\n",
    "pprint(data)"
   ]
  },
  {
   "cell_type": "code",
   "execution_count": 38,
   "metadata": {},
   "outputs": [
    {
     "data": {
      "text/plain": [
       "'wri-01'"
      ]
     },
     "execution_count": 38,
     "metadata": {},
     "output_type": "execute_result"
    }
   ],
   "source": [
    "data.get('attributes').get('layerConfig').get('account')"
   ]
  },
  {
   "cell_type": "code",
   "execution_count": null,
   "metadata": {},
   "outputs": [],
   "source": [
    "{\n",
    "  \"version\": \"1.3.0\",\n",
    "  \"layers\": [{\n",
    "    \"type\": \"mapnik\",\n",
    "    \"options\": {\n",
    "      \"cartocss_version\": \"2.1.1\",\n",
    "      \"cartocss\": \"#layer { polygon-fill: #FFF; }\",\n",
    "      \"sql\": \"select * from european_countries_e\",\n",
    "      \"interactivity\": [\"cartodb_id\", \"iso3\"]\n",
    "    }\n",
    "  }]\n",
    "}"
   ]
  },
  {
   "cell_type": "code",
   "execution_count": 37,
   "metadata": {},
   "outputs": [
    {
     "data": {
      "text/plain": [
       "{'id': 'f9029b9a-a435-4d5f-9800-7440db013ada',\n",
       " 'type': 'layer',\n",
       " 'attributes': {'name': 'All Fires (Past Week)',\n",
       "  'slug': 'All-Fires-Latest-Week',\n",
       "  'dataset': '20cc5eca-8c63-4c41-8e8e-134dcf1e6d76',\n",
       "  'description': 'This layer shows fires detected in the past week.',\n",
       "  'application': ['rw'],\n",
       "  'iso': [],\n",
       "  'provider': 'cartodb',\n",
       "  'userId': '57d021e329309063404573a8',\n",
       "  'default': False,\n",
       "  'protected': False,\n",
       "  'env': 'production',\n",
       "  'layerConfig': {'account': 'wri-01',\n",
       "   'body': {'maxzoom': 18,\n",
       "    'minzoom': 3,\n",
       "    'layers': [{'type': 'cartodb',\n",
       "      'options': {'sql': \"SELECT * FROM vnp14imgtdl_nrt_global_7d where (acq_date> (CURRENT_DATE - interval '7 day')) ORDER BY frp asc\",\n",
       "       'cartocss': '#layer { marker-width: 4; marker-fill: #ffcc00; marker-fill-opacity: 1; marker-line-color: #FFF; marker-line-width: 0; marker-line-opacity: 1; marker-placement: point; marker-type: ellipse; marker-allow-overlap: true; }',\n",
       "       'cartocss_version': '2.3.0'}}],\n",
       "    'version': '1.3.0'},\n",
       "   'pulseConfig': {'type': 'imageOverlay',\n",
       "    'values': {'format': 'png',\n",
       "     'bbox': [-110, -65, 110, 65],\n",
       "     'width': 2048,\n",
       "     'height': 1024},\n",
       "    'sql': \"SELECT ST_Transform(the_geom_webmercator, 32663) as the_geom_webmercator, bright_ti4, scan, track, acq_date, acq_time, satellite, confidence, version, bright_ti5, frp, daynight FROM vnp14imgtdl_nrt_global_7d WHERE (acq_date> (CURRENT_DATE - interval '7 day'))\",\n",
       "    'urlTemplate': 'https://{{account}}.carto.com/api/v1/map/static/bbox/{{token_groupid}}/{{bbox}}/{{width}}/{{height}}.{{format}}'}},\n",
       "  'legendConfig': {'type': 'basic',\n",
       "   'items': [{'name': 'Fire', 'color': '#ffcc00'}]},\n",
       "  'interactionConfig': {'output': [{'type': 'number',\n",
       "     'suffix': '',\n",
       "     'property': 'Fire Radiative Power',\n",
       "     'prefix': '',\n",
       "     'format': None,\n",
       "     'column': 'frp'},\n",
       "    {'type': 'date',\n",
       "     'suffix': '',\n",
       "     'property': 'Date',\n",
       "     'prefix': '',\n",
       "     'format': None,\n",
       "     'column': 'acq_date'}]},\n",
       "  'applicationConfig': {},\n",
       "  'staticImageConfig': {},\n",
       "  'updatedAt': '2018-04-10T04:25:22.178Z'}}"
      ]
     },
     "execution_count": 37,
     "metadata": {},
     "output_type": "execute_result"
    }
   ],
   "source": [
    "data"
   ]
  },
  {
   "cell_type": "code",
   "execution_count": 43,
   "metadata": {},
   "outputs": [
    {
     "name": "stdout",
     "output_type": "stream",
     "text": [
      "Working with Carto account: wri-01\n",
      "\n",
      "{'layers': [{'options': {'cartocss': '#layer { marker-width: 4; marker-fill: '\n",
      "                                     '#ffcc00; marker-fill-opacity: 1; '\n",
      "                                     'marker-line-color: #FFF; '\n",
      "                                     'marker-line-width: 0; '\n",
      "                                     'marker-line-opacity: 1; '\n",
      "                                     'marker-placement: point; marker-type: '\n",
      "                                     'ellipse; marker-allow-overlap: true; }',\n",
      "                         'cartocss_version': '2.3.0',\n",
      "                         'sql': 'SELECT * FROM vnp14imgtdl_nrt_global_7d where '\n",
      "                                \"(acq_date> (CURRENT_DATE - interval '7 day')) \"\n",
      "                                'ORDER BY frp asc'},\n",
      "             'type': 'cartodb'}],\n",
      " 'maxzoom': 18,\n",
      " 'minzoom': 3,\n",
      " 'version': '1.3.0'}\n",
      "https://wri-01.carto.com/api/v1/map\n",
      "200\n",
      "{\"layergroupid\":\"c8b4f7d12c6da28e9466f28acdc7fbc7:1525862343468\",\"metadata\":{\"layers\":[{\"type\":\"mapnik\",\"id\":\"layer0\",\"meta\":{\"cartocss\":\"#layer { marker-width: 4; marker-fill: #ffcc00; marker-fill-opacity: 1; marker-line-color: #FFF; marker-line-width: 0; marker-line-opacity: 1; marker-placement: point; marker-type: ellipse; marker-allow-overlap: true; }\",\"stats\":{\"estimatedFeatureCount\":231144},\"cartocss_meta\":{\"rules\":[]}},\"tilejson\":{\"vector\":{\"tilejson\":\"2.2.0\",\"tiles\":[\"https://cartocdn-ashbu-a.global.ssl.fastly.net/wri-01/api/v1/map/c8b4f7d12c6da28e9466f28acdc7fbc7:1525862343468/layer0/{z}/{x}/{y}.mvt\",\"https://cartocdn-ashbu-b.global.ssl.fastly.net/wri-01/api/v1/map/c8b4f7d12c6da28e9466f28acdc7fbc7:1525862343468/layer0/{z}/{x}/{y}.mvt\",\"https://cartocdn-ashbu-c.global.ssl.fastly.net/wri-01/api/v1/map/c8b4f7d12c6da28e9466f28acdc7fbc7:1525862343468/layer0/{z}/{x}/{y}.mvt\",\"https://cartocdn-ashbu-d.global.ssl.fastly.net/wri-01/api/v1/map/c8b4f7d12c6da28e9466f28acdc7fbc7:1525862343468/layer0/{z}/{x}/{y}.mvt\"]},\"raster\":{\"tilejson\":\"2.2.0\",\"tiles\":[\"https://cartocdn-ashbu-a.global.ssl.fastly.net/wri-01/api/v1/map/c8b4f7d12c6da28e9466f28acdc7fbc7:1525862343468/layer0/{z}/{x}/{y}.png\",\"https://cartocdn-ashbu-b.global.ssl.fastly.net/wri-01/api/v1/map/c8b4f7d12c6da28e9466f28acdc7fbc7:1525862343468/layer0/{z}/{x}/{y}.png\",\"https://cartocdn-ashbu-c.global.ssl.fastly.net/wri-01/api/v1/map/c8b4f7d12c6da28e9466f28acdc7fbc7:1525862343468/layer0/{z}/{x}/{y}.png\",\"https://cartocdn-ashbu-d.global.ssl.fastly.net/wri-01/api/v1/map/c8b4f7d12c6da28e9466f28acdc7fbc7:1525862343468/layer0/{z}/{x}/{y}.png\"]}}}],\"dataviews\":{},\"analyses\":[],\"tilejson\":{\"vector\":{\"tilejson\":\"2.2.0\",\"tiles\":[\"https://cartocdn-ashbu-a.global.ssl.fastly.net/wri-01/api/v1/map/c8b4f7d12c6da28e9466f28acdc7fbc7:1525862343468/{z}/{x}/{y}.mvt\",\"https://cartocdn-ashbu-b.global.ssl.fastly.net/wri-01/api/v1/map/c8b4f7d12c6da28e9466f28acdc7fbc7:1525862343468/{z}/{x}/{y}.mvt\",\"https://cartocdn-ashbu-c.global.ssl.fastly.net/wri-01/api/v1/map/c8b4f7d12c6da28e9466f28acdc7fbc7:1525862343468/{z}/{x}/{y}.mvt\",\"https://cartocdn-ashbu-d.global.ssl.fastly.net/wri-01/api/v1/map/c8b4f7d12c6da28e9466f28acdc7fbc7:1525862343468/{z}/{x}/{y}.mvt\"]},\"raster\":{\"tilejson\":\"2.2.0\",\"tiles\":[\"https://cartocdn-ashbu-a.global.ssl.fastly.net/wri-01/api/v1/map/c8b4f7d12c6da28e9466f28acdc7fbc7:1525862343468/{z}/{x}/{y}.png\",\"https://cartocdn-ashbu-b.global.ssl.fastly.net/wri-01/api/v1/map/c8b4f7d12c6da28e9466f28acdc7fbc7:1525862343468/{z}/{x}/{y}.png\",\"https://cartocdn-ashbu-c.global.ssl.fastly.net/wri-01/api/v1/map/c8b4f7d12c6da28e9466f28acdc7fbc7:1525862343468/{z}/{x}/{y}.png\",\"https://cartocdn-ashbu-d.global.ssl.fastly.net/wri-01/api/v1/map/c8b4f7d12c6da28e9466f28acdc7fbc7:1525862343468/{z}/{x}/{y}.png\"]}},\"url\":{\"vector\":{\"urlTemplate\":\"https://cartocdn-ashbu-{s}.global.ssl.fastly.net/wri-01/api/v1/map/c8b4f7d12c6da28e9466f28acdc7fbc7:1525862343468/{z}/{x}/{y}.mvt\",\"subdomains\":[\"a\",\"b\",\"c\",\"d\"]},\"raster\":{\"urlTemplate\":\"https://cartocdn-ashbu-{s}.global.ssl.fastly.net/wri-01/api/v1/map/c8b4f7d12c6da28e9466f28acdc7fbc7:1525862343468/{z}/{x}/{y}.png\",\"subdomains\":[\"a\",\"b\",\"c\",\"d\"]}}},\"cdn_url\":{\"templates\":{\"http\":{\"subdomains\":[\"0\",\"1\",\"2\",\"3\"],\"url\":\"http://{s}.ashbu.cartocdn.com\"},\"https\":{\"subdomains\":[\"a\",\"b\",\"c\",\"d\"],\"url\":\"https://cartocdn-ashbu-{s}.global.ssl.fastly.net\"}},\"http\":\"ashbu.cartocdn.com\",\"https\":\"cartocdn-ashbu.global.ssl.fastly.net\"},\"last_updated\":\"2018-05-09T10:39:03.468Z\"}\n"
     ]
    }
   ],
   "source": [
    "# Create a payload to send to Carto using a  response from a Layer Config\n",
    "\n",
    "layer_account = data.get('attributes').get('layerConfig').get('account')\n",
    "print(f'Working with Carto account: {layer_account}\\n')\n",
    "\n",
    "body = data.get('attributes').get('layerConfig').get('body')\n",
    "body[\"version\"]=\"1.3.0\"\n",
    "\n",
    "\n",
    "pprint(body)\n",
    "\n",
    "#carto_r = requests.post(f\"https://{layer_account}.carto.com/api/v1/map\", data=json.dumps(body), headers={'content-type': 'application/json; charset=UTF-8'})\n",
    "\n",
    "carto_r = requests.post(f\"https://{layer_account}.carto.com/api/v1/map\", json=body)\n",
    "\n",
    "print(carto_r.url)\n",
    "print(carto_r.status_code)\n",
    "print(carto_r.text)"
   ]
  },
  {
   "cell_type": "code",
   "execution_count": 46,
   "metadata": {},
   "outputs": [
    {
     "data": {
      "text/plain": [
       "{'layergroupid': 'c8b4f7d12c6da28e9466f28acdc7fbc7:1525862343468',\n",
       " 'metadata': {'layers': [{'type': 'mapnik',\n",
       "    'id': 'layer0',\n",
       "    'meta': {'cartocss': '#layer { marker-width: 4; marker-fill: #ffcc00; marker-fill-opacity: 1; marker-line-color: #FFF; marker-line-width: 0; marker-line-opacity: 1; marker-placement: point; marker-type: ellipse; marker-allow-overlap: true; }',\n",
       "     'stats': {'estimatedFeatureCount': 231144},\n",
       "     'cartocss_meta': {'rules': []}},\n",
       "    'tilejson': {'vector': {'tilejson': '2.2.0',\n",
       "      'tiles': ['https://cartocdn-ashbu-a.global.ssl.fastly.net/wri-01/api/v1/map/c8b4f7d12c6da28e9466f28acdc7fbc7:1525862343468/layer0/{z}/{x}/{y}.mvt',\n",
       "       'https://cartocdn-ashbu-b.global.ssl.fastly.net/wri-01/api/v1/map/c8b4f7d12c6da28e9466f28acdc7fbc7:1525862343468/layer0/{z}/{x}/{y}.mvt',\n",
       "       'https://cartocdn-ashbu-c.global.ssl.fastly.net/wri-01/api/v1/map/c8b4f7d12c6da28e9466f28acdc7fbc7:1525862343468/layer0/{z}/{x}/{y}.mvt',\n",
       "       'https://cartocdn-ashbu-d.global.ssl.fastly.net/wri-01/api/v1/map/c8b4f7d12c6da28e9466f28acdc7fbc7:1525862343468/layer0/{z}/{x}/{y}.mvt']},\n",
       "     'raster': {'tilejson': '2.2.0',\n",
       "      'tiles': ['https://cartocdn-ashbu-a.global.ssl.fastly.net/wri-01/api/v1/map/c8b4f7d12c6da28e9466f28acdc7fbc7:1525862343468/layer0/{z}/{x}/{y}.png',\n",
       "       'https://cartocdn-ashbu-b.global.ssl.fastly.net/wri-01/api/v1/map/c8b4f7d12c6da28e9466f28acdc7fbc7:1525862343468/layer0/{z}/{x}/{y}.png',\n",
       "       'https://cartocdn-ashbu-c.global.ssl.fastly.net/wri-01/api/v1/map/c8b4f7d12c6da28e9466f28acdc7fbc7:1525862343468/layer0/{z}/{x}/{y}.png',\n",
       "       'https://cartocdn-ashbu-d.global.ssl.fastly.net/wri-01/api/v1/map/c8b4f7d12c6da28e9466f28acdc7fbc7:1525862343468/layer0/{z}/{x}/{y}.png']}}}],\n",
       "  'dataviews': {},\n",
       "  'analyses': [],\n",
       "  'tilejson': {'vector': {'tilejson': '2.2.0',\n",
       "    'tiles': ['https://cartocdn-ashbu-a.global.ssl.fastly.net/wri-01/api/v1/map/c8b4f7d12c6da28e9466f28acdc7fbc7:1525862343468/{z}/{x}/{y}.mvt',\n",
       "     'https://cartocdn-ashbu-b.global.ssl.fastly.net/wri-01/api/v1/map/c8b4f7d12c6da28e9466f28acdc7fbc7:1525862343468/{z}/{x}/{y}.mvt',\n",
       "     'https://cartocdn-ashbu-c.global.ssl.fastly.net/wri-01/api/v1/map/c8b4f7d12c6da28e9466f28acdc7fbc7:1525862343468/{z}/{x}/{y}.mvt',\n",
       "     'https://cartocdn-ashbu-d.global.ssl.fastly.net/wri-01/api/v1/map/c8b4f7d12c6da28e9466f28acdc7fbc7:1525862343468/{z}/{x}/{y}.mvt']},\n",
       "   'raster': {'tilejson': '2.2.0',\n",
       "    'tiles': ['https://cartocdn-ashbu-a.global.ssl.fastly.net/wri-01/api/v1/map/c8b4f7d12c6da28e9466f28acdc7fbc7:1525862343468/{z}/{x}/{y}.png',\n",
       "     'https://cartocdn-ashbu-b.global.ssl.fastly.net/wri-01/api/v1/map/c8b4f7d12c6da28e9466f28acdc7fbc7:1525862343468/{z}/{x}/{y}.png',\n",
       "     'https://cartocdn-ashbu-c.global.ssl.fastly.net/wri-01/api/v1/map/c8b4f7d12c6da28e9466f28acdc7fbc7:1525862343468/{z}/{x}/{y}.png',\n",
       "     'https://cartocdn-ashbu-d.global.ssl.fastly.net/wri-01/api/v1/map/c8b4f7d12c6da28e9466f28acdc7fbc7:1525862343468/{z}/{x}/{y}.png']}},\n",
       "  'url': {'vector': {'urlTemplate': 'https://cartocdn-ashbu-{s}.global.ssl.fastly.net/wri-01/api/v1/map/c8b4f7d12c6da28e9466f28acdc7fbc7:1525862343468/{z}/{x}/{y}.mvt',\n",
       "    'subdomains': ['a', 'b', 'c', 'd']},\n",
       "   'raster': {'urlTemplate': 'https://cartocdn-ashbu-{s}.global.ssl.fastly.net/wri-01/api/v1/map/c8b4f7d12c6da28e9466f28acdc7fbc7:1525862343468/{z}/{x}/{y}.png',\n",
       "    'subdomains': ['a', 'b', 'c', 'd']}}},\n",
       " 'cdn_url': {'templates': {'http': {'subdomains': ['0', '1', '2', '3'],\n",
       "    'url': 'http://{s}.ashbu.cartocdn.com'},\n",
       "   'https': {'subdomains': ['a', 'b', 'c', 'd'],\n",
       "    'url': 'https://cartocdn-ashbu-{s}.global.ssl.fastly.net'}},\n",
       "  'http': 'ashbu.cartocdn.com',\n",
       "  'https': 'cartocdn-ashbu.global.ssl.fastly.net'},\n",
       " 'last_updated': '2018-05-09T10:39:03.468Z'}"
      ]
     },
     "execution_count": 46,
     "metadata": {},
     "output_type": "execute_result"
    }
   ],
   "source": [
    "carto_r.json()"
   ]
  },
  {
   "cell_type": "code",
   "execution_count": 58,
   "metadata": {},
   "outputs": [],
   "source": [
    "# #r  =  requests.post(urlCarto, data=json.dumps(body_test), headers={'content-type': 'application/json; charset=UTF-8'})\n",
    "# tileUrl = (f\"https://{layer_account}.carto.com/api/v1/map/{carto_r.json()['layergroupid']}/\"\n",
    "#           \"{z}/{x}/{y}.png\")\n",
    "\n",
    "# tileUrl"
   ]
  },
  {
   "cell_type": "code",
   "execution_count": 59,
   "metadata": {},
   "outputs": [
    {
     "name": "stdout",
     "output_type": "stream",
     "text": [
      "https://cartocdn-ashbu-a.global.ssl.fastly.net/wri-01/api/v1/map/c8b4f7d12c6da28e9466f28acdc7fbc7:1525862343468/{z}/{x}/{y}.png\n"
     ]
    }
   ],
   "source": [
    "# if we were able to get a layergroupid back from carto, we could then form a tile request\n",
    "# in the following way.\n",
    "\n",
    "cdn_url = 'https://cartocdn-ashbu-a.global.ssl.fastly.net'\n",
    "layer_account = data.get('attributes').get('layerConfig').get('account')\n",
    "\n",
    "tiles = (f\"{cdn_url}/{layer_account}/api/v1/map/{carto_r.json()['layergroupid']}\"\n",
    "          \"/{z}/{x}/{y}.png\")\n",
    "print(tiles)"
   ]
  },
  {
   "cell_type": "code",
   "execution_count": null,
   "metadata": {},
   "outputs": [],
   "source": []
  },
  {
   "cell_type": "code",
   "execution_count": 66,
   "metadata": {},
   "outputs": [
    {
     "data": {
      "text/html": [
       "<div style=\"width:100%;\"><div style=\"position:relative;width:100%;height:0;padding-bottom:60%;\"><iframe src=\"data:text/html;charset=utf-8;base64,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\" style=\"position:absolute;width:100%;height:100%;left:0;top:0;border:none !important;\" allowfullscreen webkitallowfullscreen mozallowfullscreen></iframe></div></div>"
      ],
      "text/plain": [
       "<folium.folium.Map at 0x10e114160>"
      ]
     },
     "execution_count": 66,
     "metadata": {},
     "output_type": "execute_result"
    }
   ],
   "source": [
    "m2 = folium.Map(location=[-10.141931686131018, -55.283203125],zoom_start=4, tiles='Open Street Map')\n",
    "m2.add_tile_layer(tiles=tiles, max_zoom=12, min_zoom=1,  attr='Custom tiles')\n",
    "\n",
    "m2"
   ]
  },
  {
   "cell_type": "markdown",
   "metadata": {},
   "source": [
    "## Next part - interactivity\n",
    "\n",
    "This is done via the UTFJson\n",
    "https://github.com/danzel/Leaflet.utfgrid and is already present\n"
   ]
  },
  {
   "cell_type": "code",
   "execution_count": null,
   "metadata": {},
   "outputs": [],
   "source": []
  }
 ],
 "metadata": {
  "kernelspec": {
   "display_name": "Python 3",
   "language": "python",
   "name": "python3"
  },
  "language_info": {
   "codemirror_mode": {
    "name": "ipython",
    "version": 3
   },
   "file_extension": ".py",
   "mimetype": "text/x-python",
   "name": "python",
   "nbconvert_exporter": "python",
   "pygments_lexer": "ipython3",
   "version": "3.6.5"
  }
 },
 "nbformat": 4,
 "nbformat_minor": 2
}
