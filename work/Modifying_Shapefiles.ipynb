{
 "cells": [
  {
   "cell_type": "markdown",
   "metadata": {},
   "source": [
    "# Modifying and Downscaling Countryfiles\n",
    "\n",
    "This notebook outlines methods for modifying country/continent shapefiles, downscaling using [maphshaper](mapshaper.org), data cleaning, and creation of bespoke dataframes in the context of the Wilmap and Climate Watch projects.\n",
    "\n",
    "- [Wilmap Section](#update0):\n",
    "\n",
    "The [Wilmap](http://dev-wilmap.pantheonsite.io/map) project requires us to construct two javascript files of downscaled polygons for countries, and continents. These shapes must match exactly. The continents must follow the [continent definition](https://en.wikipedia.org/wiki/Boundaries_between_the_continents_of_Earth) that divides Europe and Asia and North and South America.\n",
    "\n",
    "- [Climate Watch Section](#update1):\n",
    "\n",
    "A similar process was required for the [Climate Watch](https://climate-watch.vizzuality.com/countries) Project and a new, much quicker, [method](#updatemethod) was employed to break Morocco into two new country shapes. Here the disputed territory border between Morocco and Western Sahara needed to be implemented in the topoJSON being used by the front end.\n"
   ]
  },
  {
   "cell_type": "markdown",
   "metadata": {},
   "source": [
    "<a id=\"update0\"></a>\n",
    "# Downscaling GADM28 countries and also building continent-level shapes\n",
    "\n",
    "The [Wilmap](http://dev-wilmap.pantheonsite.io/map) project requires us to construct two javascript files of downscaled polygons for countries, and continents. These shapes must match exactly. The continents must follow the [continent definition](https://en.wikipedia.org/wiki/Boundaries_between_the_continents_of_Earth) that divides Europe and Asia and North and South America.\n",
    "\n",
    "Currently the wilmap map is generated from two JS files (found in `wilmap/themes/wilmap_theme/dist/source`) of the [project repo](https://github.com/Vizzuality/wilmap), a continent file which is used to render the land-surface, and a country file which is used to paint white lines as borders between them. However, there is a problem in that these shapes have been created in an incompatible way. It looks like currently there were two seperate sources as the orginal shapefiles, which were both simplified to a similar degree. However, the shapefiles were not identical, and consequently the simplification has produced different results. Now the map has an issue in relation to polygon overlap. We need to create new version that are identical at both the country and continent level.\n",
    "\n",
    "## Procedure\n",
    "\n",
    "Use links to jump to sections.\n",
    "\n",
    "1. [Read Admin-0 and Russia Admin-1 shapefiles of GADM28](#step1)\n",
    "2. [Collapse Russia into two areas](#step2) (East and West based on continent definition that includes Europe and Asia)\n",
    "    * Isolate and collect admin-1 shapes in Russia that belong to Asian and European continents, respectively.\n",
    "    * Using these East- and West- shapes we can recreate a new Russia shape by recombining their geometries into 'new' russia shape.\n",
    "    * Remove the original Russia shapefile\n",
    "3. [Add the new shapes to a modified version of the gadm28_countries shapefile](#step3) (also dump un-needed attributes from the table) and export as a shapefile.\n",
    "    * Also we will need to address a bug with the shapefile at this level wherein South Sudan (and possibly more) countries are missing ISO codes. These should be added to the modified version of the file.\n",
    "4. [Upload the exported shapefile to MapShaper](#step4) and simplify the polygons to the desired level, export the simplified data as a shapefile.\n",
    "5. [Import the simplified data back to the notebook](#step5), add a column which defines the desired continent grouping of the country shape:\n",
    "    * Take care to **not assign 'new' Russia**, but to instead assign the east and west divisions you created of Russia to the appropriate continent category.\n",
    "    * There are also a couple of countries we have noted that you will also need possibly take extra care are correctly assigned, e.g. Cuba, Jamaica. \n",
    "6. [Use the new column to dissolve the shapefile](#step6) e.g. `continents = admin0_simplified_shapes.dissolve(by='continent_labels') `.\n",
    "    \n",
    "7. Write out both the [simplified country shapes](#step7a) and the [continent shapes](#step7b) to JSON files. Remove the custom created russian area shapes from the country files after writing, also add in the javascript variable syntax of the original files.\n",
    "\n",
    "\n",
    "### Resources\n",
    "\n",
    "* [GADM28 website](http://www.gadm.org/)\n",
    "* [GADM28 - Russia shapefile](http://www.gadm.org/download)\n",
    "* [Wilmap API (returns list of continent definitions with countries)](http://dev-wilmap.pantheonsite.io/api/map/browse)\n",
    "\n",
    "\n",
    "\n",
    "#### Notes\n",
    "1. What shapes should be in each file? We can answer this question using the Wilmap API link above:\n",
    "    * We have used these data to construct a dictionary to label the continents of each country shape.\n",
    "1. The attributes which should be on the shapes for each of the files: \n",
    "    * Country file:\n",
    "        'geometry' + name_engli, iso2, unregion2 (these attributes are directly from the original GAMD28 file)\n",
    "    * Continent file:\n",
    "        geometry + 'CONTINENT' {'Africa', 'Asia', 'Central America', 'Europe', 'North America',\n",
    "       'Oceania', 'South America'}\n",
    "2. Missing countries are present in the file with a `null` field as the geometry attribute.\n",
    "\n",
    "#### Further Bugs\n",
    "\n",
    "1. Caspian sea missing from map  and instead is highlighted as a country (fixed)\n",
    "2. Russia doesn't highlight on mouseover country name (fixed)\n",
    "3. Holes in some land borders (Mongolia-Russia, Turkmenistan-Russia) where reconstructed-Russia shape does not match original gadm28 country borders. This is likely due to a disparity in the level of structure detail in gadmn28_countries and russia admin0 shapefiles.\n",
    "4. Different levels of detail in Russia country shape vs the rest of the world. \n",
    "     * A possible future fix for 2./3. is to re-do the whole process but using the Russia geometry from gadmn28_countries instead of the Russia admin-0 file. \n",
    "\n"
   ]
  },
  {
   "cell_type": "markdown",
   "metadata": {},
   "source": [
    "<a id=\"step1\"></a>\n",
    "## Read and deal with original data"
   ]
  },
  {
   "cell_type": "code",
   "execution_count": 1,
   "metadata": {
    "collapsed": true
   },
   "outputs": [],
   "source": [
    "#Import libs\n",
    "import geopandas as gpd\n",
    "import numpy as np\n",
    "from iso3166 import countries \n",
    "import matplotlib.pyplot as plt\n",
    "\n",
    "%matplotlib inline"
   ]
  },
  {
   "cell_type": "code",
   "execution_count": 2,
   "metadata": {
    "collapsed": true
   },
   "outputs": [],
   "source": [
    "#Download Russia gadm28 shapefiles from http://www.gadm.org/download"
   ]
  },
  {
   "cell_type": "code",
   "execution_count": 3,
   "metadata": {
    "collapsed": true
   },
   "outputs": [],
   "source": [
    "#After unzipping Admin1 map for Russia, read in file\n",
    "original_rus1 = gpd.read_file('./data/RUS_adm_shp/RUS_adm1.shp')"
   ]
  },
  {
   "cell_type": "code",
   "execution_count": 4,
   "metadata": {},
   "outputs": [
    {
     "data": {
      "text/html": [
       "<div>\n",
       "<table border=\"1\" class=\"dataframe\">\n",
       "  <thead>\n",
       "    <tr style=\"text-align: right;\">\n",
       "      <th></th>\n",
       "      <th>CCA_1</th>\n",
       "      <th>CCN_1</th>\n",
       "      <th>ENGTYPE_1</th>\n",
       "      <th>HASC_1</th>\n",
       "      <th>ID_0</th>\n",
       "      <th>ID_1</th>\n",
       "      <th>ISO</th>\n",
       "      <th>NAME_0</th>\n",
       "      <th>NAME_1</th>\n",
       "      <th>NL_NAME_1</th>\n",
       "      <th>TYPE_1</th>\n",
       "      <th>VARNAME_1</th>\n",
       "      <th>geometry</th>\n",
       "    </tr>\n",
       "  </thead>\n",
       "  <tbody>\n",
       "    <tr>\n",
       "      <th>0</th>\n",
       "      <td>0</td>\n",
       "      <td>0</td>\n",
       "      <td>Republic</td>\n",
       "      <td>RU.AD</td>\n",
       "      <td>188</td>\n",
       "      <td>1</td>\n",
       "      <td>RUS</td>\n",
       "      <td>Russia</td>\n",
       "      <td>Adygey</td>\n",
       "      <td>Республика Адыгея</td>\n",
       "      <td>Respublika</td>\n",
       "      <td>Adygea|Adygeya|Adygheya|Republic of Adygeya|Ad...</td>\n",
       "      <td>POLYGON ((39.64794921874994 45.16419601440435,...</td>\n",
       "    </tr>\n",
       "    <tr>\n",
       "      <th>1</th>\n",
       "      <td>0</td>\n",
       "      <td>0</td>\n",
       "      <td>Territory</td>\n",
       "      <td>RU.AL</td>\n",
       "      <td>188</td>\n",
       "      <td>2</td>\n",
       "      <td>RUS</td>\n",
       "      <td>Russia</td>\n",
       "      <td>Altay</td>\n",
       "      <td>Алтайский край</td>\n",
       "      <td>Kray</td>\n",
       "      <td>Altayskiy Kray</td>\n",
       "      <td>POLYGON ((85.36115264892589 54.22598266601574,...</td>\n",
       "    </tr>\n",
       "    <tr>\n",
       "      <th>2</th>\n",
       "      <td>0</td>\n",
       "      <td>0</td>\n",
       "      <td>Region</td>\n",
       "      <td>RU.AM</td>\n",
       "      <td>188</td>\n",
       "      <td>3</td>\n",
       "      <td>RUS</td>\n",
       "      <td>Russia</td>\n",
       "      <td>Amur</td>\n",
       "      <td>Амурская область</td>\n",
       "      <td>Oblast</td>\n",
       "      <td>Amurskaya Oblast</td>\n",
       "      <td>POLYGON ((120.6742858886719 57.05606842041027,...</td>\n",
       "    </tr>\n",
       "    <tr>\n",
       "      <th>3</th>\n",
       "      <td>0</td>\n",
       "      <td>0</td>\n",
       "      <td>Region</td>\n",
       "      <td>RU.AR</td>\n",
       "      <td>188</td>\n",
       "      <td>4</td>\n",
       "      <td>RUS</td>\n",
       "      <td>Russia</td>\n",
       "      <td>Arkhangel'sk</td>\n",
       "      <td>Архангельская область</td>\n",
       "      <td>Oblast</td>\n",
       "      <td>Arcangelo|Archangel|Archangelsk|Arkhangelskaya...</td>\n",
       "      <td>(POLYGON ((36.77239608764648 63.91510391235352...</td>\n",
       "    </tr>\n",
       "    <tr>\n",
       "      <th>4</th>\n",
       "      <td>0</td>\n",
       "      <td>0</td>\n",
       "      <td>Region</td>\n",
       "      <td>RU.AS</td>\n",
       "      <td>188</td>\n",
       "      <td>5</td>\n",
       "      <td>RUS</td>\n",
       "      <td>Russia</td>\n",
       "      <td>Astrakhan'</td>\n",
       "      <td>Астраханская область</td>\n",
       "      <td>Oblast</td>\n",
       "      <td>Astrachan|Astrakhanskaya Oblast</td>\n",
       "      <td>POLYGON ((46.58406066894548 48.61551284790045,...</td>\n",
       "    </tr>\n",
       "  </tbody>\n",
       "</table>\n",
       "</div>"
      ],
      "text/plain": [
       "  CCA_1  CCN_1  ENGTYPE_1 HASC_1  ID_0  ID_1  ISO  NAME_0        NAME_1  \\\n",
       "0     0      0   Republic  RU.AD   188     1  RUS  Russia        Adygey   \n",
       "1     0      0  Territory  RU.AL   188     2  RUS  Russia         Altay   \n",
       "2     0      0     Region  RU.AM   188     3  RUS  Russia          Amur   \n",
       "3     0      0     Region  RU.AR   188     4  RUS  Russia  Arkhangel'sk   \n",
       "4     0      0     Region  RU.AS   188     5  RUS  Russia    Astrakhan'   \n",
       "\n",
       "               NL_NAME_1      TYPE_1  \\\n",
       "0      Республика Адыгея  Respublika   \n",
       "1         Алтайский край        Kray   \n",
       "2       Амурская область      Oblast   \n",
       "3  Архангельская область      Oblast   \n",
       "4   Астраханская область      Oblast   \n",
       "\n",
       "                                           VARNAME_1  \\\n",
       "0  Adygea|Adygeya|Adygheya|Republic of Adygeya|Ad...   \n",
       "1                                     Altayskiy Kray   \n",
       "2                                   Amurskaya Oblast   \n",
       "3  Arcangelo|Archangel|Archangelsk|Arkhangelskaya...   \n",
       "4                    Astrachan|Astrakhanskaya Oblast   \n",
       "\n",
       "                                            geometry  \n",
       "0  POLYGON ((39.64794921874994 45.16419601440435,...  \n",
       "1  POLYGON ((85.36115264892589 54.22598266601574,...  \n",
       "2  POLYGON ((120.6742858886719 57.05606842041027,...  \n",
       "3  (POLYGON ((36.77239608764648 63.91510391235352...  \n",
       "4  POLYGON ((46.58406066894548 48.61551284790045,...  "
      ]
     },
     "execution_count": 4,
     "metadata": {},
     "output_type": "execute_result"
    }
   ],
   "source": [
    "#table for Russia at Admin 1 level. We are interested in geometry\n",
    "original_rus1.head()"
   ]
  },
  {
   "cell_type": "code",
   "execution_count": 5,
   "metadata": {},
   "outputs": [
    {
     "data": {
      "text/plain": [
       "array(['Adygey', 'Altay', 'Amur', \"Arkhangel'sk\", \"Astrakhan'\",\n",
       "       'Bashkortostan', 'Belgorod', 'Bryansk', 'Buryat', 'Chechnya',\n",
       "       'Chelyabinsk', 'Chukot', 'Chuvash', 'City of St. Petersburg',\n",
       "       'Dagestan', 'Gorno-Altay', 'Ingush', 'Irkutsk', 'Ivanovo',\n",
       "       'Kabardin-Balkar', 'Kaliningrad', 'Kalmyk', 'Kaluga', 'Kamchatka',\n",
       "       'Karachay-Cherkess', 'Karelia', 'Kemerovo', 'Khabarovsk', 'Khakass',\n",
       "       'Khanty-Mansiy', 'Kirov', 'Komi', 'Kostroma', 'Krasnodar',\n",
       "       'Krasnoyarsk', 'Kurgan', 'Kursk', 'Leningrad', 'Lipetsk',\n",
       "       'Maga Buryatdan', 'Mariy-El', 'Mordovia', 'Moscow City', 'Moskva',\n",
       "       'Murmansk', 'Nenets', 'Nizhegorod', 'North Ossetia', 'Novgorod',\n",
       "       'Novosibirsk', 'Omsk', 'Orel', 'Orenburg', 'Penza', \"Perm'\",\n",
       "       \"Primor'ye\", 'Pskov', 'Rostov', \"Ryazan'\", 'Sakhalin', 'Sakha',\n",
       "       'Samara', 'Saratov', 'Smolensk', \"Stavropol'\", 'Sverdlovsk',\n",
       "       'Tambov', 'Tatarstan', 'Tomsk', 'Tula', 'Tuva', \"Tver'\", \"Tyumen'\",\n",
       "       'Udmurt', \"Ul'yanovsk\", 'Vladimir', 'Volgograd', 'Vologda',\n",
       "       'Voronezh', 'Yamal-Nenets', \"Yaroslavl'\", 'Yevrey', \"Zabaykal'ye\"], dtype=object)"
      ]
     },
     "execution_count": 5,
     "metadata": {},
     "output_type": "execute_result"
    }
   ],
   "source": [
    "# Find unique fields in a column\n",
    "original_rus1['NAME_1'].unique()"
   ]
  },
  {
   "cell_type": "code",
   "execution_count": 6,
   "metadata": {
    "collapsed": true
   },
   "outputs": [],
   "source": [
    "#Read in Asia-Europe Geographic Boarder\n",
    "#This was retreieved using the continents.js file and returning coordinates\n",
    "#that are common between both the Asia and Europe polygons\n",
    "\n",
    "eurasian_border = gpd.read_file('./data/eurasia.json')"
   ]
  },
  {
   "cell_type": "code",
   "execution_count": 7,
   "metadata": {},
   "outputs": [
    {
     "data": {
      "text/plain": [
       "<matplotlib.axes._subplots.AxesSubplot at 0x7f4566532358>"
      ]
     },
     "execution_count": 7,
     "metadata": {},
     "output_type": "execute_result"
    },
    {
     "data": {
      "image/png": "[encoded data removed]",
      "text/plain": [
       "<matplotlib.figure.Figure at 0x7f45980100b8>"
      ]
     },
     "metadata": {},
     "output_type": "display_data"
    }
   ],
   "source": [
    "#Add buffer to border so that intersecting subregions can be identified\n",
    "\n",
    "eurasian_border.buffer(0.5).plot()"
   ]
  },
  {
   "cell_type": "code",
   "execution_count": 8,
   "metadata": {
    "collapsed": true
   },
   "outputs": [],
   "source": [
    "#Retrieve polygons from Russian Subregions \n",
    "\n",
    "test = original_rus1.geometry.values[0]\n",
    "\n"
   ]
  },
  {
   "cell_type": "code",
   "execution_count": 9,
   "metadata": {
    "collapsed": true
   },
   "outputs": [],
   "source": [
    "#Define function. If subregion intersects with border return true, else false\n",
    "\n",
    "def test_area(test):\n",
    "    if test.intersection(eurasian_border.geometry.values[0].buffer(0.5)):\n",
    "        return True\n",
    "    else:\n",
    "        return False"
   ]
  },
  {
   "cell_type": "code",
   "execution_count": 10,
   "metadata": {
    "collapsed": true
   },
   "outputs": [],
   "source": [
    "#For all admin-1 subregions in russia, store those which intersect with the Asia-Europe boarder to test_area function\n",
    "\n",
    "intersects = []\n",
    "for area in original_rus1.geometry.values[0:]:\n",
    "    intersects.append(test_area(area))"
   ]
  },
  {
   "cell_type": "code",
   "execution_count": 11,
   "metadata": {},
   "outputs": [
    {
     "data": {
      "image/png": "[encoded data removed]",
      "text/plain": [
       "<matplotlib.figure.Figure at 0x7f4562578a90>"
      ]
     },
     "metadata": {},
     "output_type": "display_data"
    }
   ],
   "source": [
    "#Plot subregions which interect with border (in blue)\n",
    "\n",
    "fig, ax = plt.subplots(figsize=[20,20])\n",
    "ax.set_aspect('equal')\n",
    "\n",
    "original_rus1[intersects].plot(ax=ax)\n",
    "eurasian_border.buffer(0.5).plot(ax=ax, color='blue')\n",
    "plt.show()"
   ]
  },
  {
   "cell_type": "markdown",
   "metadata": {},
   "source": [
    "<a id=\"step2\"></a>\n",
    "## Dividing Russia at admin-1 level\n",
    "\n",
    "Now we can loop through all russian admin-1 regions and separate into two groups: those belonging to Asia and Europe. The simplest way to do this is to inspect the centroid of each subregion.\n",
    "\n",
    "If the longitude of that centroid is greater than that of the western-most subregion in Asia (pale green region to the right of the border, seen above) then it must fall in asia. If not, then europe."
   ]
  },
  {
   "cell_type": "code",
   "execution_count": 12,
   "metadata": {},
   "outputs": [
    {
     "data": {
      "text/plain": [
       "[74.55337877580932,\n",
       " 70.34573209027107,\n",
       " 61.5550271829448,\n",
       " 60.413177189819464,\n",
       " 56.528300975467786,\n",
       " 56.24062541965279,\n",
       " 55.6332279963439,\n",
       " 54.99827685745508,\n",
       " 54.772128124373296,\n",
       " 50.470942531224296,\n",
       " 47.33740597535713,\n",
       " 46.873873549238404,\n",
       " 46.83063376063173,\n",
       " 45.79918208255426,\n",
       " 45.38380756998292,\n",
       " 44.95879841983974,\n",
       " 44.32527839886589,\n",
       " 44.184681595258105,\n",
       " 43.526648542408594,\n",
       " 41.84570861574853,\n",
       " 39.98715832298343,\n",
       " 39.496172909812145]"
      ]
     },
     "execution_count": 12,
     "metadata": {},
     "output_type": "execute_result"
    }
   ],
   "source": [
    "#List all admin-1 centroids, in descending order.\n",
    "#Here, using .xy to show the longitude of each centroids coordinate.\n",
    "#Since .xy returns a tuple of two arrays, .xy[0][0] gives longitude, .xy[1][0] give latitude\n",
    "\n",
    "centroids = original_rus1[intersects].geometry.centroid\n",
    "\n",
    "sorted([centroid.xy[0][0] for centroid in centroids if centroid.xy[0]], reverse=True)\n"
   ]
  },
  {
   "cell_type": "code",
   "execution_count": 13,
   "metadata": {},
   "outputs": [
    {
     "name": "stdout",
     "output_type": "stream",
     "text": [
      "True for 60.413177189819464\n",
      "True for 70.34573209027107\n",
      "True for 61.5550271829448\n",
      "True for 74.55337877580932\n"
     ]
    }
   ],
   "source": [
    "#Isolate the 4 subregions to the east of the borderline to define Asia's western edge\n",
    "#Find the 4 rows with the most easterly centroids\n",
    "# the lowest value of longitude is our minimum requirement for being in Asia (long>60 in this case)\n",
    "\n",
    "for centroid in centroids:\n",
    "    if centroid.xy[0][0] > 60:\n",
    "        print('True for', centroid.xy[0][0])\n",
    "        "
   ]
  },
  {
   "cell_type": "code",
   "execution_count": 14,
   "metadata": {
    "collapsed": true
   },
   "outputs": [],
   "source": [
    "#Now we have a way of finding the dividing border we can create\n",
    "#an algorithm to produce an East-West Continental divide through Russia\n",
    "\n",
    "#First function identifes if a subregion interescts with the boarder region\n",
    "\n",
    "def intersecting_area(test):\n",
    "    if test.intersection(eurasian_border.geometry.values[0].buffer(0.5)):\n",
    "        return True\n",
    "    else:\n",
    "        return False\n",
    "\n",
    "#If this is True, those subregions with a centroid greater than 60deg return true\n",
    "# and false if less than 60deg\n",
    "\n",
    "def intersecting_in_east(test): \n",
    "    if test.centroid.xy[0][0] > 60:\n",
    "        return True\n",
    "    else:\n",
    "        return False\n",
    "    \n",
    "#Of those that do not intersect the boarder, return true if east of the boarder\n",
    "# (and in the eastern hemisphere!), otherwise return false\n",
    "\n",
    "def east(test):\n",
    "    if test.centroid.xy[0][0] > 0 and test.centroid.xy[0][0] < 60:\n",
    "        return False\n",
    "    else:\n",
    "        return True\n",
    "    \n"
   ]
  },
  {
   "cell_type": "code",
   "execution_count": 15,
   "metadata": {
    "collapsed": true
   },
   "outputs": [],
   "source": [
    "#Create a continent list to assign subregions the continental definition East or West and apply algorithm\n",
    "\n",
    "continent_list = []\n",
    "\n",
    "for n in original_rus1.index:\n",
    "    tmp_geom = original_rus1.geometry[n]\n",
    "    #print(n, tmp_geom.centroid)\n",
    "    if intersecting_area(tmp_geom):\n",
    "        #print('in condition')\n",
    "        if intersecting_in_east(tmp_geom):\n",
    "            continent_list.append('Asia')\n",
    "        else:\n",
    "            continent_list.append('Europe')\n",
    "    else:\n",
    "        if east(tmp_geom):\n",
    "            continent_list.append('Asia')\n",
    "        else:\n",
    "            continent_list.append('Europe')\n",
    "\n",
    "    \n"
   ]
  },
  {
   "cell_type": "code",
   "execution_count": 16,
   "metadata": {},
   "outputs": [
    {
     "data": {
      "text/plain": [
       "(85, 85)"
      ]
     },
     "execution_count": 16,
     "metadata": {},
     "output_type": "execute_result"
    }
   ],
   "source": [
    "#Check length of lists to make sure it matches original \n",
    "len(continent_list), len(original_rus1)"
   ]
  },
  {
   "cell_type": "code",
   "execution_count": 17,
   "metadata": {
    "collapsed": true
   },
   "outputs": [],
   "source": [
    "#Append 'Continent' definition list as a new column in the original Russia .shp data\n",
    "original_rus1['Continent'] = continent_list"
   ]
  },
  {
   "cell_type": "code",
   "execution_count": 18,
   "metadata": {},
   "outputs": [
    {
     "data": {
      "text/html": [
       "<div>\n",
       "<table border=\"1\" class=\"dataframe\">\n",
       "  <thead>\n",
       "    <tr style=\"text-align: right;\">\n",
       "      <th></th>\n",
       "      <th>geometry</th>\n",
       "      <th>CCA_1</th>\n",
       "      <th>CCN_1</th>\n",
       "      <th>ENGTYPE_1</th>\n",
       "      <th>HASC_1</th>\n",
       "      <th>ID_0</th>\n",
       "      <th>ID_1</th>\n",
       "      <th>ISO</th>\n",
       "      <th>NAME_0</th>\n",
       "      <th>NAME_1</th>\n",
       "      <th>NL_NAME_1</th>\n",
       "      <th>TYPE_1</th>\n",
       "      <th>VARNAME_1</th>\n",
       "    </tr>\n",
       "    <tr>\n",
       "      <th>Continent</th>\n",
       "      <th></th>\n",
       "      <th></th>\n",
       "      <th></th>\n",
       "      <th></th>\n",
       "      <th></th>\n",
       "      <th></th>\n",
       "      <th></th>\n",
       "      <th></th>\n",
       "      <th></th>\n",
       "      <th></th>\n",
       "      <th></th>\n",
       "      <th></th>\n",
       "      <th></th>\n",
       "    </tr>\n",
       "  </thead>\n",
       "  <tbody>\n",
       "    <tr>\n",
       "      <th>Asia</th>\n",
       "      <td>(POLYGON ((149.4458312988281 45.65000152587891...</td>\n",
       "      <td>0</td>\n",
       "      <td>0</td>\n",
       "      <td>Territory</td>\n",
       "      <td>RU.AL</td>\n",
       "      <td>188</td>\n",
       "      <td>2</td>\n",
       "      <td>RUS</td>\n",
       "      <td>Russia</td>\n",
       "      <td>Altay</td>\n",
       "      <td>Алтайский край</td>\n",
       "      <td>Kray</td>\n",
       "      <td>Altayskiy Kray</td>\n",
       "    </tr>\n",
       "    <tr>\n",
       "      <th>Europe</th>\n",
       "      <td>(POLYGON ((36.6490287780764 45.31486129760748,...</td>\n",
       "      <td>0</td>\n",
       "      <td>0</td>\n",
       "      <td>Republic</td>\n",
       "      <td>RU.AD</td>\n",
       "      <td>188</td>\n",
       "      <td>1</td>\n",
       "      <td>RUS</td>\n",
       "      <td>Russia</td>\n",
       "      <td>Adygey</td>\n",
       "      <td>Республика Адыгея</td>\n",
       "      <td>Respublika</td>\n",
       "      <td>Adygea|Adygeya|Adygheya|Republic of Adygeya|Ad...</td>\n",
       "    </tr>\n",
       "  </tbody>\n",
       "</table>\n",
       "</div>"
      ],
      "text/plain": [
       "                                                    geometry CCA_1  CCN_1  \\\n",
       "Continent                                                                   \n",
       "Asia       (POLYGON ((149.4458312988281 45.65000152587891...     0      0   \n",
       "Europe     (POLYGON ((36.6490287780764 45.31486129760748,...     0      0   \n",
       "\n",
       "           ENGTYPE_1 HASC_1  ID_0  ID_1  ISO  NAME_0  NAME_1  \\\n",
       "Continent                                                      \n",
       "Asia       Territory  RU.AL   188     2  RUS  Russia   Altay   \n",
       "Europe      Republic  RU.AD   188     1  RUS  Russia  Adygey   \n",
       "\n",
       "                   NL_NAME_1      TYPE_1  \\\n",
       "Continent                                  \n",
       "Asia          Алтайский край        Kray   \n",
       "Europe     Республика Адыгея  Respublika   \n",
       "\n",
       "                                                   VARNAME_1  \n",
       "Continent                                                     \n",
       "Asia                                          Altayskiy Kray  \n",
       "Europe     Adygea|Adygeya|Adygheya|Republic of Adygeya|Ad...  "
      ]
     },
     "execution_count": 18,
     "metadata": {},
     "output_type": "execute_result"
    }
   ],
   "source": [
    "# joining shapes based on an attribute column - can make this a country shape thing\n",
    "split_russia = original_rus1.dissolve(by='Continent')\n",
    "split_russia.head()"
   ]
  },
  {
   "cell_type": "code",
   "execution_count": 19,
   "metadata": {},
   "outputs": [
    {
     "data": {
      "text/plain": [
       "<matplotlib.axes._subplots.AxesSubplot at 0x7f4564fed128>"
      ]
     },
     "execution_count": 19,
     "metadata": {},
     "output_type": "execute_result"
    },
    {
     "data": {
      "image/png": "[encoded data removed]",
      "text/plain": [
       "<matplotlib.figure.Figure at 0x7f45645a45f8>"
      ]
     },
     "metadata": {},
     "output_type": "display_data"
    }
   ],
   "source": [
    "#Check continental split! Red = Europe, Blue = Asia\n",
    "split_russia.plot(figsize=(20,20))"
   ]
  },
  {
   "cell_type": "code",
   "execution_count": null,
   "metadata": {
    "collapsed": true
   },
   "outputs": [],
   "source": [
    "#Get other countries from GADM28 countries shapefile and add split_russia"
   ]
  },
  {
   "cell_type": "code",
   "execution_count": null,
   "metadata": {
    "collapsed": true
   },
   "outputs": [],
   "source": [
    "# You will need to uncompress the countries shapefile first\n",
    "\n",
    "!ls ./data/gadm28_countries.zip"
   ]
  },
  {
   "cell_type": "code",
   "execution_count": 21,
   "metadata": {
    "collapsed": true
   },
   "outputs": [],
   "source": [
    "original_gadm28 = gpd.read_file('./data/gadm28_countries/gadm28_countries.shp')"
   ]
  },
  {
   "cell_type": "code",
   "execution_count": 22,
   "metadata": {
    "scrolled": false
   },
   "outputs": [
    {
     "data": {
      "text/html": [
       "<div>\n",
       "<table border=\"1\" class=\"dataframe\">\n",
       "  <thead>\n",
       "    <tr style=\"text-align: right;\">\n",
       "      <th></th>\n",
       "      <th>area_ha</th>\n",
       "      <th>bbox</th>\n",
       "      <th>cartodb_id</th>\n",
       "      <th>centroid</th>\n",
       "      <th>contains</th>\n",
       "      <th>developing</th>\n",
       "      <th>geometry</th>\n",
       "      <th>id_0</th>\n",
       "      <th>islands</th>\n",
       "      <th>iso</th>\n",
       "      <th>...</th>\n",
       "      <th>unregion1</th>\n",
       "      <th>unregion2</th>\n",
       "      <th>validfr</th>\n",
       "      <th>validto</th>\n",
       "      <th>waspartof</th>\n",
       "      <th>wbdebt</th>\n",
       "      <th>wbincome</th>\n",
       "      <th>wbother</th>\n",
       "      <th>wbregion</th>\n",
       "      <th>www</th>\n",
       "    </tr>\n",
       "  </thead>\n",
       "  <tbody>\n",
       "    <tr>\n",
       "      <th>0</th>\n",
       "      <td>3.247209e+07</td>\n",
       "      <td>{\"type\":\"Polygon\",\"coordinates\":[[[-9.11742102...</td>\n",
       "      <td>169</td>\n",
       "      <td>{\"type\":\"Point\",\"coordinates\":[15.409599070085...</td>\n",
       "      <td>None</td>\n",
       "      <td>2.0</td>\n",
       "      <td>(POLYGON ((7.576389789581356 57.98847198486345...</td>\n",
       "      <td>169</td>\n",
       "      <td>0.0</td>\n",
       "      <td>NOR</td>\n",
       "      <td>...</td>\n",
       "      <td>Northern Europe</td>\n",
       "      <td>Europe</td>\n",
       "      <td>19050607</td>\n",
       "      <td>Present</td>\n",
       "      <td>None</td>\n",
       "      <td>Debt not classified</td>\n",
       "      <td>High income: OECD</td>\n",
       "      <td>None</td>\n",
       "      <td>None</td>\n",
       "      <td>None</td>\n",
       "    </tr>\n",
       "    <tr>\n",
       "      <th>1</th>\n",
       "      <td>1.797044e+02</td>\n",
       "      <td>None</td>\n",
       "      <td>231</td>\n",
       "      <td>None</td>\n",
       "      <td>None</td>\n",
       "      <td>1.0</td>\n",
       "      <td>POLYGON ((-171.786392211914 -9.147776603698617...</td>\n",
       "      <td>231</td>\n",
       "      <td>1.0</td>\n",
       "      <td>TKL</td>\n",
       "      <td>...</td>\n",
       "      <td>Polynesia</td>\n",
       "      <td>Oceania</td>\n",
       "      <td>Unknown</td>\n",
       "      <td>Present</td>\n",
       "      <td>None</td>\n",
       "      <td>None</td>\n",
       "      <td>None</td>\n",
       "      <td>None</td>\n",
       "      <td>None</td>\n",
       "      <td>None</td>\n",
       "    </tr>\n",
       "    <tr>\n",
       "      <th>2</th>\n",
       "      <td>5.140220e+07</td>\n",
       "      <td>{\"type\":\"Polygon\",\"coordinates\":[[[97.35140100...</td>\n",
       "      <td>228</td>\n",
       "      <td>{\"type\":\"Point\",\"coordinates\":[101.00333319808...</td>\n",
       "      <td>None</td>\n",
       "      <td>1.0</td>\n",
       "      <td>(POLYGON ((99.31054687500011 6.487649917602539...</td>\n",
       "      <td>228</td>\n",
       "      <td>0.0</td>\n",
       "      <td>THA</td>\n",
       "      <td>...</td>\n",
       "      <td>South-Eastern Asia</td>\n",
       "      <td>Asia</td>\n",
       "      <td>Unknown</td>\n",
       "      <td>Present</td>\n",
       "      <td>None</td>\n",
       "      <td>Less indebted</td>\n",
       "      <td>Lower middle income</td>\n",
       "      <td>None</td>\n",
       "      <td>East Asia &amp; Pacific</td>\n",
       "      <td>None</td>\n",
       "    </tr>\n",
       "    <tr>\n",
       "      <th>3</th>\n",
       "      <td>9.123939e+07</td>\n",
       "      <td>{\"type\":\"Polygon\",\"coordinates\":[[[-73.3911486...</td>\n",
       "      <td>249</td>\n",
       "      <td>{\"type\":\"Point\",\"coordinates\":[-66.16883923189...</td>\n",
       "      <td>None</td>\n",
       "      <td>1.0</td>\n",
       "      <td>(POLYGON ((-60.64263916015619 8.68402767181390...</td>\n",
       "      <td>249</td>\n",
       "      <td>0.0</td>\n",
       "      <td>VEN</td>\n",
       "      <td>...</td>\n",
       "      <td>South America</td>\n",
       "      <td>Americas</td>\n",
       "      <td>1830</td>\n",
       "      <td>Present</td>\n",
       "      <td>None</td>\n",
       "      <td>Moderately indebted</td>\n",
       "      <td>Upper middle income</td>\n",
       "      <td>None</td>\n",
       "      <td>Latin America &amp; Caribbean</td>\n",
       "      <td>None</td>\n",
       "    </tr>\n",
       "    <tr>\n",
       "      <th>4</th>\n",
       "      <td>9.085410e+07</td>\n",
       "      <td>{\"type\":\"Polygon\",\"coordinates\":[[[2.671081990...</td>\n",
       "      <td>163</td>\n",
       "      <td>{\"type\":\"Point\",\"coordinates\":[8.0912395825427...</td>\n",
       "      <td>None</td>\n",
       "      <td>1.0</td>\n",
       "      <td>(POLYGON ((6.095695018768311 4.356805801391829...</td>\n",
       "      <td>163</td>\n",
       "      <td>0.0</td>\n",
       "      <td>NGA</td>\n",
       "      <td>...</td>\n",
       "      <td>Western Africa</td>\n",
       "      <td>Africa</td>\n",
       "      <td>19601001</td>\n",
       "      <td>Present</td>\n",
       "      <td>None</td>\n",
       "      <td>Moderately indebted</td>\n",
       "      <td>Low income</td>\n",
       "      <td>None</td>\n",
       "      <td>Sub-Saharan Africa</td>\n",
       "      <td>None</td>\n",
       "    </tr>\n",
       "  </tbody>\n",
       "</table>\n",
       "<p>5 rows × 54 columns</p>\n",
       "</div>"
      ],
      "text/plain": [
       "        area_ha                                               bbox  \\\n",
       "0  3.247209e+07  {\"type\":\"Polygon\",\"coordinates\":[[[-9.11742102...   \n",
       "1  1.797044e+02                                               None   \n",
       "2  5.140220e+07  {\"type\":\"Polygon\",\"coordinates\":[[[97.35140100...   \n",
       "3  9.123939e+07  {\"type\":\"Polygon\",\"coordinates\":[[[-73.3911486...   \n",
       "4  9.085410e+07  {\"type\":\"Polygon\",\"coordinates\":[[[2.671081990...   \n",
       "\n",
       "   cartodb_id                                           centroid contains  \\\n",
       "0         169  {\"type\":\"Point\",\"coordinates\":[15.409599070085...     None   \n",
       "1         231                                               None     None   \n",
       "2         228  {\"type\":\"Point\",\"coordinates\":[101.00333319808...     None   \n",
       "3         249  {\"type\":\"Point\",\"coordinates\":[-66.16883923189...     None   \n",
       "4         163  {\"type\":\"Point\",\"coordinates\":[8.0912395825427...     None   \n",
       "\n",
       "   developing                                           geometry  id_0  \\\n",
       "0         2.0  (POLYGON ((7.576389789581356 57.98847198486345...   169   \n",
       "1         1.0  POLYGON ((-171.786392211914 -9.147776603698617...   231   \n",
       "2         1.0  (POLYGON ((99.31054687500011 6.487649917602539...   228   \n",
       "3         1.0  (POLYGON ((-60.64263916015619 8.68402767181390...   249   \n",
       "4         1.0  (POLYGON ((6.095695018768311 4.356805801391829...   163   \n",
       "\n",
       "   islands  iso  ...            unregion1  unregion2   validfr  validto  \\\n",
       "0      0.0  NOR  ...      Northern Europe     Europe  19050607  Present   \n",
       "1      1.0  TKL  ...            Polynesia    Oceania   Unknown  Present   \n",
       "2      0.0  THA  ...   South-Eastern Asia       Asia   Unknown  Present   \n",
       "3      0.0  VEN  ...        South America   Americas      1830  Present   \n",
       "4      0.0  NGA  ...       Western Africa     Africa  19601001  Present   \n",
       "\n",
       "   waspartof               wbdebt             wbincome wbother  \\\n",
       "0       None  Debt not classified    High income: OECD    None   \n",
       "1       None                 None                 None    None   \n",
       "2       None        Less indebted  Lower middle income    None   \n",
       "3       None  Moderately indebted  Upper middle income    None   \n",
       "4       None  Moderately indebted           Low income    None   \n",
       "\n",
       "                    wbregion   www  \n",
       "0                       None  None  \n",
       "1                       None  None  \n",
       "2        East Asia & Pacific  None  \n",
       "3  Latin America & Caribbean  None  \n",
       "4         Sub-Saharan Africa  None  \n",
       "\n",
       "[5 rows x 54 columns]"
      ]
     },
     "execution_count": 22,
     "metadata": {},
     "output_type": "execute_result"
    }
   ],
   "source": [
    "#Check to see that we have the data needed for each country\n",
    "\n",
    "original_gadm28.head()"
   ]
  },
  {
   "cell_type": "code",
   "execution_count": 23,
   "metadata": {},
   "outputs": [
    {
     "data": {
      "text/html": [
       "<div>\n",
       "<table border=\"1\" class=\"dataframe\">\n",
       "  <thead>\n",
       "    <tr style=\"text-align: right;\">\n",
       "      <th></th>\n",
       "      <th>area_ha</th>\n",
       "      <th>bbox</th>\n",
       "      <th>cartodb_id</th>\n",
       "      <th>centroid</th>\n",
       "      <th>contains</th>\n",
       "      <th>developing</th>\n",
       "      <th>geometry</th>\n",
       "      <th>id_0</th>\n",
       "      <th>islands</th>\n",
       "      <th>iso</th>\n",
       "      <th>...</th>\n",
       "      <th>unregion1</th>\n",
       "      <th>unregion2</th>\n",
       "      <th>validfr</th>\n",
       "      <th>validto</th>\n",
       "      <th>waspartof</th>\n",
       "      <th>wbdebt</th>\n",
       "      <th>wbincome</th>\n",
       "      <th>wbother</th>\n",
       "      <th>wbregion</th>\n",
       "      <th>www</th>\n",
       "    </tr>\n",
       "  </thead>\n",
       "  <tbody>\n",
       "    <tr>\n",
       "      <th>47</th>\n",
       "      <td>1.692499e+09</td>\n",
       "      <td>{\"type\":\"Polygon\",\"coordinates\":[[[27.77343749...</td>\n",
       "      <td>188</td>\n",
       "      <td>{\"type\":\"Point\",\"coordinates\":[96.693836098041...</td>\n",
       "      <td>None</td>\n",
       "      <td>2.0</td>\n",
       "      <td>(POLYGON ((19.65360832214355 54.45709228515631...</td>\n",
       "      <td>188</td>\n",
       "      <td>0.0</td>\n",
       "      <td>RUS</td>\n",
       "      <td>...</td>\n",
       "      <td>Eastern Europe</td>\n",
       "      <td>Europe</td>\n",
       "      <td>Unknown</td>\n",
       "      <td>Present</td>\n",
       "      <td>Soviet Union|Union of Soviet Socialist Republi...</td>\n",
       "      <td>Moderately indebted</td>\n",
       "      <td>Upper middle income</td>\n",
       "      <td>None</td>\n",
       "      <td>Europe &amp; Central Asia</td>\n",
       "      <td>None</td>\n",
       "    </tr>\n",
       "  </tbody>\n",
       "</table>\n",
       "<p>1 rows × 54 columns</p>\n",
       "</div>"
      ],
      "text/plain": [
       "         area_ha                                               bbox  \\\n",
       "47  1.692499e+09  {\"type\":\"Polygon\",\"coordinates\":[[[27.77343749...   \n",
       "\n",
       "    cartodb_id                                           centroid contains  \\\n",
       "47         188  {\"type\":\"Point\",\"coordinates\":[96.693836098041...     None   \n",
       "\n",
       "    developing                                           geometry  id_0  \\\n",
       "47         2.0  (POLYGON ((19.65360832214355 54.45709228515631...   188   \n",
       "\n",
       "    islands  iso  ...        unregion1  unregion2  validfr  validto  \\\n",
       "47      0.0  RUS  ...   Eastern Europe     Europe  Unknown  Present   \n",
       "\n",
       "                                            waspartof               wbdebt  \\\n",
       "47  Soviet Union|Union of Soviet Socialist Republi...  Moderately indebted   \n",
       "\n",
       "               wbincome wbother               wbregion   www  \n",
       "47  Upper middle income    None  Europe & Central Asia  None  \n",
       "\n",
       "[1 rows x 54 columns]"
      ]
     },
     "execution_count": 23,
     "metadata": {},
     "output_type": "execute_result"
    }
   ],
   "source": [
    "#Find Russia's Details\n",
    "ru_mask = original_gadm28['iso2'] == 'RU'\n",
    "original_gadm28[ru_mask]"
   ]
  },
  {
   "cell_type": "code",
   "execution_count": 24,
   "metadata": {},
   "outputs": [
    {
     "data": {
      "image/png": "[encoded data removed]",
      "text/plain": [
       "<matplotlib.figure.Figure at 0x7f454ed24518>"
      ]
     },
     "metadata": {},
     "output_type": "display_data"
    }
   ],
   "source": [
    "#Check to see if admin0 and admin1 shapes match with gadam28 shapes\n",
    "\n",
    "ru_mask = original_gadm28['iso2'] == 'RU'\n",
    "original_gadm28[ru_mask].geometry\n",
    "\n",
    "fig, ax = plt.subplots(figsize=[20,20])\n",
    "ax.set_aspect('equal')\n",
    "\n",
    "original_gadm28[ru_mask].geometry.plot(ax=ax)\n",
    "split_russia.plot(ax=ax, color='blue', alpha = 0.3)\n",
    "plt.xlim(30,100)\n",
    "plt.show()"
   ]
  },
  {
   "cell_type": "markdown",
   "metadata": {},
   "source": [
    "<a id=\"step3\"></a>\n",
    "## Add East- and West- Russia back to existing countries.\n",
    "\n",
    "Add the new shape files back to the original data, also removing unwanted columns, and cleaning data."
   ]
  },
  {
   "cell_type": "code",
   "execution_count": 25,
   "metadata": {
    "collapsed": true
   },
   "outputs": [],
   "source": [
    "#Split_Russia shapes need to be added back. \n",
    "#Note that they require the same keys as the other countries.\n",
    "\n",
    "tmp_data=[['Asia',split_russia.geometry.values[0],None,'XE',None],\n",
    "          ['Europe',split_russia.geometry.values[1],None,'XW',None]]\n",
    "\n",
    "cnames=['unregion2','geometry','name_engli','iso2','unregion1']\n",
    "\n",
    "new_russia = gpd.GeoDataFrame(tmp_data, columns=cnames)"
   ]
  },
  {
   "cell_type": "code",
   "execution_count": 26,
   "metadata": {},
   "outputs": [
    {
     "data": {
      "text/html": [
       "<div>\n",
       "<table border=\"1\" class=\"dataframe\">\n",
       "  <thead>\n",
       "    <tr style=\"text-align: right;\">\n",
       "      <th></th>\n",
       "      <th>geometry</th>\n",
       "      <th>iso2</th>\n",
       "      <th>name_engli</th>\n",
       "      <th>unregion1</th>\n",
       "      <th>unregion2</th>\n",
       "    </tr>\n",
       "  </thead>\n",
       "  <tbody>\n",
       "    <tr>\n",
       "      <th>253</th>\n",
       "      <td>(POLYGON ((23.06402778625488 -34.0409736633300...</td>\n",
       "      <td>ZA</td>\n",
       "      <td>South Africa</td>\n",
       "      <td>Southern Africa</td>\n",
       "      <td>Africa</td>\n",
       "    </tr>\n",
       "    <tr>\n",
       "      <th>254</th>\n",
       "      <td>(POLYGON ((124.476043701172 -9.174028396606216...</td>\n",
       "      <td>TL</td>\n",
       "      <td>East Timor</td>\n",
       "      <td>South-Eastern Asia</td>\n",
       "      <td>Asia</td>\n",
       "    </tr>\n",
       "    <tr>\n",
       "      <th>255</th>\n",
       "      <td>POLYGON ((32.95349884033232 -9.401408195495492...</td>\n",
       "      <td>ZM</td>\n",
       "      <td>Zambia</td>\n",
       "      <td>Eastern Africa</td>\n",
       "      <td>Africa</td>\n",
       "    </tr>\n",
       "    <tr>\n",
       "      <th>0</th>\n",
       "      <td>(POLYGON ((149.4458312988281 45.65000152587891...</td>\n",
       "      <td>XE</td>\n",
       "      <td>None</td>\n",
       "      <td>None</td>\n",
       "      <td>Asia</td>\n",
       "    </tr>\n",
       "    <tr>\n",
       "      <th>1</th>\n",
       "      <td>(POLYGON ((36.6490287780764 45.31486129760748,...</td>\n",
       "      <td>XW</td>\n",
       "      <td>None</td>\n",
       "      <td>None</td>\n",
       "      <td>Europe</td>\n",
       "    </tr>\n",
       "  </tbody>\n",
       "</table>\n",
       "</div>"
      ],
      "text/plain": [
       "                                              geometry iso2    name_engli  \\\n",
       "253  (POLYGON ((23.06402778625488 -34.0409736633300...   ZA  South Africa   \n",
       "254  (POLYGON ((124.476043701172 -9.174028396606216...   TL    East Timor   \n",
       "255  POLYGON ((32.95349884033232 -9.401408195495492...   ZM        Zambia   \n",
       "0    (POLYGON ((149.4458312988281 45.65000152587891...   XE          None   \n",
       "1    (POLYGON ((36.6490287780764 45.31486129760748,...   XW          None   \n",
       "\n",
       "              unregion1 unregion2  \n",
       "253     Southern Africa    Africa  \n",
       "254  South-Eastern Asia      Asia  \n",
       "255      Eastern Africa    Africa  \n",
       "0                  None      Asia  \n",
       "1                  None    Europe  "
      ]
     },
     "execution_count": 26,
     "metadata": {},
     "output_type": "execute_result"
    }
   ],
   "source": [
    "#Append New Russia shapes to existing countries\n",
    "\n",
    "new_countries = original_gadm28[[\"name_engli\",\"iso2\",\"unregion2\",'unregion1', 'geometry']].append(new_russia)\n",
    "new_countries.tail()"
   ]
  },
  {
   "cell_type": "code",
   "execution_count": 27,
   "metadata": {
    "collapsed": true
   },
   "outputs": [],
   "source": [
    "#remove Original Russia Shape from gadm28 countries (we dont need it twice!)\n",
    "russia_mask = original_gadm28['iso'] != 'RUS'\n",
    "original_gadm28 = original_gadm28[russia_mask]"
   ]
  },
  {
   "cell_type": "code",
   "execution_count": 28,
   "metadata": {
    "collapsed": true
   },
   "outputs": [],
   "source": [
    "#Rename iso2 for South Sudan, Kosovo, Northern Cyprus\n",
    "\n",
    "mask_ss = new_countries['name_engli'] == 'South Sudan'\n",
    "new_countries[mask_ss]\n",
    "\n",
    "new_countries['iso2'][155] = 'SS' "
   ]
  },
  {
   "cell_type": "code",
   "execution_count": 29,
   "metadata": {
    "collapsed": true
   },
   "outputs": [],
   "source": [
    "mask_ss = new_countries['name_engli'] == 'Northern Cyprus'\n",
    "new_countries[mask_ss]\n",
    "\n",
    "new_countries['iso2'][68] = 'XC' \n"
   ]
  },
  {
   "cell_type": "code",
   "execution_count": 30,
   "metadata": {
    "collapsed": true
   },
   "outputs": [],
   "source": [
    "mask_ss = new_countries['name_engli'] == 'Kosovo'\n",
    "new_countries[mask_ss]\n",
    "\n",
    "new_countries['iso2'][206] = 'XK' "
   ]
  },
  {
   "cell_type": "code",
   "execution_count": 31,
   "metadata": {
    "collapsed": true
   },
   "outputs": [],
   "source": [
    "#remove caspian... its not a country!\n",
    "caspian_mask = new_countries['name_engli'] != 'Caspian Sea'\n",
    "new_countries = new_countries[caspian_mask]"
   ]
  },
  {
   "cell_type": "markdown",
   "metadata": {},
   "source": [
    "<a id=\"step4\"></a>\n",
    "## Export and upload to [Mapshaper](http://mapshaper.org/)"
   ]
  },
  {
   "cell_type": "code",
   "execution_count": 32,
   "metadata": {
    "collapsed": true
   },
   "outputs": [],
   "source": [
    "#Make new directory and save new countryfile that includes Split Russia shapes (XE,XW)"
   ]
  },
  {
   "cell_type": "code",
   "execution_count": null,
   "metadata": {
    "collapsed": true
   },
   "outputs": [],
   "source": [
    "!mkdir ./data/new_countries"
   ]
  },
  {
   "cell_type": "code",
   "execution_count": null,
   "metadata": {
    "collapsed": true
   },
   "outputs": [],
   "source": [
    "new_countries.to_file(driver = 'ESRI Shapefile', filename = './data/new_countries/new_countries.shp')"
   ]
  },
  {
   "cell_type": "markdown",
   "metadata": {
    "collapsed": true
   },
   "source": [
    "- Zip the file\n",
    "- Upload to mapshaper using 'import'\n",
    "- Downscale using 'simplify'\n",
    "    * weighted area = 66%\n",
    "    * Take care not to oversimplify such that small islands are lost!\n",
    "- Export as Shapefile"
   ]
  },
  {
   "cell_type": "markdown",
   "metadata": {},
   "source": [
    "<a id=\"step5\"></a>\n",
    "# Mapshaper Reduced resolution Data After This Section\n",
    "\n",
    "\n",
    "## Country file\n",
    "\n",
    "Output js file with only countries of interest \n",
    "\n",
    "Country file: 'geometry', name_engli, iso2, unregion2 (these attributes are directly from the original GAM"
   ]
  },
  {
   "cell_type": "code",
   "execution_count": 33,
   "metadata": {
    "collapsed": true
   },
   "outputs": [],
   "source": [
    "#Read in simplified countries\n",
    "df_countries = gpd.read_file(\"./data/new_simplified_countries/new_simplified_countries.shp\")"
   ]
  },
  {
   "cell_type": "code",
   "execution_count": 34,
   "metadata": {},
   "outputs": [
    {
     "data": {
      "text/html": [
       "<div>\n",
       "<table border=\"1\" class=\"dataframe\">\n",
       "  <thead>\n",
       "    <tr style=\"text-align: right;\">\n",
       "      <th></th>\n",
       "      <th>geometry</th>\n",
       "      <th>iso2</th>\n",
       "      <th>name_engli</th>\n",
       "      <th>unregion1</th>\n",
       "      <th>unregion2</th>\n",
       "    </tr>\n",
       "  </thead>\n",
       "  <tbody>\n",
       "    <tr>\n",
       "      <th>0</th>\n",
       "      <td>(POLYGON ((15.72968769073498 68.97135162353516...</td>\n",
       "      <td>NO</td>\n",
       "      <td>Norway</td>\n",
       "      <td>Northern Europe</td>\n",
       "      <td>Europe</td>\n",
       "    </tr>\n",
       "    <tr>\n",
       "      <th>1</th>\n",
       "      <td>None</td>\n",
       "      <td>TK</td>\n",
       "      <td>Tokelau</td>\n",
       "      <td>Polynesia</td>\n",
       "      <td>Oceania</td>\n",
       "    </tr>\n",
       "    <tr>\n",
       "      <th>2</th>\n",
       "      <td>POLYGON ((100.0867691040041 20.35089111328153,...</td>\n",
       "      <td>TH</td>\n",
       "      <td>Thailand</td>\n",
       "      <td>South-Eastern Asia</td>\n",
       "      <td>Asia</td>\n",
       "    </tr>\n",
       "    <tr>\n",
       "      <th>3</th>\n",
       "      <td>POLYGON ((-59.98764038085931 8.53045463562006,...</td>\n",
       "      <td>VE</td>\n",
       "      <td>Venezuela</td>\n",
       "      <td>South America</td>\n",
       "      <td>Americas</td>\n",
       "    </tr>\n",
       "    <tr>\n",
       "      <th>4</th>\n",
       "      <td>POLYGON ((13.6345472335816 13.71068859100347, ...</td>\n",
       "      <td>NG</td>\n",
       "      <td>Nigeria</td>\n",
       "      <td>Western Africa</td>\n",
       "      <td>Africa</td>\n",
       "    </tr>\n",
       "  </tbody>\n",
       "</table>\n",
       "</div>"
      ],
      "text/plain": [
       "                                            geometry iso2 name_engli  \\\n",
       "0  (POLYGON ((15.72968769073498 68.97135162353516...   NO     Norway   \n",
       "1                                               None   TK    Tokelau   \n",
       "2  POLYGON ((100.0867691040041 20.35089111328153,...   TH   Thailand   \n",
       "3  POLYGON ((-59.98764038085931 8.53045463562006,...   VE  Venezuela   \n",
       "4  POLYGON ((13.6345472335816 13.71068859100347, ...   NG    Nigeria   \n",
       "\n",
       "            unregion1 unregion2  \n",
       "0     Northern Europe    Europe  \n",
       "1           Polynesia   Oceania  \n",
       "2  South-Eastern Asia      Asia  \n",
       "3       South America  Americas  \n",
       "4      Western Africa    Africa  "
      ]
     },
     "execution_count": 34,
     "metadata": {},
     "output_type": "execute_result"
    }
   ],
   "source": [
    "#Check contents\n",
    "df_countries.head()"
   ]
  },
  {
   "cell_type": "code",
   "execution_count": 35,
   "metadata": {
    "collapsed": true
   },
   "outputs": [],
   "source": [
    "#Combine XE and XW into RU"
   ]
  },
  {
   "cell_type": "code",
   "execution_count": 36,
   "metadata": {},
   "outputs": [
    {
     "name": "stderr",
     "output_type": "stream",
     "text": [
      "/opt/conda/lib/python3.5/site-packages/ipykernel/__main__.py:3: SettingWithCopyWarning: \n",
      "A value is trying to be set on a copy of a slice from a DataFrame.\n",
      "Try using .loc[row_indexer,col_indexer] = value instead\n",
      "\n",
      "See the caveats in the documentation: http://pandas.pydata.org/pandas-docs/stable/indexing.html#indexing-view-versus-copy\n",
      "  app.launch_new_instance()\n"
     ]
    }
   ],
   "source": [
    "#Crate new dataframe containing only east- and west-russia\n",
    "tmp_ew = df_countries[-2:]\n",
    "tmp_ew['GROUP'] = [1,1]"
   ]
  },
  {
   "cell_type": "code",
   "execution_count": 37,
   "metadata": {},
   "outputs": [
    {
     "data": {
      "text/html": [
       "<div>\n",
       "<table border=\"1\" class=\"dataframe\">\n",
       "  <thead>\n",
       "    <tr style=\"text-align: right;\">\n",
       "      <th></th>\n",
       "      <th>geometry</th>\n",
       "      <th>iso2</th>\n",
       "      <th>name_engli</th>\n",
       "      <th>unregion1</th>\n",
       "      <th>unregion2</th>\n",
       "      <th>GROUP</th>\n",
       "    </tr>\n",
       "  </thead>\n",
       "  <tbody>\n",
       "    <tr>\n",
       "      <th>254</th>\n",
       "      <td>(POLYGON ((142.7081604003906 54.42454910278326...</td>\n",
       "      <td>XE</td>\n",
       "      <td>None</td>\n",
       "      <td>None</td>\n",
       "      <td>Asia</td>\n",
       "      <td>1</td>\n",
       "    </tr>\n",
       "    <tr>\n",
       "      <th>255</th>\n",
       "      <td>(POLYGON ((22.76914024353056 54.37712860107422...</td>\n",
       "      <td>XW</td>\n",
       "      <td>None</td>\n",
       "      <td>None</td>\n",
       "      <td>Europe</td>\n",
       "      <td>1</td>\n",
       "    </tr>\n",
       "  </tbody>\n",
       "</table>\n",
       "</div>"
      ],
      "text/plain": [
       "                                              geometry iso2 name_engli  \\\n",
       "254  (POLYGON ((142.7081604003906 54.42454910278326...   XE       None   \n",
       "255  (POLYGON ((22.76914024353056 54.37712860107422...   XW       None   \n",
       "\n",
       "    unregion1 unregion2  GROUP  \n",
       "254      None      Asia      1  \n",
       "255      None    Europe      1  "
      ]
     },
     "execution_count": 37,
     "metadata": {},
     "output_type": "execute_result"
    }
   ],
   "source": [
    "tmp_ew"
   ]
  },
  {
   "cell_type": "code",
   "execution_count": 38,
   "metadata": {},
   "outputs": [
    {
     "data": {
      "text/html": [
       "<div>\n",
       "<table border=\"1\" class=\"dataframe\">\n",
       "  <thead>\n",
       "    <tr style=\"text-align: right;\">\n",
       "      <th></th>\n",
       "      <th>geometry</th>\n",
       "      <th>iso2</th>\n",
       "      <th>name_engli</th>\n",
       "      <th>unregion1</th>\n",
       "      <th>unregion2</th>\n",
       "    </tr>\n",
       "    <tr>\n",
       "      <th>GROUP</th>\n",
       "      <th></th>\n",
       "      <th></th>\n",
       "      <th></th>\n",
       "      <th></th>\n",
       "      <th></th>\n",
       "    </tr>\n",
       "  </thead>\n",
       "  <tbody>\n",
       "    <tr>\n",
       "      <th>1</th>\n",
       "      <td>(POLYGON ((164.5908355712893 59.23646545410156...</td>\n",
       "      <td>XE</td>\n",
       "      <td>None</td>\n",
       "      <td>None</td>\n",
       "      <td>Asia</td>\n",
       "    </tr>\n",
       "  </tbody>\n",
       "</table>\n",
       "</div>"
      ],
      "text/plain": [
       "                                                geometry iso2 name_engli  \\\n",
       "GROUP                                                                      \n",
       "1      (POLYGON ((164.5908355712893 59.23646545410156...   XE       None   \n",
       "\n",
       "      unregion1 unregion2  \n",
       "GROUP                      \n",
       "1          None      Asia  "
      ]
     },
     "execution_count": 38,
     "metadata": {},
     "output_type": "execute_result"
    }
   ],
   "source": [
    "#Create new Russia country shape by dissolving over common attribute 'GROUP' and check\n",
    "rus = tmp_ew.dissolve(by='GROUP')  \n",
    "rus"
   ]
  },
  {
   "cell_type": "code",
   "execution_count": 39,
   "metadata": {},
   "outputs": [
    {
     "data": {
      "text/html": [
       "<div>\n",
       "<table border=\"1\" class=\"dataframe\">\n",
       "  <thead>\n",
       "    <tr style=\"text-align: right;\">\n",
       "      <th></th>\n",
       "      <th>geometry</th>\n",
       "      <th>iso2</th>\n",
       "      <th>name_engli</th>\n",
       "      <th>unregion2</th>\n",
       "    </tr>\n",
       "  </thead>\n",
       "  <tbody>\n",
       "    <tr>\n",
       "      <th>0</th>\n",
       "      <td>(POLYGON ((164.5908355712893 59.23646545410156...</td>\n",
       "      <td>RU</td>\n",
       "      <td>Russia</td>\n",
       "      <td>Europe</td>\n",
       "    </tr>\n",
       "  </tbody>\n",
       "</table>\n",
       "</div>"
      ],
      "text/plain": [
       "                                            geometry iso2 name_engli unregion2\n",
       "0  (POLYGON ((164.5908355712893 59.23646545410156...   RU     Russia    Europe"
      ]
     },
     "execution_count": 39,
     "metadata": {},
     "output_type": "execute_result"
    }
   ],
   "source": [
    "#Create a new dataframe that is compatible with the other countries\n",
    "\n",
    "russia = gpd.GeoDataFrame([[rus.geometry.values[0],'RU', 'Russia', 'Europe']],\n",
    "                          columns=['geometry','iso2', 'name_engli','unregion2'])\n",
    "russia"
   ]
  },
  {
   "cell_type": "code",
   "execution_count": 40,
   "metadata": {
    "collapsed": true
   },
   "outputs": [],
   "source": [
    "#Drop unnecessary attribute column in df_countries\n",
    "df_countries = df_countries.drop(['unregion1'], axis=1)"
   ]
  },
  {
   "cell_type": "code",
   "execution_count": 41,
   "metadata": {
    "collapsed": true
   },
   "outputs": [],
   "source": [
    "#Drop East and West Russia from df_countries\n",
    "mask_ss = [iso not in ['XE','XW'] for iso in df_countries['iso2'] ]\n",
    "df_coun = df_countries[mask_ss]"
   ]
  },
  {
   "cell_type": "code",
   "execution_count": 42,
   "metadata": {},
   "outputs": [
    {
     "name": "stdout",
     "output_type": "stream",
     "text": [
      "254\n"
     ]
    },
    {
     "data": {
      "text/html": [
       "<div>\n",
       "<table border=\"1\" class=\"dataframe\">\n",
       "  <thead>\n",
       "    <tr style=\"text-align: right;\">\n",
       "      <th></th>\n",
       "      <th>geometry</th>\n",
       "      <th>iso2</th>\n",
       "      <th>name_engli</th>\n",
       "      <th>unregion2</th>\n",
       "    </tr>\n",
       "  </thead>\n",
       "  <tbody>\n",
       "    <tr>\n",
       "      <th>249</th>\n",
       "      <td>POLYGON ((16.58431243896484 46.47904968261724,...</td>\n",
       "      <td>SI</td>\n",
       "      <td>Slovenia</td>\n",
       "      <td>Europe</td>\n",
       "    </tr>\n",
       "    <tr>\n",
       "      <th>250</th>\n",
       "      <td>(POLYGON ((161.348617553711 -10.19083213806141...</td>\n",
       "      <td>SB</td>\n",
       "      <td>Solomon Islands</td>\n",
       "      <td>Oceania</td>\n",
       "    </tr>\n",
       "    <tr>\n",
       "      <th>251</th>\n",
       "      <td>POLYGON ((31.30727577209478 -22.42027664184553...</td>\n",
       "      <td>ZA</td>\n",
       "      <td>South Africa</td>\n",
       "      <td>Africa</td>\n",
       "    </tr>\n",
       "    <tr>\n",
       "      <th>252</th>\n",
       "      <td>(POLYGON ((124.476043701172 -9.174028396606216...</td>\n",
       "      <td>TL</td>\n",
       "      <td>East Timor</td>\n",
       "      <td>Asia</td>\n",
       "    </tr>\n",
       "    <tr>\n",
       "      <th>253</th>\n",
       "      <td>POLYGON ((32.95349884033232 -9.401408195495492...</td>\n",
       "      <td>ZM</td>\n",
       "      <td>Zambia</td>\n",
       "      <td>Africa</td>\n",
       "    </tr>\n",
       "  </tbody>\n",
       "</table>\n",
       "</div>"
      ],
      "text/plain": [
       "                                              geometry iso2       name_engli  \\\n",
       "249  POLYGON ((16.58431243896484 46.47904968261724,...   SI         Slovenia   \n",
       "250  (POLYGON ((161.348617553711 -10.19083213806141...   SB  Solomon Islands   \n",
       "251  POLYGON ((31.30727577209478 -22.42027664184553...   ZA     South Africa   \n",
       "252  (POLYGON ((124.476043701172 -9.174028396606216...   TL       East Timor   \n",
       "253  POLYGON ((32.95349884033232 -9.401408195495492...   ZM           Zambia   \n",
       "\n",
       "    unregion2  \n",
       "249    Europe  \n",
       "250   Oceania  \n",
       "251    Africa  \n",
       "252      Asia  \n",
       "253    Africa  "
      ]
     },
     "execution_count": 42,
     "metadata": {},
     "output_type": "execute_result"
    }
   ],
   "source": [
    "#Check they're removed\n",
    "print(len(df_coun))\n",
    "df_coun.tail()"
   ]
  },
  {
   "cell_type": "code",
   "execution_count": 43,
   "metadata": {},
   "outputs": [
    {
     "name": "stdout",
     "output_type": "stream",
     "text": [
      "255\n"
     ]
    },
    {
     "data": {
      "text/html": [
       "<div>\n",
       "<table border=\"1\" class=\"dataframe\">\n",
       "  <thead>\n",
       "    <tr style=\"text-align: right;\">\n",
       "      <th></th>\n",
       "      <th>geometry</th>\n",
       "      <th>iso2</th>\n",
       "      <th>name_engli</th>\n",
       "      <th>unregion2</th>\n",
       "    </tr>\n",
       "  </thead>\n",
       "  <tbody>\n",
       "    <tr>\n",
       "      <th>250</th>\n",
       "      <td>(POLYGON ((161.348617553711 -10.19083213806141...</td>\n",
       "      <td>SB</td>\n",
       "      <td>Solomon Islands</td>\n",
       "      <td>Oceania</td>\n",
       "    </tr>\n",
       "    <tr>\n",
       "      <th>251</th>\n",
       "      <td>POLYGON ((31.30727577209478 -22.42027664184553...</td>\n",
       "      <td>ZA</td>\n",
       "      <td>South Africa</td>\n",
       "      <td>Africa</td>\n",
       "    </tr>\n",
       "    <tr>\n",
       "      <th>252</th>\n",
       "      <td>(POLYGON ((124.476043701172 -9.174028396606216...</td>\n",
       "      <td>TL</td>\n",
       "      <td>East Timor</td>\n",
       "      <td>Asia</td>\n",
       "    </tr>\n",
       "    <tr>\n",
       "      <th>253</th>\n",
       "      <td>POLYGON ((32.95349884033232 -9.401408195495492...</td>\n",
       "      <td>ZM</td>\n",
       "      <td>Zambia</td>\n",
       "      <td>Africa</td>\n",
       "    </tr>\n",
       "    <tr>\n",
       "      <th>254</th>\n",
       "      <td>(POLYGON ((164.5908355712893 59.23646545410156...</td>\n",
       "      <td>RU</td>\n",
       "      <td>Russia</td>\n",
       "      <td>Europe</td>\n",
       "    </tr>\n",
       "  </tbody>\n",
       "</table>\n",
       "</div>"
      ],
      "text/plain": [
       "                                              geometry iso2       name_engli  \\\n",
       "250  (POLYGON ((161.348617553711 -10.19083213806141...   SB  Solomon Islands   \n",
       "251  POLYGON ((31.30727577209478 -22.42027664184553...   ZA     South Africa   \n",
       "252  (POLYGON ((124.476043701172 -9.174028396606216...   TL       East Timor   \n",
       "253  POLYGON ((32.95349884033232 -9.401408195495492...   ZM           Zambia   \n",
       "254  (POLYGON ((164.5908355712893 59.23646545410156...   RU           Russia   \n",
       "\n",
       "    unregion2  \n",
       "250   Oceania  \n",
       "251    Africa  \n",
       "252      Asia  \n",
       "253    Africa  \n",
       "254    Europe  "
      ]
     },
     "execution_count": 43,
     "metadata": {},
     "output_type": "execute_result"
    }
   ],
   "source": [
    "#Now replace Eat- and West-Russia with the unified Russia\n",
    "df_coun = df_coun.append(russia, ignore_index=True)\n",
    "\n",
    "print(len(df_coun))\n",
    "\n",
    "df_coun.tail()"
   ]
  },
  {
   "cell_type": "code",
   "execution_count": 44,
   "metadata": {},
   "outputs": [
    {
     "name": "stdout",
     "output_type": "stream",
     "text": [
      "None Clipperton Island\n",
      "None Paracel Islands\n",
      "None Saint-Martin\n",
      "None Spratly islands\n",
      "None Akrotiri and Dhekelia\n",
      "None Sint Maarten\n",
      "None Saint-Barthélemy\n",
      "None Curaçao\n"
     ]
    }
   ],
   "source": [
    "iso_present = []\n",
    "for n, iso in enumerate(df_coun['iso2']):\n",
    "    if iso == None:\n",
    "        print(df_coun['iso2'][n], df_coun['name_engli'][n])\n",
    "        iso_present.append(False)\n",
    "    else:\n",
    "        iso_present.append(True)\n",
    "\n",
    "# remove all rows without isos at this point"
   ]
  },
  {
   "cell_type": "code",
   "execution_count": 45,
   "metadata": {},
   "outputs": [
    {
     "data": {
      "text/plain": [
       "247"
      ]
     },
     "execution_count": 45,
     "metadata": {},
     "output_type": "execute_result"
    }
   ],
   "source": [
    "df_coun = df_coun[iso_present]\n",
    "len(df_coun)"
   ]
  },
  {
   "cell_type": "code",
   "execution_count": 46,
   "metadata": {},
   "outputs": [
    {
     "data": {
      "text/plain": [
       "array(['NO', 'TK', 'TH', 'VE', 'NG', 'AR', 'EH', 'NP', 'BR', 'FI', 'MC',\n",
       "       'ID', 'US', 'PG', 'AU', 'MY', 'CC', 'MX', 'CL', 'BD', 'SE', 'WF',\n",
       "       'CH', 'NF', 'BB', 'CA', 'IR', 'KR', 'LI', 'VN', 'CN', 'JP', 'NL',\n",
       "       'AD', 'PM', 'CD', 'DM', 'KN', 'IM', 'CU', 'TR', 'IN', 'GI', 'IT',\n",
       "       'GR', 'AI', 'AQ', 'SJ', 'MM', 'SM', 'IO', 'PH', 'VA', 'TN', 'GW',\n",
       "       'GU', 'HM', 'ZW', 'CX', 'MA', 'GF', 'PT', 'MD', 'XC', 'AE', 'YT',\n",
       "       'BV', 'NU', 'PK', 'AW', 'TZ', 'SA', 'GL', 'SC', 'LT', 'BO', 'SL',\n",
       "       'SV', 'GD', 'JE', 'TV', 'TO', 'EE', 'DK', 'LA', 'SR', 'CM', 'GG',\n",
       "       'FK', 'BG', 'KP', 'KH', 'SO', 'TG', 'MU', 'NE', 'SY', 'PL', 'NA',\n",
       "       'GS', 'BF', 'IQ', 'DJ', 'RO', 'AM', 'PS', 'GE', 'TT', 'LC', 'DZ',\n",
       "       'PR', 'LR', 'CG', 'RS', 'RE', 'BY', 'GQ', 'CF', 'AZ', 'KW', 'MW',\n",
       "       'AS', 'NR', 'AT', 'TC', 'JM', 'UG', 'TD', 'AN', 'AO', 'BZ', 'KY',\n",
       "       'AG', 'VC', 'UM', 'KG', 'LV', 'KE', 'HN', 'ER', 'MO', 'AF', 'LK',\n",
       "       'BH', 'BA', 'SS', 'GH', 'QA', 'BM', 'BW', 'HT', 'CR', 'SD', 'DO',\n",
       "       'KZ', 'EC', 'BJ', 'EG', 'NI', 'CV', 'GN', 'SN', 'AX', 'AL', 'GY',\n",
       "       'PY', 'VG', 'SK', 'BN', 'SZ', 'BI', 'FO', 'CZ', 'KM', 'CK', 'CI',\n",
       "       'CY', 'GM', 'PN', 'HR', 'SH', 'MT', 'MG', 'PE', 'MZ', 'IL', 'MS',\n",
       "       'CO', 'ET', 'TF', 'GA', 'OM', 'VI', 'DE', 'LU', 'MN', 'XK', 'TJ',\n",
       "       'GP', 'TM', 'BE', 'BT', 'ML', 'UZ', 'UA', 'FR', 'PF', 'GT', 'ME',\n",
       "       'HK', 'HU', 'IS', 'IE', 'BS', 'FJ', 'LB', 'JO', 'KI', 'GB', 'FM',\n",
       "       'UY', 'MK', 'LS', 'LY', 'MV', 'MH', 'MQ', 'MR', 'NC', 'NZ', 'PW',\n",
       "       'PA', 'VU', 'MP', 'YE', 'RW', 'WS', 'ST', 'TW', 'SG', 'ES', 'SI',\n",
       "       'SB', 'ZA', 'TL', 'ZM', 'RU'], dtype=object)"
      ]
     },
     "execution_count": 46,
     "metadata": {},
     "output_type": "execute_result"
    }
   ],
   "source": [
    "df_coun['iso2'].unique()  # check no 'none' values remain. Note RU for russia is added, and XW/XE removed"
   ]
  },
  {
   "cell_type": "markdown",
   "metadata": {},
   "source": [
    "<a id=\"#step7a\"></a>\n",
    "\n",
    "### Export Countries as a JSON"
   ]
  },
  {
   "cell_type": "code",
   "execution_count": null,
   "metadata": {
    "collapsed": true
   },
   "outputs": [],
   "source": [
    "# write out js file here\n",
    "countries_json = df_coun.to_json()\n",
    "\n",
    "with open('./data/gadm28_countries.js','w') as f:\n",
    "    f.write('var geoCountries = ')\n",
    "    f.write(countries_json)"
   ]
  },
  {
   "cell_type": "code",
   "execution_count": null,
   "metadata": {
    "collapsed": true
   },
   "outputs": [],
   "source": [
    "!ls ./data/gadm28_countries.js -lh"
   ]
  },
  {
   "cell_type": "markdown",
   "metadata": {},
   "source": [
    "<a id=\"step6\"></a>\n",
    "## Generate Continent file\n"
   ]
  },
  {
   "cell_type": "code",
   "execution_count": 47,
   "metadata": {
    "collapsed": true
   },
   "outputs": [],
   "source": [
    "#Again, read in simplified country shapes\n",
    "df_countries = gpd.read_file(\"./data/new_simplified_countries/new_simplified_countries.shp\")"
   ]
  },
  {
   "cell_type": "code",
   "execution_count": 48,
   "metadata": {},
   "outputs": [
    {
     "data": {
      "text/plain": [
       "(Country(name='Puerto Rico', alpha2='PR', alpha3='PRI', numeric='630', apolitical_name='Puerto Rico'),\n",
       " Country(name='Cuba', alpha2='CU', alpha3='CUB', numeric='192', apolitical_name='Cuba'),\n",
       " Country(name='Jamaica', alpha2='JM', alpha3='JAM', numeric='388', apolitical_name='Jamaica'),\n",
       " Country(name='Bahamas', alpha2='BS', alpha3='BHS', numeric='044', apolitical_name='Bahamas'),\n",
       " Country(name='Haiti', alpha2='HT', alpha3='HTI', numeric='332', apolitical_name='Haiti'),\n",
       " Country(name='Dominican Republic', alpha2='DO', alpha3='DOM', numeric='214', apolitical_name='Dominican Republic'),\n",
       " Country(name='Trinidad and Tobago', alpha2='TT', alpha3='TTO', numeric='780', apolitical_name='Trinidad and Tobago'))"
      ]
     },
     "execution_count": 48,
     "metadata": {},
     "output_type": "execute_result"
    }
   ],
   "source": [
    "#Add the following carribean countries visible on map to Central American Continent\n",
    "countries.get('Puerto Rico'), countries.get('Cuba'), countries.get('Jamaica'), countries.get('Bahamas'), countries.get('Haiti'), countries.get('Dominican Republic'), countries.get('Trinidad and Tobago')"
   ]
  },
  {
   "cell_type": "code",
   "execution_count": 49,
   "metadata": {
    "collapsed": true
   },
   "outputs": [],
   "source": [
    "#Create list iso2 codes\n",
    "\n",
    "C_to_c = {\"Africa\": [\"DZ\",\"AO\",\"BJ\",\"BW\",\"BF\",\"BI\",\"CM\",\"CV\",\"CF\",\"TD\",\"KM\",\"CD\",\"DJ\",\"GQ\",\"EG\",\"ER\",\"ET\",\n",
    "            \"GA\",\"GM\",\"GH\",\"GN\",\"GW\",\"CI\",\"KE\",\"LS\",\"LR\",\"LY\",\"MG\",\"MW\",\"ML\",\"MR\",\"MU\",\"YT\",\n",
    "            \"MA\",\"MZ\",\"NA\",\"NE\",\"NG\",\"CG\",\"RE\",\"RW\",\n",
    "            \"SH\",\"ST\",\"SN\",\"SC\",\"SL\",\"SO\",\"ZA\",\"SS\",\"SD\",\"SZ\",\"TZ\",\"TG\",\"TN\",\"UG\",\"EH\",\"ZM\",\"ZW\"],\n",
    " \"Asia\": [\"AF\",\"AM\",\"AZ\",\"BH\",\"BD\",\"BT\",\"IO\",\"BN\",\"KH\",\"CN\",\"CX\",\"CC\",\"CY\",\"TL\",\"GE\",\n",
    "          \"HK\",\"IN\",\"ID\",\"IR\",\"IQ\",\"IL\",\"JP\",\"JO\",\"KZ\",\"KW\",\"KG\",\"LA\",\"LB\",\"MO\",\"MY\",\"MV\",\n",
    "          \"MN\",\"MM\",\"NP\",\"KP\",\"OM\",\"PK\",\"PS\",\"PH\",\"QA\",\"SA\",\"SG\",\"KR\",\"LK\",\"SY\",\"TW\",\"TJ\",\"TH\",\n",
    "          \"TR\",\"TM\",\"AE\",\"UZ\",\"VN\",\"YE\",\"XE\",\"XC\"],\n",
    "\"Central America\": [\"BZ\",\"CR\",\"SV\",\"GT\",\"HN\",\"NI\",\"PA\",\"PR\",\"CU\",\"JM\",\"BS\",\"HT\",\"DO\",\"TT\"],\n",
    "\"Europe\": [\"AL\",\"AD\",\"AT\",\"BY\",\"BE\",\"BA\",\"BG\",\"XX\",\"HR\",\"CZ\",\"DK\",\"EE\",\"FO\",\"FI\",\"FR\",\"DE\",\n",
    "             \"GI\",\"GR\",\"HU\",\"IS\",\"IE\",\"IT\",\"XK\",\"LV\",\"LI\",\"LT\",\"LU\",\"MK\",\"MT\",\"MD\",\"MC\",\"ME\",\"NL\",\"NO\",\n",
    "             \"PL\",\"PT\",\"RO\",\"SM\",\"RS\",\"SK\",\"SI\",\"ES\",\"SJ\",\"SE\",\"CH\",\"UA\",\"GB\",\"VA\",\"XW\",\"XK\"],\n",
    "\"North America\": [\"BM\",\"CA\",\"GL\",\"MX\",\"PM\",\"US\"],\n",
    "\"Oceania\": [\"AS\",\"AU\",\"CK\",\"FJ\",\"PF\",\"GU\",\"KI\",\"MH\",\"FM\",\"NR\",\"NC\",\"NZ\",\"NU\",\"NF\",\"MP\",\n",
    " \"PW\",\"PG\",\"PN\",\"WS\",\"SB\",\"TK\",\"TO\",\"TV\",\"UM\",\"VU\",\"WF\"],\n",
    "\"South America\": [\"AR\",\"BO\",\"BR\",\"CL\",\"CO\",\"EC\",\"FK\",\"GF\",\"GY\",\"PY\",\"PE\",\"SR\",\"UY\",\"VE\"]}\n",
    "\n",
    "\n",
    "d = {}\n",
    "for key in C_to_c.keys():\n",
    "    for c in C_to_c[key]:\n",
    "        d[c] = key"
   ]
  },
  {
   "cell_type": "code",
   "execution_count": 50,
   "metadata": {},
   "outputs": [
    {
     "name": "stdout",
     "output_type": "stream",
     "text": [
      "True for CU\n",
      "True for TT\n",
      "True for PR\n",
      "True for JM\n",
      "True for HT\n",
      "True for DO\n",
      "True for BS\n"
     ]
    }
   ],
   "source": [
    "#Attribute a continent to a country that has none\n",
    "\n",
    "continent_id = []\n",
    "for n, iso in enumerate(df_countries.iso2):\n",
    "    try:\n",
    "        if iso in [\"PR\",\"CU\",\"JM\",\"BS\",\"HT\",\"DO\",\"TT\"]:\n",
    "            print('True for',iso)\n",
    "            #continent_id.append(\"North America\")\n",
    "            continent_id.append('Central America')\n",
    "        else:\n",
    "            continent_id.append(d[iso])\n",
    "    except:\n",
    "        continent_id.append(None)\n"
   ]
  },
  {
   "cell_type": "code",
   "execution_count": 51,
   "metadata": {
    "collapsed": true
   },
   "outputs": [],
   "source": [
    "#Print end needs attribute column called 'CONTINENT'"
   ]
  },
  {
   "cell_type": "code",
   "execution_count": 52,
   "metadata": {
    "scrolled": false
   },
   "outputs": [
    {
     "data": {
      "text/html": [
       "<div>\n",
       "<table border=\"1\" class=\"dataframe\">\n",
       "  <thead>\n",
       "    <tr style=\"text-align: right;\">\n",
       "      <th></th>\n",
       "      <th>geometry</th>\n",
       "      <th>iso2</th>\n",
       "      <th>name_engli</th>\n",
       "      <th>unregion1</th>\n",
       "      <th>unregion2</th>\n",
       "      <th>CONTINENT</th>\n",
       "    </tr>\n",
       "  </thead>\n",
       "  <tbody>\n",
       "    <tr>\n",
       "      <th>0</th>\n",
       "      <td>(POLYGON ((15.72968769073498 68.97135162353516...</td>\n",
       "      <td>NO</td>\n",
       "      <td>Norway</td>\n",
       "      <td>Northern Europe</td>\n",
       "      <td>Europe</td>\n",
       "      <td>Europe</td>\n",
       "    </tr>\n",
       "    <tr>\n",
       "      <th>1</th>\n",
       "      <td>None</td>\n",
       "      <td>TK</td>\n",
       "      <td>Tokelau</td>\n",
       "      <td>Polynesia</td>\n",
       "      <td>Oceania</td>\n",
       "      <td>Oceania</td>\n",
       "    </tr>\n",
       "    <tr>\n",
       "      <th>2</th>\n",
       "      <td>POLYGON ((100.0867691040041 20.35089111328153,...</td>\n",
       "      <td>TH</td>\n",
       "      <td>Thailand</td>\n",
       "      <td>South-Eastern Asia</td>\n",
       "      <td>Asia</td>\n",
       "      <td>Asia</td>\n",
       "    </tr>\n",
       "    <tr>\n",
       "      <th>3</th>\n",
       "      <td>POLYGON ((-59.98764038085931 8.53045463562006,...</td>\n",
       "      <td>VE</td>\n",
       "      <td>Venezuela</td>\n",
       "      <td>South America</td>\n",
       "      <td>Americas</td>\n",
       "      <td>South America</td>\n",
       "    </tr>\n",
       "    <tr>\n",
       "      <th>4</th>\n",
       "      <td>POLYGON ((13.6345472335816 13.71068859100347, ...</td>\n",
       "      <td>NG</td>\n",
       "      <td>Nigeria</td>\n",
       "      <td>Western Africa</td>\n",
       "      <td>Africa</td>\n",
       "      <td>Africa</td>\n",
       "    </tr>\n",
       "  </tbody>\n",
       "</table>\n",
       "</div>"
      ],
      "text/plain": [
       "                                            geometry iso2 name_engli  \\\n",
       "0  (POLYGON ((15.72968769073498 68.97135162353516...   NO     Norway   \n",
       "1                                               None   TK    Tokelau   \n",
       "2  POLYGON ((100.0867691040041 20.35089111328153,...   TH   Thailand   \n",
       "3  POLYGON ((-59.98764038085931 8.53045463562006,...   VE  Venezuela   \n",
       "4  POLYGON ((13.6345472335816 13.71068859100347, ...   NG    Nigeria   \n",
       "\n",
       "            unregion1 unregion2      CONTINENT  \n",
       "0     Northern Europe    Europe         Europe  \n",
       "1           Polynesia   Oceania        Oceania  \n",
       "2  South-Eastern Asia      Asia           Asia  \n",
       "3       South America  Americas  South America  \n",
       "4      Western Africa    Africa         Africa  "
      ]
     },
     "execution_count": 52,
     "metadata": {},
     "output_type": "execute_result"
    }
   ],
   "source": [
    "df_countries['CONTINENT'] = continent_id\n",
    "df_countries.head() #[np.array(continent_id) == None]"
   ]
  },
  {
   "cell_type": "code",
   "execution_count": 53,
   "metadata": {},
   "outputs": [
    {
     "data": {
      "text/plain": [
       "(256, 256)"
      ]
     },
     "execution_count": 53,
     "metadata": {},
     "output_type": "execute_result"
    }
   ],
   "source": [
    "#Check no. of countries\n",
    "len(continent_id),len(df_countries)"
   ]
  },
  {
   "cell_type": "code",
   "execution_count": 54,
   "metadata": {
    "collapsed": true
   },
   "outputs": [],
   "source": [
    "#Remove countries with no continent\n",
    "mask_out_nones = df_countries['CONTINENT'] != None\n",
    "tmp_ = df_countries[mask_out_nones]"
   ]
  },
  {
   "cell_type": "code",
   "execution_count": 55,
   "metadata": {},
   "outputs": [
    {
     "data": {
      "text/html": [
       "<div>\n",
       "<table border=\"1\" class=\"dataframe\">\n",
       "  <thead>\n",
       "    <tr style=\"text-align: right;\">\n",
       "      <th></th>\n",
       "      <th>geometry</th>\n",
       "      <th>iso2</th>\n",
       "      <th>name_engli</th>\n",
       "      <th>unregion1</th>\n",
       "      <th>unregion2</th>\n",
       "      <th>CONTINENT</th>\n",
       "    </tr>\n",
       "  </thead>\n",
       "  <tbody>\n",
       "    <tr>\n",
       "      <th>0</th>\n",
       "      <td>(POLYGON ((15.72968769073498 68.97135162353516...</td>\n",
       "      <td>NO</td>\n",
       "      <td>Norway</td>\n",
       "      <td>Northern Europe</td>\n",
       "      <td>Europe</td>\n",
       "      <td>Europe</td>\n",
       "    </tr>\n",
       "    <tr>\n",
       "      <th>2</th>\n",
       "      <td>POLYGON ((100.0867691040041 20.35089111328153,...</td>\n",
       "      <td>TH</td>\n",
       "      <td>Thailand</td>\n",
       "      <td>South-Eastern Asia</td>\n",
       "      <td>Asia</td>\n",
       "      <td>Asia</td>\n",
       "    </tr>\n",
       "    <tr>\n",
       "      <th>3</th>\n",
       "      <td>POLYGON ((-59.98764038085931 8.53045463562006,...</td>\n",
       "      <td>VE</td>\n",
       "      <td>Venezuela</td>\n",
       "      <td>South America</td>\n",
       "      <td>Americas</td>\n",
       "      <td>South America</td>\n",
       "    </tr>\n",
       "    <tr>\n",
       "      <th>4</th>\n",
       "      <td>POLYGON ((13.6345472335816 13.71068859100347, ...</td>\n",
       "      <td>NG</td>\n",
       "      <td>Nigeria</td>\n",
       "      <td>Western Africa</td>\n",
       "      <td>Africa</td>\n",
       "      <td>Africa</td>\n",
       "    </tr>\n",
       "    <tr>\n",
       "      <th>5</th>\n",
       "      <td>(POLYGON ((-68.61051177978516 -54.894306182861...</td>\n",
       "      <td>AR</td>\n",
       "      <td>Argentina</td>\n",
       "      <td>South America</td>\n",
       "      <td>Americas</td>\n",
       "      <td>South America</td>\n",
       "    </tr>\n",
       "  </tbody>\n",
       "</table>\n",
       "</div>"
      ],
      "text/plain": [
       "                                            geometry iso2 name_engli  \\\n",
       "0  (POLYGON ((15.72968769073498 68.97135162353516...   NO     Norway   \n",
       "2  POLYGON ((100.0867691040041 20.35089111328153,...   TH   Thailand   \n",
       "3  POLYGON ((-59.98764038085931 8.53045463562006,...   VE  Venezuela   \n",
       "4  POLYGON ((13.6345472335816 13.71068859100347, ...   NG    Nigeria   \n",
       "5  (POLYGON ((-68.61051177978516 -54.894306182861...   AR  Argentina   \n",
       "\n",
       "            unregion1 unregion2      CONTINENT  \n",
       "0     Northern Europe    Europe         Europe  \n",
       "2  South-Eastern Asia      Asia           Asia  \n",
       "3       South America  Americas  South America  \n",
       "4      Western Africa    Africa         Africa  \n",
       "5       South America  Americas  South America  "
      ]
     },
     "execution_count": 55,
     "metadata": {},
     "output_type": "execute_result"
    }
   ],
   "source": [
    "#Remove countries with no geometry\n",
    "mask_for_geoms = [geom != None for geom in tmp_.geometry.values]\n",
    "tmp_2 = tmp_[mask_for_geoms]\n",
    "tmp_2.head()"
   ]
  },
  {
   "cell_type": "code",
   "execution_count": 56,
   "metadata": {
    "scrolled": true
   },
   "outputs": [
    {
     "data": {
      "text/html": [
       "<div>\n",
       "<table border=\"1\" class=\"dataframe\">\n",
       "  <thead>\n",
       "    <tr style=\"text-align: right;\">\n",
       "      <th></th>\n",
       "      <th>geometry</th>\n",
       "      <th>iso2</th>\n",
       "      <th>name_engli</th>\n",
       "      <th>unregion1</th>\n",
       "      <th>unregion2</th>\n",
       "    </tr>\n",
       "    <tr>\n",
       "      <th>CONTINENT</th>\n",
       "      <th></th>\n",
       "      <th></th>\n",
       "      <th></th>\n",
       "      <th></th>\n",
       "      <th></th>\n",
       "    </tr>\n",
       "  </thead>\n",
       "  <tbody>\n",
       "    <tr>\n",
       "      <th>Africa</th>\n",
       "      <td>(POLYGON ((57.61097335815452 -19.9809703826903...</td>\n",
       "      <td>NG</td>\n",
       "      <td>Nigeria</td>\n",
       "      <td>Western Africa</td>\n",
       "      <td>Africa</td>\n",
       "    </tr>\n",
       "    <tr>\n",
       "      <th>Asia</th>\n",
       "      <td>(POLYGON ((119.934997558594 -9.275830268859863...</td>\n",
       "      <td>TH</td>\n",
       "      <td>Thailand</td>\n",
       "      <td>South-Eastern Asia</td>\n",
       "      <td>Asia</td>\n",
       "    </tr>\n",
       "    <tr>\n",
       "      <th>Central America</th>\n",
       "      <td>(POLYGON ((-60.93902587890619 10.8443069458007...</td>\n",
       "      <td>CU</td>\n",
       "      <td>Cuba</td>\n",
       "      <td>Caribbean</td>\n",
       "      <td>Americas</td>\n",
       "    </tr>\n",
       "    <tr>\n",
       "      <th>Europe</th>\n",
       "      <td>(POLYGON ((-15.41930484771729 28.1820831298831...</td>\n",
       "      <td>NO</td>\n",
       "      <td>Norway</td>\n",
       "      <td>Northern Europe</td>\n",
       "      <td>Europe</td>\n",
       "    </tr>\n",
       "    <tr>\n",
       "      <th>North America</th>\n",
       "      <td>(POLYGON ((-157.9833374023436 21.7111110687258...</td>\n",
       "      <td>US</td>\n",
       "      <td>United States</td>\n",
       "      <td>Northern America</td>\n",
       "      <td>Americas</td>\n",
       "    </tr>\n",
       "  </tbody>\n",
       "</table>\n",
       "</div>"
      ],
      "text/plain": [
       "                                                          geometry iso2  \\\n",
       "CONTINENT                                                                 \n",
       "Africa           (POLYGON ((57.61097335815452 -19.9809703826903...   NG   \n",
       "Asia             (POLYGON ((119.934997558594 -9.275830268859863...   TH   \n",
       "Central America  (POLYGON ((-60.93902587890619 10.8443069458007...   CU   \n",
       "Europe           (POLYGON ((-15.41930484771729 28.1820831298831...   NO   \n",
       "North America    (POLYGON ((-157.9833374023436 21.7111110687258...   US   \n",
       "\n",
       "                    name_engli           unregion1 unregion2  \n",
       "CONTINENT                                                     \n",
       "Africa                 Nigeria      Western Africa    Africa  \n",
       "Asia                  Thailand  South-Eastern Asia      Asia  \n",
       "Central America           Cuba           Caribbean  Americas  \n",
       "Europe                  Norway     Northern Europe    Europe  \n",
       "North America    United States    Northern America  Americas  "
      ]
     },
     "execution_count": 56,
     "metadata": {},
     "output_type": "execute_result"
    }
   ],
   "source": [
    "# rough example of the concept necessary to build the continents from the country file:\n",
    "# Way of creating a copy of a dataframe and reducing the columns present, then show how to unify by a column\n",
    "\n",
    "continents = tmp_2.dissolve(by='CONTINENT')  # joining shapes based on an attribute column - can make this a country shape thing\n",
    "continents.head()"
   ]
  },
  {
   "cell_type": "code",
   "execution_count": 57,
   "metadata": {},
   "outputs": [
    {
     "data": {
      "text/plain": [
       "<matplotlib.axes._subplots.AxesSubplot at 0x7f4546690470>"
      ]
     },
     "execution_count": 57,
     "metadata": {},
     "output_type": "execute_result"
    },
    {
     "data": {
      "image/png": "[encoded data removed]",
      "text/plain": [
       "<matplotlib.figure.Figure at 0x7f45467ef898>"
      ]
     },
     "metadata": {},
     "output_type": "display_data"
    }
   ],
   "source": [
    "#check that the continents look correct!\n",
    "continents.plot(figsize=(20,20))"
   ]
  },
  {
   "cell_type": "code",
   "execution_count": 58,
   "metadata": {
    "collapsed": true
   },
   "outputs": [],
   "source": [
    "#Now put the continent data into an appropriate data structure\n",
    "\n",
    "continent_for_output = gpd.GeoDataFrame(continents.index.values, columns=['CONTINENT'],\n",
    "                                        geometry=continents.geometry.values)"
   ]
  },
  {
   "cell_type": "code",
   "execution_count": 59,
   "metadata": {},
   "outputs": [
    {
     "data": {
      "text/html": [
       "<div>\n",
       "<table border=\"1\" class=\"dataframe\">\n",
       "  <thead>\n",
       "    <tr style=\"text-align: right;\">\n",
       "      <th></th>\n",
       "      <th>CONTINENT</th>\n",
       "      <th>geometry</th>\n",
       "    </tr>\n",
       "  </thead>\n",
       "  <tbody>\n",
       "    <tr>\n",
       "      <th>0</th>\n",
       "      <td>Africa</td>\n",
       "      <td>(POLYGON ((57.61097335815452 -19.9809703826903...</td>\n",
       "    </tr>\n",
       "    <tr>\n",
       "      <th>1</th>\n",
       "      <td>Asia</td>\n",
       "      <td>(POLYGON ((119.934997558594 -9.275830268859863...</td>\n",
       "    </tr>\n",
       "    <tr>\n",
       "      <th>2</th>\n",
       "      <td>Central America</td>\n",
       "      <td>(POLYGON ((-60.93902587890619 10.8443069458007...</td>\n",
       "    </tr>\n",
       "    <tr>\n",
       "      <th>3</th>\n",
       "      <td>Europe</td>\n",
       "      <td>(POLYGON ((-15.41930484771729 28.1820831298831...</td>\n",
       "    </tr>\n",
       "    <tr>\n",
       "      <th>4</th>\n",
       "      <td>North America</td>\n",
       "      <td>(POLYGON ((-157.9833374023436 21.7111110687258...</td>\n",
       "    </tr>\n",
       "    <tr>\n",
       "      <th>5</th>\n",
       "      <td>Oceania</td>\n",
       "      <td>(POLYGON ((167.8694458007813 -46.6836128234862...</td>\n",
       "    </tr>\n",
       "    <tr>\n",
       "      <th>6</th>\n",
       "      <td>South America</td>\n",
       "      <td>(POLYGON ((-68.70249938964821 -55.149307250976...</td>\n",
       "    </tr>\n",
       "  </tbody>\n",
       "</table>\n",
       "</div>"
      ],
      "text/plain": [
       "         CONTINENT                                           geometry\n",
       "0           Africa  (POLYGON ((57.61097335815452 -19.9809703826903...\n",
       "1             Asia  (POLYGON ((119.934997558594 -9.275830268859863...\n",
       "2  Central America  (POLYGON ((-60.93902587890619 10.8443069458007...\n",
       "3           Europe  (POLYGON ((-15.41930484771729 28.1820831298831...\n",
       "4    North America  (POLYGON ((-157.9833374023436 21.7111110687258...\n",
       "5          Oceania  (POLYGON ((167.8694458007813 -46.6836128234862...\n",
       "6    South America  (POLYGON ((-68.70249938964821 -55.149307250976..."
      ]
     },
     "execution_count": 59,
     "metadata": {},
     "output_type": "execute_result"
    }
   ],
   "source": [
    "#Add centroid and zoom attributes\n",
    "continent_for_output"
   ]
  },
  {
   "cell_type": "code",
   "execution_count": 60,
   "metadata": {},
   "outputs": [
    {
     "data": {
      "text/plain": [
       "[[18.28460154096003, 6.430399240054449],\n",
       " [95.63247231666449, 45.34251404523374],\n",
       " [-82.9562550907045, 15.20239321094113],\n",
       " [28.076526846466454, 55.799638688178504],\n",
       " [-92.46111753951266, 57.24275592459956],\n",
       " [136.57919586132738, -25.38548872902159],\n",
       " [-60.74598208384878, -15.071475436130527]]"
      ]
     },
     "execution_count": 60,
     "metadata": {},
     "output_type": "execute_result"
    }
   ],
   "source": [
    "#Create a list of centroids for each continent\n",
    "\n",
    "continent_coords = continent_for_output.geometry.centroid\n",
    "tmp_coords = []\n",
    "for centroid in continent_coords:\n",
    "    tmp_coords.append([centroid.xy[0][0], centroid.xy[1][0]])\n",
    "tmp_coords"
   ]
  },
  {
   "cell_type": "code",
   "execution_count": 61,
   "metadata": {},
   "outputs": [
    {
     "data": {
      "text/html": [
       "<div>\n",
       "<table border=\"1\" class=\"dataframe\">\n",
       "  <thead>\n",
       "    <tr style=\"text-align: right;\">\n",
       "      <th></th>\n",
       "      <th>CONTINENT</th>\n",
       "      <th>geometry</th>\n",
       "      <th>centroid</th>\n",
       "      <th>zoom</th>\n",
       "    </tr>\n",
       "  </thead>\n",
       "  <tbody>\n",
       "    <tr>\n",
       "      <th>0</th>\n",
       "      <td>Africa</td>\n",
       "      <td>(POLYGON ((57.61097335815452 -19.9809703826903...</td>\n",
       "      <td>[18.28460154096003, 6.430399240054449]</td>\n",
       "      <td>3</td>\n",
       "    </tr>\n",
       "    <tr>\n",
       "      <th>1</th>\n",
       "      <td>Asia</td>\n",
       "      <td>(POLYGON ((119.934997558594 -9.275830268859863...</td>\n",
       "      <td>[95.63247231666449, 45.34251404523374]</td>\n",
       "      <td>3</td>\n",
       "    </tr>\n",
       "    <tr>\n",
       "      <th>2</th>\n",
       "      <td>Central America</td>\n",
       "      <td>(POLYGON ((-60.93902587890619 10.8443069458007...</td>\n",
       "      <td>[-82.9562550907045, 15.20239321094113]</td>\n",
       "      <td>4</td>\n",
       "    </tr>\n",
       "    <tr>\n",
       "      <th>3</th>\n",
       "      <td>Europe</td>\n",
       "      <td>(POLYGON ((-15.41930484771729 28.1820831298831...</td>\n",
       "      <td>[28.076526846466454, 55.799638688178504]</td>\n",
       "      <td>3</td>\n",
       "    </tr>\n",
       "    <tr>\n",
       "      <th>4</th>\n",
       "      <td>North America</td>\n",
       "      <td>(POLYGON ((-157.9833374023436 21.7111110687258...</td>\n",
       "      <td>[-92.46111753951266, 57.24275592459956]</td>\n",
       "      <td>3</td>\n",
       "    </tr>\n",
       "    <tr>\n",
       "      <th>5</th>\n",
       "      <td>Oceania</td>\n",
       "      <td>(POLYGON ((167.8694458007813 -46.6836128234862...</td>\n",
       "      <td>[136.57919586132738, -25.38548872902159]</td>\n",
       "      <td>5</td>\n",
       "    </tr>\n",
       "    <tr>\n",
       "      <th>6</th>\n",
       "      <td>South America</td>\n",
       "      <td>(POLYGON ((-68.70249938964821 -55.149307250976...</td>\n",
       "      <td>[-60.74598208384878, -15.071475436130527]</td>\n",
       "      <td>4</td>\n",
       "    </tr>\n",
       "  </tbody>\n",
       "</table>\n",
       "</div>"
      ],
      "text/plain": [
       "         CONTINENT                                           geometry  \\\n",
       "0           Africa  (POLYGON ((57.61097335815452 -19.9809703826903...   \n",
       "1             Asia  (POLYGON ((119.934997558594 -9.275830268859863...   \n",
       "2  Central America  (POLYGON ((-60.93902587890619 10.8443069458007...   \n",
       "3           Europe  (POLYGON ((-15.41930484771729 28.1820831298831...   \n",
       "4    North America  (POLYGON ((-157.9833374023436 21.7111110687258...   \n",
       "5          Oceania  (POLYGON ((167.8694458007813 -46.6836128234862...   \n",
       "6    South America  (POLYGON ((-68.70249938964821 -55.149307250976...   \n",
       "\n",
       "                                    centroid  zoom  \n",
       "0     [18.28460154096003, 6.430399240054449]     3  \n",
       "1     [95.63247231666449, 45.34251404523374]     3  \n",
       "2     [-82.9562550907045, 15.20239321094113]     4  \n",
       "3   [28.076526846466454, 55.799638688178504]     3  \n",
       "4    [-92.46111753951266, 57.24275592459956]     3  \n",
       "5   [136.57919586132738, -25.38548872902159]     5  \n",
       "6  [-60.74598208384878, -15.071475436130527]     4  "
      ]
     },
     "execution_count": 61,
     "metadata": {},
     "output_type": "execute_result"
    }
   ],
   "source": [
    "#Add columns to continent dataframe. Note that zoom levels are chosen so that the continent fits the screen\n",
    "\n",
    "continent_for_output['centroid'] = tmp_coords\n",
    "continent_for_output['zoom'] = [3,3,4,3,3,5,4]\n",
    "\n",
    "continent_for_output"
   ]
  },
  {
   "cell_type": "markdown",
   "metadata": {},
   "source": [
    "<a id=\"#step7b\"></a>\n",
    "\n",
    "### Export Continents as a JSON"
   ]
  },
  {
   "cell_type": "code",
   "execution_count": null,
   "metadata": {
    "collapsed": true
   },
   "outputs": [],
   "source": [
    "continent_json = continent_for_output.to_json()\n",
    "\n",
    "with open('./data/continent.js','w') as f:\n",
    "    f.write('var geoContinents = ')\n",
    "    f.write(continent_json)"
   ]
  },
  {
   "cell_type": "code",
   "execution_count": null,
   "metadata": {
    "collapsed": true
   },
   "outputs": [],
   "source": [
    "!ls ./data/continent.js -lrth"
   ]
  },
  {
   "cell_type": "markdown",
   "metadata": {},
   "source": [
    "<a id=\"update1\"></a>\n",
    "\n",
    "# <font color=red>UPDATE: Climate Watch - Splitting Country Shapes, the quick way!</font>\n",
    "\n",
    "In the [Climate Watch project](https://climate-watch.vizzuality.com/countries) Morocco does not show the disputed border with Western Sahara. \n",
    "\n",
    "It is required to split Morocco into two countries: Morocco (in the north) & Western Sahara (in the south)\n",
    "\n",
    "**NOTE: This employs a new procedure from the shapely library to split shapes directly which may be useful in future projects!**\n",
    "\n",
    "## Procedure\n",
    "\n",
    "1. Read in disputed borders and country files from [wri repo](https://github.com/wri/wri-bounds)\n",
    "2. Isolate Morocco Shapefile (Polygon) and the Morocco-Western Sahara border (Line) from their respective GeoSeries.\n",
    "3. Use these to split Morocco's shape into the two countries.\n",
    "4. Delete the old morocco shapefile from\n",
    "5. Add the new shapes to a modified version of the countries shapefile and export as a shapefile. Also, at this stage:\n",
    "    - remove unwanted attrbutes (only geometry, formal_nam and iso_a3 required)\n",
    "    - clean data of unneeded countries (Antarctica)\n",
    "    - clean data of countries with erroneous iso codes (i.e. '', '-99')\n",
    "    - rename columns to match source data (name, id)\n",
    "6. Upload the exported shapefile to [MapShaper](http://mapshaper.org/) and simplify the polygons to the desired level (6% so that islands are not lost), export the simplified data as a topoJson.\n",
    "7. Test and give to front end team!\n",
    "\n",
    "\n",
    "### Resources\n",
    "\n",
    "* [Climate Watch](https://climate-watch.vizzuality.com/countries)\n",
    "* [wri repo](https://github.com/wri/wri-bounds), where disputed borders and country shapes are found\n",
    "* [Original countries data from climate watch repo](https://github.com/Vizzuality/climate-watch/blob/develop/app/javascript/app/data/world-50m-topo.json)\n",
    "* [MapShaper](http://mapshaper.org/)\n",
    "\n",
    "\n",
    "#### Further Bugs\n",
    "\n",
    "1. TopoJSON export in MapShaper seems to have a different structure to the original data. Nesting 'id' and 'name' at different levels\n",
    "2. ~~Some Countries have unexpected 'iso_a3' values~~\n",
    "3. ~~File is heavy!~~\n",
    "\n",
    "\n",
    "## Steps"
   ]
  },
  {
   "cell_type": "code",
   "execution_count": 3,
   "metadata": {
    "collapsed": true
   },
   "outputs": [],
   "source": [
    "#Import libs\n",
    "import geopandas as gpd\n",
    "import numpy as np\n",
    "from iso3166 import countries \n",
    "import matplotlib.pyplot as plt\n",
    "from shapely.ops import linemerge, unary_union, polygonize\n",
    "\n",
    "%matplotlib inline"
   ]
  },
  {
   "cell_type": "code",
   "execution_count": 5,
   "metadata": {
    "collapsed": true
   },
   "outputs": [],
   "source": [
    "#Download Border and Boundaries from https://github.com/wri/wri-bounds"
   ]
  },
  {
   "cell_type": "code",
   "execution_count": 6,
   "metadata": {
    "collapsed": true
   },
   "outputs": [],
   "source": [
    "#After unzipping read in both files\n",
    "countries = gpd.read_file('./data/all_countries/all_countries.shp')\n",
    "boundaries = gpd.read_file('./data/intl_disputed_boundaries/intl_disputed_boundaries.shp')"
   ]
  },
  {
   "cell_type": "code",
   "execution_count": 7,
   "metadata": {},
   "outputs": [
    {
     "data": {
      "text/html": [
       "<div>\n",
       "<style>\n",
       "    .dataframe thead tr:only-child th {\n",
       "        text-align: right;\n",
       "    }\n",
       "\n",
       "    .dataframe thead th {\n",
       "        text-align: left;\n",
       "    }\n",
       "\n",
       "    .dataframe tbody tr th {\n",
       "        vertical-align: top;\n",
       "    }\n",
       "</style>\n",
       "<table border=\"1\" class=\"dataframe\">\n",
       "  <thead>\n",
       "    <tr style=\"text-align: right;\">\n",
       "      <th></th>\n",
       "      <th>CHN</th>\n",
       "      <th>IND</th>\n",
       "      <th>INTL</th>\n",
       "      <th>LA3</th>\n",
       "      <th>LBR</th>\n",
       "      <th>LN</th>\n",
       "      <th>RA3</th>\n",
       "      <th>RBR</th>\n",
       "      <th>RN</th>\n",
       "      <th>geometry</th>\n",
       "    </tr>\n",
       "  </thead>\n",
       "  <tbody>\n",
       "    <tr>\n",
       "      <th>0</th>\n",
       "      <td>2</td>\n",
       "      <td>2</td>\n",
       "      <td>2</td>\n",
       "      <td>AZE</td>\n",
       "      <td></td>\n",
       "      <td></td>\n",
       "      <td>AZE</td>\n",
       "      <td>B38</td>\n",
       "      <td>Self admin.; Claimed by Azer.</td>\n",
       "      <td>LINESTRING (47.32441724900008 39.4058766760000...</td>\n",
       "    </tr>\n",
       "    <tr>\n",
       "      <th>1</th>\n",
       "      <td>1</td>\n",
       "      <td>1</td>\n",
       "      <td>2</td>\n",
       "      <td>BTN</td>\n",
       "      <td></td>\n",
       "      <td></td>\n",
       "      <td>IND</td>\n",
       "      <td>B00</td>\n",
       "      <td>Admin. by India; Claimed by China</td>\n",
       "      <td>LINESTRING (91.63288700400003 27.7594436650000...</td>\n",
       "    </tr>\n",
       "    <tr>\n",
       "      <th>2</th>\n",
       "      <td>1</td>\n",
       "      <td>2</td>\n",
       "      <td>2</td>\n",
       "      <td>BTN</td>\n",
       "      <td></td>\n",
       "      <td></td>\n",
       "      <td>BTN</td>\n",
       "      <td>B75</td>\n",
       "      <td>Admin. by Bhutan; Claimed by China</td>\n",
       "      <td>LINESTRING (89.79604821800007 28.2401895150000...</td>\n",
       "    </tr>\n",
       "    <tr>\n",
       "      <th>3</th>\n",
       "      <td>0</td>\n",
       "      <td>1</td>\n",
       "      <td>2</td>\n",
       "      <td>CHN</td>\n",
       "      <td></td>\n",
       "      <td></td>\n",
       "      <td>IND</td>\n",
       "      <td>B00</td>\n",
       "      <td>Admin. by India; Claimed by China</td>\n",
       "      <td>LINESTRING (97.3234957280001 28.21747772300013...</td>\n",
       "    </tr>\n",
       "    <tr>\n",
       "      <th>4</th>\n",
       "      <td>0</td>\n",
       "      <td>1</td>\n",
       "      <td>2</td>\n",
       "      <td>CHN</td>\n",
       "      <td></td>\n",
       "      <td></td>\n",
       "      <td>BTN</td>\n",
       "      <td>B75</td>\n",
       "      <td>Admin. by Bhutan; Claimed by China</td>\n",
       "      <td>LINESTRING (90.47523156700009 28.0723444630000...</td>\n",
       "    </tr>\n",
       "  </tbody>\n",
       "</table>\n",
       "</div>"
      ],
      "text/plain": [
       "   CHN  IND  INTL  LA3 LBR LN  RA3  RBR                                  RN  \\\n",
       "0    2    2     2  AZE         AZE  B38       Self admin.; Claimed by Azer.   \n",
       "1    1    1     2  BTN         IND  B00   Admin. by India; Claimed by China   \n",
       "2    1    2     2  BTN         BTN  B75  Admin. by Bhutan; Claimed by China   \n",
       "3    0    1     2  CHN         IND  B00   Admin. by India; Claimed by China   \n",
       "4    0    1     2  CHN         BTN  B75  Admin. by Bhutan; Claimed by China   \n",
       "\n",
       "                                            geometry  \n",
       "0  LINESTRING (47.32441724900008 39.4058766760000...  \n",
       "1  LINESTRING (91.63288700400003 27.7594436650000...  \n",
       "2  LINESTRING (89.79604821800007 28.2401895150000...  \n",
       "3  LINESTRING (97.3234957280001 28.21747772300013...  \n",
       "4  LINESTRING (90.47523156700009 28.0723444630000...  "
      ]
     },
     "execution_count": 7,
     "metadata": {},
     "output_type": "execute_result"
    }
   ],
   "source": [
    "boundaries.head()"
   ]
  },
  {
   "cell_type": "code",
   "execution_count": 8,
   "metadata": {
    "collapsed": true
   },
   "outputs": [],
   "source": [
    "#Find the border's Details\n",
    "border_mask = boundaries['LA3'] == 'MAR'\n",
    "border = boundaries[border_mask]"
   ]
  },
  {
   "cell_type": "code",
   "execution_count": 9,
   "metadata": {},
   "outputs": [
    {
     "data": {
      "text/html": [
       "<div>\n",
       "<style>\n",
       "    .dataframe thead tr:only-child th {\n",
       "        text-align: right;\n",
       "    }\n",
       "\n",
       "    .dataframe thead th {\n",
       "        text-align: left;\n",
       "    }\n",
       "\n",
       "    .dataframe tbody tr th {\n",
       "        vertical-align: top;\n",
       "    }\n",
       "</style>\n",
       "<table border=\"1\" class=\"dataframe\">\n",
       "  <thead>\n",
       "    <tr style=\"text-align: right;\">\n",
       "      <th></th>\n",
       "      <th>CHN</th>\n",
       "      <th>IND</th>\n",
       "      <th>INTL</th>\n",
       "      <th>LA3</th>\n",
       "      <th>LBR</th>\n",
       "      <th>LN</th>\n",
       "      <th>RA3</th>\n",
       "      <th>RBR</th>\n",
       "      <th>RN</th>\n",
       "      <th>geometry</th>\n",
       "    </tr>\n",
       "  </thead>\n",
       "  <tbody>\n",
       "    <tr>\n",
       "      <th>34</th>\n",
       "      <td>2</td>\n",
       "      <td>2</td>\n",
       "      <td>2</td>\n",
       "      <td>MAR</td>\n",
       "      <td></td>\n",
       "      <td></td>\n",
       "      <td>MAR</td>\n",
       "      <td>B19</td>\n",
       "      <td>Admin. by Morocco; Claimed by Western Sahara</td>\n",
       "      <td>LINESTRING (-8.682385212999918 27.661439311000...</td>\n",
       "    </tr>\n",
       "  </tbody>\n",
       "</table>\n",
       "</div>"
      ],
      "text/plain": [
       "    CHN  IND  INTL  LA3 LBR LN  RA3  RBR  \\\n",
       "34    2    2     2  MAR         MAR  B19   \n",
       "\n",
       "                                              RN  \\\n",
       "34  Admin. by Morocco; Claimed by Western Sahara   \n",
       "\n",
       "                                             geometry  \n",
       "34  LINESTRING (-8.682385212999918 27.661439311000...  "
      ]
     },
     "execution_count": 9,
     "metadata": {},
     "output_type": "execute_result"
    }
   ],
   "source": [
    "border"
   ]
  },
  {
   "cell_type": "code",
   "execution_count": 10,
   "metadata": {},
   "outputs": [
    {
     "data": {
      "text/html": [
       "<div>\n",
       "<style>\n",
       "    .dataframe thead tr:only-child th {\n",
       "        text-align: right;\n",
       "    }\n",
       "\n",
       "    .dataframe thead th {\n",
       "        text-align: left;\n",
       "    }\n",
       "\n",
       "    .dataframe tbody tr th {\n",
       "        vertical-align: top;\n",
       "    }\n",
       "</style>\n",
       "<table border=\"1\" class=\"dataframe\">\n",
       "  <thead>\n",
       "    <tr style=\"text-align: right;\">\n",
       "      <th></th>\n",
       "      <th>ADM0_A3</th>\n",
       "      <th>abbrev</th>\n",
       "      <th>continent</th>\n",
       "      <th>formal_nam</th>\n",
       "      <th>iso_a2</th>\n",
       "      <th>iso_a3</th>\n",
       "      <th>iso_n3</th>\n",
       "      <th>iso_short</th>\n",
       "      <th>name</th>\n",
       "      <th>name_sort</th>\n",
       "      <th>...</th>\n",
       "      <th>un_fr</th>\n",
       "      <th>un_n3</th>\n",
       "      <th>un_region</th>\n",
       "      <th>un_ru</th>\n",
       "      <th>un_subregi</th>\n",
       "      <th>un_zh</th>\n",
       "      <th>wb_a2</th>\n",
       "      <th>wb_a3</th>\n",
       "      <th>wb_region</th>\n",
       "      <th>geometry</th>\n",
       "    </tr>\n",
       "  </thead>\n",
       "  <tbody>\n",
       "    <tr>\n",
       "      <th>0</th>\n",
       "      <td>ABW</td>\n",
       "      <td>Aruba</td>\n",
       "      <td>North America</td>\n",
       "      <td>Aruba</td>\n",
       "      <td>AW</td>\n",
       "      <td>ABW</td>\n",
       "      <td>533</td>\n",
       "      <td>Aruba</td>\n",
       "      <td>Aruba</td>\n",
       "      <td>Aruba</td>\n",
       "      <td>...</td>\n",
       "      <td></td>\n",
       "      <td>533</td>\n",
       "      <td>Americas</td>\n",
       "      <td></td>\n",
       "      <td>Caribbean</td>\n",
       "      <td></td>\n",
       "      <td>AW</td>\n",
       "      <td>ABW</td>\n",
       "      <td>Latin America &amp; Caribbean</td>\n",
       "      <td>POLYGON ((-69.9969376289999 12.57758209800004,...</td>\n",
       "    </tr>\n",
       "    <tr>\n",
       "      <th>1</th>\n",
       "      <td>AFG</td>\n",
       "      <td>Afg.</td>\n",
       "      <td>Asia</td>\n",
       "      <td>Islamic State of Afghanistan</td>\n",
       "      <td>AF</td>\n",
       "      <td>AFG</td>\n",
       "      <td>4</td>\n",
       "      <td>Afghanistan</td>\n",
       "      <td>Afghanistan</td>\n",
       "      <td>Afghanistan</td>\n",
       "      <td>...</td>\n",
       "      <td>Afghanistan (l') [masc.]</td>\n",
       "      <td>4</td>\n",
       "      <td>Asia</td>\n",
       "      <td>Афганистан</td>\n",
       "      <td>Southern Asia</td>\n",
       "      <td>阿富汗</td>\n",
       "      <td>AF</td>\n",
       "      <td>AFG</td>\n",
       "      <td>South Asia</td>\n",
       "      <td>POLYGON ((74.89230676300014 37.23111358700004,...</td>\n",
       "    </tr>\n",
       "    <tr>\n",
       "      <th>2</th>\n",
       "      <td>AGO</td>\n",
       "      <td>Ang.</td>\n",
       "      <td>Africa</td>\n",
       "      <td>People's Republic of Angola</td>\n",
       "      <td>AO</td>\n",
       "      <td>AGO</td>\n",
       "      <td>24</td>\n",
       "      <td>Angola</td>\n",
       "      <td>Angola</td>\n",
       "      <td>Angola</td>\n",
       "      <td>...</td>\n",
       "      <td>Angola (l') [masc.]</td>\n",
       "      <td>24</td>\n",
       "      <td>Africa</td>\n",
       "      <td>Ангола</td>\n",
       "      <td>Middle Africa</td>\n",
       "      <td>安哥拉</td>\n",
       "      <td>AO</td>\n",
       "      <td>AGO</td>\n",
       "      <td>Sub-Saharan Africa</td>\n",
       "      <td>(POLYGON ((11.73751945100014 -16.6925779829998...</td>\n",
       "    </tr>\n",
       "    <tr>\n",
       "      <th>3</th>\n",
       "      <td>AIA</td>\n",
       "      <td>Ang.</td>\n",
       "      <td>North America</td>\n",
       "      <td></td>\n",
       "      <td>AI</td>\n",
       "      <td>AIA</td>\n",
       "      <td>660</td>\n",
       "      <td>Anguilla</td>\n",
       "      <td>Anguilla</td>\n",
       "      <td>Anguilla</td>\n",
       "      <td>...</td>\n",
       "      <td></td>\n",
       "      <td>660</td>\n",
       "      <td>Americas</td>\n",
       "      <td></td>\n",
       "      <td>Caribbean</td>\n",
       "      <td></td>\n",
       "      <td>-99</td>\n",
       "      <td>-99</td>\n",
       "      <td>Latin America &amp; Caribbean</td>\n",
       "      <td>(POLYGON ((-63.03766842399995 18.2129580750000...</td>\n",
       "    </tr>\n",
       "    <tr>\n",
       "      <th>4</th>\n",
       "      <td>ALB</td>\n",
       "      <td>Alb.</td>\n",
       "      <td>Europe</td>\n",
       "      <td>Republic of Albania</td>\n",
       "      <td>AL</td>\n",
       "      <td>ALB</td>\n",
       "      <td>8</td>\n",
       "      <td>Albania</td>\n",
       "      <td>Albania</td>\n",
       "      <td>Albania</td>\n",
       "      <td>...</td>\n",
       "      <td>Albanie (l') [fém.]</td>\n",
       "      <td>8</td>\n",
       "      <td>Europe</td>\n",
       "      <td>Албания</td>\n",
       "      <td>Southern Europe</td>\n",
       "      <td>阿尔巴尼亚</td>\n",
       "      <td>AL</td>\n",
       "      <td>ALB</td>\n",
       "      <td>Europe &amp; Central Asia</td>\n",
       "      <td>POLYGON ((20.06495568800005 42.54675811800004,...</td>\n",
       "    </tr>\n",
       "  </tbody>\n",
       "</table>\n",
       "<p>5 rows × 29 columns</p>\n",
       "</div>"
      ],
      "text/plain": [
       "  ADM0_A3 abbrev      continent                    formal_nam iso_a2 iso_a3  \\\n",
       "0     ABW  Aruba  North America                         Aruba     AW    ABW   \n",
       "1     AFG   Afg.           Asia  Islamic State of Afghanistan     AF    AFG   \n",
       "2     AGO   Ang.         Africa   People's Republic of Angola     AO    AGO   \n",
       "3     AIA   Ang.  North America                                   AI    AIA   \n",
       "4     ALB   Alb.         Europe           Republic of Albania     AL    ALB   \n",
       "\n",
       "   iso_n3    iso_short         name    name_sort  \\\n",
       "0     533        Aruba        Aruba        Aruba   \n",
       "1       4  Afghanistan  Afghanistan  Afghanistan   \n",
       "2      24       Angola       Angola       Angola   \n",
       "3     660     Anguilla     Anguilla     Anguilla   \n",
       "4       8      Albania      Albania      Albania   \n",
       "\n",
       "                         ...                          \\\n",
       "0                        ...                           \n",
       "1                        ...                           \n",
       "2                        ...                           \n",
       "3                        ...                           \n",
       "4                        ...                           \n",
       "\n",
       "                      un_fr  un_n3 un_region       un_ru       un_subregi  \\\n",
       "0                              533  Americas                    Caribbean   \n",
       "1  Afghanistan (l') [masc.]      4      Asia  Афганистан    Southern Asia   \n",
       "2       Angola (l') [masc.]     24    Africa      Ангола    Middle Africa   \n",
       "3                              660  Americas                    Caribbean   \n",
       "4       Albanie (l') [fém.]      8    Europe     Албания  Southern Europe   \n",
       "\n",
       "   un_zh wb_a2 wb_a3                  wb_region  \\\n",
       "0           AW   ABW  Latin America & Caribbean   \n",
       "1    阿富汗    AF   AFG                 South Asia   \n",
       "2    安哥拉    AO   AGO         Sub-Saharan Africa   \n",
       "3          -99   -99  Latin America & Caribbean   \n",
       "4  阿尔巴尼亚    AL   ALB      Europe & Central Asia   \n",
       "\n",
       "                                            geometry  \n",
       "0  POLYGON ((-69.9969376289999 12.57758209800004,...  \n",
       "1  POLYGON ((74.89230676300014 37.23111358700004,...  \n",
       "2  (POLYGON ((11.73751945100014 -16.6925779829998...  \n",
       "3  (POLYGON ((-63.03766842399995 18.2129580750000...  \n",
       "4  POLYGON ((20.06495568800005 42.54675811800004,...  \n",
       "\n",
       "[5 rows x 29 columns]"
      ]
     },
     "execution_count": 10,
     "metadata": {},
     "output_type": "execute_result"
    }
   ],
   "source": [
    "countries.head()"
   ]
  },
  {
   "cell_type": "code",
   "execution_count": 11,
   "metadata": {
    "collapsed": true
   },
   "outputs": [],
   "source": [
    "#Exctract morocco\n",
    "morocco_mask = countries['iso_a3'] == 'MAR'\n",
    "morocco = countries[morocco_mask]"
   ]
  },
  {
   "cell_type": "code",
   "execution_count": 12,
   "metadata": {},
   "outputs": [
    {
     "data": {
      "image/png": "[encoded data removed]",
      "text/plain": [
       "<matplotlib.figure.Figure at 0x11867a5c0>"
      ]
     },
     "metadata": {},
     "output_type": "display_data"
    }
   ],
   "source": [
    "#Overplot with disputed border\n",
    "\n",
    "fig, ax = plt.subplots(figsize=[20,20])\n",
    "ax.set_aspect('equal')\n",
    "\n",
    "morocco.geometry.plot(ax=ax)\n",
    "border.geometry.buffer(0.008).plot(ax=ax, color='blue')\n",
    "plt.show()"
   ]
  },
  {
   "cell_type": "code",
   "execution_count": 13,
   "metadata": {
    "collapsed": true
   },
   "outputs": [],
   "source": [
    "# We want to split the morocco geometry by the border linestring using https://toblerity.org/shapely/manual.html#geometric-objects"
   ]
  },
  {
   "cell_type": "markdown",
   "metadata": {},
   "source": [
    "<a id=\"updatemethod\"></a>\n",
    "\n",
    "### Polygonize Method for breaking polygons into new shapes"
   ]
  },
  {
   "cell_type": "code",
   "execution_count": 14,
   "metadata": {
    "collapsed": true
   },
   "outputs": [],
   "source": [
    "# Simple method for doing this using the shapely.ops library methods: linemerge & polygonize\n",
    "\n",
    "merged = linemerge([morocco.geometry.values[0].boundary, border.geometry.values[0]])\n",
    "borders = unary_union(merged)\n",
    "polygons = polygonize(borders)\n",
    "\n",
    "# polys is an array of the two grometries\n",
    "\n",
    "polys = [p for p in polygons]\n",
    "    "
   ]
  },
  {
   "cell_type": "code",
   "execution_count": 16,
   "metadata": {
    "collapsed": true
   },
   "outputs": [],
   "source": [
    "# And check two component shapes"
   ]
  },
  {
   "cell_type": "code",
   "execution_count": 17,
   "metadata": {},
   "outputs": [
    {
     "data": {
      "image/svg+xml": [
       "<svg xmlns=\"http://www.w3.org/2000/svg\" xmlns:xlink=\"http://www.w3.org/1999/xlink\" width=\"100.0\" height=\"100.0\" viewBox=\"-13.664104688356417 27.175589110332538 13.117955418024025 9.236780239335033\" preserveAspectRatio=\"xMinYMin meet\"><g transform=\"matrix(1,0,0,-1,0,63.58795846000011)\"><path fill-rule=\"evenodd\" fill=\"#66cc99\" stroke=\"#555555\" stroke-width=\"0.2623591083604805\" opacity=\"0.6\" d=\"M -8.682385212999918,27.661439311000095 L -8.752561807999882,27.661439311000095 L -8.816537230999955,27.66146514900001 L -8.817034779999915,27.661464011000103 L -8.823231596999875,27.66148983200011 L -8.893070027999954,27.66150592000011 L -8.963298298999831,27.66150592000011 L -9.033474893999909,27.66150592000011 L -9.103754841999802,27.661583435000125 L -9.174034789999808,27.661583435000125 L -9.244211384999772,27.661583435000125 L -9.314439656999838,27.661583435000125 L -9.384719604999844,27.661609272000135 L -9.454947875999835,27.661660949000037 L -9.525124470999799,27.661660949000037 L -9.595378580999778,27.661660949000037 L -9.665632690999786,27.661660949000037 L -9.735860961999947,27.661660949000037 L -9.806089232999824,27.66173846400008 L -9.876317504999804,27.66173846400008 L -9.946545776999898,27.66173846400008 L -10.01677404799986,27.66173846400008 L -10.087002318999765,27.66173846400008 L -10.157282267999847,27.66173846400008 L -10.227562214999836,27.66176430200008 L -10.297738809999826,27.661841816000106 L -10.368018757999806,27.661841816000106 L -10.438298706999802,27.661841816000106 L -10.508423624999779,27.661893493000004 L -10.578755248999784,27.661893493000004 L -10.64903519699996,27.661893493000004 L -10.719160115999813,27.661893493000004 L -10.789491739999818,27.661945169000035 L -10.85972001199991,27.661971008000137 L -10.92989660699979,27.661971008000137 L -11.000176553999864,27.661971008000137 L -11.070404825999843,27.66204852200005 L -11.140633097999824,27.66204852200005 L -11.210861368999815,27.66204852200005 L -11.281141316999822,27.66204852200005 L -11.351369587999898,27.662074360000048 L -11.421597859999792,27.662126037000064 L -11.491826130999954,27.662126037000064 L -11.562106078999847,27.662126037000064 L -11.632334350999827,27.66220355200008 L -11.702614298999833,27.66220355200008 L -11.772790892999806,27.66220355200008 L -11.802285522999938,27.66220355200008 L -11.813166499999795,27.66220355200008 L -11.843070841999804,27.66220355200008 L -11.91329911299988,27.66220355200008 L -11.983527383999842,27.66220355200008 L -12.053755655999936,27.662229390000103 L -12.12398392799983,27.662306904000015 L -12.194212198999793,27.662306904000015 L -12.264440469999869,27.662306904000015 L -12.334694580999866,27.662306904000015 L -12.40497452799977,27.662306904000015 L -12.475202799999835,27.662358581000035 L -12.545431070999824,27.662358581000035 L -12.615711018999832,27.662358581000035 L -12.685939289999908,27.662358581000035 L -12.756141722999786,27.662410257000147 L -12.826395833999783,27.66243609600005 L -12.896675780999857,27.66243609600005 L -12.966826538999925,27.66243609600005 L -13.037132324999817,27.662513610000072 L -13.107412271999832,27.662513610000072 L -13.17825448768886,27.662490981041415 L -13.178212042999915,27.662787177000112 L -13.17756100199989,27.667141018000006 L -13.171254035999937,27.68500397300006 L -13.160511847999913,27.69464752800006 L -13.130360480999911,27.708075262000037 L -13.097971157999893,27.732245184000035 L -13.061431443999965,27.74290599200016 L -13.04515540299991,27.759833075000145 L -13.003000454999892,27.82103099200019 L -12.979562954999892,27.893703518000066 L -12.968088344999956,27.91461823100003 L -12.952381964999887,27.928615627000095 L -12.933094855999855,27.938706773000078 L -12.838937954999947,27.970404364000117 L -12.657826300999943,27.998032945000134 L -12.51353919199994,27.995428778000033 L -12.335031704999949,28.047267971000124 L -12.06143144399988,28.089016018000066 L -12.050404425999943,28.09601471600014 L -12.027902798999945,28.116888739000114 L -12.023101365999933,28.119574286 L -12.00560462099989,28.12319570500007 L -11.782378709999875,28.21010976800015 L -11.485585089999857,28.32562897300012 L -11.452788865999935,28.348456122000027 L -11.428822394999884,28.37592194200009 L -11.38931230399993,28.434881903000033 L -11.37401282499988,28.44977448100009 L -11.35594641799986,28.46385325700014 L -11.340972459999904,28.479681708000058 L -11.334706183999856,28.49974192900011 L -11.32591712099989,28.515204169000143 L -11.266468878999945,28.551581122000027 L -11.219634568999906,28.602484442000147 L -11.211822068999908,28.616766669000143 L -11.170318162999905,28.639715887000037 L -11.162464972999913,28.647406317000147 L -11.15420488199993,28.66107819200009 L -11.149159308999913,28.66766998900006 L -11.114979620999918,28.69183991100006 L -11.11156165299991,28.69574616100006 L -11.091053839999857,28.726304428999992 L -11.06309973899991,28.75238678600006 L -11.047596808999913,28.761704820000187 L -10.76260331899988,28.890204169000143 L -10.694203253999888,28.93056875200004 L -10.612416144999912,28.96771881700012 L -10.573801235999952,28.990423895000063 L -10.45091712099989,29.09218984600004 L -10.347889777999853,29.22939687700007 L -10.32087154899989,29.257961330000157 L -10.301991339999857,29.271877346000124 L -10.264027472999942,29.284125067000005 L -10.248402472999942,29.299383856000148 L -10.224354620999918,29.333075262000147 L -10.199126756999874,29.36127350500014 L -10.187570766999926,29.378973700000145 L -10.18272864499994,29.397284247000115 L -10.17764238199993,29.40582916900003 L -10.141753709999932,29.428615627000156 L -10.137033657999922,29.4349632830001 L -10.128163214999887,29.455959377000127 L -10.08698482999992,29.509955145000124 L -10.080922003999916,29.521144924000154 L -10.078684048999945,29.542303778000147 L -10.072621222999942,29.56468333500008 L -10.06362870999993,29.584947006999997 L -10.052967902999882,29.599920966000024 L -10.005279100999928,29.638413804000106 L -9.997792120999861,29.650824286000148 L -9.991688605999883,29.666815497000027 L -9.94994055899994,29.71600983300006 L -9.82022050699996,29.838934637000094 L -9.717925584999932,29.996568101000104 L -9.655140753999945,30.126898505000057 L -9.645253058999856,30.164007880000085 L -9.628407355999855,30.291408596000096 L -9.610015428999901,30.357814846000124 L -9.60732988199993,30.37763092700014 L -9.611643032999922,30.404364325000145 L -9.622710740999878,30.417425848000118 L -9.638172980999883,30.426662502000095 L -9.655140753999945,30.442206122000087 L -9.666249152999882,30.459295966000056 L -9.691761847999885,30.509588934000092 L -9.700062628999945,30.542710679000134 L -9.708404100999928,30.547512111000014 L -9.719553188999953,30.548529364000085 L -9.730824347999942,30.552069403000147 L -9.739816860999952,30.559881903000147 L -9.758168097999913,30.586818752000124 L -9.829660610999952,30.628607489000064 L -9.850941535999937,30.629624742000104 L -9.874012824999909,30.633978583000115 L -9.88853919199994,30.648260809000092 L -9.886708136999857,30.686672268000038 L -9.865630662999934,30.724269924000012 L -9.839019334999904,30.75983307500009 L -9.82022050699996,30.792303778000175 L -9.813710089999859,30.814683334999998 L -9.812896287999934,30.82713450700011 L -9.816802537999934,30.8366559920001 L -9.823841925999913,30.845648505000113 L -9.824370897999898,30.851955471000068 L -9.821888800999972,30.85911692900011 L -9.82022050699996,30.871079820000045 L -9.827707485999923,31.067450262000094 L -9.831450975999871,31.085353908000158 L -9.84752356699994,31.121283270000117 L -9.83503170499992,31.144761460000026 L -9.808949347999942,31.28620026200015 L -9.806630011999886,31.343451239000117 L -9.810902472999913,31.366848049000012 L -9.821522589999859,31.379461981000087 L -9.834787563999896,31.388820705000043 L -9.84752356699994,31.40241120000017 L -9.816232876999889,31.436835028000115 L -9.792958136999857,31.471340236000046 L -9.769642706999946,31.531480210000115 L -9.758168097999913,31.5458031270001 L -9.739613410999908,31.560003973000008 L -9.733265753999888,31.567368882000025 L -9.727650519999884,31.585150458 L -9.713612433999913,31.597845770000145 L -9.70763098899991,31.609320380000003 L -9.694203253999916,31.625718492000185 L -9.689279751999946,31.635199286 L -9.6752009759999,31.71539948100006 L -9.667307094999927,31.731146551999995 L -9.575795050999913,31.816107489000146 L -9.535389777999882,31.864488023000046 L -9.527943488999881,31.871242580000068 L -9.513295050999886,31.880845445000045 L -9.504953579999919,31.888413804000106 L -9.497425910999937,31.898138739000057 L -9.488677537999877,31.91535065300017 L -9.4837947259999,31.922552802000023 L -9.366118943999936,32.026312567000005 L -9.354074673999918,32.04669830900017 L -9.346424933999913,32.06150950700005 L -9.334828253999888,32.10162995000014 L -9.333078579999892,32.118068752000156 L -9.328114386999856,32.130438544000086 L -9.291981574999909,32.168931382 L -9.277740037999905,32.196600653000175 L -9.270008917999888,32.22748444200012 L -9.264759894999912,32.33063385600015 L -9.268950975999928,32.33551666900003 L -9.287749803999873,32.343491928999995 L -9.291981574999909,32.35081614799999 L -9.289662238999938,32.37246328300007 L -9.283355272999898,32.38776276200004 L -9.256255662999877,32.43256256700009 L -9.248850063999896,32.45254140800015 L -9.246937628999916,32.47231679900007 L -9.254790818999908,32.48826731999999 L -9.263661261999857,32.498480536000116 L -9.272368943999936,32.51292552299999 L -9.27830969999988,32.52952708500014 L -9.278960740999906,32.54633209800015 L -9.259917772999927,32.57689036700016 L -9.112172003999916,32.68284739800005 L -8.998524542999917,32.797105210000105 L -8.901682094999927,32.85480377800015 L -8.867787238999881,32.88190338700018 L -8.754709438999924,33.01064687700009 L -8.62913977799991,33.12763092700011 L -8.621490037999877,33.13934967700011 L -8.620350714999914,33.15200429900007 L -8.621001756999874,33.173529364000004 L -8.61188717399989,33.18626536700005 L -8.52916419199994,33.268703518000066 L -8.521148240999878,33.27252838700018 L -8.512521938999896,33.27049388200005 L -8.502797003999945,33.261542059000035 L -8.494130011999856,33.259507554000024 L -8.469797329999977,33.26064687700013 L -8.451649542999888,33.26422760600011 L -8.415028449999852,33.28001536700005 L -8.37877356699994,33.30467357000005 L -8.320220506999902,33.3653832050001 L -8.284657355999911,33.38983795800014 L -8.243153449999909,33.40452708500014 L -8.10655676999994,33.43085358300014 L -8.011545376999917,33.46641673400001 L -7.962554490999878,33.48480866100006 L -7.916249152999881,33.494574286 L -7.8914281889999245,33.503363348000065 L -7.869740363999938,33.526556708 L -7.8447973299999205,33.53595612200003 L -7.777984178999873,33.55329010600012 L -7.738189256999874,33.57062409100011 L -7.719471808999912,33.57420482000008 L -7.70099850199989,33.58274974200019 L -7.684437628999916,33.59992096600002 L -7.667551235999922,33.61269765800016 L -7.6478572259999,33.60834381700006 L -7.636219855999884,33.61456940300003 L -7.626616990999906,33.61322663000014 L -7.617258266999955,33.60936107000013 L -7.60619055899994,33.60834381700006 L -7.596669074999851,33.61155833500011 L -7.5792537099998745,33.62075429900001 L -7.549956834999932,33.625555731000084 L -7.529123501999947,33.63263580900015 L -7.510243292999944,33.64154694200009 L -7.49705969999988,33.64996979400005 L -7.463286912999905,33.686509507 L -7.434315558999913,33.69822825700008 L -7.406361456999889,33.726996161000116 L -7.387115037999933,33.73248932500006 L -7.393950975999957,33.72504303600006 L -7.373850063999896,33.71930573100009 L -7.35260982999992,33.724676825000145 L -7.341135219999955,33.73110586100016 L -7.267486131999902,33.772406317 L -7.229318813999954,33.800930080000015 L -7.192941860999951,33.81769440300003 L -7.15257727799991,33.83006419500007 L -7.117014126999948,33.834865627000156 L -7.116566535999937,33.83490631700014 L -7.099476691999911,33.840277411 L -7.0678604809999115,33.863674221000096 L -7.031809048999946,33.874253648000135 L -6.927357550999915,33.94415924700014 L -6.82209225199989,34.03961823100015 L -6.733754035999937,34.16258372600011 L -6.667795376999891,34.280503648000106 L -6.557932094999927,34.41771067900008 L -6.547759568999879,34.434719143000116 L -6.530913865999877,34.47402578300013 L -6.507923956999888,34.50478750200001 L -6.292103644999941,34.88080475499999 L -6.205393032999921,35.12457916900017 L -6.023915167999917,35.501166083000115 L -6.018544074999852,35.52020905200011 L -6.016672329999892,35.54462311400006 L -6.012318488999881,35.55882396 L -5.990834113999881,35.59853750200009 L -5.970041469999955,35.652533270000006 L -5.968251105999883,35.660956122000144 L -5.965240037999877,35.67023346600011 L -5.952056443999935,35.685492255000085 L -5.949045376999919,35.695379950000174 L -5.943104620999918,35.742377020000006 L -5.936187303999901,35.76561107000013 L -5.927235480999882,35.78074778900013 L -5.908029751999918,35.797349350999994 L -5.873402472999942,35.801988023000106 L -5.781402147999927,35.790920315000065 L -5.769276495999946,35.792792059000035 L -5.74233964799987,35.814886786000116 L -5.729888475999871,35.822658596000124 L -5.711740688999952,35.83063385600017 L -5.69351152299987,35.83429596600003 L -5.680897589999887,35.82916901200012 L -5.663441535999937,35.83588288000006 L -5.6397192049999205,35.83637116100006 L -5.615956183999913,35.83152903900016 L -5.598988410999937,35.82233307500008 L -5.5400284499998795,35.85097890800007 L -5.523264126999976,35.86326732000013 L -5.487456834999875,35.896958726000136 L -5.468861456999946,35.91034577000012 L -5.4481095039999445,35.918524481000034 L -5.440027099999923,35.91810638300008 L -5.435451735999891,35.914416573000054 L -5.42349675299991,35.90895565500013 L -5.414198431999892,35.90939843200009 L -5.410361029999905,35.917073236000064 L -5.4079995519999216,35.924748041000115 L -5.405490480999902,35.926519149000015 L -5.399322068999936,35.92446523600016 L -5.398858678935312,35.924503852782905 L -5.3897179769998615,35.90204742499999 L -5.378400837999891,35.881686910000056 L -5.362897908999884,35.863806865000086 L -5.340728318999908,35.84735748900003 L -5.340809699999909,35.847113348000065 L -5.345692511999857,35.832586981000034 L -5.342355923999946,35.807684637000094 L -5.3273819649999155,35.75584544499999 L -5.3226212229999135,35.71377187700013 L -5.318755662999905,35.70172760600012 L -5.3126521479998985,35.69245026200015 L -5.304798956999917,35.68520742400012 L -5.298898891999897,35.68431224200005 L -5.2818904289999296,35.68650950700014 L -5.276763475999928,35.68520742400012 L -5.275380011999857,35.67938873900009 L -5.277455206999946,35.6642113300001 L -5.276763475999928,35.65790436400005 L -5.25999915299991,35.60472239800008 L -5.249419725999928,35.58462148600002 L -5.2284236319999025,35.56850820500013 L -5.186187303999872,35.54376862200017 L -5.150786912999876,35.51609935100008 L -5.066273566999939,35.41746653900019 L -5.050852016999897,35.40753815300009 L -5.02635657499988,35.40399811400012 L -5.008208787999877,35.399237372000115 L -4.98851477799991,35.38788483300014 L -4.954701300999943,35.36245351800012 L -4.926503058999884,35.33030833500008 L -4.909331834999932,35.31452057500003 L -4.864979620999918,35.301988023000106 L -4.810617641999897,35.25999583500014 L -4.77049719999988,35.24103424700003 L -4.62828528599988,35.20538971600017 L -4.495432094999927,35.180772203000075 L -4.494252081999917,35.18056875200004 L -4.376047329999949,35.15184153900016 L -4.347645636999857,35.15013255400008 L -4.327056443999908,35.15477122599999 L -4.269398566999939,35.18488190300003 L -4.130604620999861,35.20477936400011 L -4.046701626999891,35.235907294000114 L -3.9612930979999414,35.25043366100006 L -3.919341600999871,35.26683177300005 L -3.909413214999859,35.25527578300013 L -3.91253041899995,35.250918294000094 L -3.9246725859998723,35.24755584700015 L -3.9295294529999296,35.243819796000125 L -3.925046190999893,35.23784211400006 L -3.918467005999986,35.23089340100013 L -3.9039010189999597,35.214172586000146 L -3.8892573499998946,35.20840659900004 L -3.8685603509998994,35.20734284100003 L -3.84089107999992,35.20538971600017 L -3.8219294909999064,35.20677317900005 L -3.787464972999885,35.209214585 L -3.764800584999932,35.21845123900006 L -3.755523240999878,35.23639557500008 L -3.7471410799999205,35.26365794499999 L -3.726226365999935,35.28229401200018 L -3.6995743479999135,35.29083893400009 L -3.673573370999918,35.28790924700017 L -3.6542048819999025,35.27700429900001 L -3.612212693999936,35.245347398000135 L -3.590972459999932,35.23330312700001 L -3.516021287999905,35.22353750200007 L -3.4893285799999774,35.211004950000174 L -3.477406378999916,35.21067942900005 L -3.464751756999874,35.2118187520001 L -3.4538468089998844,35.21161530200014 L -3.442860480999911,35.208644924000126 L -3.4232478509998714,35.200832424000126 L -3.412912563999953,35.197943427 L -3.362049933999913,35.194525458 L -3.319243943999936,35.20180898600002 L -3.1951391269999476,35.23822663000008 L -3.173939581999946,35.24909088700015 L -3.1286514959998613,35.28856028900013 L -3.1180313789998872,35.29413483300014 L -3.1097305979999135,35.293646552000055 L -3.100412563999981,35.28953685100011 L -3.0896703769999476,35.28628164300015 L -3.0770564439998793,35.28790924700017 L -3.0453995429999163,35.31443919500005 L -3.0062556629998767,35.39354075700014 L -2.980824347999942,35.424505927000084 L -2.982818162999905,35.43500397300012 L -2.9779353509999282,35.44330475500011 L -2.9685766269998908,35.446437893000095 L -2.956654425999943,35.44122955900009 L -2.9522192049999774,35.43305084800009 L -2.9575902989999174,35.41583893400018 L -2.9529516269998908,35.40399811400012 L -2.96304277299987,35.37348053600009 L -2.9497777989999463,35.334947007 L -2.948109503999916,35.33026764500009 L -2.947824673999889,35.329779364000004 L -2.966920125999877,35.313866272000084 L -2.9637678629999016,35.28621938100015 L -2.9430456139998853,35.26787424800007 L -2.9129125639999525,35.27692291900002 L -2.899037238999881,35.25999583500014 L -2.907948370999918,35.25096263200014 L -2.91234290299991,35.23578522300015 L -2.913319464999887,35.219061591000106 L -2.909820115999878,35.186712958 L -2.9051407539999725,35.17357005400014 L -2.8963923819999025,35.16181061400005 L -2.8819880849999318,35.146714585000055 L -2.8560684889999095,35.13129303600011 L -2.820952928999958,35.12189362200009 L -2.7481176419998974,35.11595286700016 L -2.791818813999896,35.14516836100001 L -2.868275519999912,35.21735260600012 L -2.883168097999942,35.23851146000011 L -2.8784073559998546,35.246323960000026 L -2.864857550999886,35.23761627800012 L -2.816395636999914,35.194525458 L -2.8086645169998974,35.18378327000009 L -2.761097785999908,35.143255927000055 L -2.7183324859998947,35.12299225500014 L -2.666737433999856,35.108221747000144 L -2.5632218089998844,35.09613678600006 L -2.517486131999874,35.09935130400011 L -2.493316209999875,35.104396877000156 L -2.477202928999901,35.11261627800015 L -2.4561254549998917,35.132473049000154 L -2.4371231759998864,35.145086981000034 L -2.4167374339998844,35.14915599200019 L -2.3214412099999318,35.118841864 L -2.2990616529999386,35.11595286700016 L -2.275257941999939,35.10956452000015 L -2.248687303999901,35.097235419000114 L -2.222564256999931,35.08930084800015 L -2.22112585499994,35.049954733000106 L -2.2116690679998783,35.0234447230001 L -2.193789021999919,35.00360097300012 L -2.163299926999912,34.994040833000085 L -2.126041218999916,34.971923320000116 L -2.0949320069999544,34.94768707300002 L -2.061238972999888,34.92970367400005 L -2.016280476999981,34.9262413540001 L -2.0036197509999454,34.9181798300001 L -1.9996923419999746,34.906345927000075 L -1.9984004309999077,34.892703349000065 L -1.9934911709999878,34.87885406500001 L -1.9797452389999537,34.86526316400007 L -1.9267252189999338,34.83808136000005 L -1.8928254799999422,34.81167470400007 L -1.787715616999975,34.75669097900008 L -1.7695255129998484,34.741343079000046 L -1.7731428629999186,34.73405670200013 L -1.7861136469999506,34.725840149000135 L -1.8105049239998718,34.68072662400014 L -1.862956502999907,34.613598938 L -1.8711213779999412,34.59664906900013 L -1.7506636149999222,34.494174703000084 L -1.7142317299999092,34.48505381300003 L -1.7029662679999547,34.47967946400007 L -1.8096264239999298,34.372450867000026 L -1.771334187999912,34.33470123300006 L -1.7460644129999423,34.29031117800015 L -1.674750935999981,34.105955506000015 L -1.6720851479999508,34.092020705000095 L -1.669634968999901,34.07921295200006 L -1.672115437999878,34.05918833400011 L -1.7187275799999213,33.89808705600003 L -1.722086547999936,33.85116485700014 L -1.7130431729999884,33.80199473000004 L -1.7025011799999277,33.77282338500001 L -1.703224650999914,33.76181630500015 L -1.7108210849998784,33.74706268300011 L -1.7209496669999282,33.73636566200008 L -1.7325768639998955,33.72786488900014 L -1.7422403559999111,33.71776214700019 L -1.7467878819998646,33.702388408000076 L -1.740741739999919,33.68660125700006 L -1.7253938389999348,33.677712911000114 L -1.69071895299993,33.667325949000144 L -1.6732523199999605,33.656499736000086 L -1.6624002689999315,33.64469167100009 L -1.6173384189998785,33.55443878200006 L -1.6127392169999268,33.521469218000064 L -1.6253999429998771,33.494235738000015 L -1.6403861079998592,33.47552887000011 L -1.659144653999931,33.41977000000013 L -1.67283890799996,33.3946035770001 L -1.6832258699998872,33.36923044900004 L -1.6833808999999178,33.27083852100016 L -1.6742341719999274,33.23797231100008 L -1.6235912679998987,33.196605327000036 L -1.6056078699998864,33.168028260000085 L -1.5920686439999088,33.13660898900014 L -1.5713980719999083,33.111985169000064 L -1.5455081789998812,33.09183136000007 L -1.516362670999854,33.073977153000016 L -1.4995161539998776,33.060205384000035 L -1.493056599999903,33.03948313400009 L -1.4933666589998893,33.01615122500005 L -1.4965189209999605,32.99429209500012 L -1.4988443609998967,32.984008485000125 L -1.5029784749999067,32.97462921200011 L -1.5088695879999248,32.966309306000056 L -1.516362670999854,32.95948801700017 L -1.558789021999871,32.93364980100009 L -1.423345092999881,32.74239532500013 L -1.3905305589999557,32.7187791960001 L -1.3270202239999094,32.69890960700015 L -1.0475024009998606,32.51700856600014 L -1.0319994709999492,32.49440012700006 L -1.089980428999894,32.43944224100011 L -1.1231566979999172,32.41794484500008 L -1.1602603759998829,32.404948222000144 L -1.2017048749999617,32.399858093000056 L -1.217982950999982,32.392623393000086 L -1.2341576739999596,32.37461415600009 L -1.2441312259998938,32.35691497800008 L -1.2575154209999084,32.32084482800006 L -1.2734234609998794,32.22944217200006 L -1.2754988199999104,32.21751780200012 L -1.2751887609999242,32.20906870600008 L -1.276635700999918,32.200852153000085 L -1.2829919029999246,32.190180969000096 L -1.289193074999929,32.184858297000105 L -1.3056778559999032,32.17372202600016 L -1.3095535889999608,32.167443339000016 L -1.3051610919999632,32.151165263000124 L -1.2889863689998717,32.150906881000104 L -1.2518310139999755,32.163515931000035 L -1.2327107339998804,32.16372263600006 L -1.2118334559999082,32.158348288000084 L -1.1956070559998864,32.14604929600016 L -1.190594440999945,32.125223694000056 L -1.2103348389998985,32.08967030900007 L -1.249557250999942,32.08166046200016 L -1.3249531659999432,32.08470937100019 L -1.333428100999953,32.08507110600004 L -1.357405965999959,32.08605295800009 L -1.3953881429998773,32.087551575000106 L -1.445617634999934,32.08951528000003 L -1.5063374429999212,32.091944072000146 L -1.5757905679998883,32.094734599000006 L -1.652375039999896,32.097835185000136 L -1.7343338619998858,32.101090800000094 L -1.8199617109999338,32.104501445000054 L -1.9075532629999257,32.10796376500009 L -1.9954548739999325,32.11147776300001 L -2.081857869999908,32.11494008400011 L -2.1651086019999184,32.11829905200001 L -2.243398396999879,32.12139963900016 L -2.3151769609999064,32.12429351800009 L -2.378635620999944,32.126773987000064 L -2.516146605999893,32.132200013 L -2.695567178999852,32.08967030900014 L -2.8811889239999857,32.07628611300004 L -2.9387306319999027,32.04863922100018 L -2.8697686861218585,31.89243012266294 L -2.8278356931180606,31.79458647232076 L -3.0025564973003327,31.773619975818978 L -3.219210294486515,31.717709318480583 L -3.5115638839999406,31.672744853000097 L -3.5487450769998645,31.669954325999996 L -3.591378132999949,31.67827423200001 L -3.6595067210259344,31.64782099680774 L -3.6734843853605526,31.389234206617868 L -3.7474667969999587,31.385165507000025 L -3.802502197999899,31.35064565100014 L -3.8151887619999623,31.337158102000018 L -3.8192195229999584,31.318864645000048 L -3.8129149989999287,31.243365377000114 L -3.814982054999888,31.220524394000094 L -3.8361693929998633,31.189776917000074 L -3.842835652999952,31.17019154900011 L -3.839321654999907,31.152828268000032 L -3.8274619139998833,31.143836568000093 L -3.8107962639998623,31.142906393000118 L -3.792967895999908,31.149676006000078 L -3.7637190349999514,31.173447163999995 L -3.748862059999936,31.18021677600002 L -3.731421264999909,31.176341045000125 L -3.717106892999908,31.163266907000065 L -3.6897183839999452,31.12559478800003 L -3.671941690999944,31.110867005000046 L -3.6358715419999323,31.095674133000102 L -3.624140991999951,31.08652740500011 L -3.6145291749999444,31.06802724200008 L -3.61008500199992,31.05030222600007 L -3.608741414999969,31.03087188800009 L -3.5546742385165544,30.955926612245616 L -3.6105848958548563,30.879049458405373 L -3.6595067210259344,30.837116465401735 L -3.652517888858654,30.77421697589604 L -3.6455290566913447,30.71131748639041 L -3.8342275252082345,30.627451500382858 L -4.001959497223311,30.592507339546458 L -4.155713804903684,30.585518507379135 L -4.274523951747767,30.557563178709884 L -4.372367602089838,30.508641353538973 L -4.484188916766527,30.382842374527694 L -4.623965560112338,30.284998724185556 L -4.770731035625516,30.22908806684717 L -4.875563518134896,30.180166241676087 L -4.959429504142378,30.124255584337746 L -5.071250818819067,30.040389598330346 L -5.176083301328532,29.977490108824565 L -5.2739269516706315,29.886635290649863 L -5.343815273343522,29.76782514380589 L -5.4346700915183135,29.642026164794583 L -5.5395025740276935,29.523216017950574 L -5.637346224369792,29.495260689281363 L -5.721212210377388,29.523216017950574 L -5.756156371213876,29.614070836125403 L -5.881955350225155,29.600093171790746 L -6.00076549706904,29.57912667528896 L -6.1265644760803175,29.57912667528896 L -6.273329951593496,29.57912667528896 L -6.413106594939393,29.56514901095441 L -6.55987207045257,29.53020485011785 L -6.699648713798354,29.516227185783265 L -6.78351469980592,29.44633886411033 L -6.95823550398822,29.509238353615945 L -7.070056818664909,29.516227185783265 L -7.146933972505082,29.509238353615945 L -7.258755287181771,29.467305360612272 L -7.349610105356646,29.383439374604677 L -7.463286498999877,29.389137472000172 L -7.484060424999909,29.382445374000053 L -7.506126260999906,29.38022328700005 L -7.528502156999878,29.38094675700009 L -7.5726855069999885,29.387613017000007 L -7.619452677999902,29.3894216920001 L -7.6536107989998925,29.37619252500015 L -7.714666503999865,29.32182891800005 L -7.729988565999918,29.311157736 L -7.777995970999882,29.289324443000112 L -7.839129191999887,29.239043275000096 L -7.945014200999964,29.176230570000087 L -8.03632645699986,29.099852804000175 L -8.069657754999923,29.079337260000006 L -8.18231237799992,29.035541484000053 L -8.250473591999935,28.994768779000122 L -8.316774454999859,28.9390615840001 L -8.333259235999947,28.930379944000062 L -8.36845088699991,28.916530661000106 L -8.383488728999907,28.905781963000095 L -8.417801879999928,28.852348531000075 L -8.430410929999937,28.84100555500009 L -8.475834512999882,28.818758851000037 L -8.52081884799992,28.78708119800004 L -8.648847208999882,28.725947978000175 L -8.66760575399988,28.711685283000065 L -8.678767862999933,28.692823385000025 L -8.682385212999918,28.665899964000115 L -8.682385212999918,28.6202179980001 L -8.682385212999918,28.560273336000108 L -8.682385212999918,28.500406189000046 L -8.682385212999918,28.44048736600007 L -8.682385212999918,28.380542704000078 L -8.682385212999918,28.320623881000103 L -8.682385212999918,28.260679220000014 L -8.682385212999918,28.20076039700004 L -8.682385212999918,28.14089325000006 L -8.682385212999918,28.08094858800007 L -8.682385212999918,28.02102976600011 L -8.682385212999918,27.961085104000116 L -8.682385212999918,27.90114044200004 L -8.682385212999918,27.841221619000038 L -8.682385212999918,27.781354472000086 L -8.682385212999918,27.721435649000085 L -8.682385212999918,27.661439311000095 z\" /></g></svg>"
      ],
      "text/plain": [
       "<shapely.geometry.polygon.Polygon at 0x1187f6da0>"
      ]
     },
     "execution_count": 17,
     "metadata": {},
     "output_type": "execute_result"
    }
   ],
   "source": [
    "polys[0]"
   ]
  },
  {
   "cell_type": "code",
   "execution_count": 18,
   "metadata": {},
   "outputs": [
    {
     "data": {
      "image/svg+xml": [
       "<svg xmlns=\"http://www.w3.org/2000/svg\" xmlns:xlink=\"http://www.w3.org/1999/xlink\" width=\"100.0\" height=\"100.0\" viewBox=\"-17.441597745119875 20.429959742880133 9.097742073239992 7.569507277239939\" preserveAspectRatio=\"xMinYMin meet\"><g transform=\"matrix(1,0,0,-1,0,48.42942676300021)\"><path fill-rule=\"evenodd\" fill=\"#66cc99\" stroke=\"#555555\" stroke-width=\"0.18195484146479984\" opacity=\"0.6\" d=\"M -13.17825448768886,27.662490981041415 L -13.107412271999832,27.662513610000072 L -13.037132324999817,27.662513610000072 L -12.966826538999925,27.66243609600005 L -12.896675780999857,27.66243609600005 L -12.826395833999783,27.66243609600005 L -12.756141722999786,27.662410257000147 L -12.685939289999908,27.662358581000035 L -12.615711018999832,27.662358581000035 L -12.545431070999824,27.662358581000035 L -12.475202799999835,27.662358581000035 L -12.40497452799977,27.662306904000015 L -12.334694580999866,27.662306904000015 L -12.264440469999869,27.662306904000015 L -12.194212198999793,27.662306904000015 L -12.12398392799983,27.662306904000015 L -12.053755655999936,27.662229390000103 L -11.983527383999842,27.66220355200008 L -11.91329911299988,27.66220355200008 L -11.843070841999804,27.66220355200008 L -11.813166499999795,27.66220355200008 L -11.802285522999938,27.66220355200008 L -11.772790892999806,27.66220355200008 L -11.702614298999833,27.66220355200008 L -11.632334350999827,27.66220355200008 L -11.562106078999847,27.662126037000064 L -11.491826130999954,27.662126037000064 L -11.421597859999792,27.662126037000064 L -11.351369587999898,27.662074360000048 L -11.281141316999822,27.66204852200005 L -11.210861368999815,27.66204852200005 L -11.140633097999824,27.66204852200005 L -11.070404825999843,27.66204852200005 L -11.000176553999864,27.661971008000137 L -10.92989660699979,27.661971008000137 L -10.85972001199991,27.661971008000137 L -10.789491739999818,27.661945169000035 L -10.719160115999813,27.661893493000004 L -10.64903519699996,27.661893493000004 L -10.578755248999784,27.661893493000004 L -10.508423624999779,27.661893493000004 L -10.438298706999802,27.661841816000106 L -10.368018757999806,27.661841816000106 L -10.297738809999826,27.661841816000106 L -10.227562214999836,27.66176430200008 L -10.157282267999847,27.66173846400008 L -10.087002318999765,27.66173846400008 L -10.01677404799986,27.66173846400008 L -9.946545776999898,27.66173846400008 L -9.876317504999804,27.66173846400008 L -9.806089232999824,27.66173846400008 L -9.735860961999947,27.661660949000037 L -9.665632690999786,27.661660949000037 L -9.595378580999778,27.661660949000037 L -9.525124470999799,27.661660949000037 L -9.454947875999835,27.661660949000037 L -9.384719604999844,27.661609272000135 L -9.314439656999838,27.661583435000125 L -9.244211384999772,27.661583435000125 L -9.174034789999808,27.661583435000125 L -9.103754841999802,27.661583435000125 L -9.033474893999909,27.66150592000011 L -8.963298298999831,27.66150592000011 L -8.893070027999954,27.66150592000011 L -8.823231596999875,27.66148983200011 L -8.817034779999915,27.661464011000103 L -8.816537230999955,27.66146514900001 L -8.752561807999882,27.661439311000095 L -8.682385212999918,27.661439311000095 L -8.682385212999918,27.567414042000053 L -8.682385212999918,27.473466288000026 L -8.682385212999918,27.379466858000082 L -8.682385212999918,27.28541575100013 L -8.682281860999893,27.271669821000103 L -8.682230183999962,27.232705790000097 L -8.682230183999962,27.17214101200005 L -8.682075154999922,27.093696188000138 L -8.681920124999891,27.000833638000103 L -8.681816772999952,26.897170715000044 L -8.681661742999921,26.78632476800001 L -8.681558389999879,26.671913147000026 L -8.681455036999864,26.55744985000004 L -8.681300008999896,26.44660390200002 L -8.681144978999953,26.342992656000064 L -8.681041625999853,26.250181783000045 L -8.680938272999924,26.171633606000114 L -8.68086075799988,26.11112050400007 L -8.68086075799988,26.07220815000008 L -8.680809081999882,26.058410543000036 L -8.680809081999882,26.013141989000047 L -8.687656208999925,26.00001617500007 L -8.707215738999935,25.99500356000001 L -8.792042602999913,25.99500356000001 L -8.892863321999897,25.994951884000102 L -8.993580688999941,25.994951884000102 L -9.094246378999912,25.994951884000102 L -9.195015421999898,25.994951884000102 L -9.295732787999953,25.994951884000102 L -9.39645015499991,25.994951884000102 L -9.49716752099988,25.994951884000102 L -9.597884887999953,25.994951884000102 L -9.698653930999939,25.99495188400006 L -9.799371297999897,25.994951884000102 L -9.90003698699985,25.99495188400006 L -10.00080603099994,25.994951884000102 L -10.101523396999909,25.994951884000102 L -10.202292439999978,25.994951884000102 L -10.302958129999922,25.994951884000102 L -10.40367549699988,25.994951884000102 L -10.50444453999995,25.994951884000102 L -10.605161905999921,25.994951884000102 L -10.705879272999907,25.994951884000102 L -10.80659663999995,25.994951884000102 L -10.907314005999922,25.994951884000102 L -11.008083047999918,25.99495188400006 L -11.108748738999878,25.994951884000102 L -11.209517781999947,25.994951884000102 L -11.310235147999919,25.994951884000102 L -11.410952514999876,25.994951884000102 L -11.511721557999863,25.994951884000102 L -11.612438923999916,25.994951884000102 L -11.713207966999903,25.994951884000102 L -11.813821980999933,25.994951884000102 L -11.914591023999916,25.994951884000102 L -12.015308389999888,25.994900208000075 L -12.015308389999888,25.919245910000114 L -12.015308389999888,25.84369496700009 L -12.015308389999888,25.76809234700005 L -12.015308389999888,25.692489726000105 L -12.015308389999888,25.61693878200009 L -12.015308389999888,25.54133616200005 L -12.015308389999888,25.465733541000105 L -12.015308389999888,25.39018259700009 L -12.015308389999888,25.314579977000005 L -12.015308389999888,25.238925680000037 L -12.015308389999888,25.16332306000004 L -12.015308389999888,25.08779795400002 L -12.015308389999888,25.012247009000077 L -12.015308389999888,24.936618551000038 L -12.015308389999888,24.86101593100011 L -12.015308389999888,24.78546498600008 L -12.015308389999888,24.70986236600004 L -12.015308389999888,24.634259746000083 L -12.015308389999888,24.558631287000136 L -12.015308389999888,24.483080343000008 L -12.015308389999888,24.407477722000067 L -12.015308389999888,24.33190094100004 L -12.015308389999888,24.25629831900015 L -12.015308389999888,24.18069569900007 L -12.015308389999888,24.105093079000113 L -12.015308389999888,24.02954213500007 L -12.015308389999888,23.953939514000083 L -12.015308389999888,23.878311056000044 L -12.015308389999888,23.802734274000116 L -12.015308389999888,23.727105815000144 L -12.015308389999888,23.65147735600007 L -12.015308389999888,23.57592641200003 L -12.015308389999888,23.49518198600009 L -12.019339151999873,23.4609980270001 L -12.032723347999905,23.44497833300001 L -12.1345775959999,23.41934682200008 L -12.353892374999873,23.322479350000066 L -12.389910847999971,23.312531637000063 L -12.558376017999933,23.290284933000123 L -12.619431721999916,23.270828756000043 L -12.68221858699988,23.230753683000046 L -12.789938109999866,23.161868998000045 L -12.915098428999954,23.082054749000033 L -13.01524735499987,23.01800181100019 L -13.034341796999854,22.995212504000047 L -13.119892130999915,22.88353973400009 L -13.152293253999915,22.820003560000146 L -13.16549658199989,22.752695008000046 L -13.15498042799993,22.688797099000084 L -13.106352904999936,22.56022613500005 L -13.093330444999879,22.495475566000067 L -13.076832743499862,22.245439148500083 L -13.060335041999934,21.995402731000098 L -13.032092883999951,21.581939241000015 L -13.026176920999944,21.495329896000012 L -13.01524735499987,21.333427633000042 L -13.161724202999977,21.333427633000042 L -13.203091186999899,21.333375956000026 L -13.31985408599985,21.333375956000026 L -13.501419229999954,21.333375956000026 L -13.73690873199996,21.333324280000113 L -14.015496378999956,21.333272603000097 L -14.295597564999923,21.333226059000054 L -14.32648514899995,21.33322092700007 L -14.658971312999881,21.333169251000072 L -15.002257853999962,21.333169251000072 L -15.345544392999924,21.333065898000115 L -15.67808223499989,21.333065898000115 L -15.989019327999868,21.333014222000116 L -16.26771032699989,21.33291086800008 L -16.503148152999955,21.33291086800008 L -16.684635782999862,21.33291086800008 L -16.801424519999898,21.332859192000086 L -16.84281734299995,21.332859192000086 L -16.958830932999973,21.332859192000086 L -16.968339395999863,21.32459096300005 L -16.985702677999967,21.23782623300005 L -17.004926309999888,21.14191477500009 L -17.047378499999922,21.027399801000083 L -17.054018920999937,20.99546376600011 L -17.077428344999902,20.90451324500009 L -17.081174885999896,20.874747620000104 L -17.056874152499887,20.766913153000132 L -17.068348761999857,20.792466539000113 L -17.10020911399988,20.837591864000075 L -17.104644334999875,20.862494208000015 L -17.10138912699992,20.876166083000044 L -17.092274542999917,20.89988841400006 L -17.090402798999946,20.9140078800001 L -17.090402798999946,20.961818752000028 L -17.086293097999913,20.979315497000073 L -17.067860480999883,21.030910549000026 L -17.0267634759999,21.32892487200007 L -17.01744544199994,21.365057684000107 L -17.015248175999943,21.379828192000076 L -17.01374332534519,21.41997109758168 L -17.012806769999912,21.44521719000005 L -16.971058722999885,21.592596747000044 L -16.966908331999946,21.636542059000078 L -16.97032630099994,21.67446523600009 L -16.968006964999887,21.69725169500012 L -16.9510798819999,21.724758205000054 L -16.947661912999905,21.736029364000046 L -16.946400519999884,21.748277085000012 L -16.94701087099986,21.759995835000012 L -16.950266079999892,21.765366929000066 L -16.963246222999885,21.775620835000094 L -16.966908331999946,21.781154690000022 L -16.96153723899988,21.795803127000028 L -16.95693925699993,21.825669664000117 L -16.93781490799998,21.866603908000027 L -16.929798956999917,21.907945054000066 L -16.92100989499997,21.931301174000055 L -16.81663977799991,22.130560614000046 L -16.78066972599993,22.165716864000018 L -16.775054490999935,22.17495351800008 L -16.773426886999914,22.180975653000075 L -16.762074347999942,22.205023505000014 L -16.75633704299989,22.210191148000032 L -16.739898240999878,22.22113678600007 L -16.734120245999918,22.226752020000077 L -16.717884894999884,22.260972398000064 L -16.706776495999947,22.275458075000103 L -16.682606574999852,22.284084377000024 L -16.6771541009999,22.289536851000065 L -16.670318162999873,22.294419664000117 L -16.659006313999896,22.295070705000086 L -16.65025794199991,22.29169342700007 L -16.642648891999983,22.285956122000073 L -16.631703253999916,22.273911851000065 L -16.521839972999942,22.314886786000102 L -16.50218665299988,22.329901434000107 L -16.482167120999918,22.352280992000114 L -16.46662350199992,22.377386786000045 L -16.43150794199994,22.493068752000056 L -16.429351365999935,22.51044342700004 L -16.419545050999915,22.5217959660001 L -16.36978105399993,22.56826406500005 L -16.35728919199991,22.583075262000108 L -16.3443904289999,22.646958726000037 L -16.341379360999895,22.73200104400007 L -16.33682206899996,22.753729559000135 L -16.32485917899993,22.789496161000045 L -16.316477016999954,22.80605703300003 L -16.296457485999895,22.832098700000103 L -16.296254035999937,22.842189846000053 L -16.299956834999904,22.8501651060001 L -16.30211341099988,22.856756903000075 L -16.30215410099987,22.868312893000024 L -16.300607876999948,22.875067450000046 L -16.291737433999884,22.893459377000084 L -16.28962154899989,22.89980703300003 L -16.284779425999915,22.903387762000108 L -16.262603318999936,22.905585028000075 L -16.238636847999885,22.911566473000107 L -16.20645097599993,22.937974351000005 L -16.172963019999884,22.97345612200007 L -16.163238084999932,22.993231512000108 L -16.156483527999878,23.013495184000103 L -16.15257727799991,23.035223700000074 L -16.151275193999908,23.059068101000065 L -16.15953528599988,23.082464911000045 L -16.17906653599988,23.08612702000002 L -16.220204230999855,23.075873114000075 L -16.21312415299988,23.094427802000098 L -16.196034308999856,23.126166083000044 L -16.186675584999904,23.137925523000035 L -16.13927161399988,23.17853424700013 L -16.135121222999942,23.1851260440001 L -16.06041419199991,23.3445498720001 L -16.049143032999922,23.35809967700007 L -16.03831946499994,23.36391836100003 L -16.0255427729999,23.37494538000007 L -15.981190558999856,23.445786851000065 L -15.967193162999907,23.512925523000035 L -15.956450975999898,23.531724351000094 L -15.9413142569999,23.551336981000045 L -15.905506964999885,23.610296942000105 L -15.857085740999878,23.661810614000075 L -15.853871222999913,23.66791413000007 L -15.837391730999855,23.679348049000026 L -15.830393032999948,23.68598053600007 L -15.825062628999888,23.696722723000107 L -15.820057745999861,23.717230536000045 L -15.81607011599988,23.72760651200005 L -15.80064856699994,23.75063711100003 L -15.784820115999906,23.76898834800008 L -15.772613084999932,23.787827867000118 L -15.767689581999973,23.812648830000086 L -15.76545162699989,23.856756903000075 L -15.769154425999915,23.875677802000098 L -15.781971808999856,23.89826080900005 L -15.778675910999935,23.903713283000087 L -15.775135870999861,23.911932684000107 L -15.786773240999935,23.90387604400007 L -15.787953253999886,23.892157294000068 L -15.786000128999914,23.87836334800008 L -15.788197394999912,23.864162502000056 L -15.795318162999875,23.8566348330001 L -15.820871548999946,23.840277411000073 L -15.830393032999948,23.8362490910001 L -15.843576626999917,23.8358828800001 L -15.852202928999901,23.83812083500007 L -15.861724412999903,23.83616771000004 L -15.877552863999938,23.823187567000048 L -15.888172980999883,23.81073639500002 L -15.895334438999924,23.79877350500007 L -15.910389777999852,23.765326239000018 L -15.923329230999855,23.74359772300005 L -15.925933397999954,23.73725006700002 L -15.928089972999944,23.725165106000105 L -15.937489386999886,23.70522695500003 L -15.939605272999898,23.696234442000016 L -15.948231574999879,23.68431224200006 L -15.994862433999884,23.645005601000065 L -16.009755011999857,23.655422268000052 L -16.003163214999887,23.67210521000001 L -15.981190558999856,23.696234442000016 L -15.975819464999914,23.71076080900005 L -15.939605272999898,23.77480703300003 L -15.877552863999938,23.8535830750001 L -15.871245897999898,23.869208075000074 L -15.856800910999937,23.88694896000007 L -15.84093176999991,23.90265534100004 L -15.768137173999945,23.959865627000113 L -15.735747850999871,23.97117747600009 L -15.692616339999859,23.995794989000075 L -15.679554816999968,24.00751373900007 L -15.646636522999898,24.010402736000117 L -15.620106574999909,24.026271877000028 L -15.599232550999941,24.048325914000117 L -15.583322719999927,24.07025788000007 L -15.542347785999908,24.114243882000068 L -15.514393683999883,24.152167059000107 L -15.476063605999855,24.177801825000074 L -15.459706183999856,24.19188060100001 L -15.453033006999902,24.210191148000064 L -15.444691535999906,24.22186920800007 L -15.35338294199994,24.291083075000046 L -15.298247850999898,24.34516022300005 L -15.229562954999892,24.440741278000104 L -15.203968878999914,24.46747467700004 L -15.171864386999857,24.494126695000062 L -15.153553839999887,24.50560130400001 L -15.133412238999936,24.51463450700001 L -15.112700975999955,24.52057526200005 L -15.069406704999949,24.5272891300001 L -15.048329230999855,24.53827545800004 L -15.014800584999904,24.562445380000042 L -15.015370245999888,24.585679429000063 L -15.012237107999908,24.591538804000038 L -14.99998938699994,24.614488023000007 L -14.976226365999935,24.64142487200007 L -14.952137824999909,24.65924713700005 L -14.926991339999915,24.67177969000005 L -14.907826300999943,24.68549225500007 L -14.895619269999882,24.70571523600009 L -14.885853644999942,24.770738023000064 L -14.86192786399988,24.830145575000103 L -14.853423631999958,24.876613674000055 L -14.83967037699992,24.905340887000108 L -14.836048956999974,24.918687242000118 L -14.837961391999926,24.9351260440001 L -14.842030402999882,24.950262762000108 L -14.843169725999926,24.965277411000045 L -14.836048956999974,24.981390692000105 L -14.843495245999861,24.987616278000047 L -14.837228969999897,25.00169505400001 L -14.832590298999975,25.017564195000116 L -14.829741990999933,25.03424713700008 L -14.82921301999994,25.05023834800008 L -14.83189856699994,25.065741278000075 L -14.841420050999915,25.087551174000026 L -14.843495245999861,25.10053131700002 L -14.842437303999901,25.189032294000043 L -14.849720831999917,25.214178778000132 L -14.819243943999965,25.330226955000054 L -14.812123175999913,25.346096096000082 L -14.782053188999953,25.446926174000055 L -14.736195441999882,25.50551992400011 L -14.723133917999917,25.51581452000002 L -14.714914516999896,25.525580145000045 L -14.685170050999886,25.590887762000047 L -14.67833411399988,25.6355654970001 L -14.676258917999858,25.641913153000043 L -14.666859503999916,25.6597354190001 L -14.661366339999887,25.691310940000108 L -14.62096106699994,25.783596096000053 L -14.546457485999893,25.879217841000127 L -14.519520636999914,25.923773505000014 L -14.513905402999908,25.936957098000047 L -14.511057094999986,25.95685455900005 L -14.494984503999916,26.001613674000083 L -14.486561652999853,26.015448309000078 L -14.490345831999889,26.03148021000007 L -14.480376756999872,26.08779531500005 L -14.483306443999908,26.102484442000048 L -14.4928279289999,26.13271719000005 L -14.490061001999946,26.142726955000025 L -14.482289191999937,26.15387604400007 L -14.471791144999884,26.183050848000104 L -14.466135219999986,26.194240627000028 L -14.41014563699994,26.26007721600007 L -14.400746222999912,26.26630280200004 L -14.353179490999905,26.2759463560001 L -14.298939581999974,26.302232164000117 L -14.215931769999884,26.375474351000065 L -14.202056443999908,26.392238674000083 L -14.192779100999928,26.409491278000104 L -14.180246548999945,26.42438385600005 L -14.157053188999896,26.433783270000077 L -14.046864386999912,26.444403387000104 L -14.027740037999934,26.452378648000064 L -13.923736131999902,26.500881252000056 L -13.742014126999948,26.61810944200002 L -13.619984503999888,26.68891022300005 L -13.561105923999918,26.749090887000108 L -13.500884568999965,26.858303127000024 L -13.48033606699991,26.911688544000068 L -13.461048956999889,26.992743231000105 L -13.431996222999913,27.05076732000009 L -13.402455206999946,27.177191473000047 L -13.383656378999888,27.215277411000045 L -13.301096157999893,27.324448960000066 L -13.300770636999886,27.33002350500007 L -13.307769334999959,27.339341539000117 L -13.307932094999927,27.344956773000035 L -13.294260219999984,27.351752020000045 L -13.240834113999938,27.46539948100005 L -13.207590298999946,27.567450262000108 L -13.205433722999942,27.58856842700004 L -13.200795050999915,27.60651276200008 L -13.180978969999897,27.6448428410001 L -13.17825448768886,27.662490981041415 z\" /></g></svg>"
      ],
      "text/plain": [
       "<shapely.geometry.polygon.Polygon at 0x1187f6d68>"
      ]
     },
     "execution_count": 18,
     "metadata": {},
     "output_type": "execute_result"
    }
   ],
   "source": [
    "polys[1]"
   ]
  },
  {
   "cell_type": "code",
   "execution_count": 19,
   "metadata": {
    "collapsed": true
   },
   "outputs": [],
   "source": [
    "#Create new data frame and add data\n",
    "morocco_2_part = gpd.GeoDataFrame([['Morocco', 'MAR',],['Western Sahara','ESH']],\n",
    "                                  geometry=polys,\n",
    "                                  columns=['formal_nam', 'iso_a3'])"
   ]
  },
  {
   "cell_type": "code",
   "execution_count": 20,
   "metadata": {},
   "outputs": [
    {
     "data": {
      "text/plain": [
       "<matplotlib.axes._subplots.AxesSubplot at 0x118713b38>"
      ]
     },
     "execution_count": 20,
     "metadata": {},
     "output_type": "execute_result"
    },
    {
     "data": {
      "image/png": "[encoded data removed]",
      "text/plain": [
       "<matplotlib.figure.Figure at 0x118678fd0>"
      ]
     },
     "metadata": {},
     "output_type": "display_data"
    }
   ],
   "source": [
    "# Do the shapes tesselate correctly?\n",
    "morocco_2_part.plot()"
   ]
  },
  {
   "cell_type": "code",
   "execution_count": 21,
   "metadata": {},
   "outputs": [
    {
     "data": {
      "text/html": [
       "<div>\n",
       "<style>\n",
       "    .dataframe thead tr:only-child th {\n",
       "        text-align: right;\n",
       "    }\n",
       "\n",
       "    .dataframe thead th {\n",
       "        text-align: left;\n",
       "    }\n",
       "\n",
       "    .dataframe tbody tr th {\n",
       "        vertical-align: top;\n",
       "    }\n",
       "</style>\n",
       "<table border=\"1\" class=\"dataframe\">\n",
       "  <thead>\n",
       "    <tr style=\"text-align: right;\">\n",
       "      <th></th>\n",
       "      <th>formal_nam</th>\n",
       "      <th>iso_a3</th>\n",
       "      <th>geometry</th>\n",
       "    </tr>\n",
       "  </thead>\n",
       "  <tbody>\n",
       "    <tr>\n",
       "      <th>0</th>\n",
       "      <td>Morocco</td>\n",
       "      <td>MAR</td>\n",
       "      <td>POLYGON ((-8.682385212999918 27.66143931100009...</td>\n",
       "    </tr>\n",
       "    <tr>\n",
       "      <th>1</th>\n",
       "      <td>Western Sahara</td>\n",
       "      <td>ESH</td>\n",
       "      <td>POLYGON ((-13.17825448768886 27.66249098104142...</td>\n",
       "    </tr>\n",
       "  </tbody>\n",
       "</table>\n",
       "</div>"
      ],
      "text/plain": [
       "       formal_nam iso_a3                                           geometry\n",
       "0         Morocco    MAR  POLYGON ((-8.682385212999918 27.66143931100009...\n",
       "1  Western Sahara    ESH  POLYGON ((-13.17825448768886 27.66249098104142..."
      ]
     },
     "execution_count": 21,
     "metadata": {},
     "output_type": "execute_result"
    }
   ],
   "source": [
    "morocco_2_part"
   ]
  },
  {
   "cell_type": "code",
   "execution_count": 22,
   "metadata": {
    "collapsed": true
   },
   "outputs": [],
   "source": [
    "#DData cleaning. elete original Morocco and Antarctica... and countries with missing or strange id's (-99)"
   ]
  },
  {
   "cell_type": "code",
   "execution_count": 23,
   "metadata": {
    "collapsed": true
   },
   "outputs": [],
   "source": [
    "countries_mask = countries['iso_a3'] != 'MAR'\n",
    "countries = countries[countries_mask]"
   ]
  },
  {
   "cell_type": "code",
   "execution_count": 24,
   "metadata": {
    "collapsed": true
   },
   "outputs": [],
   "source": [
    "countries_mask = countries['iso_a3'] != 'ATA'\n",
    "countries = countries[countries_mask]"
   ]
  },
  {
   "cell_type": "code",
   "execution_count": 25,
   "metadata": {
    "collapsed": true
   },
   "outputs": [],
   "source": [
    "countries_mask = countries['iso_a3'] != '-99'\n",
    "countries = countries[countries_mask]"
   ]
  },
  {
   "cell_type": "code",
   "execution_count": 26,
   "metadata": {
    "collapsed": true
   },
   "outputs": [],
   "source": [
    "countries_mask = countries['iso_a3'] != ''\n",
    "countries = countries[countries_mask]"
   ]
  },
  {
   "cell_type": "code",
   "execution_count": 27,
   "metadata": {},
   "outputs": [
    {
     "data": {
      "text/html": [
       "<div>\n",
       "<style>\n",
       "    .dataframe thead tr:only-child th {\n",
       "        text-align: right;\n",
       "    }\n",
       "\n",
       "    .dataframe thead th {\n",
       "        text-align: left;\n",
       "    }\n",
       "\n",
       "    .dataframe tbody tr th {\n",
       "        vertical-align: top;\n",
       "    }\n",
       "</style>\n",
       "<table border=\"1\" class=\"dataframe\">\n",
       "  <thead>\n",
       "    <tr style=\"text-align: right;\">\n",
       "      <th></th>\n",
       "      <th>ADM0_A3</th>\n",
       "      <th>abbrev</th>\n",
       "      <th>continent</th>\n",
       "      <th>formal_nam</th>\n",
       "      <th>iso_a2</th>\n",
       "      <th>iso_a3</th>\n",
       "      <th>iso_n3</th>\n",
       "      <th>iso_short</th>\n",
       "      <th>name</th>\n",
       "      <th>name_sort</th>\n",
       "      <th>...</th>\n",
       "      <th>un_fr</th>\n",
       "      <th>un_n3</th>\n",
       "      <th>un_region</th>\n",
       "      <th>un_ru</th>\n",
       "      <th>un_subregi</th>\n",
       "      <th>un_zh</th>\n",
       "      <th>wb_a2</th>\n",
       "      <th>wb_a3</th>\n",
       "      <th>wb_region</th>\n",
       "      <th>geometry</th>\n",
       "    </tr>\n",
       "  </thead>\n",
       "  <tbody>\n",
       "    <tr>\n",
       "      <th>245</th>\n",
       "      <td>WSM</td>\n",
       "      <td>Samoa</td>\n",
       "      <td>Oceania</td>\n",
       "      <td>Independent State of Samoa</td>\n",
       "      <td>WS</td>\n",
       "      <td>WSM</td>\n",
       "      <td>882</td>\n",
       "      <td>Samoa</td>\n",
       "      <td>Samoa</td>\n",
       "      <td>Samoa</td>\n",
       "      <td>...</td>\n",
       "      <td>Samoa (le)</td>\n",
       "      <td>882</td>\n",
       "      <td>Oceania</td>\n",
       "      <td>Самоа</td>\n",
       "      <td>Polynesia</td>\n",
       "      <td>萨摩亚</td>\n",
       "      <td>WS</td>\n",
       "      <td>WSM</td>\n",
       "      <td>East Asia &amp; Pacific</td>\n",
       "      <td>(POLYGON ((-171.5700170559999 -13.938164971999...</td>\n",
       "    </tr>\n",
       "    <tr>\n",
       "      <th>246</th>\n",
       "      <td>YEM</td>\n",
       "      <td>Yem.</td>\n",
       "      <td>Asia</td>\n",
       "      <td>Republic of Yemen</td>\n",
       "      <td>YE</td>\n",
       "      <td>YEM</td>\n",
       "      <td>887</td>\n",
       "      <td>Yemen</td>\n",
       "      <td>Yemen</td>\n",
       "      <td>Yemen, Rep.</td>\n",
       "      <td>...</td>\n",
       "      <td>Yémen (le)</td>\n",
       "      <td>887</td>\n",
       "      <td>Asia</td>\n",
       "      <td>Йемен</td>\n",
       "      <td>Western Asia</td>\n",
       "      <td>也门</td>\n",
       "      <td>RY</td>\n",
       "      <td>YEM</td>\n",
       "      <td>Middle East &amp; North Africa</td>\n",
       "      <td>(POLYGON ((53.30823945700016 12.11839453700017...</td>\n",
       "    </tr>\n",
       "    <tr>\n",
       "      <th>247</th>\n",
       "      <td>ZAF</td>\n",
       "      <td>S.Af.</td>\n",
       "      <td>Africa</td>\n",
       "      <td>Republic of South Africa</td>\n",
       "      <td>ZA</td>\n",
       "      <td>ZAF</td>\n",
       "      <td>710</td>\n",
       "      <td>South Africa</td>\n",
       "      <td>South Africa</td>\n",
       "      <td>South Africa</td>\n",
       "      <td>...</td>\n",
       "      <td>Afrique du Sud (l') [fém.]</td>\n",
       "      <td>710</td>\n",
       "      <td>Africa</td>\n",
       "      <td>Южная Африка</td>\n",
       "      <td>Southern Africa</td>\n",
       "      <td>南非</td>\n",
       "      <td>ZA</td>\n",
       "      <td>ZAF</td>\n",
       "      <td>Sub-Saharan Africa</td>\n",
       "      <td>(POLYGON ((37.86378014400023 -46.9408505189998...</td>\n",
       "    </tr>\n",
       "    <tr>\n",
       "      <th>248</th>\n",
       "      <td>ZMB</td>\n",
       "      <td>Zambia</td>\n",
       "      <td>Africa</td>\n",
       "      <td>Republic of Zambia</td>\n",
       "      <td>ZM</td>\n",
       "      <td>ZMB</td>\n",
       "      <td>894</td>\n",
       "      <td>Zambia</td>\n",
       "      <td>Zambia</td>\n",
       "      <td>Zambia</td>\n",
       "      <td>...</td>\n",
       "      <td>Zambie (la)</td>\n",
       "      <td>894</td>\n",
       "      <td>Africa</td>\n",
       "      <td>Замбия</td>\n",
       "      <td>Eastern Africa</td>\n",
       "      <td>赞比亚</td>\n",
       "      <td>ZM</td>\n",
       "      <td>ZMB</td>\n",
       "      <td>Sub-Saharan Africa</td>\n",
       "      <td>POLYGON ((30.39626306100012 -15.63599538099991...</td>\n",
       "    </tr>\n",
       "    <tr>\n",
       "      <th>249</th>\n",
       "      <td>ZWE</td>\n",
       "      <td>Zimb.</td>\n",
       "      <td>Africa</td>\n",
       "      <td>Republic of Zimbabwe</td>\n",
       "      <td>ZW</td>\n",
       "      <td>ZWE</td>\n",
       "      <td>716</td>\n",
       "      <td>Zimbabwe</td>\n",
       "      <td>Zimbabwe</td>\n",
       "      <td>Zimbabwe</td>\n",
       "      <td>...</td>\n",
       "      <td>Zimbabwe (le)</td>\n",
       "      <td>716</td>\n",
       "      <td>Africa</td>\n",
       "      <td>Зимбабве</td>\n",
       "      <td>Eastern Africa</td>\n",
       "      <td>津巴布韦</td>\n",
       "      <td>ZW</td>\n",
       "      <td>ZWE</td>\n",
       "      <td>Sub-Saharan Africa</td>\n",
       "      <td>POLYGON ((30.39626306100012 -15.63599538099991...</td>\n",
       "    </tr>\n",
       "  </tbody>\n",
       "</table>\n",
       "<p>5 rows × 29 columns</p>\n",
       "</div>"
      ],
      "text/plain": [
       "    ADM0_A3  abbrev continent                  formal_nam iso_a2 iso_a3  \\\n",
       "245     WSM   Samoa   Oceania  Independent State of Samoa     WS    WSM   \n",
       "246     YEM    Yem.      Asia           Republic of Yemen     YE    YEM   \n",
       "247     ZAF   S.Af.    Africa    Republic of South Africa     ZA    ZAF   \n",
       "248     ZMB  Zambia    Africa          Republic of Zambia     ZM    ZMB   \n",
       "249     ZWE   Zimb.    Africa        Republic of Zimbabwe     ZW    ZWE   \n",
       "\n",
       "     iso_n3     iso_short          name     name_sort  \\\n",
       "245     882         Samoa         Samoa         Samoa   \n",
       "246     887         Yemen         Yemen   Yemen, Rep.   \n",
       "247     710  South Africa  South Africa  South Africa   \n",
       "248     894        Zambia        Zambia        Zambia   \n",
       "249     716      Zimbabwe      Zimbabwe      Zimbabwe   \n",
       "\n",
       "                           ...                          \\\n",
       "245                        ...                           \n",
       "246                        ...                           \n",
       "247                        ...                           \n",
       "248                        ...                           \n",
       "249                        ...                           \n",
       "\n",
       "                          un_fr  un_n3 un_region         un_ru  \\\n",
       "245                  Samoa (le)    882   Oceania         Самоа   \n",
       "246                  Yémen (le)    887      Asia         Йемен   \n",
       "247  Afrique du Sud (l') [fém.]    710    Africa  Южная Африка   \n",
       "248                 Zambie (la)    894    Africa        Замбия   \n",
       "249               Zimbabwe (le)    716    Africa      Зимбабве   \n",
       "\n",
       "          un_subregi un_zh wb_a2 wb_a3                   wb_region  \\\n",
       "245        Polynesia   萨摩亚    WS   WSM         East Asia & Pacific   \n",
       "246     Western Asia    也门    RY   YEM  Middle East & North Africa   \n",
       "247  Southern Africa    南非    ZA   ZAF          Sub-Saharan Africa   \n",
       "248   Eastern Africa   赞比亚    ZM   ZMB          Sub-Saharan Africa   \n",
       "249   Eastern Africa  津巴布韦    ZW   ZWE          Sub-Saharan Africa   \n",
       "\n",
       "                                              geometry  \n",
       "245  (POLYGON ((-171.5700170559999 -13.938164971999...  \n",
       "246  (POLYGON ((53.30823945700016 12.11839453700017...  \n",
       "247  (POLYGON ((37.86378014400023 -46.9408505189998...  \n",
       "248  POLYGON ((30.39626306100012 -15.63599538099991...  \n",
       "249  POLYGON ((30.39626306100012 -15.63599538099991...  \n",
       "\n",
       "[5 rows x 29 columns]"
      ]
     },
     "execution_count": 27,
     "metadata": {},
     "output_type": "execute_result"
    }
   ],
   "source": [
    "countries.tail()"
   ]
  },
  {
   "cell_type": "code",
   "execution_count": 28,
   "metadata": {
    "collapsed": true
   },
   "outputs": [],
   "source": [
    "#Create new dataframe with desired attribute columns\n",
    "new_borders = gpd.GeoDataFrame(columns = ['name','id','geometry'])"
   ]
  },
  {
   "cell_type": "code",
   "execution_count": 30,
   "metadata": {},
   "outputs": [
    {
     "data": {
      "text/html": [
       "<div>\n",
       "<style>\n",
       "    .dataframe thead tr:only-child th {\n",
       "        text-align: right;\n",
       "    }\n",
       "\n",
       "    .dataframe thead th {\n",
       "        text-align: left;\n",
       "    }\n",
       "\n",
       "    .dataframe tbody tr th {\n",
       "        vertical-align: top;\n",
       "    }\n",
       "</style>\n",
       "<table border=\"1\" class=\"dataframe\">\n",
       "  <thead>\n",
       "    <tr style=\"text-align: right;\">\n",
       "      <th></th>\n",
       "      <th>name</th>\n",
       "      <th>id</th>\n",
       "      <th>geometry</th>\n",
       "    </tr>\n",
       "  </thead>\n",
       "  <tbody>\n",
       "    <tr>\n",
       "      <th>232</th>\n",
       "      <td>Republic of South Africa</td>\n",
       "      <td>ZAF</td>\n",
       "      <td>(POLYGON ((37.86378014400023 -46.9408505189998...</td>\n",
       "    </tr>\n",
       "    <tr>\n",
       "      <th>233</th>\n",
       "      <td>Republic of Zambia</td>\n",
       "      <td>ZMB</td>\n",
       "      <td>POLYGON ((30.39626306100012 -15.63599538099991...</td>\n",
       "    </tr>\n",
       "    <tr>\n",
       "      <th>234</th>\n",
       "      <td>Republic of Zimbabwe</td>\n",
       "      <td>ZWE</td>\n",
       "      <td>POLYGON ((30.39626306100012 -15.63599538099991...</td>\n",
       "    </tr>\n",
       "    <tr>\n",
       "      <th>235</th>\n",
       "      <td>Morocco</td>\n",
       "      <td>MAR</td>\n",
       "      <td>POLYGON ((-8.682385212999918 27.66143931100009...</td>\n",
       "    </tr>\n",
       "    <tr>\n",
       "      <th>236</th>\n",
       "      <td>Western Sahara</td>\n",
       "      <td>ESH</td>\n",
       "      <td>POLYGON ((-13.17825448768886 27.66249098104142...</td>\n",
       "    </tr>\n",
       "  </tbody>\n",
       "</table>\n",
       "</div>"
      ],
      "text/plain": [
       "                         name   id  \\\n",
       "232  Republic of South Africa  ZAF   \n",
       "233        Republic of Zambia  ZMB   \n",
       "234      Republic of Zimbabwe  ZWE   \n",
       "235                   Morocco  MAR   \n",
       "236            Western Sahara  ESH   \n",
       "\n",
       "                                              geometry  \n",
       "232  (POLYGON ((37.86378014400023 -46.9408505189998...  \n",
       "233  POLYGON ((30.39626306100012 -15.63599538099991...  \n",
       "234  POLYGON ((30.39626306100012 -15.63599538099991...  \n",
       "235  POLYGON ((-8.682385212999918 27.66143931100009...  \n",
       "236  POLYGON ((-13.17825448768886 27.66249098104142...  "
      ]
     },
     "execution_count": 30,
     "metadata": {},
     "output_type": "execute_result"
    }
   ],
   "source": [
    "# Add new Morocco and W. Sahara back\n",
    "\n",
    "new_borders[['name','id','geometry']] = countries[['formal_nam','iso_a3', 'geometry']].append(morocco_2_part, ignore_index=True)\n",
    "    \n",
    "new_borders.tail()"
   ]
  },
  {
   "cell_type": "code",
   "execution_count": null,
   "metadata": {
    "collapsed": true
   },
   "outputs": [],
   "source": [
    "#Export to mapshaper and build\n",
    "!mkdir ./data/new_borders\n",
    "new_borders.to_file(driver = 'ESRI Shapefile', filename = './data/new_borders/new_borders.shp')"
   ]
  },
  {
   "cell_type": "code",
   "execution_count": null,
   "metadata": {
    "collapsed": true
   },
   "outputs": [],
   "source": [
    "# Now, zip the file and export to mapshaper... creating a topojson (simplify to 6%)"
   ]
  },
  {
   "cell_type": "code",
   "execution_count": null,
   "metadata": {
    "collapsed": true
   },
   "outputs": [],
   "source": []
  },
  {
   "cell_type": "code",
   "execution_count": null,
   "metadata": {
    "collapsed": true
   },
   "outputs": [],
   "source": []
  }
 ],
 "metadata": {
  "kernelspec": {
   "display_name": "Python 3",
   "language": "python",
   "name": "python3"
  },
  "language_info": {
   "codemirror_mode": {
    "name": "ipython",
    "version": 3
   },
   "file_extension": ".py",
   "mimetype": "text/x-python",
   "name": "python",
   "nbconvert_exporter": "python",
   "pygments_lexer": "ipython3",
   "version": "3.6.2"
  }
 },
 "nbformat": 4,
 "nbformat_minor": 2
}
