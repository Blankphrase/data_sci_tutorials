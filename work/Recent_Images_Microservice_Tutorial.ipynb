{
 "cells": [
  {
   "cell_type": "markdown",
   "metadata": {},
   "source": [
    "# Recent Images Microservice\n",
    "\n",
    "This microservice can be used to request multiple tile urls, thumbnail urls and metadata from Google Earth Engine (GEE) in a fast, asynchronus way.\n",
    "\n",
    "### Overview\n",
    "\n",
    "On the GFW map page users can currently use the *Sentinel service* to inspect a single satellite image tile for a given area of interest when at high zoom level. The tile url of the image with the lowest ```cloud_score``` within a selected date range is requested from GEE and used on the front end to display the image.\n",
    "\n",
    "This microservice builds on this idea by requesting all images in the date range asynchronously as well as the corresponding thumbnail urls and associated metadata.\n",
    "\n",
    "***\n",
    "\n",
    "### Intended Useage\n",
    "\n",
    "The microservice is intented to be implemented in 3 stages on the front end:\n",
    "\n",
    "1) First, do a GET request for the metadata from a GEE image collection (ordered by CLOUDY_PIXEL_PERCENTAGE), as well as the tile url for the best image (i.e. the one with the lowest CLOUDY_PIXEL_PERCENTAGE score)\n",
    "\n",
    "2) Next POST a payload containing the ```'source'``` values of all images to the ```/v1/recent-tiles/tiles``` endpoint, which returns the tile urls for the associated images.\n",
    "\n",
    "3) Finally POST the same payload to the ```/v1/recent-tiles/thumbs``` endpoint, which returns all associated thumbnail urls.\n",
    "\n",
    "***\n",
    "\n",
    "\n",
    "### Endpoints\n",
    "\n",
    "The microservice has 3 endpoints:\n",
    "\n",
    "**/v1/recent-tiles** (GET)\n",
    "- *Returns tile metadata and a single tile url*\n",
    "- url params: ```lat, lon, start, end```\n",
    "\n",
    "**/v1/recent-tiles/tiles** (POST)\n",
    "- *Returns all tile urls*\n",
    "- payload: ```list of JSON objects containing 'source' value```\n",
    "\n",
    "**/v1/recent-tiles/thumbs** (POST)\n",
    "- *Returns all thumb urls*\n",
    "- payload: ```list of JSON objects containing 'source' value```\n",
    "\n",
    "\n",
    "\n"
   ]
  },
  {
   "cell_type": "code",
   "execution_count": 9,
   "metadata": {},
   "outputs": [],
   "source": [
    "import folium\n",
    "import os\n",
    "import ee\n",
    "import json\n",
    "import requests\n",
    "import math\n",
    "from scipy import misc\n",
    "import shutil\n",
    "from pprint import pprint\n",
    "import requests\n",
    "from IPython.display import Image"
   ]
  },
  {
   "cell_type": "markdown",
   "metadata": {
    "collapsed": true
   },
   "source": [
    "# Request 1\n",
    "\n",
    "First query requests data for the following params, for example:\n",
    "\n",
    "```json\n",
    "    url = f\"https://production-api.globalforestwatch.org/v1/recent-tiles\"\n",
    "    params = {'lat':'-16.644','lon':'28.266', 'start':'2016-01-01', 'end': \"2016-01-08\"}\n",
    "```\n",
    "\n",
    "And returns an object of the following format:\n",
    "\n",
    "```json\n",
    "\"data\": [\n",
    "    {\n",
    "        \"attributes\": {\n",
    "        \"boundary_tiles\": \"https://earthengine.googleapis.com/map/4b1b...\",\n",
    "        \"cloud_score\": 13.1214,\n",
    "        \"date_time\": \"2017-01-31 11:52:11Z\",\n",
    "        \"instrument\": \"Sentinel-2A\",\n",
    "        \"source\": \"COPERNICUS/S2/20170131T115211_20170131T115306_T28RCS\",\n",
    "        \"thumbnail_url\": Null,\n",
    "        \"tile_url\": Null\n",
    "        },\n",
    "        \"id\": Null,\n",
    "        \"type\": \"recent_tiles_url\"\n",
    "    }\n",
    "\n",
    "```\n",
    "\n",
    "There may be multiple values in the ```'data'``` list (expect one image per 8 days approx.)\n"
   ]
  },
  {
   "cell_type": "code",
   "execution_count": 10,
   "metadata": {
    "scrolled": false
   },
   "outputs": [
    {
     "name": "stdout",
     "output_type": "stream",
     "text": [
      "https://production-api.globalforestwatch.org/v1/recent-tiles?lat=-16.644&lon=28.266&start=2016-01-01&end=2016-9-01\n",
      "Returned 21 items. \n",
      "Preview of first 3...\n",
      "[{'attributes': {'boundary_url': 'https://earthengine.googleapis.com/map/4b1b9c6f82d50796562521502bc4d9a2/{z}/{x}/{y}?token=3b62d76749d0c096f8196be749040215',\n",
      "                 'cloud_score': 0.4339,\n",
      "                 'date_time': '2016-03-17 11:53:14Z',\n",
      "                 'instrument': 'Sentinel-2A',\n",
      "                 'source': 'COPERNICUS/S2/20160317T115314_20160317T172609_T28RCS',\n",
      "                 'thumbnail_url': None,\n",
      "                 'tile_url': 'https://earthengine.googleapis.com/map/daf140b2b3e97b1be86bb49893314cd0/{z}/{x}/{y}?token=8323e8319395285243f95913c69d9383'},\n",
      "  'id': None,\n",
      "  'type': 'recent_tiles_data'},\n",
      " {'attributes': {'boundary_url': 'https://earthengine.googleapis.com/map/4b1b9c6f82d50796562521502bc4d9a2/{z}/{x}/{y}?token=3b62d76749d0c096f8196be749040215',\n",
      "                 'cloud_score': 3.1135,\n",
      "                 'date_time': '2016-06-05 11:53:14Z',\n",
      "                 'instrument': 'Sentinel-2A',\n",
      "                 'source': 'COPERNICUS/S2/20160605T115314_20160605T200612_T28RCS',\n",
      "                 'thumbnail_url': None,\n",
      "                 'tile_url': None},\n",
      "  'id': None,\n",
      "  'type': 'recent_tiles_data'},\n",
      " {'attributes': {'boundary_url': 'https://earthengine.googleapis.com/map/4b1b9c6f82d50796562521502bc4d9a2/{z}/{x}/{y}?token=3b62d76749d0c096f8196be749040215',\n",
      "                 'cloud_score': 5.6817,\n",
      "                 'date_time': '2016-04-16 11:52:20Z',\n",
      "                 'instrument': 'Sentinel-2A',\n",
      "                 'source': 'COPERNICUS/S2/20160416T115220_20160416T172059_T28RCS',\n",
      "                 'thumbnail_url': None,\n",
      "                 'tile_url': None},\n",
      "  'id': None,\n",
      "  'type': 'recent_tiles_data'}]\n",
      "CPU times: user 22.4 ms, sys: 4.45 ms, total: 26.8 ms\n",
      "Wall time: 2.36 s\n"
     ]
    }
   ],
   "source": [
    "%%time\n",
    "# Request metadata (6 month period)\n",
    "\n",
    "url = f\"https://production-api.globalforestwatch.org/v1/recent-tiles\"\n",
    "params= {'lat':'-16.644','lon':'28.266', 'start':'2016-01-01', 'end': \"2016-9-01\"}\n",
    "r = requests.get(url, params=params)\n",
    "print(r.url)\n",
    "r.status_code\n",
    "\n",
    "data = r.json().get('data')\n",
    "\n",
    "print(f\"Returned {len(data)} items. \\nPreview of first 3...\")\n",
    "pprint(data[0:3])"
   ]
  },
  {
   "cell_type": "code",
   "execution_count": 11,
   "metadata": {},
   "outputs": [
    {
     "name": "stdout",
     "output_type": "stream",
     "text": [
      "https://earthengine.googleapis.com/map/daf140b2b3e97b1be86bb49893314cd0/{z}/{x}/{y}?token=8323e8319395285243f95913c69d9383\n"
     ]
    }
   ],
   "source": [
    "# In the returned data, one of the rows of data will contain a valid tile url, which\n",
    "# should be used to immediatley display an image...\n",
    "for row in data:\n",
    "    if row.get('attributes').get('tile_url') is not None:\n",
    "        tile_url = row.get('attributes').get('tile_url')\n",
    "        print(tile_url)"
   ]
  },
  {
   "cell_type": "code",
   "execution_count": 21,
   "metadata": {},
   "outputs": [],
   "source": [
    "quick_map = folium.Map(location=[float(params['lon']), float(params['lat'])], zoom_start=9, tiles='Mapbox Bright' )\n",
    "quick_map.add_tile_layer(tiles=tile_url, max_zoom=19, min_zoom=6, attr=\"Live EE tiles\")\n",
    "#quick_map"
   ]
  },
  {
   "cell_type": "markdown",
   "metadata": {},
   "source": [
    "![](./pics/ten1.png)"
   ]
  },
  {
   "cell_type": "markdown",
   "metadata": {},
   "source": [
    "# Creating Payload for POST\n",
    "\n",
    "On the front end, the response must be used to buld a list of objects containing the ```'source'``` values of the images in the collection.\n",
    "\n",
    "*e.g.*\n",
    "\n",
    "```json\n",
    "{'source_data':\n",
    "    \n",
    "    [\n",
    "        {\"source\": \"COPERNICUS/S2/20170131T11...\"},\n",
    "        {\"source\": \"COPERNICUS/S2/20170131T12...\"},\n",
    "        {\"source\": \"COPERNICUS/S2/20170131T13...\"},    \n",
    "        \n",
    "        ...\n",
    "      \n",
    "        {\"source\": \"COPERNICUS/S2/20170131T1N...\"}\n",
    "    ]\n",
    " }\n",
    "\n",
    "```"
   ]
  },
  {
   "cell_type": "code",
   "execution_count": 14,
   "metadata": {},
   "outputs": [
    {
     "data": {
      "text/plain": [
       "[{'source': 'COPERNICUS/S2/20160317T115314_20160317T172609_T28RCS'},\n",
       " {'source': 'COPERNICUS/S2/20160605T115314_20160605T200612_T28RCS'},\n",
       " {'source': 'COPERNICUS/S2/20160416T115220_20160416T172059_T28RCS'},\n",
       " {'source': 'COPERNICUS/S2/20160725T115222_20160725T184330_T28RCS'},\n",
       " {'source': 'COPERNICUS/S2/20160824T115222_20160824T200405_T28RCS'},\n",
       " {'source': 'COPERNICUS/S2/20160715T115224_20160715T200356_T28RCS'},\n",
       " {'source': 'COPERNICUS/S2/20160506T115225_20160506T184707_T28RCS'},\n",
       " {'source': 'COPERNICUS/S2/20160814T115222_20160814T184201_T28RCS'},\n",
       " {'source': 'COPERNICUS/S2/20160327T115315_20160327T172523_T28RCS'},\n",
       " {'source': 'COPERNICUS/S2/20160615T115223_20160615T183608_T28RCS'},\n",
       " {'source': 'COPERNICUS/S2/20160804T115238_20160804T200426_T28RCS'},\n",
       " {'source': 'COPERNICUS/S2/20160117T115842_20160117T172446_T28RCS'},\n",
       " {'source': 'COPERNICUS/S2/20160526T115225_20160526T184022_T28RCS'},\n",
       " {'source': 'COPERNICUS/S2/20160406T115217_20160406T185930_T28RCS'},\n",
       " {'source': 'COPERNICUS/S2/20160625T115243_20160625T200443_T28RCS'},\n",
       " {'source': 'COPERNICUS/S2/20160426T115223_20160426T184333_T28RCS'},\n",
       " {'source': 'COPERNICUS/S2/20160107T115414_20160108T134003_T28RCS'},\n",
       " {'source': 'COPERNICUS/S2/20160516T115226_20160516T185815_T28RCS'},\n",
       " {'source': 'COPERNICUS/S2/20160216T115313_20160216T173530_T28RCS'},\n",
       " {'source': 'COPERNICUS/S2/20160307T115313_20160307T211100_T28RCS'},\n",
       " {'source': 'COPERNICUS/S2/20160206T115314_20160206T190102_T28RCS'}]"
      ]
     },
     "execution_count": 14,
     "metadata": {},
     "output_type": "execute_result"
    }
   ],
   "source": [
    "#example of how to construct the source list\n",
    "\n",
    "source_list = [{'source': d.get('attributes').get('source')} for d in data]    \n",
    "    \n",
    "source_list"
   ]
  },
  {
   "cell_type": "markdown",
   "metadata": {},
   "source": [
    "### Request tiles using the payload\n",
    "\n",
    "*IMPORTANT*\n",
    "\n",
    "- The json must have the key ```'source_data'```\n",
    "\n",
    "- It must have the following header: ```headers={'Content-Type': 'application/json'}```"
   ]
  },
  {
   "cell_type": "code",
   "execution_count": 15,
   "metadata": {},
   "outputs": [
    {
     "name": "stdout",
     "output_type": "stream",
     "text": [
      "Returned tile urls for 21 ids.\n",
      "Previewing first 3 items...\n",
      "[{'source_id': 'COPERNICUS/S2/20160317T115314_20160317T172609_T28RCS',\n",
      "  'tile_url': 'https://earthengine.googleapis.com/map/daf140b2b3e97b1be86bb49893314cd0/{z}/{x}/{y}?token=772bdcd0abf69c06ccaaa27ed63f4bb5'},\n",
      " {'source_id': 'COPERNICUS/S2/20160605T115314_20160605T200612_T28RCS',\n",
      "  'tile_url': 'https://earthengine.googleapis.com/map/4a5c95e26f3561323033c9e78aeea33c/{z}/{x}/{y}?token=e9448686d8e6919c4880cfe73f3a9842'},\n",
      " {'source_id': 'COPERNICUS/S2/20160416T115220_20160416T172059_T28RCS',\n",
      "  'tile_url': 'https://earthengine.googleapis.com/map/ab0b08438d564fc4822fbb3fd50c7f9a/{z}/{x}/{y}?token=ddeef908a8c5bd5834315951f50ab8cd'}]\n",
      "CPU times: user 22.4 ms, sys: 3.18 ms, total: 25.6 ms\n",
      "Wall time: 1.2 s\n"
     ]
    }
   ],
   "source": [
    "%%time\n",
    "\n",
    "url = f\"https://production-api.globalforestwatch.org/v1/recent-tiles/tiles\"\n",
    "payload = {'source_data': source_list}\n",
    "r = requests.post(url, data=json.dumps(payload), headers={'Content-Type': 'application/json'})\n",
    "r.status_code\n",
    "\n",
    "tile_data = r.json().get('data').get('attributes')\n",
    "print(f\"Returned tile urls for {len(tile_data)} ids.\\nPreviewing first 3 items...\")\n",
    "pprint(tile_data[0:3])"
   ]
  },
  {
   "cell_type": "markdown",
   "metadata": {},
   "source": [
    "### Tiles Response\n",
    "\n",
    "At this stage the data now looks like:\n",
    "\n",
    "```json\n",
    "{'data': {\n",
    "    'attributes': [{\"source\": \"COPERNICUS/S2/20170131T11...\",\n",
    "                    \"tile_url\": \"https://earthengine.googleapis.com/api/thumb?thumbid=...\"\n",
    "                   },{\n",
    "                    \"source\": \"COPERNICUS/S2/20170131T12...\",\n",
    "                    \"tiles_url\": \"https://earthengine.googleapis.com/api/thumb?thumbid=...\"\n",
    "                   },           \n",
    "                      ...\n",
    "      \n",
    "                    {\n",
    "                    \"source\": \"COPERNICUS/S2/20170131T1N...\",\n",
    "                    \"tiles_url\": \"https://earthengine.googleapis.com/api/thumb?thumbid=...\"\n",
    "                   }],\n",
    "          'id': None,\n",
    "          'type': 'recent_tiles_url'}}\n",
    "          }\n",
    "}\n",
    "```"
   ]
  },
  {
   "cell_type": "markdown",
   "metadata": {},
   "source": [
    "### Thumbnail service\n",
    "\n",
    "The thumbnail images will be needed. We must request them seperatley."
   ]
  },
  {
   "cell_type": "code",
   "execution_count": 16,
   "metadata": {},
   "outputs": [
    {
     "name": "stdout",
     "output_type": "stream",
     "text": [
      "[{'source': 'COPERNICUS/S2/20160317T115314_20160317T172609_T28RCS',\n",
      "  'thumbnail_url': 'https://earthengine.googleapis.com/api/thumb?thumbid=f8d1d5c66a6d3e7dc30002e663242830&token=778f906027b341e1807751fb9cd7d241'},\n",
      " {'source': 'COPERNICUS/S2/20160605T115314_20160605T200612_T28RCS',\n",
      "  'thumbnail_url': 'https://earthengine.googleapis.com/api/thumb?thumbid=fbcea1cc967a46d14c48c2367c0bf5a3&token=b093d5237097bb345384fe22a451435d'},\n",
      " {'source': 'COPERNICUS/S2/20160416T115220_20160416T172059_T28RCS',\n",
      "  'thumbnail_url': 'https://earthengine.googleapis.com/api/thumb?thumbid=1bfbf427df20fd31c68ab9f575ff04f2&token=b8aef3b042394d922f71caf6027fd162'}]\n",
      "CPU times: user 20.2 ms, sys: 3.79 ms, total: 24 ms\n",
      "Wall time: 1.66 s\n"
     ]
    }
   ],
   "source": [
    "%%time\n",
    "\n",
    "# Request thumbs using the payload\n",
    "\n",
    "url = f\"https://production-api.globalforestwatch.org/v1/recent-tiles/thumbs\"\n",
    "payload = {'source_data':source_list}\n",
    "r = requests.post(url, data=json.dumps(payload), headers={'Content-Type': 'application/json'})\n",
    "r.status_code\n",
    "\n",
    "thumb_data = r.json().get('data').get('attributes')\n",
    "\n",
    "pprint(thumb_data[0:3])"
   ]
  },
  {
   "cell_type": "code",
   "execution_count": 17,
   "metadata": {},
   "outputs": [
    {
     "data": {
      "text/html": [
       "<img src=\"https://earthengine.googleapis.com/api/thumb?thumbid=f8d1d5c66a6d3e7dc30002e663242830&token=778f906027b341e1807751fb9cd7d241\"/>"
      ],
      "text/plain": [
       "<IPython.core.display.Image object>"
      ]
     },
     "execution_count": 17,
     "metadata": {},
     "output_type": "execute_result"
    }
   ],
   "source": [
    "# E.g. of a thumbnail\n",
    "\n",
    "for row in thumb_data:\n",
    "    thumb_url = row.get('thumbnail_url')\n",
    "    break\n",
    "    \n",
    "Image(url=thumb_url)      "
   ]
  },
  {
   "cell_type": "markdown",
   "metadata": {},
   "source": [
    "### Build a JSON object to work from\n",
    "\n",
    "At this stage you can construct a json object like the following:\n",
    "\n",
    "```json\n",
    "{'data': {\n",
    "    'attributes': [{\"source\": \"COPERNICUS/S2/20170131T11...\",\n",
    "                    \"thumbnail_url\": \"https://earthengine.googleapis.com/api/thumb?thumbid=...\"\n",
    "                   },{\n",
    "                    \"source\": \"COPERNICUS/S2/20170131T12...\",\n",
    "                    \"thumbnail_url\": \"https://earthengine.googleapis.com/api/thumb?thumbid=...\"\n",
    "                   },           \n",
    "                      ...\n",
    "      \n",
    "                    {\n",
    "                    \"source\": \"COPERNICUS/S2/20170131T1N...\",\n",
    "                    \"thumbnail_url\": \"https://earthengine.googleapis.com/api/thumb?thumbid=...\"\n",
    "                   }],\n",
    "          'id': None,\n",
    "          'type': 'recent_thumbs_url'}}\n",
    "          }\n",
    "}\n",
    "```"
   ]
  },
  {
   "cell_type": "markdown",
   "metadata": {},
   "source": [
    "# Image Example for Map"
   ]
  },
  {
   "cell_type": "code",
   "execution_count": 18,
   "metadata": {},
   "outputs": [],
   "source": [
    "# Returned First Image and Boundary\n",
    "\n",
    "dt = data[0].get('attributes').get('date_time')\n",
    "boundary = data[0].get('attributes').get('boundary_url')\n",
    "sentinel_image = data[0].get('attributes').get('tile_url')"
   ]
  },
  {
   "cell_type": "code",
   "execution_count": 22,
   "metadata": {
    "scrolled": false
   },
   "outputs": [],
   "source": [
    "sentinel_map = folium.Map(location=[float(params['lon']), float(params['lat'])], zoom_start=9, tiles='Mapbox Bright' )\n",
    "sentinel_map.add_tile_layer(tiles=sentinel_image, max_zoom=19, min_zoom=6, attr=\"Live EE tiles\")\n",
    "sentinel_map.add_tile_layer(tiles=boundary, max_zoom=19, min_zoom=6, attr=\"Live EE tiles\")\n",
    "#sentinel_map"
   ]
  },
  {
   "cell_type": "markdown",
   "metadata": {},
   "source": [
    "![](./pics/ten2.png)"
   ]
  },
  {
   "cell_type": "code",
   "execution_count": null,
   "metadata": {
    "collapsed": true
   },
   "outputs": [],
   "source": []
  }
 ],
 "metadata": {
  "kernelspec": {
   "display_name": "Python 3",
   "language": "python",
   "name": "python3"
  },
  "language_info": {
   "codemirror_mode": {
    "name": "ipython",
    "version": 3
   },
   "file_extension": ".py",
   "mimetype": "text/x-python",
   "name": "python",
   "nbconvert_exporter": "python",
   "pygments_lexer": "ipython3",
   "version": "3.6.4"
  }
 },
 "nbformat": 4,
 "nbformat_minor": 2
}
