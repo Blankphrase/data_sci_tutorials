{
 "cells": [
  {
   "cell_type": "markdown",
   "metadata": {},
   "source": [
    "# Recent Images Microservice\n",
    "\n",
    "This microservice can be used to request multiple tile urls, thumbnail urls and metadata from Google Earth Engine (GEE) in a fast, asynchronus way.\n",
    "\n",
    "### Overview\n",
    "\n",
    "On the GFW map page users can currently use the *Sentinel service* to inspect a single satellite image tile for a given area of interest when at high zoom level. The tile url of the image with the lowest ```cloud_score``` within a selected date range is requested from GEE and used on the front end to display the image.\n",
    "\n",
    "This microservice build on this idea by requesting all images in the date range asynchronously as well as teh corresponding thumbnail urls and associated metadata.\n",
    "\n",
    "***\n",
    "\n",
    "### Intended Useage\n",
    "\n",
    "The microservice is intented to be implemented in 3 stages on the front end:\n",
    "\n",
    "1) First, do a GET request for the metadata from a GEE image collection (ordered by CLOUDY_PIXEL_PERCENTAGE), as well as the tile url for the best image (i.e. the one with the lowest CLOUDY_PIXEL_PERCENTAGE score)\n",
    "\n",
    "2) Next POST a payload containing the ```'source'``` values of all images to the ```/v1/recent-tiles/tiles``` endpoint, which returns the tile urls for the associated images.\n",
    "\n",
    "3) Finally POST the same payload to the ```/v1/recent-tiles/thumbs``` endpoint, which returns all associated thumbnail urls.\n",
    "\n",
    "***\n",
    "\n",
    "\n",
    "### Endpoints\n",
    "\n",
    "The microservice has 3 endpoints:\n",
    "\n",
    "**/v1/recent-tiles** (GET)\n",
    "- *Returns tile metadata and a single tile url*\n",
    "- url params: ```lat, lon, start, end```\n",
    "\n",
    "**/v1/recent-tiles/tiles** (POST)\n",
    "- *Returns all tile urls*\n",
    "- payload: ```list of JSON objects containing 'source' value```\n",
    "\n",
    "**/v1/recent-tiles/thumbs** (POST)\n",
    "- *Returns all thumb urls*\n",
    "- payload: ```list of JSON objects containing 'source' value```\n",
    "\n",
    "\n",
    "\n"
   ]
  },
  {
   "cell_type": "code",
   "execution_count": 1,
   "metadata": {
    "collapsed": true
   },
   "outputs": [],
   "source": [
    "import folium\n",
    "import os\n",
    "import ee\n",
    "import json\n",
    "import requests\n",
    "import math\n",
    "from scipy import misc\n",
    "import shutil\n",
    "from pprint import pprint\n",
    "import requests\n",
    "from IPython.display import Image\n"
   ]
  },
  {
   "cell_type": "markdown",
   "metadata": {
    "collapsed": true
   },
   "source": [
    "# Request 1\n",
    "\n",
    "First query requests data for the following params, for example:\n",
    "\n",
    "```json\n",
    "    url = f\"https://staging-api.globalforestwatch.org/v1/recent-tiles\"\n",
    "    params = {'lat':'-16.644','lon':'28.266', 'start':'2016-01-01', 'end': \"2016-01-08\"}\n",
    "```\n",
    "\n",
    "And returns an object of the following format:\n",
    "\n",
    "```json\n",
    "\"data\": [\n",
    "    {\n",
    "        \"attributes\": {\n",
    "        \"boundary_tiles\": \"https://earthengine.googleapis.com/map/4b1b...\",\n",
    "        \"cloud_score\": 13.1214,\n",
    "        \"date_time\": \"2017-01-31 11:52:11Z\",\n",
    "        \"instrument\": \"2017-01-31 11:52:11Z\",\n",
    "        \"source\": \"COPERNICUS/S2/20170131T115211_20170131T115306_T28RCS\",\n",
    "        \"thumbnail_url\": Null,\n",
    "        \"tile_url\": Null\n",
    "        },\n",
    "        \"id\": Null,\n",
    "        \"type\": \"recent_tiles_url\"\n",
    "    }\n",
    "\n",
    "```\n",
    "\n",
    "There may be multiple values in the ```'data'``` list (expect one image per 8 days approx.)\n"
   ]
  },
  {
   "cell_type": "code",
   "execution_count": 10,
   "metadata": {
    "scrolled": false
   },
   "outputs": [
    {
     "name": "stdout",
     "output_type": "stream",
     "text": [
      "[{'attributes': {'boundary_url': 'https://earthengine.googleapis.com/map/4b1b9c6f82d50796562521502bc4d9a2/{z}/{x}/{y}?token=95a9ff889c620d95c60f70d67ea05903',\n",
      "                 'cloud_score': 0.4339,\n",
      "                 'date_time': '2016-03-17 11:53:14Z',\n",
      "                 'instrument': 'Sentinel-2A',\n",
      "                 'source': 'COPERNICUS/S2/20160317T115314_20160317T172609_T28RCS',\n",
      "                 'thumbnail_url': None,\n",
      "                 'tile_url': 'https://earthengine.googleapis.com/map/5d9dac31193dfb4ef1003021827755cc/{z}/{x}/{y}?token=78d9db699b548c9130a72a3f49b28e49'},\n",
      "  'id': None,\n",
      "  'type': 'recent_tiles_data'},\n",
      " {'attributes': {'boundary_url': 'https://earthengine.googleapis.com/map/4b1b9c6f82d50796562521502bc4d9a2/{z}/{x}/{y}?token=95a9ff889c620d95c60f70d67ea05903',\n",
      "                 'cloud_score': 3.1135,\n",
      "                 'date_time': '2016-06-05 11:53:14Z',\n",
      "                 'instrument': 'Sentinel-2A',\n",
      "                 'source': 'COPERNICUS/S2/20160605T115314_20160605T200612_T28RCS',\n",
      "                 'thumbnail_url': None,\n",
      "                 'tile_url': None},\n",
      "  'id': None,\n",
      "  'type': 'recent_tiles_data'},\n",
      " {'attributes': {'boundary_url': 'https://earthengine.googleapis.com/map/4b1b9c6f82d50796562521502bc4d9a2/{z}/{x}/{y}?token=95a9ff889c620d95c60f70d67ea05903',\n",
      "                 'cloud_score': 5.6817,\n",
      "                 'date_time': '2016-04-16 11:52:20Z',\n",
      "                 'instrument': 'Sentinel-2A',\n",
      "                 'source': 'COPERNICUS/S2/20160416T115220_20160416T172059_T28RCS',\n",
      "                 'thumbnail_url': None,\n",
      "                 'tile_url': None},\n",
      "  'id': None,\n",
      "  'type': 'recent_tiles_data'}]\n",
      "CPU times: user 26.6 ms, sys: 6.63 ms, total: 33.3 ms\n",
      "Wall time: 1.18 s\n"
     ]
    }
   ],
   "source": [
    "%%time\n",
    "# Request metadata (6 month period)\n",
    "\n",
    "url = f\"https://staging-api.globalforestwatch.org/v1/recent-tiles\"\n",
    "params= {'lat':'-16.644','lon':'28.266', 'start':'2016-01-01', 'end': \"2016-07-01\"}\n",
    "r = requests.get(url, params=params)\n",
    "r.status_code\n",
    "\n",
    "data = r.json().get('data')\n",
    "\n",
    "pprint(data[0:3])"
   ]
  },
  {
   "cell_type": "markdown",
   "metadata": {},
   "source": [
    "# Creating Payload for POST\n",
    "\n",
    "On the front end, the response must be used to buld a list of objects containing the ```'source'``` values of the images in the collection.\n",
    "\n",
    "*e.g.*\n",
    "\n",
    "```json\n",
    "{'source_data':\n",
    "    \n",
    "    [\n",
    "        {\"source\": \"COPERNICUS/S2/20170131T11...\"},\n",
    "        {\"source\": \"COPERNICUS/S2/20170131T12...\"},\n",
    "        {\"source\": \"COPERNICUS/S2/20170131T13...\"},    \n",
    "        \n",
    "        ...\n",
    "      \n",
    "        {\"source\": \"COPERNICUS/S2/20170131T1N...\"}\n",
    "    ]\n",
    " }\n",
    "\n",
    "```\n",
    "\n",
    "### IMPORTANT\n",
    "\n",
    "- *The json must have the key ```'source_data'```!*\n",
    "\n",
    "- Must have a the following header: ```headers={'Content-Type': 'application/json'}```"
   ]
  },
  {
   "cell_type": "code",
   "execution_count": 3,
   "metadata": {},
   "outputs": [
    {
     "data": {
      "text/plain": [
       "[{'source': 'COPERNICUS/S2/20160317T115314_20160317T172609_T28RCS'},\n",
       " {'source': 'COPERNICUS/S2/20160605T115314_20160605T200612_T28RCS'},\n",
       " {'source': 'COPERNICUS/S2/20160416T115220_20160416T172059_T28RCS'},\n",
       " {'source': 'COPERNICUS/S2/20160506T115225_20160506T184707_T28RCS'},\n",
       " {'source': 'COPERNICUS/S2/20160327T115315_20160327T172523_T28RCS'},\n",
       " {'source': 'COPERNICUS/S2/20160615T115223_20160615T183608_T28RCS'},\n",
       " {'source': 'COPERNICUS/S2/20160117T115842_20160117T172446_T28RCS'},\n",
       " {'source': 'COPERNICUS/S2/20160526T115225_20160526T184022_T28RCS'},\n",
       " {'source': 'COPERNICUS/S2/20160406T115217_20160406T185930_T28RCS'},\n",
       " {'source': 'COPERNICUS/S2/20160625T115243_20160625T200443_T28RCS'},\n",
       " {'source': 'COPERNICUS/S2/20160426T115223_20160426T184333_T28RCS'},\n",
       " {'source': 'COPERNICUS/S2/20160107T115414_20160108T134003_T28RCS'},\n",
       " {'source': 'COPERNICUS/S2/20160516T115226_20160516T185815_T28RCS'},\n",
       " {'source': 'COPERNICUS/S2/20160216T115313_20160216T173530_T28RCS'},\n",
       " {'source': 'COPERNICUS/S2/20160307T115313_20160307T211100_T28RCS'},\n",
       " {'source': 'COPERNICUS/S2/20160206T115314_20160206T190102_T28RCS'}]"
      ]
     },
     "execution_count": 3,
     "metadata": {},
     "output_type": "execute_result"
    }
   ],
   "source": [
    "#example of how to construct the source list\n",
    "\n",
    "source_list = []\n",
    "\n",
    "for d in data:\n",
    "    source_list.append({'source': d.get('attributes').get('source')}) \n",
    "source_list[:]"
   ]
  },
  {
   "cell_type": "code",
   "execution_count": 17,
   "metadata": {},
   "outputs": [
    {
     "name": "stdout",
     "output_type": "stream",
     "text": [
      "[{'source_id': 'COPERNICUS/S2/20160317T115314_20160317T172609_T28RCS',\n",
      "  'tile_url': 'https://earthengine.googleapis.com/map/5d9dac31193dfb4ef1003021827755cc/{z}/{x}/{y}?token=ac504f10bef46a8d61b40ddeef62110e'},\n",
      " {'source_id': 'COPERNICUS/S2/20160605T115314_20160605T200612_T28RCS',\n",
      "  'tile_url': 'https://earthengine.googleapis.com/map/73f2aa15a7e70eb5a99f3df87d06a979/{z}/{x}/{y}?token=dce55865ba9c2d9ea3daf0e359bd9c1c'},\n",
      " {'source_id': 'COPERNICUS/S2/20160416T115220_20160416T172059_T28RCS',\n",
      "  'tile_url': 'https://earthengine.googleapis.com/map/0dfc07c304574e3ac4b2d8a3c37e4374/{z}/{x}/{y}?token=58448e131ae67b98fa9fff4481addf0d'}]\n",
      "CPU times: user 21 ms, sys: 3.72 ms, total: 24.8 ms\n",
      "Wall time: 1.62 s\n"
     ]
    }
   ],
   "source": [
    "%%time\n",
    "# Request tiles using the payload\n",
    "\n",
    "url = f\"https://staging-api.globalforestwatch.org/v1/recent-tiles/tiles\"\n",
    "payload = {'source_data':source_list}\n",
    "r = requests.post(url, data=json.dumps(payload), headers={'Content-Type': 'application/json'})\n",
    "r.status_code\n",
    "\n",
    "tile_data = r.json().get('data').get('attributes')\n",
    "\n",
    "pprint(tile_data[0:3])"
   ]
  },
  {
   "cell_type": "markdown",
   "metadata": {},
   "source": [
    "### Tiles Response\n",
    "\n",
    "At this stage the data now looks like:\n",
    "\n",
    "```json\n",
    "{'data': {\n",
    "    'attributes': [{\"source\": \"COPERNICUS/S2/20170131T11...\",\n",
    "                    \"tile_url\": \"https://earthengine.googleapis.com/api/thumb?thumbid=...\"\n",
    "                   },{\n",
    "                    \"source\": \"COPERNICUS/S2/20170131T12...\",\n",
    "                    \"tiles_url\": \"https://earthengine.googleapis.com/api/thumb?thumbid=...\"\n",
    "                   },           \n",
    "                      ...\n",
    "      \n",
    "                    {\n",
    "                    \"source\": \"COPERNICUS/S2/20170131T1N...\",\n",
    "                    \"tiles_url\": \"https://earthengine.googleapis.com/api/thumb?thumbid=...\"\n",
    "                   }],\n",
    "          'id': None,\n",
    "          'type': 'recent_tiles_url'}}\n",
    "          }\n",
    "}\n",
    "```"
   ]
  },
  {
   "cell_type": "code",
   "execution_count": 15,
   "metadata": {},
   "outputs": [
    {
     "name": "stdout",
     "output_type": "stream",
     "text": [
      "[{'source': 'COPERNICUS/S2/20160317T115314_20160317T172609_T28RCS',\n",
      "  'thumbnail_url': 'https://earthengine.googleapis.com/api/thumb?thumbid=f8d1d5c66a6d3e7dc30002e663242830&token=337de0abb7ac3d4c8d8a545e1c72311b'},\n",
      " {'source': 'COPERNICUS/S2/20160605T115314_20160605T200612_T28RCS',\n",
      "  'thumbnail_url': 'https://earthengine.googleapis.com/api/thumb?thumbid=fbcea1cc967a46d14c48c2367c0bf5a3&token=83355743d9feec7f72205f9104420b0f'},\n",
      " {'source': 'COPERNICUS/S2/20160416T115220_20160416T172059_T28RCS',\n",
      "  'thumbnail_url': 'https://earthengine.googleapis.com/api/thumb?thumbid=1bfbf427df20fd31c68ab9f575ff04f2&token=1ce069e54de40d89f4b5053d14b0c337'}]\n",
      "CPU times: user 23.3 ms, sys: 4.64 ms, total: 27.9 ms\n",
      "Wall time: 2.81 s\n"
     ]
    }
   ],
   "source": [
    "%%time\n",
    "\n",
    "# Request thumbs using the payload\n",
    "\n",
    "url = f\"https://staging-api.globalforestwatch.org/v1/recent-tiles/thumbs\"\n",
    "payload = {'source_data':source_list}\n",
    "r = requests.post(url, data=json.dumps(payload), headers={'Content-Type': 'application/json'})\n",
    "r.status_code\n",
    "\n",
    "thumb_data = r.json().get('data').get('attributes')\n",
    "\n",
    "pprint(thumb_data[0:3])"
   ]
  },
  {
   "cell_type": "markdown",
   "metadata": {},
   "source": [
    "### Thumbs Response\n",
    "\n",
    "At this stage the data now looks like:\n",
    "\n",
    "```json\n",
    "{'data': {\n",
    "    'attributes': [{\"source\": \"COPERNICUS/S2/20170131T11...\",\n",
    "                    \"thumbnail_url\": \"https://earthengine.googleapis.com/api/thumb?thumbid=...\"\n",
    "                   },{\n",
    "                    \"source\": \"COPERNICUS/S2/20170131T12...\",\n",
    "                    \"thumbnail_url\": \"https://earthengine.googleapis.com/api/thumb?thumbid=...\"\n",
    "                   },           \n",
    "                      ...\n",
    "      \n",
    "                    {\n",
    "                    \"source\": \"COPERNICUS/S2/20170131T1N...\",\n",
    "                    \"thumbnail_url\": \"https://earthengine.googleapis.com/api/thumb?thumbid=...\"\n",
    "                   }],\n",
    "          'id': None,\n",
    "          'type': 'recent_thumbs_url'}}\n",
    "          }\n",
    "}\n",
    "```"
   ]
  },
  {
   "cell_type": "markdown",
   "metadata": {},
   "source": [
    "# Image Example for Map"
   ]
  },
  {
   "cell_type": "code",
   "execution_count": 6,
   "metadata": {
    "collapsed": true
   },
   "outputs": [],
   "source": [
    "# Returned First Image and Boundary\n",
    "\n",
    "dt = data[0].get('attributes').get('date_time')\n",
    "boundary = data[0].get('attributes').get('boundary_url')\n",
    "sentinel_image = data[0].get('attributes').get('tile_url')"
   ]
  },
  {
   "cell_type": "code",
   "execution_count": 7,
   "metadata": {
    "scrolled": false
   },
   "outputs": [
    {
     "data": {
      "text/html": [
       "<div style=\"width:100%;\"><div style=\"position:relative;width:100%;height:0;padding-bottom:60%;\"><iframe src=\"data:text/html;charset=utf-8;base64,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\" style=\"position:absolute;width:100%;height:100%;left:0;top:0;border:none !important;\" allowfullscreen webkitallowfullscreen mozallowfullscreen></iframe></div></div>"
      ],
      "text/plain": [
       "<folium.folium.Map at 0x180e2c4ac8>"
      ]
     },
     "execution_count": 7,
     "metadata": {},
     "output_type": "execute_result"
    }
   ],
   "source": [
    "sentinel_map = folium.Map(location=[float(params['lon']), float(params['lat'])], zoom_start=9, tiles='Mapbox Bright' )\n",
    "sentinel_map.add_tile_layer(tiles=sentinel_image, max_zoom=19, min_zoom=6, attr=\"Live EE tiles\")\n",
    "sentinel_map.add_tile_layer(tiles=boundary, max_zoom=19, min_zoom=6, attr=\"Live EE tiles\")\n",
    "sentinel_map"
   ]
  },
  {
   "cell_type": "code",
   "execution_count": 8,
   "metadata": {},
   "outputs": [
    {
     "data": {
      "text/html": [
       "<img src=\"https://earthengine.googleapis.com/api/thumb?thumbid=f8d1d5c66a6d3e7dc30002e663242830&token=e94d6946dbb0816f73965fbd64e1949a\"/>"
      ],
      "text/plain": [
       "<IPython.core.display.Image object>"
      ]
     },
     "execution_count": 8,
     "metadata": {},
     "output_type": "execute_result"
    }
   ],
   "source": [
    "# Corresponding Thumbnail\n",
    "\n",
    "thumbnail_image = thumb_data.get('attributes')[0].get('thumbnail_url')\n",
    "Image(url=thumbnail_image)"
   ]
  },
  {
   "cell_type": "code",
   "execution_count": null,
   "metadata": {
    "collapsed": true
   },
   "outputs": [],
   "source": []
  }
 ],
 "metadata": {
  "kernelspec": {
   "display_name": "Python 3",
   "language": "python",
   "name": "python3"
  },
  "language_info": {
   "codemirror_mode": {
    "name": "ipython",
    "version": 3
   },
   "file_extension": ".py",
   "mimetype": "text/x-python",
   "name": "python",
   "nbconvert_exporter": "python",
   "pygments_lexer": "ipython3",
   "version": "3.6.2"
  }
 },
 "nbformat": 4,
 "nbformat_minor": 2
}
