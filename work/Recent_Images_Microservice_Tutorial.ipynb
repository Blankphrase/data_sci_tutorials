{
 "cells": [
  {
   "cell_type": "markdown",
   "metadata": {},
   "source": [
    "# Recent Images Microservice\n",
    "\n",
    "This microservice can be used to request multiple tile urls, thumbnail urls and metadata from Google Earth Engine (GEE) in a fast, asynchronus way.\n",
    "\n",
    "### Overview\n",
    "\n",
    "On the GFW map page users can currently use the *Sentinel service* to inspect a single satellite image tile for a given area of interest when at high zoom level. The tile url of the image with the lowest ```cloud_score``` within a selected date range is requested from GEE and used on the front end to display the image.\n",
    "\n",
    "This microservice build on this idea by requesting all images in the date range asynchronously as well as teh corresponding thumbnail urls and associated metadata.\n",
    "\n",
    "***\n",
    "\n",
    "### Intended Useage\n",
    "\n",
    "The microservice is intented to be implemented in 3 stages on the front end:\n",
    "\n",
    "1) First, do a GET request for the metadata from a GEE image collection (ordered by CLOUDY_PIXEL_PERCENTAGE), as well as the tile url for the best image (i.e. the one with the lowest CLOUDY_PIXEL_PERCENTAGE score)\n",
    "\n",
    "2) Next POST a payload containing the ```'source'``` values of all images to the ```/v1/recent-tiles/tiles``` endpoint, which returns the tile urls for the associated images.\n",
    "\n",
    "3) Finally POST the same payload to the ```/v1/recent-tiles/thumbs``` endpoint, which returns all associated thumbnail urls.\n",
    "\n",
    "***\n",
    "\n",
    "\n",
    "### Endpoints\n",
    "\n",
    "The microservice has 3 endpoints:\n",
    "\n",
    "**/v1/recent-tiles** (GET)\n",
    "- *Returns tile metadata and a single tile url*\n",
    "- url params: ```lat, lon, start, end```\n",
    "\n",
    "**/v1/recent-tiles/tiles** (POST)\n",
    "- *Returns all tile urls*\n",
    "- payload: ```list of JSON objects containing 'source' value```\n",
    "\n",
    "**/v1/recent-tiles/thumbs** (POST)\n",
    "- *Returns all thumb urls*\n",
    "- payload: ```list of JSON objects containing 'source' value```\n",
    "\n",
    "\n",
    "\n"
   ]
  },
  {
   "cell_type": "code",
   "execution_count": 1,
   "metadata": {
    "collapsed": true
   },
   "outputs": [],
   "source": [
    "import folium\n",
    "import os\n",
    "import ee\n",
    "import json\n",
    "import requests\n",
    "import math\n",
    "from scipy import misc\n",
    "import shutil\n",
    "from pprint import pprint\n",
    "import requests\n",
    "from IPython.display import Image\n"
   ]
  },
  {
   "cell_type": "markdown",
   "metadata": {
    "collapsed": true
   },
   "source": [
    "# Request 1\n",
    "\n",
    "First query requests data for the following params, for example:\n",
    "\n",
    "```json\n",
    "    url = f\"https://staging-api.globalforestwatch.org/v1/recent-tiles\"\n",
    "    params = {'lat':'-16.644','lon':'28.266', 'start':'2016-01-01', 'end': \"2016-01-08\"}\n",
    "```\n",
    "\n",
    "And returns an object of the following format:\n",
    "\n",
    "```json\n",
    "\"data\": [\n",
    "    {\n",
    "        \"attributes\": {\n",
    "        \"boundary_tiles\": \"https://earthengine.googleapis.com/map/4b1b...\",\n",
    "        \"cloud_score\": 13.1214,\n",
    "        \"date_time\": \"2017-01-31 11:52:11Z\",\n",
    "        \"instrument\": \"2017-01-31 11:52:11Z\",\n",
    "        \"source\": \"COPERNICUS/S2/20170131T115211_20170131T115306_T28RCS\",\n",
    "        \"thumbnail_url\": Null,\n",
    "        \"tile_url\": Null\n",
    "        },\n",
    "        \"id\": Null,\n",
    "        \"type\": \"recent_tiles_url\"\n",
    "    }\n",
    "\n",
    "```\n",
    "\n",
    "There may be multiple values in the ```'data'``` list (expect one image per 8 days approx.)\n"
   ]
  },
  {
   "cell_type": "code",
   "execution_count": 2,
   "metadata": {
    "scrolled": false
   },
   "outputs": [
    {
     "name": "stdout",
     "output_type": "stream",
     "text": [
      "{'data': [{'attributes': {'boundary_url': 'https://earthengine.googleapis.com/map/4b1b9c6f82d50796562521502bc4d9a2/{z}/{x}/{y}?token=7db9ef223442a692cfe42fd081bbfa89',\n",
      "                          'cloud_score': 0.4339,\n",
      "                          'date_time': '2016-03-17 11:53:14Z',\n",
      "                          'instrument': 'Sentinel-2A',\n",
      "                          'source': 'COPERNICUS/S2/20160317T115314_20160317T172609_T28RCS',\n",
      "                          'thumbnail_url': None,\n",
      "                          'tile_url': 'https://earthengine.googleapis.com/map/5d9dac31193dfb4ef1003021827755cc/{z}/{x}/{y}?token=f72def774a9079052a2619c93ce09ac7'},\n",
      "           'id': None,\n",
      "           'type': 'recent_tiles_data'},\n",
      "          {'attributes': {'boundary_url': 'https://earthengine.googleapis.com/map/4b1b9c6f82d50796562521502bc4d9a2/{z}/{x}/{y}?token=7db9ef223442a692cfe42fd081bbfa89',\n",
      "                          'cloud_score': 3.1135,\n",
      "                          'date_time': '2016-06-05 11:53:14Z',\n",
      "                          'instrument': 'Sentinel-2A',\n",
      "                          'source': 'COPERNICUS/S2/20160605T115314_20160605T200612_T28RCS',\n",
      "                          'thumbnail_url': None,\n",
      "                          'tile_url': None},\n",
      "           'id': None,\n",
      "           'type': 'recent_tiles_data'},\n",
      "          {'attributes': {'boundary_url': 'https://earthengine.googleapis.com/map/4b1b9c6f82d50796562521502bc4d9a2/{z}/{x}/{y}?token=7db9ef223442a692cfe42fd081bbfa89',\n",
      "                          'cloud_score': 5.6817,\n",
      "                          'date_time': '2016-04-16 11:52:20Z',\n",
      "                          'instrument': 'Sentinel-2A',\n",
      "                          'source': 'COPERNICUS/S2/20160416T115220_20160416T172059_T28RCS',\n",
      "                          'thumbnail_url': None,\n",
      "                          'tile_url': None},\n",
      "           'id': None,\n",
      "           'type': 'recent_tiles_data'},\n",
      "          {'attributes': {'boundary_url': 'https://earthengine.googleapis.com/map/4b1b9c6f82d50796562521502bc4d9a2/{z}/{x}/{y}?token=7db9ef223442a692cfe42fd081bbfa89',\n",
      "                          'cloud_score': 15.2324,\n",
      "                          'date_time': '2016-05-06 11:52:25Z',\n",
      "                          'instrument': 'Sentinel-2A',\n",
      "                          'source': 'COPERNICUS/S2/20160506T115225_20160506T184707_T28RCS',\n",
      "                          'thumbnail_url': None,\n",
      "                          'tile_url': None},\n",
      "           'id': None,\n",
      "           'type': 'recent_tiles_data'},\n",
      "          {'attributes': {'boundary_url': 'https://earthengine.googleapis.com/map/4b1b9c6f82d50796562521502bc4d9a2/{z}/{x}/{y}?token=7db9ef223442a692cfe42fd081bbfa89',\n",
      "                          'cloud_score': 22.1073,\n",
      "                          'date_time': '2016-03-27 11:53:15Z',\n",
      "                          'instrument': 'Sentinel-2A',\n",
      "                          'source': 'COPERNICUS/S2/20160327T115315_20160327T172523_T28RCS',\n",
      "                          'thumbnail_url': None,\n",
      "                          'tile_url': None},\n",
      "           'id': None,\n",
      "           'type': 'recent_tiles_data'},\n",
      "          {'attributes': {'boundary_url': 'https://earthengine.googleapis.com/map/4b1b9c6f82d50796562521502bc4d9a2/{z}/{x}/{y}?token=7db9ef223442a692cfe42fd081bbfa89',\n",
      "                          'cloud_score': 24.2671,\n",
      "                          'date_time': '2016-06-15 11:52:23Z',\n",
      "                          'instrument': 'Sentinel-2A',\n",
      "                          'source': 'COPERNICUS/S2/20160615T115223_20160615T183608_T28RCS',\n",
      "                          'thumbnail_url': None,\n",
      "                          'tile_url': None},\n",
      "           'id': None,\n",
      "           'type': 'recent_tiles_data'},\n",
      "          {'attributes': {'boundary_url': 'https://earthengine.googleapis.com/map/4b1b9c6f82d50796562521502bc4d9a2/{z}/{x}/{y}?token=7db9ef223442a692cfe42fd081bbfa89',\n",
      "                          'cloud_score': 32,\n",
      "                          'date_time': '2016-01-17 11:58:42Z',\n",
      "                          'instrument': 'Sentinel-2A',\n",
      "                          'source': 'COPERNICUS/S2/20160117T115842_20160117T172446_T28RCS',\n",
      "                          'thumbnail_url': None,\n",
      "                          'tile_url': None},\n",
      "           'id': None,\n",
      "           'type': 'recent_tiles_data'},\n",
      "          {'attributes': {'boundary_url': 'https://earthengine.googleapis.com/map/4b1b9c6f82d50796562521502bc4d9a2/{z}/{x}/{y}?token=7db9ef223442a692cfe42fd081bbfa89',\n",
      "                          'cloud_score': 34.4654,\n",
      "                          'date_time': '2016-05-26 11:52:25Z',\n",
      "                          'instrument': 'Sentinel-2A',\n",
      "                          'source': 'COPERNICUS/S2/20160526T115225_20160526T184022_T28RCS',\n",
      "                          'thumbnail_url': None,\n",
      "                          'tile_url': None},\n",
      "           'id': None,\n",
      "           'type': 'recent_tiles_data'},\n",
      "          {'attributes': {'boundary_url': 'https://earthengine.googleapis.com/map/4b1b9c6f82d50796562521502bc4d9a2/{z}/{x}/{y}?token=7db9ef223442a692cfe42fd081bbfa89',\n",
      "                          'cloud_score': 36.1861,\n",
      "                          'date_time': '2016-04-06 11:52:17Z',\n",
      "                          'instrument': 'Sentinel-2A',\n",
      "                          'source': 'COPERNICUS/S2/20160406T115217_20160406T185930_T28RCS',\n",
      "                          'thumbnail_url': None,\n",
      "                          'tile_url': None},\n",
      "           'id': None,\n",
      "           'type': 'recent_tiles_data'},\n",
      "          {'attributes': {'boundary_url': 'https://earthengine.googleapis.com/map/4b1b9c6f82d50796562521502bc4d9a2/{z}/{x}/{y}?token=7db9ef223442a692cfe42fd081bbfa89',\n",
      "                          'cloud_score': 39.6341,\n",
      "                          'date_time': '2016-06-25 11:52:43Z',\n",
      "                          'instrument': 'Sentinel-2A',\n",
      "                          'source': 'COPERNICUS/S2/20160625T115243_20160625T200443_T28RCS',\n",
      "                          'thumbnail_url': None,\n",
      "                          'tile_url': None},\n",
      "           'id': None,\n",
      "           'type': 'recent_tiles_data'},\n",
      "          {'attributes': {'boundary_url': 'https://earthengine.googleapis.com/map/4b1b9c6f82d50796562521502bc4d9a2/{z}/{x}/{y}?token=7db9ef223442a692cfe42fd081bbfa89',\n",
      "                          'cloud_score': 39.6378,\n",
      "                          'date_time': '2016-04-26 11:52:23Z',\n",
      "                          'instrument': 'Sentinel-2A',\n",
      "                          'source': 'COPERNICUS/S2/20160426T115223_20160426T184333_T28RCS',\n",
      "                          'thumbnail_url': None,\n",
      "                          'tile_url': None},\n",
      "           'id': None,\n",
      "           'type': 'recent_tiles_data'},\n",
      "          {'attributes': {'boundary_url': 'https://earthengine.googleapis.com/map/4b1b9c6f82d50796562521502bc4d9a2/{z}/{x}/{y}?token=7db9ef223442a692cfe42fd081bbfa89',\n",
      "                          'cloud_score': 41,\n",
      "                          'date_time': '2016-01-07 11:54:14Z',\n",
      "                          'instrument': 'Sentinel-2A',\n",
      "                          'source': 'COPERNICUS/S2/20160107T115414_20160108T134003_T28RCS',\n",
      "                          'thumbnail_url': None,\n",
      "                          'tile_url': None},\n",
      "           'id': None,\n",
      "           'type': 'recent_tiles_data'},\n",
      "          {'attributes': {'boundary_url': 'https://earthengine.googleapis.com/map/4b1b9c6f82d50796562521502bc4d9a2/{z}/{x}/{y}?token=7db9ef223442a692cfe42fd081bbfa89',\n",
      "                          'cloud_score': 44.1685,\n",
      "                          'date_time': '2016-05-16 11:52:26Z',\n",
      "                          'instrument': 'Sentinel-2A',\n",
      "                          'source': 'COPERNICUS/S2/20160516T115226_20160516T185815_T28RCS',\n",
      "                          'thumbnail_url': None,\n",
      "                          'tile_url': None},\n",
      "           'id': None,\n",
      "           'type': 'recent_tiles_data'},\n",
      "          {'attributes': {'boundary_url': 'https://earthengine.googleapis.com/map/4b1b9c6f82d50796562521502bc4d9a2/{z}/{x}/{y}?token=7db9ef223442a692cfe42fd081bbfa89',\n",
      "                          'cloud_score': 47.7007,\n",
      "                          'date_time': '2016-02-16 11:53:13Z',\n",
      "                          'instrument': 'Sentinel-2A',\n",
      "                          'source': 'COPERNICUS/S2/20160216T115313_20160216T173530_T28RCS',\n",
      "                          'thumbnail_url': None,\n",
      "                          'tile_url': None},\n",
      "           'id': None,\n",
      "           'type': 'recent_tiles_data'},\n",
      "          {'attributes': {'boundary_url': 'https://earthengine.googleapis.com/map/4b1b9c6f82d50796562521502bc4d9a2/{z}/{x}/{y}?token=7db9ef223442a692cfe42fd081bbfa89',\n",
      "                          'cloud_score': 61.1455,\n",
      "                          'date_time': '2016-03-07 11:53:13Z',\n",
      "                          'instrument': 'Sentinel-2A',\n",
      "                          'source': 'COPERNICUS/S2/20160307T115313_20160307T211100_T28RCS',\n",
      "                          'thumbnail_url': None,\n",
      "                          'tile_url': None},\n",
      "           'id': None,\n",
      "           'type': 'recent_tiles_data'},\n",
      "          {'attributes': {'boundary_url': 'https://earthengine.googleapis.com/map/4b1b9c6f82d50796562521502bc4d9a2/{z}/{x}/{y}?token=7db9ef223442a692cfe42fd081bbfa89',\n",
      "                          'cloud_score': 99.2428,\n",
      "                          'date_time': '2016-02-06 11:53:14Z',\n",
      "                          'instrument': 'Sentinel-2A',\n",
      "                          'source': 'COPERNICUS/S2/20160206T115314_20160206T190102_T28RCS',\n",
      "                          'thumbnail_url': None,\n",
      "                          'tile_url': None},\n",
      "           'id': None,\n",
      "           'type': 'recent_tiles_data'}]}\n",
      "CPU times: user 44.7 ms, sys: 18.5 ms, total: 63.2 ms\n",
      "Wall time: 1.16 s\n"
     ]
    }
   ],
   "source": [
    "%%time\n",
    "# Request metadata (6 month period)\n",
    "\n",
    "url = f\"https://staging-api.globalforestwatch.org/v1/recent-tiles\"\n",
    "params= {'lat':'-16.644','lon':'28.266', 'start':'2016-01-01', 'end': \"2016-07-01\"}\n",
    "r = requests.get(url, params=params)\n",
    "r.status_code\n",
    "pprint(r.json())\n",
    "\n",
    "data = r.json().get('data')"
   ]
  },
  {
   "cell_type": "markdown",
   "metadata": {},
   "source": [
    "# Creating Payload for POST\n",
    "\n",
    "On the front end, the response must be used to buld a list of objects containing the ```'source'``` values of the images in the collection.\n",
    "\n",
    "*e.g.*\n",
    "\n",
    "```json\n",
    "{'source_data':\n",
    "    \n",
    "    [\n",
    "        {\"source\": \"COPERNICUS/S2/20170131T11...\"},\n",
    "        {\"source\": \"COPERNICUS/S2/20170131T12...\"},\n",
    "        {\"source\": \"COPERNICUS/S2/20170131T13...\"},    \n",
    "        \n",
    "        ...\n",
    "      \n",
    "        {\"source\": \"COPERNICUS/S2/20170131T1N...\"}\n",
    "    ]\n",
    " }\n",
    "\n",
    "```\n",
    "\n",
    "### IMPORTANT\n",
    "\n",
    "- *The json must have the key ```'source_data'```!*\n",
    "\n",
    "- Must have a the following header: ```headers={'Content-Type': 'application/json'}```"
   ]
  },
  {
   "cell_type": "code",
   "execution_count": 3,
   "metadata": {},
   "outputs": [
    {
     "data": {
      "text/plain": [
       "[{'source': 'COPERNICUS/S2/20160317T115314_20160317T172609_T28RCS'},\n",
       " {'source': 'COPERNICUS/S2/20160605T115314_20160605T200612_T28RCS'},\n",
       " {'source': 'COPERNICUS/S2/20160416T115220_20160416T172059_T28RCS'},\n",
       " {'source': 'COPERNICUS/S2/20160506T115225_20160506T184707_T28RCS'},\n",
       " {'source': 'COPERNICUS/S2/20160327T115315_20160327T172523_T28RCS'},\n",
       " {'source': 'COPERNICUS/S2/20160615T115223_20160615T183608_T28RCS'},\n",
       " {'source': 'COPERNICUS/S2/20160117T115842_20160117T172446_T28RCS'},\n",
       " {'source': 'COPERNICUS/S2/20160526T115225_20160526T184022_T28RCS'},\n",
       " {'source': 'COPERNICUS/S2/20160406T115217_20160406T185930_T28RCS'},\n",
       " {'source': 'COPERNICUS/S2/20160625T115243_20160625T200443_T28RCS'},\n",
       " {'source': 'COPERNICUS/S2/20160426T115223_20160426T184333_T28RCS'},\n",
       " {'source': 'COPERNICUS/S2/20160107T115414_20160108T134003_T28RCS'},\n",
       " {'source': 'COPERNICUS/S2/20160516T115226_20160516T185815_T28RCS'},\n",
       " {'source': 'COPERNICUS/S2/20160216T115313_20160216T173530_T28RCS'},\n",
       " {'source': 'COPERNICUS/S2/20160307T115313_20160307T211100_T28RCS'},\n",
       " {'source': 'COPERNICUS/S2/20160206T115314_20160206T190102_T28RCS'}]"
      ]
     },
     "execution_count": 3,
     "metadata": {},
     "output_type": "execute_result"
    }
   ],
   "source": [
    "#example of how to construct the source list\n",
    "\n",
    "source_list = []\n",
    "\n",
    "for d in data:\n",
    "    source_list.append({'source': d.get('attributes').get('source')}) \n",
    "source_list[:]"
   ]
  },
  {
   "cell_type": "code",
   "execution_count": 4,
   "metadata": {},
   "outputs": [
    {
     "name": "stdout",
     "output_type": "stream",
     "text": [
      "{'data': {'attributes': [{'source_id': 'COPERNICUS/S2/20160317T115314_20160317T172609_T28RCS',\n",
      "                          'tile_url': 'https://earthengine.googleapis.com/map/5d9dac31193dfb4ef1003021827755cc/{z}/{x}/{y}?token=70d8c2acf0e17329e72b494ece2244c7'},\n",
      "                         {'source_id': 'COPERNICUS/S2/20160605T115314_20160605T200612_T28RCS',\n",
      "                          'tile_url': 'https://earthengine.googleapis.com/map/73f2aa15a7e70eb5a99f3df87d06a979/{z}/{x}/{y}?token=a8a492822a64b55c38c0b10c18817aaa'},\n",
      "                         {'source_id': 'COPERNICUS/S2/20160416T115220_20160416T172059_T28RCS',\n",
      "                          'tile_url': 'https://earthengine.googleapis.com/map/0dfc07c304574e3ac4b2d8a3c37e4374/{z}/{x}/{y}?token=354cb2409847ffd52f674b922d965962'},\n",
      "                         {'source_id': 'COPERNICUS/S2/20160506T115225_20160506T184707_T28RCS',\n",
      "                          'tile_url': 'https://earthengine.googleapis.com/map/27ad5987732e0169a6a8c9eaa027df73/{z}/{x}/{y}?token=38f31566f995530b3d272ccd84f8c54f'},\n",
      "                         {'source_id': 'COPERNICUS/S2/20160327T115315_20160327T172523_T28RCS',\n",
      "                          'tile_url': 'https://earthengine.googleapis.com/map/bce2a1d04d05c39c22e36b96e2baf97c/{z}/{x}/{y}?token=18c156f012ac86c6dd0334418c757c39'},\n",
      "                         {'source_id': 'COPERNICUS/S2/20160615T115223_20160615T183608_T28RCS',\n",
      "                          'tile_url': 'https://earthengine.googleapis.com/map/1911bee905b7eed5f90f0934ef75e5c3/{z}/{x}/{y}?token=ac9cf0e733aa3ade3fa75f5fcdc4eb3b'},\n",
      "                         {'source_id': 'COPERNICUS/S2/20160117T115842_20160117T172446_T28RCS',\n",
      "                          'tile_url': 'https://earthengine.googleapis.com/map/175b114d2231652f8f566eeb20fb338b/{z}/{x}/{y}?token=f82adf05343fc6c89013b7d45598299a'},\n",
      "                         {'source_id': 'COPERNICUS/S2/20160526T115225_20160526T184022_T28RCS',\n",
      "                          'tile_url': 'https://earthengine.googleapis.com/map/132a1de408a7d624d445162faf0e9c87/{z}/{x}/{y}?token=d9649b4b9829dc0ff6feba2144a67904'},\n",
      "                         {'source_id': 'COPERNICUS/S2/20160406T115217_20160406T185930_T28RCS',\n",
      "                          'tile_url': 'https://earthengine.googleapis.com/map/78eaac70907a1d99ea30f47d12e92098/{z}/{x}/{y}?token=511f333c82eba710a8fc63425b6fe031'},\n",
      "                         {'source_id': 'COPERNICUS/S2/20160625T115243_20160625T200443_T28RCS',\n",
      "                          'tile_url': 'https://earthengine.googleapis.com/map/46fc59148151fb541128ab6ed0409ce2/{z}/{x}/{y}?token=c50b1da142a07426f1c2a5607cbef993'},\n",
      "                         {'source_id': 'COPERNICUS/S2/20160426T115223_20160426T184333_T28RCS',\n",
      "                          'tile_url': 'https://earthengine.googleapis.com/map/4e801815ed731694c7425b6540c250f4/{z}/{x}/{y}?token=f3864e751134c1ccfd0fa66b2bfda97f'},\n",
      "                         {'source_id': 'COPERNICUS/S2/20160107T115414_20160108T134003_T28RCS',\n",
      "                          'tile_url': 'https://earthengine.googleapis.com/map/d709a67977945e50675147801dd9892b/{z}/{x}/{y}?token=ad3e109d0d4c5a343eed3aed9ac4a633'},\n",
      "                         {'source_id': 'COPERNICUS/S2/20160516T115226_20160516T185815_T28RCS',\n",
      "                          'tile_url': 'https://earthengine.googleapis.com/map/1f6dfb0d96aa5109b36fcb681aa1a8a4/{z}/{x}/{y}?token=04b9583546bea01902253f3a78b34adb'},\n",
      "                         {'source_id': 'COPERNICUS/S2/20160216T115313_20160216T173530_T28RCS',\n",
      "                          'tile_url': 'https://earthengine.googleapis.com/map/9410f4e670a2d8ef0baca07b1d4c3803/{z}/{x}/{y}?token=7b5f92de216ad8fd33066879164904f8'},\n",
      "                         {'source_id': 'COPERNICUS/S2/20160307T115313_20160307T211100_T28RCS',\n",
      "                          'tile_url': 'https://earthengine.googleapis.com/map/6286a8c72a9b5aa1b8b19b373c7ee81d/{z}/{x}/{y}?token=a8344b1e87c27a6765402370c675bd08'},\n",
      "                         {'source_id': 'COPERNICUS/S2/20160206T115314_20160206T190102_T28RCS',\n",
      "                          'tile_url': 'https://earthengine.googleapis.com/map/792538199d3ac4e9c218405d02ebb888/{z}/{x}/{y}?token=62b109718b0dfc98adf4aa5990594e22'}],\n",
      "          'id': None,\n",
      "          'type': 'recent_tiles_url'}}\n",
      "CPU times: user 32.5 ms, sys: 10.4 ms, total: 42.9 ms\n",
      "Wall time: 1.87 s\n"
     ]
    }
   ],
   "source": [
    "%%time\n",
    "# Request tiles using the payload\n",
    "\n",
    "url = f\"https://staging-api.globalforestwatch.org/v1/recent-tiles/tiles\"\n",
    "payload = {'source_data':source_list}\n",
    "r = requests.post(url, data=json.dumps(payload), headers={'Content-Type': 'application/json'})\n",
    "r.status_code\n",
    "pprint(r.json())\n",
    "\n",
    "tile_data = r.json().get('data')"
   ]
  },
  {
   "cell_type": "markdown",
   "metadata": {},
   "source": [
    "### Tiles Response\n",
    "\n",
    "At this stage the data now looks like:\n",
    "\n",
    "```json\n",
    "{'data': {\n",
    "    'attributes': [{\"source\": \"COPERNICUS/S2/20170131T11...\",\n",
    "                    \"tile_url\": \"https://earthengine.googleapis.com/api/thumb?thumbid=...\"\n",
    "                   },{\n",
    "                    \"source\": \"COPERNICUS/S2/20170131T12...\",\n",
    "                    \"tiles_url\": \"https://earthengine.googleapis.com/api/thumb?thumbid=...\"\n",
    "                   },           \n",
    "                      ...\n",
    "      \n",
    "                    {\n",
    "                    \"source\": \"COPERNICUS/S2/20170131T1N...\",\n",
    "                    \"tiles_url\": \"https://earthengine.googleapis.com/api/thumb?thumbid=...\"\n",
    "                   }],\n",
    "          'id': None,\n",
    "          'type': 'recent_tiles_url'}}\n",
    "          }\n",
    "}\n",
    "```"
   ]
  },
  {
   "cell_type": "code",
   "execution_count": 5,
   "metadata": {},
   "outputs": [
    {
     "name": "stdout",
     "output_type": "stream",
     "text": [
      "{'data': {'attributes': [{'source': 'COPERNICUS/S2/20160317T115314_20160317T172609_T28RCS',\n",
      "                          'thumbnail_url': 'https://earthengine.googleapis.com/api/thumb?thumbid=f8d1d5c66a6d3e7dc30002e663242830&token=e94d6946dbb0816f73965fbd64e1949a'},\n",
      "                         {'source': 'COPERNICUS/S2/20160605T115314_20160605T200612_T28RCS',\n",
      "                          'thumbnail_url': 'https://earthengine.googleapis.com/api/thumb?thumbid=fbcea1cc967a46d14c48c2367c0bf5a3&token=39f682c478f8b52be1770ffb6499450f'},\n",
      "                         {'source': 'COPERNICUS/S2/20160416T115220_20160416T172059_T28RCS',\n",
      "                          'thumbnail_url': 'https://earthengine.googleapis.com/api/thumb?thumbid=1bfbf427df20fd31c68ab9f575ff04f2&token=7ec78cf79a6f90fa0c4e97d9b9919d25'},\n",
      "                         {'source': 'COPERNICUS/S2/20160506T115225_20160506T184707_T28RCS',\n",
      "                          'thumbnail_url': 'https://earthengine.googleapis.com/api/thumb?thumbid=01dc5384085fad7d6459e7fc8b5468fb&token=ef2cc06d48ed535bbe8275c6f03887b8'},\n",
      "                         {'source': 'COPERNICUS/S2/20160327T115315_20160327T172523_T28RCS',\n",
      "                          'thumbnail_url': 'https://earthengine.googleapis.com/api/thumb?thumbid=34489625a743bff135fc6b2e598759be&token=6198d37005685071e3381ec9b066785d'},\n",
      "                         {'source': 'COPERNICUS/S2/20160615T115223_20160615T183608_T28RCS',\n",
      "                          'thumbnail_url': 'https://earthengine.googleapis.com/api/thumb?thumbid=4a8b7cbf8ad5c5dd4a15c90efd6ad8e1&token=fe09f5f630f301031b0164ec353b6f2a'},\n",
      "                         {'source': 'COPERNICUS/S2/20160117T115842_20160117T172446_T28RCS',\n",
      "                          'thumbnail_url': 'https://earthengine.googleapis.com/api/thumb?thumbid=ccb704624e1346d2b0b701436599eff3&token=28606f0f60cbe29a182c7d55da369ca1'},\n",
      "                         {'source': 'COPERNICUS/S2/20160526T115225_20160526T184022_T28RCS',\n",
      "                          'thumbnail_url': 'https://earthengine.googleapis.com/api/thumb?thumbid=e5c8108f0b6b7bca4db59e26dea1c64d&token=154c44ba54834ce91fefd909a94c3f12'},\n",
      "                         {'source': 'COPERNICUS/S2/20160406T115217_20160406T185930_T28RCS',\n",
      "                          'thumbnail_url': 'https://earthengine.googleapis.com/api/thumb?thumbid=96ea789d54383797c0c8087f6a25e8b6&token=60eb7d5d81034e8a53919fd07af69a2a'},\n",
      "                         {'source': 'COPERNICUS/S2/20160625T115243_20160625T200443_T28RCS',\n",
      "                          'thumbnail_url': 'https://earthengine.googleapis.com/api/thumb?thumbid=51d2ed83989a8bf78b091fc2fcc4251a&token=c6bf9513de7686f493f487bcd6a89295'},\n",
      "                         {'source': 'COPERNICUS/S2/20160426T115223_20160426T184333_T28RCS',\n",
      "                          'thumbnail_url': 'https://earthengine.googleapis.com/api/thumb?thumbid=c8a6b88d011625b6fe2494c4bae92009&token=5e5256d21abf68548c6734f2a02ba7c8'},\n",
      "                         {'source': 'COPERNICUS/S2/20160107T115414_20160108T134003_T28RCS',\n",
      "                          'thumbnail_url': 'https://earthengine.googleapis.com/api/thumb?thumbid=f02d0f1a21834fd26c86a4d3f9bc4c05&token=e29d47fc9df3e9bb33e0719181c9ad82'},\n",
      "                         {'source': 'COPERNICUS/S2/20160516T115226_20160516T185815_T28RCS',\n",
      "                          'thumbnail_url': 'https://earthengine.googleapis.com/api/thumb?thumbid=574dd5567de6b8ce6c30a38a70709aaa&token=5d3c6e50336e9a0bdd91e3293cf26dfe'},\n",
      "                         {'source': 'COPERNICUS/S2/20160216T115313_20160216T173530_T28RCS',\n",
      "                          'thumbnail_url': 'https://earthengine.googleapis.com/api/thumb?thumbid=961a50540e16f8c405db741bff92142e&token=0d490b2f229665e0eebc0e3d60b9d138'},\n",
      "                         {'source': 'COPERNICUS/S2/20160307T115313_20160307T211100_T28RCS',\n",
      "                          'thumbnail_url': 'https://earthengine.googleapis.com/api/thumb?thumbid=82ab5594d82e2409fac443b71a66fb9c&token=df4d9ee0592bd904e85018f05f5deecf'},\n",
      "                         {'source': 'COPERNICUS/S2/20160206T115314_20160206T190102_T28RCS',\n",
      "                          'thumbnail_url': 'https://earthengine.googleapis.com/api/thumb?thumbid=c91a658b9dde19f7af34bca915f2892f&token=210de653daef2340f9db9466110dc468'}],\n",
      "          'id': None,\n",
      "          'type': 'recent_thumbs_url'}}\n",
      "CPU times: user 28.8 ms, sys: 10.4 ms, total: 39.2 ms\n",
      "Wall time: 2.87 s\n"
     ]
    }
   ],
   "source": [
    "%%time\n",
    "\n",
    "# Request thumbs using the payload\n",
    "\n",
    "url = f\"https://staging-api.globalforestwatch.org/v1/recent-tiles/thumbs\"\n",
    "payload = {'source_data':source_list}\n",
    "r = requests.post(url, data=json.dumps(payload), headers={'Content-Type': 'application/json'})\n",
    "r.status_code\n",
    "pprint(r.json())\n",
    "\n",
    "thumb_data = r.json().get('data')"
   ]
  },
  {
   "cell_type": "markdown",
   "metadata": {},
   "source": [
    "### Thumbs Response\n",
    "\n",
    "At this stage the data now looks like:\n",
    "\n",
    "```json\n",
    "{'data': {\n",
    "    'attributes': [{\"source\": \"COPERNICUS/S2/20170131T11...\",\n",
    "                    \"thumbnail_url\": \"https://earthengine.googleapis.com/api/thumb?thumbid=...\"\n",
    "                   },{\n",
    "                    \"source\": \"COPERNICUS/S2/20170131T12...\",\n",
    "                    \"thumbnail_url\": \"https://earthengine.googleapis.com/api/thumb?thumbid=...\"\n",
    "                   },           \n",
    "                      ...\n",
    "      \n",
    "                    {\n",
    "                    \"source\": \"COPERNICUS/S2/20170131T1N...\",\n",
    "                    \"thumbnail_url\": \"https://earthengine.googleapis.com/api/thumb?thumbid=...\"\n",
    "                   }],\n",
    "          'id': None,\n",
    "          'type': 'recent_thumbs_url'}}\n",
    "          }\n",
    "}\n",
    "```"
   ]
  },
  {
   "cell_type": "markdown",
   "metadata": {},
   "source": [
    "# Image Example for Map"
   ]
  },
  {
   "cell_type": "code",
   "execution_count": 6,
   "metadata": {
    "collapsed": true
   },
   "outputs": [],
   "source": [
    "# Returned First Image and Boundary\n",
    "\n",
    "dt = data[0].get('attributes').get('date_time')\n",
    "boundary = data[0].get('attributes').get('boundary_url')\n",
    "sentinel_image = data[0].get('attributes').get('tile_url')"
   ]
  },
  {
   "cell_type": "code",
   "execution_count": 7,
   "metadata": {
    "scrolled": false
   },
   "outputs": [
    {
     "data": {
      "text/html": [
       "<div style=\"width:100%;\"><div style=\"position:relative;width:100%;height:0;padding-bottom:60%;\"><iframe src=\"data:text/html;charset=utf-8;base64,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\" style=\"position:absolute;width:100%;height:100%;left:0;top:0;border:none !important;\" allowfullscreen webkitallowfullscreen mozallowfullscreen></iframe></div></div>"
      ],
      "text/plain": [
       "<folium.folium.Map at 0x180e2c4ac8>"
      ]
     },
     "execution_count": 7,
     "metadata": {},
     "output_type": "execute_result"
    }
   ],
   "source": [
    "sentinel_map = folium.Map(location=[float(params['lon']), float(params['lat'])], zoom_start=9, tiles='Mapbox Bright' )\n",
    "sentinel_map.add_tile_layer(tiles=sentinel_image, max_zoom=19, min_zoom=6, attr=\"Live EE tiles\")\n",
    "sentinel_map.add_tile_layer(tiles=boundary, max_zoom=19, min_zoom=6, attr=\"Live EE tiles\")\n",
    "sentinel_map"
   ]
  },
  {
   "cell_type": "code",
   "execution_count": 8,
   "metadata": {},
   "outputs": [
    {
     "data": {
      "text/html": [
       "<img src=\"https://earthengine.googleapis.com/api/thumb?thumbid=f8d1d5c66a6d3e7dc30002e663242830&token=e94d6946dbb0816f73965fbd64e1949a\"/>"
      ],
      "text/plain": [
       "<IPython.core.display.Image object>"
      ]
     },
     "execution_count": 8,
     "metadata": {},
     "output_type": "execute_result"
    }
   ],
   "source": [
    "# Corresponding Thumbnail\n",
    "\n",
    "thumbnail_image = thumb_data.get('attributes')[0].get('thumbnail_url')\n",
    "Image(url=thumbnail_image)"
   ]
  },
  {
   "cell_type": "code",
   "execution_count": null,
   "metadata": {
    "collapsed": true
   },
   "outputs": [],
   "source": []
  }
 ],
 "metadata": {
  "kernelspec": {
   "display_name": "Python 3",
   "language": "python",
   "name": "python3"
  },
  "language_info": {
   "codemirror_mode": {
    "name": "ipython",
    "version": 3
   },
   "file_extension": ".py",
   "mimetype": "text/x-python",
   "name": "python",
   "nbconvert_exporter": "python",
   "pygments_lexer": "ipython3",
   "version": "3.6.2"
  }
 },
 "nbformat": 4,
 "nbformat_minor": 2
}
