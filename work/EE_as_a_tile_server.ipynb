{
 "cells": [
  {
   "cell_type": "markdown",
   "metadata": {},
   "source": [
    "## Earth Engine and Live Tiles for Web Maps\n",
    "\n",
    "### 1. Build a tile export service mixing precalculated tiles with live tiles from Earth Engine\n",
    "\n",
    "This Section shows an example of how to mix pre-calculated tiles from Earth Engine (hosted on GCS) with live-calculated tiles from Earth Engine (past zoom level 12).\n",
    "\n",
    "Based on code snippets drawn from [here](https://github.com/wri/gfw-api/blob/master/gfw/gee_tiles.py).\n",
    "\n",
    "Note: the tokens for the live Earth Engine tiles expire every 3 days, and so this code will need to be re-run with an authorised EE account to generate valid (live) tiles.\n",
    "\n",
    "### 2. Best Sentinel 2 imagery for specific points and times\n",
    "\n",
    "This section shows how to select the best (cloud free) images of Sentinel 2, for specific times and locations, and present them on a web map."
   ]
  },
  {
   "cell_type": "code",
   "execution_count": null,
   "metadata": {},
   "outputs": [],
   "source": [
    "import os\n",
    "import ee\n",
    "import json\n",
    "\n",
    "ee.Initialize()"
   ]
  },
  {
   "cell_type": "code",
   "execution_count": null,
   "metadata": {},
   "outputs": [],
   "source": [
    "def tile_url(image, viz_params=None):\n",
    "    \"\"\"Create a target url for tiles for an image.\n",
    "    e.g.\n",
    "    im = ee.Image(\"LE7_TOA_1YEAR/\" + year).select(\"B3\",\"B2\",\"B1\")\n",
    "    viz = {'opacity': 1, 'gain':3.5, 'bias':4, 'gamma':1.5}\n",
    "    url = tile_url(image=im),viz_params=viz)\n",
    "    \"\"\"\n",
    "    if viz_params:\n",
    "        d = image.getMapId(viz_params)\n",
    "    else:\n",
    "        d = image.getMapId()\n",
    "    base_url = 'https://earthengine.googleapis.com'\n",
    "    url = (base_url + '/map/' + d['mapid'] + '/{z}/{x}/{y}?token=' + d['token'])\n",
    "    return url"
   ]
  },
  {
   "cell_type": "markdown",
   "metadata": {},
   "source": [
    "### EE pansharpened image\n",
    "\n",
    "Below calculates a pan-sharpended image from Landsat, and creates a tile url with temporary authentitication."
   ]
  },
  {
   "cell_type": "code",
   "execution_count": null,
   "metadata": {},
   "outputs": [],
   "source": [
    "collection = ee.ImageCollection('LANDSAT/LC8_L1T').filterDate('2016-01-01T00:00','2017-01-01T00:00')\n",
    "\n",
    "composite = ee.Algorithms.SimpleLandsatComposite(collection=collection, percentile=50,\n",
    "                                                 maxDepth=80, cloudScoreRange=1, asFloat=True)\n",
    "\n",
    "hsv2 = composite.select(['B4', 'B3', 'B2']).rgbToHsv()\n",
    "\n",
    "sharpened2 = ee.Image.cat([hsv2.select('hue'), hsv2.select('saturation'),\n",
    "                           composite.select('B8')]).hsvToRgb().visualize(gain=1000, gamma= [1.15, 1.4, 1.15])\n",
    "\n",
    "\n",
    "ee_tiles = tile_url(sharpened2)\n",
    "ee_tiles"
   ]
  },
  {
   "cell_type": "markdown",
   "metadata": {},
   "source": [
    "## Use the vizzuality microservice to retrieve the url\n",
    "\n",
    "Microservice based on the preceeding code should give back the tileset"
   ]
  },
  {
   "cell_type": "code",
   "execution_count": null,
   "metadata": {},
   "outputs": [],
   "source": [
    "import requests"
   ]
  },
  {
   "cell_type": "code",
   "execution_count": null,
   "metadata": {},
   "outputs": [],
   "source": [
    "r = requests.get('https://staging-api.globalforestwatch.org/v1/landsat-tiles/2015')\n",
    "print(r.status_code)\n",
    "r.json()"
   ]
  },
  {
   "cell_type": "code",
   "execution_count": null,
   "metadata": {},
   "outputs": [],
   "source": [
    "ee_tiles= r.json().get('data').get('attributes').get('url')\n",
    "print(ee_tiles)"
   ]
  },
  {
   "cell_type": "markdown",
   "metadata": {},
   "source": [
    "### Display the results on a map"
   ]
  },
  {
   "cell_type": "code",
   "execution_count": null,
   "metadata": {},
   "outputs": [],
   "source": [
    "pre_calculated_tileset=\"https://storage.googleapis.com/landsat-cache/2015/{z}/{x}/{y}.png\""
   ]
  },
  {
   "cell_type": "code",
   "execution_count": null,
   "metadata": {},
   "outputs": [],
   "source": [
    "import folium"
   ]
  },
  {
   "cell_type": "code",
   "execution_count": null,
   "metadata": {},
   "outputs": [],
   "source": [
    "map = folium.Map(location=[28.29, -16.6], zoom_start=2, tiles='Mapbox Bright' )"
   ]
  },
  {
   "cell_type": "code",
   "execution_count": null,
   "metadata": {},
   "outputs": [],
   "source": [
    "map.add_tile_layer(tiles=pre_calculated_tileset, max_zoom=11, min_zoom=0, attr='Earth Engine tiles by Vizzuality')\n",
    "map.add_tile_layer(tiles=ee_tiles, max_zoom=20, min_zoom=13, attr=\"Live EE tiles\")"
   ]
  },
  {
   "cell_type": "code",
   "execution_count": null,
   "metadata": {},
   "outputs": [],
   "source": [
    "map"
   ]
  },
  {
   "cell_type": "markdown",
   "metadata": {
    "collapsed": true
   },
   "source": [
    "## 2. Sentinel"
   ]
  },
  {
   "cell_type": "code",
   "execution_count": 1,
   "metadata": {},
   "outputs": [],
   "source": [
    "import folium\n",
    "import os\n",
    "import ee\n",
    "import json\n",
    "ee.Initialize()"
   ]
  },
  {
   "cell_type": "markdown",
   "metadata": {},
   "source": [
    "The below Earth Engine code returns the optimum cloud-free image for a given point and time range."
   ]
  },
  {
   "cell_type": "code",
   "execution_count": 8,
   "metadata": {},
   "outputs": [],
   "source": [
    "def tile_url(image, viz_params=None):\n",
    "    \"\"\"Create a target url for tiles for an image.\n",
    "    e.g.\n",
    "    im = ee.Image(\"LE7_TOA_1YEAR/\" + year).select(\"B3\",\"B2\",\"B1\")\n",
    "    viz = {'opacity': 1, 'gain':3.5, 'bias':4, 'gamma':1.5}\n",
    "    url = tile_url(image=im),viz_params=viz)\n",
    "    \"\"\"\n",
    "    if viz_params:\n",
    "        d = image.getMapId(viz_params)\n",
    "    else:\n",
    "        d = image.getMapId()\n",
    "    base_url = 'https://earthengine.googleapis.com'\n",
    "    url = (base_url + '/map/' + d['mapid'] + '/{z}/{x}/{y}?token=' + d['token'])\n",
    "    return url\n",
    "\n",
    "\n",
    "def proxy_sentinel(lat, lon, start, end):\n",
    "    \"\"\"\n",
    "    Sentinel covers all continental land surfaces (including inland waters) between latitudes 56° south and 83° north\n",
    "        all coastal waters up to 20 km from the shore\n",
    "        all islands greater than 100 km2\n",
    "        all EU islands\n",
    "        the Mediterranean Sea\n",
    "        all closed seas (e.g. Caspian Sea).\n",
    "    \n",
    "    Filter by tiles that intersect a lat,lon point, and are within a date range, and have less than\n",
    "    10% cloud cover, then find the lowest scoring cloud image.\n",
    "    \n",
    "    Note, we first filter by cloud less than X% and then pick the top, rather than just directly pick\n",
    "    the best cloud scoring image, as these operations default to a subset of images. So we want to \n",
    "    pick the best image, from a pre-selected subset of good images.\n",
    "    \n",
    "    Note the url generated expires after a few days and needs to be refreshed.\n",
    "    e.g. variables\n",
    "    lat = -16.66\n",
    "    lon = 28.24\n",
    "    start = '2017-01-01'\n",
    "    end = '2017-03-01'\n",
    "    \"\"\"\n",
    "    #if lat >= 83 or lat <= -56:\n",
    "    #    return {'status': 'Latitute {0} invalid: Must be between -56 and 83'.format(lat)}\n",
    "    #else:\n",
    "    try:\n",
    "        point = ee.Geometry.Point(lat, lon)\n",
    "        S2 = ee.ImageCollection('COPERNICUS/S2'\n",
    "                               ).filterDate(\n",
    "                                start, end).filterBounds(\n",
    "                                point).sort('CLOUDY_PIXEL_PERCENTAGE', True).first()\n",
    "        S2 = ee.Image(S2)\n",
    "        d = S2.getInfo()       # grab a dictionary of the image metadata\n",
    "        S2 = S2.divide(10000)  # Convert to Top of the atmosphere reflectance\n",
    "        S2 = S2.visualize(bands=[\"B4\", \"B3\", \"B2\"], min=0, max=0.3, opacity=1.0) # Convert to styled RGB image\n",
    "        image_tiles = tile_url(S2)\n",
    "        boundary = ee.Feature(ee.Geometry.LinearRing(d.get('properties').get(\"system:footprint\").get('coordinates')))\n",
    "        boundary_tiles = tile_url(boundary, {'color': '4eff32'})\n",
    "        meta = get_image_metadata(d)\n",
    "        output = {}\n",
    "        output = {'boundary_tiles': boundary_tiles,\n",
    "                  'image_tiles': image_tiles,\n",
    "                  'metadata': meta,\n",
    "                  'sucsess': True}\n",
    "\n",
    "        return output\n",
    "    except:\n",
    "        return {'sucsess': False}\n",
    "\n",
    "\n",
    "def get_image_metadata(d):\n",
    "    \"\"\"Return a dictionary of metadata\"\"\"\n",
    "    image_name = d.get('id')\n",
    "    date_info = image_name.split('COPERNICUS/S2/')[1]\n",
    "    date_time = ''.join([date_info[0:4],'-',date_info[4:6],'-',date_info[6:8],' ',\n",
    "                      date_info[9:11],':',date_info[11:13],':',date_info[13:15],\"Z\"])\n",
    "    product_id = d.get('properties').get('PRODUCT_ID')\n",
    "    meta = {}\n",
    "    meta = {'image_name': image_name, 'date_time': date_time, 'product_id': product_id}\n",
    "    return meta"
   ]
  },
  {
   "cell_type": "markdown",
   "metadata": {},
   "source": [
    "Sentinel-2: MultiSpectral Instrument (MSI), Level-1C\n",
    "Jun 23, 2015 - Aug 30, 2017\n",
    "\n",
    "Info on [Sentinel Naming conventions](https://earth.esa.int/web/sentinel/user-guides/sentinel-2-msi/naming-convention)\n",
    "\n",
    "First comes YYYYMMDDHHMMSS then _ then 15 characters of ID and then _ then tile number info"
   ]
  },
  {
   "cell_type": "code",
   "execution_count": 9,
   "metadata": {
    "scrolled": false
   },
   "outputs": [
    {
     "name": "stdout",
     "output_type": "stream",
     "text": [
      "CPU times: user 29.4 ms, sys: 6.16 ms, total: 35.6 ms\n",
      "Wall time: 35.2 s\n"
     ]
    }
   ],
   "source": [
    "%%time\n",
    "# london\n",
    "#lon = 51.64167220085054\n",
    "#lat = 0.03\n",
    "\n",
    "# oslo\n",
    "#lon = 10.745\n",
    "#lat = 59.922\n",
    "\n",
    "# Tenerife\n",
    "lat = -16.644\n",
    "lon = 28.266\n",
    "\n",
    "# Fiji\n",
    "#lat = 177.825\n",
    "#lon = -17.916\n",
    "\n",
    "start ='2017-01-01'\n",
    "end ='2017-01-10'\n",
    "\n",
    "sentinel = proxy_sentinel(lon=lon, lat=lat, start=start, end=end)\n",
    "\n"
   ]
  },
  {
   "cell_type": "code",
   "execution_count": 10,
   "metadata": {},
   "outputs": [
    {
     "name": "stdout",
     "output_type": "stream",
     "text": [
      "{'image_name': 'COPERNICUS/S2/20170101T115212_20170101T115212_T28RCS', 'date_time': '2017-01-01 11:52:12Z', 'product_id': 'S2A_MSIL1C_20170101T115212_N0204_R123_T28RCS_20170101T115212'}\n"
     ]
    },
    {
     "data": {
      "text/html": [
       "<div style=\"width:100%;\"><div style=\"position:relative;width:100%;height:0;padding-bottom:60%;\"><iframe src=\"data:text/html;charset=utf-8;base64,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\" style=\"position:absolute;width:100%;height:100%;left:0;top:0;border:none !important;\" allowfullscreen webkitallowfullscreen mozallowfullscreen></iframe></div></div>"
      ],
      "text/plain": [
       "<folium.folium.Map at 0x1162f8630>"
      ]
     },
     "execution_count": 10,
     "metadata": {},
     "output_type": "execute_result"
    }
   ],
   "source": [
    "if sentinel.get('sucsess'):\n",
    "    pass\n",
    "else:\n",
    "    raise ValueError('no data')\n",
    "\n",
    "print(sentinel.get('metadata'))\n",
    "\n",
    "sentinel_map = folium.Map(location=[lon, lat], zoom_start=9, tiles='Mapbox Bright' )\n",
    "sentinel_map.add_tile_layer(tiles=sentinel.get('image_tiles'), max_zoom=19, min_zoom=6, attr=\"Live EE tiles\")\n",
    "sentinel_map.add_tile_layer(tiles=sentinel.get('boundary_tiles'), max_zoom=19, min_zoom=6, attr=\"Live EE tiles\")\n",
    "sentinel_map"
   ]
  },
  {
   "cell_type": "code",
   "execution_count": null,
   "metadata": {},
   "outputs": [],
   "source": [
    "sentinel"
   ]
  },
  {
   "cell_type": "markdown",
   "metadata": {
    "collapsed": true
   },
   "source": [
    "## Sentinel (via the microservice)\n",
    "\n",
    "We have hooked-up a version of the above sentinel code to our API ([here](https://github.com/gfw-api/gfw-analysis-gee)). An example of how to call it to get the same results as above is as follows: \n",
    "\n",
    "{'lat':'-16.644','lon':'28.266', 'start':'2017-01-01', 'end': \"2017-09-10\"} Wall time: 25.6 s\n",
    "{'lat':'-16.644','lon':'28.266', 'start':'2017-01-01', 'end': \"2017-01-10\"} Wall time: 25.8 s\n"
   ]
  },
  {
   "cell_type": "code",
   "execution_count": null,
   "metadata": {},
   "outputs": [],
   "source": [
    "import requests\n",
    "import folium"
   ]
  },
  {
   "cell_type": "code",
   "execution_count": null,
   "metadata": {},
   "outputs": [],
   "source": [
    "%%time\n",
    "url = \"https://staging-api.globalforestwatch.org/v1/sentinel-tiles\"\n",
    "params= {'lat':'-16.644','lon':'28.266', 'start':'2016-01-01', 'end': \"2017-01-10\"}\n",
    "r = requests.get(url, params=params)\n",
    "r.status_code"
   ]
  },
  {
   "cell_type": "code",
   "execution_count": null,
   "metadata": {},
   "outputs": [],
   "source": [
    "\n",
    "print(r.json())\n",
    "\n",
    "dt = r.json().get('data').get('attributes').get('date_time')\n",
    "boundary = r.json().get('data').get('attributes').get('url_boundary')\n",
    "sentinel_image = r.json().get('data').get('attributes').get('url_image')"
   ]
  },
  {
   "cell_type": "markdown",
   "metadata": {},
   "source": [
    "```\n",
    "{'data': {'attributes': {'date_time': '2017-01-01 11:52:12Z', 'product_id': 'S2A_MSIL1C_20170101T115212_N0204_R123_T28RCS_20170101T115212', 'url_boundary': 'https://earthengine.googleapis.com/map/4b1b9c6f82d50796562521502bc4d9a2/{z}/{x}/{y}?token=fb2181f663a8f2895224fecddd8b1ec4', 'url_image': 'https://earthengine.googleapis.com/map/0341ef17ae8e75cf0b53b5de5fd767ff/{z}/{x}/{y}?token=df18de8c707463d20912e8699f7801b8'}, 'id': None, 'type': 'sentinel_tiles_url'}}\n",
    "\n",
    "```"
   ]
  },
  {
   "cell_type": "code",
   "execution_count": null,
   "metadata": {},
   "outputs": [],
   "source": [
    "sentinel_map = folium.Map(location=[float(params['lon']), float(params['lat'])], zoom_start=9, tiles='Mapbox Bright' )\n",
    "sentinel_map.add_tile_layer(tiles=sentinel_image, max_zoom=19, min_zoom=6, attr=\"Live EE tiles\")\n",
    "sentinel_map.add_tile_layer(tiles=boundary, max_zoom=19, min_zoom=6, attr=\"Live EE tiles\")\n",
    "sentinel_map"
   ]
  },
  {
   "cell_type": "code",
   "execution_count": null,
   "metadata": {},
   "outputs": [],
   "source": []
  }
 ],
 "metadata": {
  "kernelspec": {
   "display_name": "Python 3",
   "language": "python",
   "name": "python3"
  },
  "language_info": {
   "codemirror_mode": {
    "name": "ipython",
    "version": 3
   },
   "file_extension": ".py",
   "mimetype": "text/x-python",
   "name": "python",
   "nbconvert_exporter": "python",
   "pygments_lexer": "ipython3",
   "version": "3.6.2"
  }
 },
 "nbformat": 4,
 "nbformat_minor": 2
}
