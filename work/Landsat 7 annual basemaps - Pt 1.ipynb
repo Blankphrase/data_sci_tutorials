{
 "cells": [
  {
   "cell_type": "markdown",
   "metadata": {},
   "source": [
    "# Natural colour composites using Lansdat 7 imagery"
   ]
  },
  {
   "cell_type": "markdown",
   "metadata": {},
   "source": [
    "Annual basemap layers for the years 2013-2016 were produced with Landsat 8 imagery and are already available in the Global Forest Watch platform. In this notebook we'll explore different approaches to generate annual basemaps for the years 2000-2014 using Landsat 7. We will aim to replicate the natural-color tones of the 2013-2016 composites, and also explore ways to improve the rendering speed for high zoom level tiles.\n",
    "\n",
    "The main purpose of this notebook is just to give a preview of the look and feel of the resulting composites. A separate document will be prepared to describe the workflow for exporting tiles to GCS and into the microservice.\n",
    "\n",
    "If you're viewing this notebook form GH you'll need to wait a few minutes for all the images to show up.\n",
    "\n",
    "You can skip this introduction and head over sections 3, 4 and 5, which show the most promising results for rendering tiles at different z-resolutions"
   ]
  },
  {
   "cell_type": "code",
   "execution_count": 1,
   "metadata": {
    "collapsed": false
   },
   "outputs": [],
   "source": [
    "import os\n",
    "import ee\n",
    "import json\n",
    "import ipywidgets\n",
    "from IPython.display import Image\n",
    "import folium\n",
    "import pprint\n",
    "import datetime\n",
    "from dateutil.relativedelta import relativedelta\n",
    "\n",
    "ee.Initialize()"
   ]
  },
  {
   "cell_type": "markdown",
   "metadata": {},
   "source": [
    "# Setup visualisation tools\n",
    "We will first define a few functions to help us visualise the results, these include:\n",
    "-  `tile_url`: generates tile urls from images computed in Earth Engine\n",
    "-  `dateRange`: returns a custom date range calculated around a target year \n",
    "-  `toImage`: retrieves images from composites computed in Earth Engine and plots them in 3 different zoom levels."
   ]
  },
  {
   "cell_type": "code",
   "execution_count": 2,
   "metadata": {
    "collapsed": true
   },
   "outputs": [],
   "source": [
    "# Function to plot tiles (Images)\n",
    "def tile_url(image, viz_params=None):\n",
    "    \"\"\"Create a target url for tiles for an image.\n",
    "    e.g.\n",
    "    im = ee.Image(\"LE7_TOA_1YEAR/\" + year).select(\"B3\",\"B2\",\"B1\")\n",
    "    viz = {'opacity': 1, 'gain':3.5, 'bias':4, 'gamma':1.5}\n",
    "    url = tile_url(image=im,viz_params=viz)\n",
    "    \"\"\"\n",
    "    if viz_params:\n",
    "        d = image.getMapId(viz_params)\n",
    "    else:\n",
    "        d = image.getMapId()\n",
    "    base_url = 'https://earthengine.googleapis.com'\n",
    "    url = (base_url + '/map/' + d['mapid'] + '/{z}/{x}/{y}?token=' + d['token'])\n",
    "    return url"
   ]
  },
  {
   "cell_type": "code",
   "execution_count": 3,
   "metadata": {
    "collapsed": false
   },
   "outputs": [],
   "source": [
    "# Function to generate a date range\n",
    "def dateRange(mid_year,period):\n",
    "    '''\n",
    "    Params:\n",
    "        mid_year (assumes yyyy): Mid point of the time range \n",
    "        period (int): number of years\n",
    "    Returns:\n",
    "        dictionary with a 'start' and an 'end' date in a `yyyy-mm-dd` format.\n",
    "        The reference year is also provided in the 'central' key\n",
    "    '''\n",
    "    # define central year, commencing in JAN-01\n",
    "    mid = datetime.datetime.strptime(str(mid_year) + '-01-01', '%Y-%m-%d')\n",
    "    \n",
    "    # get half period\n",
    "    half_period = int(period/2)\n",
    "    \n",
    "    # compute date range\n",
    "    if period%2 ==1:\n",
    "        end = mid + relativedelta(years= half_period,months=6)\n",
    "        start = mid - relativedelta(years= half_period,months=6)\n",
    "    else:\n",
    "        end = mid + relativedelta(years= half_period)\n",
    "        start = mid - relativedelta(years= half_period)\n",
    "    \n",
    "    dates = {'start':start.strftime('%Y-%m-%d'),'central':str(mid_year) ,'end':end.strftime('%Y-%m-%d')}\n",
    "    \n",
    "    print('Returning '+ str(period) + ' years range: from '+ dates['start'] + ' to ' + dates['end'])\n",
    "    \n",
    "    return(dates)"
   ]
  },
  {
   "cell_type": "code",
   "execution_count": 4,
   "metadata": {
    "collapsed": true
   },
   "outputs": [],
   "source": [
    "# Function to produce image\n",
    "def toImage(composite,visParam,title):\n",
    "    '''\n",
    "    Retrieves Google Earth image's thumbUrls and plot the results at 3 different zoom levels. Note that the `region_z` objects are pulled from the global environment.\n",
    "    composite: ee.Image (assumes 3 bands)\n",
    "    visParam: image.vizualisation params e.g. {'opacity': 1, 'gain':3.5, 'bias':4, 'gamma':1.5}\n",
    "    title: plot\n",
    "    '''\n",
    "    visParam['region'] = region_z10 \n",
    "    print('Z10: '+ title + ': ' + dates['start'] + ' - ' + dates['end'])\n",
    "    image1 = Image(url=composite.getThumbUrl(visParam))\n",
    "    display(image1)\n",
    "    \n",
    "    visParam['region'] = region_z6 \n",
    "    print('Z6: '+ title + ': ' + dates['start'] + ' - ' + dates['end'])\n",
    "    image2= Image(url=composite.getThumbUrl(visParam))\n",
    "    display(image2)\n",
    "    \n",
    "    visParam['region'] = region_z4 \n",
    "    print('Z4: '+ title + ': ' + dates['start'] + ' - ' + dates['end'])\n",
    "    image3= Image(url=composite.getThumbUrl(visParam))\n",
    "    display(image3)\n",
    "    \n",
    "    \n",
    "    "
   ]
  },
  {
   "cell_type": "markdown",
   "metadata": {},
   "source": [
    "## Define ROIs\n",
    "\n",
    "Below we will calculate buffer zones from a given lon-lat coordinate and generate 3 ROI objects. These will then be used in the `toImage` function to print Lansat images in the notebook. These ROIs are roughly equivalent to zoom levels 4, 6 and 10.\n",
    "\n",
    "Some sites of interest:\n",
    "\n",
    "|site|ISO|lon|lat|\n",
    "|-----------|-------|---|---|\n",
    "|El Triunfo|MEX|-92.7548|15.6151|\n",
    "|Chimalapas|MEX|-94.3835|16.7604|\n",
    "|Leticia|COL|-70.2727|-3.8094|\n",
    "|Oslo|NOR|10.679|59.955|\n",
    "|Okavango Delta|BWA|22.346|-18.792|\n",
    "|Gran Canaria|ESP|-15.5786|27.9507|"
   ]
  },
  {
   "cell_type": "code",
   "execution_count": 5,
   "metadata": {
    "collapsed": false
   },
   "outputs": [],
   "source": [
    "# --- Coordinates\n",
    "lon = -15.5786\n",
    "lat = 27.9507\n",
    "zstart = 10"
   ]
  },
  {
   "cell_type": "code",
   "execution_count": 6,
   "metadata": {
    "collapsed": false
   },
   "outputs": [],
   "source": [
    "# -- Set ROI for IPython.display\n",
    "point = ee.Geometry.Point(lon,lat)\n",
    "\n",
    "# set bufffers:units is meters \n",
    "# resulting zoom levels are an approximation\n",
    "buffer_z10 = point.buffer(40000)\n",
    "buffer_z6 = point.buffer(650000)\n",
    "buffer_z4 = point.buffer(2500000)\n",
    "\n",
    "# convert to FeatureCollection\n",
    "bufferFeat_z10 = ee.FeatureCollection(buffer_z10).set('area',1)\n",
    "bufferFeat_z6 = ee.FeatureCollection(buffer_z6).set('area',1)\n",
    "bufferFeat_z4 = ee.FeatureCollection(buffer_z4).set('area',1)\n",
    "\n",
    "# extract bounds\n",
    "region_z10 = buffer_z10.bounds().getInfo()['coordinates']\n",
    "region_z6 = buffer_z6.bounds().getInfo()['coordinates']\n",
    "region_z4 = buffer_z4.bounds().getInfo()['coordinates']\n",
    "\n",
    "#  -- preview ROI\n",
    "# roi = tile_url(bufferFeat_z10,{'color': '#FF5733'})\n",
    "# map = folium.Map(location=[lat,lon],zoom_start=zstart)\n",
    "# map.add_tile_layer(tiles=roi, attr=\"na\")\n",
    "# map"
   ]
  },
  {
   "cell_type": "markdown",
   "metadata": {},
   "source": [
    "## Landsat products\n",
    "\n",
    "Earth Engine provides a variety of [Landsat products](https://developers.google.com/earth-engine/landsat) which are cataloged according to their data quality and processing methods. Some of these proved to be very useful at certain zoom levels when producing the basemaps for the 2013-2016 period. \n",
    "\n",
    "In the sections below we'll apply a similar compositing methodology with the equivalent Landsat 7 products. These include the following collections:\n",
    "\n",
    "## Orthorectified\n",
    "\n",
    "**USGS Landsat 7 Raw Scenes (Orthorectified)**\n",
    "\n",
    "- id: LANDSAT/LE7_L1T\n",
    "- [description](https://code.earthengine.google.com/dataset/LANDSAT/LE7_L1T)\n",
    "- dates: Jan 1, 1999 - Apr 30, 2017\n",
    "\n",
    "\n",
    "## Collection 1 Tier 1\n",
    "\n",
    "Landsat scenes with the highest available data quality are placed into Tier 1 and are considered suitable for time-series processing analysis. The T1_RT collection contains both Tier 1 and Real-Time (RT) assets.\n",
    "\n",
    "**USGS Landsat 7 Collection 1 Tier 1 Raw Scenes**\n",
    "\n",
    "- id: LANDSAT/LE07/C01/T1\n",
    "- [description](https://code.earthengine.google.com/dataset/LANDSAT/LE07/C01/T1)\n",
    "- dates: Jan 1, 1999 - Present\n",
    "\n",
    "\n",
    "**USGS Landsat 7 Collection 1 Tier 1 and Real-Time data aw Scenes]**\n",
    "\n",
    "- id: LANDSAT/LE07/C01/T1_RT\n",
    "- [description](https://code.earthengine.google.com/dataset/LANDSAT/LE07/C01/T1_RT)\n",
    "- dates: Jan 1, 1999 - Present\n",
    "\n",
    "\n",
    "\n",
    "## Calibrated TOA\n",
    "\n",
    "These Landsat 7 composites are made from Level L1T orthorectified scenes, using the computed top-of-atmosphere (TOA) reflectance. As of May 1, 2017, the USGS is no longer producing Pre-Collection Landsat, and therefore these collections are on longer being updated.\n",
    "\n",
    "\n",
    "**USGS Landsat 7 Collection 1 Tier 1 and Real-Time data OA Reflectance]**\n",
    "\n",
    "- id: LANDSAT/LE07/C01/T1_RT_TOA\n",
    "- [description](https://code.earthengine.google.com/dataset/LANDSAT/LE07/C01/T1_RT_TOA)\n",
    "- dates: Jan 1, 1999 - Present\n",
    "\n",
    "\n",
    "**USGS Landsat 7 TOA Reflectance (Orthorectified)**\n",
    "\n",
    "- id: LANDSAT/LE7_L1T_TOA\n",
    "- [description](https://code.earthengine.google.com/dataset/LANDSAT/LE7_L1T_TOA)\n",
    "- dates: Jan 1, 1999 - Apr 30, 2017\n",
    "\n",
    "\n",
    "**Landsat 7 Annual Greenest-Pixel TOA Reflectance Composite**\n",
    "\n",
    "- id: LE7_L1T_ANNUAL_GREENEST_TOA\n",
    "- [description](https://code.earthengine.google.com/dataset/LANDSAT/LE7_L1T_ANNUAL_GREENEST_TOA)\n",
    "- dates: Jan 1, 1999 - Jan 1, 2018"
   ]
  },
  {
   "cell_type": "markdown",
   "metadata": {},
   "source": [
    "---------"
   ]
  },
  {
   "cell_type": "markdown",
   "metadata": {},
   "source": [
    "## 1. USGS Landsat 7 Raw Scenes (Orthorectified)\n",
    "\n",
    " ` LANDSAT/LE7_L1T`"
   ]
  },
  {
   "cell_type": "code",
   "execution_count": 7,
   "metadata": {
    "collapsed": false
   },
   "outputs": [
    {
     "name": "stdout",
     "output_type": "stream",
     "text": [
      "Returning 3 years range: from 2008-07-01 to 2011-07-01\n"
     ]
    }
   ],
   "source": [
    "dates = dateRange(2010,3)\n",
    "\n",
    "# load collection and filter by dates\n",
    "l7_l1t = ee.ImageCollection('LANDSAT/LE7_L1T').filterDate(dates['start'], dates['end'])"
   ]
  },
  {
   "cell_type": "markdown",
   "metadata": {},
   "source": [
    "### Cloud free composite\n",
    "\n",
    "Returns a cloud-free composite computed with the `ee.Algorithms.Landsat.simpleComposite()`. This function converts raw scenes to TOA reflectance, applies the simple cloud score and takes a given percentile of the least cloudy pixels.\n",
    "\n",
    "[Sample code](https://code.earthengine.google.com/e8832e9bf4d073cda0dcdb6638a065ae):\n",
    "```\n",
    "var collection = ee.ImageCollection('LANDSAT/LC8_L1T').filterDate('2015-01-01T00:00','2015-12-31T00:00');\n",
    "var composite = ee.Algorithms.Landsat.simpleComposite({collection: collection, percentile: 50, maxDepth:80, cloudScoreRange: 1, asFloat:true});\n",
    "var hsv2 = composite.select(['B4', 'B3', 'B2']).rgbToHsv();\n",
    "var median = hsv2.hsvToRgb().visualize({gain:1000, gamma: [1.15, 1.4, 1.15]});   \n",
    "```"
   ]
  },
  {
   "cell_type": "code",
   "execution_count": 8,
   "metadata": {
    "collapsed": false
   },
   "outputs": [],
   "source": [
    "# cutsom composite\n",
    "## - Playing with the percentile values results in different brightness intensities.\n",
    "l7_l1t_composite = ee.Algorithms.Landsat.simpleComposite(\n",
    "    collection= l7_l1t, \n",
    "    percentile= 30, \n",
    "    maxDepth=80, \n",
    "    cloudScoreRange= 1, asFloat=True)\n",
    "    \n",
    "# to HSV\n",
    "hsv_l1t = l7_l1t_composite.select(['B3', 'B2', 'B1']).rgbToHsv()\n",
    "\n",
    "# make image\n",
    "rgb_l1t= hsv_l1t.hsvToRgb().visualize()"
   ]
  },
  {
   "cell_type": "code",
   "execution_count": 9,
   "metadata": {
    "collapsed": false
   },
   "outputs": [
    {
     "name": "stdout",
     "output_type": "stream",
     "text": [
      "Z10: simpleComposite (custom parameters): 2008-07-01 - 2011-07-01\n"
     ]
    },
    {
     "data": {
      "text/html": [
       "<img src=\"https://earthengine.googleapis.com/api/thumb?thumbid=2737e123dd530ecca3cce14f5b08bf2b&token=e6c09852d560968b39942b62f534dac5\"/>"
      ],
      "text/plain": [
       "<IPython.core.display.Image object>"
      ]
     },
     "metadata": {},
     "output_type": "display_data"
    },
    {
     "name": "stdout",
     "output_type": "stream",
     "text": [
      "Z6: simpleComposite (custom parameters): 2008-07-01 - 2011-07-01\n"
     ]
    },
    {
     "data": {
      "text/html": [
       "<img src=\"https://earthengine.googleapis.com/api/thumb?thumbid=b6164e158e634b71611272f81c99cef2&token=7d277363f53e068a48bfcfa69bd2e268\"/>"
      ],
      "text/plain": [
       "<IPython.core.display.Image object>"
      ]
     },
     "metadata": {},
     "output_type": "display_data"
    },
    {
     "name": "stdout",
     "output_type": "stream",
     "text": [
      "Z4: simpleComposite (custom parameters): 2008-07-01 - 2011-07-01\n"
     ]
    },
    {
     "data": {
      "text/html": [
       "<img src=\"https://earthengine.googleapis.com/api/thumb?thumbid=1721d79cf0027d63096c0e342bab2320&token=7fcdc6f05c1ecd0593311ecb968fd2b7\"/>"
      ],
      "text/plain": [
       "<IPython.core.display.Image object>"
      ]
     },
     "metadata": {},
     "output_type": "display_data"
    }
   ],
   "source": [
    "visParam = {\n",
    "    'gain':3,\n",
    "    'gamma':'1.15,1.4,1.15',\n",
    "}\n",
    "\n",
    "# plot\n",
    "toImage(rgb_l1t,visParam,'simpleComposite (custom parameters)')"
   ]
  },
  {
   "cell_type": "code",
   "execution_count": 334,
   "metadata": {
    "collapsed": false
   },
   "outputs": [],
   "source": [
    "# Map tiles\n",
    "# ee_tiles = tile_url(rgb_l1t,visParam)\n",
    "# map = folium.Map(location=[lat,lon], zoom_start=5)\n",
    "# map.add_tile_layer(tiles=ee_tiles, attr=\"NASA\")\n",
    "# map"
   ]
  },
  {
   "cell_type": "markdown",
   "metadata": {},
   "source": [
    "### Cloud free composite + pan-sharpen\n",
    "\n",
    "Now we'll pansharpen the above composite.\n",
    "\n",
    "[Sample code](https://code.earthengine.google.com/cbe5822c7166f99fc414d59d8e70c7fc)"
   ]
  },
  {
   "cell_type": "code",
   "execution_count": 10,
   "metadata": {
    "collapsed": false
   },
   "outputs": [],
   "source": [
    "# Sharpen above compostie\n",
    "l7_l1t_sharpened = ee.Image.cat([hsv_l1t.select('hue'), hsv_l1t.select('saturation'), \n",
    "                          l7_l1t_composite.select('B8')]).hsvToRgb() # .visualize(gain=600,gamma= [1.15, 1.4, 1.15])"
   ]
  },
  {
   "cell_type": "code",
   "execution_count": 12,
   "metadata": {
    "collapsed": false
   },
   "outputs": [
    {
     "name": "stdout",
     "output_type": "stream",
     "text": [
      "Z10: simpleComposite (custom parameters) + pansharpen: 2008-07-01 - 2011-07-01\n"
     ]
    },
    {
     "data": {
      "text/html": [
       "<img src=\"https://earthengine.googleapis.com/api/thumb?thumbid=d6d0b745406887ae69219aeeff0b75a2&token=7750ce17405f5144061b5aea6441b038\"/>"
      ],
      "text/plain": [
       "<IPython.core.display.Image object>"
      ]
     },
     "metadata": {},
     "output_type": "display_data"
    },
    {
     "name": "stdout",
     "output_type": "stream",
     "text": [
      "Z6: simpleComposite (custom parameters) + pansharpen: 2008-07-01 - 2011-07-01\n"
     ]
    },
    {
     "data": {
      "text/html": [
       "<img src=\"https://earthengine.googleapis.com/api/thumb?thumbid=4519252a81f4c6719b783f93c5bce09a&token=3f6f273dbb225c1f09af428786b7dfb8\"/>"
      ],
      "text/plain": [
       "<IPython.core.display.Image object>"
      ]
     },
     "metadata": {},
     "output_type": "display_data"
    },
    {
     "name": "stdout",
     "output_type": "stream",
     "text": [
      "Z4: simpleComposite (custom parameters) + pansharpen: 2008-07-01 - 2011-07-01\n"
     ]
    },
    {
     "data": {
      "text/html": [
       "<img src=\"https://earthengine.googleapis.com/api/thumb?thumbid=7366b5c496b5a155acb0a1c50c72fd3a&token=0281f4a97d13040e1bbea1af4d007bdc\"/>"
      ],
      "text/plain": [
       "<IPython.core.display.Image object>"
      ]
     },
     "metadata": {},
     "output_type": "display_data"
    }
   ],
   "source": [
    "visParam = {\n",
    "    'gain':1000,\n",
    "    'gamma':'1.15,1.4,1.15',\n",
    "}\n",
    "\n",
    "# plot\n",
    "toImage(l7_l1t_sharpened,visParam,'simpleComposite (custom parameters) + pansharpen')"
   ]
  },
  {
   "cell_type": "code",
   "execution_count": null,
   "metadata": {
    "collapsed": true
   },
   "outputs": [],
   "source": [
    "# Map tiles\n",
    "# ee_tiles = tile_url(l7_l1t_sharpened,visParam)\n",
    "# map = folium.Map(location=[lat,lon], zoom_start=11)\n",
    "# map.add_tile_layer(tiles=ee_tiles, attr=\"NASA\")\n",
    "# map"
   ]
  },
  {
   "cell_type": "markdown",
   "metadata": {},
   "source": [
    "## 2. USGS Landsat 7 TOA Reflectance (Orthorectified)\n",
    "`LANDSAT/LE7_L1T_TOA`"
   ]
  },
  {
   "cell_type": "code",
   "execution_count": 14,
   "metadata": {
    "collapsed": false
   },
   "outputs": [
    {
     "name": "stdout",
     "output_type": "stream",
     "text": [
      "Returning 4 years range: from 2008-01-01 to 2012-01-01\n"
     ]
    }
   ],
   "source": [
    "dates = dateRange(2010,4)\n",
    "\n",
    "# load collection and filter by dates\n",
    "l7_l1t_toa = ee.ImageCollection('LANDSAT/LE7_L1T_TOA').filterDate(dates['start'], dates['end'])"
   ]
  },
  {
   "cell_type": "markdown",
   "metadata": {},
   "source": [
    "###  Filter by cloud cover and median over time + pan-sharpen\n",
    "\n",
    "This method selects a subset of scenes at a given location, applies a cloud cover filter and takes the median value of the resulting pixels. Since we're working with a TOA reflectance data we don't need to calculate this parameter. We'll also pan-sharpen these images so results can be used for high resolution tiles.\n",
    "\n",
    "The original workflow for processing Landsat 8 data included a `CLOUD_COVER_LAND` filter, which is used to calculate could scores of the [land pixels in a scene](https://landsat.usgs.gov/what-difference-between-scene-cloud-cover-and-land-cloud-cover-scores). This parameter is not available in the Landsat 7, so instead I'm applying a simple `CLOUD_COVER` score.\n",
    "\n",
    "The results are not of much use though...\n",
    "\n",
    "[Source](https://code.earthengine.google.com/2f72c2a15bd46646329e28c13ba2a558)\n",
    "\n",
    "```\n",
    "// Get the median over time, in each band, in each pixel.\n",
    "var median = ee.ImageCollection('LANDSAT/LC8_L1T_TOA')\n",
    "                  .filterDate('2013-04-01', '2016-12-31').filter(ee.Filter.lt('CLOUD_COVER_LAND', 35)).median();\n",
    "\n",
    "var hsv = median.select(['B4', 'B3', 'B2']).rgbToHsv();    \n",
    "var sharpened = ee.Image.cat([hsv.select('hue'), hsv.select('saturation'), median.select('B8')]).hsvToRgb().visualize({gain:1000, gamma: [1.15, 1.4, 1.15]});\n",
    "\n",
    "```"
   ]
  },
  {
   "cell_type": "code",
   "execution_count": 15,
   "metadata": {
    "collapsed": false
   },
   "outputs": [],
   "source": [
    "l7_l1t_toa_med = l7_l1t_toa.filter(ee.Filter.lt('CLOUD_COVER', 7)).median()\n",
    "hsv_l1t_toa = l7_l1t_toa_med.select(['B3', 'B2', 'B1']).rgbToHsv()"
   ]
  },
  {
   "cell_type": "code",
   "execution_count": 16,
   "metadata": {
    "collapsed": false
   },
   "outputs": [],
   "source": [
    "# Sharpen above compostie\n",
    "l7_l1t_toa_sharpened = ee.Image.cat([hsv_l1t_toa.select('hue'), hsv_l1t_toa.select('saturation'),\n",
    "                                     l7_l1t_toa_med.select('B8')]).hsvToRgb()"
   ]
  },
  {
   "cell_type": "code",
   "execution_count": 18,
   "metadata": {
    "collapsed": false
   },
   "outputs": [
    {
     "name": "stdout",
     "output_type": "stream",
     "text": [
      "Z10: Filter by cloud & median values + Pansharpened: 2008-01-01 - 2012-01-01\n"
     ]
    },
    {
     "data": {
      "text/html": [
       "<img src=\"https://earthengine.googleapis.com/api/thumb?thumbid=c2d853acb43595f8ece0f38cc9eb2cb0&token=358703c4bece4e6223f8f93acf338365\"/>"
      ],
      "text/plain": [
       "<IPython.core.display.Image object>"
      ]
     },
     "metadata": {},
     "output_type": "display_data"
    },
    {
     "name": "stdout",
     "output_type": "stream",
     "text": [
      "Z6: Filter by cloud & median values + Pansharpened: 2008-01-01 - 2012-01-01\n"
     ]
    },
    {
     "data": {
      "text/html": [
       "<img src=\"https://earthengine.googleapis.com/api/thumb?thumbid=9cf6b3a46102d8bbd19e6b835ae6dcee&token=af88508302083922d1a604aa41671e17\"/>"
      ],
      "text/plain": [
       "<IPython.core.display.Image object>"
      ]
     },
     "metadata": {},
     "output_type": "display_data"
    },
    {
     "name": "stdout",
     "output_type": "stream",
     "text": [
      "Z4: Filter by cloud & median values + Pansharpened: 2008-01-01 - 2012-01-01\n"
     ]
    },
    {
     "data": {
      "text/html": [
       "<img src=\"https://earthengine.googleapis.com/api/thumb?thumbid=3265d68a1b5450d7a7cea8dcab58831e&token=49aac3dba655d27ab071af1d35da2302\"/>"
      ],
      "text/plain": [
       "<IPython.core.display.Image object>"
      ]
     },
     "metadata": {},
     "output_type": "display_data"
    }
   ],
   "source": [
    "visParam= {\n",
    "    'gain': 800, \n",
    "    'gamma':'1.15, 1.4, 1.15'\n",
    "}\n",
    "\n",
    "# plot\n",
    "toImage(l7_l1t_toa_sharpened,visParam,'Filter by cloud & median values + Pansharpened')"
   ]
  },
  {
   "cell_type": "markdown",
   "metadata": {},
   "source": [
    "## 3. USGS Landsat 7 Collection 1 Tier 1 Raw Scenes \n",
    "`LANDSAT/LE07/C01/T1`"
   ]
  },
  {
   "cell_type": "code",
   "execution_count": 20,
   "metadata": {
    "collapsed": false
   },
   "outputs": [
    {
     "name": "stdout",
     "output_type": "stream",
     "text": [
      "Returning 3 years range: from 2008-07-01 to 2011-07-01\n"
     ]
    }
   ],
   "source": [
    "dates = dateRange(2010,3)\n",
    "\n",
    "# load collection and filter by dates\n",
    "l7_t1 = ee.ImageCollection('LANDSAT/LE07/C01/T1').filterDate(dates['start'], dates['end'])"
   ]
  },
  {
   "cell_type": "markdown",
   "metadata": {},
   "source": [
    "### Cloud free composite + pan-sharpen\n",
    "\n",
    "In this example we will generate a composite with the `ee.Algorithms.Landsat.simpleComposite()` module. We'll provide with a custom cloud cover threshold and percentile value to filter the resulting pixels. \n",
    "\n",
    "This particular combination looks very useful for lower resolution tiles (Z6), and the color palette is similar to the Landsat basemaps in GFW for recent years\n",
    "\n",
    "[Source](https://developers.google.com/earth-engine/landsat#simple-composite)"
   ]
  },
  {
   "cell_type": "code",
   "execution_count": 24,
   "metadata": {
    "collapsed": false
   },
   "outputs": [],
   "source": [
    "# Create a cloud-free composite with custom parameters for\n",
    "customComposite = ee.Algorithms.Landsat.simpleComposite(\n",
    "  collection= l7_t1,\n",
    "    percentile= 30,\n",
    "    cloudScoreRange= 8,\n",
    "    asFloat= True)"
   ]
  },
  {
   "cell_type": "code",
   "execution_count": 22,
   "metadata": {
    "collapsed": true
   },
   "outputs": [],
   "source": [
    "# Convert the RGB bands to the HSV color space.\n",
    "hsv_custom = customComposite.select(['B3', 'B2', 'B1']).rgbToHsv()\n",
    "\n",
    "# now from HSV to RGB\n",
    "rgb_custom = hsv_custom.hsvToRgb()"
   ]
  },
  {
   "cell_type": "code",
   "execution_count": 23,
   "metadata": {
    "collapsed": false
   },
   "outputs": [
    {
     "name": "stdout",
     "output_type": "stream",
     "text": [
      "Z10: Simple composite (custom parameters): 2008-07-01 - 2011-07-01\n"
     ]
    },
    {
     "data": {
      "text/html": [
       "<img src=\"https://earthengine.googleapis.com/api/thumb?thumbid=1bbd224dd8bcddf916fe2f18da48de1b&token=9b2943788bc8787b18178fe85d5018dc\"/>"
      ],
      "text/plain": [
       "<IPython.core.display.Image object>"
      ]
     },
     "metadata": {},
     "output_type": "display_data"
    },
    {
     "name": "stdout",
     "output_type": "stream",
     "text": [
      "Z6: Simple composite (custom parameters): 2008-07-01 - 2011-07-01\n"
     ]
    },
    {
     "data": {
      "text/html": [
       "<img src=\"https://earthengine.googleapis.com/api/thumb?thumbid=1b65f8dab6481a2d5d85956a0d6a417d&token=aa5887a877e63e1efd3b13da67c07f8a\"/>"
      ],
      "text/plain": [
       "<IPython.core.display.Image object>"
      ]
     },
     "metadata": {},
     "output_type": "display_data"
    },
    {
     "name": "stdout",
     "output_type": "stream",
     "text": [
      "Z4: Simple composite (custom parameters): 2008-07-01 - 2011-07-01\n"
     ]
    },
    {
     "data": {
      "text/html": [
       "<img src=\"https://earthengine.googleapis.com/api/thumb?thumbid=034f06cbe3a84bd0e19535b1d41963f6&token=862e2453b6590384511244684b3c7140\"/>"
      ],
      "text/plain": [
       "<IPython.core.display.Image object>"
      ]
     },
     "metadata": {},
     "output_type": "display_data"
    }
   ],
   "source": [
    "# Define visualisation parameters\n",
    "visParam= {\n",
    "    'gain': 700, \n",
    "    'gamma':'1.15, 1.4, 1.15'\n",
    "}\n",
    "\n",
    "# plot\n",
    "toImage(rgb_custom,visParam,'Simple composite (custom parameters)')"
   ]
  },
  {
   "cell_type": "code",
   "execution_count": null,
   "metadata": {
    "collapsed": true
   },
   "outputs": [],
   "source": [
    "# Map tiles\n",
    "# ee_tiles = tile_url(rgb_custom,visParam)  # hsv_custom looks cool\n",
    "# map = folium.Map(location=[lat,lon], zoom_start=7)\n",
    "# map.add_tile_layer(tiles=ee_tiles, attr=\"NASA\")\n",
    "# map"
   ]
  },
  {
   "cell_type": "markdown",
   "metadata": {},
   "source": [
    "Increasing the date query to 5 years and changing the visualisation parameters (see below) returns composites that could also be used for higher zoom levels."
   ]
  },
  {
   "cell_type": "code",
   "execution_count": 37,
   "metadata": {
    "collapsed": false
   },
   "outputs": [
    {
     "name": "stdout",
     "output_type": "stream",
     "text": [
      "Returning 5 years range: from 2007-07-01 to 2012-07-01\n",
      "Z10: Simple composite (custom parameters): 2007-07-01 - 2012-07-01\n"
     ]
    },
    {
     "data": {
      "text/html": [
       "<img src=\"https://earthengine.googleapis.com/api/thumb?thumbid=2307d0caca044664321feb41d7ae5f14&token=568c717b3dd1204100005152995c8d29\"/>"
      ],
      "text/plain": [
       "<IPython.core.display.Image object>"
      ]
     },
     "metadata": {},
     "output_type": "display_data"
    },
    {
     "name": "stdout",
     "output_type": "stream",
     "text": [
      "Z6: Simple composite (custom parameters): 2007-07-01 - 2012-07-01\n"
     ]
    },
    {
     "data": {
      "text/html": [
       "<img src=\"https://earthengine.googleapis.com/api/thumb?thumbid=f7a1b85d340615847612a8a9874edd84&token=66ec423112012426b65fedee89942bfb\"/>"
      ],
      "text/plain": [
       "<IPython.core.display.Image object>"
      ]
     },
     "metadata": {},
     "output_type": "display_data"
    },
    {
     "name": "stdout",
     "output_type": "stream",
     "text": [
      "Z4: Simple composite (custom parameters): 2007-07-01 - 2012-07-01\n"
     ]
    },
    {
     "data": {
      "text/html": [
       "<img src=\"https://earthengine.googleapis.com/api/thumb?thumbid=9604fd7af149c232db2bc29af82aea4d&token=2cf3537a2948ac4cd93bf5cd77d596d2\"/>"
      ],
      "text/plain": [
       "<IPython.core.display.Image object>"
      ]
     },
     "metadata": {},
     "output_type": "display_data"
    }
   ],
   "source": [
    "dates = dateRange(2010,5)  # <- increase date range\n",
    "\n",
    "# load collection and filter by dates\n",
    "l7_t1 = ee.ImageCollection('LANDSAT/LE07/C01/T1').filterDate(dates['start'], dates['end'])\n",
    "\n",
    "\n",
    "# Create a cloud-free composite with custom parameters for\n",
    "customComposite = ee.Algorithms.Landsat.simpleComposite(\n",
    "  collection= l7_t1,\n",
    "    percentile= 60,\n",
    "    cloudScoreRange= 1,\n",
    "    asFloat= True)\n",
    "\n",
    "# Define visualisation parameters\n",
    "visParam= {\n",
    "    'gain': 800, \n",
    "    'gamma':'1.15, 1.40, 1.15'\n",
    "}\n",
    "\n",
    "# plot results\n",
    "toImage(rgb_custom,visParam,'Simple composite (custom parameters)')"
   ]
  },
  {
   "cell_type": "markdown",
   "metadata": {},
   "source": [
    "## 4. USGS Landsat 7 Collection 1 Tier 1 and Real-Time data Raw Scenes\n",
    "`LE07/C01/T1_RT/`\n",
    "\n",
    "Tier 1 collections contain images with the highest quality available. In this section we'll compute 2 composites using the  `simpleComposite` algorithm, one with default parameters and the other with a custom cloud score and percentile value\n",
    "\n",
    "[Source](https://code.earthengine.google.com/9c32b62c959c1f4121cb3218380afb7d) "
   ]
  },
  {
   "cell_type": "code",
   "execution_count": 30,
   "metadata": {
    "collapsed": false
   },
   "outputs": [
    {
     "name": "stdout",
     "output_type": "stream",
     "text": [
      "Returning 4 years range: from 2008-01-01 to 2012-01-01\n"
     ]
    }
   ],
   "source": [
    "dates = dateRange(2010,4)\n",
    "\n",
    "# load collection and filter by dates\n",
    "l7_t1_rt = ee.ImageCollection('LANDSAT/LE07/C01/T1_RT').filterDate(dates['start'], dates['end'])"
   ]
  },
  {
   "cell_type": "code",
   "execution_count": 31,
   "metadata": {
    "collapsed": true
   },
   "outputs": [],
   "source": [
    "l7_t1_rt_simpleComp = ee.Algorithms.Landsat.simpleComposite(l7_t1_rt)"
   ]
  },
  {
   "cell_type": "code",
   "execution_count": 32,
   "metadata": {
    "collapsed": false
   },
   "outputs": [
    {
     "name": "stdout",
     "output_type": "stream",
     "text": [
      "Z10: Simple composite (default params): 2008-01-01 - 2012-01-01\n"
     ]
    },
    {
     "data": {
      "text/html": [
       "<img src=\"https://earthengine.googleapis.com/api/thumb?thumbid=9afe3e65c89985cf82c44d522bc8b9c2&token=3440e2dae9807f06b7a51d2a8a52ad42\"/>"
      ],
      "text/plain": [
       "<IPython.core.display.Image object>"
      ]
     },
     "metadata": {},
     "output_type": "display_data"
    },
    {
     "name": "stdout",
     "output_type": "stream",
     "text": [
      "Z6: Simple composite (default params): 2008-01-01 - 2012-01-01\n"
     ]
    },
    {
     "data": {
      "text/html": [
       "<img src=\"https://earthengine.googleapis.com/api/thumb?thumbid=942c58833a930cc399a6d6ed2d47d864&token=f4f8207e236a786c70a3155fb76a31f2\"/>"
      ],
      "text/plain": [
       "<IPython.core.display.Image object>"
      ]
     },
     "metadata": {},
     "output_type": "display_data"
    },
    {
     "name": "stdout",
     "output_type": "stream",
     "text": [
      "Z4: Simple composite (default params): 2008-01-01 - 2012-01-01\n"
     ]
    },
    {
     "data": {
      "text/html": [
       "<img src=\"https://earthengine.googleapis.com/api/thumb?thumbid=ed72ee1b18709f228f940c7d535ecabe&token=4af8478c0c612a314511d59a335af453\"/>"
      ],
      "text/plain": [
       "<IPython.core.display.Image object>"
      ]
     },
     "metadata": {},
     "output_type": "display_data"
    }
   ],
   "source": [
    "# Define visParams\n",
    "visParam = {\n",
    "    'bands':'B3,B2,B1',\n",
    "    'gain':2.5,\n",
    "    'gamma':'1.3, 1.3, 1.3',\n",
    "#     'dimensions': 800\n",
    "}\n",
    "\n",
    "# plot\n",
    "toImage(l7_t1_rt_simpleComp,visParam,'Simple composite (default params)')"
   ]
  },
  {
   "cell_type": "code",
   "execution_count": 33,
   "metadata": {
    "collapsed": true
   },
   "outputs": [],
   "source": [
    "# Create a cloud-free composite with custom parameters for\n",
    "customComposite = ee.Algorithms.Landsat.simpleComposite(\n",
    "  collection= l7_t1_rt,\n",
    "    percentile= 50,\n",
    "    cloudScoreRange= 1,\n",
    "    asFloat= True)"
   ]
  },
  {
   "cell_type": "code",
   "execution_count": 34,
   "metadata": {
    "collapsed": true
   },
   "outputs": [],
   "source": [
    "# Convert the RGB bands to the HSV color space.\n",
    "hsv_custom = customComposite.select(['B3', 'B2', 'B1']).rgbToHsv()\n",
    "\n",
    "# now from HSV to RGB\n",
    "rgb_custom = hsv_custom.hsvToRgb()"
   ]
  },
  {
   "cell_type": "code",
   "execution_count": 35,
   "metadata": {
    "collapsed": false
   },
   "outputs": [
    {
     "name": "stdout",
     "output_type": "stream",
     "text": [
      "Z10: C1 Tier1 Pansharepened: 2008-01-01 - 2012-01-01\n"
     ]
    },
    {
     "data": {
      "text/html": [
       "<img src=\"https://earthengine.googleapis.com/api/thumb?thumbid=8c65b75fb3003c9726286a6a62398b87&token=df62a4a23c41c5018714c3a163de204a\"/>"
      ],
      "text/plain": [
       "<IPython.core.display.Image object>"
      ]
     },
     "metadata": {},
     "output_type": "display_data"
    },
    {
     "name": "stdout",
     "output_type": "stream",
     "text": [
      "Z6: C1 Tier1 Pansharepened: 2008-01-01 - 2012-01-01\n"
     ]
    },
    {
     "data": {
      "text/html": [
       "<img src=\"https://earthengine.googleapis.com/api/thumb?thumbid=c005645873818f228f86f55106fde406&token=def7439b1d5b543152a6179b80b03b80\"/>"
      ],
      "text/plain": [
       "<IPython.core.display.Image object>"
      ]
     },
     "metadata": {},
     "output_type": "display_data"
    },
    {
     "name": "stdout",
     "output_type": "stream",
     "text": [
      "Z4: C1 Tier1 Pansharepened: 2008-01-01 - 2012-01-01\n"
     ]
    },
    {
     "data": {
      "text/html": [
       "<img src=\"https://earthengine.googleapis.com/api/thumb?thumbid=26410953607e042063a8fdc0f5e58955&token=d574415905989e879d301bcea4b84251\"/>"
      ],
      "text/plain": [
       "<IPython.core.display.Image object>"
      ]
     },
     "metadata": {},
     "output_type": "display_data"
    }
   ],
   "source": [
    "# Define visParams\n",
    "visParam = {\n",
    "    'gain':700, \n",
    "    'gamma':'1.15, 1.4, 1.15'\n",
    "}\n",
    "\n",
    "# plot\n",
    "toImage(rgb_custom,visParam,'C1 Tier1 Pansharepened')"
   ]
  },
  {
   "cell_type": "code",
   "execution_count": null,
   "metadata": {
    "collapsed": true
   },
   "outputs": [],
   "source": [
    "# Map tiles\n",
    "# ee_tiles = tile_url(rgb_custom,visParam)\n",
    "# map = folium.Map(location=[lat,lon], zoom_start=9)\n",
    "# map.add_tile_layer(tiles=ee_tiles, attr=\"NASA\")\n",
    "# map.add_tile_layer(tiles=feat_tiles, attr=\"na\")\n",
    "# map"
   ]
  },
  {
   "cell_type": "markdown",
   "metadata": {},
   "source": [
    "## 5. USGS Landsat 7 Collection 1 Tier 1 and Real-Time data TOA Reflectance\n",
    "` LANDSAT/LE07/C01/T1_RT_TOA`"
   ]
  },
  {
   "cell_type": "code",
   "execution_count": 42,
   "metadata": {
    "collapsed": false
   },
   "outputs": [
    {
     "name": "stdout",
     "output_type": "stream",
     "text": [
      "Returning 4 years range: from 2008-01-01 to 2012-01-01\n"
     ]
    }
   ],
   "source": [
    "dates = dateRange(2010,4)\n",
    "# load collection and filter by dates\n",
    "l7_t1_rt_toa = ee.ImageCollection('LANDSAT/LE07/C01/T1_RT_TOA').filterDate(dates['start'], dates['end'])"
   ]
  },
  {
   "cell_type": "markdown",
   "metadata": {},
   "source": [
    "###  Filter by cloud cover and median over time + pan-sharpen\n",
    "\n",
    "This method selects a subset of scenes at a given location, applies a cloud cover filter and takes the median value of the resulting pixels. Since we're working with a TOA reflectance data we don't need to calculate this parameter. Finally we'll also pan-sharpen these images\n",
    "\n",
    "The results could be of potential use for high resolution tiles\n"
   ]
  },
  {
   "cell_type": "code",
   "execution_count": 43,
   "metadata": {
    "collapsed": false
   },
   "outputs": [],
   "source": [
    "l7_t1_rt_toa_med = l7_t1_rt_toa.filter(ee.Filter.lt('CLOUD_COVER', 10)).median()"
   ]
  },
  {
   "cell_type": "code",
   "execution_count": 49,
   "metadata": {
    "collapsed": false
   },
   "outputs": [
    {
     "name": "stdout",
     "output_type": "stream",
     "text": [
      "Z10: Filter by cloud cover | median: 2008-01-01 - 2012-01-01\n"
     ]
    },
    {
     "data": {
      "text/html": [
       "<img src=\"https://earthengine.googleapis.com/api/thumb?thumbid=3664ec61ba328a12f835fb7df6c29a24&token=6e0c511a7c54afe05bb9b4b39233f5ba\"/>"
      ],
      "text/plain": [
       "<IPython.core.display.Image object>"
      ]
     },
     "metadata": {},
     "output_type": "display_data"
    },
    {
     "name": "stdout",
     "output_type": "stream",
     "text": [
      "Z6: Filter by cloud cover | median: 2008-01-01 - 2012-01-01\n"
     ]
    },
    {
     "data": {
      "text/html": [
       "<img src=\"https://earthengine.googleapis.com/api/thumb?thumbid=678edf8ee6ff2d1c174f187747b7d337&token=09aa383e41beb592377afc4d67aa60a7\"/>"
      ],
      "text/plain": [
       "<IPython.core.display.Image object>"
      ]
     },
     "metadata": {},
     "output_type": "display_data"
    },
    {
     "name": "stdout",
     "output_type": "stream",
     "text": [
      "Z4: Filter by cloud cover | median: 2008-01-01 - 2012-01-01\n"
     ]
    },
    {
     "data": {
      "text/html": [
       "<img src=\"https://earthengine.googleapis.com/api/thumb?thumbid=3a6b0503aba19a9d734685e8c3154aa3&token=83fe95a3cd964e6a5dbca65cdb0d2968\"/>"
      ],
      "text/plain": [
       "<IPython.core.display.Image object>"
      ]
     },
     "metadata": {},
     "output_type": "display_data"
    }
   ],
   "source": [
    "# Define visParams\n",
    "visParam = {\n",
    "    'bands':'B3,B2,B1',\n",
    "    'min':0,\n",
    "    'max':0.25,\n",
    "#     'dimensions': 800\n",
    "}\n",
    "\n",
    "\n",
    "# plot\n",
    "toImage(l7_t1_rt_toa_med,visParam,'Filter by cloud cover | median')"
   ]
  },
  {
   "cell_type": "markdown",
   "metadata": {},
   "source": [
    "## 6. Landsat 7 Annual Greenest-Pixel TOA Reflectance Composite\n",
    "`LE7_L1T_ANNUAL_GREENEST_TOA`"
   ]
  },
  {
   "cell_type": "code",
   "execution_count": 50,
   "metadata": {
    "collapsed": false
   },
   "outputs": [
    {
     "name": "stdout",
     "output_type": "stream",
     "text": [
      "Returning 5 years range: from 2007-07-01 to 2012-07-01\n"
     ]
    }
   ],
   "source": [
    "dates = dateRange(2010,5)\n",
    "\n",
    "# load collection and filter by dates\n",
    "l7_toa_greenest_annual = ee.ImageCollection('LE7_L1T_ANNUAL_GREENEST_TOA').filterDate(dates['start'], dates['end'])"
   ]
  },
  {
   "cell_type": "markdown",
   "metadata": {},
   "source": [
    "#### Greenest pixel, and Greenest + Pansharp\n",
    "\n",
    "Lastly we'll experiment with the greenest-pixel collection. We'll compute a simple composite with the median values of a given period, and will also generate a pan-sharpened version of this composite\n",
    "\n",
    "[Source](https://code.earthengine.google.com/3b230f4c217c589ab267e438798b5e28)\n",
    "    \n",
    "```\n",
    "//--- Greenest pixel\n",
    "// NDVI Function\n",
    "var addNDVI = function(image) {\n",
    "var ndvi = image.normalizedDifference(['B5', 'B4']).rename('NDVI');\n",
    "  return image.addBands(ndvi);\n",
    "};\n",
    "\n",
    "var withNDVI = l8.map(addNDVI);\n",
    "\n",
    "// Make a \"greenest\" pixel composite.\n",
    "var greenest = withNDVI.qualityMosaic('NDVI');\n",
    "\n",
    "// Display the result.\n",
    "var visParams = {bands: ['B3', 'B2', 'B1'], max: 0.3};\n",
    "Map.addLayer(greenest, visParams, 'Greenest pixel composite');\n",
    "\n",
    "// ---- Greenest + Pansharp\n",
    "var hsv = greenest.select(['B3', 'B2', 'B1']).rgbToHsv();    \n",
    "var sharpened = ee.Image.cat([hsv.select('hue'), hsv.select('saturation'), greenest.select('B8')]).hsvToRgb().visualize({gain:1000, gamma: [1.15, 1.4, 1.15]});\n",
    "\n",
    "Map.addLayer(sharpened,null,'pan+green');\n",
    "\n",
    "``` "
   ]
  },
  {
   "cell_type": "code",
   "execution_count": 51,
   "metadata": {
    "collapsed": false
   },
   "outputs": [
    {
     "name": "stdout",
     "output_type": "stream",
     "text": [
      "Z10: Greenest-pixel: 2007-07-01 - 2012-07-01\n"
     ]
    },
    {
     "data": {
      "text/html": [
       "<img src=\"https://earthengine.googleapis.com/api/thumb?thumbid=9f589795f2bb5532babf7c23ba7805f5&token=8878493a7b13221185ce0ccde7ebad73\"/>"
      ],
      "text/plain": [
       "<IPython.core.display.Image object>"
      ]
     },
     "metadata": {},
     "output_type": "display_data"
    },
    {
     "name": "stdout",
     "output_type": "stream",
     "text": [
      "Z6: Greenest-pixel: 2007-07-01 - 2012-07-01\n"
     ]
    },
    {
     "data": {
      "text/html": [
       "<img src=\"https://earthengine.googleapis.com/api/thumb?thumbid=90cce697211270d573cde8c962853dc1&token=18758cd065e682947679ef56a03d1f03\"/>"
      ],
      "text/plain": [
       "<IPython.core.display.Image object>"
      ]
     },
     "metadata": {},
     "output_type": "display_data"
    },
    {
     "name": "stdout",
     "output_type": "stream",
     "text": [
      "Z4: Greenest-pixel: 2007-07-01 - 2012-07-01\n"
     ]
    },
    {
     "data": {
      "text/html": [
       "<img src=\"https://earthengine.googleapis.com/api/thumb?thumbid=a76bf1791bc3142f8241644ca7eea9e6&token=483f54603aec72ed1c5f92356bed7ce0\"/>"
      ],
      "text/plain": [
       "<IPython.core.display.Image object>"
      ]
     },
     "metadata": {},
     "output_type": "display_data"
    }
   ],
   "source": [
    "# get media (filtering by CLOUD_COVER is not available in this collection)\n",
    "l7_toa_greenest_annual = l7_toa_greenest_annual.median()\n",
    "\n",
    "# Plot\n",
    "visParam = {\n",
    "    'bands':'B3,B2,B1',\n",
    "    'max':0.3\n",
    "}\n",
    "\n",
    "# plot\n",
    "toImage(l7_toa_greenest_annual,visParam,'Greenest-pixel')"
   ]
  },
  {
   "cell_type": "code",
   "execution_count": 52,
   "metadata": {
    "collapsed": true
   },
   "outputs": [],
   "source": [
    "# calculate HSV\n",
    "hsv_greenest = l7_toa_greenest_annual.select(['B3', 'B2', 'B1']).rgbToHsv()\n",
    "\n",
    "# Sharpen above compostie\n",
    "l7_toa_greenest_sharpened = ee.Image.cat([hsv_greenest.select('hue'), hsv_greenest.select('saturation'),\n",
    "                                     l7_toa_greenest_annual.select('B8')]).hsvToRgb()"
   ]
  },
  {
   "cell_type": "code",
   "execution_count": 54,
   "metadata": {
    "collapsed": false
   },
   "outputs": [
    {
     "name": "stdout",
     "output_type": "stream",
     "text": [
      "Z10: Greenest-pixel + pansharpen: 2007-07-01 - 2012-07-01\n"
     ]
    },
    {
     "data": {
      "text/html": [
       "<img src=\"https://earthengine.googleapis.com/api/thumb?thumbid=9d7ab2ece7076f28631168e8023cef2d&token=1ad9290135d5c4c685850cea0be08e61\"/>"
      ],
      "text/plain": [
       "<IPython.core.display.Image object>"
      ]
     },
     "metadata": {},
     "output_type": "display_data"
    },
    {
     "name": "stdout",
     "output_type": "stream",
     "text": [
      "Z6: Greenest-pixel + pansharpen: 2007-07-01 - 2012-07-01\n"
     ]
    },
    {
     "data": {
      "text/html": [
       "<img src=\"https://earthengine.googleapis.com/api/thumb?thumbid=fa7e64f7e23c90b5c14550ef5ae0566d&token=ce70c55afd074e494df0da44f27c8a97\"/>"
      ],
      "text/plain": [
       "<IPython.core.display.Image object>"
      ]
     },
     "metadata": {},
     "output_type": "display_data"
    },
    {
     "name": "stdout",
     "output_type": "stream",
     "text": [
      "Z4: Greenest-pixel + pansharpen: 2007-07-01 - 2012-07-01\n"
     ]
    },
    {
     "data": {
      "text/html": [
       "<img src=\"https://earthengine.googleapis.com/api/thumb?thumbid=f69ae246f3d655a5a6405fba97ea7640&token=a5825535999b64b7f8bc2804fef0f28d\"/>"
      ],
      "text/plain": [
       "<IPython.core.display.Image object>"
      ]
     },
     "metadata": {},
     "output_type": "display_data"
    }
   ],
   "source": [
    "# Plot\n",
    "visParam = {\n",
    "    'gain':1000, \n",
    "    'gamma': '1.15, 1.4, 1.15'\n",
    "}\n",
    "\n",
    "# plot\n",
    "toImage(l7_toa_greenest_sharpened,visParam,'Greenest-pixel + pansharpen')"
   ]
  }
 ],
 "metadata": {
  "kernelspec": {
   "display_name": "Python 3",
   "language": "python",
   "name": "python3"
  },
  "language_info": {
   "codemirror_mode": {
    "name": "ipython",
    "version": 3
   },
   "file_extension": ".py",
   "mimetype": "text/x-python",
   "name": "python",
   "nbconvert_exporter": "python",
   "pygments_lexer": "ipython3",
   "version": "3.5.3"
  }
 },
 "nbformat": 4,
 "nbformat_minor": 2
}
