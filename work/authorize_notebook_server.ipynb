{
 "cells": [
  {
   "cell_type": "markdown",
   "metadata": {},
   "source": [
    "# Authorise Notebook server to access Earth Engine\n"
   ]
  },
  {
   "cell_type": "markdown",
   "metadata": {},
   "source": [
    "This notebook is a reproduction of the workflow originally developed by **Datalab**, which describes how to setup a Google Datalab container in your local machine using Docker. \n",
    "\n",
    "You can check out the full tutorial by going to this link: https://developers.google.com/earth-engine/python_install-datalab-local"
   ]
  },
  {
   "cell_type": "code",
   "execution_count": 1,
   "metadata": {
    "collapsed": false
   },
   "outputs": [
    {
     "name": "stdout",
     "output_type": "stream",
     "text": [
      "The IPython Widgets library (version 5.2.2) is available on this server.\n"
     ]
    }
   ],
   "source": [
    "# Code to check the IPython Widgets library.\n",
    "try:\n",
    "  import ipywidgets\n",
    "except ImportError:\n",
    "  print('The IPython Widgets library is not available on this server.\\n'\n",
    "        'Please see https://github.com/jupyter-widgets/ipywidgets '\n",
    "        'for information on installing the library.')\n",
    "  raise\n",
    "print('The IPython Widgets library (version {0}) is available on this server.'.format(\n",
    "  ipywidgets.__version__\n",
    "))"
   ]
  },
  {
   "cell_type": "markdown",
   "metadata": {},
   "source": [
    "Next, check if the Earth Engine API is available on the server."
   ]
  },
  {
   "cell_type": "code",
   "execution_count": 2,
   "metadata": {
    "collapsed": false
   },
   "outputs": [
    {
     "name": "stdout",
     "output_type": "stream",
     "text": [
      "The Earth Engine Python API (version 0.1.107) is available on this server.\n"
     ]
    }
   ],
   "source": [
    "# Code to check the Earth Engine API library.\n",
    "try:\n",
    "  import ee\n",
    "except ImportError:\n",
    "  print('The Earth Engine Python API library is not available on this server.\\n'\n",
    "        'Please see https://developers.google.com/earth-engine/python_install '\n",
    "        'for information on installing the library.')\n",
    "  raise\n",
    "print('The Earth Engine Python API (version {0}) is available on this server.'.format(\n",
    "  ee.__version__\n",
    "))"
   ]
  },
  {
   "cell_type": "markdown",
   "metadata": {},
   "source": [
    "Finally, check if the notebook server is authorized to access the Earth Engine backend servers."
   ]
  },
  {
   "cell_type": "code",
   "execution_count": 3,
   "metadata": {
    "collapsed": false
   },
   "outputs": [],
   "source": [
    "# Code to check if authorized to access Earth Engine.\n",
    "import io\n",
    "import os\n",
    "import urllib\n",
    "from IPython import display\n",
    "\n",
    "# Define layouts used by the form.\n",
    "row_wide_layout = ipywidgets.Layout(flex_flow=\"row nowrap\", align_items=\"center\", width=\"100%\")\n",
    "column_wide_layout = ipywidgets.Layout(flex_flow=\"column nowrap\", align_items=\"center\", width=\"100%\")\n",
    "column_auto_layout = ipywidgets.Layout(flex_flow=\"column nowrap\", align_items=\"center\", width=\"auto\")\n",
    "\n",
    "form_definition = {'form': None}\n",
    "response_box = ipywidgets.HTML('')\n",
    "\n",
    "def isAuthorized():\n",
    "  try:\n",
    "    ee.Initialize()\n",
    "    test = ee.Image(0).getInfo()\n",
    "  except:\n",
    "    return False\n",
    "  return True\n",
    "\n",
    "def ShowForm(auth_status_button, instructions):\n",
    "  \"\"\"Show a form to the user.\"\"\"\n",
    "  form_definition['form'] = ipywidgets.VBox([\n",
    "    auth_status_button,\n",
    "    instructions,\n",
    "    ipywidgets.VBox([response_box], layout=row_wide_layout)\n",
    "  ], layout=column_wide_layout)\n",
    "  display.display(form_definition.get('form'))\n",
    "\n",
    "def ShowAuthorizedForm():\n",
    "  \"\"\"Show a form for a server that is currently authorized to access Earth Engine.\"\"\"\n",
    "  def revoke_credentials(sender):\n",
    "    credentials = ee.oauth.get_credentials_path()\n",
    "    if os.path.exists(credentials):\n",
    "      os.remove(credentials)\n",
    "    response_box.value = ''\n",
    "    Init()\n",
    "  \n",
    "  auth_status_button = ipywidgets.Button(\n",
    "    layout=column_wide_layout,\n",
    "    disabled=True,\n",
    "    description='The server is authorized to access Earth Engine',\n",
    "    button_style='success',\n",
    "    icon='check'\n",
    "  )\n",
    "  \n",
    "  instructions = ipywidgets.Button(\n",
    "    layout = row_wide_layout,\n",
    "    description = 'Click here to revoke authorization',\n",
    "    disabled = False,\n",
    "  )\n",
    "  instructions.on_click(revoke_credentials)\n",
    "  \n",
    "  ShowForm(auth_status_button, instructions)\n",
    "\n",
    "def ShowUnauthorizedForm():\n",
    "  \"\"\"Show a form for a server that is not currently authorized to access Earth Engine.\"\"\"\n",
    "\n",
    "  auth_status_button = ipywidgets.Button(\n",
    "    layout=column_wide_layout,\n",
    "    button_style='danger',\n",
    "    description='The server is not authorized to access Earth Engine',\n",
    "    disabled=True\n",
    "  )\n",
    "    \n",
    "  auth_link = ipywidgets.HTML(\n",
    "    '<a href=\"{url}\" target=\"auth\">Open Authentication Tab</a><br/>'\n",
    "    .format(url=ee.oauth.get_authorization_url()\n",
    "    )\n",
    "  )\n",
    "    \n",
    "  instructions = ipywidgets.VBox(\n",
    "    [\n",
    "      ipywidgets.HTML(\n",
    "        'Click on the link below to start the authentication and authorization process. '\n",
    "        'Once you have received an authorization code, use it to replace the '\n",
    "        'REPLACE_WITH_AUTH_CODE in the code cell below and run the cell.'\n",
    "      ),\n",
    "      auth_link,\n",
    "    ],\n",
    "    layout=column_auto_layout\n",
    "  )\n",
    "  \n",
    "  ShowForm(auth_status_button, instructions)\n",
    "  \n",
    "def Init():\n",
    "  # If a form is currently displayed, close it.\n",
    "  if form_definition.get('form'):\n",
    "    form_definition['form'].close()\n",
    "  # Display the appropriate form according to whether the server is authorized.\n",
    "  if isAuthorized():\n",
    "    ShowAuthorizedForm()\n",
    "  else:\n",
    "    ShowUnauthorizedForm()\n",
    "    \n",
    "Init()"
   ]
  },
  {
   "cell_type": "markdown",
   "metadata": {},
   "source": [
    "If the server **is authorized**, you do not need to run the next code cell.\n",
    "\n",
    "If the server **is not authorized**:\n",
    "\n",
    "1. Copy the authentication code generated in the previous step.\n",
    "2. Replace the REPLACE_WITH_AUTH_CODE string in the cell below with the authentication code.\n",
    "3. Run the code cell to save authentication credentials."
   ]
  },
  {
   "cell_type": "code",
   "execution_count": 4,
   "metadata": {
    "collapsed": true
   },
   "outputs": [],
   "source": [
    "auth_code = 'REPLACE_WITH_AUTH_CODE'\n",
    "\n",
    "response_box = ipywidgets.HTML('')\n",
    "try:\n",
    "  token = ee.oauth.request_token(auth_code.strip())\n",
    "  ee.oauth.write_token(token)\n",
    "  if isAuthorized():\n",
    "    Init()\n",
    "  else:\n",
    "    response_box.value = '<font color=\"red\">{0}</font>'.format(\n",
    "      'The account was authenticated, but does not have permission to access Earth Engine.'\n",
    "    )\n",
    "except Exception as e:\n",
    "  response_box.value = '<font color=\"red\">{0}</font>'.format(e)\n",
    "response_box"
   ]
  },
  {
   "cell_type": "code",
   "execution_count": 5,
   "metadata": {
    "collapsed": false
   },
   "outputs": [
    {
     "data": {
      "text/html": [
       "<img src=\"https://earthengine.googleapis.com/api/thumb?thumbid=07e3a3e3d10f81a87f0a11b00dd61b70&token=74cf9eac409a68fd2775e07a08ec9d49\"/>"
      ],
      "text/plain": [
       "<IPython.core.display.Image object>"
      ]
     },
     "execution_count": 5,
     "metadata": {},
     "output_type": "execute_result"
    }
   ],
   "source": [
    "# Code to display an Earth Engine generated image.\n",
    "from IPython.display import Image\n",
    "\n",
    "url = ee.Image(\"CGIAR/SRTM90_V4\").getThumbUrl({'min':0, 'max':3000})\n",
    "Image(url=url)"
   ]
  }
 ],
 "metadata": {
  "kernelspec": {
   "display_name": "Python 3",
   "language": "python",
   "name": "python3"
  },
  "language_info": {
   "codemirror_mode": {
    "name": "ipython",
    "version": 3
   },
   "file_extension": ".py",
   "mimetype": "text/x-python",
   "name": "python",
   "nbconvert_exporter": "python",
   "pygments_lexer": "ipython3",
   "version": "3.5.3"
  },
  "widgets": {
   "state": {
    "0054fdbcec154a209ad0f75f8a819511": {
     "views": [
      {
       "cell_index": 8
      }
     ]
    },
    "6c8eb8f265234dc69fb9e9dd4d1a2335": {
     "views": [
      {
       "cell_index": 8
      }
     ]
    }
   },
   "version": "1.2.0"
  }
 },
 "nbformat": 4,
 "nbformat_minor": 2
}
