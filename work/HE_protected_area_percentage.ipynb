{
 "cells": [
  {
   "cell_type": "code",
   "execution_count": 1,
   "metadata": {},
   "outputs": [],
   "source": [
    "import requests\n",
    "import pandas as pd\n",
    "import geopandas as gpd\n",
    "import numpy as np\n",
    "import shapely.wkb \n",
    "from shapely.ops import cascaded_union\n",
    "from shapely.geometry import Polygon, Point, MultiPolygon\n",
    "from tqdm import tqdm"
   ]
  },
  {
   "cell_type": "markdown",
   "metadata": {},
   "source": [
    "# Protected areas percentage"
   ]
  },
  {
   "cell_type": "markdown",
   "metadata": {},
   "source": [
    "### Read Global Facets table"
   ]
  },
  {
   "cell_type": "code",
   "execution_count": 7,
   "metadata": {},
   "outputs": [],
   "source": [
    "path = '/Users/ikersanchez/Vizzuality/PROIEKTUAK/Half-Earth/work/data/'"
   ]
  },
  {
   "cell_type": "code",
   "execution_count": 35,
   "metadata": {},
   "outputs": [],
   "source": [
    "df = gpd.read_file(path+'global_facets_attr_pressures_all/global_facets_attr_pressures.shp')\n",
    "df.columns = map(str.lower, df.columns)"
   ]
  },
  {
   "cell_type": "markdown",
   "metadata": {},
   "source": [
    "### Read Terrestrial and Marine grids\n",
    "\n",
    "We read the grids from the carto account"
   ]
  },
  {
   "cell_type": "code",
   "execution_count": 3,
   "metadata": {},
   "outputs": [],
   "source": [
    "account = 'half-earth'\n",
    "urlCarto = f\"https://{account}.carto.com/api/v2/sql\""
   ]
  },
  {
   "cell_type": "markdown",
   "metadata": {},
   "source": [
    "**Terrestrial grid**"
   ]
  },
  {
   "cell_type": "code",
   "execution_count": 5,
   "metadata": {},
   "outputs": [],
   "source": [
    "query =(\"SELECT cartodb_id, cell_id, the_geom FROM terrestrial_grid\")\n",
    "\n",
    "sql = {\"q\": query}\n",
    "r = requests.get(urlCarto, params=sql)\n",
    "\n",
    "data = r.json()\n",
    "\n",
    "terrestrial = gpd.GeoDataFrame(data.get(\"rows\"))\n",
    "# Change geometry from WKB to WKT format\n",
    "terrestrial['geometry'] = terrestrial.apply(lambda x: shapely.wkb.loads(x['the_geom'],hex=True), axis=1 )\n",
    "terrestrial.drop(columns='the_geom', inplace=True)\n",
    "terrestrial.sort_values(by=['cartodb_id'], inplace=True)"
   ]
  },
  {
   "cell_type": "markdown",
   "metadata": {},
   "source": [
    "**Marine grid**"
   ]
  },
  {
   "cell_type": "code",
   "execution_count": 6,
   "metadata": {},
   "outputs": [],
   "source": [
    "query =(\"SELECT cartodb_id, cell_id, the_geom FROM marine_grid\")\n",
    "\n",
    "sql = {\"q\": query}\n",
    "r = requests.get(urlCarto, params=sql)\n",
    "\n",
    "data = r.json()\n",
    "\n",
    "marine = gpd.GeoDataFrame(data.get(\"rows\"))\n",
    "# Change geometry from WKB to WKT format\n",
    "marine['geometry'] = marine.apply(lambda x: shapely.wkb.loads(x['the_geom'],hex=True), axis=1 )\n",
    "marine.drop(columns='the_geom', inplace=True)\n",
    "marine.sort_values(by=['cartodb_id'], inplace=True)"
   ]
  },
  {
   "cell_type": "markdown",
   "metadata": {},
   "source": [
    "### Read Protected Areas"
   ]
  },
  {
   "cell_type": "code",
   "execution_count": 9,
   "metadata": {},
   "outputs": [],
   "source": [
    "protected_areas = gpd.read_file(path+'wdpa_protected_areas/wdpa_protected_areas.shp')"
   ]
  },
  {
   "cell_type": "markdown",
   "metadata": {},
   "source": [
    "**Strict**"
   ]
  },
  {
   "cell_type": "code",
   "execution_count": 10,
   "metadata": {},
   "outputs": [],
   "source": [
    "strict = protected_areas[(protected_areas['iucn_cat'] == 'Ia') | \n",
    "                         (protected_areas['iucn_cat'] == 'Ib') |\n",
    "                         (protected_areas['iucn_cat'] == 'II') |\n",
    "                         (protected_areas['iucn_cat'] == 'III')\n",
    "                        ][['cartodb_id', 'geometry']]"
   ]
  },
  {
   "cell_type": "markdown",
   "metadata": {},
   "source": [
    "**Biosphere**"
   ]
  },
  {
   "cell_type": "code",
   "execution_count": 21,
   "metadata": {},
   "outputs": [],
   "source": [
    "biosphere = protected_areas[protected_areas['desig_eng'].str.contains('Biosphere', regex=False)][['cartodb_id', 'geometry']]"
   ]
  },
  {
   "cell_type": "markdown",
   "metadata": {},
   "source": [
    "**Other**"
   ]
  },
  {
   "cell_type": "code",
   "execution_count": 31,
   "metadata": {},
   "outputs": [],
   "source": [
    "other = strict = protected_areas[(protected_areas['iucn_cat'] != 'Ia') & \n",
    "                         (protected_areas['iucn_cat'] != 'Ib') &\n",
    "                         (protected_areas['iucn_cat'] != 'II') &\n",
    "                         (protected_areas['iucn_cat'] != 'III') &\n",
    "                         (~protected_areas['desig_eng'].str.contains('Aborig', regex=False)) &\n",
    "                         (~protected_areas['desig_eng'].str.contains('Indigen', regex=False)) &\n",
    "                         (~protected_areas['desig_eng'].str.contains('Commun', regex=False)) &\n",
    "                         (~protected_areas['desig_eng'].str.contains('Conservanc', regex=False)) &\n",
    "                         (~protected_areas['desig_eng'].str.contains('Local', regex=False)) &\n",
    "                         (~protected_areas['desig_eng'].str.contains('Region', regex=False)) &\n",
    "                         (~protected_areas['desig_eng'].str.contains('Trust', regex=False)) &\n",
    "                         (~protected_areas['desig_eng'].str.contains('Conservator', regex=False)) &\n",
    "                         (~protected_areas['desig_eng'].str.contains('Private', regex=False)) &\n",
    "                         (~protected_areas['desig_eng'].str.contains('Nature Center', regex=False)) \n",
    "                        ][['cartodb_id', 'geometry']]"
   ]
  },
  {
   "cell_type": "markdown",
   "metadata": {},
   "source": [
    "**Conservation**"
   ]
  },
  {
   "cell_type": "code",
   "execution_count": 33,
   "metadata": {},
   "outputs": [],
   "source": [
    "conservation = gpd.read_file(path+'community_conservation_areas/community_conservation_areas.shp')"
   ]
  },
  {
   "cell_type": "markdown",
   "metadata": {},
   "source": [
    "### Percentege of protected areas inside each cell\n",
    "\n",
    "We use geopandas’s R-tree spatial index to find which protected area lie within each grid cells"
   ]
  },
  {
   "cell_type": "code",
   "execution_count": 36,
   "metadata": {},
   "outputs": [],
   "source": [
    "def rtree_intersect(gdf, grid):\n",
    "    percentage = []\n",
    "    sindex = gdf.sindex\n",
    "    # we iterate over the cells\n",
    "    for n, cell in enumerate(tqdm(grid.geometry)):\n",
    "        # protected areas that intersect with the cell\n",
    "        possible_matches_index = list(sindex.intersection(cell.bounds))\n",
    "        possible_matches = gdf.iloc[possible_matches_index]\n",
    "        # intersection between the protected areas and the cell\n",
    "        precise_matches = possible_matches.intersection(cell)\n",
    "        # percentage of the cell covered by protected areas\n",
    "        percentage.append(cascaded_union(precise_matches).area/cell.area*100) \n",
    "    return percentage"
   ]
  },
  {
   "cell_type": "code",
   "execution_count": null,
   "metadata": {},
   "outputs": [
    {
     "name": "stdout",
     "output_type": "stream",
     "text": [
      "For terrestrial, strict\n"
     ]
    },
    {
     "name": "stderr",
     "output_type": "stream",
     "text": [
      " 67%|██████▋   | 8517/12670 [21:27<69:43:10, 60.44s/it]"
     ]
    }
   ],
   "source": [
    "# DataFrames to save the outputs\n",
    "marine_per = marine[['cell_id', 'geometry']]\n",
    "terrestrial_per = terrestrial[['cell_id', 'geometry']]\n",
    "\n",
    "# Dictionaries with the different grids and protected areas\n",
    "grids = {\"terrestrial\":terrestrial, \"marine\":marine}\n",
    "areas = {\"strict\":strict, \"biosphere\":biosphere, \"conservation\":conservation, \"other\":other}\n",
    "\n",
    "for grid_key in grids.keys():\n",
    "    for area_key in areas.keys():\n",
    "        print(f\"For {grid_key}, {area_key}\")\n",
    "        percentage = rtree_intersect(areas[area_key], grids[grid_key])\n",
    "        if grid_key is \"terrestrial\":\n",
    "            terrestrial_per[area_key] = percentage\n",
    "            terrestrial_per[area_key] = terrestrial_per[area_key].map('{:3.1f}'.format).apply(pd.to_numeric)\n",
    "        else:\n",
    "            marine_per[area_key] = percentage\n",
    "            marine_per[area_key] = marine_per[area_key].map('{:3.1f}'.format).apply(pd.to_numeric)"
   ]
  },
  {
   "cell_type": "markdown",
   "metadata": {},
   "source": [
    "**Add percentage columns to table**"
   ]
  },
  {
   "cell_type": "code",
   "execution_count": null,
   "metadata": {},
   "outputs": [],
   "source": [
    "terrestrial_per.drop(columns=['geometry'], inplace= True)\n",
    "marine_per.drop(columns=['geometry'], inplace= True)\n",
    "per = pd.concat([terrestrial_per,marine_per])\n",
    "df_new = pd.merge(df, per, how='left', on=['cell_id'])"
   ]
  },
  {
   "cell_type": "markdown",
   "metadata": {},
   "source": [
    "**Save new table**"
   ]
  },
  {
   "cell_type": "code",
   "execution_count": null,
   "metadata": {},
   "outputs": [],
   "source": [
    "df_new.to_file(path+'global_facets_attr_pressures_vizz/global_facets_attr_pressures_vizz.shp')"
   ]
  }
 ],
 "metadata": {
  "kernelspec": {
   "display_name": "Python 3",
   "language": "python",
   "name": "python3"
  },
  "language_info": {
   "codemirror_mode": {
    "name": "ipython",
    "version": 3
   },
   "file_extension": ".py",
   "mimetype": "text/x-python",
   "name": "python",
   "nbconvert_exporter": "python",
   "pygments_lexer": "ipython3",
   "version": "3.6.4"
  }
 },
 "nbformat": 4,
 "nbformat_minor": 2
}
