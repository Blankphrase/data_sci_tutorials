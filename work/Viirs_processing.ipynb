{
 "cells": [
  {
   "cell_type": "markdown",
   "metadata": {},
   "source": [
    "## Building a Fires analysis\n",
    "\n",
    "In order to give the recent [Sumi Viirs](https://jointmission.gsfc.nasa.gov/viirs.html) data context, we will need to characterise the 'normal' conditions over given areas and times (i.e. seasonal conditions).\n",
    "\n",
    "To do this we will need to obtain long-term (historical) data - these can be downloaded from [NASA FIRMS](https://firms.modaps.eosdis.nasa.gov/) site. Follow the link to the **Archive Download tool** and select data **New Request** for the **VIIRS 375 m** data (which more specifically come from the [VNP14IMGTDL_NRT](https://earthdata.nasa.gov/earth-observation-data/near-real-time/firms/v1-vnp14imgt) dataset). Select the entire globe (you can do this by roughly drawing a polygon around the worlds land areas), and select the largest date period possible. \n",
    "You can request these data as a CSV file (a download link will be sent to a specified email address when the data are prepared).\n",
    "\n",
    "The meanining of the file attributes is explained [here](https://earthdata.nasa.gov/earth-observation-data/near-real-time/firms/v1-vnp14imgt).\n",
    "\n",
    "Once the data file are obtained we can process them in the following manner:"
   ]
  },
  {
   "cell_type": "code",
   "execution_count": 1,
   "metadata": {
    "collapsed": true
   },
   "outputs": [],
   "source": [
    "import pandas as pd\n",
    "from shapely.geometry import Point\n",
    "import geopandas as gpd\n",
    "import numpy as np\n",
    "import matplotlib.pyplot as plt\n",
    "%matplotlib inline"
   ]
  },
  {
   "cell_type": "code",
   "execution_count": 2,
   "metadata": {},
   "outputs": [],
   "source": [
    "fires = pd.read_csv('/Users/Ben/Downloads/fire_nrt_V1_16669.csv')"
   ]
  },
  {
   "cell_type": "code",
   "execution_count": 3,
   "metadata": {},
   "outputs": [
    {
     "data": {
      "text/html": [
       "<div>\n",
       "<style>\n",
       "    .dataframe thead tr:only-child th {\n",
       "        text-align: right;\n",
       "    }\n",
       "\n",
       "    .dataframe thead th {\n",
       "        text-align: left;\n",
       "    }\n",
       "\n",
       "    .dataframe tbody tr th {\n",
       "        vertical-align: top;\n",
       "    }\n",
       "</style>\n",
       "<table border=\"1\" class=\"dataframe\">\n",
       "  <thead>\n",
       "    <tr style=\"text-align: right;\">\n",
       "      <th></th>\n",
       "      <th>latitude</th>\n",
       "      <th>longitude</th>\n",
       "      <th>bright_ti4</th>\n",
       "      <th>scan</th>\n",
       "      <th>track</th>\n",
       "      <th>acq_date</th>\n",
       "      <th>acq_time</th>\n",
       "      <th>satellite</th>\n",
       "      <th>instrument</th>\n",
       "      <th>confidence</th>\n",
       "      <th>version</th>\n",
       "      <th>bright_ti5</th>\n",
       "      <th>frp</th>\n",
       "      <th>daynight</th>\n",
       "    </tr>\n",
       "  </thead>\n",
       "  <tbody>\n",
       "    <tr>\n",
       "      <th>0</th>\n",
       "      <td>-23.615</td>\n",
       "      <td>-55.508</td>\n",
       "      <td>340.6</td>\n",
       "      <td>0.7</td>\n",
       "      <td>0.8</td>\n",
       "      <td>2016-01-28</td>\n",
       "      <td>1820</td>\n",
       "      <td>N</td>\n",
       "      <td>VIIRS</td>\n",
       "      <td>n</td>\n",
       "      <td>1.0</td>\n",
       "      <td>287.0</td>\n",
       "      <td>0.0</td>\n",
       "      <td>D</td>\n",
       "    </tr>\n",
       "    <tr>\n",
       "      <th>1</th>\n",
       "      <td>-15.411</td>\n",
       "      <td>-60.182</td>\n",
       "      <td>332.3</td>\n",
       "      <td>0.5</td>\n",
       "      <td>0.7</td>\n",
       "      <td>2016-01-28</td>\n",
       "      <td>1820</td>\n",
       "      <td>N</td>\n",
       "      <td>VIIRS</td>\n",
       "      <td>n</td>\n",
       "      <td>1.0</td>\n",
       "      <td>282.1</td>\n",
       "      <td>0.0</td>\n",
       "      <td>D</td>\n",
       "    </tr>\n",
       "    <tr>\n",
       "      <th>2</th>\n",
       "      <td>-15.412</td>\n",
       "      <td>-60.187</td>\n",
       "      <td>329.7</td>\n",
       "      <td>0.5</td>\n",
       "      <td>0.7</td>\n",
       "      <td>2016-01-28</td>\n",
       "      <td>1820</td>\n",
       "      <td>N</td>\n",
       "      <td>VIIRS</td>\n",
       "      <td>n</td>\n",
       "      <td>1.0</td>\n",
       "      <td>281.8</td>\n",
       "      <td>0.0</td>\n",
       "      <td>D</td>\n",
       "    </tr>\n",
       "    <tr>\n",
       "      <th>3</th>\n",
       "      <td>-13.997</td>\n",
       "      <td>-59.910</td>\n",
       "      <td>333.8</td>\n",
       "      <td>0.6</td>\n",
       "      <td>0.7</td>\n",
       "      <td>2016-01-28</td>\n",
       "      <td>1820</td>\n",
       "      <td>N</td>\n",
       "      <td>VIIRS</td>\n",
       "      <td>n</td>\n",
       "      <td>1.0</td>\n",
       "      <td>273.0</td>\n",
       "      <td>0.0</td>\n",
       "      <td>D</td>\n",
       "    </tr>\n",
       "    <tr>\n",
       "      <th>4</th>\n",
       "      <td>-13.998</td>\n",
       "      <td>-59.909</td>\n",
       "      <td>337.5</td>\n",
       "      <td>0.6</td>\n",
       "      <td>0.7</td>\n",
       "      <td>2016-01-28</td>\n",
       "      <td>1820</td>\n",
       "      <td>N</td>\n",
       "      <td>VIIRS</td>\n",
       "      <td>n</td>\n",
       "      <td>1.0</td>\n",
       "      <td>273.0</td>\n",
       "      <td>0.0</td>\n",
       "      <td>D</td>\n",
       "    </tr>\n",
       "  </tbody>\n",
       "</table>\n",
       "</div>"
      ],
      "text/plain": [
       "   latitude  longitude  bright_ti4  scan  track    acq_date  acq_time  \\\n",
       "0   -23.615    -55.508       340.6   0.7    0.8  2016-01-28      1820   \n",
       "1   -15.411    -60.182       332.3   0.5    0.7  2016-01-28      1820   \n",
       "2   -15.412    -60.187       329.7   0.5    0.7  2016-01-28      1820   \n",
       "3   -13.997    -59.910       333.8   0.6    0.7  2016-01-28      1820   \n",
       "4   -13.998    -59.909       337.5   0.6    0.7  2016-01-28      1820   \n",
       "\n",
       "  satellite instrument confidence version  bright_ti5  frp daynight  \n",
       "0         N      VIIRS          n     1.0       287.0  0.0        D  \n",
       "1         N      VIIRS          n     1.0       282.1  0.0        D  \n",
       "2         N      VIIRS          n     1.0       281.8  0.0        D  \n",
       "3         N      VIIRS          n     1.0       273.0  0.0        D  \n",
       "4         N      VIIRS          n     1.0       273.0  0.0        D  "
      ]
     },
     "execution_count": 3,
     "metadata": {},
     "output_type": "execute_result"
    }
   ],
   "source": [
    "fires.head()"
   ]
  },
  {
   "cell_type": "code",
   "execution_count": 4,
   "metadata": {},
   "outputs": [
    {
     "name": "stdout",
     "output_type": "stream",
     "text": [
      "1,662,059 rows of data in file\n"
     ]
    }
   ],
   "source": [
    "print(f'{len(fires):,} rows of data in file')"
   ]
  },
  {
   "cell_type": "markdown",
   "metadata": {},
   "source": [
    "We are interested in the high confidence, day-time retrievals.\n",
    "\n",
    "Confidence values are set to low (l), nominal (n) and high (h). Low confidence daytime fire pixels are typically associated with areas of sun glint and lower relative temperature anomaly (<15K) in the mid-infrared channel I4. Nominal confidence pixels are those free of potential sun glint contamination during the day and marked by strong (>15K) temperature anomaly in either day or nighttime data. High confidence fire pixels are associated with day or nighttime saturated pixels"
   ]
  },
  {
   "cell_type": "code",
   "execution_count": 5,
   "metadata": {},
   "outputs": [
    {
     "name": "stdout",
     "output_type": "stream",
     "text": [
      "8.10 % of detections were Low Quality\n",
      "Removing Low Quality detections\n",
      "31.34 % of fires were detected during Nighttime\n",
      "Fires data cleaned.\n"
     ]
    }
   ],
   "source": [
    "# Let's remove the low quality and nighttime retrevials\n",
    "\n",
    "#print(fires['confidence'].unique())\n",
    "print(f\"{len(fires[fires['confidence']=='l'])/len(fires) * 100 :3.2f} % of detections were Low Quality\")\n",
    "\n",
    "if len(fires[fires['confidence']=='l'])> 0:\n",
    "    print(\"Removing Low Quality detections\")\n",
    "    fires = fires[fires['confidence']!='l']\n",
    "    \n",
    "#fires['daynight'].unique()  # We can see D and N values in daynight to indicate day and night\n",
    "print(f\"{len(fires[fires['daynight'] == 'N'])/len(fires) * 100 :3.2f} % of fires were detected during Nighttime\")\n",
    "fires = fires[fires['daynight'] == 'D']\n",
    "\n",
    "print('Fires data cleaned.')"
   ]
  },
  {
   "cell_type": "markdown",
   "metadata": {},
   "source": [
    "Now we parse the dates to generate a date index (out of dt objects) so we can resample the dataset, and we also add a count which will be useful to calculate a sum when we change the temporal sampling to weekly."
   ]
  },
  {
   "cell_type": "code",
   "execution_count": 12,
   "metadata": {
    "collapsed": true
   },
   "outputs": [],
   "source": [
    "dtstrings = fires['acq_date'].values\n",
    "dates = [pd.datetime(int(dt.split('-')[0]),int(dt.split('-')[1]),int(dt.split('-')[2])) for dt in dtstrings]\n",
    "counts = [1] * len(fires)\n",
    "fires.index = dates\n",
    "fires['counts'] = counts"
   ]
  },
  {
   "cell_type": "code",
   "execution_count": 14,
   "metadata": {},
   "outputs": [
    {
     "data": {
      "text/html": [
       "<div>\n",
       "<style>\n",
       "    .dataframe thead tr:only-child th {\n",
       "        text-align: right;\n",
       "    }\n",
       "\n",
       "    .dataframe thead th {\n",
       "        text-align: left;\n",
       "    }\n",
       "\n",
       "    .dataframe tbody tr th {\n",
       "        vertical-align: top;\n",
       "    }\n",
       "</style>\n",
       "<table border=\"1\" class=\"dataframe\">\n",
       "  <thead>\n",
       "    <tr style=\"text-align: right;\">\n",
       "      <th></th>\n",
       "      <th>latitude</th>\n",
       "      <th>longitude</th>\n",
       "      <th>bright_ti4</th>\n",
       "      <th>scan</th>\n",
       "      <th>track</th>\n",
       "      <th>acq_date</th>\n",
       "      <th>acq_time</th>\n",
       "      <th>satellite</th>\n",
       "      <th>instrument</th>\n",
       "      <th>confidence</th>\n",
       "      <th>version</th>\n",
       "      <th>bright_ti5</th>\n",
       "      <th>frp</th>\n",
       "      <th>daynight</th>\n",
       "      <th>date_obj</th>\n",
       "      <th>counts</th>\n",
       "    </tr>\n",
       "  </thead>\n",
       "  <tbody>\n",
       "    <tr>\n",
       "      <th>2016-01-28</th>\n",
       "      <td>-23.615</td>\n",
       "      <td>-55.508</td>\n",
       "      <td>340.6</td>\n",
       "      <td>0.7</td>\n",
       "      <td>0.8</td>\n",
       "      <td>2016-01-28</td>\n",
       "      <td>1820</td>\n",
       "      <td>N</td>\n",
       "      <td>VIIRS</td>\n",
       "      <td>n</td>\n",
       "      <td>1.0</td>\n",
       "      <td>287.0</td>\n",
       "      <td>0.0</td>\n",
       "      <td>D</td>\n",
       "      <td>2016-01-28</td>\n",
       "      <td>1</td>\n",
       "    </tr>\n",
       "    <tr>\n",
       "      <th>2016-01-28</th>\n",
       "      <td>-15.411</td>\n",
       "      <td>-60.182</td>\n",
       "      <td>332.3</td>\n",
       "      <td>0.5</td>\n",
       "      <td>0.7</td>\n",
       "      <td>2016-01-28</td>\n",
       "      <td>1820</td>\n",
       "      <td>N</td>\n",
       "      <td>VIIRS</td>\n",
       "      <td>n</td>\n",
       "      <td>1.0</td>\n",
       "      <td>282.1</td>\n",
       "      <td>0.0</td>\n",
       "      <td>D</td>\n",
       "      <td>2016-01-28</td>\n",
       "      <td>1</td>\n",
       "    </tr>\n",
       "    <tr>\n",
       "      <th>2016-01-28</th>\n",
       "      <td>-15.412</td>\n",
       "      <td>-60.187</td>\n",
       "      <td>329.7</td>\n",
       "      <td>0.5</td>\n",
       "      <td>0.7</td>\n",
       "      <td>2016-01-28</td>\n",
       "      <td>1820</td>\n",
       "      <td>N</td>\n",
       "      <td>VIIRS</td>\n",
       "      <td>n</td>\n",
       "      <td>1.0</td>\n",
       "      <td>281.8</td>\n",
       "      <td>0.0</td>\n",
       "      <td>D</td>\n",
       "      <td>2016-01-28</td>\n",
       "      <td>1</td>\n",
       "    </tr>\n",
       "    <tr>\n",
       "      <th>2016-01-28</th>\n",
       "      <td>-13.997</td>\n",
       "      <td>-59.910</td>\n",
       "      <td>333.8</td>\n",
       "      <td>0.6</td>\n",
       "      <td>0.7</td>\n",
       "      <td>2016-01-28</td>\n",
       "      <td>1820</td>\n",
       "      <td>N</td>\n",
       "      <td>VIIRS</td>\n",
       "      <td>n</td>\n",
       "      <td>1.0</td>\n",
       "      <td>273.0</td>\n",
       "      <td>0.0</td>\n",
       "      <td>D</td>\n",
       "      <td>2016-01-28</td>\n",
       "      <td>1</td>\n",
       "    </tr>\n",
       "    <tr>\n",
       "      <th>2016-01-28</th>\n",
       "      <td>-13.998</td>\n",
       "      <td>-59.909</td>\n",
       "      <td>337.5</td>\n",
       "      <td>0.6</td>\n",
       "      <td>0.7</td>\n",
       "      <td>2016-01-28</td>\n",
       "      <td>1820</td>\n",
       "      <td>N</td>\n",
       "      <td>VIIRS</td>\n",
       "      <td>n</td>\n",
       "      <td>1.0</td>\n",
       "      <td>273.0</td>\n",
       "      <td>0.0</td>\n",
       "      <td>D</td>\n",
       "      <td>2016-01-28</td>\n",
       "      <td>1</td>\n",
       "    </tr>\n",
       "  </tbody>\n",
       "</table>\n",
       "</div>"
      ],
      "text/plain": [
       "            latitude  longitude  bright_ti4  scan  track    acq_date  \\\n",
       "2016-01-28   -23.615    -55.508       340.6   0.7    0.8  2016-01-28   \n",
       "2016-01-28   -15.411    -60.182       332.3   0.5    0.7  2016-01-28   \n",
       "2016-01-28   -15.412    -60.187       329.7   0.5    0.7  2016-01-28   \n",
       "2016-01-28   -13.997    -59.910       333.8   0.6    0.7  2016-01-28   \n",
       "2016-01-28   -13.998    -59.909       337.5   0.6    0.7  2016-01-28   \n",
       "\n",
       "            acq_time satellite instrument confidence version  bright_ti5  frp  \\\n",
       "2016-01-28      1820         N      VIIRS          n     1.0       287.0  0.0   \n",
       "2016-01-28      1820         N      VIIRS          n     1.0       282.1  0.0   \n",
       "2016-01-28      1820         N      VIIRS          n     1.0       281.8  0.0   \n",
       "2016-01-28      1820         N      VIIRS          n     1.0       273.0  0.0   \n",
       "2016-01-28      1820         N      VIIRS          n     1.0       273.0  0.0   \n",
       "\n",
       "           daynight   date_obj  counts  \n",
       "2016-01-28        D 2016-01-28       1  \n",
       "2016-01-28        D 2016-01-28       1  \n",
       "2016-01-28        D 2016-01-28       1  \n",
       "2016-01-28        D 2016-01-28       1  \n",
       "2016-01-28        D 2016-01-28       1  "
      ]
     },
     "execution_count": 14,
     "metadata": {},
     "output_type": "execute_result"
    }
   ],
   "source": [
    "fires.head()"
   ]
  },
  {
   "cell_type": "markdown",
   "metadata": {},
   "source": [
    "At this point we create a geopandas series out of the lat, long data."
   ]
  },
  {
   "cell_type": "code",
   "execution_count": 53,
   "metadata": {},
   "outputs": [
    {
     "name": "stdout",
     "output_type": "stream",
     "text": [
      "CPU times: user 14.6 s, sys: 451 ms, total: 15 s\n",
      "Wall time: 15.1 s\n"
     ]
    }
   ],
   "source": [
    "%%time\n",
    "# with ~1 million points this will take something around 15 seconds\n",
    "points = [Point(pair) for pair in zip(fires['latitude'].values, fires['longitude'])]"
   ]
  },
  {
   "cell_type": "code",
   "execution_count": 58,
   "metadata": {},
   "outputs": [],
   "source": [
    "gdf = gpd.GeoDataFrame(fires, geometry=points, crs={'proj':'longlat', 'ellps':'WGS84', 'datum':'WGS84'})"
   ]
  },
  {
   "cell_type": "code",
   "execution_count": 60,
   "metadata": {},
   "outputs": [
    {
     "data": {
      "text/html": [
       "<div>\n",
       "<style>\n",
       "    .dataframe thead tr:only-child th {\n",
       "        text-align: right;\n",
       "    }\n",
       "\n",
       "    .dataframe thead th {\n",
       "        text-align: left;\n",
       "    }\n",
       "\n",
       "    .dataframe tbody tr th {\n",
       "        vertical-align: top;\n",
       "    }\n",
       "</style>\n",
       "<table border=\"1\" class=\"dataframe\">\n",
       "  <thead>\n",
       "    <tr style=\"text-align: right;\">\n",
       "      <th></th>\n",
       "      <th>latitude</th>\n",
       "      <th>longitude</th>\n",
       "      <th>bright_ti4</th>\n",
       "      <th>scan</th>\n",
       "      <th>track</th>\n",
       "      <th>acq_date</th>\n",
       "      <th>acq_time</th>\n",
       "      <th>satellite</th>\n",
       "      <th>instrument</th>\n",
       "      <th>confidence</th>\n",
       "      <th>version</th>\n",
       "      <th>bright_ti5</th>\n",
       "      <th>frp</th>\n",
       "      <th>daynight</th>\n",
       "      <th>date_obj</th>\n",
       "      <th>counts</th>\n",
       "      <th>geometry</th>\n",
       "    </tr>\n",
       "  </thead>\n",
       "  <tbody>\n",
       "    <tr>\n",
       "      <th>2016-01-28</th>\n",
       "      <td>-23.615</td>\n",
       "      <td>-55.508</td>\n",
       "      <td>340.6</td>\n",
       "      <td>0.7</td>\n",
       "      <td>0.8</td>\n",
       "      <td>2016-01-28</td>\n",
       "      <td>1820</td>\n",
       "      <td>N</td>\n",
       "      <td>VIIRS</td>\n",
       "      <td>n</td>\n",
       "      <td>1.0</td>\n",
       "      <td>287.0</td>\n",
       "      <td>0.0</td>\n",
       "      <td>D</td>\n",
       "      <td>2016-01-28</td>\n",
       "      <td>1</td>\n",
       "      <td>POINT (-23.615 -55.508)</td>\n",
       "    </tr>\n",
       "    <tr>\n",
       "      <th>2016-01-28</th>\n",
       "      <td>-15.411</td>\n",
       "      <td>-60.182</td>\n",
       "      <td>332.3</td>\n",
       "      <td>0.5</td>\n",
       "      <td>0.7</td>\n",
       "      <td>2016-01-28</td>\n",
       "      <td>1820</td>\n",
       "      <td>N</td>\n",
       "      <td>VIIRS</td>\n",
       "      <td>n</td>\n",
       "      <td>1.0</td>\n",
       "      <td>282.1</td>\n",
       "      <td>0.0</td>\n",
       "      <td>D</td>\n",
       "      <td>2016-01-28</td>\n",
       "      <td>1</td>\n",
       "      <td>POINT (-15.411 -60.182)</td>\n",
       "    </tr>\n",
       "    <tr>\n",
       "      <th>2016-01-28</th>\n",
       "      <td>-15.412</td>\n",
       "      <td>-60.187</td>\n",
       "      <td>329.7</td>\n",
       "      <td>0.5</td>\n",
       "      <td>0.7</td>\n",
       "      <td>2016-01-28</td>\n",
       "      <td>1820</td>\n",
       "      <td>N</td>\n",
       "      <td>VIIRS</td>\n",
       "      <td>n</td>\n",
       "      <td>1.0</td>\n",
       "      <td>281.8</td>\n",
       "      <td>0.0</td>\n",
       "      <td>D</td>\n",
       "      <td>2016-01-28</td>\n",
       "      <td>1</td>\n",
       "      <td>POINT (-15.412 -60.187)</td>\n",
       "    </tr>\n",
       "    <tr>\n",
       "      <th>2016-01-28</th>\n",
       "      <td>-13.997</td>\n",
       "      <td>-59.910</td>\n",
       "      <td>333.8</td>\n",
       "      <td>0.6</td>\n",
       "      <td>0.7</td>\n",
       "      <td>2016-01-28</td>\n",
       "      <td>1820</td>\n",
       "      <td>N</td>\n",
       "      <td>VIIRS</td>\n",
       "      <td>n</td>\n",
       "      <td>1.0</td>\n",
       "      <td>273.0</td>\n",
       "      <td>0.0</td>\n",
       "      <td>D</td>\n",
       "      <td>2016-01-28</td>\n",
       "      <td>1</td>\n",
       "      <td>POINT (-13.997 -59.91)</td>\n",
       "    </tr>\n",
       "    <tr>\n",
       "      <th>2016-01-28</th>\n",
       "      <td>-13.998</td>\n",
       "      <td>-59.909</td>\n",
       "      <td>337.5</td>\n",
       "      <td>0.6</td>\n",
       "      <td>0.7</td>\n",
       "      <td>2016-01-28</td>\n",
       "      <td>1820</td>\n",
       "      <td>N</td>\n",
       "      <td>VIIRS</td>\n",
       "      <td>n</td>\n",
       "      <td>1.0</td>\n",
       "      <td>273.0</td>\n",
       "      <td>0.0</td>\n",
       "      <td>D</td>\n",
       "      <td>2016-01-28</td>\n",
       "      <td>1</td>\n",
       "      <td>POINT (-13.998 -59.909)</td>\n",
       "    </tr>\n",
       "  </tbody>\n",
       "</table>\n",
       "</div>"
      ],
      "text/plain": [
       "            latitude  longitude  bright_ti4  scan  track    acq_date  \\\n",
       "2016-01-28   -23.615    -55.508       340.6   0.7    0.8  2016-01-28   \n",
       "2016-01-28   -15.411    -60.182       332.3   0.5    0.7  2016-01-28   \n",
       "2016-01-28   -15.412    -60.187       329.7   0.5    0.7  2016-01-28   \n",
       "2016-01-28   -13.997    -59.910       333.8   0.6    0.7  2016-01-28   \n",
       "2016-01-28   -13.998    -59.909       337.5   0.6    0.7  2016-01-28   \n",
       "\n",
       "            acq_time satellite instrument confidence version  bright_ti5  frp  \\\n",
       "2016-01-28      1820         N      VIIRS          n     1.0       287.0  0.0   \n",
       "2016-01-28      1820         N      VIIRS          n     1.0       282.1  0.0   \n",
       "2016-01-28      1820         N      VIIRS          n     1.0       281.8  0.0   \n",
       "2016-01-28      1820         N      VIIRS          n     1.0       273.0  0.0   \n",
       "2016-01-28      1820         N      VIIRS          n     1.0       273.0  0.0   \n",
       "\n",
       "           daynight   date_obj  counts                 geometry  \n",
       "2016-01-28        D 2016-01-28       1  POINT (-23.615 -55.508)  \n",
       "2016-01-28        D 2016-01-28       1  POINT (-15.411 -60.182)  \n",
       "2016-01-28        D 2016-01-28       1  POINT (-15.412 -60.187)  \n",
       "2016-01-28        D 2016-01-28       1   POINT (-13.997 -59.91)  \n",
       "2016-01-28        D 2016-01-28       1  POINT (-13.998 -59.909)  "
      ]
     },
     "execution_count": 60,
     "metadata": {},
     "output_type": "execute_result"
    }
   ],
   "source": [
    "gdf.head()"
   ]
  },
  {
   "cell_type": "markdown",
   "metadata": {},
   "source": [
    "## Next step:\n",
    "\n",
    "Here we need to identify the points that correspond to a shape of interest (e.g. country polygon)"
   ]
  },
  {
   "cell_type": "code",
   "execution_count": null,
   "metadata": {
    "collapsed": true
   },
   "outputs": [],
   "source": [
    "### CODE HERE TO ISCOLATE SUBSET OF DATAFRAME BY COUNTRY OR AOI"
   ]
  },
  {
   "cell_type": "markdown",
   "metadata": {},
   "source": [
    "Next we resample these data to Weekly values"
   ]
  },
  {
   "cell_type": "code",
   "execution_count": 69,
   "metadata": {},
   "outputs": [],
   "source": [
    "weekly_sum = gdf['counts'].resample('W').sum() #fires['counts'].resample('D').sum().interpolate()[::7]"
   ]
  },
  {
   "cell_type": "code",
   "execution_count": 17,
   "metadata": {},
   "outputs": [
    {
     "data": {
      "text/plain": [
       "<matplotlib.axes._subplots.AxesSubplot at 0x1418f1d30>"
      ]
     },
     "execution_count": 17,
     "metadata": {},
     "output_type": "execute_result"
    },
    {
     "data": {
      "image/png": "[encoded data removed]",
      "text/plain": [
       "<matplotlib.figure.Figure at 0x1419050f0>"
      ]
     },
     "metadata": {},
     "output_type": "display_data"
    }
   ],
   "source": [
    "weekly_sum.plot()"
   ]
  },
  {
   "cell_type": "markdown",
   "metadata": {},
   "source": [
    "Now we have a time series of counts, we will need to calculate the week of year mean, and standard deviations.\n",
    "Finally, these statistics are what we will plot to know the climatological normal conditions.\n",
    "\n",
    "## Next step:"
   ]
  },
  {
   "cell_type": "code",
   "execution_count": null,
   "metadata": {
    "collapsed": true
   },
   "outputs": [],
   "source": [
    "## CODE to caclualte Week of year Mean and Standard deviation over an area of interest."
   ]
  },
  {
   "cell_type": "code",
   "execution_count": null,
   "metadata": {},
   "outputs": [],
   "source": []
  },
  {
   "cell_type": "code",
   "execution_count": null,
   "metadata": {
    "collapsed": true
   },
   "outputs": [],
   "source": []
  }
 ],
 "metadata": {
  "kernelspec": {
   "display_name": "Python 3",
   "language": "python",
   "name": "python3"
  },
  "language_info": {
   "codemirror_mode": {
    "name": "ipython",
    "version": 3
   },
   "file_extension": ".py",
   "mimetype": "text/x-python",
   "name": "python",
   "nbconvert_exporter": "python",
   "pygments_lexer": "ipython3",
   "version": "3.6.2"
  }
 },
 "nbformat": 4,
 "nbformat_minor": 2
}
