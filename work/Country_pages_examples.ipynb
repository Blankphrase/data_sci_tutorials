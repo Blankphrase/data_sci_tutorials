{
 "cells": [
  {
   "cell_type": "markdown",
   "metadata": {},
   "source": [
    "## Building The Country Page Widgets\n",
    "\n",
    "Charlie has added the following datasets to the **STAGING** API for the construction of the new country pages widgets. This notebook details how to query these datasets to create a the required widgets.\n",
    "\n",
    "\n",
    "Note: many queries will be repeated, but the data used in different ways, so we should cache the responses for re-use.\n",
    "\n",
    "```\n",
    "[\n",
    "    {\n",
    "        \"name\": \"IFL 2000\",\n",
    "        \"gain\": \"27ed6d3c-89e8-4087-aa78-1b6619c0e8d5\",\n",
    "        \"loss\": \"cbf299f8-f365-4ba3-ad10-b8c1324bea62\",\n",
    "        \"extent\": \"1676bb7f-a858-4298-8faa-c85cb169ca20\"\n",
    "    },\n",
    "\n",
    "    {\n",
    "        \"name\": \"IFL 2013\",\n",
    "        \"gain\": \"19be9cf6-3dfc-4b77-b95e-39a6751e55bf\",\n",
    "        \"loss\": \"2a4bf55c-7e0e-45cd-ac3f-f1e890c0bd22\",\n",
    "        \"extent\": \"2cfc35b0-aa9b-4939-8265-ee643b3afeb5\"\n",
    "    },\n",
    "\n",
    "    {\n",
    "        \"name\": \"wdpa\",\n",
    "        \"gain\": \"23519a73-f4b8-4bb6-8a6a-1d84c38debca\",\n",
    "        \"loss\": \"9289fdf7-b2b0-4cbf-8951-9dd4dcd8ccd7\",\n",
    "        \"extent\": \"8d7e23ec-bc8c-4434-bc6a-6ce40459b424\"\n",
    "    },\n",
    "\n",
    "    {\n",
    "        \"name\": \"primary forests\",\n",
    "        \"gain\": \"fd3b3a12-121e-4189-96a3-d8c26b70952d\",\n",
    "        \"loss\": \"7a5b92ab-2d35-45f3-b923-20c9a46d4873\",\n",
    "        \"extent\": \"b987b360-190e-4560-a632-03946347d226\"\n",
    "    },\n",
    "\n",
    "    {\n",
    "        \"name\": \"biodiversity hot spots\",\n",
    "        \"gain\": \"bd061864-8efb-41a7-8ba0-6f4d25ed1fd8\",\n",
    "        \"loss\": \"32a963c1-26d7-4a21-b602-17144fd78c0f\",\n",
    "        \"extent\": \"6c00c104-a75b-4b0b-9c33-0d0aa29cdf93\"\n",
    "    },\n",
    "\n",
    "    {\n",
    "        \"name\": \"gadm28 only\",\n",
    "        \"gain\": \"e78a9c36-ed15-467a-babd-0a5ac21d07d7\",\n",
    "        \"loss\": \"88994c38-1ea1-4a32-82ca-073547d11176\",\n",
    "        \"extent\": \"f0e01525-9576-4613-a74b-3290c94047ca\"\n",
    "    },\n",
    "\n",
    "    {\n",
    "        \"name\": \"GFW Plantations\",\n",
    "        \"gain\": \"94a883de-4eb4-4be8-a05f-c77ea8d9c6a3\",\n",
    "        \"loss\": \"17a7970a-23ba-45ab-8004-37090b4e2502\",\n",
    "        \"extent\": \"9b617bbb-b99b-4543-832d-665adeec3341\"\n",
    "    },\n",
    "\n",
    "    {\n",
    "        \"name\": \"GFW Managed Forests\",\n",
    "        \"gain\": \"c88957d7-4635-4fb7-b729-db565122529d\",\n",
    "        \"loss\": \"c500cb21-fdf0-426b-9a89-4a581f33ed18\",\n",
    "        \"extent\": \"f9e40f0f-4f9f-4d93-957d-1fa15dd29333\"\n",
    "    }\n",
    "]\n",
    "```"
   ]
  },
  {
   "cell_type": "code",
   "execution_count": 127,
   "metadata": {
    "ExecuteTime": {
     "end_time": "2017-11-28T15:33:06.564933Z",
     "start_time": "2017-11-28T15:33:06.543361Z"
    }
   },
   "outputs": [],
   "source": [
    "import requests\n",
    "import requests_cache\n",
    "from pprint import pprint\n",
    "import numpy as np\n",
    "import matplotlib.pyplot as plt\n",
    "%matplotlib inline\n",
    "requests_cache.install_cache('demo_cache')"
   ]
  },
  {
   "cell_type": "markdown",
   "metadata": {},
   "source": [
    "Testing basic queries"
   ]
  },
  {
   "cell_type": "code",
   "execution_count": 128,
   "metadata": {
    "ExecuteTime": {
     "end_time": "2017-11-28T15:33:06.600688Z",
     "start_time": "2017-11-28T15:33:06.567983Z"
    }
   },
   "outputs": [
    {
     "name": "stdout",
     "output_type": "stream",
     "text": [
      "https://staging-api.globalforestwatch.org/query?sql=SELECT+%2A+FROM+f9e40f0f-4f9f-4d93-957d-1fa15dd29333+WHERE+iso+%3D+%27CAN%27and+thresh%3D75+LIMIT+5\n",
      "Status: 200\n"
     ]
    },
    {
     "data": {
      "text/plain": [
       "{'data': [{'_id': 'AV5S4OAJD0oexj_vOR7q',\n",
       "   'adm1': 3,\n",
       "   'adm2': 58,\n",
       "   'area': 37146.706833403005,\n",
       "   'iso': 'CAN',\n",
       "   'thresh': 75},\n",
       "  {'_id': 'AV5S4OAJD0oexj_vOR72',\n",
       "   'adm1': 3,\n",
       "   'adm2': 60,\n",
       "   'area': 1347463.9138044885,\n",
       "   'iso': 'CAN',\n",
       "   'thresh': 75},\n",
       "  {'_id': 'AV5S4OAJD0oexj_vOR78',\n",
       "   'adm1': 3,\n",
       "   'adm2': 54,\n",
       "   'area': 22280.92607727738,\n",
       "   'iso': 'CAN',\n",
       "   'thresh': 75},\n",
       "  {'_id': 'AV5S4OAJD0oexj_vOR8H',\n",
       "   'adm1': 3,\n",
       "   'adm2': 56,\n",
       "   'area': 40803.13177967282,\n",
       "   'iso': 'CAN',\n",
       "   'thresh': 75},\n",
       "  {'_id': 'AV5S4OAJD0oexj_vOR8e',\n",
       "   'adm1': 9,\n",
       "   'adm2': 154,\n",
       "   'area': 0.6535985444833999,\n",
       "   'iso': 'CAN',\n",
       "   'thresh': 75}],\n",
       " 'meta': {'cloneUrl': {'body': {'dataset': {'application': ['your', 'apps'],\n",
       "     'datasetUrl': '/v1/query/f9e40f0f-4f9f-4d93-957d-1fa15dd29333'}},\n",
       "   'http_method': 'POST',\n",
       "   'url': '/v1/dataset/f9e40f0f-4f9f-4d93-957d-1fa15dd29333/clone'}}}"
      ]
     },
     "execution_count": 128,
     "metadata": {},
     "output_type": "execute_result"
    }
   ],
   "source": [
    "# Example of what is in the data tables and how to simply read them:\n",
    "#ds = \"6c00c104-a75b-4b0b-9c33-0d0aa29cdf93\" # biodiversity\n",
    "#ds = \"8d7e23ec-bc8c-4434-bc6a-6ce40459b424\" #wdpa\n",
    "#ds = \"f0e01525-9576-4613-a74b-3290c94047ca\"# gadm28 tree cover extent UMD 2010\n",
    "ds = \"f9e40f0f-4f9f-4d93-957d-1fa15dd29333\" # managed forests (should be in canada)\n",
    "url = \"https://staging-api.globalforestwatch.org/query\"\n",
    "sql = (f\"SELECT * FROM {ds} WHERE iso = 'CAN'and thresh=75 LIMIT 5\")\n",
    "properties = {\"sql\": sql}\n",
    "r = requests.get(url, params = properties)\n",
    "print(r.url)\n",
    "print(f'Status: {r.status_code}')\n",
    "r.json()"
   ]
  },
  {
   "cell_type": "markdown",
   "metadata": {},
   "source": [
    "# Obtain metadata for admin0 to admin2 level\n",
    "\n",
    "Retrieve json mappings of id values (e.g. iso codes or integers) for admin0 to admin2 level, and map them to english names for selectors and resources to build dynamic sentences."
   ]
  },
  {
   "cell_type": "code",
   "execution_count": 129,
   "metadata": {
    "ExecuteTime": {
     "end_time": "2017-11-28T15:33:06.649404Z",
     "start_time": "2017-11-28T15:33:06.606898Z"
    }
   },
   "outputs": [],
   "source": [
    "def get_admin0_json(urlCarto=\"https://wri-01.carto.com/api/v2/sql\"):\n",
    "    \"\"\"return an alphabetical json of mappings of iso and country names\n",
    "    e.g.\n",
    "    [{'iso': 'AFG', 'name': 'Afghanistan'},\n",
    "     {'iso': 'XAD', 'name': 'Akrotiri and Dhekelia'},\n",
    "     {'iso': 'ALA', 'name': 'Åland'},\n",
    "     ...\n",
    "    ]\n",
    "    \n",
    "    \"\"\"\n",
    "    sql = (\"SELECT iso, country as name FROM umd_nat_staging \"\n",
    "            \"GROUP BY iso, name \"\n",
    "            \"ORDER BY name \"\n",
    "          )\n",
    "    r = requests.get(urlCarto, params={\"q\": sql})\n",
    "    return r.json().get('rows', None)\n",
    " \n",
    "\n",
    "def get_admin1_json(iso, urlCarto=\"https://wri-01.carto.com/api/v2/sql\"):\n",
    "    \"\"\"return an alphabetical json of mappings of admin1 for a country\n",
    "    e.g. for iso='GBR'\n",
    "        [{'adm1': 1, 'name': 'England'},\n",
    "         {'adm1': 2, 'name': 'Northern Ireland'},\n",
    "         {'adm1': 3, 'name': 'Scotland'},\n",
    "         {'adm1': 4, 'name': 'Wales'}]\n",
    "    \"\"\"\n",
    "    sql = (\"SELECT id1 as adm1, region as name \"\n",
    "            \"FROM umd_subnat_staging \"\n",
    "            f\"WHERE iso = '{iso}' \"\n",
    "            \"and year = 2001 \"\n",
    "            \"and thresh = 30 \"\n",
    "            \"ORDER BY name \"\n",
    "          )\n",
    "    r = requests.get(urlCarto, params={\"q\": sql})\n",
    "    return r.json().get('rows', None)\n",
    "   \n",
    "\n",
    "def get_admin2_json(iso, adm1, urlCarto=\"https://wri-01.carto.com/api/v2/sql\"):\n",
    "    \"\"\" \n",
    "    e.g. response for iso='GBR' adm1=1\n",
    "    [{'adm2': 1, 'name': 'Barking and Dagenham'},\n",
    "     {'adm2': 2, 'name': 'Bath and North East Somerset'},\n",
    "     ...\n",
    "     ]\n",
    "\n",
    "    \"\"\"\n",
    "    sql = (\"SELECT id_2 as adm2, name_2 as name \"\n",
    "            \"FROM gadm28_adm2 \"\n",
    "            f\"WHERE iso = '{iso}' \"\n",
    "            f\"AND id_1 = {adm1} \"\n",
    "            \"ORDER BY name \"\n",
    "          )\n",
    "    r = requests.get(urlCarto, params={\"q\": sql})    \n",
    "    return r.json().get('rows', None)"
   ]
  },
  {
   "cell_type": "code",
   "execution_count": 130,
   "metadata": {
    "ExecuteTime": {
     "end_time": "2017-11-28T15:33:06.687824Z",
     "start_time": "2017-11-28T15:33:06.654516Z"
    }
   },
   "outputs": [],
   "source": [
    "tmp = get_admin0_json()\n",
    "iso_to_countries = {}\n",
    "for row in tmp:\n",
    "    iso_to_countries[row.get('iso')] = row.get('name')"
   ]
  },
  {
   "cell_type": "markdown",
   "metadata": {},
   "source": [
    "# Get info on an areas shape\n",
    "\n",
    "Use the Geostore service to find the geometry, bounding box or additional info on a given `iso` or `iso/admin1` area.\n",
    "\n",
    "Note - if similar info is needed for admin2 areas I will have to go back and create a query based on a Carto table, as admin-2 level data does not exist in the geostore service yet."
   ]
  },
  {
   "cell_type": "code",
   "execution_count": 131,
   "metadata": {
    "ExecuteTime": {
     "end_time": "2017-11-28T15:33:06.748322Z",
     "start_time": "2017-11-28T15:33:06.691410Z"
    },
    "scrolled": true
   },
   "outputs": [
    {
     "name": "stdout",
     "output_type": "stream",
     "text": [
      "returning admin-0 level geostore\n",
      "https://api.resourcewatch.org/v1/geostore/admin/GBR\n",
      "dict_keys(['geojson', 'hash', 'provider', 'areaHa', 'bbox', 'lock', 'info'])\n"
     ]
    },
    {
     "data": {
      "text/plain": [
       "[-13.6913900375365, 49.8654174804688, 1.76416802406322, 60.8458213806153]"
      ]
     },
     "execution_count": 131,
     "metadata": {},
     "output_type": "execute_result"
    }
   ],
   "source": [
    "iso = \"GBR\"\n",
    "adm1 = None \n",
    "\n",
    "if not adm1:\n",
    "    print(\"returning admin-0 level geostore\")\n",
    "    url = f\"https://api.resourcewatch.org/v1/geostore/admin/{iso}\"\n",
    "else:\n",
    "    print(\"returning admin-1 level geostore\")\n",
    "    url = f\"https://api.resourcewatch.org/v1/geostore/admin/{iso}/{adm1}\"\n",
    "    \n",
    "r = requests.get(url)\n",
    "print(r.url)\n",
    "roi = r.json()\n",
    "\n",
    "print(roi.get('data', None).get('attributes', None).keys())\n",
    "roi.get('data').get('attributes').get('bbox')  #e.g. of getting the bounding box of a ROI"
   ]
  },
  {
   "cell_type": "code",
   "execution_count": 132,
   "metadata": {
    "ExecuteTime": {
     "end_time": "2017-11-28T15:33:06.761678Z",
     "start_time": "2017-11-28T15:33:06.753511Z"
    }
   },
   "outputs": [],
   "source": [
    "def create_bounding_poly(bbox):\n",
    "    \"\"\"Create a bounding polygon from a returned bbox of the geostore service\n",
    "        (- the old api produced shapes in this format).\n",
    "    \"\"\"\n",
    "    lat1, lon1, lat2, lon2  = bbox\n",
    "    return [[lat1,lon1], [lat1,lon2],[lat2,lon2],[lat2,lon1] ,[lat1,lon1]]"
   ]
  },
  {
   "cell_type": "code",
   "execution_count": 133,
   "metadata": {
    "ExecuteTime": {
     "end_time": "2017-11-28T15:33:06.775538Z",
     "start_time": "2017-11-28T15:33:06.766285Z"
    }
   },
   "outputs": [
    {
     "data": {
      "text/plain": [
       "[[-13.6913900375365, 49.8654174804688],\n",
       " [-13.6913900375365, 60.8458213806153],\n",
       " [1.76416802406322, 60.8458213806153],\n",
       " [1.76416802406322, 49.8654174804688],\n",
       " [-13.6913900375365, 49.8654174804688]]"
      ]
     },
     "execution_count": 133,
     "metadata": {},
     "output_type": "execute_result"
    }
   ],
   "source": [
    "create_bounding_poly(roi.get('data').get('attributes').get('bbox'))"
   ]
  },
  {
   "cell_type": "markdown",
   "metadata": {},
   "source": [
    "# Tree cover widget\n",
    "\n",
    "The default view for the tree cover widget should be for 'All Region'.\n",
    "We provide a mapping between the text to select in the Location drop-down and the dataset IDs that need to be called in conjunction with a specific selection.\n",
    "\n",
    "\n",
    "For the default  \"All Region\" location, we will need to show 3 slices in the donut chart:\n",
    "    * Tree plantations\n",
    "    * Natural forest (tree cover 2010 - tree plantations)\n",
    "    * Non-forest (total area - tree cover 2010)\n",
    "\n",
    "We show how to calculate this below.\n",
    "\n",
    "**BUT**\n",
    "\n",
    "If other Locations are selected, (e.g. Protected Areas), we need a different donut chart. One with less data (only tree cover, and non-forest).\n",
    "\n",
    "    * Tree cover \n",
    "    * Non-forest\n",
    "\n",
    "\n",
    "\n",
    "*Notes: below this line are extra notes not needed for Front-end dev*\n",
    "\n",
    "** Area selectors:**\n",
    "* Priority 1:\n",
    "        All region,\n",
    "        WDPA,\n",
    "        moratorium areas,\n",
    "        peat\n",
    "* PRIORITY 2:\n",
    "        oil palm concessions,\n",
    "        mining concessions,\n",
    "        managed forests,\n",
    "        wood fiber concessions,\n",
    "        Landmark (select countries)\n",
    "** Same info from another source/comment**        \n",
    "* MVP selectors:\n",
    "    - All region\n",
    "    - IFLs\n",
    "    - mangroves\n",
    "    - tree plantations\n",
    "    - natural forest\n",
    "    - primary forest\n",
    "\n",
    "- adm0 = BRA, adm1 = 4  is Amazonas\n",
    "- adm0 = BRA, adm1 = 4, adm2 = 141 is Amaturá  (many forests)\n",
    "- adm0 = BRA, adm1 = 12, adm2 = 1434 is Mato Grosso, Cáceres\n",
    "- adm0 = BRA, adm1 = 14, adm2 = 2404 is Para, Altamira \n",
    "- adm0 = BRA, adm1 = 16, adm2 = 3135 - largest area of plantations (Turning this on seems to reveal a bug)\n"
   ]
  },
  {
   "cell_type": "code",
   "execution_count": 134,
   "metadata": {
    "ExecuteTime": {
     "end_time": "2017-11-28T15:33:06.798931Z",
     "start_time": "2017-11-28T15:33:06.779613Z"
    }
   },
   "outputs": [],
   "source": [
    "# VARIABLES FOR TREE COVER WIDGET\n",
    "\n",
    "url = \"https://staging-api.globalforestwatch.org/query\"\n",
    "adm0 = 'BRA'\n",
    "threshold = 0\n",
    "adm1 = None\n",
    "adm2 = None\n",
    "location = 'All Region' #'Biodiversity hotspots' #'All Region'   \n",
    "\n",
    "# ----------------------DATASETS (by RW ID and their relationship to LOCATION)\n",
    "# e.g. only managed forests, if ISO requested is in:\n",
    "managed_forests_coverage = ['CMR','CAN','CAF', 'COD','GNQ','GAB','IDN','LBR','COG']\n",
    "\n",
    "tree_extent_data_sources = {'All Region':{\"extent\": \"f0e01525-9576-4613-a74b-3290c94047ca\"},          # \"gadm28_extent\"     \n",
    "                            'Protected Areas':{\"extent\":\"8d7e23ec-bc8c-4434-bc6a-6ce40459b424\"},      # \"wdpa_extent\"\n",
    "                            'Biodiversity hotspots':{\"extent\":\"6c00c104-a75b-4b0b-9c33-0d0aa29cdf93\"},#\"biodiversity_hotspots_extent\"\n",
    "                            'Managed Forests':{\"extent\":\"f9e40f0f-4f9f-4d93-957d-1fa15dd29333\"},      #\"managed_forest_extent\"\n",
    "                           }\n",
    "\n",
    "# 'All region' also needs data from\n",
    "plantation_extent = \"9b617bbb-b99b-4543-832d-665adeec3341\""
   ]
  },
  {
   "cell_type": "code",
   "execution_count": 135,
   "metadata": {
    "ExecuteTime": {
     "end_time": "2017-11-28T15:33:06.818746Z",
     "start_time": "2017-11-28T15:33:06.802328Z"
    }
   },
   "outputs": [],
   "source": [
    "# get a human readable {id: name} json for either admin 1 or 2 level as needed:\n",
    "\n",
    "areaId_to_name = None\n",
    "if adm2:\n",
    "    tmp = get_admin2_json(iso=adm0, adm1=adm1)\n",
    "    areaId_to_name ={}\n",
    "    for row in tmp:\n",
    "        areaId_to_name[row.get('adm2')] = row.get('name')\n",
    "if adm1 and not adm2:\n",
    "    tmp = get_admin1_json(iso=adm0)\n",
    "    areaId_to_name={}\n",
    "    for row in tmp:\n",
    "        areaId_to_name[row.get('adm1')] = row.get('name') "
   ]
  },
  {
   "cell_type": "code",
   "execution_count": 136,
   "metadata": {
    "ExecuteTime": {
     "end_time": "2017-11-28T15:33:06.838081Z",
     "start_time": "2017-11-28T15:33:06.822742Z"
    }
   },
   "outputs": [],
   "source": [
    "def extent_queries(ds, adm0, adm1=None, adm2 = None, threshold=30):\n",
    "    if adm0 and not adm1 and not adm2:\n",
    "        print('Request for adm0 area')\n",
    "        sql = (f\"SELECT SUM(area) as value FROM {ds} WHERE iso = '{adm0}' \"\n",
    "               f\"AND thresh = {threshold}\")\n",
    "    elif adm0 and adm1 and not adm2:\n",
    "        print('Request for  adm1 area')\n",
    "        sql = (f\"SELECT SUM(area) as value FROM {ds} WHERE iso = '{adm0}' \"\n",
    "               f\"AND adm1 = {adm1} AND thresh = {threshold}\")\n",
    "    elif adm0 and adm1 and adm2:\n",
    "        print('Request for  adm2 area')\n",
    "        sql = (f\"SELECT area as value FROM {ds} WHERE iso = '{adm0}' \"\n",
    "               f\"AND adm1 = {adm1} AND adm2 = {adm2} AND thresh = {threshold}\") \n",
    "    return sql"
   ]
  },
  {
   "cell_type": "code",
   "execution_count": 137,
   "metadata": {
    "ExecuteTime": {
     "end_time": "2017-11-28T15:33:06.880182Z",
     "start_time": "2017-11-28T15:33:06.841420Z"
    }
   },
   "outputs": [
    {
     "name": "stdout",
     "output_type": "stream",
     "text": [
      "Request for adm0 area\n",
      "https://staging-api.globalforestwatch.org/query?sql=SELECT+SUM%28area%29+as+value+FROM+f0e01525-9576-4613-a74b-3290c94047ca+WHERE+iso+%3D+%27BRA%27+AND+thresh+%3D+0\n",
      "Status: 200\n",
      "{'data': [{'value': 245474257.59415054}],\n",
      " 'meta': {'cloneUrl': {'body': {'dataset': {'application': ['your', 'apps'],\n",
      "                                            'datasetUrl': '/v1/query/f0e01525-9576-4613-a74b-3290c94047ca'}},\n",
      "                       'http_method': 'POST',\n",
      "                       'url': '/v1/dataset/f0e01525-9576-4613-a74b-3290c94047ca/clone'}}}\n",
      "\n",
      "BRA None None Gadm28 Tree cover extent = 245474257.59415054 ha\n"
     ]
    }
   ],
   "source": [
    "sql = extent_queries(ds=tree_extent_data_sources.get(location).get('extent'),\n",
    "                     adm0=adm0, adm1=adm1, adm2=adm2, threshold=threshold)\n",
    "r = requests.get(url, params = {\"sql\": sql})\n",
    "\n",
    "print(r.url)\n",
    "print(f'Status: {r.status_code}')\n",
    "pprint(r.json())\n",
    "\n",
    "try:\n",
    "    tree_cover_extent_2010 = r.json().get('data')[0].get('value')\n",
    "except:\n",
    "    tree_cover_extent_2010 = 0.0\n",
    "print(f\"\\n{adm0} {adm1} {adm2} Gadm28 Tree cover extent = {tree_cover_extent_2010} ha\")"
   ]
  },
  {
   "cell_type": "markdown",
   "metadata": {},
   "source": [
    "NOTES:\n",
    "*So far I don't like this value. It is way too low: the 2000 UMD extent data for Brazil gives 519,187,505 ha *\n",
    "*From this table we are getting 244,872,188 ha. Doesn't look right...*"
   ]
  },
  {
   "cell_type": "code",
   "execution_count": 138,
   "metadata": {
    "ExecuteTime": {
     "end_time": "2017-11-28T15:33:08.540987Z",
     "start_time": "2017-11-28T15:33:06.883613Z"
    }
   },
   "outputs": [
    {
     "name": "stdout",
     "output_type": "stream",
     "text": [
      "Request for adm0 area\n",
      "https://staging-api.globalforestwatch.org/query?sql=SELECT+SUM%28area%29+as+value+FROM+9b617bbb-b99b-4543-832d-665adeec3341+WHERE+iso+%3D+%27BRA%27+AND+thresh+%3D+0\n",
      "Status: 200\n",
      "{'data': [{'value': 5244799.499295063}],\n",
      " 'meta': {'cloneUrl': {'body': {'dataset': {'application': ['your', 'apps'],\n",
      "                                            'datasetUrl': '/v1/query/9b617bbb-b99b-4543-832d-665adeec3341'}},\n",
      "                       'http_method': 'POST',\n",
      "                       'url': '/v1/dataset/9b617bbb-b99b-4543-832d-665adeec3341/clone'}}}\n",
      "\n",
      "BRA None None plantation area = 5244799.499295063 ha\n"
     ]
    }
   ],
   "source": [
    "# We need an area for the plantations for some of the locations\n",
    "# This should be the area of UMD forest cover intersecting tree plantations at admin2 level\n",
    "\n",
    "if location in ['All Region']:\n",
    "    sql = extent_queries(ds=plantation_extent, adm0=adm0, adm1=adm1, adm2=adm2, threshold=threshold)\n",
    "    r = requests.get(url, params = {\"sql\": sql})\n",
    "\n",
    "    print(r.url)\n",
    "    print(f'Status: {r.status_code}')\n",
    "    pprint(r.json())\n",
    "\n",
    "    try:\n",
    "        plantations = r.json().get('data')[0].get('value')\n",
    "    except:\n",
    "        plantations = 0.0\n",
    "    print(f\"\\n{adm0} {adm1} {adm2} plantation area = {plantations} ha\")\n",
    "else:\n",
    "    print(f\"No plantation data neded for '{location}'\")\n",
    "    plantations = None"
   ]
  },
  {
   "cell_type": "code",
   "execution_count": 139,
   "metadata": {
    "ExecuteTime": {
     "end_time": "2017-11-28T15:33:08.561404Z",
     "start_time": "2017-11-28T15:33:08.545396Z"
    }
   },
   "outputs": [],
   "source": [
    "def area_queries(adm0, adm1=None, adm2 = None):\n",
    "    \"\"\"If an admin0 or admin 1 area is requestd, use precalulated tables.\n",
    "       If an admin2 is requested, calculate the area from the geometry.\n",
    "    \"\"\"\n",
    "    if adm0 and not adm1 and not adm2:\n",
    "        print('Request for adm0 area')\n",
    "        sql = (\"SELECT land as value \"\n",
    "                \"FROM umd_nat_staging \"\n",
    "               f\"WHERE iso = '{adm0}' \"\n",
    "                \" AND year = 2001 \"\n",
    "                \" and thresh = 30 \")\n",
    "    elif adm0 and adm1 and not adm2:\n",
    "        print('Request for adm1 area')\n",
    "        sql = (\"SELECT land as value \"\n",
    "                \"FROM umd_subnat_staging \"\n",
    "               f\"WHERE iso = '{adm0}' \"\n",
    "               f\" AND id1 = {adm1} \"\n",
    "                \" AND year = 2001 \"\n",
    "                \" and thresh = 30 \")\n",
    "    elif adm0 and adm1 and adm2:\n",
    "        print('Request for adm2 area')\n",
    "        sql = (\"SELECT ROUND(ST_AREA(the_geom::geography) * 0.0001) as value \"\n",
    "                \"FROM gadm28_adm2 \"\n",
    "                f\"WHERE iso = '{adm0}' \"\n",
    "                f\"AND id_1 = {adm1} \"\n",
    "                f\"AND id_2 = {adm2} \")\n",
    "    return sql"
   ]
  },
  {
   "cell_type": "code",
   "execution_count": 140,
   "metadata": {
    "ExecuteTime": {
     "end_time": "2017-11-28T15:33:08.599106Z",
     "start_time": "2017-11-28T15:33:08.564830Z"
    }
   },
   "outputs": [
    {
     "name": "stdout",
     "output_type": "stream",
     "text": [
      "Request for adm0 area\n",
      "https://wri-01.carto.com/api/v2/sql?q=SELECT+land+as+value+FROM+umd_nat_staging+WHERE+iso+%3D+%27BRA%27++AND+year+%3D+2001++and+thresh+%3D+30+ \n",
      "\n",
      "{'fields': {'value': {'type': 'number'}},\n",
      " 'rows': [{'value': 853281125.672}],\n",
      " 'time': 0.007,\n",
      " 'total_rows': 1}\n",
      "\n",
      " 853281125.672 ha total area selected\n"
     ]
    }
   ],
   "source": [
    "# Total area (ha) of selected area based on a mix of pre-calculated areas and gadm28 admin2 shapes\n",
    "# table both in the WRI-01 Carto account\n",
    "\n",
    "sql = area_queries(adm0=adm0, adm1=adm1, adm2=adm2)\n",
    "\n",
    "account = 'wri-01'\n",
    "urlCarto = \"https://{0}.carto.com/api/v2/sql\".format(account)\n",
    "\n",
    "sql = {\"q\": sql}\n",
    "r = requests.get(urlCarto, params=sql)\n",
    "print(r.url,'\\n')\n",
    "pprint(r.json())\n",
    "\n",
    "total_area = r.json().get('rows')[0].get('value')\n",
    "print(f\"\\n {total_area} ha total area selected\")"
   ]
  },
  {
   "cell_type": "code",
   "execution_count": 141,
   "metadata": {
    "ExecuteTime": {
     "end_time": "2017-11-28T15:33:08.609857Z",
     "start_time": "2017-11-28T15:33:08.602029Z"
    }
   },
   "outputs": [
    {
     "name": "stdout",
     "output_type": "stream",
     "text": [
      "tree cover=2.45474e+08, area=8.53281e+08\n"
     ]
    }
   ],
   "source": [
    "#  Note if plantations are 0 - this situation should be considered the same as if plantation data \n",
    "# were not to be included. I.e. if plantation = 0 then \n",
    "\n",
    "if location in ['All Regions']:\n",
    "    print(f\"plantations={plantations:g}, tree cover={tree_cover_extent_2010:g}, area={total_area:g}\")\n",
    "else:\n",
    "    print(f\"tree cover={tree_cover_extent_2010:g}, area={total_area:g}\")"
   ]
  },
  {
   "cell_type": "code",
   "execution_count": 142,
   "metadata": {
    "ExecuteTime": {
     "end_time": "2017-11-28T15:33:08.818315Z",
     "start_time": "2017-11-28T15:33:08.612846Z"
    }
   },
   "outputs": [
    {
     "data": {
      "image/png": "[encoded data removed]",
      "text/plain": [
       "<matplotlib.figure.Figure at 0x11c34b828>"
      ]
     },
     "metadata": {},
     "output_type": "display_data"
    }
   ],
   "source": [
    "# Pie chart, where the slices will be ordered and plotted counter-clockwise:\n",
    "if adm0 and not adm1 and not adm2:\n",
    "    dynamic_sentence = (f\"Tree cover for {location.lower()} of {iso_to_countries[adm0]}, \"\n",
    "                        f\"with tree canopy of \\u2265{threshold}%\")\n",
    "if adm0 and adm1 and not adm2: \n",
    "    dynamic_sentence = (f\"Tree cover for {location.lower()} of {areaId_to_name[adm1]}, \"\n",
    "                        f\"with tree canopy of \\u2265{threshold}%\")\n",
    "if adm0 and adm1 and adm2:\n",
    "    dynamic_sentence = (f\"Tree cover for {location.lower()} of {areaId_to_name[adm2]}, \"\n",
    "                        f\"with tree canopy of \\u2265{threshold}%\")\n",
    "\n",
    "\n",
    "if location in ['All Region']: \n",
    "    labels = 'Tree plantations', 'Natural Forest', 'Non-forest'\n",
    "    sizes = [plantations, tree_cover_extent_2010 - plantations, total_area - tree_cover_extent_2010]\n",
    "    colors = ['orange','green','grey']\n",
    "else: \n",
    "    labels = 'Tree cover', 'Non-forest'\n",
    "    sizes = [tree_cover_extent_2010, total_area - tree_cover_extent_2010]\n",
    "    colors = ['green','grey']\n",
    "    \n",
    "fig1, ax1 = plt.subplots()\n",
    "ax1.pie(sizes, labels=labels, autopct='%1.1f%%',\n",
    "        shadow=False, startangle=90, colors=colors)\n",
    "ax1.axis('equal')\n",
    "centre_circle = plt.Circle((0,0),0.75,color='black', fc='white',linewidth=0.5)\n",
    "fig1 = plt.gcf()\n",
    "fig1.gca().add_artist(centre_circle)\n",
    "plt.suptitle('Tree cover extent')\n",
    "plt.title(dynamic_sentence)\n",
    "plt.show()"
   ]
  },
  {
   "cell_type": "markdown",
   "metadata": {},
   "source": [
    "#### Problems\n",
    "\n",
    "** Areas **: As we calculate areas in this case dynamically from geometries, we will get inconsisntent results with the rest of the site. \n",
    "To resolve this, we need the areas pre-calculated in a table using the same method that they have previously been calculated from. I.e. it needs to match the same method of the `https://wri-01.carto.com/tables/umd_subnat_staging` table (which currently is at admin1 level.\n",
    "\n",
    "* Possible Solution: Charlie could produce an areas table, that has the area of the gadm28 geometries.\n",
    "\n",
    "** Tree Cover **: current extent area is incorrect. For Brazil, nationally, the values are off by around a factor of 2. Perhaps I have the wrong table, but I can't see another possible table that should be used in this case.\n",
    "\n",
    "** Plantations **: Again, plantation areas look dubious."
   ]
  },
  {
   "cell_type": "markdown",
   "metadata": {
    "ExecuteTime": {
     "end_time": "2017-11-23T12:23:46.777118Z",
     "start_time": "2017-11-23T12:23:46.768292Z"
    }
   },
   "source": [
    "## FAO FOREST Widget\n",
    "\n",
    "This widget should include 'FOREST COVER ' in the title - note the distinction, that the Hansen data relate to tree cover, and FAO relate to forest cover...\n",
    "\n",
    "An FAO-based forest widget can be calcuated based on data in a carto table `https://wri-01.carto.com/tables/gfw2_countries`\n",
    "\n",
    "It will take a little work, as the data stored in the carto table is % of primary, regenerated and planted forest. Therefore we must 1) get an area (ha) extent of the forest, 2) obtain the % values of various FAO forest statistics from the carto table, 3) derrive the real (ha) area of FAO forest for each category, and 4) get a value of absolute area of the country and subtract the values caluclated in step 3 from the total area to get non-forest. \n",
    "\n",
    "** Pie categories **\n",
    "\n",
    "* Primary Forest\n",
    "* Naturally Regenerated Forest\n",
    "* Planted Forest\n",
    "* Non-forest\n",
    "\n",
    "**Notes** \n",
    "\n",
    "1. These data (and therefore this widget) is only avaiable at the NATIONAL (ADMIN 0) level. And should dissapear from the pages if any other area is selected.\n",
    "\n",
    "1. These data have no threshold selection.\n",
    "\n",
    "1. As these data are only national, we can simply rely on the `umd_nat_staging` table to provide areas directly, rather than needing to dynamically calculate the areas."
   ]
  },
  {
   "cell_type": "code",
   "execution_count": 143,
   "metadata": {
    "ExecuteTime": {
     "end_time": "2017-11-28T15:33:08.827828Z",
     "start_time": "2017-11-28T15:33:08.822635Z"
    }
   },
   "outputs": [],
   "source": [
    "# For FAO data, only country (admin0) level data are avaiable. No other options on selector.\n",
    "\n",
    "# Variables\n",
    "adm0 = 'BRA'"
   ]
  },
  {
   "cell_type": "code",
   "execution_count": 144,
   "metadata": {
    "ExecuteTime": {
     "end_time": "2017-11-28T15:33:08.871596Z",
     "start_time": "2017-11-28T15:33:08.831209Z"
    }
   },
   "outputs": [
    {
     "name": "stdout",
     "output_type": "stream",
     "text": [
      "https://wri-01.carto.com/api/v2/sql?q=SELECT+fao.iso%2C+fao.name%2Cforest_planted%2C+forest_primary%2C+forest_regenerated%2C+fao.forest_primary%2C+fao.extent%2C+a.land+as+area_ha+FROM+gfw2_countries+as+fao+INNER+JOIN+umd_nat_staging+as+a+ON+fao.iso%3Da.iso+WHERE+fao.forest_primary+is+not+null+AND+fao.iso+%3D+%27BRA%27+AND+a.year+%3D+2001+AND+a.thresh+%3D+30+ \n",
      "\n",
      "{'fields': {'area_ha': {'type': 'number'},\n",
      "            'extent': {'type': 'number'},\n",
      "            'forest_planted': {'type': 'number'},\n",
      "            'forest_primary': {'type': 'number'},\n",
      "            'forest_regenerated': {'type': 'number'},\n",
      "            'iso': {'type': 'string'},\n",
      "            'name': {'type': 'string'}},\n",
      " 'rows': [{'area_ha': 853281125.672,\n",
      "           'extent': 492968489,\n",
      "           'forest_planted': 2,\n",
      "           'forest_primary': 41,\n",
      "           'forest_regenerated': 57,\n",
      "           'iso': 'BRA',\n",
      "           'name': 'Brazil'}],\n",
      " 'time': 0.009,\n",
      " 'total_rows': 1}\n"
     ]
    }
   ],
   "source": [
    "# First, get the FAO data from a carto table\n",
    "\n",
    "sql = (\"SELECT fao.iso, fao.name,forest_planted, forest_primary, \"\n",
    "         \"forest_regenerated, fao.forest_primary, fao.extent, a.land as area_ha \"\n",
    "         \"FROM gfw2_countries as fao \"\n",
    "         \"INNER JOIN umd_nat_staging as a \"\n",
    "         \"ON fao.iso=a.iso \"\n",
    "         \"WHERE fao.forest_primary is not null \"\n",
    "         f\"AND fao.iso = '{adm0}' \"\n",
    "         \"AND a.year = 2001 \"\n",
    "         \"AND a.thresh = 30 \"\n",
    "        )\n",
    "\n",
    "account = 'wri-01'\n",
    "urlCarto = \"https://{0}.carto.com/api/v2/sql\".format(account)\n",
    "\n",
    "sql = {\"q\": sql}\n",
    "r = requests.get(urlCarto, params=sql)\n",
    "print(r.url,'\\n')\n",
    "pprint(r.json())\n",
    "\n",
    "fao_percent = r.json().get('rows')[0]"
   ]
  },
  {
   "cell_type": "code",
   "execution_count": 145,
   "metadata": {
    "ExecuteTime": {
     "end_time": "2017-11-28T15:33:08.881977Z",
     "start_time": "2017-11-28T15:33:08.874654Z"
    }
   },
   "outputs": [],
   "source": [
    "# How to calculate the statitics needed based on the CARTO responses\n",
    "\n",
    "naturally_regenerated =  fao_percent['extent']/ 100 *  fao_percent['forest_regenerated']\n",
    "primary_forest = fao_percent['extent']/100 *  fao_percent['forest_primary']\n",
    "planted_forest = fao_percent['extent']/100 * fao_percent['forest_planted']\n",
    "non_forest = fao_percent['area_ha'] - (naturally_regenerated + primary_forest + planted_forest)"
   ]
  },
  {
   "cell_type": "code",
   "execution_count": 146,
   "metadata": {
    "ExecuteTime": {
     "end_time": "2017-11-28T15:33:09.106252Z",
     "start_time": "2017-11-28T15:33:08.884938Z"
    }
   },
   "outputs": [
    {
     "data": {
      "image/png": "[encoded data removed]",
      "text/plain": [
       "<matplotlib.figure.Figure at 0x11c374f28>"
      ]
     },
     "metadata": {},
     "output_type": "display_data"
    }
   ],
   "source": [
    "# FAO donut chart \n",
    "# NOTE - THE COLOURS ARE NOT NECESSARILY THOSE NEEDED FOR PRODUCTION\n",
    "labels = ['Naturally regenerated Forest', 'Primary Forest', 'Planted Forest', 'Non-Forest']\n",
    "sizes = [naturally_regenerated, primary_forest, planted_forest, non_forest]\n",
    "\n",
    "fig1, ax1 = plt.subplots()\n",
    "ax1.pie(sizes, labels=labels, autopct='%1.1f%%',\n",
    "        shadow=False, startangle=90, colors=['#0da330', '#69ef88','green','grey'])\n",
    "ax1.axis('equal')\n",
    "centre_circle = plt.Circle((0,0),0.75,color='black', fc='white',linewidth=0.5)\n",
    "fig1 = plt.gcf()\n",
    "fig1.gca().add_artist(centre_circle)\n",
    "plt.title(f'Forest cover in {adm0}')\n",
    "plt.show()"
   ]
  },
  {
   "cell_type": "code",
   "execution_count": 147,
   "metadata": {
    "ExecuteTime": {
     "end_time": "2017-11-28T15:33:09.139506Z",
     "start_time": "2017-11-28T15:33:09.109524Z"
    }
   },
   "outputs": [
    {
     "name": "stdout",
     "output_type": "stream",
     "text": [
      "https://wri-01.carto.com/api/v2/sql?q=WITH+mytable+AS+%28SELECT+fao.iso%2C+fao.name%2C+fao.forest_primary%2C+fao.extent+forest_extent%2C+a.land+as+area_ha+FROM+gfw2_countries+as+fao+INNER+JOIN+umd_nat_staging+as+a+ON+fao.iso%3Da.iso+WHERE+fao.forest_primary+%3E+0+AND+a.year+%3D+2001+AND+a.thresh+%3D+30%29%2C+rank+AS+%28+SELECT+forest_extent+%2A+%28forest_primary%2F100%29%2Farea_ha+%2A+100+as+percent_primary+%2Ciso+from+mytable+ORDER+BY+percent_primary+DESC%29%2C+item+as+%28select+percent_primary+from+rank+where+iso+%3D+%27BRA%27%29+select+count%28%2A%29+as+rank+from+rank+WHERE+percent_primary+%3E+%28select+percent_primary+from+item%29+ \n",
      "\n",
      "{'fields': {'rank': {'type': 'number'}},\n",
      " 'rows': [{'rank': 27}],\n",
      " 'time': 0.037,\n",
      " 'total_rows': 1}\n",
      "27\n"
     ]
    }
   ],
   "source": [
    "## RANK ALL COUNTRIES RELATIVE AMOUNT OF PRIMARY FOREST in 2015 and report that value for a dynamic sentence\n",
    "\n",
    "sql = (\"WITH mytable AS (SELECT fao.iso, fao.name, fao.forest_primary, fao.extent forest_extent, a.land as area_ha \"\n",
    "\"FROM gfw2_countries as fao \"\n",
    "\"INNER JOIN umd_nat_staging as a \"\n",
    "\"ON fao.iso=a.iso \"\n",
    "\"WHERE fao.forest_primary > 0 \"\n",
    "\"AND a.year = 2001 \"\n",
    "\"AND a.thresh = 30), \"\n",
    "\"rank AS ( \"\n",
    "\"SELECT forest_extent * (forest_primary/100)/area_ha * 100 as percent_primary ,iso \"\n",
    "\"from mytable \"\n",
    "\"ORDER BY percent_primary DESC), \"\n",
    "f\"item as (select percent_primary from rank where iso = '{adm0}') \"\n",
    "\"select count(*) as rank \"\n",
    "\"from rank \"\n",
    "\"WHERE percent_primary > (select percent_primary from item) \")\n",
    "\n",
    "account = 'wri-01'\n",
    "urlCarto = \"https://{0}.carto.com/api/v2/sql\".format(account)\n",
    "\n",
    "sql = {\"q\": sql}\n",
    "r = requests.get(urlCarto, params=sql)\n",
    "print(r.url,'\\n')\n",
    "pprint(r.json())\n",
    "\n",
    "rank = r.json().get('rows')[0].get('rank')\n",
    "print(rank)"
   ]
  },
  {
   "cell_type": "code",
   "execution_count": 148,
   "metadata": {
    "ExecuteTime": {
     "end_time": "2017-11-28T15:33:09.161326Z",
     "start_time": "2017-11-28T15:33:09.142467Z"
    }
   },
   "outputs": [
    {
     "name": "stdout",
     "output_type": "stream",
     "text": [
      "FAO data from 2015 shows that Brazil is mostly forest. Primary forest occupies 23.7% of the country. This gives Brazil a rank of 27th out of 110 countries in terms of its relative amount of primary forest.\n"
     ]
    }
   ],
   "source": [
    "# Dyanmic sentence for FAO plot\n",
    "\n",
    "print(f\"FAO data from 2015 shows that {iso_to_countries[adm0]} is \", end=\"\")\n",
    "\n",
    "if  non_forest/fao_percent['area_ha'] > 0.5:\n",
    "    print('mostly non-forest. ', end=\"\")\n",
    "else:\n",
    "    print('mostly forest. ',end=\"\")\n",
    "\n",
    "if primary_forest > 0:\n",
    "    print(f\"Primary forest occupies {primary_forest/fao_percent['area_ha']*100:3.1f}% of the country. \", end=\"\")\n",
    "    print(f\"This gives {iso_to_countries[adm0]} a rank of {rank}th out of 110 countries in terms of \", end=\"\")\n",
    "    print(\"its relative amount of primary forest.\")"
   ]
  },
  {
   "cell_type": "markdown",
   "metadata": {},
   "source": [
    "## TREE COVER LOSS WIDGET \n",
    "\n",
    "The UMD/Hansen Tree cover loss widget should be a bar chart, with time as the x-axis, and loss (ha) as the y-axis, on hover it should show the year, ha loss, and % loss relative to 2000 tree cover extent *for the data table of interest*.\n",
    "\n",
    "** Notes ** \n",
    "\n",
    "* Loss data tables have loss units in both area (ha) and emissions (t co2/ha). The emissions units will only be used in the loss widget to add contextual info to the dynamic sentence.\n",
    "\n",
    "* It is probably best to always request the full time period of data from the table, and then subset it client-side, as we will always need to know the last year of loss to construct the dynamic sentence.\n",
    "\n",
    "* In settings, the users should be able to change the data sources, when they do you will need to query different data tables both for calculating loss and extent (to calculate relative loss):\n",
    "    - All region (default) view: gadm28 table\n",
    "    - all other data tables currently created should be selectable too\n",
    "    \n",
    "*more info - not needed for front-end devs*\n",
    "- for refrence in testing adm0 = BRA, adm1 = 12, adm2 = 1434 is Mato Grosso, Cáceres"
   ]
  },
  {
   "cell_type": "code",
   "execution_count": 149,
   "metadata": {
    "ExecuteTime": {
     "end_time": "2017-11-28T15:33:09.175526Z",
     "start_time": "2017-11-28T15:33:09.165733Z"
    }
   },
   "outputs": [],
   "source": [
    "# Variables\n",
    "\n",
    "threshold=30\n",
    "adm0 = 'BRA'\n",
    "adm1 = None\n",
    "adm2 = None\n",
    "start=2000\n",
    "end=2016\n",
    "location = \"All Region\"\n",
    "\n",
    "loss_data_sources = {'All Region': {'loss':\"88994c38-1ea1-4a32-82ca-073547d11176\",\n",
    "                                    'extent':\"f0e01525-9576-4613-a74b-3290c94047ca\"},\n",
    "                    }\n"
   ]
  },
  {
   "cell_type": "code",
   "execution_count": 150,
   "metadata": {
    "ExecuteTime": {
     "end_time": "2017-11-28T15:33:09.191110Z",
     "start_time": "2017-11-28T15:33:09.178780Z"
    }
   },
   "outputs": [],
   "source": [
    "# get a human readable {id: name} json for either admin 1 or 2 level as needed:\n",
    "\n",
    "areaId_to_name = None\n",
    "if adm2:\n",
    "    tmp = get_admin2_json(iso=adm0, adm1=adm1)\n",
    "    areaId_to_name ={}\n",
    "    for row in tmp:\n",
    "        areaId_to_name[row.get('adm2')] = row.get('name')\n",
    "if adm1 and not adm2:\n",
    "    tmp = get_admin1_json(iso=adm0)\n",
    "    areaId_to_name={}\n",
    "    for row in tmp:\n",
    "        areaId_to_name[row.get('adm1')] = row.get('name') "
   ]
  },
  {
   "cell_type": "code",
   "execution_count": 151,
   "metadata": {
    "ExecuteTime": {
     "end_time": "2017-11-28T15:33:09.212337Z",
     "start_time": "2017-11-28T15:33:09.194776Z"
    }
   },
   "outputs": [],
   "source": [
    "def loss_queries(ds, adm0, start, end, adm1=None, adm2=None, threshold=30):\n",
    "    if adm0 and not adm1 and not adm2:\n",
    "        print(f'Request for adm0 area')\n",
    "        sql = (f\"SELECT year, sum(area) as area, sum(emissions) as emissions \"\n",
    "               f\"FROM {ds} \"\n",
    "               f\"WHERE iso = '{adm0}' \"\n",
    "               f\"AND year => {start} \"\n",
    "               f\"AND year <= {end} \"\n",
    "               f\"AND thresh={threshold} \"\n",
    "               \"GROUP BY year \")\n",
    "    elif adm0 and adm1 and not adm2:\n",
    "        print('Request for  adm1 area')\n",
    "        sql = (f\"SELECT year, sum(area) as area, sum(emissions) as emissions \"\n",
    "               f\"FROM {ds} WHERE iso = '{adm0}' \"\n",
    "               f\"AND adm1 = {adm1} \"\n",
    "               f\"AND year => {start} \"\n",
    "               f\"AND year <= {end} \"\n",
    "               f\"AND thresh= {threshold} \"\n",
    "               \"GROUP BY year \")\n",
    "    elif adm0 and adm1 and adm2:\n",
    "        print('Request for  adm2 area')\n",
    "        sql = (f\"SELECT year, sum(area) as area, sum(emissions) as emissions \"\n",
    "               f\"FROM {ds} WHERE iso = '{adm0}' \"\n",
    "               f\"AND adm1 = {adm1} \"\n",
    "               f\"AND adm2 = {adm2} \"\n",
    "               f\"AND year => {start} \"\n",
    "               f\"AND year <= {end} \"\n",
    "               f\"AND thresh= {threshold} \"\n",
    "               \"GROUP BY year \")\n",
    "    return sql"
   ]
  },
  {
   "cell_type": "markdown",
   "metadata": {},
   "source": [
    "Loss on hover should show % loss relative to Tree cover extent in the year 2010, over the appropriate\n",
    "region. I.e. if someone is interested in the 'All region' default view, then the loss should come from the `gadm28 loss` table, and the extent (to calculate the relative loss) should come from the `gadm28 extent` table.\n",
    "\n",
    "Therefore we must calculate loss % also."
   ]
  },
  {
   "cell_type": "code",
   "execution_count": 152,
   "metadata": {
    "ExecuteTime": {
     "end_time": "2017-11-28T15:33:09.347827Z",
     "start_time": "2017-11-28T15:33:09.215957Z"
    }
   },
   "outputs": [
    {
     "name": "stdout",
     "output_type": "stream",
     "text": [
      "Request for adm0 area\n",
      "SELECT SUM(area) as value FROM f0e01525-9576-4613-a74b-3290c94047ca WHERE iso = 'BRA' AND thresh = 30\n",
      "https://staging-api.globalforestwatch.org/query?sql=SELECT+SUM%28area%29+as+value+FROM+f0e01525-9576-4613-a74b-3290c94047ca+WHERE+iso+%3D+%27BRA%27+AND+thresh+%3D+30\n",
      "Status: 200\n",
      "{'data': [{'value': 244872188.7236061}],\n",
      " 'meta': {'cloneUrl': {'body': {'dataset': {'application': ['your', 'apps'],\n",
      "                                            'datasetUrl': '/v1/query/f0e01525-9576-4613-a74b-3290c94047ca'}},\n",
      "                       'http_method': 'POST',\n",
      "                       'url': '/v1/dataset/f0e01525-9576-4613-a74b-3290c94047ca/clone'}}}\n",
      "Request for adm0 area\n",
      "SELECT year, sum(area) as area, sum(emissions) as emissions FROM 88994c38-1ea1-4a32-82ca-073547d11176 WHERE iso = 'BRA' AND year => 2000 AND year <= 2016 AND thresh=30 GROUP BY year \n",
      "https://staging-api.globalforestwatch.org/query?sql=SELECT+year%2C+sum%28area%29+as+area%2C+sum%28emissions%29+as+emissions+FROM+88994c38-1ea1-4a32-82ca-073547d11176+WHERE+iso+%3D+%27BRA%27+AND+year+%3D%3E+2000+AND+year+%3C%3D+2016+AND+thresh%3D30+GROUP+BY+year+\n",
      "Status: 200\n",
      "{'data': [{'area': 2743646, 'emissions': 451662674, 'year': 2001},\n",
      "          {'area': 3504343, 'emissions': 599104504, 'year': 2002},\n",
      "          {'area': 3245861, 'emissions': 540572102, 'year': 2003},\n",
      "          {'area': 3846083, 'emissions': 676406325, 'year': 2004},\n",
      "          {'area': 3483878, 'emissions': 644550740, 'year': 2005},\n",
      "          {'area': 2874114, 'emissions': 513805002, 'year': 2006},\n",
      "          {'area': 2619106, 'emissions': 437501960, 'year': 2007},\n",
      "          {'area': 2441599, 'emissions': 421134110, 'year': 2008},\n",
      "          {'area': 1815228, 'emissions': 309399263, 'year': 2009},\n",
      "          {'area': 2686190, 'emissions': 455310957, 'year': 2010},\n",
      "          {'area': 1920608, 'emissions': 323012336, 'year': 2011},\n",
      "          {'area': 2915884, 'emissions': 464004986, 'year': 2012},\n",
      "          {'area': 1942832, 'emissions': 299304381, 'year': 2013},\n",
      "          {'area': 2690455, 'emissions': 414297899, 'year': 2014},\n",
      "          {'area': 2220186, 'emissions': 347406840, 'year': 2015},\n",
      "          {'area': 5376186, 'emissions': 961582786, 'year': 2016}],\n",
      " 'meta': {'cloneUrl': {'body': {'dataset': {'application': ['your', 'apps'],\n",
      "                                            'datasetUrl': '/v1/query/88994c38-1ea1-4a32-82ca-073547d11176'}},\n",
      "                       'http_method': 'POST',\n",
      "                       'url': '/v1/dataset/88994c38-1ea1-4a32-82ca-073547d11176/clone'}}}\n",
      "{2001: {'area_%': 1.1204400198737259,\n",
      "        'area_ha': 2743646,\n",
      "        'emissions': 451662674},\n",
      " 2002: {'area_%': 1.4310906511132822,\n",
      "        'area_ha': 3504343,\n",
      "        'emissions': 599104504},\n",
      " 2003: {'area_%': 1.3255327266518173,\n",
      "        'area_ha': 3245861,\n",
      "        'emissions': 540572102},\n",
      " 2004: {'area_%': 1.5706491701028484,\n",
      "        'area_ha': 3846083,\n",
      "        'emissions': 676406325},\n",
      " 2005: {'area_%': 1.422733230000385,\n",
      "        'area_ha': 3483878,\n",
      "        'emissions': 644550740},\n",
      " 2006: {'area_%': 1.1737200598325563,\n",
      "        'area_ha': 2874114,\n",
      "        'emissions': 513805002},\n",
      " 2007: {'area_%': 1.069580834659936,\n",
      "        'area_ha': 2619106,\n",
      "        'emissions': 437501960},\n",
      " 2008: {'area_%': 0.997091181618791,\n",
      "        'area_ha': 2441599,\n",
      "        'emissions': 421134110},\n",
      " 2009: {'area_%': 0.7412961061286127,\n",
      "        'area_ha': 1815228,\n",
      "        'emissions': 309399263},\n",
      " 2010: {'area_%': 1.09697635080641, 'area_ha': 2686190, 'emissions': 455310957},\n",
      " 2011: {'area_%': 0.7843308013095119,\n",
      "        'area_ha': 1920608,\n",
      "        'emissions': 323012336},\n",
      " 2012: {'area_%': 1.190777938155826,\n",
      "        'area_ha': 2915884,\n",
      "        'emissions': 464004986},\n",
      " 2013: {'area_%': 0.7934065563455748,\n",
      "        'area_ha': 1942832,\n",
      "        'emissions': 299304381},\n",
      " 2014: {'area_%': 1.0987180757537107,\n",
      "        'area_ha': 2690455,\n",
      "        'emissions': 414297899},\n",
      " 2015: {'area_%': 0.9066713584636531,\n",
      "        'area_ha': 2220186,\n",
      "        'emissions': 347406840},\n",
      " 2016: {'area_%': 2.195506981835429,\n",
      "        'area_ha': 5376186,\n",
      "        'emissions': 961582786}}\n"
     ]
    }
   ],
   "source": [
    "url = \"https://staging-api.globalforestwatch.org/query\"\n",
    "\n",
    "# First, get the 2010 tree cover extent for your area of interest\n",
    "sql = extent_queries(ds=loss_data_sources.get(location).get('extent'),\n",
    "                     adm0=adm0, adm1=adm1, adm2=adm2, threshold=threshold)\n",
    "print(sql)  # 2010 extent query\n",
    "properties = {\"sql\": sql}\n",
    "r = requests.get(url, params = properties)\n",
    "print(r.url)\n",
    "print(f'Status: {r.status_code}')\n",
    "pprint(r.json())\n",
    "y2010_relative_extent = r.json().get('data')[0].get('value')\n",
    "\n",
    "\n",
    "# Next, get the loss data grouped by year\n",
    "sql = loss_queries(ds=loss_data_sources.get(location).get('loss'), adm0=adm0, start=start, end=end, \n",
    "                   adm1=adm1, adm2=adm2, threshold=threshold)    \n",
    "print(sql) # loss query\n",
    "properties = {\"sql\": sql}\n",
    "r = requests.get(url, params = properties)\n",
    "print(r.url)\n",
    "print(f'Status: {r.status_code}')\n",
    "pprint(r.json())\n",
    "\n",
    "# Extract the year, and loss in hectares, and emissions units, and calculate the relative loss in %\n",
    "d = {}\n",
    "for row in r.json().get('data'):\n",
    "    d[row.get('year')] = {'area_ha': row.get('area'),\n",
    "                          'area_%': row.get('area')/y2010_relative_extent * 100,\n",
    "                          'emissions': row.get('emissions'),\n",
    "                          }\n",
    "pprint(d)"
   ]
  },
  {
   "cell_type": "code",
   "execution_count": 153,
   "metadata": {
    "ExecuteTime": {
     "end_time": "2017-11-28T15:33:09.580507Z",
     "start_time": "2017-11-28T15:33:09.351964Z"
    }
   },
   "outputs": [
    {
     "data": {
      "image/png": "[encoded data removed]",
      "text/plain": [
       "<matplotlib.figure.Figure at 0x11be05400>"
      ]
     },
     "metadata": {},
     "output_type": "display_data"
    }
   ],
   "source": [
    "if adm0 and not adm1 and not adm2:\n",
    "    dynamic_title = (f'{iso_to_countries[adm0]} tree cover loss')\n",
    "if adm0 and adm1 and not adm2: \n",
    "    dynamic_title = (f\"{areaId_to_name[adm1]} tree cover loss\")\n",
    "if adm0 and adm1 and adm2:\n",
    "    dynamic_title = (f\"{areaId_to_name[adm2]} tree cover loss\")\n",
    "\n",
    "\n",
    "loss = [val.get('area_ha') for val in d.values()]\n",
    "years = d.keys()\n",
    "width = 0.35\n",
    "fig, ax = plt.subplots()\n",
    "rects1 = ax.bar(years, loss, width, color='#FE5A8D')\n",
    "\n",
    "\n",
    "# add some text for labels, title and axes ticks\n",
    "ax.set_ylabel('Loss extent (ha)')\n",
    "ax.set_title(dynamic_title)\n",
    "plt.show()"
   ]
  },
  {
   "cell_type": "markdown",
   "metadata": {
    "ExecuteTime": {
     "end_time": "2017-11-24T12:06:43.865123Z",
     "start_time": "2017-11-24T12:06:43.860546Z"
    }
   },
   "source": [
    "** ISSUE **\n",
    "\n",
    "* How is there plantations loss over such a long period? (I was expecting it to start in 2013 only...)\n",
    "\n",
    "I need to check this with Charlie before I construct the plantations (inside/outside stacked bar version).\n",
    "\n",
    "** build the dynamic sentence itself for the Tree cover loss widget **\n",
    "\n",
    "Charlie has confirmed that he has simply intersected hansen data with available polygons. This approach will produce data for times when it doesnt make sense that it exists: need to account for this - do not enable plantation loss before 2013."
   ]
  },
  {
   "cell_type": "markdown",
   "metadata": {},
   "source": [
    "#### Dynamic sentence \n",
    "\n",
    "For the loss widget we also need a dynamic sentence."
   ]
  },
  {
   "cell_type": "code",
   "execution_count": 154,
   "metadata": {
    "ExecuteTime": {
     "end_time": "2017-11-28T15:33:09.605230Z",
     "start_time": "2017-11-28T15:33:09.583594Z"
    }
   },
   "outputs": [
    {
     "name": "stdout",
     "output_type": "stream",
     "text": [
      "2001 451662674 2743646\n",
      "2002 599104504 3504343\n",
      "2003 540572102 3245861\n",
      "2004 676406325 3846083\n",
      "2005 644550740 3483878\n",
      "2006 513805002 2874114\n",
      "2007 437501960 2619106\n",
      "2008 421134110 2441599\n",
      "2009 309399263 1815228\n",
      "2010 455310957 2686190\n",
      "2011 323012336 1920608\n",
      "2012 464004986 2915884\n",
      "2013 299304381 1942832\n",
      "2014 414297899 2690455\n",
      "2015 347406840 2220186\n",
      "2016 961582786 5376186\n"
     ]
    }
   ],
   "source": [
    "for year in d:\n",
    "    print(year, d.get(year).get('emissions'), d.get(year).get('area_ha'))"
   ]
  },
  {
   "cell_type": "code",
   "execution_count": 155,
   "metadata": {
    "ExecuteTime": {
     "end_time": "2017-11-28T15:33:09.617973Z",
     "start_time": "2017-11-28T15:33:09.608218Z"
    }
   },
   "outputs": [
    {
     "name": "stdout",
     "output_type": "stream",
     "text": [
      "[7859056865, 46326199]\n"
     ]
    }
   ],
   "source": [
    "# First find total emissions, and loss, and also the last year of emissions and loss\n",
    "\n",
    "total_emissions = 0\n",
    "total_loss = 0\n",
    "for year in d:\n",
    "    total_loss += d.get(year).get('area_ha')\n",
    "    total_emissions += d.get(year).get('emissions')\n",
    "\n",
    "print([total_emissions, total_loss])"
   ]
  },
  {
   "cell_type": "code",
   "execution_count": 156,
   "metadata": {
    "ExecuteTime": {
     "end_time": "2017-11-28T15:33:09.643673Z",
     "start_time": "2017-11-28T15:33:09.621208Z"
    }
   },
   "outputs": [
    {
     "name": "stdout",
     "output_type": "stream",
     "text": [
      "Between 2000 and 2016, Brazil (all region) lost 46,326,199 ha of tree cover: This loss is equal to 18.92% of the total all region tree cover extent in 2010, and equivalent to 7,859,056,865 tonnes of CO₂ emissions. "
     ]
    }
   ],
   "source": [
    "# Dynamic sentence construction\n",
    "\n",
    "if adm0 and not adm1 and not adm2:\n",
    "    print(f\"Between {start} and {end}, {iso_to_countries[adm0]} ({location.lower()}) \", end=\"\")\n",
    "if adm0 and adm1 and not adm2: \n",
    "    print(f\"Between {start} and {end},  {location} of {areaId_to_name[adm1].lower()} \", end=\"\")\n",
    "if adm0 and adm1 and adm2:\n",
    "    print(f\"Between {start} and {end}, {location} of {areaId_to_name[adm2].lower()} \", end=\"\")\n",
    "    \n",
    "print(f\"lost {total_loss:,.0f} ha of tree cover: \", end=\"\")\n",
    "print(f\"This loss is equal to {total_loss / y2010_relative_extent * 100:3.2f}% of the total \", end=\"\")\n",
    "print(f\"{location.lower()} tree cover extent in 2010, \", end=\"\")\n",
    "print(f\"and equivalent to {total_emissions:,.0f} tonnes of CO\\u2082 emissions. \", end=\"\")"
   ]
  },
  {
   "cell_type": "markdown",
   "metadata": {
    "ExecuteTime": {
     "end_time": "2017-11-24T12:43:42.896404Z",
     "start_time": "2017-11-24T12:43:42.701528Z"
    }
   },
   "source": [
    "## HEADER DYNAMIC SENTENCE\n",
    "\n",
    "The page header needs to contain a dynamic sentence; this sentence is built from the same data tables (and most of the same queries) that we have already used. (Which is why I am describing it here, rather than at the start of the notebook.)\n",
    "\n",
    "The sentence should be able to account for edge cases where no loss occured (as people will end up looking at admin 2 areas) which may be relativley small, and possibly have no loss.\n",
    "\n",
    "Be prepared for the need to increase the complexity/comprehensivness of the header sentence over time."
   ]
  },
  {
   "cell_type": "code",
   "execution_count": 157,
   "metadata": {
    "ExecuteTime": {
     "end_time": "2017-11-28T15:33:09.657230Z",
     "start_time": "2017-11-28T15:33:09.648222Z"
    }
   },
   "outputs": [],
   "source": [
    "def extract_loss(json_data, last_year=2016):\n",
    "    \"\"\"Grab the last loss year of data for area and emissions\"\"\"\n",
    "    for row in json_data:\n",
    "        if row.get('year') == last_year:\n",
    "            last_loss = row.get('area')\n",
    "            last_emissions = row.get('emissions')\n",
    "    return {'area':last_loss, 'emissions':last_emissions}"
   ]
  },
  {
   "cell_type": "code",
   "execution_count": 158,
   "metadata": {
    "ExecuteTime": {
     "end_time": "2017-11-28T15:33:09.665401Z",
     "start_time": "2017-11-28T15:33:09.659738Z"
    }
   },
   "outputs": [],
   "source": [
    "last_year = 2016\n",
    "threshold = 30\n",
    "adm0 = 'BRA'\n",
    "adm1 = 14\n",
    "adm2 = None"
   ]
  },
  {
   "cell_type": "code",
   "execution_count": 169,
   "metadata": {
    "ExecuteTime": {
     "end_time": "2017-11-28T16:04:59.918261Z",
     "start_time": "2017-11-28T16:04:59.850437Z"
    }
   },
   "outputs": [],
   "source": [
    "# get a human readable {id: name} json for either admin 1 or 2 level as needed:\n",
    "\n",
    "areaId_to_name = None\n",
    "if adm2:\n",
    "    tmp = get_admin2_json(iso=adm0, adm1=adm1)\n",
    "    areaId_to_name ={}\n",
    "    for row in tmp:\n",
    "        areaId_to_name[row.get('adm2')] = row.get('name')\n",
    "if adm1 and not adm2:\n",
    "    tmp = get_admin1_json(iso=adm0)\n",
    "    areaId_to_name={}\n",
    "    for row in tmp:\n",
    "        areaId_to_name[row.get('adm1')] = row.get('name') "
   ]
  },
  {
   "cell_type": "code",
   "execution_count": 170,
   "metadata": {
    "ExecuteTime": {
     "end_time": "2017-11-28T16:05:01.077756Z",
     "start_time": "2017-11-28T16:05:01.053084Z"
    }
   },
   "outputs": [
    {
     "name": "stdout",
     "output_type": "stream",
     "text": [
      "Request for  adm1 area\n",
      "https://staging-api.globalforestwatch.org/query?sql=SELECT+year%2C+sum%28area%29+as+area%2C+sum%28emissions%29+as+emissions+FROM+17a7970a-23ba-45ab-8004-37090b4e2502+WHERE+iso+%3D+%27BRA%27+AND+adm1+%3D+14+AND+year+%3D%3E+2000+AND+year+%3C%3D+2016+AND+thresh%3D+30+GROUP+BY+year+\n",
      "Status: 200\n",
      "{'area': 6235.476380214095, 'emissions': 923635.0995073318}\n"
     ]
    }
   ],
   "source": [
    "# Get the plantation last year data for the region of interest\n",
    "plantation_loss_table = \"17a7970a-23ba-45ab-8004-37090b4e2502\"\n",
    "\n",
    "sql = loss_queries(ds=plantation_loss_table, adm0=adm0, adm1=adm1, adm2=adm2,\n",
    "             threshold=threshold, start=start, end = end)\n",
    "\n",
    "properties = {\"sql\": sql}\n",
    "r = requests.get(url, params = properties)\n",
    "print(r.url)\n",
    "print(f'Status: {r.status_code}')\n",
    "\n",
    "plantation_loss_json = r.json().get('data')\n",
    "plantation_values = extract_loss(plantation_loss_json, last_year=last_year)\n",
    "print(plantation_values)"
   ]
  },
  {
   "cell_type": "code",
   "execution_count": 171,
   "metadata": {
    "ExecuteTime": {
     "end_time": "2017-11-28T16:05:04.210191Z",
     "start_time": "2017-11-28T16:05:04.187722Z"
    }
   },
   "outputs": [
    {
     "name": "stdout",
     "output_type": "stream",
     "text": [
      "Request for  adm1 area\n",
      "https://staging-api.globalforestwatch.org/query?sql=SELECT+year%2C+sum%28area%29+as+area%2C+sum%28emissions%29+as+emissions+FROM+88994c38-1ea1-4a32-82ca-073547d11176+WHERE+iso+%3D+%27BRA%27+AND+adm1+%3D+14+AND+year+%3D%3E+2000+AND+year+%3C%3D+2016+AND+thresh%3D+30+GROUP+BY+year+\n",
      "Status: 200\n",
      "{'area': 1573195, 'emissions': 351252336}\n"
     ]
    }
   ],
   "source": [
    "# Get the gadm28 loss \n",
    "gadm28_loss_table = \"88994c38-1ea1-4a32-82ca-073547d11176\"\n",
    "\n",
    "sql = loss_queries(ds=gadm28_loss_table, adm0=adm0, adm1=adm1, adm2=adm2,\n",
    "             threshold=threshold, start=start, end = end)\n",
    "\n",
    "properties = {\"sql\": sql}\n",
    "r = requests.get(url, params = properties)\n",
    "print(r.url)\n",
    "print(f'Status: {r.status_code}')\n",
    "\n",
    "plantation_loss_json = r.json().get('data')\n",
    "gadm28_values = extract_loss(plantation_loss_json, last_year=last_year)\n",
    "print(gadm28_values)"
   ]
  },
  {
   "cell_type": "code",
   "execution_count": 172,
   "metadata": {
    "ExecuteTime": {
     "end_time": "2017-11-28T16:05:04.623806Z",
     "start_time": "2017-11-28T16:05:04.597623Z"
    }
   },
   "outputs": [
    {
     "name": "stdout",
     "output_type": "stream",
     "text": [
      "Request for adm1 area\n",
      "https://wri-01.carto.com/api/v2/sql?q=SELECT+land+as+value+FROM+umd_subnat_staging+WHERE+iso+%3D+%27BRA%27++AND+id1+%3D+14++AND+year+%3D+2001++and+thresh+%3D+30+ \n",
      "\n",
      "{'fields': {'value': {'type': 'number'}},\n",
      " 'rows': [{'value': 125384972.642}],\n",
      " 'time': 0.103,\n",
      " 'total_rows': 1}\n"
     ]
    }
   ],
   "source": [
    "# Get total land area (ha) of selected region\n",
    "\n",
    "sql = area_queries(adm0=adm0, adm1=adm1, adm2=adm2)\n",
    "\n",
    "account = 'wri-01'\n",
    "urlCarto = \"https://{0}.carto.com/api/v2/sql\".format(account)\n",
    "\n",
    "sql = {\"q\": sql}\n",
    "r = requests.get(urlCarto, params=sql)\n",
    "print(r.url,'\\n')\n",
    "pprint(r.json())\n",
    "\n",
    "total_area = r.json().get('rows')[0].get('value')\n",
    "#print(f\"\\n {total_area} ha total area selected\")"
   ]
  },
  {
   "cell_type": "code",
   "execution_count": 173,
   "metadata": {
    "ExecuteTime": {
     "end_time": "2017-11-28T16:05:06.716155Z",
     "start_time": "2017-11-28T16:05:06.684410Z"
    }
   },
   "outputs": [
    {
     "name": "stdout",
     "output_type": "stream",
     "text": [
      "Request for  adm1 area\n",
      "https://staging-api.globalforestwatch.org/query?sql=SELECT+SUM%28area%29+as+value+FROM+f0e01525-9576-4613-a74b-3290c94047ca+WHERE+iso+%3D+%27BRA%27+AND+adm1+%3D+14+AND+thresh+%3D+30\n",
      "Status: 200\n",
      "{'data': [{'value': 61655195.54589844}],\n",
      " 'meta': {'cloneUrl': {'body': {'dataset': {'application': ['your', 'apps'],\n",
      "                                            'datasetUrl': '/v1/query/f0e01525-9576-4613-a74b-3290c94047ca'}},\n",
      "                       'http_method': 'POST',\n",
      "                       'url': '/v1/dataset/f0e01525-9576-4613-a74b-3290c94047ca/clone'}}}\n",
      "\n",
      "BRA 14 None Gadm28 Tree cover extent = 61655195.54589844 ha\n"
     ]
    }
   ],
   "source": [
    "# Get 2010 tree cover extent of selected area from gadm28 table \n",
    "ds = \"f0e01525-9576-4613-a74b-3290c94047ca\"\n",
    "sql = extent_queries(ds=ds, adm0=adm0, adm1=adm1, adm2=adm2, threshold=threshold)\n",
    "r = requests.get(url, params = {\"sql\": sql})\n",
    "\n",
    "print(r.url)\n",
    "print(f'Status: {r.status_code}')\n",
    "pprint(r.json())\n",
    "\n",
    "try:\n",
    "    tree_cover_extent_2010 = r.json().get('data')[0].get('value')\n",
    "except:\n",
    "    tree_cover_extent_2010 = 0.0\n",
    "print(f\"\\n{adm0} {adm1} {adm2} Gadm28 Tree cover extent = {tree_cover_extent_2010} ha\")\n"
   ]
  },
  {
   "cell_type": "code",
   "execution_count": 174,
   "metadata": {
    "ExecuteTime": {
     "end_time": "2017-11-28T16:05:25.639872Z",
     "start_time": "2017-11-28T16:05:25.604298Z"
    }
   },
   "outputs": [
    {
     "name": "stdout",
     "output_type": "stream",
     "text": [
      "In 2010, Pará had 61,655,195 ha of tree cover, extending over 49.2% of its land area. In 2016, it lost 1,566,959 ha of forest excluding tree plantations, equivalent to 350,328,700 tonnes of CO₂ of emissions.\n"
     ]
    }
   ],
   "source": [
    "# DYNAMIC SENTENCE\n",
    "\n",
    "\n",
    "if adm0 and not adm1 and not adm2:\n",
    "    print(f\"In 2010, {iso_to_countries[adm0]} had {int(tree_cover_extent_2010):,.0f} ha of tree cover\", end=\"\")     \n",
    "if adm0 and adm1 and not adm2: \n",
    "    print(f\"In 2010, {areaId_to_name[adm1]} had {int(tree_cover_extent_2010):,.0f} ha of tree cover\", end=\"\")\n",
    "if adm0 and adm1 and adm2:\n",
    "    print(f\"In 2010, {areaId_to_name[adm2]} had {int(tree_cover_extent_2010):,.0f} ha of tree cover\", end=\"\")\n",
    "\n",
    "percent_cover = tree_cover_extent_2010/total_area*100\n",
    "if percent_cover > 0:\n",
    "    print(f\", extending over {percent_cover:3.1f}% of its land area. \", end=\"\")\n",
    "else:\n",
    "    print(\". \")\n",
    "\n",
    "# beware we could have areas with no plantations\n",
    "try:\n",
    "    loss_area = int(gadm28_values['area'] - plantation_values['area'])\n",
    "except:\n",
    "    loss_area = 0\n",
    "    \n",
    "print(f\"In {last_year}, \",end=\"\")\n",
    "\n",
    "if loss_area > 0:\n",
    "    print(f\"it lost {loss_area:,.0f} ha \"\n",
    "          \"of forest excluding tree plantations, equivalent to \"\n",
    "          f\"{int(gadm28_values['emissions'] - plantation_values['emissions']):,.0f} \"\n",
    "          \"tonnes of CO\\u2082 of emissions.\")\n",
    "else:\n",
    "    print(\"it lost no tree cover (excluding tree plantations).\")"
   ]
  },
  {
   "cell_type": "markdown",
   "metadata": {
    "ExecuteTime": {
     "end_time": "2017-11-28T09:26:01.827563Z",
     "start_time": "2017-11-28T09:26:01.820034Z"
    }
   },
   "source": [
    "# Tree Cover gain widget\n",
    "\n",
    "1. Widgets made entireley from a dynamic sentence\n",
    "2. User Variables (admin0 to admin1 and location)\n",
    "3. Datasets (All GAIN datasets)\n",
    "\n",
    "\n",
    "** LOCATION Area Selectors **\n",
    "\n",
    "    - All region (GADM from admin-0 to admin-2 level)\n",
    "    - Biodiversity Hotspots\n",
    "    - Protected Areas\n",
    "    - Plantations\n",
    "    - Managed Forests\n",
    "    - Primary Forests\n",
    "    - Intact Forests (2000/2013)\n",
    "\n",
    "** Notes **\n",
    "\n",
    "- AOI (area of interest) is the gadm region (admin0-2)\n",
    "- location is the subset of that (i.e protected areas)\n",
    "- Threshold is not a variable in this widget (it should be hardcoded in the queries and must be set to `thresh = 0`)"
   ]
  },
  {
   "cell_type": "code",
   "execution_count": 164,
   "metadata": {
    "ExecuteTime": {
     "end_time": "2017-11-28T15:33:12.992604Z",
     "start_time": "2017-11-28T15:33:12.964094Z"
    }
   },
   "outputs": [],
   "source": [
    "# Variables\n",
    "adm0 = 'BRA'\n",
    "adm1 = 14\n",
    "adm2 = None\n",
    "\n",
    "location = \"Tree Plantations\"\n",
    "\n",
    "#DATASET dictionary\n",
    "managed_forests_coverage = ['CMR','CAN','CAF', 'COD','GNQ','GAB','IDN','LBR','COG']\n",
    "\n",
    "gain_datasource = {\n",
    "                    'All Region': {'gain' : \"e78a9c36-ed15-467a-babd-0a5ac21d07d7\",\n",
    "                                    'extent': \"f0e01525-9576-4613-a74b-3290c94047ca\"},\n",
    "                    'Protected Areas': {'gain' : \"23519a73-f4b8-4bb6-8a6a-1d84c38debca\",\n",
    "                                         'extent' : \"8d7e23ec-bc8c-4434-bc6a-6ce40459b424\"},\n",
    "                    'Tree Plantations': {'gain' : \"94a883de-4eb4-4be8-a05f-c77ea8d9c6a3\",\n",
    "                                         'extent' : \"9b617bbb-b99b-4543-832d-665adeec3341\"},\n",
    "                    'Biodiversity Hotspots': {'gain' : \"bd061864-8efb-41a7-8ba0-6f4d25ed1fd8\",\n",
    "                                              'extent' : \"6c00c104-a75b-4b0b-9c33-0d0aa29cdf93\"},\n",
    "                    'Managed Rainforests': { 'gain' : \"c88957d7-4635-4fb7-b729-db565122529d\",\n",
    "                                             'extent' : \"f9e40f0f-4f9f-4d93-957d-1fa15dd29333\"},\n",
    "                    'Primary Forests' : { 'gain' : \"fd3b3a12-121e-4189-96a3-d8c26b70952d\",\n",
    "                                          'extent' : \"b987b360-190e-4560-a632-03946347d226\"},\n",
    "                    'Intact Forests (2000)' : { 'gain' : \"27ed6d3c-89e8-4087-aa78-1b6619c0e8d5\",\n",
    "                                                'extent' : \"1676bb7f-a858-4298-8faa-c85cb169ca20\"},\n",
    "                    'Intact Forests (2013)' : { 'gain' : \"19be9cf6-3dfc-4b77-b95e-39a6751e55bf\",\n",
    "                                                'extent' : \"2cfc35b0-aa9b-4939-8265-ee643b3afeb5\"}\n",
    "                    }\n",
    "\n",
    "\n",
    "url = \"https://staging-api.globalforestwatch.org/query\""
   ]
  },
  {
   "cell_type": "code",
   "execution_count": 165,
   "metadata": {
    "ExecuteTime": {
     "end_time": "2017-11-28T15:33:13.028029Z",
     "start_time": "2017-11-28T15:33:12.997696Z"
    }
   },
   "outputs": [],
   "source": [
    "# get admin 1 or 2 level human-readable name info as needed:\n",
    "areaId_to_name = None\n",
    "if adm2:\n",
    "    tmp = get_admin2_json(iso=adm0, adm1=adm1)\n",
    "    areaId_to_name ={}\n",
    "    for row in tmp:\n",
    "        areaId_to_name[row.get('adm2')] = row.get('name')\n",
    "if adm1 and not adm2:\n",
    "    tmp = get_admin1_json(iso=adm0)\n",
    "    areaId_to_name={}\n",
    "    for row in tmp:\n",
    "        areaId_to_name[row.get('adm1')] = row.get('name') "
   ]
  },
  {
   "cell_type": "code",
   "execution_count": 166,
   "metadata": {
    "ExecuteTime": {
     "end_time": "2017-11-28T15:33:13.051222Z",
     "start_time": "2017-11-28T15:33:13.032481Z"
    }
   },
   "outputs": [],
   "source": [
    "#GAIN QUERY\n",
    "\n",
    "def gain_query(ds, adm0, adm1=None, adm2 = None):\n",
    "    \"\"\"Queries for the gain tables. Note, threshold must be hardcoded to 0\n",
    "        and that will not change.\n",
    "    \"\"\"\n",
    "    if adm0 and not adm1 and not adm2:\n",
    "        print('Request for adm0 area')\n",
    "        sql = (f\"SELECT SUM(area) as value FROM {ds} WHERE iso = '{adm0}' \"\n",
    "               f\"AND thresh = 0\")\n",
    "    elif adm0 and adm1 and not adm2:\n",
    "        print('Request for  adm1 area')\n",
    "        sql = (f\"SELECT SUM(area) as value FROM {ds} WHERE iso = '{adm0}' \"\n",
    "               f\"AND adm1 = {adm1} AND thresh = 0\")\n",
    "    elif adm0 and adm1 and adm2:\n",
    "        print('Request for  adm2 area')\n",
    "        sql = (f\"SELECT area as value FROM {ds} WHERE iso = '{adm0}' \"\n",
    "               f\"AND adm1 = {adm1} AND adm2 = {adm2} AND thresh = 0\") \n",
    "    return sql"
   ]
  },
  {
   "cell_type": "code",
   "execution_count": 167,
   "metadata": {
    "ExecuteTime": {
     "end_time": "2017-11-28T15:33:13.129949Z",
     "start_time": "2017-11-28T15:33:13.054858Z"
    }
   },
   "outputs": [
    {
     "name": "stdout",
     "output_type": "stream",
     "text": [
      "Request for  adm1 area\n",
      "https://staging-api.globalforestwatch.org/query?sql=SELECT+SUM%28area%29+as+value+FROM+94a883de-4eb4-4be8-a05f-c77ea8d9c6a3+WHERE+iso+%3D+%27BRA%27+AND+adm1+%3D+14+AND+thresh+%3D+0\n",
      "{'data': [{'value': 103757}],\n",
      " 'meta': {'cloneUrl': {'body': {'dataset': {'application': ['your', 'apps'],\n",
      "                                            'datasetUrl': '/v1/query/94a883de-4eb4-4be8-a05f-c77ea8d9c6a3'}},\n",
      "                       'http_method': 'POST',\n",
      "                       'url': '/v1/dataset/94a883de-4eb4-4be8-a05f-c77ea8d9c6a3/clone'}}}\n",
      "Request for  adm1 area\n",
      "https://staging-api.globalforestwatch.org/query?sql=SELECT+SUM%28area%29+as+value+FROM+9b617bbb-b99b-4543-832d-665adeec3341+WHERE+iso+%3D+%27BRA%27+AND+adm1+%3D+14+AND+thresh+%3D+0\n",
      "{'data': [{'value': 264324.434761405}],\n",
      " 'meta': {'cloneUrl': {'body': {'dataset': {'application': ['your', 'apps'],\n",
      "                                            'datasetUrl': '/v1/query/9b617bbb-b99b-4543-832d-665adeec3341'}},\n",
      "                       'http_method': 'POST',\n",
      "                       'url': '/v1/dataset/9b617bbb-b99b-4543-832d-665adeec3341/clone'}}}\n"
     ]
    }
   ],
   "source": [
    "# gain query\n",
    "sql = gain_query(ds=gain_datasource.get(location).get('gain'), adm0=adm0, adm1=adm1, adm2=adm2)\n",
    "r1 = requests.get(url, params = {\"sql\": sql})\n",
    "\n",
    "try:\n",
    "    tree_cover_gain_2010 = r1.json().get('data')[0].get('value')\n",
    "except:\n",
    "    tree_cover_gain_2010 = 0.0\n",
    "print(r1.url)    \n",
    "pprint(r1.json())\n",
    "\n",
    "\n",
    "# Total Extent query\n",
    "sql = gain_query(ds=gain_datasource.get(location).get('extent'), adm0=adm0, adm1=adm1, adm2=adm2)\n",
    "r2 = requests.get(url, params = {\"sql\": sql})\n",
    "print(r2.url)\n",
    "pprint(r2.json())\n",
    "\n",
    "total_area = r2.json().get('data')[0].get('value')\n",
    "area_percent = round((100 * tree_cover_gain_2010 / total_area), 2)"
   ]
  },
  {
   "cell_type": "code",
   "execution_count": 168,
   "metadata": {
    "ExecuteTime": {
     "end_time": "2017-11-28T15:33:13.174756Z",
     "start_time": "2017-11-28T15:33:13.138359Z"
    }
   },
   "outputs": [
    {
     "name": "stdout",
     "output_type": "stream",
     "text": [
      "From 2001 to 2012, Pará gained 264,324 ha of tree cover in tree plantations, equivalent to a 39.25% increase relative to 2010 tree cover extent."
     ]
    }
   ],
   "source": [
    "#Dynamic sentence\n",
    "\n",
    "# we may need to modify the way we describe the location to fit gramatically\n",
    "if location == 'All Region':\n",
    "    region_phrase = 'region-wide'\n",
    "else:\n",
    "    region_phrase = 'in ' + location.lower()\n",
    "\n",
    "\n",
    "print(f\"From 2001 to 2012, \", end=\"\")\n",
    "\n",
    "if(not adm1 and not adm2):\n",
    "    print(f\"{iso_to_countries[adm0]} gained {total_area:,.0f} ha of tree cover \", end=\"\")\n",
    "    print(f\"{region_phrase}, equivalent to a {area_percent}% \",end=\"\")\n",
    "    print(f\"increase relative to 2010 tree cover extent.\", end=\"\")\n",
    "elif(not adm2):\n",
    "    print(f\"{areaId_to_name[adm1]} gained {total_area:,.0f} ha of tree cover \", end=\"\")\n",
    "    print(f\"{region_phrase}, equivalent to a {area_percent}% \",end=\"\")\n",
    "    print(f\"increase relative to 2010 tree cover extent.\", end=\"\")\n",
    "else:\n",
    "    print(f\"{areaId_to_name[adm2]} gained {total_area:,.0f} ha of tree cover \", end=\"\")\n",
    "    print(f\"{region_phrase}, equivalent to a {area_percent}% \", end=\"\")\n",
    "    print(f\"increase relative to 2010 tree cover extent.\", end=\"\")\n"
   ]
  },
  {
   "cell_type": "code",
   "execution_count": null,
   "metadata": {},
   "outputs": [],
   "source": []
  },
  {
   "cell_type": "code",
   "execution_count": null,
   "metadata": {},
   "outputs": [],
   "source": []
  }
 ],
 "metadata": {
  "anaconda-cloud": {},
  "kernelspec": {
   "display_name": "Python 3",
   "language": "python",
   "name": "python3"
  },
  "language_info": {
   "codemirror_mode": {
    "name": "ipython",
    "version": 3
   },
   "file_extension": ".py",
   "mimetype": "text/x-python",
   "name": "python",
   "nbconvert_exporter": "python",
   "pygments_lexer": "ipython3",
   "version": "3.6.3"
  },
  "toc": {
   "nav_menu": {},
   "number_sections": true,
   "sideBar": true,
   "skip_h1_title": false,
   "toc_cell": false,
   "toc_position": {},
   "toc_section_display": "block",
   "toc_window_display": false
  }
 },
 "nbformat": 4,
 "nbformat_minor": 2
}
