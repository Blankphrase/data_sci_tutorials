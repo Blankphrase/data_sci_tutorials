{
 "cells": [
  {
   "cell_type": "markdown",
   "metadata": {},
   "source": [
    "## Building The Country Page Widgets\n",
    "\n",
    "Charlie has added the following dataset to the **PRODUCTION** API for the construction of the new country pages widgets. This notebook details how to query these datasets to create a the required widgets.\n",
    "\n",
    "\n",
    "Note: many queries will be repeated, but the data used in different ways, so we should cache the responses for re-use.\n",
    "\n",
    "```\n",
    "{'dataset': '499682b1-3174-493f-ba1a-368b4636708e'}\n",
    "```"
   ]
  },
  {
   "cell_type": "markdown",
   "metadata": {},
   "source": [
    "\n",
    "https://production-api.globalforestwatch.org/v1/query/?sql=SELECT polyname, year_data.year, sum(year_data.area_loss) as sum FROM data WHERE polyname = 'wdpa'  and iso = 'BRA' GROUP BY polyname, iso, nested(year_data.year)\n"
   ]
  },
  {
   "cell_type": "code",
   "execution_count": 1,
   "metadata": {
    "ExecuteTime": {
     "end_time": "2017-12-11T14:05:06.918625Z",
     "start_time": "2017-12-11T14:05:06.270121Z"
    }
   },
   "outputs": [],
   "source": [
    "import requests\n",
    "import requests_cache\n",
    "from pprint import pprint\n",
    "import numpy as np\n",
    "import matplotlib.pyplot as plt\n",
    "%matplotlib inline\n",
    "requests_cache.install_cache('demo_cache')"
   ]
  },
  {
   "cell_type": "markdown",
   "metadata": {},
   "source": [
    "Testing basic queries\n",
    "\n",
    "**notes**\n",
    "\n",
    "* New table structure includes `bound1-4` which provide an additional attribute to group by\n",
    "\n",
    "```\n",
    "https://production-api.globalforestwatch.org/v1/query/499682b1-3174-493f-ba1a-368b4636708e?sql=SELECT polyname, count(*) FROM data WHERE iso = 'BRA' and thresh = 30 GROUP BY polyname\n",
    "```\n",
    "\n",
    "This one table should be enough to generate data for areas of interest from admin0 to admin 2 level on its own."
   ]
  },
  {
   "cell_type": "code",
   "execution_count": 2,
   "metadata": {
    "ExecuteTime": {
     "end_time": "2017-12-11T14:05:07.485430Z",
     "start_time": "2017-12-11T14:05:07.481857Z"
    }
   },
   "outputs": [],
   "source": [
    "ds = '499682b1-3174-493f-ba1a-368b4636708e'  # ADMIN 2 level data"
   ]
  },
  {
   "cell_type": "code",
   "execution_count": 3,
   "metadata": {
    "ExecuteTime": {
     "end_time": "2017-12-11T14:05:08.146712Z",
     "start_time": "2017-12-11T14:05:08.101992Z"
    },
    "scrolled": false
   },
   "outputs": [
    {
     "name": "stdout",
     "output_type": "stream",
     "text": [
      "https://production-api.globalforestwatch.org/v1/query/499682b1-3174-493f-ba1a-368b4636708e?sql=SELECT+%2A+FROM+499682b1-3174-493f-ba1a-368b4636708e+WHERE+iso+%3D+%27BRA%27+AND+thresh+%3D+30+AND+polyname+%3D+%27plantations%27+LIMIT+3\n",
      "Status: 200\n"
     ]
    },
    {
     "data": {
      "text/plain": [
       "{'data': [{'_id': 'AWAxmrFzVdtBxrrI-ELN',\n",
       "   'adm1': 21,\n",
       "   'adm2': 3996,\n",
       "   'area_extent': 272.539381382,\n",
       "   'area_gadm28': 46336.5056967,\n",
       "   'area_poly_aoi': 0.0005256770160869999,\n",
       "   'bound1': 'Large industrial plantation',\n",
       "   'bound2': 'Wood fiber / timber',\n",
       "   'bound3': -9999,\n",
       "   'bound4': -9999,\n",
       "   'iso': 'BRA',\n",
       "   'polyname': 'plantations',\n",
       "   'thresh': 30,\n",
       "   'year_data': [{'area_loss': 22.5652762038,\n",
       "     'emissions': 2730.2836196999997,\n",
       "     'year': 2001},\n",
       "    {'area_loss': 12.457381895, 'emissions': 1583.29179307, 'year': 2002},\n",
       "    {'area_loss': 51.2981066753, 'emissions': 6408.22109205, 'year': 2003},\n",
       "    {'area_loss': 23.844706895500003,\n",
       "     'emissions': 3056.61808058,\n",
       "     'year': 2004},\n",
       "    {'area_loss': 5.28884876152, 'emissions': 703.6756682999999, 'year': 2005},\n",
       "    {'area_loss': 0, 'emissions': 0, 'year': 2006},\n",
       "    {'area_loss': 10.4421938269, 'emissions': 1178.70421511, 'year': 2007},\n",
       "    {'area_loss': 31.4736056864, 'emissions': 4094.99730405, 'year': 2008},\n",
       "    {'area_loss': 1.1387181114799998,\n",
       "     'emissions': 139.328357637,\n",
       "     'year': 2009},\n",
       "    {'area_loss': 0, 'emissions': 0, 'year': 2010},\n",
       "    {'area_loss': 0.334869382846, 'emissions': 26.3877124208, 'year': 2011},\n",
       "    {'area_loss': 2.47792299302, 'emissions': 156.974708267, 'year': 2012},\n",
       "    {'area_loss': 5.491153023890001,\n",
       "     'emissions': 453.07059737300006,\n",
       "     'year': 2013},\n",
       "    {'area_loss': 13.258465667100001,\n",
       "     'emissions': 1002.21233838,\n",
       "     'year': 2014},\n",
       "    {'area_loss': 3.2126014871900006,\n",
       "     'emissions': 246.56177485400002,\n",
       "     'year': 2015},\n",
       "    {'area_loss': 4.6198582657,\n",
       "     'emissions': 332.55653858700003,\n",
       "     'year': 2016}]},\n",
       "  {'_id': 'AWAxmrFzVdtBxrrI-ELR',\n",
       "   'adm1': 21,\n",
       "   'adm2': 3992,\n",
       "   'area_extent': 69.1801908833,\n",
       "   'area_gadm28': 32443.452307300002,\n",
       "   'area_poly_aoi': 0.000164388981225,\n",
       "   'bound1': 'Large industrial plantation',\n",
       "   'bound2': 'Wood fiber / timber',\n",
       "   'bound3': -9999,\n",
       "   'bound4': -9999,\n",
       "   'iso': 'BRA',\n",
       "   'polyname': 'plantations',\n",
       "   'thresh': 30,\n",
       "   'year_data': [{'area_loss': 0, 'emissions': 0, 'year': 2001},\n",
       "    {'area_loss': 0.133958972196,\n",
       "     'emissions': 12.860061330799999,\n",
       "     'year': 2002},\n",
       "    {'area_loss': 16.1379018502, 'emissions': 2111.23899736, 'year': 2003},\n",
       "    {'area_loss': 0.06690736755969999,\n",
       "     'emissions': 7.22599569645,\n",
       "     'year': 2004},\n",
       "    {'area_loss': 0.133975205018, 'emissions': 14.603297347, 'year': 2005},\n",
       "    {'area_loss': 9.242953236389999, 'emissions': 1108.08307614, 'year': 2006},\n",
       "    {'area_loss': 0, 'emissions': 0, 'year': 2007},\n",
       "    {'area_loss': 6.09414209353, 'emissions': 859.876749345, 'year': 2008},\n",
       "    {'area_loss': 0, 'emissions': 0, 'year': 2009},\n",
       "    {'area_loss': 3.8852829113699996,\n",
       "     'emissions': 403.735137474,\n",
       "     'year': 2010},\n",
       "    {'area_loss': 0, 'emissions': 0, 'year': 2011},\n",
       "    {'area_loss': 0, 'emissions': 0, 'year': 2012},\n",
       "    {'area_loss': 2.2085326797400002,\n",
       "     'emissions': 149.18122177200001,\n",
       "     'year': 2013},\n",
       "    {'area_loss': 1.67411658795, 'emissions': 127.771049121, 'year': 2014},\n",
       "    {'area_loss': 2.07642293692, 'emissions': 183.260565242, 'year': 2015},\n",
       "    {'area_loss': 2.67779829618,\n",
       "     'emissions': 192.01338351299998,\n",
       "     'year': 2016}]},\n",
       "  {'_id': 'AWAxmrFzVdtBxrrI-ELm',\n",
       "   'adm1': 21,\n",
       "   'adm2': 4026,\n",
       "   'area_extent': 13.7020672426,\n",
       "   'area_gadm28': 12282.6593676,\n",
       "   'area_poly_aoi': 2.12326512722e-05,\n",
       "   'bound1': 'Large industrial plantation',\n",
       "   'bound2': 'Wood fiber / timber',\n",
       "   'bound3': -9999,\n",
       "   'bound4': -9999,\n",
       "   'iso': 'BRA',\n",
       "   'polyname': 'plantations',\n",
       "   'thresh': 30,\n",
       "   'year_data': [{'area_loss': 0, 'emissions': 0, 'year': 2001},\n",
       "    {'area_loss': 0, 'emissions': 0, 'year': 2002},\n",
       "    {'area_loss': 0, 'emissions': 0, 'year': 2003},\n",
       "    {'area_loss': 0, 'emissions': 0, 'year': 2004},\n",
       "    {'area_loss': 0, 'emissions': 0, 'year': 2005},\n",
       "    {'area_loss': 0, 'emissions': 0, 'year': 2006},\n",
       "    {'area_loss': 0, 'emissions': 0, 'year': 2007},\n",
       "    {'area_loss': 0, 'emissions': 0, 'year': 2008},\n",
       "    {'area_loss': 0, 'emissions': 0, 'year': 2009},\n",
       "    {'area_loss': 0, 'emissions': 0, 'year': 2010},\n",
       "    {'area_loss': 0, 'emissions': 0, 'year': 2011},\n",
       "    {'area_loss': 0, 'emissions': 0, 'year': 2012},\n",
       "    {'area_loss': 0, 'emissions': 0, 'year': 2013},\n",
       "    {'area_loss': 0.134315951259, 'emissions': 10.8124340763, 'year': 2014},\n",
       "    {'area_loss': 0.268632390326,\n",
       "     'emissions': 15.580678151099999,\n",
       "     'year': 2015},\n",
       "    {'area_loss': 0.33575279759599996,\n",
       "     'emissions': 26.6587802948,\n",
       "     'year': 2016}]}],\n",
       " 'meta': {'cloneUrl': {'body': {'dataset': {'application': ['your', 'apps'],\n",
       "     'datasetUrl': '/v1/query/499682b1-3174-493f-ba1a-368b4636708e?sql=SELECT%20%2A%20FROM%20499682b1-3174-493f-ba1a-368b4636708e%20WHERE%20iso%20%3D%20%27BRA%27%20AND%20thresh%20%3D%2030%20AND%20polyname%20%3D%20%27plantations%27%20LIMIT%203'}},\n",
       "   'http_method': 'POST',\n",
       "   'url': '/v1/dataset/499682b1-3174-493f-ba1a-368b4636708e/clone'}}}"
      ]
     },
     "execution_count": 3,
     "metadata": {},
     "output_type": "execute_result"
    }
   ],
   "source": [
    "# Example of what is in the data tables and how to simply read them:\n",
    "url = f\"https://production-api.globalforestwatch.org/v1/query/{ds}\"\n",
    "sql = (f\"SELECT * FROM {ds} WHERE iso = 'BRA' AND thresh = 30 AND polyname = 'plantations' LIMIT 3\")\n",
    "#sql = (f\"SELECT polyname, count(*) FROM {ds} WHERE iso = 'BRA' and thresh = 30 GROUP BY polyname\")\n",
    "#sql = (f\"SELECT * FROM {ds} WHERE iso = 'BRA' AND thresh = 30 AND polyname = 'bra_biomes' LIMIT 1\")\n",
    "properties = {\"sql\": sql}\n",
    "r = requests.get(url, params = properties)\n",
    "print(r.url)\n",
    "print(f'Status: {r.status_code}')\n",
    "r.json()"
   ]
  },
  {
   "cell_type": "markdown",
   "metadata": {},
   "source": [
    "The `polyname` attribute in the data indicates the geometry used in the intersection. E.g. `polyname`:`gadm28` means that the GADM28 polygons alone were used, therefore `area_extent` would be the value of the Hansen 2010 tree cover extent within a particular gadm28 geometry.\n",
    "\n",
    "Charlie has used a convention of mutliple underscores to indicate when data has multiple intersects. The rule is as follows:\n",
    "* All data are intersected with the gadm28\n",
    "* Some data are intersected with gadam + something else, in that case it takes the name of the something else, e.g. plantations\n",
    "* some data are intersected with multiple gadam + multiple other data sources, in that case, the data sources are seperated by a dunder (double underscore) in the `polyname`. E.g. `primary_forest__landmark` are the gadam28 + primary forest data + landmark "
   ]
  },
  {
   "cell_type": "code",
   "execution_count": 4,
   "metadata": {
    "ExecuteTime": {
     "end_time": "2017-12-11T14:05:10.237693Z",
     "start_time": "2017-12-11T14:05:10.216572Z"
    }
   },
   "outputs": [
    {
     "name": "stdout",
     "output_type": "stream",
     "text": [
      "https://production-api.globalforestwatch.org/v1/query/499682b1-3174-493f-ba1a-368b4636708e?sql=SELECT+polyname+FROM+499682b1-3174-493f-ba1a-368b4636708e+WHERE+iso+%3D+%27BRA%27+and+thresh+%3D+0+GROUP+BY+polyname\n",
      "Status: 200\n",
      "bra_biomes\n",
      "gadm28\n",
      "mining\n",
      "plantations\n",
      "plantations__mining\n",
      "wdpa\n",
      "primary_forest\n",
      "primary_forest__mining\n",
      "primary_forest__wdpa\n",
      "plantations__wdpa\n",
      "ifl_2013\n",
      "ifl_2013__wdpa\n",
      "ifl_2013__mining\n",
      "landmark\n",
      "primary_forest__landmark\n",
      "plantations__landmark\n"
     ]
    }
   ],
   "source": [
    "url = f\"https://production-api.globalforestwatch.org/v1/query/{ds}\"\n",
    "sql = (f\"SELECT polyname FROM {ds} WHERE iso = 'BRA' and thresh = 0 GROUP BY polyname\")\n",
    "properties = {\"sql\": sql}\n",
    "r = requests.get(url, params = properties)\n",
    "print(r.url)\n",
    "print(f'Status: {r.status_code}')\n",
    "for row in r.json().get('data'):\n",
    "    print(row.get('polyname'))"
   ]
  },
  {
   "cell_type": "markdown",
   "metadata": {},
   "source": [
    "Also of note, is the `bound1-4` attributes, which are \n",
    "\n",
    "```\n",
    "   'bound1': 'Large industrial plantation',\n",
    "   'bound2': 'Wood fiber / timber',\n",
    "   'bound3': -9999,\n",
    "   'bound4': -9999,\n",
    "   \n",
    "```\n",
    "\n",
    "These hold extra properties of a dataset which can be used in group-by statements, e.g. plantation data has been split into species type. \n",
    "\n",
    "Finally, another key property is the `area_poly_aoi`, which should hold the total area (ha) of the shape used to make the intersection. E.g., the sum of the `polyname` = gadm28 `area_poly_aoi` values should equal the total land area of a selected ROI. \n"
   ]
  },
  {
   "cell_type": "markdown",
   "metadata": {},
   "source": [
    "# Obtain metadata for admin0 to admin2 level\n",
    "\n",
    "Retrieve json mappings of id values (e.g. iso codes or integers) for admin0 to admin2 level, and map them to english names for selectors and resources to build dynamic sentences."
   ]
  },
  {
   "cell_type": "code",
   "execution_count": 5,
   "metadata": {
    "ExecuteTime": {
     "end_time": "2017-12-11T14:05:12.284802Z",
     "start_time": "2017-12-11T14:05:12.253325Z"
    }
   },
   "outputs": [],
   "source": [
    "def get_admin0_json(urlCarto=\"https://wri-01.carto.com/api/v2/sql\"):\n",
    "    \"\"\"return an alphabetical json of mappings of iso and country names\n",
    "    e.g.\n",
    "    [{'iso': 'AFG', 'name': 'Afghanistan'},\n",
    "     {'iso': 'XAD', 'name': 'Akrotiri and Dhekelia'},\n",
    "     {'iso': 'ALA', 'name': 'Åland'},\n",
    "     ...\n",
    "    ]\n",
    "    \n",
    "    \"\"\"\n",
    "    sql = (\"SELECT iso, country as name FROM umd_nat_staging \"\n",
    "            \"GROUP BY iso, name \"\n",
    "            \"ORDER BY name \"\n",
    "          )\n",
    "    r = requests.get(urlCarto, params={\"q\": sql})\n",
    "    return r.json().get('rows', None)\n",
    " \n",
    "\n",
    "def get_admin1_json(iso, urlCarto=\"https://wri-01.carto.com/api/v2/sql\"):\n",
    "    \"\"\"return an alphabetical json of mappings of admin1 for a country\n",
    "    e.g. for iso='GBR'\n",
    "        [{'adm1': 1, 'name': 'England'},\n",
    "         {'adm1': 2, 'name': 'Northern Ireland'},\n",
    "         {'adm1': 3, 'name': 'Scotland'},\n",
    "         {'adm1': 4, 'name': 'Wales'}]\n",
    "    \"\"\"\n",
    "    sql = (\"SELECT id1 as adm1, region as name \"\n",
    "            \"FROM umd_subnat_staging \"\n",
    "            f\"WHERE iso = '{iso}' \"\n",
    "            \"and year = 2001 \"\n",
    "            \"and thresh = 30 \"\n",
    "            \"ORDER BY name \"\n",
    "          )\n",
    "    r = requests.get(urlCarto, params={\"q\": sql})\n",
    "    return r.json().get('rows', None)\n",
    "   \n",
    "\n",
    "def get_admin2_json(iso, adm1, urlCarto=\"https://wri-01.carto.com/api/v2/sql\"):\n",
    "    \"\"\" \n",
    "    e.g. response for iso='GBR' adm1=1\n",
    "    [{'adm2': 1, 'name': 'Barking and Dagenham'},\n",
    "     {'adm2': 2, 'name': 'Bath and North East Somerset'},\n",
    "     ...\n",
    "     ]\n",
    "\n",
    "    \"\"\"\n",
    "    sql = (\"SELECT id_2 as adm2, name_2 as name \"\n",
    "            \"FROM gadm28_adm2 \"\n",
    "            f\"WHERE iso = '{iso}' \"\n",
    "            f\"AND id_1 = {adm1} \"\n",
    "            \"ORDER BY name \"\n",
    "          )\n",
    "    r = requests.get(urlCarto, params={\"q\": sql})    \n",
    "    return r.json().get('rows', None)"
   ]
  },
  {
   "cell_type": "code",
   "execution_count": 6,
   "metadata": {
    "ExecuteTime": {
     "end_time": "2017-12-11T14:05:13.238343Z",
     "start_time": "2017-12-11T14:05:13.166782Z"
    }
   },
   "outputs": [],
   "source": [
    "tmp = get_admin0_json()\n",
    "iso_to_countries = {}\n",
    "for row in tmp:\n",
    "    iso_to_countries[row.get('iso')] = row.get('name')"
   ]
  },
  {
   "cell_type": "markdown",
   "metadata": {},
   "source": [
    "# Get info on an areas shape\n",
    "\n",
    "Use the Geostore service to find the geometry, bounding box or additional info on a given `iso` or `iso/admin1` area if required (e.g. for centering the map).\n",
    "\n",
    "Note - if similar info is needed for admin2 areas I will have to go back and create a query based on a Carto table, as admin-2 level data does not exist in the geostore service yet."
   ]
  },
  {
   "cell_type": "code",
   "execution_count": 7,
   "metadata": {
    "ExecuteTime": {
     "end_time": "2017-12-11T14:05:14.891467Z",
     "start_time": "2017-12-11T14:05:14.650449Z"
    },
    "scrolled": true
   },
   "outputs": [
    {
     "name": "stdout",
     "output_type": "stream",
     "text": [
      "returning admin-0 level geostore\n",
      "https://api.resourcewatch.org/v1/geostore/admin/GBR\n",
      "dict_keys(['geojson', 'hash', 'provider', 'areaHa', 'bbox', 'lock', 'info'])\n"
     ]
    },
    {
     "data": {
      "text/plain": [
       "[-13.6913900375365, 49.8654174804688, 1.76416802406322, 60.8458213806153]"
      ]
     },
     "execution_count": 7,
     "metadata": {},
     "output_type": "execute_result"
    }
   ],
   "source": [
    "iso = \"GBR\"\n",
    "adm1 = None \n",
    "\n",
    "if not adm1:\n",
    "    print(\"returning admin-0 level geostore\")\n",
    "    url = f\"https://api.resourcewatch.org/v1/geostore/admin/{iso}\"\n",
    "else:\n",
    "    print(\"returning admin-1 level geostore\")\n",
    "    url = f\"https://api.resourcewatch.org/v1/geostore/admin/{iso}/{adm1}\"\n",
    "    \n",
    "r = requests.get(url)\n",
    "print(r.url)\n",
    "roi = r.json()\n",
    "\n",
    "print(roi.get('data', None).get('attributes', None).keys())\n",
    "roi.get('data').get('attributes').get('bbox')  #e.g. of getting the bounding box of a ROI"
   ]
  },
  {
   "cell_type": "code",
   "execution_count": 8,
   "metadata": {
    "ExecuteTime": {
     "end_time": "2017-12-11T14:05:16.231437Z",
     "start_time": "2017-12-11T14:05:16.224591Z"
    }
   },
   "outputs": [],
   "source": [
    "def create_bounding_poly(bbox):\n",
    "    \"\"\"Create a bounding polygon from a returned bbox of the geostore service\n",
    "        (- the old api produced shapes in this format).\n",
    "    \"\"\"\n",
    "    lat1, lon1, lat2, lon2  = bbox\n",
    "    return [[lat1,lon1], [lat1,lon2],[lat2,lon2],[lat2,lon1] ,[lat1,lon1]]"
   ]
  },
  {
   "cell_type": "code",
   "execution_count": 9,
   "metadata": {
    "ExecuteTime": {
     "end_time": "2017-12-11T14:05:16.695276Z",
     "start_time": "2017-12-11T14:05:16.684631Z"
    }
   },
   "outputs": [
    {
     "data": {
      "text/plain": [
       "[[-13.6913900375365, 49.8654174804688],\n",
       " [-13.6913900375365, 60.8458213806153],\n",
       " [1.76416802406322, 60.8458213806153],\n",
       " [1.76416802406322, 49.8654174804688],\n",
       " [-13.6913900375365, 49.8654174804688]]"
      ]
     },
     "execution_count": 9,
     "metadata": {},
     "output_type": "execute_result"
    }
   ],
   "source": [
    "create_bounding_poly(roi.get('data').get('attributes').get('bbox'))"
   ]
  },
  {
   "cell_type": "markdown",
   "metadata": {},
   "source": [
    "# Set up global (scope) data sources for the Country Widgets \n",
    "\n",
    "There is some work that needs to be done in populating the Location menu, not all options should be always available: some of them will need to be iso dependent. E.g. `Biomes` should only appear in the menu if the ISO is set to `BRA`\n"
   ]
  },
  {
   "cell_type": "code",
   "execution_count": 10,
   "metadata": {
    "ExecuteTime": {
     "end_time": "2017-12-11T14:05:19.407332Z",
     "start_time": "2017-12-11T14:05:19.395798Z"
    }
   },
   "outputs": [],
   "source": [
    "polynames = {\n",
    "                'All Region':'gadm28',\n",
    "                'Biomes':'bra_biomes',\n",
    "                'Mining':'mining',\n",
    "                'Protected Areas':'wdpa',\n",
    "                'Primary Forests':'primary_forest',\n",
    "                'Mining in Primary Forests':'primary_forest__mining',\n",
    "                'Protected Areas in Primary Forests':'primary_forest__wdpa',\n",
    "                'Intact Forest Landscapes':'ifl_2013',\n",
    "                'Protected Areas in Intact Forest Landscapes':'ifl_2013__wdpa',\n",
    "                'Mining in Intact Forest Landscapes':'ifl_2013__mining',\n",
    "                'Indigenous Lands':'landmark',\n",
    "                'Indigenous Lands in Primary Forests':'primary_forest__landmark',\n",
    "                'Plantations':'plantations',\n",
    "                'Mining in Plantation Areas':'plantations__mining',\n",
    "                'Protected areas in Plantations':'plantations__wdpa',\n",
    "                'Indigenous Lands in Plantations':'plantations__landmark',\n",
    "            }"
   ]
  },
  {
   "cell_type": "markdown",
   "metadata": {},
   "source": [
    "# Tree cover widget\n",
    "\n",
    "The default view for the tree cover widget should be for 'All Region'.\n",
    "We provide a mapping between the text to select in the Location drop-down and the dataset IDs that need to be called in conjunction with a specific selection.\n",
    "\n",
    "\n",
    "For the default  \"All Region\" location, we will need to show 3 slices in the donut chart:\n",
    "    * Tree plantations\n",
    "    * Natural forest (tree cover 2010 - tree plantations)\n",
    "    * Non-forest (total area - tree cover 2010)\n",
    "\n",
    "We show how to calculate this below.\n",
    "\n",
    "**BUT**\n",
    "\n",
    "If other Locations are selected, (e.g. Protected Areas), we need a different donut chart. One with less data (only tree cover, and non-forest).\n",
    "\n",
    "    * Tree cover \n",
    "    * Non-forest\n",
    "\n",
    "\n",
    "\n",
    "*Notes: below this line are extra notes not needed for Front-end dev*\n",
    "\n",
    "- adm0 = BRA, adm1 = 4  is Amazonas\n",
    "- adm0 = BRA, adm1 = 4, adm2 = 141 is Amaturá  (many forests)\n",
    "- adm0 = BRA, adm1 = 12, adm2 = 1434 is Mato Grosso, Cáceres\n",
    "- adm0 = BRA, adm1 = 14, adm2 = 2404 is Para, Altamira \n",
    "- adm0 = BRA, adm1 = 16, adm2 = 3135 - largest area of plantations (Turning this on seems to reveal a bug)\n"
   ]
  },
  {
   "cell_type": "code",
   "execution_count": 11,
   "metadata": {
    "ExecuteTime": {
     "end_time": "2017-12-11T14:05:31.557171Z",
     "start_time": "2017-12-11T14:05:31.548690Z"
    }
   },
   "outputs": [],
   "source": [
    "# VARIABLES FOR TREE COVER WIDGET\n",
    "ds = '499682b1-3174-493f-ba1a-368b4636708e'\n",
    "url = f\"https://production-api.globalforestwatch.org/v1/query/{ds}\"\n",
    "adm0 = 'BRA'\n",
    "threshold = 30\n",
    "adm1 = None\n",
    "adm2 = None\n",
    "location = 'All Region'  "
   ]
  },
  {
   "cell_type": "code",
   "execution_count": 12,
   "metadata": {
    "ExecuteTime": {
     "end_time": "2017-12-11T14:05:32.313169Z",
     "start_time": "2017-12-11T14:05:32.290117Z"
    }
   },
   "outputs": [],
   "source": [
    "def extent_queries(p_name, adm0, adm1=None, adm2 = None, threshold=30):\n",
    "    if adm2:\n",
    "        print('Request for adm2 area')\n",
    "        sql = (f\"SELECT SUM(area_extent) as value, \"\n",
    "               f\"SUM(area_gadm28) as total_area \"\n",
    "               f\"FROM data \"\n",
    "               f\"WHERE iso = '{adm0}' \"\n",
    "               f\"AND adm1 = {adm1} \"\n",
    "               f\"AND adm2 = {adm2} \"\n",
    "               \"AND thresh = {threshold} \"\n",
    "               f\"AND polyname = '{p_name}'\")\n",
    "        return sql\n",
    "    elif adm1:\n",
    "        print('Request for  adm1 area')\n",
    "        sql = (f\"SELECT SUM(area_extent) as value, \"\n",
    "               f\"SUM(area_gadm28) as total_area \"\n",
    "               f\"FROM data \"\n",
    "               f\"WHERE iso = '{adm0}' \"\n",
    "               f\"AND adm1 = {adm1} \"\n",
    "               f\"AND thresh = {threshold} \"\n",
    "               f\"AND polyname = '{p_name}'\")\n",
    "        return sql\n",
    "    elif adm0:\n",
    "        print('Request for  adm0 area')\n",
    "        sql = (f\"SELECT SUM(area_extent) as value, \"\n",
    "               f\"SUM(area_gadm28) as total_area \"\n",
    "               f\"FROM data \"\n",
    "               f\"WHERE iso = '{adm0}' \"\n",
    "               f\"AND thresh = {threshold} \"\n",
    "               f\"AND polyname = '{p_name}'\")\n",
    "        return sql"
   ]
  },
  {
   "cell_type": "code",
   "execution_count": 13,
   "metadata": {
    "ExecuteTime": {
     "end_time": "2017-12-11T14:05:33.055950Z",
     "start_time": "2017-12-11T14:05:33.034517Z"
    }
   },
   "outputs": [
    {
     "name": "stdout",
     "output_type": "stream",
     "text": [
      "None\n"
     ]
    }
   ],
   "source": [
    "# get a human readable {id: name} json for either admin 1 or 2 level as needed:\n",
    "\n",
    "areaId_to_name = None\n",
    "if adm2:\n",
    "    tmp = get_admin2_json(iso=adm0, adm1=adm1)\n",
    "    areaId_to_name ={}\n",
    "    for row in tmp:\n",
    "        areaId_to_name[row.get('adm2')] = row.get('name')\n",
    "if adm1 and not adm2:\n",
    "    tmp = get_admin1_json(iso=adm0)\n",
    "    areaId_to_name={}\n",
    "    for row in tmp:\n",
    "        areaId_to_name[row.get('adm1')] = row.get('name') \n",
    "        \n",
    "print(areaId_to_name)"
   ]
  },
  {
   "cell_type": "code",
   "execution_count": 14,
   "metadata": {
    "ExecuteTime": {
     "end_time": "2017-12-11T14:05:33.851851Z",
     "start_time": "2017-12-11T14:05:33.800169Z"
    }
   },
   "outputs": [
    {
     "name": "stdout",
     "output_type": "stream",
     "text": [
      "Request for  adm0 area\n",
      "https://production-api.globalforestwatch.org/v1/query/499682b1-3174-493f-ba1a-368b4636708e?sql=SELECT+SUM%28area_extent%29+as+value%2C+SUM%28area_gadm28%29+as+total_area+FROM+data+WHERE+iso+%3D+%27BRA%27+AND+thresh+%3D+30+AND+polyname+%3D+%27gadm28%27\n",
      "Status: 200\n",
      "{'data': [{'total_area': 850033236.0091553, 'value': 519187505.155631}],\n",
      " 'meta': {'cloneUrl': {'body': {'dataset': {'application': ['your', 'apps'],\n",
      "                                            'datasetUrl': '/v1/query/499682b1-3174-493f-ba1a-368b4636708e?sql=SELECT%20SUM%28area_extent%29%20as%20value%2C%20SUM%28area_gadm28%29%20as%20total_area%20FROM%20data%20WHERE%20iso%20%3D%20%27BRA%27%20AND%20thresh%20%3D%2030%20AND%20polyname%20%3D%20%27gadm28%27'}},\n",
      "                       'http_method': 'POST',\n",
      "                       'url': '/v1/dataset/499682b1-3174-493f-ba1a-368b4636708e/clone'}}}\n",
      "\n",
      "BRA None None Gadm28 Tree cover extent = 519187505.155631 ha\n",
      "total area = 850033236.0091553 ha\n"
     ]
    }
   ],
   "source": [
    "url = f\"https://production-api.globalforestwatch.org/v1/query/{ds}\"\n",
    "\n",
    "sql = extent_queries(p_name=polynames[location], adm0=adm0, adm1=adm1, adm2=adm2, threshold=threshold)\n",
    "r = requests.get(url, params = {\"sql\": sql})\n",
    "\n",
    "print(r.url)\n",
    "print(f'Status: {r.status_code}')\n",
    "pprint(r.json())\n",
    "\n",
    "try:\n",
    "    tree_cover_extent_2010 = r.json().get('data')[0].get('value')\n",
    "except:\n",
    "    tree_cover_extent_2010 = 0.0\n",
    "print(f\"\\n{adm0} {adm1} {adm2} Gadm28 Tree cover extent = {tree_cover_extent_2010} ha\")\n",
    "\n",
    "try:\n",
    "    total_area = r.json().get('data')[0].get('total_area')\n",
    "except:\n",
    "    total_area = None\n",
    "print(f\"total area = {total_area} ha\")"
   ]
  },
  {
   "cell_type": "markdown",
   "metadata": {},
   "source": [
    "** Gather PLANTATION data also if needed  **"
   ]
  },
  {
   "cell_type": "code",
   "execution_count": 15,
   "metadata": {
    "ExecuteTime": {
     "end_time": "2017-12-11T14:05:35.527476Z",
     "start_time": "2017-12-11T14:05:35.480728Z"
    }
   },
   "outputs": [
    {
     "name": "stdout",
     "output_type": "stream",
     "text": [
      "Request for  adm0 area\n",
      "https://production-api.globalforestwatch.org/v1/query/499682b1-3174-493f-ba1a-368b4636708e?sql=SELECT+SUM%28area_extent%29+as+value%2C+SUM%28area_gadm28%29+as+total_area+FROM+data+WHERE+iso+%3D+%27BRA%27+AND+thresh+%3D+30+AND+polyname+%3D+%27plantations%27\n",
      "Status: 200\n",
      "{'data': [{'total_area': 660671465.5681152, 'value': 4660023.699318573}],\n",
      " 'meta': {'cloneUrl': {'body': {'dataset': {'application': ['your', 'apps'],\n",
      "                                            'datasetUrl': '/v1/query/499682b1-3174-493f-ba1a-368b4636708e?sql=SELECT%20SUM%28area_extent%29%20as%20value%2C%20SUM%28area_gadm28%29%20as%20total_area%20FROM%20data%20WHERE%20iso%20%3D%20%27BRA%27%20AND%20thresh%20%3D%2030%20AND%20polyname%20%3D%20%27plantations%27'}},\n",
      "                       'http_method': 'POST',\n",
      "                       'url': '/v1/dataset/499682b1-3174-493f-ba1a-368b4636708e/clone'}}}\n",
      "\n",
      "BRA None None plantation area = 4660023.699318573 ha\n"
     ]
    }
   ],
   "source": [
    "# For some locations we will also need to retrieve an area for plantations\n",
    "# This is the area of UMD forest cover intersecting tree plantations at admin2 level\n",
    "\n",
    "if location in ['All Region']:\n",
    "    sql = extent_queries(p_name=polynames['Plantations'], adm0=adm0,\n",
    "                         adm1=adm1, adm2=adm2, threshold=threshold)\n",
    "    r = requests.get(url, params = {\"sql\": sql})\n",
    "\n",
    "    print(r.url)\n",
    "    print(f'Status: {r.status_code}')\n",
    "    pprint(r.json())\n",
    "\n",
    "    try:\n",
    "        plantations = r.json().get('data')[0].get('value')\n",
    "    except:\n",
    "        plantations = 0.0\n",
    "    print(f\"\\n{adm0} {adm1} {adm2} plantation area = {plantations} ha\")\n",
    "else:\n",
    "    print(f\"No plantation data neded for '{location}'\")\n",
    "    plantations = None"
   ]
  },
  {
   "cell_type": "code",
   "execution_count": 16,
   "metadata": {
    "ExecuteTime": {
     "end_time": "2017-12-11T14:05:37.034689Z",
     "start_time": "2017-12-11T14:05:37.025886Z"
    }
   },
   "outputs": [
    {
     "name": "stdout",
     "output_type": "stream",
     "text": [
      "plantations=4.66002e+06, tree cover=5.19188e+08, area=8.50033e+08\n"
     ]
    }
   ],
   "source": [
    "#  Note if plantations are 0 - this situation should be considered the same as if plantation data \n",
    "# were not to be included. I.e. if plantation = 0 then \n",
    "\n",
    "if location in ['All Region']:\n",
    "    print(f\"plantations={plantations:g}, tree cover={tree_cover_extent_2010:g}, area={total_area:g}\")\n",
    "else:\n",
    "    print(f\"tree cover={tree_cover_extent_2010:g}, area={total_area:g}\")"
   ]
  },
  {
   "cell_type": "code",
   "execution_count": 17,
   "metadata": {
    "ExecuteTime": {
     "end_time": "2017-12-11T14:05:38.700586Z",
     "start_time": "2017-12-11T14:05:38.432796Z"
    }
   },
   "outputs": [
    {
     "data": {
      "image/png": "[encoded data removed]",
      "text/plain": [
       "<matplotlib.figure.Figure at 0x113ea59e8>"
      ]
     },
     "metadata": {},
     "output_type": "display_data"
    }
   ],
   "source": [
    "# Pie chart, where the slices will be ordered and plotted counter-clockwise:\n",
    "if adm0 and not adm1 and not adm2:\n",
    "    dynamic_sentence = (f\"Tree cover for {location.lower()} of {iso_to_countries[adm0]}, \"\n",
    "                        f\"with tree canopy of \\u2265{threshold}%\")\n",
    "if adm0 and adm1 and not adm2: \n",
    "    dynamic_sentence = (f\"Tree cover for {location.lower()} of {areaId_to_name[adm1]}, \"\n",
    "                        f\"with tree canopy of \\u2265{threshold}%\")\n",
    "if adm0 and adm1 and adm2:\n",
    "    dynamic_sentence = (f\"Tree cover for {location.lower()} of {areaId_to_name[adm2]}, \"\n",
    "                        f\"with tree canopy of \\u2265{threshold}%\")\n",
    "\n",
    "\n",
    "if location in ['All Region']: \n",
    "    labels = 'Tree plantations', 'Natural Forest', 'Non-forest'\n",
    "    sizes = [plantations, tree_cover_extent_2010 - plantations, total_area - tree_cover_extent_2010]\n",
    "    colors = ['orange','green','grey']\n",
    "else: \n",
    "    labels = 'Tree cover', 'Non-forest'\n",
    "    sizes = [tree_cover_extent_2010, total_area - tree_cover_extent_2010]\n",
    "    colors = ['green','grey']\n",
    "    \n",
    "fig1, ax1 = plt.subplots()\n",
    "ax1.pie(sizes, labels=labels, autopct='%1.1f%%',\n",
    "        shadow=False, startangle=90, colors=colors)\n",
    "ax1.axis('equal')\n",
    "centre_circle = plt.Circle((0,0),0.75,color='black', fc='white',linewidth=0.5)\n",
    "fig1 = plt.gcf()\n",
    "fig1.gca().add_artist(centre_circle)\n",
    "plt.suptitle('Tree cover extent')\n",
    "plt.title(dynamic_sentence)\n",
    "plt.show()"
   ]
  },
  {
   "cell_type": "markdown",
   "metadata": {
    "ExecuteTime": {
     "end_time": "2017-11-23T12:23:46.777118Z",
     "start_time": "2017-11-23T12:23:46.768292Z"
    }
   },
   "source": [
    "## FAO FOREST Widget\n",
    "\n",
    "This widget should include 'FOREST COVER ' in the title - note the distinction, that the Hansen data relate to tree cover, and FAO relate to forest cover...\n",
    "\n",
    "An FAO-based forest widget can be calcuated based on data in a carto table `https://wri-01.carto.com/tables/gfw2_countries`\n",
    "\n",
    "It will take a little work, as the data stored in the carto table is % of primary, regenerated and planted forest. Therefore we must 1) get an area (ha) extent of the forest, 2) obtain the % values of various FAO forest statistics from the carto table, 3) derrive the real (ha) area of FAO forest for each category, and 4) get a value of absolute area of the country and subtract the values caluclated in step 3 from the total area to get non-forest. \n",
    "\n",
    "** Pie categories **\n",
    "\n",
    "* Primary Forest\n",
    "* Naturally Regenerated Forest\n",
    "* Planted Forest\n",
    "* Non-forest\n",
    "\n",
    "**Notes** \n",
    "\n",
    "1. These data (and therefore this widget) is only avaiable at the NATIONAL (ADMIN 0) level. And should dissapear from the pages if any other area is selected.\n",
    "\n",
    "1. These data have no threshold selection.\n",
    "\n",
    "1. As these data are only national, we can simply rely on the `umd_nat_staging` table to provide areas directly, rather than needing to dynamically calculate the areas."
   ]
  },
  {
   "cell_type": "code",
   "execution_count": 18,
   "metadata": {
    "ExecuteTime": {
     "end_time": "2017-12-11T14:05:43.867663Z",
     "start_time": "2017-12-11T14:05:43.862390Z"
    }
   },
   "outputs": [],
   "source": [
    "# For FAO data, only country (admin0) level data are avaiable. No other options on selector.\n",
    "\n",
    "# Variables\n",
    "adm0 = 'BRA'"
   ]
  },
  {
   "cell_type": "code",
   "execution_count": 19,
   "metadata": {
    "ExecuteTime": {
     "end_time": "2017-12-11T14:05:44.391207Z",
     "start_time": "2017-12-11T14:05:44.350367Z"
    }
   },
   "outputs": [
    {
     "name": "stdout",
     "output_type": "stream",
     "text": [
      "https://wri-01.carto.com/api/v2/sql?q=SELECT+fao.iso%2C+fao.name%2Cforest_planted%2C+forest_primary%2C+forest_regenerated%2C+fao.forest_primary%2C+fao.extent%2C+a.land+as+area_ha+FROM+gfw2_countries+as+fao+INNER+JOIN+umd_nat_staging+as+a+ON+fao.iso%3Da.iso+WHERE+fao.forest_primary+is+not+null+AND+fao.iso+%3D+%27BRA%27+AND+a.year+%3D+2001+AND+a.thresh+%3D+30+ \n",
      "\n",
      "{'fields': {'area_ha': {'type': 'number'},\n",
      "            'extent': {'type': 'number'},\n",
      "            'forest_planted': {'type': 'number'},\n",
      "            'forest_primary': {'type': 'number'},\n",
      "            'forest_regenerated': {'type': 'number'},\n",
      "            'iso': {'type': 'string'},\n",
      "            'name': {'type': 'string'}},\n",
      " 'rows': [{'area_ha': 853281125.672,\n",
      "           'extent': 492968489,\n",
      "           'forest_planted': 2,\n",
      "           'forest_primary': 41,\n",
      "           'forest_regenerated': 57,\n",
      "           'iso': 'BRA',\n",
      "           'name': 'Brazil'}],\n",
      " 'time': 0.009,\n",
      " 'total_rows': 1}\n"
     ]
    }
   ],
   "source": [
    "# First, get the FAO data from a carto table\n",
    "\n",
    "sql = (\"SELECT fao.iso, fao.name,forest_planted, forest_primary, \"\n",
    "         \"forest_regenerated, fao.forest_primary, fao.extent, a.land as area_ha \"\n",
    "         \"FROM gfw2_countries as fao \"\n",
    "         \"INNER JOIN umd_nat_staging as a \"\n",
    "         \"ON fao.iso=a.iso \"\n",
    "         \"WHERE fao.forest_primary is not null \"\n",
    "         f\"AND fao.iso = '{adm0}' \"\n",
    "         \"AND a.year = 2001 \"\n",
    "         \"AND a.thresh = 30 \"\n",
    "        )\n",
    "\n",
    "account = 'wri-01'\n",
    "urlCarto = \"https://{0}.carto.com/api/v2/sql\".format(account)\n",
    "\n",
    "sql = {\"q\": sql}\n",
    "r = requests.get(urlCarto, params=sql)\n",
    "print(r.url,'\\n')\n",
    "pprint(r.json())\n",
    "\n",
    "fao_percent = r.json().get('rows')[0]"
   ]
  },
  {
   "cell_type": "code",
   "execution_count": 20,
   "metadata": {
    "ExecuteTime": {
     "end_time": "2017-12-11T14:05:44.818487Z",
     "start_time": "2017-12-11T14:05:44.812489Z"
    }
   },
   "outputs": [],
   "source": [
    "# How to calculate the statitics needed based on the CARTO responses\n",
    "\n",
    "naturally_regenerated =  fao_percent['extent']/ 100 *  fao_percent['forest_regenerated']\n",
    "primary_forest = fao_percent['extent']/100 *  fao_percent['forest_primary']\n",
    "planted_forest = fao_percent['extent']/100 * fao_percent['forest_planted']\n",
    "non_forest = fao_percent['area_ha'] - (naturally_regenerated + primary_forest + planted_forest)"
   ]
  },
  {
   "cell_type": "code",
   "execution_count": 21,
   "metadata": {
    "ExecuteTime": {
     "end_time": "2017-12-11T14:05:45.482778Z",
     "start_time": "2017-12-11T14:05:45.283028Z"
    }
   },
   "outputs": [
    {
     "data": {
      "image/png": "[encoded data removed]",
      "text/plain": [
       "<matplotlib.figure.Figure at 0x113e9e0f0>"
      ]
     },
     "metadata": {},
     "output_type": "display_data"
    }
   ],
   "source": [
    "# FAO donut chart \n",
    "# NOTE - THE COLOURS ARE NOT NECESSARILY THOSE NEEDED FOR PRODUCTION\n",
    "labels = ['Naturally regenerated Forest', 'Primary Forest', 'Planted Forest', 'Non-Forest']\n",
    "sizes = [naturally_regenerated, primary_forest, planted_forest, non_forest]\n",
    "\n",
    "fig1, ax1 = plt.subplots()\n",
    "ax1.pie(sizes, labels=labels, autopct='%1.1f%%',\n",
    "        shadow=False, startangle=90, colors=['#0da330', '#69ef88','green','grey'])\n",
    "ax1.axis('equal')\n",
    "centre_circle = plt.Circle((0,0),0.75,color='black', fc='white',linewidth=0.5)\n",
    "fig1 = plt.gcf()\n",
    "fig1.gca().add_artist(centre_circle)\n",
    "plt.title(f'Forest cover in {adm0}')\n",
    "plt.show()"
   ]
  },
  {
   "cell_type": "code",
   "execution_count": 22,
   "metadata": {
    "ExecuteTime": {
     "end_time": "2017-12-11T14:05:45.851660Z",
     "start_time": "2017-12-11T14:05:45.814149Z"
    }
   },
   "outputs": [
    {
     "name": "stdout",
     "output_type": "stream",
     "text": [
      "https://wri-01.carto.com/api/v2/sql?q=WITH+mytable+AS+%28SELECT+fao.iso%2C+fao.name%2C+fao.forest_primary%2C+fao.extent+forest_extent%2C+a.land+as+area_ha+FROM+gfw2_countries+as+fao+INNER+JOIN+umd_nat_staging+as+a+ON+fao.iso%3Da.iso+WHERE+fao.forest_primary+%3E+0+AND+a.year+%3D+2001+AND+a.thresh+%3D+30%29%2C+rank+AS+%28+SELECT+forest_extent+%2A+%28forest_primary%2F100%29%2Farea_ha+%2A+100+as+percent_primary+%2Ciso+from+mytable+ORDER+BY+percent_primary+DESC%29%2C+item+as+%28select+percent_primary+from+rank+where+iso+%3D+%27BRA%27%29+select+count%28%2A%29+as+rank+from+rank+WHERE+percent_primary+%3E+%28select+percent_primary+from+item%29+ \n",
      "\n",
      "{'fields': {'rank': {'type': 'number'}},\n",
      " 'rows': [{'rank': 27}],\n",
      " 'time': 0.037,\n",
      " 'total_rows': 1}\n",
      "27\n"
     ]
    }
   ],
   "source": [
    "## RANK ALL COUNTRIES RELATIVE AMOUNT OF PRIMARY FOREST in 2015 and report that value for a dynamic sentence\n",
    "\n",
    "sql = (\"WITH mytable AS (SELECT fao.iso, fao.name, fao.forest_primary, fao.extent forest_extent, a.land as area_ha \"\n",
    "\"FROM gfw2_countries as fao \"\n",
    "\"INNER JOIN umd_nat_staging as a \"\n",
    "\"ON fao.iso=a.iso \"\n",
    "\"WHERE fao.forest_primary > 0 \"\n",
    "\"AND a.year = 2001 \"\n",
    "\"AND a.thresh = 30), \"\n",
    "\"rank AS ( \"\n",
    "\"SELECT forest_extent * (forest_primary/100)/area_ha * 100 as percent_primary ,iso \"\n",
    "\"from mytable \"\n",
    "\"ORDER BY percent_primary DESC), \"\n",
    "f\"item as (select percent_primary from rank where iso = '{adm0}') \"\n",
    "\"select count(*) as rank \"\n",
    "\"from rank \"\n",
    "\"WHERE percent_primary > (select percent_primary from item) \")\n",
    "\n",
    "account = 'wri-01'\n",
    "urlCarto = \"https://{0}.carto.com/api/v2/sql\".format(account)\n",
    "\n",
    "sql = {\"q\": sql}\n",
    "r = requests.get(urlCarto, params=sql)\n",
    "print(r.url,'\\n')\n",
    "pprint(r.json())\n",
    "\n",
    "rank = r.json().get('rows')[0].get('rank')\n",
    "print(rank)"
   ]
  },
  {
   "cell_type": "code",
   "execution_count": 23,
   "metadata": {
    "ExecuteTime": {
     "end_time": "2017-12-11T14:05:46.554458Z",
     "start_time": "2017-12-11T14:05:46.536722Z"
    }
   },
   "outputs": [
    {
     "name": "stdout",
     "output_type": "stream",
     "text": [
      "FAO data from 2015 shows that Brazil is mostly forest. Primary forest occupies 23.7% of the country. This gives Brazil a rank of 27th out of 110 countries in terms of its relative amount of primary forest.\n"
     ]
    }
   ],
   "source": [
    "# Dyanmic sentence for FAO plot\n",
    "\n",
    "print(f\"FAO data from 2015 shows that {iso_to_countries[adm0]} is \", end=\"\")\n",
    "\n",
    "if  non_forest/fao_percent['area_ha'] > 0.5:\n",
    "    print('mostly non-forest. ', end=\"\")\n",
    "else:\n",
    "    print('mostly forest. ',end=\"\")\n",
    "\n",
    "if primary_forest > 0:\n",
    "    print(f\"Primary forest occupies {primary_forest/fao_percent['area_ha']*100:3.1f}% of the country. \", end=\"\")\n",
    "    print(f\"This gives {iso_to_countries[adm0]} a rank of {rank}th out of 110 countries in terms of \", end=\"\")\n",
    "    print(\"its relative amount of primary forest.\")"
   ]
  },
  {
   "cell_type": "markdown",
   "metadata": {},
   "source": [
    "## TREE COVER LOSS WIDGET \n",
    "\n",
    "The UMD/Hansen Tree cover loss widget should be a bar chart, with time as the x-axis, and loss (ha) as the y-axis, on hover it should show the year, ha loss, and % loss relative to 2000 tree cover extent *for the data table of interest*.\n",
    "\n",
    "** Notes ** \n",
    "\n",
    "* Loss data tables have loss units in both area (ha) and emissions (t co2/ha). The emissions units will only be used in the loss widget to add contextual info to the dynamic sentence.\n",
    "\n",
    "* It is probably best to always request the full time period of data from the table, and then subset it client-side, as we will always need to know the last year of loss to construct the dynamic sentence.\n",
    "\n",
    "* In settings, the users should be able to change the data sources, when they do you will need to query different data tables both for calculating loss and extent (to calculate relative loss):\n",
    "    - All region (default) view: gadm28 table\n",
    "    - all other data tables currently created should be selectable too\n",
    "    \n",
    "*more info - not needed for front-end devs*\n",
    "- for refrence in testing adm0 = BRA, adm1 = 12, adm2 = 1434 is Mato Grosso, Cáceres\n",
    "\n",
    "\n",
    "** WHen plantations are selected the user should see a stacked bar chart  from 2013 onwards **\n",
    "More details of this to follow below.\n"
   ]
  },
  {
   "cell_type": "code",
   "execution_count": 102,
   "metadata": {
    "ExecuteTime": {
     "end_time": "2017-12-11T14:55:08.491214Z",
     "start_time": "2017-12-11T14:55:08.483288Z"
    }
   },
   "outputs": [],
   "source": [
    "# Variables\n",
    "\n",
    "threshold=30\n",
    "adm0 = 'BRA'\n",
    "adm1 = None\n",
    "adm2 = None\n",
    "start=2000\n",
    "end=2016\n",
    "location = \"All Region\""
   ]
  },
  {
   "cell_type": "code",
   "execution_count": 103,
   "metadata": {
    "ExecuteTime": {
     "end_time": "2017-12-11T14:55:09.486328Z",
     "start_time": "2017-12-11T14:55:09.474797Z"
    }
   },
   "outputs": [],
   "source": [
    "# get a human readable {id: name} json for either admin 1 or 2 level as needed:\n",
    "\n",
    "areaId_to_name = None\n",
    "if adm2:\n",
    "    tmp = get_admin2_json(iso=adm0, adm1=adm1)\n",
    "    areaId_to_name ={}\n",
    "    for row in tmp:\n",
    "        areaId_to_name[row.get('adm2')] = row.get('name')\n",
    "if adm1 and not adm2:\n",
    "    tmp = get_admin1_json(iso=adm0)\n",
    "    areaId_to_name={}\n",
    "    for row in tmp:\n",
    "        areaId_to_name[row.get('adm1')] = row.get('name')"
   ]
  },
  {
   "cell_type": "code",
   "execution_count": 104,
   "metadata": {
    "ExecuteTime": {
     "end_time": "2017-12-11T14:55:10.067680Z",
     "start_time": "2017-12-11T14:55:10.048206Z"
    }
   },
   "outputs": [],
   "source": [
    "def loss_queries(p_name, adm0, adm1=None, adm2=None, threshold=30):\n",
    "    if adm2:\n",
    "        print(f'Request for adm2 area')\n",
    "        sql = (f\"SELECT polyname, year_data.year as year, \"\n",
    "               f\"SUM(year_data.area_loss) as area, \"\n",
    "               f\"SUM(year_data.emissions) as emissions \"\n",
    "               f\"FROM data \"\n",
    "               f\"WHERE polyname = '{p_name}' \"\n",
    "               f\"AND iso = '{adm0}' \"\n",
    "               f\"AND adm1 = {adm1} \"\n",
    "               f\"AND adm2 = {adm2} \"\n",
    "               f\"GROUP BY polyname, iso, nested(year_data.year)\")\n",
    "        return sql\n",
    "    elif adm1:\n",
    "        print('Request for  adm1 area')\n",
    "        sql = (f\"SELECT polyname, year_data.year as year, \"\n",
    "               f\"SUM(year_data.area_loss) as area, \"\n",
    "               f\"SUM(year_data.emissions) as emissions \"\n",
    "               f\"FROM data \"\n",
    "               f\"WHERE polyname = '{p_name}' \"\n",
    "               f\"AND iso = '{adm0}' \"\n",
    "               f\"AND adm1 = {adm1} \"\n",
    "               f\"GROUP BY polyname, iso, nested(year_data.year)\")\n",
    "        return sql\n",
    "    elif adm0:\n",
    "        print('Request for  adm0 area')\n",
    "        sql = (f\"SELECT polyname, year_data.year as year, \"\n",
    "               f\"SUM(year_data.area_loss) as area, \"\n",
    "               f\"SUM(year_data.emissions) as emissions \"\n",
    "               f\"FROM data \"\n",
    "               f\"WHERE polyname = '{p_name}' \" \n",
    "               f\"AND iso = '{adm0}' \"\n",
    "               f\"GROUP BY polyname, iso, nested(year_data.year)\")\n",
    "        return sql\n",
    "\n"
   ]
  },
  {
   "cell_type": "markdown",
   "metadata": {},
   "source": [
    "Loss on hover should show % loss relative to Tree cover extent of the location selected in the year 2010. I.e. if someone is interested in the 'All region' default view, then the loss should come from the `gadm28 loss` table, and the extent (to calculate the relative loss) should come from the `gadm28 extent` table.\n",
    "\n",
    "Therefore we must calculate loss % also, for this we will need the tree cover extent data too."
   ]
  },
  {
   "cell_type": "code",
   "execution_count": 105,
   "metadata": {
    "ExecuteTime": {
     "end_time": "2017-12-11T14:55:11.277098Z",
     "start_time": "2017-12-11T14:55:11.244473Z"
    }
   },
   "outputs": [
    {
     "name": "stdout",
     "output_type": "stream",
     "text": [
      "Request for  adm0 area\n",
      "SELECT SUM(area_extent) as value, SUM(area_gadm28) as total_area FROM data WHERE iso = 'BRA' AND thresh = 30 AND polyname = 'gadm28'\n",
      "https://production-api.globalforestwatch.org/v1/query/499682b1-3174-493f-ba1a-368b4636708e?sql=SELECT+SUM%28area_extent%29+as+value%2C+SUM%28area_gadm28%29+as+total_area+FROM+data+WHERE+iso+%3D+%27BRA%27+AND+thresh+%3D+30+AND+polyname+%3D+%27gadm28%27\n",
      "Status: 200\n",
      "{'data': [{'total_area': 850033236.0091553, 'value': 519187505.155631}],\n",
      " 'meta': {'cloneUrl': {'body': {'dataset': {'application': ['your', 'apps'],\n",
      "                                            'datasetUrl': '/v1/query/499682b1-3174-493f-ba1a-368b4636708e?sql=SELECT%20SUM%28area_extent%29%20as%20value%2C%20SUM%28area_gadm28%29%20as%20total_area%20FROM%20data%20WHERE%20iso%20%3D%20%27BRA%27%20AND%20thresh%20%3D%2030%20AND%20polyname%20%3D%20%27gadm28%27'}},\n",
      "                       'http_method': 'POST',\n",
      "                       'url': '/v1/dataset/499682b1-3174-493f-ba1a-368b4636708e/clone'}}}\n"
     ]
    }
   ],
   "source": [
    "# First, get the extent of tree cover over your area of interest (to work out relative loss)\n",
    "sql = extent_queries(p_name=polynames[location], adm0=adm0, \n",
    "                   adm1=adm1, adm2=adm2, threshold=threshold)    \n",
    "print(sql) # loss query\n",
    "properties = {\"sql\": sql}\n",
    "r = requests.get(url, params = properties)\n",
    "print(r.url)\n",
    "print(f'Status: {r.status_code}')\n",
    "pprint(r.json())\n",
    "y2010_relative_extent = r.json().get('data')[0].get('total_area')"
   ]
  },
  {
   "cell_type": "code",
   "execution_count": 106,
   "metadata": {
    "ExecuteTime": {
     "end_time": "2017-12-11T14:55:16.682341Z",
     "start_time": "2017-12-11T14:55:12.046649Z"
    }
   },
   "outputs": [
    {
     "name": "stdout",
     "output_type": "stream",
     "text": [
      "BRA\n",
      "Request for  adm0 area\n",
      "SELECT polyname, year_data.year as year, SUM(year_data.area_loss) as area, SUM(year_data.emissions) as emissions FROM data WHERE polyname = 'gadm28' AND iso = 'BRA' GROUP BY polyname, iso, nested(year_data.year)\n",
      "https://production-api.globalforestwatch.org/v1/query/499682b1-3174-493f-ba1a-368b4636708e?sql=SELECT+polyname%2C+year_data.year+as+year%2C+SUM%28year_data.area_loss%29+as+area%2C+SUM%28year_data.emissions%29+as+emissions+FROM+data+WHERE+polyname+%3D+%27gadm28%27+AND+iso+%3D+%27BRA%27+GROUP+BY+polyname%2C+iso%2C+nested%28year_data.year%29\n",
      "Status: 200\n",
      "{'data': [{'area': 21424641.290500984,\n",
      "           'emissions': 3563604130.7767396,\n",
      "           'iso': 'BRA',\n",
      "           'polyname': 'gadm28',\n",
      "           'year': 2001},\n",
      "          {'area': 27492212.553201586,\n",
      "           'emissions': 4741400865.285859,\n",
      "           'iso': 'BRA',\n",
      "           'polyname': 'gadm28',\n",
      "           'year': 2002},\n",
      "          {'area': 25409165.46797932,\n",
      "           'emissions': 4271566892.146481,\n",
      "           'iso': 'BRA',\n",
      "           'polyname': 'gadm28',\n",
      "           'year': 2003},\n",
      "          {'area': 30234280.081161804,\n",
      "           'emissions': 5356503299.041854,\n",
      "           'iso': 'BRA',\n",
      "           'polyname': 'gadm28',\n",
      "           'year': 2004},\n",
      "          {'area': 27409898.160102673,\n",
      "           'emissions': 5110957181.768114,\n",
      "           'iso': 'BRA',\n",
      "           'polyname': 'gadm28',\n",
      "           'year': 2005},\n",
      "          {'area': 22578871.102363594,\n",
      "           'emissions': 4067398296.692106,\n",
      "           'iso': 'BRA',\n",
      "           'polyname': 'gadm28',\n",
      "           'year': 2006},\n",
      "          {'area': 20458587.425226763,\n",
      "           'emissions': 3451096748.555602,\n",
      "           'iso': 'BRA',\n",
      "           'polyname': 'gadm28',\n",
      "           'year': 2007},\n",
      "          {'area': 19152320.100703426,\n",
      "           'emissions': 3327862785.663736,\n",
      "           'iso': 'BRA',\n",
      "           'polyname': 'gadm28',\n",
      "           'year': 2008},\n",
      "          {'area': 14164364.704464085,\n",
      "           'emissions': 2439377170.2595525,\n",
      "           'iso': 'BRA',\n",
      "           'polyname': 'gadm28',\n",
      "           'year': 2009},\n",
      "          {'area': 21002503.593339548,\n",
      "           'emissions': 3593440864.0889196,\n",
      "           'iso': 'BRA',\n",
      "           'polyname': 'gadm28',\n",
      "           'year': 2010},\n",
      "          {'area': 15061467.113637947,\n",
      "           'emissions': 2550798843.7887115,\n",
      "           'iso': 'BRA',\n",
      "           'polyname': 'gadm28',\n",
      "           'year': 2011},\n",
      "          {'area': 22951322.425714426,\n",
      "           'emissions': 3657835315.1480317,\n",
      "           'iso': 'BRA',\n",
      "           'polyname': 'gadm28',\n",
      "           'year': 2012},\n",
      "          {'area': 15669499.938076407,\n",
      "           'emissions': 2362660300.6733274,\n",
      "           'iso': 'BRA',\n",
      "           'polyname': 'gadm28',\n",
      "           'year': 2013},\n",
      "          {'area': 21682220.347236887,\n",
      "           'emissions': 3268861032.394821,\n",
      "           'iso': 'BRA',\n",
      "           'polyname': 'gadm28',\n",
      "           'year': 2014},\n",
      "          {'area': 17906407.221770637,\n",
      "           'emissions': 2742577793.491885,\n",
      "           'iso': 'BRA',\n",
      "           'polyname': 'gadm28',\n",
      "           'year': 2015},\n",
      "          {'area': 43165379.459791414,\n",
      "           'emissions': 7633994661.940508,\n",
      "           'iso': 'BRA',\n",
      "           'polyname': 'gadm28',\n",
      "           'year': 2016}],\n",
      " 'meta': {'cloneUrl': {'body': {'dataset': {'application': ['your', 'apps'],\n",
      "                                            'datasetUrl': '/v1/query/499682b1-3174-493f-ba1a-368b4636708e?sql=SELECT%20polyname%2C%20year_data.year%20as%20year%2C%20SUM%28year_data.area_loss%29%20as%20area%2C%20SUM%28year_data.emissions%29%20as%20emissions%20FROM%20data%20WHERE%20polyname%20%3D%20%27gadm28%27%20AND%20iso%20%3D%20%27BRA%27%20GROUP%20BY%20polyname%2C%20iso%2C%20nested%28year_data.year%29'}},\n",
      "                       'http_method': 'POST',\n",
      "                       'url': '/v1/dataset/499682b1-3174-493f-ba1a-368b4636708e/clone'}}}\n",
      "{2001: {'area_%': 2.5204474816876723,\n",
      "        'area_ha': 21424641.290500984,\n",
      "        'emissions': 3563604130.7767396},\n",
      " 2002: {'area_%': 3.2342514843626047,\n",
      "        'area_ha': 27492212.553201586,\n",
      "        'emissions': 4741400865.285859},\n",
      " 2003: {'area_%': 2.989196703328157,\n",
      "        'area_ha': 25409165.46797932,\n",
      "        'emissions': 4271566892.146481},\n",
      " 2004: {'area_%': 3.556835050722201,\n",
      "        'area_ha': 30234280.081161804,\n",
      "        'emissions': 5356503299.041854},\n",
      " 2005: {'area_%': 3.2245678167585736,\n",
      "        'area_ha': 27409898.160102673,\n",
      "        'emissions': 5110957181.768114},\n",
      " 2006: {'area_%': 2.6562339148489964,\n",
      "        'area_ha': 22578871.102363594,\n",
      "        'emissions': 4067398296.692106},\n",
      " 2007: {'area_%': 2.4067985295820145,\n",
      "        'area_ha': 20458587.425226763,\n",
      "        'emissions': 3451096748.555602},\n",
      " 2008: {'area_%': 2.253126029591759,\n",
      "        'area_ha': 19152320.100703426,\n",
      "        'emissions': 3327862785.663736},\n",
      " 2009: {'area_%': 1.6663306920756131,\n",
      "        'area_ha': 14164364.704464085,\n",
      "        'emissions': 2439377170.2595525},\n",
      " 2010: {'area_%': 2.470786165014534,\n",
      "        'area_ha': 21002503.593339548,\n",
      "        'emissions': 3593440864.0889196},\n",
      " 2011: {'area_%': 1.771868025343391,\n",
      "        'area_ha': 15061467.113637947,\n",
      "        'emissions': 2550798843.7887115},\n",
      " 2012: {'area_%': 2.7000500043350337,\n",
      "        'area_ha': 22951322.425714426,\n",
      "        'emissions': 3657835315.1480317},\n",
      " 2013: {'area_%': 1.8433985018801828,\n",
      "        'area_ha': 15669499.938076407,\n",
      "        'emissions': 2362660300.6733274},\n",
      " 2014: {'area_%': 2.550749715273881,\n",
      "        'area_ha': 21682220.347236887,\n",
      "        'emissions': 3268861032.394821},\n",
      " 2015: {'area_%': 2.106553774984132,\n",
      "        'area_ha': 17906407.221770637,\n",
      "        'emissions': 2742577793.491885},\n",
      " 2016: {'area_%': 5.078081377435282,\n",
      "        'area_ha': 43165379.459791414,\n",
      "        'emissions': 7633994661.940508}}\n"
     ]
    }
   ],
   "source": [
    "#ds = '499682b1-3174-493f-ba1a-368b4636708e'\n",
    "url = f\"https://production-api.globalforestwatch.org/v1/query/{ds}\"\n",
    "\n",
    "print(adm0)\n",
    "\n",
    "# Next, get the loss data grouped by year\n",
    "sql = loss_queries(p_name=polynames[location], adm0=adm0, \n",
    "                   adm1=adm1, adm2=adm2, threshold=threshold)    \n",
    "print(sql) # loss query\n",
    "properties = {\"sql\": sql}\n",
    "r = requests.get(url, params = properties)\n",
    "print(r.url)\n",
    "print(f'Status: {r.status_code}')\n",
    "pprint(r.json())\n",
    "\n",
    "\n",
    "# # Extract the year, and loss in hectares, and emissions units, and calculate the relative loss in %\n",
    "d = {}\n",
    "for row in r.json().get('data'):\n",
    "    tmp_yr = float(row.get('year'))\n",
    "    if tmp_yr > 2000:\n",
    "        try:\n",
    "            tmp_area = float(row.get('area'))\n",
    "        except:\n",
    "            tmp_area = None\n",
    "            \n",
    "        try:\n",
    "            tmp_area_pcnt = (tmp_area / y2010_relative_extent) * 100\n",
    "        except:\n",
    "            tmp_area_pcnt = None\n",
    "            \n",
    "        try:\n",
    "            tmp_emiss = float(row.get('emissions'))\n",
    "        except:\n",
    "            tmp_emiss = None\n",
    "            \n",
    "        d[int(tmp_yr)] = {'area_ha': tmp_area,\n",
    "                              'area_%': tmp_area_pcnt,\n",
    "                              'emissions': tmp_emiss,\n",
    "                               }\n",
    "pprint(d)"
   ]
  },
  {
   "cell_type": "markdown",
   "metadata": {},
   "source": [
    "Use the `start` and `end` variables to filter the time-range on the front-end."
   ]
  },
  {
   "cell_type": "code",
   "execution_count": 107,
   "metadata": {
    "ExecuteTime": {
     "end_time": "2017-12-11T14:55:16.957369Z",
     "start_time": "2017-12-11T14:55:16.685999Z"
    }
   },
   "outputs": [
    {
     "data": {
      "image/png": "[encoded data removed]",
      "text/plain": [
       "<matplotlib.figure.Figure at 0x116b05320>"
      ]
     },
     "metadata": {},
     "output_type": "display_data"
    }
   ],
   "source": [
    "if adm0 and not adm1 and not adm2:\n",
    "    dynamic_title = (f'{iso_to_countries[adm0]} tree cover loss for {location.lower()}')\n",
    "if adm0 and adm1 and not adm2: \n",
    "    dynamic_title = (f\"{areaId_to_name[adm1]} tree cover loss for {location.lower()}\")\n",
    "if adm0 and adm1 and adm2:\n",
    "    dynamic_title = (f\"{areaId_to_name[adm2]} tree cover loss for {location.lower()}\")\n",
    "\n",
    "\n",
    "loss = []\n",
    "for val in d.values():\n",
    "    if val.get('area_ha'):\n",
    "        loss.append(val.get('area_ha'))\n",
    "    else:\n",
    "        loss.append(0)\n",
    "\n",
    "years = d.keys()\n",
    "width = 0.35\n",
    "fig, ax = plt.subplots()\n",
    "rects1 = ax.bar(years, loss, width, color='#FE5A8D')\n",
    "\n",
    "\n",
    "# add some text for labels, title and axes ticks\n",
    "ax.set_ylabel('Loss extent (ha)')\n",
    "ax.set_title(dynamic_title)\n",
    "plt.show()"
   ]
  },
  {
   "cell_type": "markdown",
   "metadata": {},
   "source": [
    "#### Dynamic sentence \n",
    "\n",
    "For the loss widget we also need a dynamic sentence."
   ]
  },
  {
   "cell_type": "code",
   "execution_count": 108,
   "metadata": {
    "ExecuteTime": {
     "end_time": "2017-12-11T14:55:21.197624Z",
     "start_time": "2017-12-11T14:55:21.173582Z"
    }
   },
   "outputs": [
    {
     "name": "stdout",
     "output_type": "stream",
     "text": [
      "2001 3563604130.7767396 21424641.290500984\n",
      "2002 4741400865.285859 27492212.553201586\n",
      "2003 4271566892.146481 25409165.46797932\n",
      "2004 5356503299.041854 30234280.081161804\n",
      "2005 5110957181.768114 27409898.160102673\n",
      "2006 4067398296.692106 22578871.102363594\n",
      "2007 3451096748.555602 20458587.425226763\n",
      "2008 3327862785.663736 19152320.100703426\n",
      "2009 2439377170.2595525 14164364.704464085\n",
      "2010 3593440864.0889196 21002503.593339548\n",
      "2011 2550798843.7887115 15061467.113637947\n",
      "2012 3657835315.1480317 22951322.425714426\n",
      "2013 2362660300.6733274 15669499.938076407\n",
      "2014 3268861032.394821 21682220.347236887\n",
      "2015 2742577793.491885 17906407.221770637\n",
      "2016 7633994661.940508 43165379.459791414\n"
     ]
    }
   ],
   "source": [
    "for year in d:\n",
    "    print(year, d.get(year).get('emissions'), d.get(year).get('area_ha'))"
   ]
  },
  {
   "cell_type": "code",
   "execution_count": 109,
   "metadata": {
    "ExecuteTime": {
     "end_time": "2017-12-11T14:55:23.492217Z",
     "start_time": "2017-12-11T14:55:23.481488Z"
    }
   },
   "outputs": [
    {
     "name": "stdout",
     "output_type": "stream",
     "text": [
      "[62139936181.71625, 365763140.9852715]\n"
     ]
    }
   ],
   "source": [
    "# First find total emissions, and loss, and also the last year of emissions and loss\n",
    "\n",
    "total_emissions = 0\n",
    "total_loss = 0\n",
    "for year in d:\n",
    "    total_loss += d.get(year).get('area_ha')\n",
    "    total_emissions += d.get(year).get('emissions')\n",
    "\n",
    "print([total_emissions, total_loss])"
   ]
  },
  {
   "cell_type": "code",
   "execution_count": 110,
   "metadata": {
    "ExecuteTime": {
     "end_time": "2017-12-11T14:55:23.971646Z",
     "start_time": "2017-12-11T14:55:23.950668Z"
    }
   },
   "outputs": [
    {
     "name": "stdout",
     "output_type": "stream",
     "text": [
      "Between 2000 and 2016, Brazil (all region) lost 365,763,141 ha of tree cover: This loss is equal to 43.03% of the total all region tree cover extent in 2010, and equivalent to 62,139,936,182 tonnes of CO₂ emissions. "
     ]
    }
   ],
   "source": [
    "# Dynamic sentence construction\n",
    "\n",
    "if adm0 and not adm1 and not adm2:\n",
    "    print(f\"Between {start} and {end}, {iso_to_countries[adm0]} ({location.lower()}) \", end=\"\")\n",
    "if adm0 and adm1 and not adm2: \n",
    "    print(f\"Between {start} and {end},  {location} of {areaId_to_name[adm1].lower()} \", end=\"\")\n",
    "if adm0 and adm1 and adm2:\n",
    "    print(f\"Between {start} and {end}, {location} of {areaId_to_name[adm2].lower()} \", end=\"\")\n",
    "    \n",
    "print(f\"lost {total_loss:,.0f} ha of tree cover: \", end=\"\")\n",
    "print(f\"This loss is equal to {total_loss / y2010_relative_extent * 100:3.2f}% of the total \", end=\"\")\n",
    "print(f\"{location.lower()} tree cover extent in 2010, \", end=\"\")\n",
    "print(f\"and equivalent to {total_emissions:,.0f} tonnes of CO\\u2082 emissions. \", end=\"\")"
   ]
  },
  {
   "cell_type": "markdown",
   "metadata": {
    "ExecuteTime": {
     "end_time": "2017-11-24T12:43:42.896404Z",
     "start_time": "2017-11-24T12:43:42.701528Z"
    }
   },
   "source": [
    "## HEADER DYNAMIC SENTENCE\n",
    "\n",
    "The page header needs to contain a dynamic sentence; this sentence is built from the same data tables (and most of the same queries) that we have already used. (Which is why I am describing it here, rather than at the start of the notebook.)\n",
    "\n",
    "The sentence should be able to account for edge cases where no loss occured (as people will end up looking at admin 2 areas) which may be relativley small, and possibly have no loss.\n",
    "\n",
    "Be prepared for the need to increase the complexity/comprehensivness of the header sentence over time."
   ]
  },
  {
   "cell_type": "code",
   "execution_count": 94,
   "metadata": {
    "ExecuteTime": {
     "end_time": "2017-12-11T14:53:43.469358Z",
     "start_time": "2017-12-11T14:53:43.409744Z"
    }
   },
   "outputs": [],
   "source": [
    "def extract_loss(json_data, last_year=2016):\n",
    "    \"\"\"Grab the last loss year of data for area and emissions\"\"\"\n",
    "    for row in json_data:\n",
    "        if row.get('year') == last_year:\n",
    "            last_loss = row.get('area')\n",
    "            last_emissions = row.get('emissions')\n",
    "    return {'area':last_loss, 'emissions':last_emissions}"
   ]
  },
  {
   "cell_type": "code",
   "execution_count": 95,
   "metadata": {
    "ExecuteTime": {
     "end_time": "2017-12-11T14:53:45.835070Z",
     "start_time": "2017-12-11T14:53:45.829384Z"
    }
   },
   "outputs": [],
   "source": [
    "last_year = 2016\n",
    "threshold = 30\n",
    "adm0 = 'BRA'\n",
    "adm1 = 14\n",
    "adm2 = None"
   ]
  },
  {
   "cell_type": "code",
   "execution_count": 96,
   "metadata": {
    "ExecuteTime": {
     "end_time": "2017-12-11T14:53:46.560770Z",
     "start_time": "2017-12-11T14:53:46.537257Z"
    }
   },
   "outputs": [],
   "source": [
    "# get a human readable {id: name} json for either admin 1 or 2 level as needed:\n",
    "\n",
    "areaId_to_name = None\n",
    "if adm2:\n",
    "    tmp = get_admin2_json(iso=adm0, adm1=adm1)\n",
    "    areaId_to_name ={}\n",
    "    for row in tmp:\n",
    "        areaId_to_name[row.get('adm2')] = row.get('name')\n",
    "if adm1 and not adm2:\n",
    "    tmp = get_admin1_json(iso=adm0)\n",
    "    areaId_to_name={}\n",
    "    for row in tmp:\n",
    "        areaId_to_name[row.get('adm1')] = row.get('name') "
   ]
  },
  {
   "cell_type": "code",
   "execution_count": 97,
   "metadata": {
    "ExecuteTime": {
     "end_time": "2017-12-11T14:53:47.075390Z",
     "start_time": "2017-12-11T14:53:47.051344Z"
    }
   },
   "outputs": [
    {
     "ename": "NameError",
     "evalue": "name 'data_sources' is not defined",
     "output_type": "error",
     "traceback": [
      "\u001b[0;31m---------------------------------------------------------------------------\u001b[0m",
      "\u001b[0;31mNameError\u001b[0m                                 Traceback (most recent call last)",
      "\u001b[0;32m<ipython-input-97-11c8113817e7>\u001b[0m in \u001b[0;36m<module>\u001b[0;34m()\u001b[0m\n\u001b[1;32m      1\u001b[0m \u001b[0;31m# Get the plantation last year data for the region of interest\u001b[0m\u001b[0;34m\u001b[0m\u001b[0;34m\u001b[0m\u001b[0m\n\u001b[1;32m      2\u001b[0m \u001b[0;34m\u001b[0m\u001b[0m\n\u001b[0;32m----> 3\u001b[0;31m sql = loss_queries(ds=data_sources.get('Tree Plantations').get('loss'), adm0=adm0, adm1=adm1, adm2=adm2,\n\u001b[0m\u001b[1;32m      4\u001b[0m              threshold=threshold, start=start, end = end)\n\u001b[1;32m      5\u001b[0m \u001b[0;34m\u001b[0m\u001b[0m\n",
      "\u001b[0;31mNameError\u001b[0m: name 'data_sources' is not defined"
     ]
    }
   ],
   "source": [
    "# Get the plantation last year data for the region of interest\n",
    "\n",
    "sql = loss_queries(ds=data_sources.get('Tree Plantations').get('loss'), adm0=adm0, adm1=adm1, adm2=adm2,\n",
    "             threshold=threshold, start=start, end = end)\n",
    "\n",
    "properties = {\"sql\": sql}\n",
    "r = requests.get(url, params = properties)\n",
    "print(r.url)\n",
    "print(f'Status: {r.status_code}')\n",
    "\n",
    "plantation_loss_json = r.json().get('data')\n",
    "plantation_values = extract_loss(plantation_loss_json, last_year=last_year)\n",
    "print(plantation_values)"
   ]
  },
  {
   "cell_type": "code",
   "execution_count": 98,
   "metadata": {
    "ExecuteTime": {
     "end_time": "2017-12-11T14:53:49.161429Z",
     "start_time": "2017-12-11T14:53:49.136305Z"
    }
   },
   "outputs": [
    {
     "ename": "NameError",
     "evalue": "name 'data_sources' is not defined",
     "output_type": "error",
     "traceback": [
      "\u001b[0;31m---------------------------------------------------------------------------\u001b[0m",
      "\u001b[0;31mNameError\u001b[0m                                 Traceback (most recent call last)",
      "\u001b[0;32m<ipython-input-98-e928dc87c67d>\u001b[0m in \u001b[0;36m<module>\u001b[0;34m()\u001b[0m\n\u001b[1;32m      2\u001b[0m \u001b[0mgadm28_loss_table\u001b[0m \u001b[0;34m=\u001b[0m \u001b[0;34m\"88994c38-1ea1-4a32-82ca-073547d11176\"\u001b[0m\u001b[0;34m\u001b[0m\u001b[0m\n\u001b[1;32m      3\u001b[0m \u001b[0;34m\u001b[0m\u001b[0m\n\u001b[0;32m----> 4\u001b[0;31m sql = loss_queries(ds=data_sources.get('All Region').get('loss'), adm0=adm0, adm1=adm1, adm2=adm2,\n\u001b[0m\u001b[1;32m      5\u001b[0m              threshold=threshold, start=start, end = end)\n\u001b[1;32m      6\u001b[0m \u001b[0;34m\u001b[0m\u001b[0m\n",
      "\u001b[0;31mNameError\u001b[0m: name 'data_sources' is not defined"
     ]
    }
   ],
   "source": [
    "# Get the gadm28 loss \n",
    "gadm28_loss_table = \"88994c38-1ea1-4a32-82ca-073547d11176\"\n",
    "\n",
    "sql = loss_queries(ds=data_sources.get('All Region').get('loss'), adm0=adm0, adm1=adm1, adm2=adm2,\n",
    "             threshold=threshold, start=start, end = end)\n",
    "\n",
    "properties = {\"sql\": sql}\n",
    "r = requests.get(url, params = properties)\n",
    "print(r.url)\n",
    "print(f'Status: {r.status_code}')\n",
    "\n",
    "plantation_loss_json = r.json().get('data')\n",
    "gadm28_values = extract_loss(plantation_loss_json, last_year=last_year)\n",
    "print(gadm28_values)"
   ]
  },
  {
   "cell_type": "code",
   "execution_count": null,
   "metadata": {
    "ExecuteTime": {
     "end_time": "2017-12-01T10:57:17.116824Z",
     "start_time": "2017-12-01T10:57:17.093125Z"
    }
   },
   "outputs": [],
   "source": [
    "# Get total land area (ha) of selected region  - hopefully we can change this soon to use a\n",
    "# table inthe data_source\n",
    "\n",
    "sql = area_queries(adm0=adm0, adm1=adm1, adm2=adm2)\n",
    "\n",
    "account = 'wri-01'\n",
    "urlCarto = \"https://{0}.carto.com/api/v2/sql\".format(account)\n",
    "\n",
    "sql = {\"q\": sql}\n",
    "r = requests.get(urlCarto, params=sql)\n",
    "print(r.url,'\\n')\n",
    "pprint(r.json())\n",
    "\n",
    "total_area = r.json().get('rows')[0].get('value')\n",
    "#print(f\"\\n {total_area} ha total area selected\")"
   ]
  },
  {
   "cell_type": "code",
   "execution_count": null,
   "metadata": {
    "ExecuteTime": {
     "end_time": "2017-12-01T10:57:17.155880Z",
     "start_time": "2017-12-01T10:57:17.119532Z"
    }
   },
   "outputs": [],
   "source": [
    "# Get 2010 tree cover extent of selected area from gadm28 table \n",
    "\n",
    "sql = extent_queries(ds=data_sources.get('All Region').get('extent'), adm0=adm0, adm1=adm1, adm2=adm2, threshold=threshold)\n",
    "r = requests.get(url, params = {\"sql\": sql})\n",
    "\n",
    "print(r.url)\n",
    "print(f'Status: {r.status_code}')\n",
    "pprint(r.json())\n",
    "\n",
    "try:\n",
    "    tree_cover_extent_2010 = r.json().get('data')[0].get('value')\n",
    "except:\n",
    "    tree_cover_extent_2010 = 0.0\n",
    "print(f\"\\n{adm0} {adm1} {adm2} Gadm28 Tree cover extent = {tree_cover_extent_2010} ha\")\n"
   ]
  },
  {
   "cell_type": "code",
   "execution_count": null,
   "metadata": {
    "ExecuteTime": {
     "end_time": "2017-12-01T10:57:17.211021Z",
     "start_time": "2017-12-01T10:57:17.158787Z"
    }
   },
   "outputs": [],
   "source": [
    "# DYNAMIC SENTENCE\n",
    "\n",
    "if adm0 and not adm1 and not adm2:\n",
    "    print(f\"In 2010, {iso_to_countries[adm0]} had {int(tree_cover_extent_2010):,.0f} ha of tree cover\", end=\"\")     \n",
    "if adm0 and adm1 and not adm2: \n",
    "    print(f\"In 2010, {areaId_to_name[adm1]} had {int(tree_cover_extent_2010):,.0f} ha of tree cover\", end=\"\")\n",
    "if adm0 and adm1 and adm2:\n",
    "    print(f\"In 2010, {areaId_to_name[adm2]} had {int(tree_cover_extent_2010):,.0f} ha of tree cover\", end=\"\")\n",
    "\n",
    "percent_cover = tree_cover_extent_2010/total_area*100\n",
    "if percent_cover > 0:\n",
    "    print(f\", extending over {percent_cover:3.1f}% of its land area. \", end=\"\")\n",
    "else:\n",
    "    print(\". \")\n",
    "\n",
    "# beware we could have areas with no plantations\n",
    "try:\n",
    "    loss_area = int(gadm28_values['area'] - plantation_values['area'])\n",
    "except:\n",
    "    loss_area = 0\n",
    "    \n",
    "print(f\"In {last_year}, \",end=\"\")\n",
    "\n",
    "if loss_area > 0:\n",
    "    print(f\"it lost {loss_area:,.0f} ha \"\n",
    "          \"of forest excluding tree plantations, equivalent to \"\n",
    "          f\"{int(gadm28_values['emissions'] - plantation_values['emissions']):,.0f} \"\n",
    "          \"tonnes of CO\\u2082 of emissions.\")\n",
    "else:\n",
    "    print(\"it lost no tree cover (excluding tree plantations).\")"
   ]
  },
  {
   "cell_type": "markdown",
   "metadata": {
    "ExecuteTime": {
     "end_time": "2017-11-28T09:26:01.827563Z",
     "start_time": "2017-11-28T09:26:01.820034Z"
    }
   },
   "source": [
    "# Tree Cover gain widget\n",
    "\n",
    "1. Widgets made entireley from a dynamic sentence\n",
    "2. User Variables (admin0 to admin1 and location)\n",
    "3. Datasets (All GAIN datasets)\n",
    "\n",
    "\n",
    "** LOCATION Area Selectors **\n",
    "\n",
    "    - All region (GADM from admin-0 to admin-2 level)\n",
    "    - Biodiversity Hotspots\n",
    "    - Protected Areas\n",
    "    - Plantations\n",
    "    - Managed Forests\n",
    "    - Primary Forests\n",
    "    - Intact Forests (2000/2013)\n",
    "\n",
    "** Notes **\n",
    "\n",
    "- AOI (area of interest) is the gadm region (admin0-2)\n",
    "- location is the subset of that (i.e protected areas)\n",
    "- Threshold is not a variable in this widget (it should be hardcoded in the queries and must be set to `thresh = 0`)"
   ]
  },
  {
   "cell_type": "code",
   "execution_count": null,
   "metadata": {
    "ExecuteTime": {
     "end_time": "2017-12-01T10:57:17.221685Z",
     "start_time": "2017-12-01T10:57:17.213919Z"
    }
   },
   "outputs": [],
   "source": [
    "# Variables\n",
    "adm0 = 'BRA'\n",
    "adm1 = 14\n",
    "adm2 = None\n",
    "location = \"Tree Plantations\"\n",
    "\n",
    "url = \"https://staging-api.globalforestwatch.org/query\""
   ]
  },
  {
   "cell_type": "code",
   "execution_count": null,
   "metadata": {
    "ExecuteTime": {
     "end_time": "2017-12-01T10:57:17.255781Z",
     "start_time": "2017-12-01T10:57:17.228798Z"
    }
   },
   "outputs": [],
   "source": [
    "# get admin 1 or 2 level human-readable name info as needed:\n",
    "areaId_to_name = None\n",
    "if adm2:\n",
    "    tmp = get_admin2_json(iso=adm0, adm1=adm1)\n",
    "    areaId_to_name ={}\n",
    "    for row in tmp:\n",
    "        areaId_to_name[row.get('adm2')] = row.get('name')\n",
    "if adm1 and not adm2:\n",
    "    tmp = get_admin1_json(iso=adm0)\n",
    "    areaId_to_name={}\n",
    "    for row in tmp:\n",
    "        areaId_to_name[row.get('adm1')] = row.get('name') "
   ]
  },
  {
   "cell_type": "code",
   "execution_count": null,
   "metadata": {
    "ExecuteTime": {
     "end_time": "2017-12-01T10:57:17.275531Z",
     "start_time": "2017-12-01T10:57:17.259363Z"
    }
   },
   "outputs": [],
   "source": [
    "#GAIN QUERY\n",
    "\n",
    "def gain_query(ds, adm0, adm1=None, adm2 = None):\n",
    "    \"\"\"Queries for the gain tables. Note, threshold must be hardcoded to 0\n",
    "        and that will not change.\n",
    "    \"\"\"\n",
    "    if adm0 and not adm1 and not adm2:\n",
    "        print('Request for adm0 area')\n",
    "        sql = (f\"SELECT SUM(area) as value FROM {ds} WHERE iso = '{adm0}' \"\n",
    "               f\"AND thresh = 0\")\n",
    "    elif adm0 and adm1 and not adm2:\n",
    "        print('Request for  adm1 area')\n",
    "        sql = (f\"SELECT SUM(area) as value FROM {ds} WHERE iso = '{adm0}' \"\n",
    "               f\"AND adm1 = {adm1} AND thresh = 0\")\n",
    "    elif adm0 and adm1 and adm2:\n",
    "        print('Request for  adm2 area')\n",
    "        sql = (f\"SELECT area as value FROM {ds} WHERE iso = '{adm0}' \"\n",
    "               f\"AND adm1 = {adm1} AND adm2 = {adm2} AND thresh = 0\") \n",
    "    return sql"
   ]
  },
  {
   "cell_type": "code",
   "execution_count": null,
   "metadata": {
    "ExecuteTime": {
     "end_time": "2017-12-01T10:57:17.343849Z",
     "start_time": "2017-12-01T10:57:17.279015Z"
    }
   },
   "outputs": [],
   "source": [
    "# gain query\n",
    "sql = gain_query(ds=data_sources.get(location).get('gain'), adm0=adm0, adm1=adm1, adm2=adm2)\n",
    "r1 = requests.get(url, params = {\"sql\": sql})\n",
    "\n",
    "try:\n",
    "    tree_cover_gain_2010 = r1.json().get('data')[0].get('value')\n",
    "except:\n",
    "    tree_cover_gain_2010 = 0.0\n",
    "print(r1.url)    \n",
    "pprint(r1.json())\n",
    "\n",
    "\n",
    "# Total Extent query\n",
    "sql = gain_query(ds=data_sources.get(location).get('extent'), adm0=adm0, adm1=adm1, adm2=adm2)\n",
    "r2 = requests.get(url, params = {\"sql\": sql})\n",
    "print(r2.url)\n",
    "pprint(r2.json())\n",
    "\n",
    "total_area = r2.json().get('data')[0].get('value')\n",
    "area_percent = round((100 * tree_cover_gain_2010 / total_area), 2)"
   ]
  },
  {
   "cell_type": "code",
   "execution_count": null,
   "metadata": {
    "ExecuteTime": {
     "end_time": "2017-12-01T10:57:17.393336Z",
     "start_time": "2017-12-01T10:57:17.350836Z"
    }
   },
   "outputs": [],
   "source": [
    "#Dynamic sentence\n",
    "\n",
    "# we may need to modify the way we describe the location to fit gramatically\n",
    "if location == 'All Region':\n",
    "    region_phrase = 'region-wide'\n",
    "else:\n",
    "    region_phrase = 'in ' + location.lower()\n",
    "\n",
    "\n",
    "print(f\"From 2001 to 2012, \", end=\"\")\n",
    "\n",
    "if(not adm1 and not adm2):\n",
    "    print(f\"{iso_to_countries[adm0]} gained {total_area:,.0f} ha of tree cover \", end=\"\")\n",
    "    print(f\"{region_phrase}, equivalent to a {area_percent}% \",end=\"\")\n",
    "    print(f\"increase relative to 2010 tree cover extent.\", end=\"\")\n",
    "elif(not adm2):\n",
    "    print(f\"{areaId_to_name[adm1]} gained {total_area:,.0f} ha of tree cover \", end=\"\")\n",
    "    print(f\"{region_phrase}, equivalent to a {area_percent}% \",end=\"\")\n",
    "    print(f\"increase relative to 2010 tree cover extent.\", end=\"\")\n",
    "else:\n",
    "    print(f\"{areaId_to_name[adm2]} gained {total_area:,.0f} ha of tree cover \", end=\"\")\n",
    "    print(f\"{region_phrase}, equivalent to a {area_percent}% \", end=\"\")\n",
    "    print(f\"increase relative to 2010 tree cover extent.\", end=\"\")\n"
   ]
  },
  {
   "cell_type": "markdown",
   "metadata": {},
   "source": [
    "# Rate of Reforestation widget\n",
    "\n",
    "Dynamic Sentence based on FAO data in a Carto table. Only works for admin-0 (countries).\n",
    "\n",
    "\n",
    "e.g. dynamic sentences:\n",
    "\n",
    "\"Between `X` and `Y` years, the rate of reforestation in `country name` was `X` ha/year.\"\n",
    "\n",
    "\n",
    "** Options**\n",
    "\n",
    "Users should be able to select period from a dropdown menu in the settings:\n",
    "* Period: ['1990–2000', '2000–2005', '2005–2010', '2010–2015']\n",
    "\n",
    "** Notes**\n",
    "\n",
    "- Default should be the most recent period (`2010–2015`).\n",
    "- The value that comes back from the query is kha not ha : i.e. it is in ha/1000 by default."
   ]
  },
  {
   "cell_type": "code",
   "execution_count": null,
   "metadata": {
    "ExecuteTime": {
     "end_time": "2017-12-01T10:57:17.409857Z",
     "start_time": "2017-12-01T10:57:17.397714Z"
    }
   },
   "outputs": [],
   "source": [
    "# Human readable option for the Period selector, and a key that it should relate to for its query.\n",
    "fao_periods = {'1990–2000': 1990, '2000–2005':2000, '2005–2010':2005, '2010–2015':2010}\n",
    "\n",
    "\n",
    "# Variables\n",
    "adm0 = 'GBR'\n",
    "period = '2010–2015'"
   ]
  },
  {
   "cell_type": "code",
   "execution_count": null,
   "metadata": {
    "ExecuteTime": {
     "end_time": "2017-12-01T10:57:17.452549Z",
     "start_time": "2017-12-01T10:57:17.414475Z"
    }
   },
   "outputs": [],
   "source": [
    "# First, get the FAO data from a carto table. Note that extent is multiplied by 1000.\n",
    "\n",
    "sql = (\"SELECT country AS iso, name, year, reforest AS rate, forest*1000 AS extent \"\n",
    "         \"FROM table_1_forest_area_and_characteristics as fao \"\n",
    "         f\"WHERE fao.year = {fao_periods[period]} \"\n",
    "         f\"AND fao.country = '{adm0}'\"\n",
    "        )\n",
    "\n",
    "account = 'wri-01'\n",
    "urlCarto = \"https://{0}.carto.com/api/v2/sql\".format(account)\n",
    "\n",
    "sql = {\"q\": sql}\n",
    "r = requests.get(urlCarto, params=sql)\n",
    "print(r.url,'\\n')\n",
    "pprint(r.json())\n",
    "\n",
    "data = r.json().get('rows')[0]"
   ]
  },
  {
   "cell_type": "code",
   "execution_count": null,
   "metadata": {
    "ExecuteTime": {
     "end_time": "2017-12-01T10:57:17.470342Z",
     "start_time": "2017-12-01T10:57:17.455500Z"
    }
   },
   "outputs": [],
   "source": [
    "#Dynamic sentence\n",
    "\n",
    "print(f\"From {period}, the rate of reforestation in {data['name']} was {data['rate']*1000:,.0f} ha/year. \", end=\"\")"
   ]
  },
  {
   "cell_type": "code",
   "execution_count": null,
   "metadata": {},
   "outputs": [],
   "source": []
  },
  {
   "cell_type": "code",
   "execution_count": null,
   "metadata": {},
   "outputs": [],
   "source": []
  }
 ],
 "metadata": {
  "anaconda-cloud": {},
  "kernelspec": {
   "display_name": "Python 3",
   "language": "python",
   "name": "python3"
  },
  "language_info": {
   "codemirror_mode": {
    "name": "ipython",
    "version": 3
   },
   "file_extension": ".py",
   "mimetype": "text/x-python",
   "name": "python",
   "nbconvert_exporter": "python",
   "pygments_lexer": "ipython3",
   "version": "3.6.3"
  },
  "toc": {
   "nav_menu": {},
   "number_sections": true,
   "sideBar": true,
   "skip_h1_title": false,
   "toc_cell": false,
   "toc_position": {},
   "toc_section_display": "block",
   "toc_window_display": false
  }
 },
 "nbformat": 4,
 "nbformat_minor": 2
}
