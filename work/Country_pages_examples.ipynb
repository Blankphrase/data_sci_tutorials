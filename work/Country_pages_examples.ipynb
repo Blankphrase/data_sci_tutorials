{
 "cells": [
  {
   "cell_type": "markdown",
   "metadata": {},
   "source": [
    "## Building The Country Page Widgets\n",
    "\n",
    "Charlie has added the following dataset to the **PRODUCTION** API for the construction of the new country pages widgets. This notebook details how to query these datasets to create a the required widgets.\n",
    "\n",
    "\n",
    "Note: many queries will be repeated, but the data used in different ways, so we should cache the responses for re-use.\n",
    "\n",
    "```\n",
    "{'dataset': '499682b1-3174-493f-ba1a-368b4636708e'}\n",
    "```"
   ]
  },
  {
   "cell_type": "markdown",
   "metadata": {},
   "source": [
    "\n",
    "https://production-api.globalforestwatch.org/v1/query/?sql=SELECT polyname, year_data.year, sum(year_data.area_loss) as sum FROM data WHERE polyname = 'wdpa'  and iso = 'BRA' GROUP BY polyname, iso, nested(year_data.year)\n"
   ]
  },
  {
   "cell_type": "code",
   "execution_count": 1,
   "metadata": {
    "ExecuteTime": {
     "end_time": "2017-12-13T11:00:56.679014Z",
     "start_time": "2017-12-13T11:00:55.039132Z"
    },
    "collapsed": true
   },
   "outputs": [],
   "source": [
    "import requests\n",
    "import requests_cache\n",
    "from pprint import pprint\n",
    "import numpy as np\n",
    "import matplotlib.pyplot as plt\n",
    "%matplotlib inline\n",
    "requests_cache.install_cache('demo_cache')"
   ]
  },
  {
   "cell_type": "markdown",
   "metadata": {},
   "source": [
    "Testing basic queries\n",
    "\n",
    "**notes**\n",
    "\n",
    "* New table structure includes `bound1-4` which provide an additional attribute to group by\n",
    "\n",
    "```\n",
    "https://production-api.globalforestwatch.org/v1/query/499682b1-3174-493f-ba1a-368b4636708e?sql=SELECT polyname, count(*) FROM data WHERE iso = 'BRA' and thresh = 30 GROUP BY polyname\n",
    "```\n",
    "\n",
    "This one table should be enough to generate data for areas of interest from admin0 to admin 2 level on its own."
   ]
  },
  {
   "cell_type": "code",
   "execution_count": 2,
   "metadata": {
    "ExecuteTime": {
     "end_time": "2017-12-13T11:00:56.687737Z",
     "start_time": "2017-12-13T11:00:56.682429Z"
    },
    "collapsed": true
   },
   "outputs": [],
   "source": [
    "ds = '499682b1-3174-493f-ba1a-368b4636708e'  # ADMIN 2 level data"
   ]
  },
  {
   "cell_type": "code",
   "execution_count": 3,
   "metadata": {
    "ExecuteTime": {
     "end_time": "2017-12-13T11:00:56.933433Z",
     "start_time": "2017-12-13T11:00:56.691509Z"
    },
    "scrolled": false
   },
   "outputs": [
    {
     "name": "stdout",
     "output_type": "stream",
     "text": [
      "https://production-api.globalforestwatch.org/v1/query/499682b1-3174-493f-ba1a-368b4636708e?sql=SELECT+sum%28area_gain%29+FROM+499682b1-3174-493f-ba1a-368b4636708e+WHERE+iso+%3D+%27BRA%27+and+adm1+%3D+7+AND+thresh+%3D+0+AND+polyname+%3D+%27gadm28%27\n",
      "Status: 200\n"
     ]
    },
    {
     "data": {
      "text/plain": [
       "{'data': [{'SUM(area_gain)': 1810.8123779296875}],\n",
       " 'meta': {'cloneUrl': {'body': {'dataset': {'application': ['your', 'apps'],\n",
       "     'datasetUrl': '/v1/query/499682b1-3174-493f-ba1a-368b4636708e?sql=SELECT%20sum%28area_gain%29%20FROM%20499682b1-3174-493f-ba1a-368b4636708e%20WHERE%20iso%20%3D%20%27BRA%27%20and%20adm1%20%3D%207%20AND%20thresh%20%3D%200%20AND%20polyname%20%3D%20%27gadm28%27'}},\n",
       "   'http_method': 'POST',\n",
       "   'url': '/v1/dataset/499682b1-3174-493f-ba1a-368b4636708e/clone'}}}"
      ]
     },
     "execution_count": 3,
     "metadata": {},
     "output_type": "execute_result"
    }
   ],
   "source": [
    "# Example of what is in the data tables and how to simply read them:\n",
    "url = f\"https://production-api.globalforestwatch.org/v1/query/{ds}\"\n",
    "sql = (f\"SELECT sum(area_gain) FROM {ds} WHERE iso = 'BRA' and adm1 = 7 AND thresh = 0 AND polyname = 'gadm28'\")\n",
    "#sql = (f\"SELECT polyname, count(*) FROM {ds} WHERE iso = 'BRA' and thresh = 30 GROUP BY polyname\")\n",
    "#sql = (f\"SELECT * FROM {ds} WHERE iso = 'BRA' AND thresh = 30 AND polyname = 'bra_biomes' LIMIT 1\")\n",
    "properties = {\"sql\": sql}\n",
    "r = requests.get(url, params = properties)\n",
    "print(r.url)\n",
    "print(f'Status: {r.status_code}')\n",
    "r.json()"
   ]
  },
  {
   "cell_type": "markdown",
   "metadata": {},
   "source": [
    "The `polyname` attribute in the data indicates the geometry used in the intersection. E.g. `polyname`:`gadm28` means that the GADM28 polygons alone were used, therefore `area_extent` would be the value of the Hansen 2010 tree cover extent within a particular gadm28 geometry.\n",
    "\n",
    "Charlie has used a convention of mutliple underscores to indicate when data has multiple intersects. The rule is as follows:\n",
    "* All data are intersected with the gadm28\n",
    "* Some data are intersected with gadam + something else, in that case it takes the name of the something else, e.g. plantations\n",
    "* some data are intersected with multiple gadam + multiple other data sources, in that case, the data sources are seperated by a dunder (double underscore) in the `polyname`. E.g. `primary_forest__landmark` are the gadam28 + primary forest data + landmark "
   ]
  },
  {
   "cell_type": "code",
   "execution_count": 4,
   "metadata": {
    "ExecuteTime": {
     "end_time": "2017-12-13T11:00:56.966269Z",
     "start_time": "2017-12-13T11:00:56.936931Z"
    }
   },
   "outputs": [
    {
     "name": "stdout",
     "output_type": "stream",
     "text": [
      "https://production-api.globalforestwatch.org/v1/query/499682b1-3174-493f-ba1a-368b4636708e?sql=SELECT+polyname+FROM+499682b1-3174-493f-ba1a-368b4636708e+WHERE+iso+%3D+%27BRA%27+and+thresh+%3D+0+GROUP+BY+polyname\n",
      "Status: 200\n",
      "gadm28\n",
      "bra_biomes\n",
      "mining\n",
      "plantations\n",
      "wdpa\n",
      "plantations__mining\n",
      "primary_forest\n",
      "primary_forest__mining\n",
      "primary_forest__wdpa\n",
      "plantations__wdpa\n",
      "ifl_2013\n",
      "ifl_2013__wdpa\n",
      "ifl_2013__mining\n",
      "landmark\n",
      "primary_forest__landmark\n",
      "plantations__landmark\n"
     ]
    }
   ],
   "source": [
    "url = f\"https://production-api.globalforestwatch.org/v1/query/{ds}\"\n",
    "sql = (f\"SELECT polyname FROM {ds} WHERE iso = 'BRA' and thresh = 0 GROUP BY polyname\")\n",
    "properties = {\"sql\": sql}\n",
    "r = requests.get(url, params = properties)\n",
    "print(r.url)\n",
    "print(f'Status: {r.status_code}')\n",
    "for row in r.json().get('data'):\n",
    "    print(row.get('polyname'))"
   ]
  },
  {
   "cell_type": "markdown",
   "metadata": {},
   "source": [
    "Also of note, is the `bound1-4` attributes, which are \n",
    "\n",
    "```\n",
    "   'bound1': 'Large industrial plantation',\n",
    "   'bound2': 'Wood fiber / timber',\n",
    "   'bound3': -9999,\n",
    "   'bound4': -9999,\n",
    "   \n",
    "```\n",
    "\n",
    "These hold extra properties of a dataset which can be used in group-by statements, e.g. plantation data has been split into species type. \n",
    "\n",
    "Finally, another key property is the `area_poly_aoi`, which should hold the total area (ha) of the shape used to make the intersection. E.g., the sum of the `polyname` = gadm28 `area_poly_aoi` values should equal the total land area of a selected ROI. \n"
   ]
  },
  {
   "cell_type": "markdown",
   "metadata": {},
   "source": [
    "# Obtain metadata for admin0 to admin2 level\n",
    "\n",
    "Retrieve json mappings of id values (e.g. iso codes or integers) for admin0 to admin2 level, and map them to english names for selectors and resources to build dynamic sentences."
   ]
  },
  {
   "cell_type": "code",
   "execution_count": 5,
   "metadata": {
    "ExecuteTime": {
     "end_time": "2017-12-13T11:00:57.008526Z",
     "start_time": "2017-12-13T11:00:56.969917Z"
    },
    "collapsed": true
   },
   "outputs": [],
   "source": [
    "def get_admin0_json(urlCarto=\"https://wri-01.carto.com/api/v2/sql\"):\n",
    "    \"\"\"return an alphabetical json of mappings of iso and country names\n",
    "    e.g.\n",
    "    [{'iso': 'AFG', 'name': 'Afghanistan'},\n",
    "     {'iso': 'XAD', 'name': 'Akrotiri and Dhekelia'},\n",
    "     {'iso': 'ALA', 'name': 'Åland'},\n",
    "     ...\n",
    "    ]\n",
    "    \n",
    "    \"\"\"\n",
    "    sql = (\"SELECT iso, country as name FROM umd_nat_staging \"\n",
    "            \"GROUP BY iso, name \"\n",
    "            \"ORDER BY name \"\n",
    "          )\n",
    "    r = requests.get(urlCarto, params={\"q\": sql})\n",
    "    return r.json().get('rows', None)\n",
    " \n",
    "\n",
    "def get_admin1_json(iso, urlCarto=\"https://wri-01.carto.com/api/v2/sql\"):\n",
    "    \"\"\"return an alphabetical json of mappings of admin1 for a country\n",
    "    e.g. for iso='GBR'\n",
    "        [{'adm1': 1, 'name': 'England'},\n",
    "         {'adm1': 2, 'name': 'Northern Ireland'},\n",
    "         {'adm1': 3, 'name': 'Scotland'},\n",
    "         {'adm1': 4, 'name': 'Wales'}]\n",
    "    \"\"\"\n",
    "    sql = (\"SELECT id1 as adm1, region as name \"\n",
    "            \"FROM umd_subnat_staging \"\n",
    "            f\"WHERE iso = '{iso}' \"\n",
    "            \"and year = 2001 \"\n",
    "            \"and thresh = 30 \"\n",
    "            \"ORDER BY name \"\n",
    "          )\n",
    "    r = requests.get(urlCarto, params={\"q\": sql})\n",
    "    return r.json().get('rows', None)\n",
    "   \n",
    "\n",
    "def get_admin2_json(iso, adm1, urlCarto=\"https://wri-01.carto.com/api/v2/sql\"):\n",
    "    \"\"\" \n",
    "    e.g. response for iso='GBR' adm1=1\n",
    "    [{'adm2': 1, 'name': 'Barking and Dagenham'},\n",
    "     {'adm2': 2, 'name': 'Bath and North East Somerset'},\n",
    "     ...\n",
    "     ]\n",
    "\n",
    "    \"\"\"\n",
    "    sql = (\"SELECT id_2 as adm2, name_2 as name \"\n",
    "            \"FROM gadm28_adm2 \"\n",
    "            f\"WHERE iso = '{iso}' \"\n",
    "            f\"AND id_1 = {adm1} \"\n",
    "            \"ORDER BY name \"\n",
    "          )\n",
    "    r = requests.get(urlCarto, params={\"q\": sql})    \n",
    "    return r.json().get('rows', None)"
   ]
  },
  {
   "cell_type": "code",
   "execution_count": 6,
   "metadata": {
    "ExecuteTime": {
     "end_time": "2017-12-13T11:00:57.270475Z",
     "start_time": "2017-12-13T11:00:57.011653Z"
    },
    "collapsed": true
   },
   "outputs": [],
   "source": [
    "tmp = get_admin0_json()\n",
    "iso_to_countries = {}\n",
    "for row in tmp:\n",
    "    iso_to_countries[row.get('iso')] = row.get('name')"
   ]
  },
  {
   "cell_type": "markdown",
   "metadata": {},
   "source": [
    "# Get info on an areas shape\n",
    "\n",
    "Use the Geostore service to find the geometry, bounding box or additional info on a given `iso` or `iso/admin1` area if required (e.g. for centering the map).\n",
    "\n",
    "Note - if similar info is needed for admin2 areas I will have to go back and create a query based on a Carto table, as admin-2 level data does not exist in the geostore service yet."
   ]
  },
  {
   "cell_type": "code",
   "execution_count": 7,
   "metadata": {
    "ExecuteTime": {
     "end_time": "2017-12-13T11:00:57.734161Z",
     "start_time": "2017-12-13T11:00:57.273891Z"
    },
    "scrolled": true
   },
   "outputs": [
    {
     "name": "stdout",
     "output_type": "stream",
     "text": [
      "returning admin-0 level geostore\n",
      "https://api.resourcewatch.org/v1/geostore/admin/GBR\n",
      "dict_keys(['geojson', 'hash', 'provider', 'areaHa', 'bbox', 'lock', 'info'])\n"
     ]
    },
    {
     "data": {
      "text/plain": [
       "[-13.6913900375365, 49.8654174804688, 1.76416802406322, 60.8458213806153]"
      ]
     },
     "execution_count": 7,
     "metadata": {},
     "output_type": "execute_result"
    }
   ],
   "source": [
    "iso = \"GBR\"\n",
    "adm1 = None \n",
    "\n",
    "if not adm1:\n",
    "    print(\"returning admin-0 level geostore\")\n",
    "    url = f\"https://api.resourcewatch.org/v1/geostore/admin/{iso}\"\n",
    "else:\n",
    "    print(\"returning admin-1 level geostore\")\n",
    "    url = f\"https://api.resourcewatch.org/v1/geostore/admin/{iso}/{adm1}\"\n",
    "    \n",
    "r = requests.get(url)\n",
    "print(r.url)\n",
    "roi = r.json()\n",
    "\n",
    "print(roi.get('data', None).get('attributes', None).keys())\n",
    "roi.get('data').get('attributes').get('bbox')  #e.g. of getting the bounding box of a ROI"
   ]
  },
  {
   "cell_type": "code",
   "execution_count": 8,
   "metadata": {
    "ExecuteTime": {
     "end_time": "2017-12-13T11:00:57.745268Z",
     "start_time": "2017-12-13T11:00:57.737557Z"
    },
    "collapsed": true
   },
   "outputs": [],
   "source": [
    "def create_bounding_poly(bbox):\n",
    "    \"\"\"Create a bounding polygon from a returned bbox of the geostore service\n",
    "        (- the old api produced shapes in this format).\n",
    "    \"\"\"\n",
    "    lat1, lon1, lat2, lon2  = bbox\n",
    "    return [[lat1,lon1], [lat1,lon2],[lat2,lon2],[lat2,lon1] ,[lat1,lon1]]"
   ]
  },
  {
   "cell_type": "code",
   "execution_count": 9,
   "metadata": {
    "ExecuteTime": {
     "end_time": "2017-12-13T11:00:57.756906Z",
     "start_time": "2017-12-13T11:00:57.748337Z"
    }
   },
   "outputs": [
    {
     "data": {
      "text/plain": [
       "[[-13.6913900375365, 49.8654174804688],\n",
       " [-13.6913900375365, 60.8458213806153],\n",
       " [1.76416802406322, 60.8458213806153],\n",
       " [1.76416802406322, 49.8654174804688],\n",
       " [-13.6913900375365, 49.8654174804688]]"
      ]
     },
     "execution_count": 9,
     "metadata": {},
     "output_type": "execute_result"
    }
   ],
   "source": [
    "create_bounding_poly(roi.get('data').get('attributes').get('bbox'))"
   ]
  },
  {
   "cell_type": "markdown",
   "metadata": {},
   "source": [
    "# Set up global (scope) data sources for the Country Widgets \n",
    "\n",
    "There is some work that needs to be done in populating the Location menu, not all options should be always available: some of them will need to be iso dependent. E.g. `Biomes` should only appear in the menu if the ISO is set to `BRA`\n"
   ]
  },
  {
   "cell_type": "code",
   "execution_count": 10,
   "metadata": {
    "ExecuteTime": {
     "end_time": "2017-12-13T11:00:57.771777Z",
     "start_time": "2017-12-13T11:00:57.760458Z"
    },
    "collapsed": true
   },
   "outputs": [],
   "source": [
    "polynames = {\n",
    "                'All Region':'gadm28',\n",
    "                'Biomes':'bra_biomes',\n",
    "                'Mining':'mining',\n",
    "                'Protected Areas':'wdpa',\n",
    "                'Primary Forests':'primary_forest',\n",
    "                'Mining in Primary Forests':'primary_forest__mining',\n",
    "                'Protected Areas in Primary Forests':'primary_forest__wdpa',\n",
    "                'Intact Forest Landscapes':'ifl_2013',\n",
    "                'Protected Areas in Intact Forest Landscapes':'ifl_2013__wdpa',\n",
    "                'Mining in Intact Forest Landscapes':'ifl_2013__mining',\n",
    "                'Indigenous Lands':'landmark',\n",
    "                'Indigenous Lands in Primary Forests':'primary_forest__landmark',\n",
    "                'Plantations':'plantations',\n",
    "                'Mining in Plantation Areas':'plantations__mining',\n",
    "                'Protected areas in Plantations':'plantations__wdpa',\n",
    "                'Indigenous Lands in Plantations':'plantations__landmark',\n",
    "            }"
   ]
  },
  {
   "cell_type": "markdown",
   "metadata": {},
   "source": [
    "# Tree cover widget\n",
    "\n",
    "The default view for the tree cover widget should be for 'All Region'.\n",
    "We provide a mapping between the text to select in the Location drop-down and the dataset IDs that need to be called in conjunction with a specific selection.\n",
    "\n",
    "\n",
    "For the default  \"All Region\" location, we will need to show 3 slices in the donut chart:\n",
    "    * Tree plantations\n",
    "    * Natural forest (tree cover 2010 - tree plantations)\n",
    "    * Non-forest (total area - tree cover 2010)\n",
    "\n",
    "We show how to calculate this below.\n",
    "\n",
    "**BUT**\n",
    "\n",
    "If other Locations are selected, (e.g. Protected Areas), we need a different donut chart. One with less data (only tree cover, and non-forest).\n",
    "\n",
    "    * Tree cover \n",
    "    * Non-forest\n",
    "\n",
    "\n",
    "\n",
    "*Notes: below this line are extra notes not needed for Front-end dev*\n",
    "\n",
    "- adm0 = BRA, adm1 = 4  is Amazonas\n",
    "- adm0 = BRA, adm1 = 4, adm2 = 141 is Amaturá  (many forests)\n",
    "- adm0 = BRA, adm1 = 12, adm2 = 1434 is Mato Grosso, Cáceres\n",
    "- adm0 = BRA, adm1 = 14, adm2 = 2404 is Para, Altamira \n",
    "- adm0 = BRA, adm1 = 16, adm2 = 3135 - largest area of plantations (Turning this on seems to reveal a bug)\n"
   ]
  },
  {
   "cell_type": "code",
   "execution_count": 11,
   "metadata": {
    "ExecuteTime": {
     "end_time": "2017-12-13T11:00:57.784953Z",
     "start_time": "2017-12-13T11:00:57.775969Z"
    },
    "collapsed": true
   },
   "outputs": [],
   "source": [
    "# VARIABLES FOR TREE COVER WIDGET\n",
    "ds = '499682b1-3174-493f-ba1a-368b4636708e'\n",
    "url = f\"https://production-api.globalforestwatch.org/v1/query/{ds}\"\n",
    "adm0 = 'BRA'\n",
    "threshold = 30\n",
    "adm1 = None\n",
    "adm2 = None\n",
    "location = 'All Region'  "
   ]
  },
  {
   "cell_type": "code",
   "execution_count": 12,
   "metadata": {
    "ExecuteTime": {
     "end_time": "2017-12-13T11:00:57.810031Z",
     "start_time": "2017-12-13T11:00:57.788433Z"
    },
    "collapsed": true
   },
   "outputs": [],
   "source": [
    "def extent_queries(p_name, adm0, adm1=None, adm2 = None, threshold=30):\n",
    "    if adm2:\n",
    "        print('Request for adm2 area')\n",
    "        sql = (f\"SELECT SUM(area_extent) as value, \"\n",
    "               f\"SUM(area_gadm28) as total_area \"\n",
    "               f\"FROM data \"\n",
    "               f\"WHERE iso = '{adm0}' \"\n",
    "               f\"AND adm1 = {adm1} \"\n",
    "               f\"AND adm2 = {adm2} \"\n",
    "               \"AND thresh = {threshold} \"\n",
    "               f\"AND polyname = '{p_name}'\")\n",
    "        return sql\n",
    "    elif adm1:\n",
    "        print('Request for  adm1 area')\n",
    "        sql = (f\"SELECT SUM(area_extent) as value, \"\n",
    "               f\"SUM(area_gadm28) as total_area \"\n",
    "               f\"FROM data \"\n",
    "               f\"WHERE iso = '{adm0}' \"\n",
    "               f\"AND adm1 = {adm1} \"\n",
    "               f\"AND thresh = {threshold} \"\n",
    "               f\"AND polyname = '{p_name}'\")\n",
    "        return sql\n",
    "    elif adm0:\n",
    "        print('Request for  adm0 area')\n",
    "        sql = (f\"SELECT SUM(area_extent) as value, \"\n",
    "               f\"SUM(area_gadm28) as total_area \"\n",
    "               f\"FROM data \"\n",
    "               f\"WHERE iso = '{adm0}' \"\n",
    "               f\"AND thresh = {threshold} \"\n",
    "               f\"AND polyname = '{p_name}'\")\n",
    "        return sql"
   ]
  },
  {
   "cell_type": "code",
   "execution_count": 13,
   "metadata": {
    "ExecuteTime": {
     "end_time": "2017-12-13T11:00:57.833254Z",
     "start_time": "2017-12-13T11:00:57.813704Z"
    }
   },
   "outputs": [
    {
     "name": "stdout",
     "output_type": "stream",
     "text": [
      "None\n"
     ]
    }
   ],
   "source": [
    "# get a human readable {id: name} json for either admin 1 or 2 level as needed:\n",
    "\n",
    "areaId_to_name = None\n",
    "if adm2:\n",
    "    tmp = get_admin2_json(iso=adm0, adm1=adm1)\n",
    "    areaId_to_name ={}\n",
    "    for row in tmp:\n",
    "        areaId_to_name[row.get('adm2')] = row.get('name')\n",
    "if adm1 and not adm2:\n",
    "    tmp = get_admin1_json(iso=adm0)\n",
    "    areaId_to_name={}\n",
    "    for row in tmp:\n",
    "        areaId_to_name[row.get('adm1')] = row.get('name') \n",
    "        \n",
    "print(areaId_to_name)"
   ]
  },
  {
   "cell_type": "code",
   "execution_count": 14,
   "metadata": {
    "ExecuteTime": {
     "end_time": "2017-12-13T11:00:57.883615Z",
     "start_time": "2017-12-13T11:00:57.836919Z"
    }
   },
   "outputs": [
    {
     "name": "stdout",
     "output_type": "stream",
     "text": [
      "Request for  adm0 area\n",
      "https://production-api.globalforestwatch.org/v1/query/499682b1-3174-493f-ba1a-368b4636708e?sql=SELECT+SUM%28area_extent%29+as+value%2C+SUM%28area_gadm28%29+as+total_area+FROM+data+WHERE+iso+%3D+%27BRA%27+AND+thresh+%3D+30+AND+polyname+%3D+%27gadm28%27\n",
      "Status: 200\n",
      "{'data': [{'total_area': 850033236.0091553, 'value': 519187505.155631}],\n",
      " 'meta': {'cloneUrl': {'body': {'dataset': {'application': ['your', 'apps'],\n",
      "                                            'datasetUrl': '/v1/query/499682b1-3174-493f-ba1a-368b4636708e?sql=SELECT%20SUM%28area_extent%29%20as%20value%2C%20SUM%28area_gadm28%29%20as%20total_area%20FROM%20data%20WHERE%20iso%20%3D%20%27BRA%27%20AND%20thresh%20%3D%2030%20AND%20polyname%20%3D%20%27gadm28%27'}},\n",
      "                       'http_method': 'POST',\n",
      "                       'url': '/v1/dataset/499682b1-3174-493f-ba1a-368b4636708e/clone'}}}\n",
      "\n",
      "BRA None None Gadm28 Tree cover extent = 519187505.155631 ha\n",
      "total area = 850033236.0091553 ha\n"
     ]
    }
   ],
   "source": [
    "url = f\"https://production-api.globalforestwatch.org/v1/query/{ds}\"\n",
    "\n",
    "sql = extent_queries(p_name=polynames[location], adm0=adm0, adm1=adm1, adm2=adm2, threshold=threshold)\n",
    "r = requests.get(url, params = {\"sql\": sql})\n",
    "\n",
    "print(r.url)\n",
    "print(f'Status: {r.status_code}')\n",
    "pprint(r.json())\n",
    "\n",
    "try:\n",
    "    tree_cover_extent_2010 = r.json().get('data')[0].get('value')\n",
    "except:\n",
    "    tree_cover_extent_2010 = 0.0\n",
    "print(f\"\\n{adm0} {adm1} {adm2} Gadm28 Tree cover extent = {tree_cover_extent_2010} ha\")\n",
    "\n",
    "try:\n",
    "    total_area = r.json().get('data')[0].get('total_area')\n",
    "except:\n",
    "    total_area = None\n",
    "print(f\"total area = {total_area} ha\")"
   ]
  },
  {
   "cell_type": "markdown",
   "metadata": {},
   "source": [
    "** Gather PLANTATION data also if needed  **"
   ]
  },
  {
   "cell_type": "code",
   "execution_count": 15,
   "metadata": {
    "ExecuteTime": {
     "end_time": "2017-12-13T11:00:57.952772Z",
     "start_time": "2017-12-13T11:00:57.887006Z"
    }
   },
   "outputs": [
    {
     "name": "stdout",
     "output_type": "stream",
     "text": [
      "Request for  adm0 area\n",
      "https://production-api.globalforestwatch.org/v1/query/499682b1-3174-493f-ba1a-368b4636708e?sql=SELECT+SUM%28area_extent%29+as+value%2C+SUM%28area_gadm28%29+as+total_area+FROM+data+WHERE+iso+%3D+%27BRA%27+AND+thresh+%3D+30+AND+polyname+%3D+%27plantations%27\n",
      "Status: 200\n",
      "{'data': [{'total_area': 660671465.5681152, 'value': 4660023.699318573}],\n",
      " 'meta': {'cloneUrl': {'body': {'dataset': {'application': ['your', 'apps'],\n",
      "                                            'datasetUrl': '/v1/query/499682b1-3174-493f-ba1a-368b4636708e?sql=SELECT%20SUM%28area_extent%29%20as%20value%2C%20SUM%28area_gadm28%29%20as%20total_area%20FROM%20data%20WHERE%20iso%20%3D%20%27BRA%27%20AND%20thresh%20%3D%2030%20AND%20polyname%20%3D%20%27plantations%27'}},\n",
      "                       'http_method': 'POST',\n",
      "                       'url': '/v1/dataset/499682b1-3174-493f-ba1a-368b4636708e/clone'}}}\n",
      "\n",
      "BRA None None plantation area = 4660023.699318573 ha\n"
     ]
    }
   ],
   "source": [
    "# For some locations we will also need to retrieve an area for plantations\n",
    "# This is the area of UMD forest cover intersecting tree plantations at admin2 level\n",
    "\n",
    "if location in ['All Region']:\n",
    "    sql = extent_queries(p_name=polynames['Plantations'], adm0=adm0,\n",
    "                         adm1=adm1, adm2=adm2, threshold=threshold)\n",
    "    r = requests.get(url, params = {\"sql\": sql})\n",
    "\n",
    "    print(r.url)\n",
    "    print(f'Status: {r.status_code}')\n",
    "    pprint(r.json())\n",
    "\n",
    "    try:\n",
    "        plantations = r.json().get('data')[0].get('value')\n",
    "    except:\n",
    "        plantations = 0.0\n",
    "    print(f\"\\n{adm0} {adm1} {adm2} plantation area = {plantations} ha\")\n",
    "else:\n",
    "    print(f\"No plantation data neded for '{location}'\")\n",
    "    plantations = None"
   ]
  },
  {
   "cell_type": "code",
   "execution_count": 16,
   "metadata": {
    "ExecuteTime": {
     "end_time": "2017-12-13T11:00:57.968506Z",
     "start_time": "2017-12-13T11:00:57.959180Z"
    }
   },
   "outputs": [
    {
     "name": "stdout",
     "output_type": "stream",
     "text": [
      "plantations=4.66002e+06, tree cover=5.19188e+08, area=8.50033e+08\n"
     ]
    }
   ],
   "source": [
    "#  Note if plantations are 0 - this situation should be considered the same as if plantation data \n",
    "# were not to be included. I.e. if plantation = 0 then \n",
    "\n",
    "if location in ['All Region']:\n",
    "    print(f\"plantations={plantations:g}, tree cover={tree_cover_extent_2010:g}, area={total_area:g}\")\n",
    "else:\n",
    "    print(f\"tree cover={tree_cover_extent_2010:g}, area={total_area:g}\")"
   ]
  },
  {
   "cell_type": "code",
   "execution_count": 17,
   "metadata": {
    "ExecuteTime": {
     "end_time": "2017-12-13T11:00:58.285821Z",
     "start_time": "2017-12-13T11:00:57.974222Z"
    }
   },
   "outputs": [
    {
     "data": {
      "image/png": "[encoded data removed]",
      "text/plain": [
       "<matplotlib.figure.Figure at 0x10f81a710>"
      ]
     },
     "metadata": {},
     "output_type": "display_data"
    }
   ],
   "source": [
    "# Pie chart, where the slices will be ordered and plotted counter-clockwise:\n",
    "if adm0 and not adm1 and not adm2:\n",
    "    dynamic_sentence = (f\"Tree cover for {location.lower()} of {iso_to_countries[adm0]}, \"\n",
    "                        f\"with tree canopy of \\u2265{threshold}%\")\n",
    "if adm0 and adm1 and not adm2: \n",
    "    dynamic_sentence = (f\"Tree cover for {location.lower()} of {areaId_to_name[adm1]}, \"\n",
    "                        f\"with tree canopy of \\u2265{threshold}%\")\n",
    "if adm0 and adm1 and adm2:\n",
    "    dynamic_sentence = (f\"Tree cover for {location.lower()} of {areaId_to_name[adm2]}, \"\n",
    "                        f\"with tree canopy of \\u2265{threshold}%\")\n",
    "\n",
    "\n",
    "if location in ['All Region']: \n",
    "    labels = 'Tree plantations', 'Natural Forest', 'Non-forest'\n",
    "    sizes = [plantations, tree_cover_extent_2010 - plantations, total_area - tree_cover_extent_2010]\n",
    "    colors = ['orange','green','grey']\n",
    "else: \n",
    "    labels = 'Tree cover', 'Non-forest'\n",
    "    sizes = [tree_cover_extent_2010, total_area - tree_cover_extent_2010]\n",
    "    colors = ['green','grey']\n",
    "    \n",
    "fig1, ax1 = plt.subplots()\n",
    "ax1.pie(sizes, labels=labels, autopct='%1.1f%%',\n",
    "        shadow=False, startangle=90, colors=colors)\n",
    "ax1.axis('equal')\n",
    "centre_circle = plt.Circle((0,0),0.75,color='black', fc='white',linewidth=0.5)\n",
    "fig1 = plt.gcf()\n",
    "fig1.gca().add_artist(centre_circle)\n",
    "plt.suptitle('Tree cover extent')\n",
    "plt.title(dynamic_sentence)\n",
    "plt.show()"
   ]
  },
  {
   "cell_type": "markdown",
   "metadata": {
    "ExecuteTime": {
     "end_time": "2017-11-23T12:23:46.777118Z",
     "start_time": "2017-11-23T12:23:46.768292Z"
    }
   },
   "source": [
    "## FAO FOREST Widget\n",
    "\n",
    "This widget should include 'FOREST COVER ' in the title - note the distinction, that the Hansen data relate to tree cover, and FAO relate to forest cover...\n",
    "\n",
    "An FAO-based forest widget can be calcuated based on data in a carto table `https://wri-01.carto.com/tables/gfw2_countries`\n",
    "\n",
    "It will take a little work, as the data stored in the carto table is % of primary, regenerated and planted forest. Therefore we must 1) get an area (ha) extent of the forest, 2) obtain the % values of various FAO forest statistics from the carto table, 3) derrive the real (ha) area of FAO forest for each category, and 4) get a value of absolute area of the country and subtract the values caluclated in step 3 from the total area to get non-forest. \n",
    "\n",
    "** Pie categories **\n",
    "\n",
    "* Primary Forest\n",
    "* Naturally Regenerated Forest\n",
    "* Planted Forest\n",
    "* Non-forest\n",
    "\n",
    "**Notes** \n",
    "\n",
    "1. These data (and therefore this widget) is only avaiable at the NATIONAL (ADMIN 0) level. And should dissapear from the pages if any other area is selected.\n",
    "\n",
    "1. These data have no threshold selection.\n",
    "\n",
    "1. As these data are only national, we can simply rely on the `umd_nat_staging` table to provide areas directly, rather than needing to dynamically calculate the areas."
   ]
  },
  {
   "cell_type": "code",
   "execution_count": 18,
   "metadata": {
    "ExecuteTime": {
     "end_time": "2017-12-13T11:00:58.294919Z",
     "start_time": "2017-12-13T11:00:58.289313Z"
    },
    "collapsed": true
   },
   "outputs": [],
   "source": [
    "# For FAO data, only country (admin0) level data are avaiable. No other options on selector.\n",
    "\n",
    "# Variables\n",
    "adm0 = 'BRA'"
   ]
  },
  {
   "cell_type": "code",
   "execution_count": 19,
   "metadata": {
    "ExecuteTime": {
     "end_time": "2017-12-13T11:00:58.338748Z",
     "start_time": "2017-12-13T11:00:58.298354Z"
    }
   },
   "outputs": [
    {
     "name": "stdout",
     "output_type": "stream",
     "text": [
      "https://wri-01.carto.com/api/v2/sql?q=SELECT+fao.iso%2C+fao.name%2Cforest_planted%2C+forest_primary%2C+forest_regenerated%2C+fao.forest_primary%2C+fao.extent%2C+a.land+as+area_ha+FROM+gfw2_countries+as+fao+INNER+JOIN+umd_nat_staging+as+a+ON+fao.iso%3Da.iso+WHERE+fao.forest_primary+is+not+null+AND+fao.iso+%3D+%27BRA%27+AND+a.year+%3D+2001+AND+a.thresh+%3D+30+ \n",
      "\n",
      "{'fields': {'area_ha': {'type': 'number'},\n",
      "            'extent': {'type': 'number'},\n",
      "            'forest_planted': {'type': 'number'},\n",
      "            'forest_primary': {'type': 'number'},\n",
      "            'forest_regenerated': {'type': 'number'},\n",
      "            'iso': {'type': 'string'},\n",
      "            'name': {'type': 'string'}},\n",
      " 'rows': [{'area_ha': 853281125.672,\n",
      "           'extent': 492968489,\n",
      "           'forest_planted': 2,\n",
      "           'forest_primary': 41,\n",
      "           'forest_regenerated': 57,\n",
      "           'iso': 'BRA',\n",
      "           'name': 'Brazil'}],\n",
      " 'time': 0.009,\n",
      " 'total_rows': 1}\n"
     ]
    }
   ],
   "source": [
    "# First, get the FAO data from a carto table\n",
    "\n",
    "sql = (\"SELECT fao.iso, fao.name,forest_planted, forest_primary, \"\n",
    "         \"forest_regenerated, fao.forest_primary, fao.extent, a.land as area_ha \"\n",
    "         \"FROM gfw2_countries as fao \"\n",
    "         \"INNER JOIN umd_nat_staging as a \"\n",
    "         \"ON fao.iso=a.iso \"\n",
    "         \"WHERE fao.forest_primary is not null \"\n",
    "         f\"AND fao.iso = '{adm0}' \"\n",
    "         \"AND a.year = 2001 \"\n",
    "         \"AND a.thresh = 30 \"\n",
    "        )\n",
    "\n",
    "account = 'wri-01'\n",
    "urlCarto = \"https://{0}.carto.com/api/v2/sql\".format(account)\n",
    "\n",
    "sql = {\"q\": sql}\n",
    "r = requests.get(urlCarto, params=sql)\n",
    "print(r.url,'\\n')\n",
    "pprint(r.json())\n",
    "\n",
    "fao_percent = r.json().get('rows')[0]"
   ]
  },
  {
   "cell_type": "code",
   "execution_count": 20,
   "metadata": {
    "ExecuteTime": {
     "end_time": "2017-12-13T11:00:58.350292Z",
     "start_time": "2017-12-13T11:00:58.341961Z"
    },
    "collapsed": true
   },
   "outputs": [],
   "source": [
    "# How to calculate the statitics needed based on the CARTO responses\n",
    "\n",
    "naturally_regenerated =  fao_percent['extent']/ 100 *  fao_percent['forest_regenerated']\n",
    "primary_forest = fao_percent['extent']/100 *  fao_percent['forest_primary']\n",
    "planted_forest = fao_percent['extent']/100 * fao_percent['forest_planted']\n",
    "non_forest = fao_percent['area_ha'] - (naturally_regenerated + primary_forest + planted_forest)"
   ]
  },
  {
   "cell_type": "code",
   "execution_count": 21,
   "metadata": {
    "ExecuteTime": {
     "end_time": "2017-12-13T11:00:58.552000Z",
     "start_time": "2017-12-13T11:00:58.353688Z"
    }
   },
   "outputs": [
    {
     "data": {
      "image/png": "[encoded data removed]",
      "text/plain": [
       "<matplotlib.figure.Figure at 0x10f465198>"
      ]
     },
     "metadata": {},
     "output_type": "display_data"
    }
   ],
   "source": [
    "# FAO donut chart \n",
    "# NOTE - THE COLOURS ARE NOT NECESSARILY THOSE NEEDED FOR PRODUCTION\n",
    "labels = ['Naturally regenerated Forest', 'Primary Forest', 'Planted Forest', 'Non-Forest']\n",
    "sizes = [naturally_regenerated, primary_forest, planted_forest, non_forest]\n",
    "\n",
    "fig1, ax1 = plt.subplots()\n",
    "ax1.pie(sizes, labels=labels, autopct='%1.1f%%',\n",
    "        shadow=False, startangle=90, colors=['#0da330', '#69ef88','green','grey'])\n",
    "ax1.axis('equal')\n",
    "centre_circle = plt.Circle((0,0),0.75,color='black', fc='white',linewidth=0.5)\n",
    "fig1 = plt.gcf()\n",
    "fig1.gca().add_artist(centre_circle)\n",
    "plt.title(f'Forest cover in {adm0}')\n",
    "plt.show()"
   ]
  },
  {
   "cell_type": "code",
   "execution_count": 22,
   "metadata": {
    "ExecuteTime": {
     "end_time": "2017-12-13T11:00:58.590797Z",
     "start_time": "2017-12-13T11:00:58.555639Z"
    }
   },
   "outputs": [
    {
     "name": "stdout",
     "output_type": "stream",
     "text": [
      "https://wri-01.carto.com/api/v2/sql?q=WITH+mytable+AS+%28SELECT+fao.iso%2C+fao.name%2C+fao.forest_primary%2C+fao.extent+forest_extent%2C+a.land+as+area_ha+FROM+gfw2_countries+as+fao+INNER+JOIN+umd_nat_staging+as+a+ON+fao.iso%3Da.iso+WHERE+fao.forest_primary+%3E+0+AND+a.year+%3D+2001+AND+a.thresh+%3D+30%29%2C+rank+AS+%28+SELECT+forest_extent+%2A+%28forest_primary%2F100%29%2Farea_ha+%2A+100+as+percent_primary+%2Ciso+from+mytable+ORDER+BY+percent_primary+DESC%29%2C+item+as+%28select+percent_primary+from+rank+where+iso+%3D+%27BRA%27%29+select+count%28%2A%29+as+rank+from+rank+WHERE+percent_primary+%3E+%28select+percent_primary+from+item%29+ \n",
      "\n",
      "{'fields': {'rank': {'type': 'number'}},\n",
      " 'rows': [{'rank': 27}],\n",
      " 'time': 0.037,\n",
      " 'total_rows': 1}\n",
      "27\n"
     ]
    }
   ],
   "source": [
    "## RANK ALL COUNTRIES RELATIVE AMOUNT OF PRIMARY FOREST in 2015 and report that value for a dynamic sentence\n",
    "\n",
    "sql = (\"WITH mytable AS (SELECT fao.iso, fao.name, fao.forest_primary, fao.extent forest_extent, a.land as area_ha \"\n",
    "\"FROM gfw2_countries as fao \"\n",
    "\"INNER JOIN umd_nat_staging as a \"\n",
    "\"ON fao.iso=a.iso \"\n",
    "\"WHERE fao.forest_primary > 0 \"\n",
    "\"AND a.year = 2001 \"\n",
    "\"AND a.thresh = 30), \"\n",
    "\"rank AS ( \"\n",
    "\"SELECT forest_extent * (forest_primary/100)/area_ha * 100 as percent_primary ,iso \"\n",
    "\"from mytable \"\n",
    "\"ORDER BY percent_primary DESC), \"\n",
    "f\"item as (select percent_primary from rank where iso = '{adm0}') \"\n",
    "\"select count(*) as rank \"\n",
    "\"from rank \"\n",
    "\"WHERE percent_primary > (select percent_primary from item) \")\n",
    "\n",
    "account = 'wri-01'\n",
    "urlCarto = \"https://{0}.carto.com/api/v2/sql\".format(account)\n",
    "\n",
    "sql = {\"q\": sql}\n",
    "r = requests.get(urlCarto, params=sql)\n",
    "print(r.url,'\\n')\n",
    "pprint(r.json())\n",
    "\n",
    "rank = r.json().get('rows')[0].get('rank')\n",
    "print(rank)"
   ]
  },
  {
   "cell_type": "code",
   "execution_count": 23,
   "metadata": {
    "ExecuteTime": {
     "end_time": "2017-12-13T11:00:58.616285Z",
     "start_time": "2017-12-13T11:00:58.594395Z"
    }
   },
   "outputs": [
    {
     "name": "stdout",
     "output_type": "stream",
     "text": [
      "FAO data from 2015 shows that Brazil is mostly forest. Primary forest occupies 23.7% of the country. This gives Brazil a rank of 27th out of 110 countries in terms of its relative amount of primary forest.\n"
     ]
    }
   ],
   "source": [
    "# Dyanmic sentence for FAO plot\n",
    "\n",
    "print(f\"FAO data from 2015 shows that {iso_to_countries[adm0]} is \", end=\"\")\n",
    "\n",
    "if  non_forest/fao_percent['area_ha'] > 0.5:\n",
    "    print('mostly non-forest. ', end=\"\")\n",
    "else:\n",
    "    print('mostly forest. ',end=\"\")\n",
    "\n",
    "if primary_forest > 0:\n",
    "    print(f\"Primary forest occupies {primary_forest/fao_percent['area_ha']*100:3.1f}% of the country. \", end=\"\")\n",
    "    print(f\"This gives {iso_to_countries[adm0]} a rank of {rank}th out of 110 countries in terms of \", end=\"\")\n",
    "    print(\"its relative amount of primary forest.\")"
   ]
  },
  {
   "cell_type": "markdown",
   "metadata": {},
   "source": [
    "## TREE COVER LOSS WIDGET \n",
    "\n",
    "The UMD/Hansen Tree cover loss widget should be a bar chart, with time as the x-axis, and loss (ha) as the y-axis, on hover it should show the year, ha loss, and % loss relative to 2000 tree cover extent *for the data table of interest*.\n",
    "\n",
    "** Notes ** \n",
    "\n",
    "* Loss data tables have loss units in both area (ha) and emissions (t co2/ha). The emissions units will only be used in the loss widget to add contextual info to the dynamic sentence.\n",
    "\n",
    "* It is probably best to always request the full time period of data from the table, and then subset it client-side, as we will always need to know the last year of loss to construct the dynamic sentence.\n",
    "\n",
    "* In settings, the users should be able to change the data sources, when they do you will need to query different data tables both for calculating loss and extent (to calculate relative loss):\n",
    "    - All region (default) view: gadm28 table\n",
    "    - all other data tables currently created should be selectable too\n",
    "    \n",
    "*more info - not needed for front-end devs*\n",
    "- for refrence in testing adm0 = BRA, adm1 = 12, adm2 = 1434 is Mato Grosso, Cáceres\n",
    "\n",
    "\n",
    "** WHen plantations are selected the user should see a stacked bar chart  from 2013 onwards **\n",
    "More details of this to follow below.\n"
   ]
  },
  {
   "cell_type": "code",
   "execution_count": 24,
   "metadata": {
    "ExecuteTime": {
     "end_time": "2017-12-13T11:00:58.629454Z",
     "start_time": "2017-12-13T11:00:58.620182Z"
    },
    "collapsed": true
   },
   "outputs": [],
   "source": [
    "# Variables\n",
    "\n",
    "threshold=30\n",
    "adm0 = 'BRA'\n",
    "adm1 = None\n",
    "adm2 = None\n",
    "start=2000\n",
    "end=2016\n",
    "location = \"All Region\""
   ]
  },
  {
   "cell_type": "code",
   "execution_count": 25,
   "metadata": {
    "ExecuteTime": {
     "end_time": "2017-12-13T11:00:58.653245Z",
     "start_time": "2017-12-13T11:00:58.636284Z"
    },
    "collapsed": true
   },
   "outputs": [],
   "source": [
    "# get a human readable {id: name} json for either admin 1 or 2 level as needed:\n",
    "\n",
    "areaId_to_name = None\n",
    "if adm2:\n",
    "    tmp = get_admin2_json(iso=adm0, adm1=adm1)\n",
    "    areaId_to_name ={}\n",
    "    for row in tmp:\n",
    "        areaId_to_name[row.get('adm2')] = row.get('name')\n",
    "if adm1 and not adm2:\n",
    "    tmp = get_admin1_json(iso=adm0)\n",
    "    areaId_to_name={}\n",
    "    for row in tmp:\n",
    "        areaId_to_name[row.get('adm1')] = row.get('name')"
   ]
  },
  {
   "cell_type": "code",
   "execution_count": 26,
   "metadata": {
    "ExecuteTime": {
     "end_time": "2017-12-13T11:00:58.723470Z",
     "start_time": "2017-12-13T11:00:58.657003Z"
    },
    "collapsed": true
   },
   "outputs": [],
   "source": [
    "def loss_queries(p_name, adm0, adm1=None, adm2=None, threshold=30):\n",
    "    if adm2:\n",
    "        print(f'Request for adm2 area')\n",
    "        sql = (f\"SELECT polyname, year_data.year as year, \"\n",
    "               f\"SUM(year_data.area_loss) as area, \"\n",
    "               f\"SUM(year_data.emissions) as emissions \"\n",
    "               f\"FROM data \"\n",
    "               f\"WHERE polyname = '{p_name}' \"\n",
    "               f\"AND iso = '{adm0}' \"\n",
    "               f\"AND adm1 = {adm1} \"\n",
    "               f\"AND adm2 = {adm2} \"\n",
    "               f\"AND thresh= {threshold} \"\n",
    "               f\"GROUP BY polyname, iso, nested(year_data.year)\")\n",
    "        return sql\n",
    "    elif adm1:\n",
    "        print('Request for  adm1 area')\n",
    "        sql = (f\"SELECT polyname, year_data.year as year, \"\n",
    "               f\"SUM(year_data.area_loss) as area, \"\n",
    "               f\"SUM(year_data.emissions) as emissions \"\n",
    "               f\"FROM data \"\n",
    "               f\"WHERE polyname = '{p_name}' \"\n",
    "               f\"AND iso = '{adm0}' \"\n",
    "               f\"AND adm1 = {adm1} \"\n",
    "               f\"AND thresh= {threshold} \"\n",
    "               f\"GROUP BY polyname, iso, nested(year_data.year)\")\n",
    "        return sql\n",
    "    elif adm0:\n",
    "        print('Request for  adm0 area')\n",
    "        sql = (f\"SELECT polyname, year_data.year as year, \"\n",
    "               f\"SUM(year_data.area_loss) as area, \"\n",
    "               f\"SUM(year_data.emissions) as emissions \"\n",
    "               f\"FROM data \"\n",
    "               f\"WHERE polyname = '{p_name}' \" \n",
    "               f\"AND iso = '{adm0}' \"\n",
    "               f\"AND thresh= {threshold} \"\n",
    "               f\"GROUP BY polyname, iso, nested(year_data.year)\")\n",
    "        return sql\n",
    "\n"
   ]
  },
  {
   "cell_type": "markdown",
   "metadata": {},
   "source": [
    "Loss on hover should show % loss relative to Tree cover extent of the location selected in the year 2010. I.e. if someone is interested in the 'All region' default view, then the loss should come from the `gadm28 loss` table, and the extent (to calculate the relative loss) should come from the `gadm28 extent` table.\n",
    "\n",
    "Therefore we must calculate loss % also, for this we will need the tree cover extent data too."
   ]
  },
  {
   "cell_type": "code",
   "execution_count": 27,
   "metadata": {
    "ExecuteTime": {
     "end_time": "2017-12-13T11:00:58.758595Z",
     "start_time": "2017-12-13T11:00:58.726832Z"
    }
   },
   "outputs": [
    {
     "name": "stdout",
     "output_type": "stream",
     "text": [
      "Request for  adm0 area\n",
      "SELECT SUM(area_extent) as value, SUM(area_gadm28) as total_area FROM data WHERE iso = 'BRA' AND thresh = 30 AND polyname = 'gadm28'\n",
      "https://production-api.globalforestwatch.org/v1/query/499682b1-3174-493f-ba1a-368b4636708e?sql=SELECT+SUM%28area_extent%29+as+value%2C+SUM%28area_gadm28%29+as+total_area+FROM+data+WHERE+iso+%3D+%27BRA%27+AND+thresh+%3D+30+AND+polyname+%3D+%27gadm28%27\n",
      "Status: 200\n",
      "{'data': [{'total_area': 850033236.0091553, 'value': 519187505.155631}],\n",
      " 'meta': {'cloneUrl': {'body': {'dataset': {'application': ['your', 'apps'],\n",
      "                                            'datasetUrl': '/v1/query/499682b1-3174-493f-ba1a-368b4636708e?sql=SELECT%20SUM%28area_extent%29%20as%20value%2C%20SUM%28area_gadm28%29%20as%20total_area%20FROM%20data%20WHERE%20iso%20%3D%20%27BRA%27%20AND%20thresh%20%3D%2030%20AND%20polyname%20%3D%20%27gadm28%27'}},\n",
      "                       'http_method': 'POST',\n",
      "                       'url': '/v1/dataset/499682b1-3174-493f-ba1a-368b4636708e/clone'}}}\n"
     ]
    }
   ],
   "source": [
    "# First, get the extent of tree cover over your area of interest (to work out relative loss)\n",
    "sql = extent_queries(p_name=polynames[location], adm0=adm0, \n",
    "                   adm1=adm1, adm2=adm2, threshold=threshold)    \n",
    "print(sql) # loss query\n",
    "properties = {\"sql\": sql}\n",
    "r = requests.get(url, params = properties)\n",
    "print(r.url)\n",
    "print(f'Status: {r.status_code}')\n",
    "pprint(r.json())\n",
    "y2010_relative_extent = r.json().get('data')[0].get('total_area')"
   ]
  },
  {
   "cell_type": "code",
   "execution_count": 28,
   "metadata": {
    "ExecuteTime": {
     "end_time": "2017-12-13T11:00:58.991204Z",
     "start_time": "2017-12-13T11:00:58.762452Z"
    }
   },
   "outputs": [
    {
     "name": "stdout",
     "output_type": "stream",
     "text": [
      "BRA\n",
      "Request for  adm0 area\n",
      "SELECT polyname, year_data.year as year, SUM(year_data.area_loss) as area, SUM(year_data.emissions) as emissions FROM data WHERE polyname = 'gadm28' AND iso = 'BRA' AND thresh= 30 GROUP BY polyname, iso, nested(year_data.year)\n",
      "https://production-api.globalforestwatch.org/v1/query/499682b1-3174-493f-ba1a-368b4636708e?sql=SELECT+polyname%2C+year_data.year+as+year%2C+SUM%28year_data.area_loss%29+as+area%2C+SUM%28year_data.emissions%29+as+emissions+FROM+data+WHERE+polyname+%3D+%27gadm28%27+AND+iso+%3D+%27BRA%27+AND+thresh%3D+30+GROUP+BY+polyname%2C+iso%2C+nested%28year_data.year%29\n",
      "Status: 200\n",
      "{'data': [{'area': 2746361.4890696183,\n",
      "           'emissions': 451665397.0006001,\n",
      "           'iso': 'BRA',\n",
      "           'polyname': 'gadm28',\n",
      "           'year': 2001},\n",
      "          {'area': 3507049.430043675,\n",
      "           'emissions': 599107237.3975263,\n",
      "           'iso': 'BRA',\n",
      "           'polyname': 'gadm28',\n",
      "           'year': 2002},\n",
      "          {'area': 3248526.7289099023,\n",
      "           'emissions': 540574861.4785872,\n",
      "           'iso': 'BRA',\n",
      "           'polyname': 'gadm28',\n",
      "           'year': 2003},\n",
      "          {'area': 3848770.7972362638,\n",
      "           'emissions': 676408980.2036796,\n",
      "           'iso': 'BRA',\n",
      "           'polyname': 'gadm28',\n",
      "           'year': 2004},\n",
      "          {'area': 3486562.714630291,\n",
      "           'emissions': 644553412.0320137,\n",
      "           'iso': 'BRA',\n",
      "           'polyname': 'gadm28',\n",
      "           'year': 2005},\n",
      "          {'area': 2876804.669658102,\n",
      "           'emissions': 513807720.2924354,\n",
      "           'iso': 'BRA',\n",
      "           'polyname': 'gadm28',\n",
      "           'year': 2006},\n",
      "          {'area': 2621820.242933862,\n",
      "           'emissions': 437504684.6362488,\n",
      "           'iso': 'BRA',\n",
      "           'polyname': 'gadm28',\n",
      "           'year': 2007},\n",
      "          {'area': 2444308.1962688714,\n",
      "           'emissions': 421136841.3216598,\n",
      "           'iso': 'BRA',\n",
      "           'polyname': 'gadm28',\n",
      "           'year': 2008},\n",
      "          {'area': 1817901.2345727086,\n",
      "           'emissions': 309401955.17921805,\n",
      "           'iso': 'BRA',\n",
      "           'polyname': 'gadm28',\n",
      "           'year': 2009},\n",
      "          {'area': 2688896.1758544967,\n",
      "           'emissions': 455313700.8952615,\n",
      "           'iso': 'BRA',\n",
      "           'polyname': 'gadm28',\n",
      "           'year': 2010},\n",
      "          {'area': 1923363.68953944,\n",
      "           'emissions': 323015090.3335359,\n",
      "           'iso': 'BRA',\n",
      "           'polyname': 'gadm28',\n",
      "           'year': 2011},\n",
      "          {'area': 2918633.138893433,\n",
      "           'emissions': 464007720.51890945,\n",
      "           'iso': 'BRA',\n",
      "           'polyname': 'gadm28',\n",
      "           'year': 2012},\n",
      "          {'area': 1945506.2521234453,\n",
      "           'emissions': 299307098.087373,\n",
      "           'iso': 'BRA',\n",
      "           'polyname': 'gadm28',\n",
      "           'year': 2013},\n",
      "          {'area': 2693134.2983764634,\n",
      "           'emissions': 414300626.2159879,\n",
      "           'iso': 'BRA',\n",
      "           'polyname': 'gadm28',\n",
      "           'year': 2014},\n",
      "          {'area': 2222772.419181913,\n",
      "           'emissions': 347409489.11158633,\n",
      "           'iso': 'BRA',\n",
      "           'polyname': 'gadm28',\n",
      "           'year': 2015},\n",
      "          {'area': 5378844.035288975,\n",
      "           'emissions': 961585493.266664,\n",
      "           'iso': 'BRA',\n",
      "           'polyname': 'gadm28',\n",
      "           'year': 2016}],\n",
      " 'meta': {'cloneUrl': {'body': {'dataset': {'application': ['your', 'apps'],\n",
      "                                            'datasetUrl': '/v1/query/499682b1-3174-493f-ba1a-368b4636708e?sql=SELECT%20polyname%2C%20year_data.year%20as%20year%2C%20SUM%28year_data.area_loss%29%20as%20area%2C%20SUM%28year_data.emissions%29%20as%20emissions%20FROM%20data%20WHERE%20polyname%20%3D%20%27gadm28%27%20AND%20iso%20%3D%20%27BRA%27%20AND%20thresh%3D%2030%20GROUP%20BY%20polyname%2C%20iso%2C%20nested%28year_data.year%29'}},\n",
      "                       'http_method': 'POST',\n",
      "                       'url': '/v1/dataset/499682b1-3174-493f-ba1a-368b4636708e/clone'}}}\n",
      "{2001: {'area_%': 0.32308871850277143,\n",
      "        'area_ha': 2746361.4890696183,\n",
      "        'emissions': 451665397.0006001},\n",
      " 2002: {'area_%': 0.41257791830693813,\n",
      "        'area_ha': 3507049.430043675,\n",
      "        'emissions': 599107237.3975263},\n",
      " 2003: {'area_%': 0.38216467207347105,\n",
      "        'area_ha': 3248526.7289099023,\n",
      "        'emissions': 540574861.4785872},\n",
      " 2004: {'area_%': 0.45277886018974567,\n",
      "        'area_ha': 3848770.7972362638,\n",
      "        'emissions': 676408980.2036796},\n",
      " 2005: {'area_%': 0.41016781073166636,\n",
      "        'area_ha': 3486562.714630291,\n",
      "        'emissions': 644553412.0320137},\n",
      " 2006: {'area_%': 0.33843437500920465,\n",
      "        'area_ha': 2876804.669658102,\n",
      "        'emissions': 513807720.2924354},\n",
      " 2007: {'area_%': 0.30843738007740956,\n",
      "        'area_ha': 2621820.242933862,\n",
      "        'emissions': 437504684.6362488},\n",
      " 2008: {'area_%': 0.287554426429809,\n",
      "        'area_ha': 2444308.1962688714,\n",
      "        'emissions': 421136841.3216598},\n",
      " 2009: {'area_%': 0.2138623712065217,\n",
      "        'area_ha': 1817901.2345727086,\n",
      "        'emissions': 309401955.17921805},\n",
      " 2010: {'area_%': 0.3163283577567708,\n",
      "        'area_ha': 2688896.1758544967,\n",
      "        'emissions': 455313700.8952615},\n",
      " 2011: {'area_%': 0.2262692337266121,\n",
      "        'area_ha': 1923363.68953944,\n",
      "        'emissions': 323015090.3335359},\n",
      " 2012: {'area_%': 0.34335517898055434,\n",
      "        'area_ha': 2918633.138893433,\n",
      "        'emissions': 464007720.51890945},\n",
      " 2013: {'area_%': 0.22887413923453828,\n",
      "        'area_ha': 1945506.2521234453,\n",
      "        'emissions': 299307098.087373},\n",
      " 2014: {'area_%': 0.31682694091122066,\n",
      "        'area_ha': 2693134.2983764634,\n",
      "        'emissions': 414300626.2159879},\n",
      " 2015: {'area_%': 0.2614924128870148,\n",
      "        'area_ha': 2222772.419181913,\n",
      "        'emissions': 347409489.11158633},\n",
      " 2016: {'area_%': 0.6327804381558372,\n",
      "        'area_ha': 5378844.035288975,\n",
      "        'emissions': 961585493.266664}}\n"
     ]
    }
   ],
   "source": [
    "#ds = '499682b1-3174-493f-ba1a-368b4636708e'\n",
    "url = f\"https://production-api.globalforestwatch.org/v1/query/{ds}\"\n",
    "\n",
    "print(adm0)\n",
    "\n",
    "# Next, get the loss data grouped by year\n",
    "sql = loss_queries(p_name=polynames[location], adm0=adm0, \n",
    "                   adm1=adm1, adm2=adm2, threshold=threshold)    \n",
    "print(sql) # loss query\n",
    "properties = {\"sql\": sql}\n",
    "r = requests.get(url, params = properties)\n",
    "print(r.url)\n",
    "print(f'Status: {r.status_code}')\n",
    "pprint(r.json())\n",
    "\n",
    "\n",
    "# # Extract the year, and loss in hectares, and emissions units, and calculate the relative loss in %\n",
    "d = {}\n",
    "for row in r.json().get('data'):\n",
    "    tmp_yr = float(row.get('year'))\n",
    "    if tmp_yr > 2000:\n",
    "        try:\n",
    "            tmp_area = float(row.get('area'))\n",
    "        except:\n",
    "            tmp_area = None\n",
    "            \n",
    "        try:\n",
    "            tmp_area_pcnt = (tmp_area / y2010_relative_extent) * 100\n",
    "        except:\n",
    "            tmp_area_pcnt = None\n",
    "            \n",
    "        try:\n",
    "            tmp_emiss = float(row.get('emissions'))\n",
    "        except:\n",
    "            tmp_emiss = None\n",
    "            \n",
    "        d[int(tmp_yr)] = {'area_ha': tmp_area,\n",
    "                              'area_%': tmp_area_pcnt,\n",
    "                              'emissions': tmp_emiss,\n",
    "                               }\n",
    "pprint(d)"
   ]
  },
  {
   "cell_type": "markdown",
   "metadata": {},
   "source": [
    "Use the `start` and `end` variables to filter the time-range on the front-end."
   ]
  },
  {
   "cell_type": "code",
   "execution_count": 29,
   "metadata": {
    "ExecuteTime": {
     "end_time": "2017-12-13T11:00:59.291001Z",
     "start_time": "2017-12-13T11:00:58.994838Z"
    }
   },
   "outputs": [
    {
     "data": {
      "image/png": "[encoded data removed]",
      "text/plain": [
       "<matplotlib.figure.Figure at 0x11184df60>"
      ]
     },
     "metadata": {},
     "output_type": "display_data"
    }
   ],
   "source": [
    "if adm0 and not adm1 and not adm2:\n",
    "    dynamic_title = (f'{iso_to_countries[adm0]} tree cover loss for {location.lower()}')\n",
    "if adm0 and adm1 and not adm2: \n",
    "    dynamic_title = (f\"{areaId_to_name[adm1]} tree cover loss for {location.lower()}\")\n",
    "if adm0 and adm1 and adm2:\n",
    "    dynamic_title = (f\"{areaId_to_name[adm2]} tree cover loss for {location.lower()}\")\n",
    "\n",
    "\n",
    "loss = []\n",
    "for val in d.values():\n",
    "    if val.get('area_ha'):\n",
    "        loss.append(val.get('area_ha'))\n",
    "    else:\n",
    "        loss.append(0)\n",
    "\n",
    "years = d.keys()\n",
    "width = 0.35\n",
    "fig, ax = plt.subplots()\n",
    "rects1 = ax.bar(years, loss, width, color='#FE5A8D')\n",
    "\n",
    "\n",
    "# add some text for labels, title and axes ticks\n",
    "ax.set_ylabel('Loss extent (ha)')\n",
    "ax.set_title(dynamic_title)\n",
    "plt.show()"
   ]
  },
  {
   "cell_type": "markdown",
   "metadata": {},
   "source": [
    "#### Dynamic sentence \n",
    "\n",
    "For the loss widget we also need a dynamic sentence."
   ]
  },
  {
   "cell_type": "code",
   "execution_count": 30,
   "metadata": {
    "ExecuteTime": {
     "end_time": "2017-12-13T11:00:59.322864Z",
     "start_time": "2017-12-13T11:00:59.294559Z"
    }
   },
   "outputs": [
    {
     "name": "stdout",
     "output_type": "stream",
     "text": [
      "2001 451665397.0006001 2746361.4890696183\n",
      "2002 599107237.3975263 3507049.430043675\n",
      "2003 540574861.4785872 3248526.7289099023\n",
      "2004 676408980.2036796 3848770.7972362638\n",
      "2005 644553412.0320137 3486562.714630291\n",
      "2006 513807720.2924354 2876804.669658102\n",
      "2007 437504684.6362488 2621820.242933862\n",
      "2008 421136841.3216598 2444308.1962688714\n",
      "2009 309401955.17921805 1817901.2345727086\n",
      "2010 455313700.8952615 2688896.1758544967\n",
      "2011 323015090.3335359 1923363.68953944\n",
      "2012 464007720.51890945 2918633.138893433\n",
      "2013 299307098.087373 1945506.2521234453\n",
      "2014 414300626.2159879 2693134.2983764634\n",
      "2015 347409489.11158633 2222772.419181913\n",
      "2016 961585493.266664 5378844.035288975\n"
     ]
    }
   ],
   "source": [
    "for year in d:\n",
    "    print(year, d.get(year).get('emissions'), d.get(year).get('area_ha'))"
   ]
  },
  {
   "cell_type": "code",
   "execution_count": 31,
   "metadata": {
    "ExecuteTime": {
     "end_time": "2017-12-13T11:00:59.336535Z",
     "start_time": "2017-12-13T11:00:59.326076Z"
    }
   },
   "outputs": [
    {
     "name": "stdout",
     "output_type": "stream",
     "text": [
      "[7859100307.971289, 46369255.51258146]\n"
     ]
    }
   ],
   "source": [
    "# First find total emissions, and loss, and also the last year of emissions and loss\n",
    "\n",
    "total_emissions = 0\n",
    "total_loss = 0\n",
    "for year in d:\n",
    "    total_loss += d.get(year).get('area_ha')\n",
    "    total_emissions += d.get(year).get('emissions')\n",
    "\n",
    "print([total_emissions, total_loss])"
   ]
  },
  {
   "cell_type": "code",
   "execution_count": 32,
   "metadata": {
    "ExecuteTime": {
     "end_time": "2017-12-13T11:00:59.367300Z",
     "start_time": "2017-12-13T11:00:59.340308Z"
    }
   },
   "outputs": [
    {
     "name": "stdout",
     "output_type": "stream",
     "text": [
      "Between 2000 and 2016, Brazil (all region) lost 46,369,256 ha of tree cover: This loss is equal to 5.45% of the total all region tree cover extent in 2010, and equivalent to 7,859,100,308 tonnes of CO₂ emissions. "
     ]
    }
   ],
   "source": [
    "# Dynamic sentence construction\n",
    "\n",
    "if adm0 and not adm1 and not adm2:\n",
    "    print(f\"Between {start} and {end}, {iso_to_countries[adm0]} ({location.lower()}) \", end=\"\")\n",
    "if adm0 and adm1 and not adm2: \n",
    "    print(f\"Between {start} and {end},  {location} of {areaId_to_name[adm1].lower()} \", end=\"\")\n",
    "if adm0 and adm1 and adm2:\n",
    "    print(f\"Between {start} and {end}, {location} of {areaId_to_name[adm2].lower()} \", end=\"\")\n",
    "    \n",
    "print(f\"lost {total_loss:,.0f} ha of tree cover: \", end=\"\")\n",
    "print(f\"This loss is equal to {total_loss / y2010_relative_extent * 100:3.2f}% of the total \", end=\"\")\n",
    "print(f\"{location.lower()} tree cover extent in 2010, \", end=\"\")\n",
    "print(f\"and equivalent to {total_emissions:,.0f} tonnes of CO\\u2082 emissions. \", end=\"\")"
   ]
  },
  {
   "cell_type": "markdown",
   "metadata": {
    "ExecuteTime": {
     "end_time": "2017-12-13T13:36:40.102356Z",
     "start_time": "2017-12-13T13:36:40.098349Z"
    }
   },
   "source": [
    "#### Loss extra: stacked bars if plantations are triggered\n",
    "\n",
    "If a user selects Plantations from the locations menu in the loss widget, they should see a slightly different plot: it will be a stacked bar that differentiates loss in and out of plantations.\n",
    "\n",
    "**This is only possible for certain countries, the Plantation option should not appear in the menu unless a user is in a country with Plantation data**"
   ]
  },
  {
   "cell_type": "code",
   "execution_count": null,
   "metadata": {
    "collapsed": true
   },
   "outputs": [],
   "source": []
  },
  {
   "cell_type": "code",
   "execution_count": null,
   "metadata": {
    "collapsed": true
   },
   "outputs": [],
   "source": []
  },
  {
   "cell_type": "code",
   "execution_count": null,
   "metadata": {
    "collapsed": true
   },
   "outputs": [],
   "source": []
  },
  {
   "cell_type": "markdown",
   "metadata": {
    "ExecuteTime": {
     "end_time": "2017-11-24T12:43:42.896404Z",
     "start_time": "2017-11-24T12:43:42.701528Z"
    }
   },
   "source": [
    "## HEADER DYNAMIC SENTENCE\n",
    "\n",
    "The page header needs to contain a dynamic sentence; this sentence is built from the same data tables (and most of the same queries) that we have already used. (Which is why I am describing it here, rather than at the start of the notebook.)\n",
    "\n",
    "The sentence should be able to account for edge cases where no loss occured (as people will end up looking at admin 2 areas) which may be relativley small, and possibly have no loss.\n",
    "\n",
    "Be prepared for the need to increase the complexity/comprehensivness of the header sentence over time."
   ]
  },
  {
   "cell_type": "code",
   "execution_count": 33,
   "metadata": {
    "ExecuteTime": {
     "end_time": "2017-12-13T11:00:59.382027Z",
     "start_time": "2017-12-13T11:00:59.370913Z"
    },
    "collapsed": true
   },
   "outputs": [],
   "source": [
    "def extract_loss(json_data, last_year=2016):\n",
    "    \"\"\"Grab the last loss year of data for area and emissions\"\"\"\n",
    "    for row in json_data:\n",
    "        if row.get('year') == last_year:\n",
    "            last_loss = row.get('area')\n",
    "            last_emissions = row.get('emissions')\n",
    "    return {'area':last_loss, 'emissions':last_emissions}"
   ]
  },
  {
   "cell_type": "code",
   "execution_count": 34,
   "metadata": {
    "ExecuteTime": {
     "end_time": "2017-12-13T11:00:59.393748Z",
     "start_time": "2017-12-13T11:00:59.385592Z"
    },
    "collapsed": true
   },
   "outputs": [],
   "source": [
    "last_year = 2016\n",
    "threshold = 30\n",
    "adm0 = 'BRA'\n",
    "adm1 = None\n",
    "adm2 = None"
   ]
  },
  {
   "cell_type": "code",
   "execution_count": 35,
   "metadata": {
    "ExecuteTime": {
     "end_time": "2017-12-13T11:00:59.411934Z",
     "start_time": "2017-12-13T11:00:59.397732Z"
    },
    "collapsed": true
   },
   "outputs": [],
   "source": [
    "# get a human readable {id: name} json for either admin 1 or 2 level as needed:\n",
    "\n",
    "areaId_to_name = None\n",
    "if adm2:\n",
    "    tmp = get_admin2_json(iso=adm0, adm1=adm1)\n",
    "    areaId_to_name ={}\n",
    "    for row in tmp:\n",
    "        areaId_to_name[row.get('adm2')] = row.get('name')\n",
    "if adm1 and not adm2:\n",
    "    tmp = get_admin1_json(iso=adm0)\n",
    "    areaId_to_name={}\n",
    "    for row in tmp:\n",
    "        areaId_to_name[row.get('adm1')] = row.get('name') "
   ]
  },
  {
   "cell_type": "code",
   "execution_count": 36,
   "metadata": {
    "ExecuteTime": {
     "end_time": "2017-12-13T11:00:59.440775Z",
     "start_time": "2017-12-13T11:00:59.415198Z"
    }
   },
   "outputs": [
    {
     "name": "stdout",
     "output_type": "stream",
     "text": [
      "Request for  adm0 area\n",
      "https://production-api.globalforestwatch.org/v1/query/499682b1-3174-493f-ba1a-368b4636708e?sql=SELECT+polyname%2C+year_data.year+as+year%2C+SUM%28year_data.area_loss%29+as+area%2C+SUM%28year_data.emissions%29+as+emissions+FROM+data+WHERE+polyname+%3D+%27plantations%27+AND+iso+%3D+%27BRA%27+AND+thresh%3D+30+GROUP+BY+polyname%2C+iso%2C+nested%28year_data.year%29\n",
      "Status: 200\n",
      "{'area': 154472.9096068442, 'emissions': 16645906.638489366}\n"
     ]
    }
   ],
   "source": [
    "# Get the plantation last year data for the region of interest\n",
    "\n",
    "sql = loss_queries(p_name=polynames['Plantations'], adm0=adm0, adm1=adm1, adm2=adm2,\n",
    "             threshold=threshold)\n",
    "\n",
    "properties = {\"sql\": sql}\n",
    "r = requests.get(url, params = properties)\n",
    "print(r.url)\n",
    "print(f'Status: {r.status_code}')\n",
    "\n",
    "plantation_loss_json = r.json().get('data')\n",
    "plantation_values = extract_loss(plantation_loss_json, last_year=last_year)\n",
    "print(plantation_values)"
   ]
  },
  {
   "cell_type": "code",
   "execution_count": 37,
   "metadata": {
    "ExecuteTime": {
     "end_time": "2017-12-13T11:00:59.471443Z",
     "start_time": "2017-12-13T11:00:59.444462Z"
    }
   },
   "outputs": [
    {
     "name": "stdout",
     "output_type": "stream",
     "text": [
      "Request for  adm0 area\n",
      "https://production-api.globalforestwatch.org/v1/query/499682b1-3174-493f-ba1a-368b4636708e?sql=SELECT+polyname%2C+year_data.year+as+year%2C+SUM%28year_data.area_loss%29+as+area%2C+SUM%28year_data.emissions%29+as+emissions+FROM+data+WHERE+polyname+%3D+%27gadm28%27+AND+iso+%3D+%27BRA%27+AND+thresh%3D+30+GROUP+BY+polyname%2C+iso%2C+nested%28year_data.year%29\n",
      "Status: 200\n",
      "{'area': 5378844.035288975, 'emissions': 961585493.266664}\n"
     ]
    }
   ],
   "source": [
    "# Get the gadm28 loss \n",
    "\n",
    "sql = loss_queries(p_name=polynames['All Region'], adm0=adm0, adm1=adm1, adm2=adm2,\n",
    "             threshold=threshold)\n",
    "\n",
    "properties = {\"sql\": sql}\n",
    "r = requests.get(url, params = properties)\n",
    "print(r.url)\n",
    "print(f'Status: {r.status_code}')\n",
    "\n",
    "plantation_loss_json = r.json().get('data')\n",
    "gadm28_values = extract_loss(plantation_loss_json, last_year=last_year)\n",
    "print(gadm28_values)"
   ]
  },
  {
   "cell_type": "code",
   "execution_count": 38,
   "metadata": {
    "ExecuteTime": {
     "end_time": "2017-12-13T11:00:59.509935Z",
     "start_time": "2017-12-13T11:00:59.474920Z"
    }
   },
   "outputs": [
    {
     "name": "stdout",
     "output_type": "stream",
     "text": [
      "Request for  adm0 area\n",
      "https://production-api.globalforestwatch.org/v1/query/499682b1-3174-493f-ba1a-368b4636708e?sql=SELECT+SUM%28area_extent%29+as+value%2C+SUM%28area_gadm28%29+as+total_area+FROM+data+WHERE+iso+%3D+%27BRA%27+AND+thresh+%3D+30+AND+polyname+%3D+%27gadm28%27\n",
      "Status: 200\n",
      "{'data': [{'total_area': 850033236.0091553, 'value': 519187505.155631}],\n",
      " 'meta': {'cloneUrl': {'body': {'dataset': {'application': ['your', 'apps'],\n",
      "                                            'datasetUrl': '/v1/query/499682b1-3174-493f-ba1a-368b4636708e?sql=SELECT%20SUM%28area_extent%29%20as%20value%2C%20SUM%28area_gadm28%29%20as%20total_area%20FROM%20data%20WHERE%20iso%20%3D%20%27BRA%27%20AND%20thresh%20%3D%2030%20AND%20polyname%20%3D%20%27gadm28%27'}},\n",
      "                       'http_method': 'POST',\n",
      "                       'url': '/v1/dataset/499682b1-3174-493f-ba1a-368b4636708e/clone'}}}\n",
      "850033236.0091553\n"
     ]
    }
   ],
   "source": [
    "url = f\"https://production-api.globalforestwatch.org/v1/query/{ds}\"\n",
    "\n",
    "sql = extent_queries(p_name=polynames[location], adm0=adm0, adm1=adm1, adm2=adm2, threshold=threshold)\n",
    "r = requests.get(url, params = {\"sql\": sql})\n",
    "\n",
    "print(r.url)\n",
    "print(f'Status: {r.status_code}')\n",
    "pprint(r.json())\n",
    "\n",
    "total_area =r.json().get('data')[0].get('total_area')\n",
    "print(total_area)"
   ]
  },
  {
   "cell_type": "code",
   "execution_count": 39,
   "metadata": {
    "ExecuteTime": {
     "end_time": "2017-12-13T11:00:59.551774Z",
     "start_time": "2017-12-13T11:00:59.513495Z"
    }
   },
   "outputs": [
    {
     "name": "stdout",
     "output_type": "stream",
     "text": [
      "Request for  adm0 area\n",
      "https://production-api.globalforestwatch.org/v1/query/499682b1-3174-493f-ba1a-368b4636708e?sql=SELECT+SUM%28area_extent%29+as+value%2C+SUM%28area_gadm28%29+as+total_area+FROM+data+WHERE+iso+%3D+%27BRA%27+AND+thresh+%3D+30+AND+polyname+%3D+%27gadm28%27\n",
      "Status: 200\n",
      "{'data': [{'total_area': 850033236.0091553, 'value': 519187505.155631}],\n",
      " 'meta': {'cloneUrl': {'body': {'dataset': {'application': ['your', 'apps'],\n",
      "                                            'datasetUrl': '/v1/query/499682b1-3174-493f-ba1a-368b4636708e?sql=SELECT%20SUM%28area_extent%29%20as%20value%2C%20SUM%28area_gadm28%29%20as%20total_area%20FROM%20data%20WHERE%20iso%20%3D%20%27BRA%27%20AND%20thresh%20%3D%2030%20AND%20polyname%20%3D%20%27gadm28%27'}},\n",
      "                       'http_method': 'POST',\n",
      "                       'url': '/v1/dataset/499682b1-3174-493f-ba1a-368b4636708e/clone'}}}\n",
      "\n",
      "BRA None None Gadm28 Tree cover extent = 519187505.155631 ha\n"
     ]
    }
   ],
   "source": [
    "# Get 2010 tree cover extent of selected area from gadm28 table \n",
    "\n",
    "sql = extent_queries(p_name=polynames[location],\n",
    "                     adm0=adm0, adm1=adm1, adm2=adm2, threshold=threshold)\n",
    "r = requests.get(url, params = {\"sql\": sql})\n",
    "\n",
    "print(r.url)\n",
    "print(f'Status: {r.status_code}')\n",
    "pprint(r.json())\n",
    "\n",
    "try:\n",
    "    tree_cover_extent_2010 = r.json().get('data')[0].get('value')\n",
    "except:\n",
    "    tree_cover_extent_2010 = 0.0\n",
    "print(f\"\\n{adm0} {adm1} {adm2} Gadm28 Tree cover extent = {tree_cover_extent_2010} ha\")\n"
   ]
  },
  {
   "cell_type": "code",
   "execution_count": 40,
   "metadata": {
    "ExecuteTime": {
     "end_time": "2017-12-13T11:00:59.598433Z",
     "start_time": "2017-12-13T11:00:59.555024Z"
    }
   },
   "outputs": [
    {
     "name": "stdout",
     "output_type": "stream",
     "text": [
      "In 2010, Brazil had 519,187,505 ha of tree cover, extending over 61.1% of its land area. In 2016, it lost 5,224,371 ha of forest excluding tree plantations, equivalent to 944,939,586 tonnes of CO₂ of emissions.\n"
     ]
    }
   ],
   "source": [
    "# DYNAMIC SENTENCE\n",
    "\n",
    "if adm0 and not adm1 and not adm2:\n",
    "    print(f\"In 2010, {iso_to_countries[adm0]} had {int(tree_cover_extent_2010):,.0f} ha of tree cover\", end=\"\")     \n",
    "if adm0 and adm1 and not adm2: \n",
    "    print(f\"In 2010, {areaId_to_name[adm1]} had {int(tree_cover_extent_2010):,.0f} ha of tree cover\", end=\"\")\n",
    "if adm0 and adm1 and adm2:\n",
    "    print(f\"In 2010, {areaId_to_name[adm2]} had {int(tree_cover_extent_2010):,.0f} ha of tree cover\", end=\"\")\n",
    "\n",
    "percent_cover = tree_cover_extent_2010/total_area*100\n",
    "if percent_cover > 0:\n",
    "    print(f\", extending over {percent_cover:3.1f}% of its land area. \", end=\"\")\n",
    "else:\n",
    "    print(\". \")\n",
    "\n",
    "# beware we could have areas with no plantations\n",
    "try:\n",
    "    loss_area = int(gadm28_values['area'] - plantation_values['area'])\n",
    "except:\n",
    "    loss_area = 0\n",
    "    \n",
    "print(f\"In {last_year}, \",end=\"\")\n",
    "\n",
    "if loss_area > 0:\n",
    "    print(f\"it lost {loss_area:,.0f} ha \"\n",
    "          \"of forest excluding tree plantations, equivalent to \"\n",
    "          f\"{int(gadm28_values['emissions'] - plantation_values['emissions']):,.0f} \"\n",
    "          \"tonnes of CO\\u2082 of emissions.\")\n",
    "else:\n",
    "    print(\"it lost no tree cover (excluding tree plantations).\")"
   ]
  },
  {
   "cell_type": "markdown",
   "metadata": {
    "ExecuteTime": {
     "end_time": "2017-11-28T09:26:01.827563Z",
     "start_time": "2017-11-28T09:26:01.820034Z"
    }
   },
   "source": [
    "# Tree Cover gain widget\n",
    "\n",
    "1. Widgets made from a dynamic sentence\n",
    "2. User Variables (admin0 to admin1 and location)\n",
    "\n",
    "** LOCATION Area Selectors **\n",
    "\n",
    "    - All region\n",
    "    - Biodiversity Hotspots\n",
    "    - Protected Areas\n",
    "    - Plantations\n",
    "    - Managed Forests\n",
    "    - Primary Forests\n",
    "    - Intact Forests (2000/2013)\n",
    "\n",
    "** Notes **\n",
    "\n",
    "- AOI (area of interest) is the gadm region (admin0-2)\n",
    "- location is the subset of that (i.e protected areas)\n",
    "- Threshold is not a variable in this widget (it should be hardcoded in the queries and must be set to `thresh = 0`)"
   ]
  },
  {
   "cell_type": "code",
   "execution_count": 41,
   "metadata": {
    "ExecuteTime": {
     "end_time": "2017-12-13T11:00:59.608280Z",
     "start_time": "2017-12-13T11:00:59.601635Z"
    },
    "collapsed": true
   },
   "outputs": [],
   "source": [
    "# Variables\n",
    "adm0 = 'BRA'\n",
    "adm1 = None\n",
    "adm2 = None\n",
    "p_name = \"All Region\"\n",
    "\n",
    "url = f\"https://production-api.globalforestwatch.org/v1/query/{ds}\""
   ]
  },
  {
   "cell_type": "code",
   "execution_count": 42,
   "metadata": {
    "ExecuteTime": {
     "end_time": "2017-12-13T11:00:59.627686Z",
     "start_time": "2017-12-13T11:00:59.611596Z"
    },
    "collapsed": true
   },
   "outputs": [],
   "source": [
    "# get admin 1 or 2 level human-readable name info as needed:\n",
    "areaId_to_name = None\n",
    "if adm2:\n",
    "    tmp = get_admin2_json(iso=adm0, adm1=adm1)\n",
    "    areaId_to_name ={}\n",
    "    for row in tmp:\n",
    "        areaId_to_name[row.get('adm2')] = row.get('name')\n",
    "if adm1 and not adm2:\n",
    "    tmp = get_admin1_json(iso=adm0)\n",
    "    areaId_to_name={}\n",
    "    for row in tmp:\n",
    "        areaId_to_name[row.get('adm1')] = row.get('name') "
   ]
  },
  {
   "cell_type": "code",
   "execution_count": 43,
   "metadata": {
    "ExecuteTime": {
     "end_time": "2017-12-13T11:00:59.653074Z",
     "start_time": "2017-12-13T11:00:59.631420Z"
    },
    "collapsed": true
   },
   "outputs": [],
   "source": [
    "#GAIN QUERY\n",
    "\n",
    "def gain_query(p_name, adm0, adm1=None, adm2 = None):\n",
    "    \"\"\"Queries for the gain tables. Note, threshold must be hardcoded to 0\n",
    "        and that will not change.\n",
    "    \"\"\"\n",
    "    if adm2:\n",
    "        print('Request for  adm2 area')\n",
    "        sql = (f\"SELECT area_gain as value FROM data WHERE iso = '{adm0}' \"\n",
    "               f\"AND polyname = '{p_name}' \"\n",
    "               f\"AND adm1 = {adm1} AND adm2 = {adm2} AND thresh = 0\") \n",
    "\n",
    "    elif adm1:\n",
    "        print('Request for  adm1 area')\n",
    "        sql = (f\"SELECT SUM(area_gain) as value FROM data WHERE iso = '{adm0}' \"\n",
    "               f\"AND polyname = '{p_name}' \"\n",
    "               f\"AND adm1 = {adm1} AND thresh = 0\")\n",
    "    elif adm0:\n",
    "        print('Request for adm0 area')\n",
    "        sql = (f\"SELECT SUM(area_gain) as value FROM data WHERE iso = '{adm0}' \"\n",
    "               f\"AND polyname = '{p_name}' \"\n",
    "               f\"AND thresh = 0\")\n",
    "    return sql\n"
   ]
  },
  {
   "cell_type": "code",
   "execution_count": 44,
   "metadata": {
    "ExecuteTime": {
     "end_time": "2017-12-13T11:01:01.444458Z",
     "start_time": "2017-12-13T11:00:59.656999Z"
    }
   },
   "outputs": [
    {
     "name": "stdout",
     "output_type": "stream",
     "text": [
      "Request for adm0 area\n",
      "https://production-api.globalforestwatch.org/v1/query/499682b1-3174-493f-ba1a-368b4636708e?sql=SELECT+SUM%28area_gain%29+as+value+FROM+data+WHERE+iso+%3D+%27BRA%27+AND+polyname+%3D+%27gadm28%27+AND+thresh+%3D+0\n",
      "{'data': [{'value': 106094881256.90405}],\n",
      " 'meta': {'cloneUrl': {'body': {'dataset': {'application': ['your', 'apps'],\n",
      "                                            'datasetUrl': '/v1/query/499682b1-3174-493f-ba1a-368b4636708e?sql=SELECT%20SUM%28area_gain%29%20as%20value%20FROM%20data%20WHERE%20iso%20%3D%20%27BRA%27%20AND%20polyname%20%3D%20%27gadm28%27%20AND%20thresh%20%3D%200'}},\n",
      "                       'http_method': 'POST',\n",
      "                       'url': '/v1/dataset/499682b1-3174-493f-ba1a-368b4636708e/clone'}}}\n",
      "Request for  adm0 area\n",
      "https://production-api.globalforestwatch.org/v1/query/499682b1-3174-493f-ba1a-368b4636708e?sql=SELECT+SUM%28area_extent%29+as+value%2C+SUM%28area_gadm28%29+as+total_area+FROM+data+WHERE+iso+%3D+%27BRA%27+AND+thresh+%3D+30+AND+polyname+%3D+%27gadm28%27\n",
      "{'data': [{'total_area': 850033236.0091553, 'value': 519187505.155631}],\n",
      " 'meta': {'cloneUrl': {'body': {'dataset': {'application': ['your', 'apps'],\n",
      "                                            'datasetUrl': '/v1/query/499682b1-3174-493f-ba1a-368b4636708e?sql=SELECT%20SUM%28area_extent%29%20as%20value%2C%20SUM%28area_gadm28%29%20as%20total_area%20FROM%20data%20WHERE%20iso%20%3D%20%27BRA%27%20AND%20thresh%20%3D%2030%20AND%20polyname%20%3D%20%27gadm28%27'}},\n",
      "                       'http_method': 'POST',\n",
      "                       'url': '/v1/dataset/499682b1-3174-493f-ba1a-368b4636708e/clone'}}}\n"
     ]
    }
   ],
   "source": [
    "# gain query\n",
    "sql = gain_query(p_name=polynames[location], adm0=adm0, adm1=adm1, adm2=adm2)\n",
    "r1 = requests.get(url, params = {\"sql\": sql})\n",
    "\n",
    "try:\n",
    "    tree_cover_gain_2010 = r1.json().get('data')[0].get('value')\n",
    "except:\n",
    "    tree_cover_gain_2010 = 0.0\n",
    "    \n",
    "print(r1.url)    \n",
    "pprint(r1.json())\n",
    "\n",
    "\n",
    "# Total Extent query\n",
    "sql = extent_queries(p_name=polynames[location], adm0=adm0, adm1=adm1, adm2=adm2)\n",
    "r2 = requests.get(url, params = {\"sql\": sql})\n",
    "\n",
    "try:\n",
    "    extent_area = r2.json().get('data')[0].get('value')\n",
    "except:\n",
    "    extent_area = 0.0\n",
    "\n",
    "print(r2.url)\n",
    "pprint(r2.json())\n",
    "\n",
    "area_percent = (100 * tree_cover_gain_2010 / extent_area)"
   ]
  },
  {
   "cell_type": "code",
   "execution_count": 45,
   "metadata": {
    "ExecuteTime": {
     "end_time": "2017-12-13T11:01:01.486278Z",
     "start_time": "2017-12-13T11:01:01.448476Z"
    }
   },
   "outputs": [
    {
     "name": "stdout",
     "output_type": "stream",
     "text": [
      "From 2001 to 2012, Brazil gained 850,033,236 ha of tree cover region-wide, equivalent to a 20434.790938410813% increase relative to 2010 tree cover extent."
     ]
    }
   ],
   "source": [
    "#Dynamic sentence\n",
    "\n",
    "# we may need to modify the way we describe the location to fit gramatically\n",
    "if location == 'All Region':\n",
    "    region_phrase = 'region-wide'\n",
    "else:\n",
    "    region_phrase = 'in ' + location.lower()\n",
    "\n",
    "\n",
    "print(f\"From 2001 to 2012, \", end=\"\")\n",
    "\n",
    "if(not adm1 and not adm2):\n",
    "    print(f\"{iso_to_countries[adm0]} gained {total_area:,.0f} ha of tree cover \", end=\"\")\n",
    "    print(f\"{region_phrase}, equivalent to a {area_percent}% \",end=\"\")\n",
    "    print(f\"increase relative to 2010 tree cover extent.\", end=\"\")\n",
    "elif(not adm2):\n",
    "    print(f\"{areaId_to_name[adm1]} gained {total_area:,.0f} ha of tree cover \", end=\"\")\n",
    "    print(f\"{region_phrase}, equivalent to a {area_percent}% \",end=\"\")\n",
    "    print(f\"increase relative to 2010 tree cover extent.\", end=\"\")\n",
    "else:\n",
    "    print(f\"{areaId_to_name[adm2]} gained {total_area:,.0f} ha of tree cover \", end=\"\")\n",
    "    print(f\"{region_phrase}, equivalent to a {area_percent}% \", end=\"\")\n",
    "    print(f\"increase relative to 2010 tree cover extent.\", end=\"\")\n"
   ]
  },
  {
   "cell_type": "markdown",
   "metadata": {},
   "source": [
    "# Rate of Reforestation widget\n",
    "\n",
    "Dynamic Sentence based on FAO data in a Carto table. Only works for admin-0 (countries).\n",
    "\n",
    "\n",
    "e.g. dynamic sentences:\n",
    "\n",
    "\"Between `X` and `Y` years, the rate of reforestation in `country name` was `X` ha/year.\"\n",
    "\n",
    "\n",
    "** Options**\n",
    "\n",
    "Users should be able to select period from a dropdown menu in the settings:\n",
    "* Period: ['1990–2000', '2000–2005', '2005–2010', '2010–2015']\n",
    "\n",
    "** Notes**\n",
    "\n",
    "- Default should be the most recent period (`2010–2015`).\n",
    "- The value that comes back from the query is kha not ha : i.e. it is in ha/1000 by default."
   ]
  },
  {
   "cell_type": "code",
   "execution_count": 46,
   "metadata": {
    "ExecuteTime": {
     "end_time": "2017-12-13T11:01:01.500780Z",
     "start_time": "2017-12-13T11:01:01.492298Z"
    },
    "collapsed": true
   },
   "outputs": [],
   "source": [
    "# Human readable option for the Period selector, and a key that it should relate to for its query.\n",
    "fao_periods = {'1990–2000': 1990, '2000–2005':2000, '2005–2010':2005, '2010–2015':2010}\n",
    "\n",
    "\n",
    "# Variables\n",
    "adm0 = 'GBR'\n",
    "period = '2010–2015'"
   ]
  },
  {
   "cell_type": "code",
   "execution_count": 47,
   "metadata": {
    "ExecuteTime": {
     "end_time": "2017-12-13T11:01:01.545244Z",
     "start_time": "2017-12-13T11:01:01.504850Z"
    }
   },
   "outputs": [
    {
     "name": "stdout",
     "output_type": "stream",
     "text": [
      "https://wri-01.carto.com/api/v2/sql?q=SELECT+country+AS+iso%2C+name%2C+year%2C+reforest+AS+rate%2C+forest%2A1000+AS+extent+FROM+table_1_forest_area_and_characteristics+as+fao+WHERE+fao.year+%3D+2010+AND+fao.country+%3D+%27GBR%27 \n",
      "\n",
      "{'fields': {'extent': {'type': 'number'},\n",
      "            'iso': {'type': 'string'},\n",
      "            'name': {'type': 'string'},\n",
      "            'rate': {'type': 'number'},\n",
      "            'year': {'type': 'number'}},\n",
      " 'rows': [{'extent': 3059000,\n",
      "           'iso': 'GBR',\n",
      "           'name': 'U.K. of Great Britain and Northern Ireland',\n",
      "           'rate': 14,\n",
      "           'year': 2010}],\n",
      " 'time': 0.002,\n",
      " 'total_rows': 1}\n"
     ]
    }
   ],
   "source": [
    "# First, get the FAO data from a carto table. Note that extent is multiplied by 1000.\n",
    "\n",
    "sql = (\"SELECT country AS iso, name, year, reforest AS rate, forest*1000 AS extent \"\n",
    "         \"FROM table_1_forest_area_and_characteristics as fao \"\n",
    "         f\"WHERE fao.year = {fao_periods[period]} \"\n",
    "         f\"AND fao.country = '{adm0}'\"\n",
    "        )\n",
    "\n",
    "account = 'wri-01'\n",
    "urlCarto = \"https://{0}.carto.com/api/v2/sql\".format(account)\n",
    "\n",
    "sql = {\"q\": sql}\n",
    "r = requests.get(urlCarto, params=sql)\n",
    "print(r.url,'\\n')\n",
    "pprint(r.json())\n",
    "\n",
    "data = r.json().get('rows')[0]"
   ]
  },
  {
   "cell_type": "code",
   "execution_count": 48,
   "metadata": {
    "ExecuteTime": {
     "end_time": "2017-12-13T11:01:01.556491Z",
     "start_time": "2017-12-13T11:01:01.549422Z"
    }
   },
   "outputs": [
    {
     "name": "stdout",
     "output_type": "stream",
     "text": [
      "From 2010–2015, the rate of reforestation in U.K. of Great Britain and Northern Ireland was 14,000 ha/year. "
     ]
    }
   ],
   "source": [
    "#Dynamic sentence\n",
    "\n",
    "print(f\"From {period}, the rate of reforestation in {data['name']} was {data['rate']*1000:,.0f} ha/year. \", end=\"\")"
   ]
  },
  {
   "cell_type": "markdown",
   "metadata": {},
   "source": [
    "# \"Where are Forests Located?\" Widget\n",
    "\n",
    "This widget is a mix of a donut chart and a ranked list. It shows tree cover extent by admin region. On hover the pie chart segments display the extent, in ha and %, for that region.\n",
    "\n",
    "The donut chart should display data for the top few admin regions, and group the rest together as 'Other Districts'\n",
    "\n",
    "Displayed data, ordered by DESC area(ha). \n",
    "\n",
    "1. Admin-2 or -1 name\n",
    "2. % of total extent\n",
    "3. Area of extent (ha)\n",
    "\n",
    "User Variables:\n",
    "\n",
    "1. Hanson extent ('Gadm28'), IFL2013, Plantations or Intact forest\n",
    "2. Admin-0 and -1 region\n",
    "\n"
   ]
  },
  {
   "cell_type": "code",
   "execution_count": 311,
   "metadata": {
    "ExecuteTime": {
     "end_time": "2017-12-13T11:01:01.566632Z",
     "start_time": "2017-12-13T11:01:01.560594Z"
    },
    "collapsed": true
   },
   "outputs": [],
   "source": [
    "#DATASET (CONTAINS EVERYTHING NOW)\n",
    "\n",
    "ds = '499682b1-3174-493f-ba1a-368b4636708e'  # ADMIN 2 level data"
   ]
  },
  {
   "cell_type": "code",
   "execution_count": 328,
   "metadata": {
    "ExecuteTime": {
     "end_time": "2017-12-13T11:01:01.579087Z",
     "start_time": "2017-12-13T11:01:01.570627Z"
    },
    "collapsed": true
   },
   "outputs": [],
   "source": [
    "# VARIABLES\n",
    "\n",
    "location = 'All Region'   # 'plantations', 'ifl_2013', or 'primary_forests'... here 'gadm28'=default\n",
    "threshold = 0             # 0,10,15,20,25,30,50,75,100 \n",
    "adm0 = 'GBR'\n",
    "adm1 = 1            # To rank admin 1 areas, set to None\n",
    "                      # To rank admin 2 areas, specify an admin 1 level"
   ]
  },
  {
   "cell_type": "code",
   "execution_count": 329,
   "metadata": {
    "collapsed": true
   },
   "outputs": [],
   "source": [
    "# get admin 1 or 2 level human-readable name info as needed:\n",
    "adm1_to_name = None\n",
    "adm2_to_name = None\n",
    "\n",
    "if adm1:\n",
    "    \n",
    "    tmp = get_admin2_json(iso=adm0, adm1=adm1)\n",
    "    adm2_to_name ={}\n",
    "    for row in tmp:\n",
    "        adm2_to_name[row.get('adm2')] = row.get('name')\n",
    "\n",
    "tmp = get_admin1_json(iso=adm0)\n",
    "adm1_to_name={}\n",
    "for row in tmp:\n",
    "    adm1_to_name[row.get('adm1')] = row.get('name') "
   ]
  },
  {
   "cell_type": "code",
   "execution_count": 330,
   "metadata": {
    "ExecuteTime": {
     "end_time": "2017-12-13T11:01:01.609558Z",
     "start_time": "2017-12-13T11:01:01.584035Z"
    },
    "collapsed": true
   },
   "outputs": [],
   "source": [
    "# Returns json object containing admin-codes, total area and extent (both in ha)\n",
    "# If adm1 is not specified, it returns the total values for each adm1 region\n",
    "# Else, returns the adm2 values within that adm1 region\n",
    "# You may also specify a polyname (intersecting area) e.g. 'extent and % of plantations only'\n",
    "# By default polyname is 'gadm28' (all forest extent)\n",
    "\n",
    "def multiregion_extent_queries(adm0, adm1=None, p_name='gadm28', threshold=30):\n",
    "    if adm0 and not adm1:\n",
    "        print('Request for adm1 areas')\n",
    "        sql = (\"SELECT adm1 as region, sum(area_extent) as extent, sum(area_gadm28) as total \"\n",
    "               f\"FROM {ds} \"\n",
    "               f\"WHERE iso = '{adm0}' \"\n",
    "               f\"AND thresh = {threshold} \"\n",
    "               f\"AND polyname = '{p_name}' \"\n",
    "               f\"GROUP BY adm1 \"\n",
    "               f\"ORDER BY adm1\")\n",
    "    elif adm0 and adm1:\n",
    "        print('Request for adm2 areas')\n",
    "        sql = (\"SELECT adm2 as region, area_extent as extent, area_gadm28 as total \"\n",
    "                f\"FROM {ds} \"\n",
    "                f\"WHERE iso = '{adm0}' \"\n",
    "                f\"AND thresh = {threshold} \"\n",
    "                f\"AND polyname = '{p_name}' \"\n",
    "                f\"AND adm1 = '{adm1}' \")\n",
    "    return sql"
   ]
  },
  {
   "cell_type": "code",
   "execution_count": 331,
   "metadata": {
    "ExecuteTime": {
     "end_time": "2017-12-13T11:01:01.650871Z",
     "start_time": "2017-12-13T11:01:01.613933Z"
    },
    "collapsed": true
   },
   "outputs": [],
   "source": [
    "# Takes the data from the above api call and generates a list containing the relevant data: \n",
    "# Admin-Code, Forest Extent Area, Percentage of Admin region\n",
    "# NOTE that 'area_percent' is the forest extent area relative to teh area of its admin-region.\n",
    "\n",
    "def data_output(data, adm1=None):\n",
    "    \n",
    "    output = []\n",
    "    for d in range(0, len(data)):\n",
    "        tmp_ = {\n",
    "\n",
    "            'region': data[d]['region'],\n",
    "            'area_percent': (100*data[d]['extent']/data[d]['total']),\n",
    "            'area_ha': data[d]['extent']\n",
    "\n",
    "        }\n",
    "        output.append(tmp_)\n",
    "\n",
    "    return output"
   ]
  },
  {
   "cell_type": "code",
   "execution_count": 332,
   "metadata": {
    "ExecuteTime": {
     "end_time": "2017-12-13T11:01:02.762082Z",
     "start_time": "2017-12-13T11:01:01.654505Z"
    }
   },
   "outputs": [
    {
     "name": "stdout",
     "output_type": "stream",
     "text": [
      "Request for adm2 areas\n",
      "https://production-api.globalforestwatch.org/v1/query/499682b1-3174-493f-ba1a-368b4636708e?sql=SELECT+adm2+as+region%2C+area_extent+as+extent%2C+area_gadm28+as+total+FROM+499682b1-3174-493f-ba1a-368b4636708e+WHERE+iso+%3D+%27GBR%27+AND+thresh+%3D+0+AND+polyname+%3D+%27gadm28%27+AND+adm1+%3D+%271%27+\n",
      "Status: 200\n"
     ]
    },
    {
     "data": {
      "text/plain": [
       "[{'_id': 'AWBQUkRMJ0wPeEVRkCSN',\n",
       "  'extent': 70194.294502,\n",
       "  'region': 94,\n",
       "  'total': 167991.495674},\n",
       " {'_id': 'AWBQUkRMJ0wPeEVRkCSQ',\n",
       "  'extent': 5921.32468756,\n",
       "  'region': 85,\n",
       "  'total': 56777.939606199994},\n",
       " {'_id': 'AWBQUkRMJ0wPeEVRkCSV',\n",
       "  'extent': 48933.3635532,\n",
       "  'region': 90,\n",
       "  'total': 260687.085466}]"
      ]
     },
     "execution_count": 332,
     "metadata": {},
     "output_type": "execute_result"
    }
   ],
   "source": [
    "# Example sql and returned data\n",
    "\n",
    "\n",
    "url = f\"https://production-api.globalforestwatch.org/v1/query/{ds}\"\n",
    "sql = multiregion_extent_queries(adm0, adm1, polynames[location], threshold)\n",
    "\n",
    "\n",
    "properties = {\"sql\": sql}\n",
    "r = requests.get(url, params = properties)\n",
    "print(r.url)\n",
    "print(f'Status: {r.status_code}')\n",
    "\n",
    "data = r.json()['data']\n",
    "\n",
    "data[0:3]"
   ]
  },
  {
   "cell_type": "code",
   "execution_count": 333,
   "metadata": {
    "ExecuteTime": {
     "end_time": "2017-12-13T11:01:02.779250Z",
     "start_time": "2017-12-13T11:01:02.767940Z"
    }
   },
   "outputs": [
    {
     "data": {
      "text/plain": [
       "[{'area_ha': 70194.294502, 'area_percent': 41.784433325254305, 'region': 94},\n",
       " {'area_ha': 5921.32468756, 'area_percent': 10.428917866039308, 'region': 85},\n",
       " {'area_ha': 48933.3635532, 'area_percent': 18.770919727660278, 'region': 90}]"
      ]
     },
     "execution_count": 333,
     "metadata": {},
     "output_type": "execute_result"
    }
   ],
   "source": [
    "# After generating list return wanted metrics\n",
    "# (NOTE! This is not sorted.)\n",
    "\n",
    "extent_json = data_output(data, adm1)\n",
    "extent_json[0:3]\n"
   ]
  },
  {
   "cell_type": "code",
   "execution_count": 334,
   "metadata": {
    "ExecuteTime": {
     "end_time": "2017-12-13T11:01:02.794089Z",
     "start_time": "2017-12-13T11:01:02.783164Z"
    }
   },
   "outputs": [
    {
     "data": {
      "text/plain": [
       "[{'area_ha': 156889.08125999998,\n",
       "  'area_percent': 19.683208734271197,\n",
       "  'region': 69},\n",
       " {'area_ha': 125626.054, 'area_percent': 19.009059899765408, 'region': 22},\n",
       " {'area_ha': 110681.998869, 'area_percent': 16.1445199625583, 'region': 18}]"
      ]
     },
     "execution_count": 334,
     "metadata": {},
     "output_type": "execute_result"
    }
   ],
   "source": [
    "#Sort regions by area of loss (DESC)\n",
    "\n",
    "newlist = sorted(extent_json, key=lambda k: k['area_ha'], reverse=True) \n",
    "newlist[0:3]\n"
   ]
  },
  {
   "cell_type": "code",
   "execution_count": 353,
   "metadata": {},
   "outputs": [
    {
     "data": {
      "image/png": "[encoded data removed]",
      "text/plain": [
       "<matplotlib.figure.Figure at 0x11c11d048>"
      ]
     },
     "metadata": {},
     "output_type": "display_data"
    }
   ],
   "source": [
    "# Example donut chart \n",
    "# NOTE - THE COLOURS ARE NOT NECESSARILY THOSE NEEDED FOR PRODUCTION\n",
    "  \n",
    "limit = 0\n",
    "sizes = []\n",
    "labels = [] \n",
    "\n",
    "for r in range(0,10):\n",
    "    \n",
    "    try:\n",
    "        if adm1:\n",
    "            labels.append(adm2_to_name[newlist[r].get('region')])\n",
    "        elif adm0:\n",
    "            labels.append(adm1_to_name[newlist[r].get('region')])\n",
    "        sizes.append(newlist[r].get('area_ha'))\n",
    "        \n",
    "    except:\n",
    "        break\n",
    "    limit += 1\n",
    "      \n",
    "other_regions=0\n",
    "\n",
    "for rows in range(limit+1,len(newlist)):\n",
    "    other_regions += newlist[rows].get('area_ha')\n",
    "\n",
    "if other_regions != 0:\n",
    "    labels.append('Other regions')\n",
    "    sizes.append(other_regions)\n",
    "            \n",
    "if adm1:\n",
    "    title = adm1_to_name[adm1]\n",
    "elif adm0:\n",
    "    title = iso_to_countries[adm0]\n",
    "\n",
    "fig1, ax1 = plt.subplots()\n",
    "ax1.pie(sizes, labels=labels, autopct='%1.1f%%',\n",
    "        shadow=False, startangle=90, colors=['#0da330', '#69ef88','green','grey'])\n",
    "ax1.axis('equal')\n",
    "centre_circle = plt.Circle((0,0),0.75,color='black', fc='white',linewidth=0.5)\n",
    "fig1 = plt.gcf()\n",
    "fig1.gca().add_artist(centre_circle)\n",
    "plt.title(f'Forest cover in {title}')\n",
    "plt.show()"
   ]
  },
  {
   "cell_type": "markdown",
   "metadata": {},
   "source": [
    "### Dynamic Sentence for \"Where are Forests Located?\" Widget\n",
    "\n",
    "1. Returns the no of regions responsible for >50% of the regions tree cover extent (adm1)\n",
    "     - or, the extent (%) that the top 10% of regions are responsible for (adm2)\n",
    "2. Max and Min extent (%) in that region\n",
    "3. Average extent (%) that each region contributes to the total"
   ]
  },
  {
   "cell_type": "code",
   "execution_count": 286,
   "metadata": {
    "ExecuteTime": {
     "end_time": "2017-12-13T11:01:02.808187Z",
     "start_time": "2017-12-13T11:01:02.798274Z"
    },
    "collapsed": true
   },
   "outputs": [],
   "source": [
    "#Calculate total three cover loss at this threshold\n",
    "total = 0\n",
    "\n",
    "for i in range(0,len(extent_json)):\n",
    "    total += newlist[i]['area_ha']"
   ]
  },
  {
   "cell_type": "code",
   "execution_count": 287,
   "metadata": {
    "ExecuteTime": {
     "end_time": "2017-12-13T11:01:02.859965Z",
     "start_time": "2017-12-13T11:01:02.816144Z"
    }
   },
   "outputs": [
    {
     "data": {
      "text/plain": [
       "[16.90486130015033, 16.786440207343237, 14.768377584616736]"
      ]
     },
     "execution_count": 287,
     "metadata": {},
     "output_type": "execute_result"
    }
   ],
   "source": [
    "# Calculate % extent for the sub-region (relative to total extent) Also filters out incorrect/duplicated data\n",
    "\n",
    "correct_list = []\n",
    "for i in range(0,len(extent_json)):\n",
    "    if(i != 0 and newlist[i]['region'] != newlist[i-1]['region']):\n",
    "        correct_list.append(100*newlist[i]['area_ha']/total)\n",
    "    elif i == 0:\n",
    "        correct_list.append(100*newlist[i]['area_ha']/total)\n",
    "correct_list[0:3]"
   ]
  },
  {
   "cell_type": "code",
   "execution_count": 288,
   "metadata": {
    "ExecuteTime": {
     "end_time": "2017-12-13T11:01:02.874204Z",
     "start_time": "2017-12-13T11:01:02.864330Z"
    },
    "collapsed": true
   },
   "outputs": [],
   "source": [
    "#Calculate the mean extent\n",
    "\n",
    "mean=0\n",
    "for i in range(0, len(correct_list)):\n",
    "    \n",
    "    mean += correct_list[i]\n",
    "    \n",
    "mean = mean/len(correct_list)"
   ]
  },
  {
   "cell_type": "code",
   "execution_count": 289,
   "metadata": {
    "collapsed": true
   },
   "outputs": [],
   "source": [
    "# Percentile calcs: work out how many regions are responsible for >50% loss\n",
    "# x is no. of adm regions.\n",
    "tenth_percentile = int(len(correct_list)/10)\n",
    "if adm1:\n",
    "    top_ten_index = tenth_percentile\n",
    "    total = np.sum(correct_list[0: top_ten_index+1])\n",
    "     \n",
    "accumulated_percent = 0\n",
    "for n, item in enumerate(correct_list):\n",
    "    accumulated_percent += item\n",
    "    if accumulated_percent >= 50:\n",
    "        lower_fity_percentile_regions = n +1\n",
    "        break"
   ]
  },
  {
   "cell_type": "code",
   "execution_count": 290,
   "metadata": {
    "ExecuteTime": {
     "end_time": "2017-12-13T11:01:02.944506Z",
     "start_time": "2017-12-13T11:01:02.933718Z"
    }
   },
   "outputs": [
    {
     "data": {
      "text/plain": [
       "{'avg': 12.499999999999998, 'max': 16.90486130015033, 'min': 6.121625789248906}"
      ]
     },
     "execution_count": 290,
     "metadata": {},
     "output_type": "execute_result"
    }
   ],
   "source": [
    "#Extent Stats\n",
    "extent_stats = { 'max': correct_list[0], 'min': correct_list[len(correct_list)-1], 'avg': mean}\n",
    "extent_stats"
   ]
  },
  {
   "cell_type": "code",
   "execution_count": 293,
   "metadata": {
    "ExecuteTime": {
     "end_time": "2017-12-13T12:43:00.186397Z",
     "start_time": "2017-12-13T12:43:00.166225Z"
    }
   },
   "outputs": [
    {
     "name": "stdout",
     "output_type": "stream",
     "text": [
      "Huelva has the largest relative tree cover in Andalucía, at 17% compared to an average of 12.5%. "
     ]
    }
   ],
   "source": [
    "#Dynamic sentence. For adm2.\n",
    "\n",
    "if adm1:\n",
    "    if len(correct_list) > 10:\n",
    "        print(f\"The top {tenth_percentile} sub-regions are responsible for \", end=\"\")\n",
    "        print(f\"{total:,.0f}% of {adm1_to_name[adm1]}'s \", end=\"\")\n",
    "\n",
    "        if location == 'All Region':\n",
    "            print(f\"regional treecover. \", end=\"\")\n",
    "        elif (location == 'Mining' or 'Mining in Intact Forest Landscapes' or 'Mining in Plantation Areas'):\n",
    "             print(f\"treecover in areas with {location.lower()}. \", end=\"\")\n",
    "        else:\n",
    "            print(f\"treecover found in {location.lower()}. \", end=\"\")\n",
    "   \n",
    "    print(f\"{adm2_to_name[newlist[0].get('region')]} has the largest relative tree cover \", end=\"\")\n",
    "    print(f\"in {adm1_to_name[adm1]}, at {extent_stats['max']:,.0f}% compared to an average \", end=\"\")\n",
    "    print(f\"of {extent_stats['avg']:,.1f}%. \", end=\"\")\n",
    "    \n",
    "    \n",
    "else:\n",
    "    \n",
    "#Dynamic sentence. For adm1.\n",
    "    if len(correct_list) > 10:\n",
    "        print(f\"In {iso_to_countries[adm0]}, {lower_fity_percentile_regions} \", end=\"\")\n",
    "        print(f\"regions represent more than half ({accumulated_percent:,.0f}%) \",end=\"\")\n",
    "\n",
    "        print(f\"of all treecover extent \", end=\"\")\n",
    "        if location == 'All Region':\n",
    "            print(f\"country-wide. \", end=\"\")\n",
    "        elif (location == 'Mining' or 'Mining in Intact Forest Landscapes' or 'Mining in Plantation Areas'):\n",
    "            print(f\"in areas with {location.lower()}. \", end=\"\")\n",
    "        else:\n",
    "            print(f\"found in {location.lower()}. \", end=\"\")\n",
    "            \n",
    "    print(f\"{adm1_to_name[newlist[0].get('region')]} has the largest relative tree cover \", end=\"\")\n",
    "    print(f\"in {iso_to_countries[adm0]}, at {extent_stats['max']:,.0f}% compared to an average \", end=\"\")\n",
    "    print(f\"of {extent_stats['avg']:,.1f}%. \", end=\"\")"
   ]
  },
  {
   "cell_type": "markdown",
   "metadata": {},
   "source": [
    "# WHERE IS THE MOST LOSS OCCURING? Widget\n",
    "\n",
    "This widget is a mix of a donut chart and a ranked list. It shows tree cover loss by admin region. On hover the pie chart segments display the loss, in ha, for that region.\n",
    "\n",
    "The time period over which the loss is shown is controlled by the user in the settings. By default it will be set to cover the whole data period (e.g. 2001 - 2016).\n",
    "\n",
    "The donut chart should display data for the top few admin regions, and group the rest together as 'Other Districts'.\n",
    "\n",
    "Data:\n",
    "\n",
    "1. admn-1 and -2 codes\n",
    "2. forest loss\n",
    "3. extent\n",
    "\n",
    "User Variables:\n",
    "\n",
    "1. year range\n",
    "2. unit (ha/% of regions extent)\n",
    "3. locations (all)\n",
    "4. canopy threshold\n"
   ]
  },
  {
   "cell_type": "code",
   "execution_count": 355,
   "metadata": {
    "ExecuteTime": {
     "end_time": "2017-12-13T11:30:15.423075Z",
     "start_time": "2017-12-13T11:30:15.416614Z"
    },
    "collapsed": true
   },
   "outputs": [],
   "source": [
    "# VARIABLES\n",
    "location = 'All Region'\n",
    "thresh = 30\n",
    "adm0 = 'BRA'\n",
    "adm1 = None\n",
    "start = 2001     \n",
    "end = 2016"
   ]
  },
  {
   "cell_type": "code",
   "execution_count": 356,
   "metadata": {
    "ExecuteTime": {
     "end_time": "2017-12-13T11:17:02.766935Z",
     "start_time": "2017-12-13T11:17:02.685064Z"
    },
    "collapsed": true
   },
   "outputs": [],
   "source": [
    "# get admin 1 or 2 level human-readable name info as needed:\n",
    "adm1_to_name = None\n",
    "adm2_to_name = None\n",
    "\n",
    "if adm1:\n",
    "    \n",
    "    tmp = get_admin2_json(iso=adm0, adm1=adm1)\n",
    "    adm2_to_name ={}\n",
    "    for row in tmp:\n",
    "        adm2_to_name[row.get('adm2')] = row.get('name')\n",
    "\n",
    "tmp = get_admin1_json(iso=adm0)\n",
    "adm1_to_name={}\n",
    "for row in tmp:\n",
    "    adm1_to_name[row.get('adm1')] = row.get('name') "
   ]
  },
  {
   "cell_type": "code",
   "execution_count": 357,
   "metadata": {
    "ExecuteTime": {
     "end_time": "2017-12-13T11:50:40.311577Z",
     "start_time": "2017-12-13T11:50:40.278676Z"
    },
    "collapsed": true
   },
   "outputs": [],
   "source": [
    "def loss_by_multiregion(p_name, adm0, adm1=None, threshold=30):\n",
    "    if adm1:\n",
    "        print('Request for  admin-1 areas')\n",
    "        sql = (f\"SELECT adm2, year_data.year as year, \"\n",
    "               f\"SUM(year_data.area_loss) as area_loss, \"\n",
    "               f\"FROM data \"\n",
    "               f\"WHERE polyname = '{p_name}' \"\n",
    "               f\"AND iso = '{adm0}' \"\n",
    "               f\"AND adm1 = {adm1} AS region\"\n",
    "               f\"AND thresh= {threshold} \"\n",
    "               f\"GROUP BY adm2, nested(year_data.year)\"\n",
    "               f\"ORDER BY adm2\")\n",
    "        return sql\n",
    "    elif adm0:\n",
    "        print('Request for  national area')\n",
    "        sql = (f\"SELECT adm1 AS region, year_data.year as year, \"\n",
    "               f\"SUM(year_data.area_loss) as area_loss, \"\n",
    "               f\"FROM data \"\n",
    "               f\"WHERE polyname = '{p_name}' \" \n",
    "               f\"AND iso = '{adm0}' \"\n",
    "               f\"AND thresh= {threshold} \"\n",
    "               f\"GROUP BY adm1 nested(year_data.year)\"\n",
    "               f\"ORDER BY adm1\")\n",
    "        return sql\n"
   ]
  },
  {
   "cell_type": "code",
   "execution_count": 358,
   "metadata": {
    "ExecuteTime": {
     "end_time": "2017-12-13T11:58:20.890200Z",
     "start_time": "2017-12-13T11:58:20.863147Z"
    }
   },
   "outputs": [
    {
     "name": "stdout",
     "output_type": "stream",
     "text": [
      "Request for  national area\n",
      "https://production-api.globalforestwatch.org/v1/query/499682b1-3174-493f-ba1a-368b4636708e?sql=SELECT+adm1+AS+region%2C+year_data.year+as+year%2C+SUM%28year_data.area_loss%29+as+area_loss%2C+FROM+data+WHERE+polyname+%3D+%27gadm28%27+AND+iso+%3D+%27BRA%27+AND+thresh%3D+30+GROUP+BY+adm1+nested%28year_data.year%29ORDER+BY+adm1\n",
      "Status: 200\n"
     ]
    },
    {
     "data": {
      "text/plain": [
       "[{'area_loss': 67309.77182006836, 'region': 1, 'year': 2001},\n",
       " {'area_loss': 68439.01933288574, 'region': 1, 'year': 2002},\n",
       " {'area_loss': 37665.79328918457, 'region': 1, 'year': 2003}]"
      ]
     },
     "execution_count": 358,
     "metadata": {},
     "output_type": "execute_result"
    }
   ],
   "source": [
    "# Query for loss\n",
    "\n",
    "url = f\"https://production-api.globalforestwatch.org/v1/query/{ds}\"\n",
    "loss_sql = loss_by_multiregion(p_name=polynames[location], adm0=adm0, adm1=adm1, threshold=thresh)\n",
    "\n",
    "properties = {\"sql\": loss_sql}\n",
    "rl = requests.get(url, params = properties)\n",
    "print(rl.url)\n",
    "print(f'Status: {rl.status_code}')\n",
    "\n",
    "loss_data = rl.json()['data']\n",
    "\n",
    "#Example data structure\n",
    "loss_data[0:3]"
   ]
  },
  {
   "cell_type": "code",
   "execution_count": 359,
   "metadata": {
    "ExecuteTime": {
     "end_time": "2017-12-13T11:58:25.234618Z",
     "start_time": "2017-12-13T11:58:25.206790Z"
    }
   },
   "outputs": [
    {
     "name": "stdout",
     "output_type": "stream",
     "text": [
      "Request for adm1 areas\n",
      "https://production-api.globalforestwatch.org/v1/query/499682b1-3174-493f-ba1a-368b4636708e?sql=SELECT+adm1+as+region%2C+sum%28area_extent%29+as+extent%2C+sum%28area_gadm28%29+as+total+FROM+499682b1-3174-493f-ba1a-368b4636708e+WHERE+iso+%3D+%27BRA%27+AND+thresh+%3D+30+AND+polyname+%3D+%27gadm28%27+GROUP+BY+adm1+ORDER+BY+adm1\n",
      "Status: 200\n"
     ]
    },
    {
     "data": {
      "text/plain": [
       "[{'extent': 14379381.2578125, 'region': 1, 'total': 15273286.984375},\n",
       " {'extent': 582992.8784446716, 'region': 2, 'total': 2775822.3068847656},\n",
       " {'extent': 12186407.07421875, 'region': 3, 'total': 14221825.859375}]"
      ]
     },
     "execution_count": 359,
     "metadata": {},
     "output_type": "execute_result"
    }
   ],
   "source": [
    "#Query for extent (to calculate percentages)\n",
    "\n",
    "url = f\"https://production-api.globalforestwatch.org/v1/query/{ds}\"\n",
    "extent_sql = multiregion_extent_queries(adm0=adm0, adm1=adm1, p_name=polynames[location], threshold=thresh)\n",
    "\n",
    "properties = {\"sql\": extent_sql}\n",
    "re = requests.get(url, params = properties)\n",
    "print(re.url)\n",
    "print(f'Status: {re.status_code}')\n",
    "\n",
    "extent_data = re.json()['data']\n",
    "\n",
    "#Example data structure\n",
    "extent_data[0:3]"
   ]
  },
  {
   "cell_type": "code",
   "execution_count": 360,
   "metadata": {
    "ExecuteTime": {
     "end_time": "2017-12-13T12:44:12.967931Z",
     "start_time": "2017-12-13T12:44:12.920154Z"
    }
   },
   "outputs": [
    {
     "data": {
      "text/plain": [
       "[{'area_loss_%': 6.7488465802538435,\n",
       "  'area_loss_ha': 970442.380279541,\n",
       "  'region': 1},\n",
       " {'area_loss_%': 11.667659283548259,\n",
       "  'area_loss_ha': 68021.62270427495,\n",
       "  'region': 2},\n",
       " {'area_loss_%': 2.1042150214087303,\n",
       "  'area_loss_ha': 256428.20822572708,\n",
       "  'region': 3}]"
      ]
     },
     "execution_count": 360,
     "metadata": {},
     "output_type": "execute_result"
    }
   ],
   "source": [
    "# for a specified start and an end year, end up with a json of admin_ID, and loss\n",
    "\n",
    "# Find out the unique list of regions in the returned array\n",
    "unique_regions = []\n",
    "for row in loss_data:\n",
    "    #print(row)\n",
    "    tmp_region = row.get('region', None)\n",
    "    if tmp_region not in unique_regions:\n",
    "        unique_regions.append(tmp_region)\n",
    "        \n",
    "# Loop over that list of regions\n",
    "loss_json = []\n",
    "for region in unique_regions:\n",
    "    tmp_loss = 0\n",
    "    # gather all yearly data from the loss json object\n",
    "    for row in loss_data:\n",
    "        tmp_region = row.get('region', None)\n",
    "        if tmp_region == region:\n",
    "            if row.get('year', None) >= start and row.get('year', None) <= end:\n",
    "                tmp_loss += row.get('area_loss', 0)\n",
    "    # gather extent data from the extent json object\n",
    "    tmp_extent = 0\n",
    "    for row in extent_data:\n",
    "        if row.get('region') == region:          \n",
    "            tmp_extent = row.get('extent', None)\n",
    "            break\n",
    "    loss_in_percent = tmp_loss/tmp_extent * 100\n",
    "    loss_json.append({'region':region,'area_loss_ha': tmp_loss, 'area_loss_%':loss_in_percent})\n",
    "    #print(f\"{areaId_to_name[region]} loss between {start} and {end} is {tmp_loss:,.0f}ha or {loss_in_percent:3.2f}%\")\n",
    "\n",
    "loss_json[0:3]"
   ]
  },
  {
   "cell_type": "code",
   "execution_count": 363,
   "metadata": {
    "ExecuteTime": {
     "end_time": "2017-12-13T12:09:09.369196Z",
     "start_time": "2017-12-13T12:09:09.360977Z"
    }
   },
   "outputs": [
    {
     "data": {
      "text/plain": [
       "{'area_loss_%': 10.302299524871357,\n",
       " 'area_loss_ha': 11190882.038300753,\n",
       " 'region': 14}"
      ]
     },
     "execution_count": 363,
     "metadata": {},
     "output_type": "execute_result"
    }
   ],
   "source": [
    "#Sort regions by area of loss (DESC)\n",
    "\n",
    "newlist = sorted(loss_json, key=lambda k: k['area_loss_ha'], reverse=True) \n",
    "newlist[0]"
   ]
  },
  {
   "cell_type": "code",
   "execution_count": 365,
   "metadata": {},
   "outputs": [
    {
     "data": {
      "image/png": "[encoded data removed]",
      "text/plain": [
       "<matplotlib.figure.Figure at 0x11b9282e8>"
      ]
     },
     "metadata": {},
     "output_type": "display_data"
    }
   ],
   "source": [
    "# Example donut chart \n",
    "# NOTE - THE COLOURS ARE NOT NECESSARILY THOSE NEEDED FOR PRODUCTION\n",
    "  \n",
    "limit = 0\n",
    "sizes = []\n",
    "labels = [] \n",
    "\n",
    "for r in range(0,10):\n",
    "    \n",
    "    try:\n",
    "        if adm1:\n",
    "            labels.append(adm2_to_name[newlist[r].get('region')])\n",
    "        elif adm0:\n",
    "            labels.append(adm1_to_name[newlist[r].get('region')])\n",
    "        sizes.append(newlist[r].get('area_loss_ha'))\n",
    "        \n",
    "    except:\n",
    "        break\n",
    "    limit += 1\n",
    "      \n",
    "other_regions=0\n",
    "\n",
    "for rows in range(limit+1,len(newlist)):\n",
    "    other_regions += newlist[rows].get('area_loss_ha')\n",
    "\n",
    "if other_regions != 0:\n",
    "    labels.append('Other regions')\n",
    "    sizes.append(other_regions)\n",
    "            \n",
    "if adm1:\n",
    "    title = adm1_to_name[adm1]\n",
    "elif adm0:\n",
    "    title = iso_to_countries[adm0]\n",
    "\n",
    "fig1, ax1 = plt.subplots()\n",
    "ax1.pie(sizes, labels=labels, autopct='%1.1f%%',\n",
    "        shadow=False, startangle=90, colors=['#0da330', '#69ef88','green','grey'])\n",
    "ax1.axis('equal')\n",
    "centre_circle = plt.Circle((0,0),0.75,color='black', fc='white',linewidth=0.5)\n",
    "fig1 = plt.gcf()\n",
    "fig1.gca().add_artist(centre_circle)\n",
    "plt.title(f'Forest cover in {title}')\n",
    "plt.show()"
   ]
  },
  {
   "cell_type": "markdown",
   "metadata": {
    "collapsed": true
   },
   "source": [
    "### Dynamic Sentence for Loss widget\n",
    "\n",
    "1. Returns the no of regions responsible for >50% of the regions tree cover loss (adm1)\n",
    "     - or, the loss (%) that the top 10% of regions are responsible for (adm2)\n",
    "2. Max and Min loss (%) in that region\n",
    "3. Average loss (%) that each region contributes to the total"
   ]
  },
  {
   "cell_type": "code",
   "execution_count": 57,
   "metadata": {
    "ExecuteTime": {
     "end_time": "2017-12-13T12:09:22.172005Z",
     "start_time": "2017-12-13T12:09:22.165665Z"
    },
    "collapsed": true
   },
   "outputs": [],
   "source": [
    "#Calculate total three cover loss at this threshold\n",
    "total = 0\n",
    "\n",
    "for i in range(0,len(loss_json)):\n",
    "    total += newlist[i]['area_loss_ha']"
   ]
  },
  {
   "cell_type": "code",
   "execution_count": 59,
   "metadata": {
    "ExecuteTime": {
     "end_time": "2017-12-13T12:12:11.441788Z",
     "start_time": "2017-12-13T12:12:11.426440Z"
    }
   },
   "outputs": [
    {
     "data": {
      "text/plain": [
       "[24.134271543920537, 20.456825325562612, 8.198747151674597]"
      ]
     },
     "execution_count": 59,
     "metadata": {},
     "output_type": "execute_result"
    }
   ],
   "source": [
    "# Calculate % loss for the region (relative to total loss). Also filters out incorrect/duplicated data\n",
    "\n",
    "correct_list = []\n",
    "for i in range(0,len(loss_json)):\n",
    "    if(i != 0 and newlist[i]['region'] != newlist[i-1]['region']):\n",
    "        correct_list.append(100*newlist[i]['area_loss_ha']/total)\n",
    "    elif i == 0:\n",
    "        correct_list.append(100*newlist[i]['area_loss_ha']/total)\n",
    "correct_list[0:3]"
   ]
  },
  {
   "cell_type": "code",
   "execution_count": 60,
   "metadata": {
    "ExecuteTime": {
     "end_time": "2017-12-13T12:12:16.996760Z",
     "start_time": "2017-12-13T12:12:16.989773Z"
    },
    "collapsed": true
   },
   "outputs": [],
   "source": [
    "#Calculate the mean loss\n",
    "\n",
    "mean=0\n",
    "for i in range(0, len(correct_list)):\n",
    "    \n",
    "    mean += correct_list[i]\n",
    "    \n",
    "mean = mean/len(correct_list)"
   ]
  },
  {
   "cell_type": "code",
   "execution_count": 61,
   "metadata": {
    "ExecuteTime": {
     "end_time": "2017-12-13T12:17:31.259631Z",
     "start_time": "2017-12-13T12:17:31.252294Z"
    }
   },
   "outputs": [
    {
     "data": {
      "text/plain": [
       "[24.134271543920537,\n",
       " 20.456825325562612,\n",
       " 8.198747151674597,\n",
       " 7.811200837670242,\n",
       " 6.138152278215298]"
      ]
     },
     "execution_count": 61,
     "metadata": {},
     "output_type": "execute_result"
    }
   ],
   "source": [
    "correct_list[0:5]"
   ]
  },
  {
   "cell_type": "code",
   "execution_count": 62,
   "metadata": {
    "ExecuteTime": {
     "end_time": "2017-12-13T12:42:58.163903Z",
     "start_time": "2017-12-13T12:42:58.150528Z"
    },
    "collapsed": true
   },
   "outputs": [],
   "source": [
    "# Percentile calcs: work out how many regions are responsible for >50% loss\n",
    "# x is no. of adm regions.\n",
    "\n",
    "if adm1:\n",
    "    top_ten_index = int(len(correct_list)/10)\n",
    "    total = np.sum(correct_list[0: top_ten_index+1])\n",
    "     \n",
    "accumulated_percent = 0\n",
    "for n, item in enumerate(correct_list):\n",
    "    accumulated_percent += item\n",
    "    if accumulated_percent >= 50:\n",
    "        lower_fity_percentile_regions = n +1\n",
    "        break"
   ]
  },
  {
   "cell_type": "code",
   "execution_count": 63,
   "metadata": {
    "ExecuteTime": {
     "end_time": "2017-12-13T12:42:59.776447Z",
     "start_time": "2017-12-13T12:42:59.765878Z"
    }
   },
   "outputs": [
    {
     "data": {
      "text/plain": [
       "{'avg': 3.703703703703704,\n",
       " 'max': 24.134271543920537,\n",
       " 'min': 0.00497740568918091}"
      ]
     },
     "execution_count": 63,
     "metadata": {},
     "output_type": "execute_result"
    }
   ],
   "source": [
    "#Loss Stats\n",
    "loss_stats = { 'max': correct_list[0], 'min': correct_list[len(correct_list)-1], 'avg': mean}\n",
    "loss_stats"
   ]
  },
  {
   "cell_type": "code",
   "execution_count": 367,
   "metadata": {
    "ExecuteTime": {
     "end_time": "2017-12-13T12:43:00.186397Z",
     "start_time": "2017-12-13T12:43:00.166225Z"
    }
   },
   "outputs": [
    {
     "name": "stdout",
     "output_type": "stream",
     "text": [
      "Pará has the largest relative treecover loss in Brazil, at 24% compared to an average of 3.7%. "
     ]
    }
   ],
   "source": [
    "#Dynamic sentence. For adm2.\n",
    "\n",
    "if adm1:\n",
    "    if len(correct_list) > 10:\n",
    "        print(f\"The top ten percent of sub-regions were responsible for \", end=\"\")\n",
    "        print(f\"{total:,.0f}% of {areaId_to_name[adm1]}'s total treecover loss \", end=\"\")\n",
    "\n",
    "        if location == 'All Region':\n",
    "            print(f\"across the region. \", end=\"\")\n",
    "        elif (location == 'Mining' or 'Mining in Intact Forest Landscapes' or 'Mining in Plantation Areas'):\n",
    "             print(f\"in areas with {location.lower()}. \", end=\"\")\n",
    "        else:\n",
    "            print(f\"found in {location.lower()}. \", end=\"\")\n",
    "   \n",
    "    print(f\"{adm2_to_name[newlist[0].get('region')]} experienced the largest relative treecover loss \", end=\"\")\n",
    "    print(f\"in {adm1_to_name[adm1]}, at {loss_stats['max']:,.0f}% compared to an average \", end=\"\")\n",
    "    print(f\"of {loss_stats['avg']:,.1f}%. \", end=\"\")\n",
    "    \n",
    "else:\n",
    "    \n",
    "#Dynamic sentence. For adm1.\n",
    "    if len(correct_list) > 10:\n",
    "        print(f\"In {iso_to_countries[adm0]}, {lower_fity_percentile_regions} \", end=\"\")\n",
    "        print(f\"regions were responsible for more than half ({accumulated_percent:,.0f}%) \",end=\"\")\n",
    "\n",
    "        print(f\"of all treecover loss \", end=\"\")\n",
    "        if location == 'All Region':\n",
    "            print(f\"country-wide. \", end=\"\")\n",
    "        elif (location == 'Mining' or 'Mining in Intact Forest Landscapes' or 'Mining in Plantation Areas'):\n",
    "            print(f\"in areas with {location.lower()}. \", end=\"\")\n",
    "        else:\n",
    "            print(f\"found in {location.lower()}. \", end=\"\")\n",
    "            \n",
    "    print(f\"{adm1_to_name[newlist[0].get('region')]} has the largest relative treecover loss \", end=\"\")\n",
    "    print(f\"in {iso_to_countries[adm0]}, at {loss_stats['max']:,.0f}% compared to an average \", end=\"\")\n",
    "    print(f\"of {loss_stats['avg']:,.1f}%. \", end=\"\")"
   ]
  },
  {
   "cell_type": "code",
   "execution_count": null,
   "metadata": {
    "collapsed": true
   },
   "outputs": [],
   "source": []
  },
  {
   "cell_type": "markdown",
   "metadata": {},
   "source": [
    "# \"Where is the Most Gain Happening?\" Widget\n",
    "\n",
    "This widget is a mix of a donut chart and a ranked list, similar to the previous extent ranking widget. It shows tree cover gain by admin region. On hover the pie chart segments display the gain, in ha, for that region.\n",
    "\n",
    "The donut chart should display data for the top few admin regions, and group the rest together as 'Other Districts'.\n",
    "\n",
    "Displayed data, ordered by DESC area(ha). \n",
    "\n",
    "1. Admin-2 or -1 name\n",
    "2. % of total extent\n",
    "3. Area of extent (ha)\n",
    "\n",
    "User Variables:\n",
    "\n",
    "1. Hanson extent ('Gadm28'), IFL2013, Plantations or Intact forest\n",
    "2. Admin-0 and -1 region"
   ]
  },
  {
   "cell_type": "code",
   "execution_count": 11,
   "metadata": {
    "ExecuteTime": {
     "end_time": "2017-12-13T11:01:01.566632Z",
     "start_time": "2017-12-13T11:01:01.560594Z"
    },
    "collapsed": true
   },
   "outputs": [],
   "source": [
    "#DATASET (CONTAINS EVERYTHING NOW)\n",
    "\n",
    "ds = '499682b1-3174-493f-ba1a-368b4636708e'  # ADMIN 2 level data"
   ]
  },
  {
   "cell_type": "code",
   "execution_count": 12,
   "metadata": {
    "ExecuteTime": {
     "end_time": "2017-12-13T11:01:01.579087Z",
     "start_time": "2017-12-13T11:01:01.570627Z"
    },
    "collapsed": true
   },
   "outputs": [],
   "source": [
    "# VARIABLES\n",
    "\n",
    "location = 'All Region'   # 'plantations', 'ifl_2013', or 'primary_forests'... here 'gadm28'=default\n",
    "threshold = 0             # 0,10,15,20,25,30,50,75,100 \n",
    "adm0 = 'GBR'\n",
    "adm1 = 1            # To rank admin 1 areas, set to None\n",
    "                      # To rank admin 2 areas, specify an admin 1 level"
   ]
  },
  {
   "cell_type": "code",
   "execution_count": 13,
   "metadata": {
    "collapsed": true
   },
   "outputs": [],
   "source": [
    "# get admin 1 or 2 level human-readable name info as needed:\n",
    "adm1_to_name = None\n",
    "adm2_to_name = None\n",
    "\n",
    "if adm1:\n",
    "    \n",
    "    tmp = get_admin2_json(iso=adm0, adm1=adm1)\n",
    "    adm2_to_name ={}\n",
    "    for row in tmp:\n",
    "        adm2_to_name[row.get('adm2')] = row.get('name')\n",
    "\n",
    "tmp = get_admin1_json(iso=adm0)\n",
    "adm1_to_name={}\n",
    "for row in tmp:\n",
    "    adm1_to_name[row.get('adm1')] = row.get('name') "
   ]
  },
  {
   "cell_type": "code",
   "execution_count": 14,
   "metadata": {
    "ExecuteTime": {
     "end_time": "2017-12-13T11:01:01.609558Z",
     "start_time": "2017-12-13T11:01:01.584035Z"
    },
    "collapsed": true
   },
   "outputs": [],
   "source": [
    "# Returns json object containing admin-codes, total area and extent (both in ha)\n",
    "# If adm1 is not specified, it returns the total values for each adm1 region\n",
    "# Else, returns the adm2 values within that adm1 region\n",
    "# You may also specify a polyname (intersecting area) e.g. 'extent and % of plantations only'\n",
    "# By default polyname is 'gadm28' (all forest extent)\n",
    "\n",
    "def multiregion_gain_queries(adm0, adm1=None, p_name='gadm28', threshold=30):\n",
    "    if adm0 and not adm1:\n",
    "        print('Request for adm1 areas')\n",
    "        sql = (\"SELECT adm1 as region, sum(area_gain) as gain, sum(area_gadm28) as total \"\n",
    "               f\"FROM {ds} \"\n",
    "               f\"WHERE iso = '{adm0}' \"\n",
    "               f\"AND thresh = {threshold} \"\n",
    "               f\"AND polyname = '{p_name}' \"\n",
    "               f\"GROUP BY adm1 \"\n",
    "               f\"ORDER BY adm1\")\n",
    "    elif adm0 and adm1:\n",
    "        print('Request for adm2 areas')\n",
    "        sql = (\"SELECT adm2 as region, area_gain as gain, area_gadm28 as total \"\n",
    "                f\"FROM {ds} \"\n",
    "                f\"WHERE iso = '{adm0}' \"\n",
    "                f\"AND thresh = {threshold} \"\n",
    "                f\"AND polyname = '{p_name}' \"\n",
    "                f\"AND adm1 = '{adm1}' \")\n",
    "    return sql"
   ]
  },
  {
   "cell_type": "code",
   "execution_count": 19,
   "metadata": {
    "ExecuteTime": {
     "end_time": "2017-12-13T11:01:01.650871Z",
     "start_time": "2017-12-13T11:01:01.613933Z"
    },
    "collapsed": true
   },
   "outputs": [],
   "source": [
    "# Takes the data from the above api call and generates a list containing the relevant data: \n",
    "# Admin-Code, Forest Extent Area, Percentage of Admin region\n",
    "# NOTE that 'area_percent' is the forest extent area relative to teh area of its admin-region.\n",
    "\n",
    "def data_output(data, adm1=None):\n",
    "    \n",
    "    output = []\n",
    "    for d in range(0, len(data)):\n",
    "        tmp_ = {\n",
    "\n",
    "            'region': data[d]['region'],\n",
    "            'area_gain_percent': (100*data[d]['gain']/data[d]['total']),\n",
    "            'area_gain_ha': data[d]['gain']\n",
    "\n",
    "        }\n",
    "        output.append(tmp_)\n",
    "\n",
    "    return output"
   ]
  },
  {
   "cell_type": "code",
   "execution_count": 17,
   "metadata": {
    "ExecuteTime": {
     "end_time": "2017-12-13T11:01:02.762082Z",
     "start_time": "2017-12-13T11:01:01.654505Z"
    }
   },
   "outputs": [
    {
     "name": "stdout",
     "output_type": "stream",
     "text": [
      "Request for adm2 areas\n",
      "https://production-api.globalforestwatch.org/v1/query/499682b1-3174-493f-ba1a-368b4636708e?sql=SELECT+adm2+as+region%2C+area_gain+as+gain%2C+area_gadm28+as+total+FROM+499682b1-3174-493f-ba1a-368b4636708e+WHERE+iso+%3D+%27GBR%27+AND+thresh+%3D+0+AND+polyname+%3D+%27gadm28%27+AND+adm1+%3D+%271%27+\n",
      "Status: 200\n"
     ]
    },
    {
     "data": {
      "text/plain": [
       "[{'_id': 'AWBQUkRMJ0wPeEVRkCSN',\n",
       "  'gain': 1564.92619773,\n",
       "  'region': 94,\n",
       "  'total': 167991.495674},\n",
       " {'_id': 'AWBQUkRMJ0wPeEVRkCSQ',\n",
       "  'gain': 154.606269591,\n",
       "  'region': 85,\n",
       "  'total': 56777.939606199994},\n",
       " {'_id': 'AWBQUkRMJ0wPeEVRkCSV',\n",
       "  'gain': 1415.2203164999999,\n",
       "  'region': 90,\n",
       "  'total': 260687.085466}]"
      ]
     },
     "execution_count": 17,
     "metadata": {},
     "output_type": "execute_result"
    }
   ],
   "source": [
    "# Example sql and returned data\n",
    "\n",
    "\n",
    "url = f\"https://production-api.globalforestwatch.org/v1/query/{ds}\"\n",
    "sql = multiregion_gain_queries(adm0, adm1, polynames[location], threshold)\n",
    "\n",
    "\n",
    "properties = {\"sql\": sql}\n",
    "r = requests.get(url, params = properties)\n",
    "print(r.url)\n",
    "print(f'Status: {r.status_code}')\n",
    "\n",
    "data = r.json()['data']\n",
    "\n",
    "data[0:3]"
   ]
  },
  {
   "cell_type": "code",
   "execution_count": 20,
   "metadata": {
    "ExecuteTime": {
     "end_time": "2017-12-13T11:01:02.779250Z",
     "start_time": "2017-12-13T11:01:02.767940Z"
    }
   },
   "outputs": [
    {
     "data": {
      "text/plain": [
       "[{'area_gain_ha': 1564.92619773,\n",
       "  'area_gain_percent': 0.9315508451492425,\n",
       "  'region': 94},\n",
       " {'area_gain_ha': 154.606269591,\n",
       "  'area_gain_percent': 0.2722998944014471,\n",
       "  'region': 85},\n",
       " {'area_gain_ha': 1415.2203164999999,\n",
       "  'area_gain_percent': 0.542880869595122,\n",
       "  'region': 90}]"
      ]
     },
     "execution_count": 20,
     "metadata": {},
     "output_type": "execute_result"
    }
   ],
   "source": [
    "# After generating list return wanted metrics\n",
    "# (NOTE! This is not sorted.)\n",
    "\n",
    "gain_json = data_output(data, adm1)\n",
    "gain_json[0:3]\n"
   ]
  },
  {
   "cell_type": "code",
   "execution_count": 22,
   "metadata": {
    "ExecuteTime": {
     "end_time": "2017-12-13T11:01:02.794089Z",
     "start_time": "2017-12-13T11:01:02.783164Z"
    }
   },
   "outputs": [
    {
     "data": {
      "text/plain": [
       "[{'area_gain_ha': 10347.3066765,\n",
       "  'area_gain_percent': 2.045651543674968,\n",
       "  'region': 71},\n",
       " {'area_gain_ha': 5224.37817512,\n",
       "  'area_gain_percent': 0.7620487396510351,\n",
       "  'region': 18},\n",
       " {'area_gain_ha': 5154.67946192,\n",
       "  'area_gain_percent': 0.6467029508515596,\n",
       "  'region': 69}]"
      ]
     },
     "execution_count": 22,
     "metadata": {},
     "output_type": "execute_result"
    }
   ],
   "source": [
    "#Sort regions by area of loss (DESC)\n",
    "\n",
    "newlist = sorted(gain_json, key=lambda k: k['area_gain_ha'], reverse=True) \n",
    "newlist[0:3]\n"
   ]
  },
  {
   "cell_type": "code",
   "execution_count": 23,
   "metadata": {},
   "outputs": [
    {
     "data": {
      "image/png": "[encoded data removed]",
      "text/plain": [
       "<matplotlib.figure.Figure at 0x1119440f0>"
      ]
     },
     "metadata": {},
     "output_type": "display_data"
    }
   ],
   "source": [
    "# Example donut chart \n",
    "# NOTE - THE COLOURS ARE NOT NECESSARILY THOSE NEEDED FOR PRODUCTION\n",
    "  \n",
    "limit = 0\n",
    "sizes = []\n",
    "labels = [] \n",
    "\n",
    "for r in range(0,10):\n",
    "    \n",
    "    try:\n",
    "        if adm1:\n",
    "            labels.append(adm2_to_name[newlist[r].get('region')])\n",
    "        elif adm0:\n",
    "            labels.append(adm1_to_name[newlist[r].get('region')])\n",
    "        sizes.append(newlist[r].get('area_gain_ha'))\n",
    "        \n",
    "    except:\n",
    "        break\n",
    "    limit += 1\n",
    "      \n",
    "other_regions=0\n",
    "\n",
    "for rows in range(limit+1,len(newlist)):\n",
    "    other_regions += newlist[rows].get('area_gain_ha')\n",
    "\n",
    "if other_regions != 0:\n",
    "    labels.append('Other regions')\n",
    "    sizes.append(other_regions)\n",
    "            \n",
    "if adm1:\n",
    "    title = adm1_to_name[adm1]\n",
    "elif adm0:\n",
    "    title = iso_to_countries[adm0]\n",
    "\n",
    "fig1, ax1 = plt.subplots()\n",
    "ax1.pie(sizes, labels=labels, autopct='%1.1f%%',\n",
    "        shadow=False, startangle=90, colors=['#0da330', '#69ef88','green','grey'])\n",
    "ax1.axis('equal')\n",
    "centre_circle = plt.Circle((0,0),0.75,color='black', fc='white',linewidth=0.5)\n",
    "fig1 = plt.gcf()\n",
    "fig1.gca().add_artist(centre_circle)\n",
    "plt.title(f'Forest Gain in {title}')\n",
    "plt.show()"
   ]
  },
  {
   "cell_type": "markdown",
   "metadata": {},
   "source": [
    "### Dynamic Sentence for \"Where is forest gain Located?\" Widget\n",
    "\n",
    "1. Returns the no of regions responsible for >50% of the regions tree cover extent (adm1)\n",
    "     - or, the extent (%) that the top 10% of regions are responsible for (adm2)\n",
    "2. Max and Min extent (%) in that region\n",
    "3. Average extent (%) that each region contributes to the total"
   ]
  },
  {
   "cell_type": "code",
   "execution_count": 25,
   "metadata": {
    "ExecuteTime": {
     "end_time": "2017-12-13T11:01:02.808187Z",
     "start_time": "2017-12-13T11:01:02.798274Z"
    }
   },
   "outputs": [],
   "source": [
    "#Calculate total three cover loss at this threshold\n",
    "total = 0\n",
    "\n",
    "for i in range(0,len(gain_json)):\n",
    "    total += newlist[i]['area_gain_ha']"
   ]
  },
  {
   "cell_type": "code",
   "execution_count": 27,
   "metadata": {
    "ExecuteTime": {
     "end_time": "2017-12-13T11:01:02.859965Z",
     "start_time": "2017-12-13T11:01:02.816144Z"
    }
   },
   "outputs": [
    {
     "data": {
      "text/plain": [
       "[15.831588269839779, 7.993404160164861, 7.886763720790806]"
      ]
     },
     "execution_count": 27,
     "metadata": {},
     "output_type": "execute_result"
    }
   ],
   "source": [
    "# Calculate % extent for the sub-region (relative to total extent) Also filters out incorrect/duplicated data\n",
    "\n",
    "correct_list = []\n",
    "for i in range(0,len(gain_json)):\n",
    "    if(i != 0 and newlist[i]['region'] != newlist[i-1]['region']):\n",
    "        correct_list.append(100*newlist[i]['area_gain_ha']/total)\n",
    "    elif i == 0:\n",
    "        correct_list.append(100*newlist[i]['area_gain_ha']/total)\n",
    "correct_list[0:3]"
   ]
  },
  {
   "cell_type": "code",
   "execution_count": 28,
   "metadata": {
    "ExecuteTime": {
     "end_time": "2017-12-13T11:01:02.874204Z",
     "start_time": "2017-12-13T11:01:02.864330Z"
    },
    "collapsed": true
   },
   "outputs": [],
   "source": [
    "#Calculate the mean extent\n",
    "\n",
    "mean=0\n",
    "for i in range(0, len(correct_list)):\n",
    "    \n",
    "    mean += correct_list[i]\n",
    "    \n",
    "mean = mean/len(correct_list)"
   ]
  },
  {
   "cell_type": "code",
   "execution_count": 29,
   "metadata": {
    "collapsed": true
   },
   "outputs": [],
   "source": [
    "# Percentile calcs: work out how many regions are responsible for >50% loss\n",
    "# x is no. of adm regions.\n",
    "tenth_percentile = int(len(correct_list)/10)\n",
    "if adm1:\n",
    "    top_ten_index = tenth_percentile\n",
    "    total = np.sum(correct_list[0: top_ten_index+1])\n",
    "     \n",
    "accumulated_percent = 0\n",
    "for n, item in enumerate(correct_list):\n",
    "    accumulated_percent += item\n",
    "    if accumulated_percent >= 50:\n",
    "        lower_fity_percentile_regions = n +1\n",
    "        break"
   ]
  },
  {
   "cell_type": "code",
   "execution_count": 30,
   "metadata": {
    "ExecuteTime": {
     "end_time": "2017-12-13T11:01:02.944506Z",
     "start_time": "2017-12-13T11:01:02.933718Z"
    }
   },
   "outputs": [
    {
     "data": {
      "text/plain": [
       "{'avg': 0.892857142857143, 'max': 15.831588269839779, 'min': 0.0}"
      ]
     },
     "execution_count": 30,
     "metadata": {},
     "output_type": "execute_result"
    }
   ],
   "source": [
    "#Extent Stats\n",
    "gain_stats = { 'max': correct_list[0], 'min': correct_list[len(correct_list)-1], 'avg': mean}\n",
    "gain_stats"
   ]
  },
  {
   "cell_type": "code",
   "execution_count": 32,
   "metadata": {
    "ExecuteTime": {
     "end_time": "2017-12-13T12:43:00.186397Z",
     "start_time": "2017-12-13T12:43:00.166225Z"
    }
   },
   "outputs": [
    {
     "name": "stdout",
     "output_type": "stream",
     "text": [
      "The top 11 sub-regions were responsible for 60% of England's regional treecover gain. Northumberland experience the largest relative treecover gain in England, at 16% compared to an average of 0.9%. "
     ]
    }
   ],
   "source": [
    "#Dynamic sentence. For adm2.\n",
    "\n",
    "if adm1:\n",
    "    if len(correct_list) > 10:\n",
    "        print(f\"The top {tenth_percentile} sub-regions were responsible for \", end=\"\")\n",
    "        print(f\"{total:,.0f}% of {adm1_to_name[adm1]}'s \", end=\"\")\n",
    "\n",
    "        if location == 'All Region':\n",
    "            print(f\"regional treecover gain. \", end=\"\")\n",
    "        elif (location == 'Mining' or 'Mining in Intact Forest Landscapes' or 'Mining in Plantation Areas'):\n",
    "             print(f\"treecover gain in areas with {location.lower()}. \", end=\"\")\n",
    "        else:\n",
    "            print(f\"treecover gain found in {location.lower()}. \", end=\"\")\n",
    "   \n",
    "    print(f\"{adm2_to_name[newlist[0].get('region')]} experience the largest relative treecover gain \", end=\"\")\n",
    "    print(f\"in {adm1_to_name[adm1]}, at {gain_stats['max']:,.0f}% compared to an average \", end=\"\")\n",
    "    print(f\"of {gain_stats['avg']:,.1f}%. \", end=\"\")\n",
    "    \n",
    "    \n",
    "else:\n",
    "    \n",
    "#Dynamic sentence. For adm1.\n",
    "    if len(correct_list) > 10:\n",
    "        print(f\"In {iso_to_countries[adm0]}, {lower_fity_percentile_regions} \", end=\"\")\n",
    "        print(f\"regions represent more than half ({accumulated_percent:,.0f}%) \",end=\"\")\n",
    "        print(f\"of all treecover gain \", end=\"\")\n",
    "        if location == 'All Region':\n",
    "            print(f\"country-wide. \", end=\"\")\n",
    "        elif (location == 'Mining' or 'Mining in Intact Forest Landscapes' or 'Mining in Plantation Areas'):\n",
    "            print(f\"in areas with {location.lower()}. \", end=\"\")\n",
    "        else:\n",
    "            print(f\"found in {location.lower()}. \", end=\"\")\n",
    "            \n",
    "    print(f\"{adm1_to_name[newlist[0].get('region')]} has the largest relative treecover gain \", end=\"\")\n",
    "    print(f\"in {iso_to_countries[adm0]}, at {gain_stats['max']:,.0f}% compared to an average \", end=\"\")\n",
    "    print(f\"of {gain_stats['avg']:,.1f}%. \", end=\"\")"
   ]
  },
  {
   "cell_type": "code",
   "execution_count": null,
   "metadata": {
    "collapsed": true
   },
   "outputs": [],
   "source": []
  }
 ],
 "metadata": {
  "anaconda-cloud": {},
  "kernelspec": {
   "display_name": "Python 3",
   "language": "python",
   "name": "python3"
  },
  "language_info": {
   "codemirror_mode": {
    "name": "ipython",
    "version": 3
   },
   "file_extension": ".py",
   "mimetype": "text/x-python",
   "name": "python",
   "nbconvert_exporter": "python",
   "pygments_lexer": "ipython3",
   "version": "3.6.2"
  },
  "toc": {
   "nav_menu": {},
   "number_sections": true,
   "sideBar": true,
   "skip_h1_title": false,
   "toc_cell": false,
   "toc_position": {},
   "toc_section_display": "block",
   "toc_window_display": false
  }
 },
 "nbformat": 4,
 "nbformat_minor": 2
}
