{
 "cells": [
  {
   "cell_type": "markdown",
   "metadata": {},
   "source": [
    "## Building The Country Page Widgets\n",
    "\n",
    "Charlie has added the following datasets to the **STAGING** API for the construction of the new country pages widgets. This notebook details how to query these datasets to create a the required widgets.\n",
    "\n",
    "\n",
    "```\n",
    "[\n",
    "    {\n",
    "        \"name\": \"IFL 2000\",\n",
    "        \"gain\": \"27ed6d3c-89e8-4087-aa78-1b6619c0e8d5\",\n",
    "        \"loss\": \"cbf299f8-f365-4ba3-ad10-b8c1324bea62\",\n",
    "        \"extent\": \"1676bb7f-a858-4298-8faa-c85cb169ca20\"\n",
    "    },\n",
    "\n",
    "    {\n",
    "        \"name\": \"IFL 2013\",\n",
    "        \"gain\": \"19be9cf6-3dfc-4b77-b95e-39a6751e55bf\",\n",
    "        \"loss\": \"2a4bf55c-7e0e-45cd-ac3f-f1e890c0bd22\",\n",
    "        \"extent\": \"2cfc35b0-aa9b-4939-8265-ee643b3afeb5\"\n",
    "    },\n",
    "\n",
    "    {\n",
    "        \"name\": \"wdpa\",\n",
    "        \"gain\": \"23519a73-f4b8-4bb6-8a6a-1d84c38debca\",\n",
    "        \"loss\": \"9289fdf7-b2b0-4cbf-8951-9dd4dcd8ccd7\",\n",
    "        \"extent\": \"8d7e23ec-bc8c-4434-bc6a-6ce40459b424\"\n",
    "    },\n",
    "\n",
    "    {\n",
    "        \"name\": \"primary forests\",\n",
    "        \"gain\": \"fd3b3a12-121e-4189-96a3-d8c26b70952d\",\n",
    "        \"loss\": \"7a5b92ab-2d35-45f3-b923-20c9a46d4873\",\n",
    "        \"extent\": \"b987b360-190e-4560-a632-03946347d226\"\n",
    "    },\n",
    "\n",
    "    {\n",
    "        \"name\": \"biodiversity hot spots\",\n",
    "        \"gain\": \"bd061864-8efb-41a7-8ba0-6f4d25ed1fd8\",\n",
    "        \"loss\": \"32a963c1-26d7-4a21-b602-17144fd78c0f\",\n",
    "        \"extent\": \"6c00c104-a75b-4b0b-9c33-0d0aa29cdf93\"\n",
    "    },\n",
    "\n",
    "    {\n",
    "        \"name\": \"gadm28 only\",\n",
    "        \"gain\": \"e78a9c36-ed15-467a-babd-0a5ac21d07d7\",\n",
    "        \"loss\": \"88994c38-1ea1-4a32-82ca-073547d11176\",\n",
    "        \"extent\": \"f0e01525-9576-4613-a74b-3290c94047ca\"\n",
    "    },\n",
    "\n",
    "    {\n",
    "        \"name\": \"GFW Plantations\",\n",
    "        \"gain\": \"94a883de-4eb4-4be8-a05f-c77ea8d9c6a3\",\n",
    "        \"loss\": \"17a7970a-23ba-45ab-8004-37090b4e2502\",\n",
    "        \"extent\": \"9b617bbb-b99b-4543-832d-665adeec3341\"\n",
    "    },\n",
    "\n",
    "    {\n",
    "        \"name\": \"GFW Managed Forests\",\n",
    "        \"gain\": \"c88957d7-4635-4fb7-b729-db565122529d\",\n",
    "        \"loss\": \"c500cb21-fdf0-426b-9a89-4a581f33ed18\",\n",
    "        \"extent\": \"f9e40f0f-4f9f-4d93-957d-1fa15dd29333\"\n",
    "    }\n",
    "]\n",
    "```"
   ]
  },
  {
   "cell_type": "code",
   "execution_count": 1,
   "metadata": {},
   "outputs": [],
   "source": [
    "import requests\n",
    "import matplotlib.pyplot as plt\n",
    "%matplotlib inline"
   ]
  },
  {
   "cell_type": "code",
   "execution_count": 66,
   "metadata": {},
   "outputs": [],
   "source": [
    "# ds = \"19be9cf6-3dfc-4b77-b95e-39a6751e55bf\"\n",
    "\n",
    "# url = \"https://staging-api.globalforestwatch.org/query\"\n",
    "\n",
    "# sql = (f\"SELECT * FROM {ds} LIMIT 2 \")\n",
    "\n",
    "# properties = {\"sql\": sql}\n",
    "\n",
    "# r = requests.get(url, params = properties)\n",
    "# print(r.url)\n",
    "# r.json()"
   ]
  },
  {
   "cell_type": "markdown",
   "metadata": {},
   "source": [
    "\n",
    "\n",
    "### Tree cover widget\n",
    "\n",
    "Default view where plantations data aviable for a country:\n",
    "\n",
    "Uses:\n",
    "    * Tree cover 2013 (\"extent\": \"2cfc35b0-aa9b-4939-8265-ee643b3afeb5\")\n",
    "    * Plantations (\"extent\": \"9b617bbb-b99b-4543-832d-665adeec3341\")\n",
    "    * Area of country\n",
    "\n",
    "To calculate 3 slices in a pie chart:\n",
    "    * Tree plantations\n",
    "    * Natural forest (tree cover 2013 - tree plantations)\n",
    "    * Non-forest (total area - tree cover 2013)\n",
    "\n"
   ]
  },
  {
   "cell_type": "code",
   "execution_count": 191,
   "metadata": {},
   "outputs": [
    {
     "name": "stdout",
     "output_type": "stream",
     "text": [
      "https://staging-api.globalforestwatch.org/query?sql=SELECT+%2A+FROM+2cfc35b0-aa9b-4939-8265-ee643b3afeb5+WHERE+iso+%3D+%27BRA%27+and+adm1+%3D+4+and+adm2+%3D+141+and+thresh%3D30\n",
      "Status: 200\n"
     ]
    },
    {
     "data": {
      "text/plain": [
       "{'data': [{'_id': 'AV5hakw28ETDdwQQgJfx',\n",
       "   'adm1': 4,\n",
       "   'adm2': 141,\n",
       "   'area': 386372.8925648179,\n",
       "   'iso': 'BRA',\n",
       "   'thresh': 30}],\n",
       " 'meta': {'cloneUrl': {'body': {'dataset': {'application': ['your', 'apps'],\n",
       "     'datasetUrl': '/v1/query/2cfc35b0-aa9b-4939-8265-ee643b3afeb5'}},\n",
       "   'http_method': 'POST',\n",
       "   'url': '/v1/dataset/2cfc35b0-aa9b-4939-8265-ee643b3afeb5/clone'}}}"
      ]
     },
     "execution_count": 191,
     "metadata": {},
     "output_type": "execute_result"
    }
   ],
   "source": [
    "# Example of what is in the data table:\n",
    "\n",
    "ds = \"2cfc35b0-aa9b-4939-8265-ee643b3afeb5\"\n",
    "url = \"https://staging-api.globalforestwatch.org/query\"\n",
    "#sql = (f\"SELECT * FROM {ds} LIMIT 1\")\n",
    "sql = (f\"SELECT * FROM {ds} WHERE iso = 'BRA' and adm1 = 4 and adm2 = 141 and thresh=30\")\n",
    "\n",
    "properties = {\"sql\": sql}\n",
    "\n",
    "r = requests.get(url, params = properties)\n",
    "print(r.url)\n",
    "print(f'Status: {r.status_code}')\n",
    "r.json()"
   ]
  },
  {
   "cell_type": "code",
   "execution_count": 325,
   "metadata": {},
   "outputs": [],
   "source": [
    "# note adm0 = BRA, adm1 = 4  is Amazonas\n",
    "# adm0 = BRA, adm1 = 4, adm2 = 141 is Amaturá  (many forests)\n",
    "# adm0 = BRA, adm1 = 12, adm2 = 1434 is Mato Grosso, Cáceres\n",
    "# adm0 = BRA, adm1 = 14, adm2 = 2404 is Para, Altamira \n",
    "# adm0 = BRA, adm1 = 16, adm2 = 3135 - largest area of plantations (Turning this on seems to reveal a bug)\n",
    "\n",
    "url = \"https://staging-api.globalforestwatch.org/query\"\n",
    "adm0 = 'BRA'\n",
    "threshold = 30\n",
    "adm1 = 16\n",
    "adm2 = None"
   ]
  },
  {
   "cell_type": "code",
   "execution_count": 326,
   "metadata": {},
   "outputs": [],
   "source": [
    "def extent_queries(ds, adm0, adm1=None, adm2 = None):\n",
    "    if adm0 and not adm1 and not adm2:\n",
    "        print('adm0')\n",
    "        sql = (f\"SELECT SUM(area) as value FROM {ds} WHERE iso = '{adm0}' \"\n",
    "               f\"AND thresh = {threshold}\")\n",
    "    elif adm0 and adm1 and not adm2:\n",
    "        print('adm1')\n",
    "        sql = (f\"SELECT SUM(area) as value FROM {ds} WHERE iso = '{adm0}' \"\n",
    "               f\"AND adm1 = {adm1} AND thresh = {threshold}\")\n",
    "    elif adm0 and adm1 and adm2:\n",
    "        print('adm2')\n",
    "        sql = (f\"SELECT area as value FROM {ds} WHERE iso = '{adm0}' \"\n",
    "               f\"AND adm1 = {adm1} AND adm2 = {adm2} AND thresh = {threshold}\") \n",
    "    return sql"
   ]
  },
  {
   "cell_type": "code",
   "execution_count": 327,
   "metadata": {},
   "outputs": [
    {
     "name": "stdout",
     "output_type": "stream",
     "text": [
      "adm1\n",
      "https://staging-api.globalforestwatch.org/query?sql=SELECT+SUM%28area%29+as+value+FROM+2cfc35b0-aa9b-4939-8265-ee643b3afeb5+WHERE+iso+%3D+%27BRA%27+AND+adm1+%3D+16+AND+thresh+%3D+30\n",
      "Status: 200\n",
      "{'data': [{'value': 179098.39727783203}], 'meta': {'cloneUrl': {'http_method': 'POST', 'url': '/v1/dataset/2cfc35b0-aa9b-4939-8265-ee643b3afeb5/clone', 'body': {'dataset': {'datasetUrl': '/v1/query/2cfc35b0-aa9b-4939-8265-ee643b3afeb5', 'application': ['your', 'apps']}}}}}\n",
      "BRA 16 None tree cover extent 2013 = 179098.39727783203 ha\n"
     ]
    }
   ],
   "source": [
    "##  Tree cover extent 2013\n",
    "ds = \"2cfc35b0-aa9b-4939-8265-ee643b3afeb5\"\n",
    "sql = extent_queries(ds=ds, adm0=adm0, adm1=adm1, adm2=adm2)\n",
    "r = requests.get(url, params = {\"sql\": sql})\n",
    "\n",
    "print(r.url)\n",
    "print(f'Status: {r.status_code}')\n",
    "print(r.json())\n",
    "\n",
    "try:\n",
    "    tree_cover_extent_2013 = r.json().get('data')[0].get('value')\n",
    "except:\n",
    "    tree_cover_extent_2013 = 0.0\n",
    "print(f\"{adm0} {adm1} {adm2} tree cover extent 2013 = {tree_cover_extent_2013} ha\")"
   ]
  },
  {
   "cell_type": "code",
   "execution_count": 328,
   "metadata": {},
   "outputs": [],
   "source": [
    "# ds = \"2cfc35b0-aa9b-4939-8265-ee643b3afeb5\"\n",
    "# #ds = \"9b617bbb-b99b-4543-832d-665adeec3341\"\n",
    "# sql = (f\"SELECT * FROM {ds} WHERE iso = '{adm0}' AND adm1 = {adm1} AND adm2={adm2}\"\n",
    "#                f\"AND thresh = {threshold}\")\n",
    "# r = requests.get(url, params = {\"sql\": sql})\n",
    "# print(r.url)\n",
    "# print(f'Status: {r.status_code}')\n",
    "# print(r.json())"
   ]
  },
  {
   "cell_type": "code",
   "execution_count": 329,
   "metadata": {},
   "outputs": [],
   "source": [
    "# ds = \"9b617bbb-b99b-4543-832d-665adeec3341\"  # plantations extent\n",
    "\n",
    "# sql = (f\"SELECT * FROM {ds} WHERE iso = '{adm0}' \"\n",
    "#        f\"AND thresh = {threshold} \"\n",
    "#        \"ORDER BY area DESC LIMIT 5\") \n",
    "\n",
    "# r = requests.get(url, params = {\"sql\": sql})\n",
    "\n",
    "# print(r.url)\n",
    "# print(f'Status: {r.status_code}')\n",
    "# r.json()\n"
   ]
  },
  {
   "cell_type": "code",
   "execution_count": null,
   "metadata": {},
   "outputs": [],
   "source": []
  },
  {
   "cell_type": "code",
   "execution_count": 330,
   "metadata": {},
   "outputs": [
    {
     "name": "stdout",
     "output_type": "stream",
     "text": [
      "adm1\n",
      "https://staging-api.globalforestwatch.org/query?sql=SELECT+SUM%28area%29+as+value+FROM+9b617bbb-b99b-4543-832d-665adeec3341+WHERE+iso+%3D+%27BRA%27+AND+adm1+%3D+16+AND+thresh+%3D+30\n",
      "Status: 200\n",
      "{'data': [{'value': 744347.4127471596}], 'meta': {'cloneUrl': {'http_method': 'POST', 'url': '/v1/dataset/9b617bbb-b99b-4543-832d-665adeec3341/clone', 'body': {'dataset': {'datasetUrl': '/v1/query/9b617bbb-b99b-4543-832d-665adeec3341', 'application': ['your', 'apps']}}}}}\n",
      "BRA 16 None plantation area = 744347.4127471596 ha\n"
     ]
    }
   ],
   "source": [
    "# GFW plantations\n",
    "ds = \"9b617bbb-b99b-4543-832d-665adeec3341\"\n",
    "sql = extent_queries(ds=ds, adm0=adm0, adm1=adm1, adm2=adm2)\n",
    "r = requests.get(url, params = {\"sql\": sql})\n",
    "\n",
    "print(r.url)\n",
    "print(f'Status: {r.status_code}')\n",
    "print(r.json())\n",
    "\n",
    "try:\n",
    "    plantations = r.json().get('data')[0].get('value')\n",
    "except:\n",
    "    plantations = 0.0\n",
    "print(f\"{adm0} {adm1} {adm2} plantation area = {plantations} ha\")"
   ]
  },
  {
   "cell_type": "code",
   "execution_count": null,
   "metadata": {},
   "outputs": [],
   "source": []
  },
  {
   "cell_type": "code",
   "execution_count": null,
   "metadata": {},
   "outputs": [],
   "source": []
  },
  {
   "cell_type": "code",
   "execution_count": 331,
   "metadata": {},
   "outputs": [],
   "source": [
    "def area_queries(adm0, adm1=None, adm2 = None):\n",
    "    if adm0 and not adm1 and not adm2:\n",
    "        print('iso only')\n",
    "        sql = (\"SELECT ROUND(SUM(ST_AREA(the_geom::geography)) * 0.0001) as value \"\n",
    "                \"FROM gadm28_adm2 \"\n",
    "               f\"WHERE iso = '{adm0}'\")\n",
    "    elif adm0 and adm1 and not adm2:\n",
    "        print('admin 1 level')\n",
    "        sql = (\"SELECT ROUND(SUM(ST_AREA(the_geom::geography)) * 0.0001) as value \"\n",
    "                \"FROM gadm28_adm2 \"\n",
    "               f\"WHERE iso = '{adm0}' \"\n",
    "               f\"AND id_1 = {adm1} \")\n",
    "    elif adm0 and adm1 and adm2:\n",
    "        print('admin 2 level')\n",
    "        sql = (\"SELECT ROUND(ST_AREA(the_geom::geography) * 0.0001) as value \"\n",
    "                \"FROM gadm28_adm2 \"\n",
    "                f\"WHERE iso = '{adm0}' \"\n",
    "                f\"AND id_1 = {adm1} \"\n",
    "                f\"AND id_2 = {adm2} \")\n",
    "    return sql"
   ]
  },
  {
   "cell_type": "code",
   "execution_count": 332,
   "metadata": {},
   "outputs": [
    {
     "name": "stdout",
     "output_type": "stream",
     "text": [
      "admin 1 level\n",
      "https://wri-01.carto.com/api/v2/sql?q=SELECT+ROUND%28SUM%28ST_AREA%28the_geom%3A%3Ageography%29%29+%2A+0.0001%29+as+value+FROM+gadm28_adm2+WHERE+iso+%3D+%27BRA%27+AND+id_1+%3D+16+ \n",
      "\n",
      "{'rows': [{'value': 19915777}], 'time': 0.124, 'fields': {'value': {'type': 'number'}}, 'total_rows': 1}\n"
     ]
    }
   ],
   "source": [
    "# Total area (ha) of selected area based on gadm28 table in Carto account\n",
    "\n",
    "sql = area_queries(adm0=adm0, adm1=adm1, adm2=adm2)\n",
    "\n",
    "account = 'wri-01'\n",
    "urlCarto = \"https://{0}.carto.com/api/v2/sql\".format(account)\n",
    "\n",
    "sql = {\"q\": sql}\n",
    "r = requests.get(urlCarto, params=sql)\n",
    "print(r.url,'\\n')\n",
    "print(r.json())\n",
    "\n",
    "total_area = r.json().get('rows')[0].get('value')"
   ]
  },
  {
   "cell_type": "code",
   "execution_count": 333,
   "metadata": {},
   "outputs": [
    {
     "name": "stdout",
     "output_type": "stream",
     "text": [
      "plantations=744347, tree cover=179098, area=1.99158e+07\n"
     ]
    },
    {
     "data": {
      "text/plain": [
       "(744347.4127471596, -565249.0154693276, 19736678.602722168)"
      ]
     },
     "execution_count": 333,
     "metadata": {},
     "output_type": "execute_result"
    }
   ],
   "source": [
    "print(f\"plantations={plantations:g}, tree cover={tree_cover_extent_2013:g}, area={total_area:g}\")\n",
    "plantations, tree_cover_extent_2013 - plantations, total_area - tree_cover_extent_2013"
   ]
  },
  {
   "cell_type": "code",
   "execution_count": 334,
   "metadata": {},
   "outputs": [
    {
     "data": {
      "image/png": "[encoded data removed]",
      "text/plain": [
       "<matplotlib.figure.Figure at 0x10fd54080>"
      ]
     },
     "metadata": {},
     "output_type": "display_data"
    }
   ],
   "source": [
    "# Pie chart, where the slices will be ordered and plotted counter-clockwise:\n",
    "labels = 'Tree plantations', 'Natural Forest', 'Non-forest'\n",
    "sizes = [plantations, tree_cover_extent_2013 - plantations, total_area - tree_cover_extent_2013]\n",
    "\n",
    "fig1, ax1 = plt.subplots()\n",
    "ax1.pie(sizes, labels=labels, autopct='%1.1f%%',\n",
    "        shadow=False, startangle=90, colors=['orange','green','grey'])\n",
    "ax1.axis('equal')\n",
    "centre_circle = plt.Circle((0,0),0.75,color='black', fc='white',linewidth=0.5)\n",
    "fig1 = plt.gcf()\n",
    "fig1.gca().add_artist(centre_circle)\n",
    "plt.title(f'Forest cover in {adm0}')\n",
    "plt.show()"
   ]
  },
  {
   "cell_type": "code",
   "execution_count": null,
   "metadata": {},
   "outputs": [],
   "source": []
  },
  {
   "cell_type": "code",
   "execution_count": null,
   "metadata": {},
   "outputs": [],
   "source": []
  },
  {
   "cell_type": "code",
   "execution_count": null,
   "metadata": {},
   "outputs": [],
   "source": []
  }
 ],
 "metadata": {
  "kernelspec": {
   "display_name": "Python 3",
   "language": "python",
   "name": "python3"
  },
  "language_info": {
   "codemirror_mode": {
    "name": "ipython",
    "version": 3
   },
   "file_extension": ".py",
   "mimetype": "text/x-python",
   "name": "python",
   "nbconvert_exporter": "python",
   "pygments_lexer": "ipython3",
   "version": "3.6.3"
  }
 },
 "nbformat": 4,
 "nbformat_minor": 2
}
