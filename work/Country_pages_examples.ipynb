{
 "cells": [
  {
   "cell_type": "markdown",
   "metadata": {},
   "source": [
    "## Building The Country Page Widgets\n",
    "\n",
    "Charlie has added the following datasets to the **STAGING** API for the construction of the new country pages widgets. This notebook details how to query these datasets to create a the required widgets.\n",
    "\n",
    "\n",
    "```\n",
    "[\n",
    "    {\n",
    "        \"name\": \"IFL 2000\",\n",
    "        \"gain\": \"27ed6d3c-89e8-4087-aa78-1b6619c0e8d5\",\n",
    "        \"loss\": \"cbf299f8-f365-4ba3-ad10-b8c1324bea62\",\n",
    "        \"extent\": \"1676bb7f-a858-4298-8faa-c85cb169ca20\"\n",
    "    },\n",
    "\n",
    "    {\n",
    "        \"name\": \"IFL 2013\",\n",
    "        \"gain\": \"19be9cf6-3dfc-4b77-b95e-39a6751e55bf\",\n",
    "        \"loss\": \"2a4bf55c-7e0e-45cd-ac3f-f1e890c0bd22\",\n",
    "        \"extent\": \"2cfc35b0-aa9b-4939-8265-ee643b3afeb5\"\n",
    "    },\n",
    "\n",
    "    {\n",
    "        \"name\": \"wdpa\",\n",
    "        \"gain\": \"23519a73-f4b8-4bb6-8a6a-1d84c38debca\",\n",
    "        \"loss\": \"9289fdf7-b2b0-4cbf-8951-9dd4dcd8ccd7\",\n",
    "        \"extent\": \"8d7e23ec-bc8c-4434-bc6a-6ce40459b424\"\n",
    "    },\n",
    "\n",
    "    {\n",
    "        \"name\": \"primary forests\",\n",
    "        \"gain\": \"fd3b3a12-121e-4189-96a3-d8c26b70952d\",\n",
    "        \"loss\": \"7a5b92ab-2d35-45f3-b923-20c9a46d4873\",\n",
    "        \"extent\": \"b987b360-190e-4560-a632-03946347d226\"\n",
    "    },\n",
    "\n",
    "    {\n",
    "        \"name\": \"biodiversity hot spots\",\n",
    "        \"gain\": \"bd061864-8efb-41a7-8ba0-6f4d25ed1fd8\",\n",
    "        \"loss\": \"32a963c1-26d7-4a21-b602-17144fd78c0f\",\n",
    "        \"extent\": \"6c00c104-a75b-4b0b-9c33-0d0aa29cdf93\"\n",
    "    },\n",
    "\n",
    "    {\n",
    "        \"name\": \"gadm28 only\",\n",
    "        \"gain\": \"e78a9c36-ed15-467a-babd-0a5ac21d07d7\",\n",
    "        \"loss\": \"88994c38-1ea1-4a32-82ca-073547d11176\",\n",
    "        \"extent\": \"f0e01525-9576-4613-a74b-3290c94047ca\"\n",
    "    },\n",
    "\n",
    "    {\n",
    "        \"name\": \"GFW Plantations\",\n",
    "        \"gain\": \"94a883de-4eb4-4be8-a05f-c77ea8d9c6a3\",\n",
    "        \"loss\": \"17a7970a-23ba-45ab-8004-37090b4e2502\",\n",
    "        \"extent\": \"9b617bbb-b99b-4543-832d-665adeec3341\"\n",
    "    },\n",
    "\n",
    "    {\n",
    "        \"name\": \"GFW Managed Forests\",\n",
    "        \"gain\": \"c88957d7-4635-4fb7-b729-db565122529d\",\n",
    "        \"loss\": \"c500cb21-fdf0-426b-9a89-4a581f33ed18\",\n",
    "        \"extent\": \"f9e40f0f-4f9f-4d93-957d-1fa15dd29333\"\n",
    "    }\n",
    "]\n",
    "```"
   ]
  },
  {
   "cell_type": "code",
   "execution_count": 28,
   "metadata": {
    "ExecuteTime": {
     "end_time": "2017-11-23T11:56:54.375582Z",
     "start_time": "2017-11-23T11:56:54.368240Z"
    }
   },
   "outputs": [],
   "source": [
    "import requests\n",
    "from pprint import pprint\n",
    "import numpy as np\n",
    "import matplotlib.pyplot as plt\n",
    "%matplotlib inline"
   ]
  },
  {
   "cell_type": "code",
   "execution_count": 87,
   "metadata": {
    "ExecuteTime": {
     "end_time": "2017-11-23T12:36:48.267149Z",
     "start_time": "2017-11-23T12:36:47.523477Z"
    }
   },
   "outputs": [
    {
     "name": "stdout",
     "output_type": "stream",
     "text": [
      "https://staging-api.globalforestwatch.org/query?sql=SELECT+%2A+FROM+f0e01525-9576-4613-a74b-3290c94047ca+WHERE+iso+%3D+%27BRA%27+AND+thresh%3D30+LIMIT+2\n",
      "Status: 200\n"
     ]
    },
    {
     "data": {
      "text/plain": [
       "{'data': [{'_id': 'AV5SxVwVD0oexj_vqcdH',\n",
       "   'adm1': 1,\n",
       "   'adm2': 11,\n",
       "   'area': 806167.3365414925,\n",
       "   'iso': 'BRA',\n",
       "   'thresh': 30},\n",
       "  {'_id': 'AV5SxVwVD0oexj_vqcdP',\n",
       "   'adm1': 1,\n",
       "   'adm2': 3,\n",
       "   'area': 1786.439707780866,\n",
       "   'iso': 'BRA',\n",
       "   'thresh': 30}],\n",
       " 'meta': {'cloneUrl': {'body': {'dataset': {'application': ['your', 'apps'],\n",
       "     'datasetUrl': '/v1/query/f0e01525-9576-4613-a74b-3290c94047ca'}},\n",
       "   'http_method': 'POST',\n",
       "   'url': '/v1/dataset/f0e01525-9576-4613-a74b-3290c94047ca/clone'}}}"
      ]
     },
     "execution_count": 87,
     "metadata": {},
     "output_type": "execute_result"
    }
   ],
   "source": [
    "# Example of what is in the data tables and how to simply read them:\n",
    "ds = \"f0e01525-9576-4613-a74b-3290c94047ca\" # gadm28 tree cover extent UMD 2013\n",
    "url = \"https://staging-api.globalforestwatch.org/query\"\n",
    "sql = (f\"SELECT * FROM {ds} WHERE iso = 'BRA' AND thresh=30 LIMIT 2\")\n",
    "properties = {\"sql\": sql}\n",
    "r = requests.get(url, params = properties)\n",
    "print(r.url)\n",
    "print(f'Status: {r.status_code}')\n",
    "r.json()"
   ]
  },
  {
   "cell_type": "markdown",
   "metadata": {},
   "source": [
    "# Tree cover widget\n",
    "\n",
    "Default view where plantations data aviable for a country:\n",
    "\n",
    "Uses:\n",
    "    * Tree cover 2013 (\"extent\": \"2cfc35b0-aa9b-4939-8265-ee643b3afeb5\")\n",
    "    * Plantations (\"extent\": \"9b617bbb-b99b-4543-832d-665adeec3341\")\n",
    "    * Area of country\n",
    "\n",
    "To calculate 3 slices in a pie chart:\n",
    "    * Tree plantations\n",
    "    * Natural forest (tree cover 2013 - tree plantations)\n",
    "    * Non-forest (total area - tree cover 2013)\n",
    "\n"
   ]
  },
  {
   "cell_type": "code",
   "execution_count": 205,
   "metadata": {
    "ExecuteTime": {
     "end_time": "2017-11-24T11:03:26.267285Z",
     "start_time": "2017-11-24T11:03:26.258690Z"
    }
   },
   "outputs": [],
   "source": [
    "# note adm0 = BRA, adm1 = 4  is Amazonas\n",
    "# adm0 = BRA, adm1 = 4, adm2 = 141 is Amaturá  (many forests)\n",
    "# adm0 = BRA, adm1 = 12, adm2 = 1434 is Mato Grosso, Cáceres\n",
    "# adm0 = BRA, adm1 = 14, adm2 = 2404 is Para, Altamira \n",
    "# adm0 = BRA, adm1 = 16, adm2 = 3135 - largest area of plantations (Turning this on seems to reveal a bug)\n",
    "\n",
    "url = \"https://staging-api.globalforestwatch.org/query\"\n",
    "adm0 = 'BRA'\n",
    "threshold = 30\n",
    "adm1 = None\n",
    "adm2 = None"
   ]
  },
  {
   "cell_type": "code",
   "execution_count": 206,
   "metadata": {
    "ExecuteTime": {
     "end_time": "2017-11-24T11:03:27.033001Z",
     "start_time": "2017-11-24T11:03:27.018017Z"
    }
   },
   "outputs": [],
   "source": [
    "def extent_queries(ds, adm0, adm1=None, adm2 = None, threshold=30):\n",
    "    if adm0 and not adm1 and not adm2:\n",
    "        print('Request for adm0 area')\n",
    "        sql = (f\"SELECT SUM(area) as value FROM {ds} WHERE iso = '{adm0}' \"\n",
    "               f\"AND thresh = {threshold}\")\n",
    "    elif adm0 and adm1 and not adm2:\n",
    "        print('Request for  adm1 area')\n",
    "        sql = (f\"SELECT SUM(area) as value FROM {ds} WHERE iso = '{adm0}' \"\n",
    "               f\"AND adm1 = {adm1} AND thresh = {threshold}\")\n",
    "    elif adm0 and adm1 and adm2:\n",
    "        print('Request for  adm2 area')\n",
    "        sql = (f\"SELECT area as value FROM {ds} WHERE iso = '{adm0}' \"\n",
    "               f\"AND adm1 = {adm1} AND adm2 = {adm2} AND thresh = {threshold}\") \n",
    "    return sql"
   ]
  },
  {
   "cell_type": "code",
   "execution_count": 207,
   "metadata": {
    "ExecuteTime": {
     "end_time": "2017-11-24T11:03:37.360954Z",
     "start_time": "2017-11-24T11:03:35.634536Z"
    }
   },
   "outputs": [
    {
     "name": "stdout",
     "output_type": "stream",
     "text": [
      "Request for adm0 area\n",
      "https://staging-api.globalforestwatch.org/query?sql=SELECT+SUM%28area%29+as+value+FROM+f0e01525-9576-4613-a74b-3290c94047ca+WHERE+iso+%3D+%27BRA%27+AND+thresh+%3D+30\n",
      "Status: 200\n",
      "{'data': [{'value': 244872188.7236061}],\n",
      " 'meta': {'cloneUrl': {'body': {'dataset': {'application': ['your', 'apps'],\n",
      "                                            'datasetUrl': '/v1/query/f0e01525-9576-4613-a74b-3290c94047ca'}},\n",
      "                       'http_method': 'POST',\n",
      "                       'url': '/v1/dataset/f0e01525-9576-4613-a74b-3290c94047ca/clone'}}}\n",
      "\n",
      "BRA None None Gadm28 Tree cover extent = 244872188.7236061 ha\n"
     ]
    }
   ],
   "source": [
    "##  UMD Tree cover extent 2013 over gadm28 areas \n",
    "ds = \"f0e01525-9576-4613-a74b-3290c94047ca\"\n",
    "sql = extent_queries(ds=ds, adm0=adm0, adm1=adm1, adm2=adm2, threshold=threshold)\n",
    "r = requests.get(url, params = {\"sql\": sql})\n",
    "\n",
    "print(r.url)\n",
    "print(f'Status: {r.status_code}')\n",
    "pprint(r.json())\n",
    "\n",
    "try:\n",
    "    tree_cover_extent_2013 = r.json().get('data')[0].get('value')\n",
    "except:\n",
    "    tree_cover_extent_2013 = 0.0\n",
    "print(f\"\\n{adm0} {adm1} {adm2} Gadm28 Tree cover extent = {tree_cover_extent_2013} ha\")"
   ]
  },
  {
   "cell_type": "markdown",
   "metadata": {},
   "source": [
    "So far I don't like this value. It is way too low: the 2000 UMD extent data for Brazil gives 519,187,505 ha\n",
    "From this table we are getting 244,872,188 ha. Doesn't look right..."
   ]
  },
  {
   "cell_type": "code",
   "execution_count": 208,
   "metadata": {
    "ExecuteTime": {
     "end_time": "2017-11-24T11:03:49.129256Z",
     "start_time": "2017-11-24T11:03:48.251070Z"
    }
   },
   "outputs": [
    {
     "name": "stdout",
     "output_type": "stream",
     "text": [
      "Request for adm0 area\n",
      "https://staging-api.globalforestwatch.org/query?sql=SELECT+SUM%28area%29+as+value+FROM+9b617bbb-b99b-4543-832d-665adeec3341+WHERE+iso+%3D+%27BRA%27+AND+thresh+%3D+30\n",
      "Status: 200\n",
      "{'data': [{'value': 4659701.8839049935}],\n",
      " 'meta': {'cloneUrl': {'body': {'dataset': {'application': ['your', 'apps'],\n",
      "                                            'datasetUrl': '/v1/query/9b617bbb-b99b-4543-832d-665adeec3341'}},\n",
      "                       'http_method': 'POST',\n",
      "                       'url': '/v1/dataset/9b617bbb-b99b-4543-832d-665adeec3341/clone'}}}\n",
      "\n",
      "BRA None None plantation area = 4659701.8839049935 ha\n"
     ]
    }
   ],
   "source": [
    "# GFW plantations (should be area of forest intersecting tree plantations at admin2 level from gadm28 shapes)\n",
    "\n",
    "ds = \"9b617bbb-b99b-4543-832d-665adeec3341\"\n",
    "sql = extent_queries(ds=ds, adm0=adm0, adm1=adm1, adm2=adm2, threshold=threshold)\n",
    "r = requests.get(url, params = {\"sql\": sql})\n",
    "\n",
    "print(r.url)\n",
    "print(f'Status: {r.status_code}')\n",
    "pprint(r.json())\n",
    "\n",
    "try:\n",
    "    plantations = r.json().get('data')[0].get('value')\n",
    "except:\n",
    "    plantations = 0.0\n",
    "print(f\"\\n{adm0} {adm1} {adm2} plantation area = {plantations} ha\")"
   ]
  },
  {
   "cell_type": "code",
   "execution_count": 209,
   "metadata": {
    "ExecuteTime": {
     "end_time": "2017-11-24T11:03:51.930138Z",
     "start_time": "2017-11-24T11:03:51.914405Z"
    }
   },
   "outputs": [],
   "source": [
    "def area_queries(adm0, adm1=None, adm2 = None):\n",
    "    \"\"\"If an admin0 or admin 1 area is requestd, use precalulated tables.\n",
    "       If an admin2 is requested, calculate the area from the geometry.\n",
    "    \"\"\"\n",
    "    if adm0 and not adm1 and not adm2:\n",
    "        print('Request for adm0 area')\n",
    "        sql = (\"SELECT land as value \"\n",
    "                \"FROM umd_nat_staging \"\n",
    "               f\"WHERE iso = '{adm0}' \"\n",
    "                \" AND year = 2001 \"\n",
    "                \" and thresh = 30 \")\n",
    "    elif adm0 and adm1 and not adm2:\n",
    "        print('Request for adm1 area')\n",
    "        sql = (\"SELECT land as value \"\n",
    "                \"FROM umd_subnat_staging \"\n",
    "               f\"WHERE iso = '{adm0}' \"\n",
    "               f\" AND id1 = {adm1} \"\n",
    "                \" AND year = 2001 \"\n",
    "                \" and thresh = 30 \")\n",
    "    elif adm0 and adm1 and adm2:\n",
    "        print('Request for adm2 area')\n",
    "        sql = (\"SELECT ROUND(ST_AREA(the_geom::geography) * 0.0001) as value \"\n",
    "                \"FROM gadm28_adm2 \"\n",
    "                f\"WHERE iso = '{adm0}' \"\n",
    "                f\"AND id_1 = {adm1} \"\n",
    "                f\"AND id_2 = {adm2} \")\n",
    "    return sql"
   ]
  },
  {
   "cell_type": "code",
   "execution_count": 210,
   "metadata": {
    "ExecuteTime": {
     "end_time": "2017-11-24T11:03:53.593803Z",
     "start_time": "2017-11-24T11:03:53.010113Z"
    }
   },
   "outputs": [
    {
     "name": "stdout",
     "output_type": "stream",
     "text": [
      "Request for adm0 area\n",
      "https://wri-01.carto.com/api/v2/sql?q=SELECT+land+as+value+FROM+umd_nat_staging+WHERE+iso+%3D+%27BRA%27++AND+year+%3D+2001++and+thresh+%3D+30+ \n",
      "\n",
      "{'fields': {'value': {'type': 'number'}},\n",
      " 'rows': [{'value': 853281125.672}],\n",
      " 'time': 0.006,\n",
      " 'total_rows': 1}\n",
      "\n",
      " 853281125.672 ha total area selected\n"
     ]
    }
   ],
   "source": [
    "# Total area (ha) of selected area based on gadm28 table in Carto account\n",
    "\n",
    "sql = area_queries(adm0=adm0, adm1=adm1, adm2=adm2)\n",
    "\n",
    "account = 'wri-01'\n",
    "urlCarto = \"https://{0}.carto.com/api/v2/sql\".format(account)\n",
    "\n",
    "sql = {\"q\": sql}\n",
    "r = requests.get(urlCarto, params=sql)\n",
    "print(r.url,'\\n')\n",
    "pprint(r.json())\n",
    "\n",
    "total_area = r.json().get('rows')[0].get('value')\n",
    "print(f\"\\n {total_area} ha total area selected\")"
   ]
  },
  {
   "cell_type": "code",
   "execution_count": 211,
   "metadata": {
    "ExecuteTime": {
     "end_time": "2017-11-24T11:03:53.609596Z",
     "start_time": "2017-11-24T11:03:53.597696Z"
    }
   },
   "outputs": [
    {
     "name": "stdout",
     "output_type": "stream",
     "text": [
      "plantations=4.6597e+06, tree cover=2.44872e+08, area=8.53281e+08\n"
     ]
    },
    {
     "data": {
      "text/plain": [
       "(4659701.8839049935, 240212486.83970112, 608408936.948394)"
      ]
     },
     "execution_count": 211,
     "metadata": {},
     "output_type": "execute_result"
    }
   ],
   "source": [
    "print(f\"plantations={plantations:g}, tree cover={tree_cover_extent_2013:g}, area={total_area:g}\")\n",
    "plantations, tree_cover_extent_2013 - plantations, total_area - tree_cover_extent_2013"
   ]
  },
  {
   "cell_type": "code",
   "execution_count": 213,
   "metadata": {
    "ExecuteTime": {
     "end_time": "2017-11-24T11:04:05.923421Z",
     "start_time": "2017-11-24T11:04:05.763152Z"
    }
   },
   "outputs": [
    {
     "data": {
      "image/png": "[encoded data removed]",
      "text/plain": [
       "<matplotlib.figure.Figure at 0x1192a4630>"
      ]
     },
     "metadata": {},
     "output_type": "display_data"
    }
   ],
   "source": [
    "# Pie chart, where the slices will be ordered and plotted counter-clockwise:\n",
    "labels = 'Tree plantations', 'Natural Forest', 'Non-forest'\n",
    "sizes = [plantations, tree_cover_extent_2013 - plantations, total_area - tree_cover_extent_2013]\n",
    "\n",
    "fig1, ax1 = plt.subplots()\n",
    "ax1.pie(sizes, labels=labels, autopct='%1.1f%%',\n",
    "        shadow=False, startangle=90, colors=['orange','green','grey'])\n",
    "ax1.axis('equal')\n",
    "centre_circle = plt.Circle((0,0),0.75,color='black', fc='white',linewidth=0.5)\n",
    "fig1 = plt.gcf()\n",
    "fig1.gca().add_artist(centre_circle)\n",
    "plt.title(f'Forest cover in {adm0} for threshold={threshold}')\n",
    "plt.show()"
   ]
  },
  {
   "cell_type": "markdown",
   "metadata": {},
   "source": [
    "#### Problems\n",
    "\n",
    "** Areas **: As we calculate areas in this case dynamically from geometries, we will get inconsisntent results with the rest of the site. \n",
    "To resolve this, we need the areas pre-calculated in a table using the same method that they have previously been calculated from. I.e. it needs to match the same method of the `https://wri-01.carto.com/tables/umd_subnat_staging` table (which currently is at admin1 level.\n",
    "\n",
    "* Possible Solution: Charlie could produce an areas table, that has the area of the gadm28 geometries.\n",
    "\n",
    "** Tree Cover **: current extent area is incorrect. For Brazil, nationally, the values are off by around a factor of 2. Perhaps I have the wrong table, but I can't see another possible table that should be used in this case.\n",
    "\n",
    "** Plantations **: Again, plantation areas look dubious."
   ]
  },
  {
   "cell_type": "markdown",
   "metadata": {
    "ExecuteTime": {
     "end_time": "2017-11-23T12:23:46.777118Z",
     "start_time": "2017-11-23T12:23:46.768292Z"
    }
   },
   "source": [
    "## FAO FOREST Widget\n",
    "\n",
    "An FAO-based forest widget can be calcuated based on data in a carto table `https://wri-01.carto.com/tables/gfw2_countries`\n",
    "\n",
    "It will take a little work, as the data stored in the carto table is % of primary, regenerated and planted forest. Therefore we must 1) get an area (ha) extent of the forest, 2) obtain the % values of various FAO forest statistics from the carto table, 3) derrive the real (ha) area of FAO forest for each category, and 4) get a value of absolute area of the country and subtract the values caluclated in step 3 from the total area to get non-forest. \n",
    "\n",
    "** Pie categories **\n",
    "\n",
    "* Primary Forest\n",
    "* Naturally Regenerated Forest\n",
    "* Planted Forest\n",
    "* Non-forest\n",
    "\n",
    "**Notes** \n",
    "\n",
    "1. These data (and therefore this widget) is only avaiable at the NATIONAL (ADMIN 0) level. And should dissapear from the pages if any other area is selected.\n",
    "\n",
    "1. These data have no threshold selection.\n",
    "\n",
    "1. As these data are only national, we can simply rely on the `umd_nat_staging` table to provide areas directly, rather than needing to dynamically calculate the areas."
   ]
  },
  {
   "cell_type": "code",
   "execution_count": null,
   "metadata": {},
   "outputs": [],
   "source": [
    "# Variables\n",
    "adm0 = 'BRA'"
   ]
  },
  {
   "cell_type": "code",
   "execution_count": 169,
   "metadata": {
    "ExecuteTime": {
     "end_time": "2017-11-23T17:01:10.089008Z",
     "start_time": "2017-11-23T17:01:09.475455Z"
    }
   },
   "outputs": [
    {
     "name": "stdout",
     "output_type": "stream",
     "text": [
      "https://wri-01.carto.com/api/v2/sql?q=SELECT+fao.iso%2C+fao.name%2Cforest_planted%2C+forest_primary%2C+forest_regenerated%2C+fao.forest_primary%2C+fao.extent%2C+a.land+as+area_ha+FROM+gfw2_countries+as+fao+INNER+JOIN+umd_nat_staging+as+a+ON+fao.iso%3Da.iso+WHERE+fao.forest_primary+is+not+null+AND+fao.iso+%3D+%27BRA%27+AND+a.year+%3D+2001+AND+a.thresh+%3D+30+ \n",
      "\n",
      "{'fields': {'area_ha': {'type': 'number'},\n",
      "            'extent': {'type': 'number'},\n",
      "            'forest_planted': {'type': 'number'},\n",
      "            'forest_primary': {'type': 'number'},\n",
      "            'forest_regenerated': {'type': 'number'},\n",
      "            'iso': {'type': 'string'},\n",
      "            'name': {'type': 'string'}},\n",
      " 'rows': [{'area_ha': 853281125.672,\n",
      "           'extent': 492968489,\n",
      "           'forest_planted': 2,\n",
      "           'forest_primary': 41,\n",
      "           'forest_regenerated': 57,\n",
      "           'iso': 'BRA',\n",
      "           'name': 'Brazil'}],\n",
      " 'time': 0.007,\n",
      " 'total_rows': 1}\n"
     ]
    }
   ],
   "source": [
    "# First, get the FAO data from a carto table\n",
    "\n",
    "sql = (\"SELECT fao.iso, fao.name,forest_planted, forest_primary, \"\n",
    "         \"forest_regenerated, fao.forest_primary, fao.extent, a.land as area_ha \"\n",
    "         \"FROM gfw2_countries as fao \"\n",
    "         \"INNER JOIN umd_nat_staging as a \"\n",
    "         \"ON fao.iso=a.iso \"\n",
    "         \"WHERE fao.forest_primary is not null \"\n",
    "         f\"AND fao.iso = '{adm0}' \"\n",
    "         \"AND a.year = 2001 \"\n",
    "         \"AND a.thresh = 30 \"\n",
    "        )\n",
    "\n",
    "account = 'wri-01'\n",
    "urlCarto = \"https://{0}.carto.com/api/v2/sql\".format(account)\n",
    "\n",
    "sql = {\"q\": sql}\n",
    "r = requests.get(urlCarto, params=sql)\n",
    "print(r.url,'\\n')\n",
    "pprint(r.json())\n",
    "\n",
    "fao_percent = r.json().get('rows')[0]"
   ]
  },
  {
   "cell_type": "code",
   "execution_count": 171,
   "metadata": {
    "ExecuteTime": {
     "end_time": "2017-11-23T17:01:38.809340Z",
     "start_time": "2017-11-23T17:01:38.802281Z"
    }
   },
   "outputs": [],
   "source": [
    "# How to calculate the statitics needed based on the CARTO responses\n",
    "\n",
    "naturally_regenerated =  fao_percent['extent']/ 100 *  fao_percent['forest_regenerated']\n",
    "primary_forest = fao_percent['extent']/100 *  fao_percent['forest_primary']\n",
    "planted_forest = fao_percent['extent']/100 * fao_percent['forest_planted']\n",
    "non_forest = fao_percent['area_ha'] - (naturally_regenerated + primary_forest + planted_forest)"
   ]
  },
  {
   "cell_type": "code",
   "execution_count": 172,
   "metadata": {
    "ExecuteTime": {
     "end_time": "2017-11-23T17:01:39.859270Z",
     "start_time": "2017-11-23T17:01:39.689199Z"
    }
   },
   "outputs": [
    {
     "data": {
      "image/png": "[encoded data removed]",
      "text/plain": [
       "<matplotlib.figure.Figure at 0x1112b19b0>"
      ]
     },
     "metadata": {},
     "output_type": "display_data"
    }
   ],
   "source": [
    "# FAO donut chart \n",
    "# NOTE - THE COLOURS ARE NOT NECESSARILY THOSE NEEDED FOR PRODUCTION\n",
    "labels = ['Naturally regenerated Forest', 'Primary Forest', 'Planted Forest', 'Non-Forest']\n",
    "sizes = [naturally_regenerated, primary_forest, planted_forest, non_forest]\n",
    "\n",
    "fig1, ax1 = plt.subplots()\n",
    "ax1.pie(sizes, labels=labels, autopct='%1.1f%%',\n",
    "        shadow=False, startangle=90, colors=['#0da330', '#69ef88','green','grey'])\n",
    "ax1.axis('equal')\n",
    "centre_circle = plt.Circle((0,0),0.75,color='black', fc='white',linewidth=0.5)\n",
    "fig1 = plt.gcf()\n",
    "fig1.gca().add_artist(centre_circle)\n",
    "plt.title(f'Forest cover in {adm0}')\n",
    "plt.show()"
   ]
  },
  {
   "cell_type": "code",
   "execution_count": 177,
   "metadata": {
    "ExecuteTime": {
     "end_time": "2017-11-23T17:28:37.673552Z",
     "start_time": "2017-11-23T17:28:37.040873Z"
    }
   },
   "outputs": [
    {
     "name": "stdout",
     "output_type": "stream",
     "text": [
      "https://wri-01.carto.com/api/v2/sql?q=WITH+mytable+AS+%28SELECT+fao.iso%2C+fao.name%2C+fao.forest_primary%2C+fao.extent+forest_extent%2C+a.land+as+area_ha+FROM+gfw2_countries+as+fao+INNER+JOIN+umd_nat_staging+as+a+ON+fao.iso%3Da.iso+WHERE+fao.forest_primary+%3E+0+AND+a.year+%3D+2001+AND+a.thresh+%3D+30%29%2C+rank+AS+%28+SELECT+forest_extent+%2A+%28forest_primary%2F100%29%2Farea_ha+%2A+100+as+percent_primary+%2Ciso+from+mytable+ORDER+BY+percent_primary+DESC%29%2C+item+as+%28select+percent_primary+from+rank+where+iso+%3D+%27BRA%27%29+select+count%28%2A%29+as+rank+from+rank+WHERE+percent_primary+%3E+%28select+percent_primary+from+item%29+ \n",
      "\n",
      "{'fields': {'rank': {'type': 'number'}},\n",
      " 'rows': [{'rank': 27}],\n",
      " 'time': 0.038,\n",
      " 'total_rows': 1}\n",
      "27\n"
     ]
    }
   ],
   "source": [
    "## RANK ALL COUNTRIES RELATIVE AMOUNT OF PRIMARY FOREST in 2015 and report that value for a dynamic sentence\n",
    "\n",
    "sql = (\"WITH mytable AS (SELECT fao.iso, fao.name, fao.forest_primary, fao.extent forest_extent, a.land as area_ha \"\n",
    "\"FROM gfw2_countries as fao \"\n",
    "\"INNER JOIN umd_nat_staging as a \"\n",
    "\"ON fao.iso=a.iso \"\n",
    "\"WHERE fao.forest_primary > 0 \"\n",
    "\"AND a.year = 2001 \"\n",
    "\"AND a.thresh = 30), \"\n",
    "\"rank AS ( \"\n",
    "\"SELECT forest_extent * (forest_primary/100)/area_ha * 100 as percent_primary ,iso \"\n",
    "\"from mytable \"\n",
    "\"ORDER BY percent_primary DESC), \"\n",
    "f\"item as (select percent_primary from rank where iso = '{adm0}') \"\n",
    "\"select count(*) as rank \"\n",
    "\"from rank \"\n",
    "\"WHERE percent_primary > (select percent_primary from item) \")\n",
    "\n",
    "account = 'wri-01'\n",
    "urlCarto = \"https://{0}.carto.com/api/v2/sql\".format(account)\n",
    "\n",
    "sql = {\"q\": sql}\n",
    "r = requests.get(urlCarto, params=sql)\n",
    "print(r.url,'\\n')\n",
    "pprint(r.json())\n",
    "\n",
    "rank = r.json().get('rows')[0].get('rank')\n",
    "print(rank)"
   ]
  },
  {
   "cell_type": "code",
   "execution_count": 189,
   "metadata": {
    "ExecuteTime": {
     "end_time": "2017-11-23T17:32:47.954806Z",
     "start_time": "2017-11-23T17:32:47.940548Z"
    }
   },
   "outputs": [
    {
     "name": "stdout",
     "output_type": "stream",
     "text": [
      "FAO data from 2015 shows that BRA is \n",
      "mostly forest. \n",
      "Primary forest occupies 23.7% of the country.\n",
      "This gives BRA a rank of 27th out of 110 countries in terms of its relative amount of primary forest.\n"
     ]
    }
   ],
   "source": [
    "# Dyanmic sentence for FAO plot\n",
    "\n",
    "print(f\"FAO data from 2015 shows that {adm0} is \")\n",
    "\n",
    "if  non_forest/area_ha > 0.5:\n",
    "    print('mostly non-forest. ')\n",
    "else:\n",
    "    print('mostly forest. ')\n",
    "\n",
    "if primary_forest > 0:\n",
    "    print(f'Primary forest occupies {primary_forest/area_ha*100:3.1f}% of the country.')\n",
    "    print(f\"This gives {adm0} a rank of {rank}th out of 110 countries in terms of its relative amount of primary forest.\")"
   ]
  },
  {
   "cell_type": "markdown",
   "metadata": {},
   "source": [
    "## TREE COVER LOSS WIDGET \n",
    "\n",
    "The UMD/Hansen Tree cover loss widget should be a bar chart, with time as the x-axis, and loss (ha) as the y-axis, on hover it should show the year, ha loss, and % loss relative to 2000 tree cover extent *for the data table of interest*.\n",
    "\n",
    "** Notes ** \n",
    "\n",
    "* Loss data tables have loss units in both area (ha) and emissions (t co2/ha). The emissions units will only be used in the loss widget to add contextual info to the dynamic sentence.\n",
    "\n",
    "* It is probably best to always request the full time period of data from the table, and then subset it client-side, as we will always need to know the last year of loss to construct the dynamic sentence.\n",
    "\n",
    "* In settings, the users should be able to change the data sources, when they do you will need to query different data tables both for calculating loss and extent (to calculate relative loss):\n",
    "    - All region (default) view: gadm28 table\n",
    "    - all other data tables currently created should be selectable too"
   ]
  },
  {
   "cell_type": "code",
   "execution_count": 432,
   "metadata": {
    "ExecuteTime": {
     "end_time": "2017-11-24T13:03:10.503935Z",
     "start_time": "2017-11-24T13:03:10.494146Z"
    }
   },
   "outputs": [],
   "source": [
    "# Variables\n",
    "\n",
    "# default (region-wide) comes from gadm28: loss table\n",
    "loss_ds = \"88994c38-1ea1-4a32-82ca-073547d11176\"\n",
    "loss_relative_extent_table = \"f0e01525-9576-4613-a74b-3290c94047ca\"\n",
    "\n",
    "threshold=30\n",
    "adm0 = 'BRA'\n",
    "adm1 = None\n",
    "adm2 = None\n",
    "start=2001\n",
    "end=2016\n",
    "\n",
    "# adm0 = BRA, adm1 = 12, adm2 = 1434 is Mato Grosso, Cáceres"
   ]
  },
  {
   "cell_type": "code",
   "execution_count": 433,
   "metadata": {
    "ExecuteTime": {
     "end_time": "2017-11-24T13:03:12.670277Z",
     "start_time": "2017-11-24T13:03:12.652505Z"
    }
   },
   "outputs": [],
   "source": [
    "def loss_queries(ds, adm0, start, end, adm1=None, adm2=None, threshold=30):\n",
    "    if adm0 and not adm1 and not adm2:\n",
    "        print(f'Request for adm0 area')\n",
    "        sql = (f\"SELECT year, sum(area) as area, sum(emissions) as emissions \"\n",
    "               f\"FROM {ds} \"\n",
    "               f\"WHERE iso = '{adm0}' \"\n",
    "               f\"AND year => {start} \"\n",
    "               f\"AND year <= {end} \"\n",
    "               f\"AND thresh={threshold} \"\n",
    "               \"GROUP BY year \")\n",
    "    elif adm0 and adm1 and not adm2:\n",
    "        print('Request for  adm1 area')\n",
    "        sql = (f\"SELECT year, sum(area) as area, sum(emissions) as emissions \"\n",
    "               f\"FROM {ds} WHERE iso = '{adm0}' \"\n",
    "               f\"AND adm1 = {adm1} \"\n",
    "               f\"AND year => {start} \"\n",
    "               f\"AND year <= {end} \"\n",
    "               f\"AND thresh= {threshold} \"\n",
    "               \"GROUP BY year \")\n",
    "    elif adm0 and adm1 and adm2:\n",
    "        print('Request for  adm2 area')\n",
    "        sql = (f\"SELECT year, sum(area) as area, sum(emissions) as emissions \"\n",
    "               f\"FROM {ds} WHERE iso = '{adm0}' \"\n",
    "               f\"AND adm1 = {adm1} \"\n",
    "               f\"AND adm2 = {adm2} \"\n",
    "               f\"AND year => {start} \"\n",
    "               f\"AND year <= {end} \"\n",
    "               f\"AND thresh= {threshold} \"\n",
    "               \"GROUP BY year \")\n",
    "    return sql"
   ]
  },
  {
   "cell_type": "code",
   "execution_count": 434,
   "metadata": {
    "ExecuteTime": {
     "end_time": "2017-11-24T13:03:15.462111Z",
     "start_time": "2017-11-24T13:03:13.408714Z"
    }
   },
   "outputs": [
    {
     "name": "stdout",
     "output_type": "stream",
     "text": [
      "Request for adm0 area\n",
      "SELECT year, sum(area) as area, sum(emissions) as emissions FROM 88994c38-1ea1-4a32-82ca-073547d11176 WHERE iso = 'BRA' AND year => 2001 AND year <= 2016 AND thresh=30 GROUP BY year \n",
      "https://staging-api.globalforestwatch.org/query?sql=SELECT+year%2C+sum%28area%29+as+area%2C+sum%28emissions%29+as+emissions+FROM+88994c38-1ea1-4a32-82ca-073547d11176+WHERE+iso+%3D+%27BRA%27+AND+year+%3D%3E+2001+AND+year+%3C%3D+2016+AND+thresh%3D30+GROUP+BY+year+\n",
      "Status: 200\n",
      "{'data': [{'area': 3504343, 'emissions': 599104504, 'year': 2002},\n",
      "          {'area': 3245861, 'emissions': 540572102, 'year': 2003},\n",
      "          {'area': 3846083, 'emissions': 676406325, 'year': 2004},\n",
      "          {'area': 3483878, 'emissions': 644550740, 'year': 2005},\n",
      "          {'area': 2874114, 'emissions': 513805002, 'year': 2006},\n",
      "          {'area': 2619106, 'emissions': 437501960, 'year': 2007},\n",
      "          {'area': 2441599, 'emissions': 421134110, 'year': 2008},\n",
      "          {'area': 1815228, 'emissions': 309399263, 'year': 2009},\n",
      "          {'area': 2686190, 'emissions': 455310957, 'year': 2010},\n",
      "          {'area': 1920608, 'emissions': 323012336, 'year': 2011},\n",
      "          {'area': 2915884, 'emissions': 464004986, 'year': 2012},\n",
      "          {'area': 1942832, 'emissions': 299304381, 'year': 2013},\n",
      "          {'area': 2690455, 'emissions': 414297899, 'year': 2014},\n",
      "          {'area': 2220186, 'emissions': 347406840, 'year': 2015},\n",
      "          {'area': 5376186, 'emissions': 961582786, 'year': 2016}],\n",
      " 'meta': {'cloneUrl': {'body': {'dataset': {'application': ['your', 'apps'],\n",
      "                                            'datasetUrl': '/v1/query/88994c38-1ea1-4a32-82ca-073547d11176'}},\n",
      "                       'http_method': 'POST',\n",
      "                       'url': '/v1/dataset/88994c38-1ea1-4a32-82ca-073547d11176/clone'}}}\n"
     ]
    }
   ],
   "source": [
    "# Get the loss data grouped by year\n",
    "\n",
    "url = \"https://staging-api.globalforestwatch.org/query\"\n",
    "\n",
    "sql = loss_queries(ds=loss_ds, adm0=adm0, start=start, end=end, \n",
    "                   adm1=adm1, adm2=adm2, threshold=threshold)\n",
    "    \n",
    "print(sql)\n",
    "\n",
    "properties = {\"sql\": sql}\n",
    "r = requests.get(url, params = properties)\n",
    "print(r.url)\n",
    "print(f'Status: {r.status_code}')\n",
    "pprint(r.json())\n",
    "\n",
    "# Extract the year and loss\n",
    "loss_json = r.json()\n",
    "d = {}\n",
    "for row in loss_json.get('data'):\n",
    "    d[row.get('year')] = row.get('area')"
   ]
  },
  {
   "cell_type": "code",
   "execution_count": 435,
   "metadata": {
    "ExecuteTime": {
     "end_time": "2017-11-24T13:03:16.505810Z",
     "start_time": "2017-11-24T13:03:16.307948Z"
    }
   },
   "outputs": [
    {
     "data": {
      "image/png": "[encoded data removed]",
      "text/plain": [
       "<matplotlib.figure.Figure at 0x119d03320>"
      ]
     },
     "metadata": {},
     "output_type": "display_data"
    }
   ],
   "source": [
    "loss = d.values()\n",
    "years = d.keys()\n",
    "width = 0.35\n",
    "fig, ax = plt.subplots()\n",
    "rects1 = ax.bar(years, loss, width, color='#FE5A8D')\n",
    "\n",
    "\n",
    "# add some text for labels, title and axes ticks\n",
    "ax.set_ylabel('Loss extent (ha)')\n",
    "ax.set_title(f'{adm0} tree cover loss')\n",
    "\n",
    "plt.show()"
   ]
  },
  {
   "cell_type": "markdown",
   "metadata": {},
   "source": [
    "Loss on hover should show % loss relative to Tree cover extent in the year 2000, over the appropriate\n",
    "region. I.e. if someone is interested in the 'All region' default view, then the loss should come from the `gadm28 loss` table, and the extent (to calculate the relative loss) should come from the `gadm28 extent` table."
   ]
  },
  {
   "cell_type": "code",
   "execution_count": 436,
   "metadata": {
    "ExecuteTime": {
     "end_time": "2017-11-24T13:03:18.525088Z",
     "start_time": "2017-11-24T13:03:17.668976Z"
    }
   },
   "outputs": [
    {
     "name": "stdout",
     "output_type": "stream",
     "text": [
      "Request for adm0 area\n",
      "SELECT SUM(area) as value FROM f0e01525-9576-4613-a74b-3290c94047ca WHERE iso = 'BRA' AND thresh = 30\n",
      "https://staging-api.globalforestwatch.org/query?sql=SELECT+SUM%28area%29+as+value+FROM+f0e01525-9576-4613-a74b-3290c94047ca+WHERE+iso+%3D+%27BRA%27+AND+thresh+%3D+30\n",
      "Status: 200\n",
      "{'data': [{'value': 244872188.7236061}],\n",
      " 'meta': {'cloneUrl': {'body': {'dataset': {'application': ['your', 'apps'],\n",
      "                                            'datasetUrl': '/v1/query/f0e01525-9576-4613-a74b-3290c94047ca'}},\n",
      "                       'http_method': 'POST',\n",
      "                       'url': '/v1/dataset/f0e01525-9576-4613-a74b-3290c94047ca/clone'}}}\n",
      "244872188.7236061\n",
      "year 2002, 3504343 ha, 1.43%\n",
      "year 2003, 3245861 ha, 1.33%\n",
      "year 2004, 3846083 ha, 1.57%\n",
      "year 2005, 3483878 ha, 1.42%\n",
      "year 2006, 2874114 ha, 1.17%\n",
      "year 2007, 2619106 ha, 1.07%\n",
      "year 2008, 2441599 ha, 1.00%\n",
      "year 2009, 1815228 ha, 0.74%\n",
      "year 2010, 2686190 ha, 1.10%\n",
      "year 2011, 1920608 ha, 0.78%\n",
      "year 2012, 2915884 ha, 1.19%\n",
      "year 2013, 1942832 ha, 0.79%\n",
      "year 2014, 2690455 ha, 1.10%\n",
      "year 2015, 2220186 ha, 0.91%\n",
      "year 2016, 5376186 ha, 2.20%\n"
     ]
    }
   ],
   "source": [
    "# Retrieve GADM28 extent for our area:\n",
    "\n",
    "sql = extent_queries(ds=loss_relative_extent_table, adm0=adm0, adm1=adm1, adm2=adm2, threshold=threshold)\n",
    "\n",
    "print(sql)\n",
    "\n",
    "properties = {\"sql\": sql}\n",
    "r = requests.get(url, params = properties)\n",
    "print(r.url)\n",
    "print(f'Status: {r.status_code}')\n",
    "pprint(r.json())\n",
    "\n",
    "y2000_relative_extent = r.json().get('data')[0].get('value')\n",
    "\n",
    "# The below value should be used to calculate a % loss on hover\n",
    "print(y2000_relative_extent)\n",
    "\n",
    "# e.g. on hover you should see:\n",
    "for y,l in zip(years, loss):\n",
    "    print(f\"year {y}, {l} ha, {l/y2000_relative_extent * 100:3.2f}%\")"
   ]
  },
  {
   "cell_type": "markdown",
   "metadata": {},
   "source": [
    "#### Dynamic sentence \n",
    "\n",
    "For the loss widget we also need a dynamic sentence. This will need to pull back 2016 area plantations loss too, and subtract this from the area loss, as WRI wants us to include this value.\n",
    "\n",
    "We will need to be a bit intelligent though about using parts of this sentence - if it doesnt make sense to compare the subset of data selected by the user to plantations, then we should not do so."
   ]
  },
  {
   "cell_type": "code",
   "execution_count": 437,
   "metadata": {
    "ExecuteTime": {
     "end_time": "2017-11-24T13:03:22.674243Z",
     "start_time": "2017-11-24T13:03:22.661479Z"
    }
   },
   "outputs": [
    {
     "name": "stdout",
     "output_type": "stream",
     "text": [
      "[7407394191, 43582553, 5376186, 961582786]\n"
     ]
    }
   ],
   "source": [
    "# First find total emissions, and loss, and also the last year of emissions and loss\n",
    "\n",
    "total_emissions = 0\n",
    "total_loss = 0\n",
    "last_year_loss = 0\n",
    "last_year_emissions = 0\n",
    "for row in loss_json.get('data'):\n",
    "    total_emissions += row.get('emissions')\n",
    "    total_loss += row.get('area')\n",
    "    if row.get('year') == end:\n",
    "        last_year_loss = row.get('area')\n",
    "        last_year_emissions = row.get('emissions')\n",
    "    \n",
    "print([total_emissions, total_loss, last_year_loss, last_year_emissions])"
   ]
  },
  {
   "cell_type": "code",
   "execution_count": 438,
   "metadata": {
    "ExecuteTime": {
     "end_time": "2017-11-24T13:03:23.992098Z",
     "start_time": "2017-11-24T13:03:23.347381Z"
    }
   },
   "outputs": [
    {
     "name": "stdout",
     "output_type": "stream",
     "text": [
      "Request for adm0 area\n",
      "https://staging-api.globalforestwatch.org/query?sql=SELECT+year%2C+sum%28area%29+as+area%2C+sum%28emissions%29+as+emissions+FROM+17a7970a-23ba-45ab-8004-37090b4e2502+WHERE+iso+%3D+%27BRA%27+AND+year+%3D%3E+2001+AND+year+%3C%3D+2016+AND+thresh%3D30+GROUP+BY+year+\n",
      "Status: 200\n",
      "{'data': [{'area': 198924.67411620915,\n",
      "           'emissions': 31977693.50934291,\n",
      "           'year': 2002},\n",
      "          {'area': 168202.44601157308,\n",
      "           'emissions': 25678431.97863412,\n",
      "           'year': 2003},\n",
      "          {'area': 206353.0915249586,\n",
      "           'emissions': 31767266.980878115,\n",
      "           'year': 2004},\n",
      "          {'area': 213173.96968065947,\n",
      "           'emissions': 32535265.89781475,\n",
      "           'year': 2005},\n",
      "          {'area': 209177.74415173382,\n",
      "           'emissions': 30178801.924748182,\n",
      "           'year': 2006},\n",
      "          {'area': 196267.03709721565,\n",
      "           'emissions': 28417400.716028214,\n",
      "           'year': 2007},\n",
      "          {'area': 189036.60156214982,\n",
      "           'emissions': 27908701.798584938,\n",
      "           'year': 2008},\n",
      "          {'area': 162887.65150981396,\n",
      "           'emissions': 24187998.789678097,\n",
      "           'year': 2009},\n",
      "          {'area': 194671.51139308512,\n",
      "           'emissions': 30922235.80973673,\n",
      "           'year': 2010},\n",
      "          {'area': 166679.31746973842,\n",
      "           'emissions': 25121490.811648846,\n",
      "           'year': 2011},\n",
      "          {'area': 207910.98612314463,\n",
      "           'emissions': 26789842.84486437,\n",
      "           'year': 2012},\n",
      "          {'area': 122060.08946263045,\n",
      "           'emissions': 13820078.591766834,\n",
      "           'year': 2013},\n",
      "          {'area': 143651.2936977595,\n",
      "           'emissions': 15919150.90114355,\n",
      "           'year': 2014},\n",
      "          {'area': 106588.16502133757,\n",
      "           'emissions': 11502184.138784647,\n",
      "           'year': 2015},\n",
      "          {'area': 154461.88239046186,\n",
      "           'emissions': 16644692.175338626,\n",
      "           'year': 2016}],\n",
      " 'meta': {'cloneUrl': {'body': {'dataset': {'application': ['your', 'apps'],\n",
      "                                            'datasetUrl': '/v1/query/17a7970a-23ba-45ab-8004-37090b4e2502'}},\n",
      "                       'http_method': 'POST',\n",
      "                       'url': '/v1/dataset/17a7970a-23ba-45ab-8004-37090b4e2502/clone'}}}\n",
      "[154461.88239046186, 16644692.175338626]\n"
     ]
    }
   ],
   "source": [
    "# Next, pull back the Plantations loss data if it makes sense to do so\n",
    "\n",
    "plantation_loss_table = \"17a7970a-23ba-45ab-8004-37090b4e2502\"\n",
    "\n",
    "sql = loss_queries(ds=plantation_loss_table, adm0=adm0, adm1=adm1, adm2=adm2,\n",
    "             threshold=threshold, start=start, end = end)\n",
    "\n",
    "properties = {\"sql\": sql}\n",
    "r = requests.get(url, params = properties)\n",
    "print(r.url)\n",
    "print(f'Status: {r.status_code}')\n",
    "pprint(r.json())\n",
    "\n",
    "plantation_loss_json = r.json().get('data')\n",
    "\n",
    "# Grab the last years of data \n",
    "for row in plantation_loss_json:\n",
    "    if row.get('year') == end:\n",
    "        plantation_2016_loss = row.get('area')\n",
    "        plantation_2016_emissions = row.get('emissions')\n",
    "        \n",
    "print([plantation_2016_loss, plantation_2016_emissions])"
   ]
  },
  {
   "cell_type": "markdown",
   "metadata": {
    "ExecuteTime": {
     "end_time": "2017-11-24T12:06:43.865123Z",
     "start_time": "2017-11-24T12:06:43.860546Z"
    }
   },
   "source": [
    "#### ISSUE\n",
    "\n",
    "* How is there plantations loss over such a long period? (I Was expecting it starting in 2013 only...)\n",
    "\n",
    "I need to check this with Charlie before I construct the plantations (inside/outside stacked bar version).\n",
    "\n",
    "** build the dynamic sentence itself for the Tree cover loss widget **"
   ]
  },
  {
   "cell_type": "code",
   "execution_count": 439,
   "metadata": {
    "ExecuteTime": {
     "end_time": "2017-11-24T13:03:26.998683Z",
     "start_time": "2017-11-24T13:03:26.981159Z"
    }
   },
   "outputs": [
    {
     "name": "stdout",
     "output_type": "stream",
     "text": [
      "Between 2001 and 2016, BRA\n",
      " lost 43582553 ha of tree cover, equivalent to 7407394191 tonnes of CO₂ of emissions.\n",
      "In 2016, there was 5221724 ha of loss excluding tree plantations, \n",
      "equivalent to 944938093 tonnes of CO₂ of emissions.\n"
     ]
    }
   ],
   "source": [
    "# Dynamic sentence construction\n",
    "\n",
    "if adm0 and not adm1 and not adm2:\n",
    "    print(f\"Between {start} and {end}, {adm0}\")\n",
    "if adm0 and adm1 and not adm2: \n",
    "    print(f\"Between {start} and {end}, <name of admin1 region>\")\n",
    "if adm0 and adm1 and adm2:\n",
    "    print(f\"Between {start} and {end}, <name of admin2 region>\")\n",
    "    \n",
    "print(f\" lost {total_loss} ha of tree cover, equivalent to {total_emissions} tonnes of CO\\u2082 of emissions.\")\n",
    "\n",
    "# IF IT MAKES SENSE TO DESCRIBE PLANTATION RELATIVE LOSS\n",
    "# i.e. if not plantation data directly, or primary forests where there should be no plantations:\n",
    "\n",
    "print(f\"In {end}, there was {int(last_year_loss - plantation_2016_loss)} ha of loss excluding tree plantations, \")\n",
    "print(f\"equivalent to {int(last_year_emissions -  plantation_2016_emissions)} tonnes of CO\\u2082 of emissions.\")"
   ]
  },
  {
   "cell_type": "code",
   "execution_count": null,
   "metadata": {
    "ExecuteTime": {
     "end_time": "2017-11-24T12:43:42.896404Z",
     "start_time": "2017-11-24T12:43:42.701528Z"
    }
   },
   "outputs": [],
   "source": []
  },
  {
   "cell_type": "code",
   "execution_count": null,
   "metadata": {
    "ExecuteTime": {
     "end_time": "2017-11-24T12:43:13.061903Z",
     "start_time": "2017-11-24T12:43:13.005913Z"
    }
   },
   "outputs": [],
   "source": []
  },
  {
   "cell_type": "code",
   "execution_count": null,
   "metadata": {},
   "outputs": [],
   "source": []
  }
 ],
 "metadata": {
  "kernelspec": {
   "display_name": "Python 3",
   "language": "python",
   "name": "python3"
  },
  "language_info": {
   "codemirror_mode": {
    "name": "ipython",
    "version": 3
   },
   "file_extension": ".py",
   "mimetype": "text/x-python",
   "name": "python",
   "nbconvert_exporter": "python",
   "pygments_lexer": "ipython3",
   "version": "3.6.3"
  },
  "toc": {
   "nav_menu": {},
   "number_sections": true,
   "sideBar": true,
   "skip_h1_title": false,
   "toc_cell": false,
   "toc_position": {},
   "toc_section_display": "block",
   "toc_window_display": false
  }
 },
 "nbformat": 4,
 "nbformat_minor": 2
}
