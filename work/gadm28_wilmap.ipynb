{
 "cells": [
  {
   "cell_type": "markdown",
   "metadata": {},
   "source": [
    "# Downscaling GADM28 countries and also building continent-level shapes\n",
    "\n",
    "The [Wilmap](http://dev-wilmap.pantheonsite.io/map) project requires us to construct two javascript files of downscaled polygons for countries, and continents. These shapes must match exactly. The continents must follow the [continent definition](https://en.wikipedia.org/wiki/Boundaries_between_the_continents_of_Earth) that divides Europe and Asia and North and South America.\n",
    "\n",
    "Currently the wilmap map is generated from two JS files (found in `wilmap/themes/wilmap_theme/dist/source`) of the [project repo](https://github.com/Vizzuality/wilmap), a continent file which is used to render the land-surface, and a country file which is used to paint white lines as borders between them. However, there is a problem in that these shapes have been created in an incompatible way. It looks like currently there were two seperate sources as the orginal shapefiles, which were both simplified to a similar degree. However, the shapefiles were not identical, and consequently the simplification has produced different results. Now the map has an issue in relation to polygon overlap. We need to create new version that are identical at both the country and continent level.\n",
    "\n",
    "\n",
    "\n",
    "## Procedure\n",
    "\n",
    "1. Read Admin-0 and Russia Admin-1 shapefiles of GADM28\n",
    "2. Collapse Russia into two areas (East and West based on continent definition that includes Europe and Asia)\n",
    "    * Isolate and collect admin-1 shapes in Russia that belong to Asian and European continents, respectively.\n",
    "    * Using these East- and West- shapes we can recreate a new Russia shape by recombining their geometries into 'new' russia shape.\n",
    "    * Remove the original Russia shapefile\n",
    "3. Add the new shapes to a modified version of the gadm28_countries shapefile (also dump un-needed attributes from the table) and export as a shapefile.\n",
    "    * Also we will need to address a bug with the shapefile at this level wherein South Sudan (and possibly more) countries are missing ISO codes. These should be added to the modified version of the file.\n",
    "4. Upload the exported shapefile to [MapShaper](http://mapshaper.org/) and simplify the polygons to the desired level, export the simplified data as a shapefile.\n",
    "5. Import the simplified data back to the notebook, add a column which defines the desired continent grouping of the country shape:\n",
    "    * Take care to **not assign 'new' Russia**, but to instead assign the east and west divisions you created of Russia to the appropriate continent category.\n",
    "    * There are also a couple of countries we have noted that you will also need possibly take extra care are correctly assigned, e.g. Cuba, Jamaica. \n",
    "6. Use the new column to dissolve the shapefile e.g. `continents = admin0_simplified_shapes.dissolve(by='continent_labels') `\n",
    "7. Write out both the simplified country shapes and the continent shapes to JSON files. Remove the custom created russian area shapes from the country files after writing, also add in the javascript variable syntax of the original files.\n",
    "\n",
    "\n",
    "### Resources\n",
    "\n",
    "* [GADM28 website](http://www.gadm.org/)\n",
    "* [GADM28 - Russia shapefile](http://www.gadm.org/download)\n",
    "* [Wilmap API (returns list of continent definitions with countries)](http://dev-wilmap.pantheonsite.io/api/map/browse)\n",
    "\n",
    "\n",
    "\n",
    "#### Notes\n",
    "1. What shapes should be in each file? We can answer this question using the Wilmap API link above:\n",
    "    * We have used these data to construct a dictionary to label the continents of each country shape.\n",
    "1. The attributes which should be on the shapes for each of the files: \n",
    "    * Country file:\n",
    "        'geometry' + name_engli, iso2, unregion2 (these attributes are directly from the original GAMD28 file)\n",
    "    * Continent file:\n",
    "        geometry + 'CONTINENT' {'Africa', 'Asia', 'Central America', 'Europe', 'North America',\n",
    "       'Oceania', 'South America'}\n",
    "2. Missing countries are present in the file with a `null` field as the geometry attribute.\n",
    "\n",
    "#### Further Bugs\n",
    "\n",
    "1. Caspian sea missing from map  and instead is highlighted as a country (fixed)\n",
    "2. Russia doesn't highlight on mouseover country name (fixed)\n",
    "3. Holes in some land borders (Mongolia-Russia, Turkmenistan-Russia) where reconstructed-Russia shape does not match original gadm28 country borders. This is likely due to a disparity in the level of structure detail in gadmn28_countries and russia admin0 shapefiles.\n",
    "4. Different levels of detail in Russia country shape vs the rest of the world. \n",
    "     * A possible future fix for 2./3. is to re-do the whole process but using the Russia geometry from gadmn28_countries instead of the Russia admin-0 file. \n",
    "\n",
    "\n",
    "\n",
    "\n",
    "## Read and deal with original data"
   ]
  },
  {
   "cell_type": "code",
   "execution_count": null,
   "metadata": {
    "collapsed": true
   },
   "outputs": [],
   "source": [
    "## Splitting Russia into Geographic Continents"
   ]
  },
  {
   "cell_type": "code",
   "execution_count": 2,
   "metadata": {
    "collapsed": false
   },
   "outputs": [],
   "source": [
    "#Import libs\n",
    "import geopandas as gpd\n",
    "import numpy as np\n",
    "from iso3166 import countries \n",
    "import matplotlib.pyplot as plt\n",
    "\n",
    "%matplotlib inline"
   ]
  },
  {
   "cell_type": "code",
   "execution_count": null,
   "metadata": {
    "collapsed": true
   },
   "outputs": [],
   "source": [
    "#Download Russia gadm28 shapefiles from http://www.gadm.org/download"
   ]
  },
  {
   "cell_type": "code",
   "execution_count": null,
   "metadata": {
    "collapsed": true
   },
   "outputs": [],
   "source": [
    "#After unzipping Admin1 map for Russia, read in file\n",
    "original_rus1 = gpd.read_file('./data/RUS_adm_shp/RUS_adm1.shp')"
   ]
  },
  {
   "cell_type": "code",
   "execution_count": null,
   "metadata": {
    "collapsed": false
   },
   "outputs": [],
   "source": [
    "#table for Russia at Admin 1 level. We are interested in geometry\n",
    "original_rus1.head()"
   ]
  },
  {
   "cell_type": "code",
   "execution_count": null,
   "metadata": {
    "collapsed": false
   },
   "outputs": [],
   "source": [
    "# Find unique fields in a column\n",
    "original_rus1['NAME_1'].unique()"
   ]
  },
  {
   "cell_type": "code",
   "execution_count": null,
   "metadata": {
    "collapsed": true
   },
   "outputs": [],
   "source": [
    "#Read in Asia-Europe Geographic Boarder\n",
    "#This was retreieved using the continents.js file and returning coordinates\n",
    "#that are common between both the Asia and Europe polygons\n",
    "\n",
    "eurasian_border = gpd.read_file('./data/eurasia.json')"
   ]
  },
  {
   "cell_type": "code",
   "execution_count": null,
   "metadata": {
    "collapsed": false
   },
   "outputs": [],
   "source": [
    "#Add buffer to border so that intersecting subregions can be identified\n",
    "\n",
    "eurasian_border.buffer(0.5).plot()"
   ]
  },
  {
   "cell_type": "code",
   "execution_count": null,
   "metadata": {
    "collapsed": true
   },
   "outputs": [],
   "source": [
    "#Retrieve polygons from Russian Subregions \n",
    "\n",
    "test = original_rus1.geometry.values[0]\n",
    "\n"
   ]
  },
  {
   "cell_type": "code",
   "execution_count": null,
   "metadata": {
    "collapsed": true
   },
   "outputs": [],
   "source": [
    "#Define function. If subregion intersects with border return true, else false\n",
    "\n",
    "def test_area(test):\n",
    "    if test.intersection(eurasian_border.geometry.values[0].buffer(0.5)):\n",
    "        return True\n",
    "    else:\n",
    "        return False"
   ]
  },
  {
   "cell_type": "code",
   "execution_count": null,
   "metadata": {
    "collapsed": true
   },
   "outputs": [],
   "source": [
    "#For all admin-1 subregions in russia, store those which intersect with the Asia-Europe boarder to test_area function\n",
    "\n",
    "intersects = []\n",
    "for area in original_rus1.geometry.values[0:]:\n",
    "    intersects.append(test_area(area))"
   ]
  },
  {
   "cell_type": "code",
   "execution_count": null,
   "metadata": {
    "collapsed": false
   },
   "outputs": [],
   "source": [
    "#Plot subregions which interect with border (in blue)\n",
    "\n",
    "fig, ax = plt.subplots(figsize=[20,20])\n",
    "ax.set_aspect('equal')\n",
    "\n",
    "original_rus1[intersects].plot(ax=ax)\n",
    "eurasian_border.buffer(0.5).plot(ax=ax, color='blue')\n",
    "plt.show()"
   ]
  },
  {
   "cell_type": "markdown",
   "metadata": {},
   "source": [
    "# Dividing Russia at admin-1 level\n",
    "\n",
    "Now we can loop through all russian admin-1 regions and separate into two groups: those belonging to Asia and Europe. The simplest way to do this is to inspect the centroid of each subregion.\n",
    "\n",
    "If the longitude of that centroid is greater than that of the western-most subregion in Asia (pale green region to the right of the border, seen above) then it must fall in asia. If not, then europe."
   ]
  },
  {
   "cell_type": "code",
   "execution_count": null,
   "metadata": {
    "collapsed": false
   },
   "outputs": [],
   "source": [
    "#List all admin-1 centroids, in descending order.\n",
    "#Here, using .xy to show the longitude of each centroids coordinate.\n",
    "#Since .xy returns a tuple of two arrays, .xy[0][0] gives longitude, .xy[1][0] give latitude\n",
    "\n",
    "centroids = original_rus1[intersects].geometry.centroid\n",
    "\n",
    "sorted([centroid.xy[0][0] for centroid in centroids if centroid.xy[0]], reverse=True)\n"
   ]
  },
  {
   "cell_type": "code",
   "execution_count": null,
   "metadata": {
    "collapsed": false
   },
   "outputs": [],
   "source": [
    "#Isolate the 4 subregions to the east of the borderline to define Asia's western edge\n",
    "#Find the 4 rows with the most easterly centroids\n",
    "# the lowest value of longitude is our minimum requirement for being in Asia (long>60 in this case)\n",
    "\n",
    "for centroid in centroids:\n",
    "    if centroid.xy[0][0] > 60:\n",
    "        print('True for', centroid.xy[0][0])\n",
    "        "
   ]
  },
  {
   "cell_type": "code",
   "execution_count": null,
   "metadata": {
    "collapsed": true
   },
   "outputs": [],
   "source": [
    "#Now we have a way of finding the dividing border we can create\n",
    "#an algorithm to produce an East-West Continental divide through Russia\n",
    "\n",
    "#First function identifes if a subregion interescts with the boarder region\n",
    "\n",
    "def intersecting_area(test):\n",
    "    if test.intersection(eurasian_border.geometry.values[0].buffer(0.5)):\n",
    "        return True\n",
    "    else:\n",
    "        return False\n",
    "\n",
    "#If this is True, those subregions with a centroid greater than 60deg return true\n",
    "# and false if less than 60deg\n",
    "\n",
    "def intersecting_in_east(test): \n",
    "    if test.centroid.xy[0][0] > 60:\n",
    "        return True\n",
    "    else:\n",
    "        return False\n",
    "    \n",
    "#Of those that do not intersect the boarder, return true if east of the boarder\n",
    "# (and in the eastern hemisphere!), otherwise return false\n",
    "\n",
    "def east(test):\n",
    "    if test.centroid.xy[0][0] > 0 and test.centroid.xy[0][0] < 60:\n",
    "        return False\n",
    "    else:\n",
    "        return True\n",
    "    \n"
   ]
  },
  {
   "cell_type": "code",
   "execution_count": null,
   "metadata": {
    "collapsed": true
   },
   "outputs": [],
   "source": [
    "#Create a continent list to assign subregions the continental definition East or West and apply algorithm\n",
    "\n",
    "continent_list = []\n",
    "\n",
    "for n in original_rus1.index:\n",
    "    tmp_geom = original_rus1.geometry[n]\n",
    "    #print(n, tmp_geom.centroid)\n",
    "    if intersecting_area(tmp_geom):\n",
    "        #print('in condition')\n",
    "        if intersecting_in_east(tmp_geom):\n",
    "            continent_list.append('Asia')\n",
    "        else:\n",
    "            continent_list.append('Europe')\n",
    "    else:\n",
    "        if east(tmp_geom):\n",
    "            continent_list.append('Asia')\n",
    "        else:\n",
    "            continent_list.append('Europe')\n",
    "\n",
    "    \n"
   ]
  },
  {
   "cell_type": "code",
   "execution_count": null,
   "metadata": {
    "collapsed": false
   },
   "outputs": [],
   "source": [
    "#Check length of lists to make sure it matches original \n",
    "len(continent_list), len(original_rus1)"
   ]
  },
  {
   "cell_type": "code",
   "execution_count": null,
   "metadata": {
    "collapsed": true
   },
   "outputs": [],
   "source": [
    "#Append 'Continent' definition list as a new column in the original Russia .shp data\n",
    "original_rus1['Continent'] = continent_list"
   ]
  },
  {
   "cell_type": "code",
   "execution_count": null,
   "metadata": {
    "collapsed": false
   },
   "outputs": [],
   "source": [
    "# joining shapes based on an attribute column - can make this a country shape thing\n",
    "split_russia = original_rus1.dissolve(by='Continent')\n",
    "split_russia.head()"
   ]
  },
  {
   "cell_type": "code",
   "execution_count": null,
   "metadata": {
    "collapsed": false
   },
   "outputs": [],
   "source": [
    "#Check continental split! Red = Europe, Blue = Asia\n",
    "split_russia.plot(figsize=(20,20))"
   ]
  },
  {
   "cell_type": "code",
   "execution_count": null,
   "metadata": {
    "collapsed": true
   },
   "outputs": [],
   "source": [
    "#Get other countries from GADM28 countries shapefile and add split_russia"
   ]
  },
  {
   "cell_type": "code",
   "execution_count": null,
   "metadata": {
    "collapsed": false
   },
   "outputs": [],
   "source": [
    "# You will need to uncompress the countries shapefile first\n",
    "\n",
    "!ls ./data/gadm28_countries.zip"
   ]
  },
  {
   "cell_type": "code",
   "execution_count": null,
   "metadata": {
    "collapsed": false
   },
   "outputs": [],
   "source": [
    "original_gadm28 = gpd.read_file('./data/gadm28_countries/gadm28_countries.shp')"
   ]
  },
  {
   "cell_type": "code",
   "execution_count": null,
   "metadata": {
    "collapsed": false,
    "scrolled": false
   },
   "outputs": [],
   "source": [
    "#Check to see that we have the data needed for each country\n",
    "\n",
    "original_gadm28.head()"
   ]
  },
  {
   "cell_type": "code",
   "execution_count": null,
   "metadata": {
    "collapsed": false
   },
   "outputs": [],
   "source": [
    "#Find Russia's Details\n",
    "ru_mask = original_gadm28['iso2'] == 'RU'\n",
    "original_gadm28[ru_mask]"
   ]
  },
  {
   "cell_type": "code",
   "execution_count": null,
   "metadata": {
    "collapsed": false
   },
   "outputs": [],
   "source": [
    "#Check to see if admin0 and admin1 shapes match with gadam28 shapes\n",
    "\n",
    "ru_mask = original_gadm28['iso2'] == 'RU'\n",
    "original_gadm28[ru_mask].geometry\n",
    "\n",
    "fig, ax = plt.subplots(figsize=[20,20])\n",
    "ax.set_aspect('equal')\n",
    "\n",
    "original_gadm28[ru_mask].geometry.plot(ax=ax)\n",
    "split_russia.plot(ax=ax, color='blue', alpha = 0.3)\n",
    "plt.xlim(30,100)\n",
    "plt.show()"
   ]
  },
  {
   "cell_type": "code",
   "execution_count": null,
   "metadata": {
    "collapsed": true
   },
   "outputs": [],
   "source": [
    "#Split_Russia shapes need to be added back. \n",
    "#Note that they require the same keys as the other countries.\n",
    "\n",
    "tmp_data=[['Asia',split_russia.geometry.values[0],None,'XE',None],\n",
    "          ['Europe',split_russia.geometry.values[1],None,'XW',None]]\n",
    "\n",
    "cnames=['unregion2','geometry','name_engli','iso2','unregion1']\n",
    "\n",
    "new_russia = gpd.GeoDataFrame(tmp_data, columns=cnames)"
   ]
  },
  {
   "cell_type": "code",
   "execution_count": null,
   "metadata": {
    "collapsed": false
   },
   "outputs": [],
   "source": [
    "#Append New Russia shapes to existing countries\n",
    "\n",
    "new_countries = original_gadm28[[\"name_engli\",\"iso2\",\"unregion2\",'unregion1', 'geometry']].append(new_russia)\n",
    "new_countries.tail()"
   ]
  },
  {
   "cell_type": "code",
   "execution_count": null,
   "metadata": {
    "collapsed": false
   },
   "outputs": [],
   "source": [
    "#remove Original Russia Shape from gadm28 countries (we dont need it twice!)\n",
    "russia_mask = original_gadm28['iso'] != 'RUS'\n",
    "original_gadm28 = original_gadm28[russia_mask]"
   ]
  },
  {
   "cell_type": "code",
   "execution_count": null,
   "metadata": {
    "collapsed": true
   },
   "outputs": [],
   "source": [
    "#Rename iso2 for South Sudan, Kosovo, Northern Cyprus\n",
    "\n",
    "mask_ss = new_countries['name_engli'] == 'South Sudan'\n",
    "new_countries[mask_ss]\n",
    "\n",
    "new_countries['iso2'][155] = 'SS' "
   ]
  },
  {
   "cell_type": "code",
   "execution_count": null,
   "metadata": {
    "collapsed": true
   },
   "outputs": [],
   "source": [
    "mask_ss = new_countries['name_engli'] == 'Northern Cyprus'\n",
    "new_countries[mask_ss]\n",
    "\n",
    "new_countries['iso2'][68] = 'XC' \n"
   ]
  },
  {
   "cell_type": "code",
   "execution_count": null,
   "metadata": {
    "collapsed": true
   },
   "outputs": [],
   "source": [
    "mask_ss = new_countries['name_engli'] == 'Kosovo'\n",
    "new_countries[mask_ss]\n",
    "\n",
    "new_countries['iso2'][206] = 'XK' "
   ]
  },
  {
   "cell_type": "code",
   "execution_count": null,
   "metadata": {
    "collapsed": false
   },
   "outputs": [],
   "source": [
    "#remove caspian... its not a country!\n",
    "caspian_mask = new_countries['name_engli'] != 'Caspian Sea'\n",
    "new_countries = new_countries[caspian_mask]"
   ]
  },
  {
   "cell_type": "code",
   "execution_count": null,
   "metadata": {
    "collapsed": true
   },
   "outputs": [],
   "source": [
    "#Make new directory and save new countryfile that includes Split Russia shapes (XE,XW)"
   ]
  },
  {
   "cell_type": "code",
   "execution_count": null,
   "metadata": {
    "collapsed": true
   },
   "outputs": [],
   "source": [
    "!mkdir ./data/new_countries"
   ]
  },
  {
   "cell_type": "code",
   "execution_count": null,
   "metadata": {
    "collapsed": true
   },
   "outputs": [],
   "source": [
    "new_countries.to_file(driver = 'ESRI Shapefile', filename = './data/new_countries/new_countries.shp')"
   ]
  },
  {
   "cell_type": "code",
   "execution_count": null,
   "metadata": {
    "collapsed": true
   },
   "outputs": [],
   "source": [
    "#Upload to mapshaper and downscale together: weighted area/66%"
   ]
  },
  {
   "cell_type": "markdown",
   "metadata": {},
   "source": [
    "# Mapshaper Reduced resolution Data After This Section\n",
    "\n",
    "\n",
    "## Country file\n",
    "\n",
    "Output js file with only countries of interest \n",
    "\n",
    "Country file: 'geometry', name_engli, iso2, unregion2 (these attributes are directly from the original GAM"
   ]
  },
  {
   "cell_type": "code",
   "execution_count": 3,
   "metadata": {
    "collapsed": false
   },
   "outputs": [],
   "source": [
    "#Read in simplified countries\n",
    "df_countries = gpd.read_file(\"./data/new_simplified_countries/new_simplified_countries.shp\")"
   ]
  },
  {
   "cell_type": "code",
   "execution_count": 4,
   "metadata": {
    "collapsed": false
   },
   "outputs": [
    {
     "data": {
      "text/html": [
       "<div>\n",
       "<table border=\"1\" class=\"dataframe\">\n",
       "  <thead>\n",
       "    <tr style=\"text-align: right;\">\n",
       "      <th></th>\n",
       "      <th>geometry</th>\n",
       "      <th>iso2</th>\n",
       "      <th>name_engli</th>\n",
       "      <th>unregion1</th>\n",
       "      <th>unregion2</th>\n",
       "    </tr>\n",
       "  </thead>\n",
       "  <tbody>\n",
       "    <tr>\n",
       "      <th>0</th>\n",
       "      <td>(POLYGON ((15.72968769073498 68.97135162353516...</td>\n",
       "      <td>NO</td>\n",
       "      <td>Norway</td>\n",
       "      <td>Northern Europe</td>\n",
       "      <td>Europe</td>\n",
       "    </tr>\n",
       "    <tr>\n",
       "      <th>1</th>\n",
       "      <td>None</td>\n",
       "      <td>TK</td>\n",
       "      <td>Tokelau</td>\n",
       "      <td>Polynesia</td>\n",
       "      <td>Oceania</td>\n",
       "    </tr>\n",
       "    <tr>\n",
       "      <th>2</th>\n",
       "      <td>POLYGON ((100.0867691040041 20.35089111328153,...</td>\n",
       "      <td>TH</td>\n",
       "      <td>Thailand</td>\n",
       "      <td>South-Eastern Asia</td>\n",
       "      <td>Asia</td>\n",
       "    </tr>\n",
       "    <tr>\n",
       "      <th>3</th>\n",
       "      <td>POLYGON ((-59.98764038085931 8.53045463562006,...</td>\n",
       "      <td>VE</td>\n",
       "      <td>Venezuela</td>\n",
       "      <td>South America</td>\n",
       "      <td>Americas</td>\n",
       "    </tr>\n",
       "    <tr>\n",
       "      <th>4</th>\n",
       "      <td>POLYGON ((13.6345472335816 13.71068859100347, ...</td>\n",
       "      <td>NG</td>\n",
       "      <td>Nigeria</td>\n",
       "      <td>Western Africa</td>\n",
       "      <td>Africa</td>\n",
       "    </tr>\n",
       "  </tbody>\n",
       "</table>\n",
       "</div>"
      ],
      "text/plain": [
       "                                            geometry iso2 name_engli  \\\n",
       "0  (POLYGON ((15.72968769073498 68.97135162353516...   NO     Norway   \n",
       "1                                               None   TK    Tokelau   \n",
       "2  POLYGON ((100.0867691040041 20.35089111328153,...   TH   Thailand   \n",
       "3  POLYGON ((-59.98764038085931 8.53045463562006,...   VE  Venezuela   \n",
       "4  POLYGON ((13.6345472335816 13.71068859100347, ...   NG    Nigeria   \n",
       "\n",
       "            unregion1 unregion2  \n",
       "0     Northern Europe    Europe  \n",
       "1           Polynesia   Oceania  \n",
       "2  South-Eastern Asia      Asia  \n",
       "3       South America  Americas  \n",
       "4      Western Africa    Africa  "
      ]
     },
     "execution_count": 4,
     "metadata": {},
     "output_type": "execute_result"
    }
   ],
   "source": [
    "#Check contents\n",
    "df_countries.head()"
   ]
  },
  {
   "cell_type": "code",
   "execution_count": 5,
   "metadata": {
    "collapsed": true
   },
   "outputs": [],
   "source": [
    "#Combine XE and XW into RU"
   ]
  },
  {
   "cell_type": "code",
   "execution_count": 6,
   "metadata": {
    "collapsed": false
   },
   "outputs": [
    {
     "name": "stderr",
     "output_type": "stream",
     "text": [
      "/opt/conda/lib/python3.5/site-packages/ipykernel/__main__.py:2: SettingWithCopyWarning: \n",
      "A value is trying to be set on a copy of a slice from a DataFrame.\n",
      "Try using .loc[row_indexer,col_indexer] = value instead\n",
      "\n",
      "See the caveats in the documentation: http://pandas.pydata.org/pandas-docs/stable/indexing.html#indexing-view-versus-copy\n",
      "  from ipykernel import kernelapp as app\n"
     ]
    }
   ],
   "source": [
    "#Crate new dataframe containing only east- and west-russia\n",
    "tmp_ew = df_countries[-2:]\n",
    "tmp_ew['GROUP'] = [1,1]"
   ]
  },
  {
   "cell_type": "code",
   "execution_count": 7,
   "metadata": {
    "collapsed": false
   },
   "outputs": [
    {
     "data": {
      "text/html": [
       "<div>\n",
       "<table border=\"1\" class=\"dataframe\">\n",
       "  <thead>\n",
       "    <tr style=\"text-align: right;\">\n",
       "      <th></th>\n",
       "      <th>geometry</th>\n",
       "      <th>iso2</th>\n",
       "      <th>name_engli</th>\n",
       "      <th>unregion1</th>\n",
       "      <th>unregion2</th>\n",
       "      <th>GROUP</th>\n",
       "    </tr>\n",
       "  </thead>\n",
       "  <tbody>\n",
       "    <tr>\n",
       "      <th>254</th>\n",
       "      <td>(POLYGON ((142.7081604003906 54.42454910278326...</td>\n",
       "      <td>XE</td>\n",
       "      <td>None</td>\n",
       "      <td>None</td>\n",
       "      <td>Asia</td>\n",
       "      <td>1</td>\n",
       "    </tr>\n",
       "    <tr>\n",
       "      <th>255</th>\n",
       "      <td>(POLYGON ((22.76914024353056 54.37712860107422...</td>\n",
       "      <td>XW</td>\n",
       "      <td>None</td>\n",
       "      <td>None</td>\n",
       "      <td>Europe</td>\n",
       "      <td>1</td>\n",
       "    </tr>\n",
       "  </tbody>\n",
       "</table>\n",
       "</div>"
      ],
      "text/plain": [
       "                                              geometry iso2 name_engli  \\\n",
       "254  (POLYGON ((142.7081604003906 54.42454910278326...   XE       None   \n",
       "255  (POLYGON ((22.76914024353056 54.37712860107422...   XW       None   \n",
       "\n",
       "    unregion1 unregion2  GROUP  \n",
       "254      None      Asia      1  \n",
       "255      None    Europe      1  "
      ]
     },
     "execution_count": 7,
     "metadata": {},
     "output_type": "execute_result"
    }
   ],
   "source": [
    "tmp_ew"
   ]
  },
  {
   "cell_type": "code",
   "execution_count": 8,
   "metadata": {
    "collapsed": false
   },
   "outputs": [
    {
     "data": {
      "text/html": [
       "<div>\n",
       "<table border=\"1\" class=\"dataframe\">\n",
       "  <thead>\n",
       "    <tr style=\"text-align: right;\">\n",
       "      <th></th>\n",
       "      <th>geometry</th>\n",
       "      <th>iso2</th>\n",
       "      <th>name_engli</th>\n",
       "      <th>unregion1</th>\n",
       "      <th>unregion2</th>\n",
       "    </tr>\n",
       "    <tr>\n",
       "      <th>GROUP</th>\n",
       "      <th></th>\n",
       "      <th></th>\n",
       "      <th></th>\n",
       "      <th></th>\n",
       "      <th></th>\n",
       "    </tr>\n",
       "  </thead>\n",
       "  <tbody>\n",
       "    <tr>\n",
       "      <th>1</th>\n",
       "      <td>(POLYGON ((164.5908355712893 59.23646545410156...</td>\n",
       "      <td>XE</td>\n",
       "      <td>None</td>\n",
       "      <td>None</td>\n",
       "      <td>Asia</td>\n",
       "    </tr>\n",
       "  </tbody>\n",
       "</table>\n",
       "</div>"
      ],
      "text/plain": [
       "                                                geometry iso2 name_engli  \\\n",
       "GROUP                                                                      \n",
       "1      (POLYGON ((164.5908355712893 59.23646545410156...   XE       None   \n",
       "\n",
       "      unregion1 unregion2  \n",
       "GROUP                      \n",
       "1          None      Asia  "
      ]
     },
     "execution_count": 8,
     "metadata": {},
     "output_type": "execute_result"
    }
   ],
   "source": [
    "#Create new Russia country shape by dissolving over common attribute 'GROUP' and check\n",
    "rus = tmp_ew.dissolve(by='GROUP')  \n",
    "rus"
   ]
  },
  {
   "cell_type": "code",
   "execution_count": 9,
   "metadata": {
    "collapsed": false
   },
   "outputs": [
    {
     "data": {
      "text/html": [
       "<div>\n",
       "<table border=\"1\" class=\"dataframe\">\n",
       "  <thead>\n",
       "    <tr style=\"text-align: right;\">\n",
       "      <th></th>\n",
       "      <th>geometry</th>\n",
       "      <th>iso2</th>\n",
       "      <th>name_engli</th>\n",
       "      <th>unregion2</th>\n",
       "    </tr>\n",
       "  </thead>\n",
       "  <tbody>\n",
       "    <tr>\n",
       "      <th>0</th>\n",
       "      <td>(POLYGON ((164.5908355712893 59.23646545410156...</td>\n",
       "      <td>RU</td>\n",
       "      <td>Russia</td>\n",
       "      <td>Europe</td>\n",
       "    </tr>\n",
       "  </tbody>\n",
       "</table>\n",
       "</div>"
      ],
      "text/plain": [
       "                                            geometry iso2 name_engli unregion2\n",
       "0  (POLYGON ((164.5908355712893 59.23646545410156...   RU     Russia    Europe"
      ]
     },
     "execution_count": 9,
     "metadata": {},
     "output_type": "execute_result"
    }
   ],
   "source": [
    "#Create a new dataframe that is compatible with the other countries\n",
    "\n",
    "russia = gpd.GeoDataFrame([[rus.geometry.values[0],'RU', 'Russia', 'Europe']],\n",
    "                          columns=['geometry','iso2', 'name_engli','unregion2'])\n",
    "russia"
   ]
  },
  {
   "cell_type": "code",
   "execution_count": null,
   "metadata": {
    "collapsed": true
   },
   "outputs": [],
   "source": [
    "#Drop unnecessary attribute column in df_countries\n",
    "df_countries = df_countries.drop(['unregion1'], axis=1)"
   ]
  },
  {
   "cell_type": "code",
   "execution_count": 10,
   "metadata": {
    "collapsed": false
   },
   "outputs": [],
   "source": [
    "#Drop East and West Russia from df_countries\n",
    "mask_ss = [iso not in ['XE','XW'] for iso in df_countries['iso2'] ]\n",
    "df_coun = df_countries[mask_ss]"
   ]
  },
  {
   "cell_type": "code",
   "execution_count": 11,
   "metadata": {
    "collapsed": false
   },
   "outputs": [
    {
     "name": "stdout",
     "output_type": "stream",
     "text": [
      "254\n"
     ]
    },
    {
     "data": {
      "text/html": [
       "<div>\n",
       "<table border=\"1\" class=\"dataframe\">\n",
       "  <thead>\n",
       "    <tr style=\"text-align: right;\">\n",
       "      <th></th>\n",
       "      <th>geometry</th>\n",
       "      <th>iso2</th>\n",
       "      <th>name_engli</th>\n",
       "      <th>unregion2</th>\n",
       "    </tr>\n",
       "  </thead>\n",
       "  <tbody>\n",
       "    <tr>\n",
       "      <th>249</th>\n",
       "      <td>POLYGON ((16.58431243896484 46.47904968261724,...</td>\n",
       "      <td>SI</td>\n",
       "      <td>Slovenia</td>\n",
       "      <td>Europe</td>\n",
       "    </tr>\n",
       "    <tr>\n",
       "      <th>250</th>\n",
       "      <td>(POLYGON ((161.348617553711 -10.19083213806141...</td>\n",
       "      <td>SB</td>\n",
       "      <td>Solomon Islands</td>\n",
       "      <td>Oceania</td>\n",
       "    </tr>\n",
       "    <tr>\n",
       "      <th>251</th>\n",
       "      <td>POLYGON ((31.30727577209478 -22.42027664184553...</td>\n",
       "      <td>ZA</td>\n",
       "      <td>South Africa</td>\n",
       "      <td>Africa</td>\n",
       "    </tr>\n",
       "    <tr>\n",
       "      <th>252</th>\n",
       "      <td>(POLYGON ((124.476043701172 -9.174028396606216...</td>\n",
       "      <td>TL</td>\n",
       "      <td>East Timor</td>\n",
       "      <td>Asia</td>\n",
       "    </tr>\n",
       "    <tr>\n",
       "      <th>253</th>\n",
       "      <td>POLYGON ((32.95349884033232 -9.401408195495492...</td>\n",
       "      <td>ZM</td>\n",
       "      <td>Zambia</td>\n",
       "      <td>Africa</td>\n",
       "    </tr>\n",
       "  </tbody>\n",
       "</table>\n",
       "</div>"
      ],
      "text/plain": [
       "                                              geometry iso2       name_engli  \\\n",
       "249  POLYGON ((16.58431243896484 46.47904968261724,...   SI         Slovenia   \n",
       "250  (POLYGON ((161.348617553711 -10.19083213806141...   SB  Solomon Islands   \n",
       "251  POLYGON ((31.30727577209478 -22.42027664184553...   ZA     South Africa   \n",
       "252  (POLYGON ((124.476043701172 -9.174028396606216...   TL       East Timor   \n",
       "253  POLYGON ((32.95349884033232 -9.401408195495492...   ZM           Zambia   \n",
       "\n",
       "    unregion2  \n",
       "249    Europe  \n",
       "250   Oceania  \n",
       "251    Africa  \n",
       "252      Asia  \n",
       "253    Africa  "
      ]
     },
     "execution_count": 11,
     "metadata": {},
     "output_type": "execute_result"
    }
   ],
   "source": [
    "#Check they're removed\n",
    "print(len(df_coun))\n",
    "df_coun.tail()"
   ]
  },
  {
   "cell_type": "code",
   "execution_count": 12,
   "metadata": {
    "collapsed": false
   },
   "outputs": [
    {
     "name": "stdout",
     "output_type": "stream",
     "text": [
      "255\n"
     ]
    },
    {
     "data": {
      "text/html": [
       "<div>\n",
       "<table border=\"1\" class=\"dataframe\">\n",
       "  <thead>\n",
       "    <tr style=\"text-align: right;\">\n",
       "      <th></th>\n",
       "      <th>geometry</th>\n",
       "      <th>iso2</th>\n",
       "      <th>name_engli</th>\n",
       "      <th>unregion2</th>\n",
       "    </tr>\n",
       "  </thead>\n",
       "  <tbody>\n",
       "    <tr>\n",
       "      <th>250</th>\n",
       "      <td>(POLYGON ((161.348617553711 -10.19083213806141...</td>\n",
       "      <td>SB</td>\n",
       "      <td>Solomon Islands</td>\n",
       "      <td>Oceania</td>\n",
       "    </tr>\n",
       "    <tr>\n",
       "      <th>251</th>\n",
       "      <td>POLYGON ((31.30727577209478 -22.42027664184553...</td>\n",
       "      <td>ZA</td>\n",
       "      <td>South Africa</td>\n",
       "      <td>Africa</td>\n",
       "    </tr>\n",
       "    <tr>\n",
       "      <th>252</th>\n",
       "      <td>(POLYGON ((124.476043701172 -9.174028396606216...</td>\n",
       "      <td>TL</td>\n",
       "      <td>East Timor</td>\n",
       "      <td>Asia</td>\n",
       "    </tr>\n",
       "    <tr>\n",
       "      <th>253</th>\n",
       "      <td>POLYGON ((32.95349884033232 -9.401408195495492...</td>\n",
       "      <td>ZM</td>\n",
       "      <td>Zambia</td>\n",
       "      <td>Africa</td>\n",
       "    </tr>\n",
       "    <tr>\n",
       "      <th>254</th>\n",
       "      <td>(POLYGON ((164.5908355712893 59.23646545410156...</td>\n",
       "      <td>RU</td>\n",
       "      <td>Russia</td>\n",
       "      <td>Europe</td>\n",
       "    </tr>\n",
       "  </tbody>\n",
       "</table>\n",
       "</div>"
      ],
      "text/plain": [
       "                                              geometry iso2       name_engli  \\\n",
       "250  (POLYGON ((161.348617553711 -10.19083213806141...   SB  Solomon Islands   \n",
       "251  POLYGON ((31.30727577209478 -22.42027664184553...   ZA     South Africa   \n",
       "252  (POLYGON ((124.476043701172 -9.174028396606216...   TL       East Timor   \n",
       "253  POLYGON ((32.95349884033232 -9.401408195495492...   ZM           Zambia   \n",
       "254  (POLYGON ((164.5908355712893 59.23646545410156...   RU           Russia   \n",
       "\n",
       "    unregion2  \n",
       "250   Oceania  \n",
       "251    Africa  \n",
       "252      Asia  \n",
       "253    Africa  \n",
       "254    Europe  "
      ]
     },
     "execution_count": 12,
     "metadata": {},
     "output_type": "execute_result"
    }
   ],
   "source": [
    "#Now replace Eat- and West-Russia with teh unified Russia\n",
    "df_coun = df_coun.append(russia, ignore_index=True)\n",
    "\n",
    "print(len(df_coun))\n",
    "\n",
    "df_coun.tail()"
   ]
  },
  {
   "cell_type": "code",
   "execution_count": 14,
   "metadata": {
    "collapsed": false
   },
   "outputs": [
    {
     "name": "stdout",
     "output_type": "stream",
     "text": [
      "None Clipperton Island\n",
      "None Paracel Islands\n",
      "None Saint-Martin\n",
      "None Spratly islands\n",
      "None Akrotiri and Dhekelia\n",
      "None Sint Maarten\n",
      "None Saint-Barthélemy\n",
      "None Curaçao\n"
     ]
    }
   ],
   "source": [
    "iso_present = []\n",
    "for n, iso in enumerate(df_coun['iso2']):\n",
    "    if iso == None:\n",
    "        print(df_coun['iso2'][n], df_coun['name_engli'][n])\n",
    "        iso_present.append(False)\n",
    "    else:\n",
    "        iso_present.append(True)\n",
    "\n",
    "# remove all rows without isos at this point"
   ]
  },
  {
   "cell_type": "code",
   "execution_count": 15,
   "metadata": {
    "collapsed": false
   },
   "outputs": [
    {
     "data": {
      "text/plain": [
       "247"
      ]
     },
     "execution_count": 15,
     "metadata": {},
     "output_type": "execute_result"
    }
   ],
   "source": [
    "df_coun = df_coun[iso_present]\n",
    "len(df_coun)"
   ]
  },
  {
   "cell_type": "code",
   "execution_count": 16,
   "metadata": {
    "collapsed": false
   },
   "outputs": [
    {
     "data": {
      "text/plain": [
       "array(['NO', 'TK', 'TH', 'VE', 'NG', 'AR', 'EH', 'NP', 'BR', 'FI', 'MC',\n",
       "       'ID', 'US', 'PG', 'AU', 'MY', 'CC', 'MX', 'CL', 'BD', 'SE', 'WF',\n",
       "       'CH', 'NF', 'BB', 'CA', 'IR', 'KR', 'LI', 'VN', 'CN', 'JP', 'NL',\n",
       "       'AD', 'PM', 'CD', 'DM', 'KN', 'IM', 'CU', 'TR', 'IN', 'GI', 'IT',\n",
       "       'GR', 'AI', 'AQ', 'SJ', 'MM', 'SM', 'IO', 'PH', 'VA', 'TN', 'GW',\n",
       "       'GU', 'HM', 'ZW', 'CX', 'MA', 'GF', 'PT', 'MD', 'XC', 'AE', 'YT',\n",
       "       'BV', 'NU', 'PK', 'AW', 'TZ', 'SA', 'GL', 'SC', 'LT', 'BO', 'SL',\n",
       "       'SV', 'GD', 'JE', 'TV', 'TO', 'EE', 'DK', 'LA', 'SR', 'CM', 'GG',\n",
       "       'FK', 'BG', 'KP', 'KH', 'SO', 'TG', 'MU', 'NE', 'SY', 'PL', 'NA',\n",
       "       'GS', 'BF', 'IQ', 'DJ', 'RO', 'AM', 'PS', 'GE', 'TT', 'LC', 'DZ',\n",
       "       'PR', 'LR', 'CG', 'RS', 'RE', 'BY', 'GQ', 'CF', 'AZ', 'KW', 'MW',\n",
       "       'AS', 'NR', 'AT', 'TC', 'JM', 'UG', 'TD', 'AN', 'AO', 'BZ', 'KY',\n",
       "       'AG', 'VC', 'UM', 'KG', 'LV', 'KE', 'HN', 'ER', 'MO', 'AF', 'LK',\n",
       "       'BH', 'BA', 'SS', 'GH', 'QA', 'BM', 'BW', 'HT', 'CR', 'SD', 'DO',\n",
       "       'KZ', 'EC', 'BJ', 'EG', 'NI', 'CV', 'GN', 'SN', 'AX', 'AL', 'GY',\n",
       "       'PY', 'VG', 'SK', 'BN', 'SZ', 'BI', 'FO', 'CZ', 'KM', 'CK', 'CI',\n",
       "       'CY', 'GM', 'PN', 'HR', 'SH', 'MT', 'MG', 'PE', 'MZ', 'IL', 'MS',\n",
       "       'CO', 'ET', 'TF', 'GA', 'OM', 'VI', 'DE', 'LU', 'MN', 'XK', 'TJ',\n",
       "       'GP', 'TM', 'BE', 'BT', 'ML', 'UZ', 'UA', 'FR', 'PF', 'GT', 'ME',\n",
       "       'HK', 'HU', 'IS', 'IE', 'BS', 'FJ', 'LB', 'JO', 'KI', 'GB', 'FM',\n",
       "       'UY', 'MK', 'LS', 'LY', 'MV', 'MH', 'MQ', 'MR', 'NC', 'NZ', 'PW',\n",
       "       'PA', 'VU', 'MP', 'YE', 'RW', 'WS', 'ST', 'TW', 'SG', 'ES', 'SI',\n",
       "       'SB', 'ZA', 'TL', 'ZM', 'RU'], dtype=object)"
      ]
     },
     "execution_count": 16,
     "metadata": {},
     "output_type": "execute_result"
    }
   ],
   "source": [
    "df_coun['iso2'].unique()  # check no 'none' values remain. NOte RU for russia is added, and XW/XE removed"
   ]
  },
  {
   "cell_type": "code",
   "execution_count": 17,
   "metadata": {
    "collapsed": false
   },
   "outputs": [],
   "source": [
    "# write out js file here\n",
    "countries_json = df_coun.to_json()\n",
    "\n",
    "with open('./data/gadm28_countries.js','w') as f:\n",
    "    f.write('var geoCountries = ')\n",
    "    f.write(countries_json)"
   ]
  },
  {
   "cell_type": "code",
   "execution_count": 18,
   "metadata": {
    "collapsed": false
   },
   "outputs": [
    {
     "name": "stdout",
     "output_type": "stream",
     "text": [
      "-rw-r--r-- 1 jovyan jovyan 584K Oct 20 12:07 ./data/gadm28_countries.js\r\n"
     ]
    }
   ],
   "source": [
    "!ls ./data/gadm28_countries.js -lh"
   ]
  },
  {
   "cell_type": "markdown",
   "metadata": {},
   "source": [
    "## Generate Continent file\n"
   ]
  },
  {
   "cell_type": "code",
   "execution_count": 19,
   "metadata": {
    "collapsed": true
   },
   "outputs": [],
   "source": [
    "#Again, read in simplified country shapes\n",
    "df_countries = gpd.read_file(\"./data/new_simplified_countries/new_simplified_countries.shp\")"
   ]
  },
  {
   "cell_type": "code",
   "execution_count": 20,
   "metadata": {
    "collapsed": false
   },
   "outputs": [
    {
     "data": {
      "text/plain": [
       "(Country(name='Puerto Rico', alpha2='PR', alpha3='PRI', numeric='630', apolitical_name='Puerto Rico'),\n",
       " Country(name='Cuba', alpha2='CU', alpha3='CUB', numeric='192', apolitical_name='Cuba'),\n",
       " Country(name='Jamaica', alpha2='JM', alpha3='JAM', numeric='388', apolitical_name='Jamaica'),\n",
       " Country(name='Bahamas', alpha2='BS', alpha3='BHS', numeric='044', apolitical_name='Bahamas'),\n",
       " Country(name='Haiti', alpha2='HT', alpha3='HTI', numeric='332', apolitical_name='Haiti'),\n",
       " Country(name='Dominican Republic', alpha2='DO', alpha3='DOM', numeric='214', apolitical_name='Dominican Republic'),\n",
       " Country(name='Trinidad and Tobago', alpha2='TT', alpha3='TTO', numeric='780', apolitical_name='Trinidad and Tobago'))"
      ]
     },
     "execution_count": 20,
     "metadata": {},
     "output_type": "execute_result"
    }
   ],
   "source": [
    "#Add the following carribean countries visible on map to Central American Continent\n",
    "countries.get('Puerto Rico'), countries.get('Cuba'), countries.get('Jamaica'), countries.get('Bahamas'), countries.get('Haiti'), countries.get('Dominican Republic'), countries.get('Trinidad and Tobago')"
   ]
  },
  {
   "cell_type": "code",
   "execution_count": 21,
   "metadata": {
    "collapsed": true
   },
   "outputs": [],
   "source": [
    "#Create list iso2 codes\n",
    "\n",
    "C_to_c = {\"Africa\": [\"DZ\",\"AO\",\"BJ\",\"BW\",\"BF\",\"BI\",\"CM\",\"CV\",\"CF\",\"TD\",\"KM\",\"CD\",\"DJ\",\"GQ\",\"EG\",\"ER\",\"ET\",\n",
    "            \"GA\",\"GM\",\"GH\",\"GN\",\"GW\",\"CI\",\"KE\",\"LS\",\"LR\",\"LY\",\"MG\",\"MW\",\"ML\",\"MR\",\"MU\",\"YT\",\n",
    "            \"MA\",\"MZ\",\"NA\",\"NE\",\"NG\",\"CG\",\"RE\",\"RW\",\n",
    "            \"SH\",\"ST\",\"SN\",\"SC\",\"SL\",\"SO\",\"ZA\",\"SS\",\"SD\",\"SZ\",\"TZ\",\"TG\",\"TN\",\"UG\",\"EH\",\"ZM\",\"ZW\"],\n",
    " \"Asia\": [\"AF\",\"AM\",\"AZ\",\"BH\",\"BD\",\"BT\",\"IO\",\"BN\",\"KH\",\"CN\",\"CX\",\"CC\",\"CY\",\"TL\",\"GE\",\n",
    "          \"HK\",\"IN\",\"ID\",\"IR\",\"IQ\",\"IL\",\"JP\",\"JO\",\"KZ\",\"KW\",\"KG\",\"LA\",\"LB\",\"MO\",\"MY\",\"MV\",\n",
    "          \"MN\",\"MM\",\"NP\",\"KP\",\"OM\",\"PK\",\"PS\",\"PH\",\"QA\",\"SA\",\"SG\",\"KR\",\"LK\",\"SY\",\"TW\",\"TJ\",\"TH\",\n",
    "          \"TR\",\"TM\",\"AE\",\"UZ\",\"VN\",\"YE\",\"XE\",\"XC\"],\n",
    "\"Central America\": [\"BZ\",\"CR\",\"SV\",\"GT\",\"HN\",\"NI\",\"PA\",\"PR\",\"CU\",\"JM\",\"BS\",\"HT\",\"DO\",\"TT\"],\n",
    "\"Europe\": [\"AL\",\"AD\",\"AT\",\"BY\",\"BE\",\"BA\",\"BG\",\"XX\",\"HR\",\"CZ\",\"DK\",\"EE\",\"FO\",\"FI\",\"FR\",\"DE\",\n",
    "             \"GI\",\"GR\",\"HU\",\"IS\",\"IE\",\"IT\",\"XK\",\"LV\",\"LI\",\"LT\",\"LU\",\"MK\",\"MT\",\"MD\",\"MC\",\"ME\",\"NL\",\"NO\",\n",
    "             \"PL\",\"PT\",\"RO\",\"SM\",\"RS\",\"SK\",\"SI\",\"ES\",\"SJ\",\"SE\",\"CH\",\"UA\",\"GB\",\"VA\",\"XW\",\"XK\"],\n",
    "\"North America\": [\"BM\",\"CA\",\"GL\",\"MX\",\"PM\",\"US\"],\n",
    "\"Oceania\": [\"AS\",\"AU\",\"CK\",\"FJ\",\"PF\",\"GU\",\"KI\",\"MH\",\"FM\",\"NR\",\"NC\",\"NZ\",\"NU\",\"NF\",\"MP\",\n",
    " \"PW\",\"PG\",\"PN\",\"WS\",\"SB\",\"TK\",\"TO\",\"TV\",\"UM\",\"VU\",\"WF\"],\n",
    "\"South America\": [\"AR\",\"BO\",\"BR\",\"CL\",\"CO\",\"EC\",\"FK\",\"GF\",\"GY\",\"PY\",\"PE\",\"SR\",\"UY\",\"VE\"]}\n",
    "\n",
    "\n",
    "d = {}\n",
    "for key in C_to_c.keys():\n",
    "    for c in C_to_c[key]:\n",
    "        d[c] = key"
   ]
  },
  {
   "cell_type": "code",
   "execution_count": 22,
   "metadata": {
    "collapsed": false
   },
   "outputs": [
    {
     "name": "stdout",
     "output_type": "stream",
     "text": [
      "True for CU\n",
      "True for TT\n",
      "True for PR\n",
      "True for JM\n",
      "True for HT\n",
      "True for DO\n",
      "True for BS\n"
     ]
    }
   ],
   "source": [
    "#Attribute a continent to a country that has none\n",
    "\n",
    "continent_id = []\n",
    "for n, iso in enumerate(df_countries.iso2):\n",
    "    try:\n",
    "        if iso in [\"PR\",\"CU\",\"JM\",\"BS\",\"HT\",\"DO\",\"TT\"]:\n",
    "            print('True for',iso)\n",
    "            #continent_id.append(\"North America\")\n",
    "            continent_id.append('Central America')\n",
    "        else:\n",
    "            continent_id.append(d[iso])\n",
    "    except:\n",
    "        continent_id.append(None)\n"
   ]
  },
  {
   "cell_type": "code",
   "execution_count": 23,
   "metadata": {
    "collapsed": true
   },
   "outputs": [],
   "source": [
    "#Print end needs attribute column called 'CONTINENT'"
   ]
  },
  {
   "cell_type": "code",
   "execution_count": 24,
   "metadata": {
    "collapsed": false,
    "scrolled": false
   },
   "outputs": [
    {
     "data": {
      "text/html": [
       "<div>\n",
       "<table border=\"1\" class=\"dataframe\">\n",
       "  <thead>\n",
       "    <tr style=\"text-align: right;\">\n",
       "      <th></th>\n",
       "      <th>geometry</th>\n",
       "      <th>iso2</th>\n",
       "      <th>name_engli</th>\n",
       "      <th>unregion1</th>\n",
       "      <th>unregion2</th>\n",
       "      <th>CONTINENT</th>\n",
       "    </tr>\n",
       "  </thead>\n",
       "  <tbody>\n",
       "    <tr>\n",
       "      <th>0</th>\n",
       "      <td>(POLYGON ((15.72968769073498 68.97135162353516...</td>\n",
       "      <td>NO</td>\n",
       "      <td>Norway</td>\n",
       "      <td>Northern Europe</td>\n",
       "      <td>Europe</td>\n",
       "      <td>Europe</td>\n",
       "    </tr>\n",
       "    <tr>\n",
       "      <th>1</th>\n",
       "      <td>None</td>\n",
       "      <td>TK</td>\n",
       "      <td>Tokelau</td>\n",
       "      <td>Polynesia</td>\n",
       "      <td>Oceania</td>\n",
       "      <td>Oceania</td>\n",
       "    </tr>\n",
       "    <tr>\n",
       "      <th>2</th>\n",
       "      <td>POLYGON ((100.0867691040041 20.35089111328153,...</td>\n",
       "      <td>TH</td>\n",
       "      <td>Thailand</td>\n",
       "      <td>South-Eastern Asia</td>\n",
       "      <td>Asia</td>\n",
       "      <td>Asia</td>\n",
       "    </tr>\n",
       "    <tr>\n",
       "      <th>3</th>\n",
       "      <td>POLYGON ((-59.98764038085931 8.53045463562006,...</td>\n",
       "      <td>VE</td>\n",
       "      <td>Venezuela</td>\n",
       "      <td>South America</td>\n",
       "      <td>Americas</td>\n",
       "      <td>South America</td>\n",
       "    </tr>\n",
       "    <tr>\n",
       "      <th>4</th>\n",
       "      <td>POLYGON ((13.6345472335816 13.71068859100347, ...</td>\n",
       "      <td>NG</td>\n",
       "      <td>Nigeria</td>\n",
       "      <td>Western Africa</td>\n",
       "      <td>Africa</td>\n",
       "      <td>Africa</td>\n",
       "    </tr>\n",
       "  </tbody>\n",
       "</table>\n",
       "</div>"
      ],
      "text/plain": [
       "                                            geometry iso2 name_engli  \\\n",
       "0  (POLYGON ((15.72968769073498 68.97135162353516...   NO     Norway   \n",
       "1                                               None   TK    Tokelau   \n",
       "2  POLYGON ((100.0867691040041 20.35089111328153,...   TH   Thailand   \n",
       "3  POLYGON ((-59.98764038085931 8.53045463562006,...   VE  Venezuela   \n",
       "4  POLYGON ((13.6345472335816 13.71068859100347, ...   NG    Nigeria   \n",
       "\n",
       "            unregion1 unregion2      CONTINENT  \n",
       "0     Northern Europe    Europe         Europe  \n",
       "1           Polynesia   Oceania        Oceania  \n",
       "2  South-Eastern Asia      Asia           Asia  \n",
       "3       South America  Americas  South America  \n",
       "4      Western Africa    Africa         Africa  "
      ]
     },
     "execution_count": 24,
     "metadata": {},
     "output_type": "execute_result"
    }
   ],
   "source": [
    "df_countries['CONTINENT'] = continent_id\n",
    "df_countries.head() #[np.array(continent_id) == None]"
   ]
  },
  {
   "cell_type": "code",
   "execution_count": 25,
   "metadata": {
    "collapsed": false
   },
   "outputs": [
    {
     "data": {
      "text/plain": [
       "(256, 256)"
      ]
     },
     "execution_count": 25,
     "metadata": {},
     "output_type": "execute_result"
    }
   ],
   "source": [
    "#Check no. of countries\n",
    "len(continent_id),len(df_countries)"
   ]
  },
  {
   "cell_type": "code",
   "execution_count": 26,
   "metadata": {
    "collapsed": true
   },
   "outputs": [],
   "source": [
    "#Remove countries with no continent\n",
    "mask_out_nones = df_countries['CONTINENT'] != None\n",
    "tmp_ = df_countries[mask_out_nones]"
   ]
  },
  {
   "cell_type": "code",
   "execution_count": 27,
   "metadata": {
    "collapsed": false
   },
   "outputs": [
    {
     "data": {
      "text/html": [
       "<div>\n",
       "<table border=\"1\" class=\"dataframe\">\n",
       "  <thead>\n",
       "    <tr style=\"text-align: right;\">\n",
       "      <th></th>\n",
       "      <th>geometry</th>\n",
       "      <th>iso2</th>\n",
       "      <th>name_engli</th>\n",
       "      <th>unregion1</th>\n",
       "      <th>unregion2</th>\n",
       "      <th>CONTINENT</th>\n",
       "    </tr>\n",
       "  </thead>\n",
       "  <tbody>\n",
       "    <tr>\n",
       "      <th>0</th>\n",
       "      <td>(POLYGON ((15.72968769073498 68.97135162353516...</td>\n",
       "      <td>NO</td>\n",
       "      <td>Norway</td>\n",
       "      <td>Northern Europe</td>\n",
       "      <td>Europe</td>\n",
       "      <td>Europe</td>\n",
       "    </tr>\n",
       "    <tr>\n",
       "      <th>2</th>\n",
       "      <td>POLYGON ((100.0867691040041 20.35089111328153,...</td>\n",
       "      <td>TH</td>\n",
       "      <td>Thailand</td>\n",
       "      <td>South-Eastern Asia</td>\n",
       "      <td>Asia</td>\n",
       "      <td>Asia</td>\n",
       "    </tr>\n",
       "    <tr>\n",
       "      <th>3</th>\n",
       "      <td>POLYGON ((-59.98764038085931 8.53045463562006,...</td>\n",
       "      <td>VE</td>\n",
       "      <td>Venezuela</td>\n",
       "      <td>South America</td>\n",
       "      <td>Americas</td>\n",
       "      <td>South America</td>\n",
       "    </tr>\n",
       "    <tr>\n",
       "      <th>4</th>\n",
       "      <td>POLYGON ((13.6345472335816 13.71068859100347, ...</td>\n",
       "      <td>NG</td>\n",
       "      <td>Nigeria</td>\n",
       "      <td>Western Africa</td>\n",
       "      <td>Africa</td>\n",
       "      <td>Africa</td>\n",
       "    </tr>\n",
       "    <tr>\n",
       "      <th>5</th>\n",
       "      <td>(POLYGON ((-68.61051177978516 -54.894306182861...</td>\n",
       "      <td>AR</td>\n",
       "      <td>Argentina</td>\n",
       "      <td>South America</td>\n",
       "      <td>Americas</td>\n",
       "      <td>South America</td>\n",
       "    </tr>\n",
       "  </tbody>\n",
       "</table>\n",
       "</div>"
      ],
      "text/plain": [
       "                                            geometry iso2 name_engli  \\\n",
       "0  (POLYGON ((15.72968769073498 68.97135162353516...   NO     Norway   \n",
       "2  POLYGON ((100.0867691040041 20.35089111328153,...   TH   Thailand   \n",
       "3  POLYGON ((-59.98764038085931 8.53045463562006,...   VE  Venezuela   \n",
       "4  POLYGON ((13.6345472335816 13.71068859100347, ...   NG    Nigeria   \n",
       "5  (POLYGON ((-68.61051177978516 -54.894306182861...   AR  Argentina   \n",
       "\n",
       "            unregion1 unregion2      CONTINENT  \n",
       "0     Northern Europe    Europe         Europe  \n",
       "2  South-Eastern Asia      Asia           Asia  \n",
       "3       South America  Americas  South America  \n",
       "4      Western Africa    Africa         Africa  \n",
       "5       South America  Americas  South America  "
      ]
     },
     "execution_count": 27,
     "metadata": {},
     "output_type": "execute_result"
    }
   ],
   "source": [
    "#Remove countries with no geometry\n",
    "mask_for_geoms = [geom != None for geom in tmp_.geometry.values]\n",
    "tmp_2 = tmp_[mask_for_geoms]\n",
    "tmp_2.head()"
   ]
  },
  {
   "cell_type": "code",
   "execution_count": 28,
   "metadata": {
    "collapsed": false,
    "scrolled": true
   },
   "outputs": [
    {
     "data": {
      "text/html": [
       "<div>\n",
       "<table border=\"1\" class=\"dataframe\">\n",
       "  <thead>\n",
       "    <tr style=\"text-align: right;\">\n",
       "      <th></th>\n",
       "      <th>geometry</th>\n",
       "      <th>iso2</th>\n",
       "      <th>name_engli</th>\n",
       "      <th>unregion1</th>\n",
       "      <th>unregion2</th>\n",
       "    </tr>\n",
       "    <tr>\n",
       "      <th>CONTINENT</th>\n",
       "      <th></th>\n",
       "      <th></th>\n",
       "      <th></th>\n",
       "      <th></th>\n",
       "      <th></th>\n",
       "    </tr>\n",
       "  </thead>\n",
       "  <tbody>\n",
       "    <tr>\n",
       "      <th>Africa</th>\n",
       "      <td>(POLYGON ((57.61097335815452 -19.9809703826903...</td>\n",
       "      <td>NG</td>\n",
       "      <td>Nigeria</td>\n",
       "      <td>Western Africa</td>\n",
       "      <td>Africa</td>\n",
       "    </tr>\n",
       "    <tr>\n",
       "      <th>Asia</th>\n",
       "      <td>(POLYGON ((119.934997558594 -9.275830268859863...</td>\n",
       "      <td>TH</td>\n",
       "      <td>Thailand</td>\n",
       "      <td>South-Eastern Asia</td>\n",
       "      <td>Asia</td>\n",
       "    </tr>\n",
       "    <tr>\n",
       "      <th>Central America</th>\n",
       "      <td>(POLYGON ((-60.93902587890619 10.8443069458007...</td>\n",
       "      <td>CU</td>\n",
       "      <td>Cuba</td>\n",
       "      <td>Caribbean</td>\n",
       "      <td>Americas</td>\n",
       "    </tr>\n",
       "    <tr>\n",
       "      <th>Europe</th>\n",
       "      <td>(POLYGON ((-15.41930484771729 28.1820831298831...</td>\n",
       "      <td>NO</td>\n",
       "      <td>Norway</td>\n",
       "      <td>Northern Europe</td>\n",
       "      <td>Europe</td>\n",
       "    </tr>\n",
       "    <tr>\n",
       "      <th>North America</th>\n",
       "      <td>(POLYGON ((-157.9833374023436 21.7111110687258...</td>\n",
       "      <td>US</td>\n",
       "      <td>United States</td>\n",
       "      <td>Northern America</td>\n",
       "      <td>Americas</td>\n",
       "    </tr>\n",
       "  </tbody>\n",
       "</table>\n",
       "</div>"
      ],
      "text/plain": [
       "                                                          geometry iso2  \\\n",
       "CONTINENT                                                                 \n",
       "Africa           (POLYGON ((57.61097335815452 -19.9809703826903...   NG   \n",
       "Asia             (POLYGON ((119.934997558594 -9.275830268859863...   TH   \n",
       "Central America  (POLYGON ((-60.93902587890619 10.8443069458007...   CU   \n",
       "Europe           (POLYGON ((-15.41930484771729 28.1820831298831...   NO   \n",
       "North America    (POLYGON ((-157.9833374023436 21.7111110687258...   US   \n",
       "\n",
       "                    name_engli           unregion1 unregion2  \n",
       "CONTINENT                                                     \n",
       "Africa                 Nigeria      Western Africa    Africa  \n",
       "Asia                  Thailand  South-Eastern Asia      Asia  \n",
       "Central America           Cuba           Caribbean  Americas  \n",
       "Europe                  Norway     Northern Europe    Europe  \n",
       "North America    United States    Northern America  Americas  "
      ]
     },
     "execution_count": 28,
     "metadata": {},
     "output_type": "execute_result"
    }
   ],
   "source": [
    "# rough example of the concept necessary to build the continents from the country file:\n",
    "# Way of creating a copy of a dataframe and reducing the columns present, then show how to unify by a column\n",
    "\n",
    "continents = tmp_2.dissolve(by='CONTINENT')  # joining shapes based on an attribute column - can make this a country shape thing\n",
    "continents.head()"
   ]
  },
  {
   "cell_type": "code",
   "execution_count": 29,
   "metadata": {
    "collapsed": false
   },
   "outputs": [
    {
     "data": {
      "text/plain": [
       "<matplotlib.axes._subplots.AxesSubplot at 0x7fd9160fa518>"
      ]
     },
     "execution_count": 29,
     "metadata": {},
     "output_type": "execute_result"
    },
    {
     "data": {
      "image/png": "[encoded data removed]",
      "text/plain": [
       "<matplotlib.figure.Figure at 0x7fd9161071d0>"
      ]
     },
     "metadata": {},
     "output_type": "display_data"
    }
   ],
   "source": [
    "#check that the continents look correct!\n",
    "continents.plot(figsize=(20,20))"
   ]
  },
  {
   "cell_type": "code",
   "execution_count": 30,
   "metadata": {
    "collapsed": true
   },
   "outputs": [],
   "source": [
    "#Now put the continent data into an appropriate data structure\n",
    "\n",
    "continent_for_output = gpd.GeoDataFrame(continents.index.values, columns=['CONTINENT'],\n",
    "                                        geometry=continents.geometry.values)"
   ]
  },
  {
   "cell_type": "code",
   "execution_count": 31,
   "metadata": {
    "collapsed": false
   },
   "outputs": [
    {
     "data": {
      "text/html": [
       "<div>\n",
       "<table border=\"1\" class=\"dataframe\">\n",
       "  <thead>\n",
       "    <tr style=\"text-align: right;\">\n",
       "      <th></th>\n",
       "      <th>CONTINENT</th>\n",
       "      <th>geometry</th>\n",
       "    </tr>\n",
       "  </thead>\n",
       "  <tbody>\n",
       "    <tr>\n",
       "      <th>0</th>\n",
       "      <td>Africa</td>\n",
       "      <td>(POLYGON ((57.61097335815452 -19.9809703826903...</td>\n",
       "    </tr>\n",
       "    <tr>\n",
       "      <th>1</th>\n",
       "      <td>Asia</td>\n",
       "      <td>(POLYGON ((119.934997558594 -9.275830268859863...</td>\n",
       "    </tr>\n",
       "    <tr>\n",
       "      <th>2</th>\n",
       "      <td>Central America</td>\n",
       "      <td>(POLYGON ((-60.93902587890619 10.8443069458007...</td>\n",
       "    </tr>\n",
       "    <tr>\n",
       "      <th>3</th>\n",
       "      <td>Europe</td>\n",
       "      <td>(POLYGON ((-15.41930484771729 28.1820831298831...</td>\n",
       "    </tr>\n",
       "    <tr>\n",
       "      <th>4</th>\n",
       "      <td>North America</td>\n",
       "      <td>(POLYGON ((-157.9833374023436 21.7111110687258...</td>\n",
       "    </tr>\n",
       "    <tr>\n",
       "      <th>5</th>\n",
       "      <td>Oceania</td>\n",
       "      <td>(POLYGON ((167.8694458007813 -46.6836128234862...</td>\n",
       "    </tr>\n",
       "    <tr>\n",
       "      <th>6</th>\n",
       "      <td>South America</td>\n",
       "      <td>(POLYGON ((-68.70249938964821 -55.149307250976...</td>\n",
       "    </tr>\n",
       "  </tbody>\n",
       "</table>\n",
       "</div>"
      ],
      "text/plain": [
       "         CONTINENT                                           geometry\n",
       "0           Africa  (POLYGON ((57.61097335815452 -19.9809703826903...\n",
       "1             Asia  (POLYGON ((119.934997558594 -9.275830268859863...\n",
       "2  Central America  (POLYGON ((-60.93902587890619 10.8443069458007...\n",
       "3           Europe  (POLYGON ((-15.41930484771729 28.1820831298831...\n",
       "4    North America  (POLYGON ((-157.9833374023436 21.7111110687258...\n",
       "5          Oceania  (POLYGON ((167.8694458007813 -46.6836128234862...\n",
       "6    South America  (POLYGON ((-68.70249938964821 -55.149307250976..."
      ]
     },
     "execution_count": 31,
     "metadata": {},
     "output_type": "execute_result"
    }
   ],
   "source": [
    "#Add centroid and zoom attributes\n",
    "continent_for_output"
   ]
  },
  {
   "cell_type": "code",
   "execution_count": 32,
   "metadata": {
    "collapsed": false
   },
   "outputs": [
    {
     "data": {
      "text/plain": [
       "[[18.28460154096003, 6.430399240054449],\n",
       " [95.63247231666449, 45.34251404523374],\n",
       " [-82.9562550907045, 15.20239321094113],\n",
       " [28.076526846466454, 55.799638688178504],\n",
       " [-92.46111753951266, 57.24275592459956],\n",
       " [136.57919586132738, -25.38548872902159],\n",
       " [-60.74598208384878, -15.071475436130527]]"
      ]
     },
     "execution_count": 32,
     "metadata": {},
     "output_type": "execute_result"
    }
   ],
   "source": [
    "#Create a list of centroids for each continent\n",
    "\n",
    "continent_coords = continent_for_output.geometry.centroid\n",
    "tmp_coords = []\n",
    "for centroid in continent_coords:\n",
    "    tmp_coords.append([centroid.xy[0][0], centroid.xy[1][0]])\n",
    "tmp_coords"
   ]
  },
  {
   "cell_type": "code",
   "execution_count": 33,
   "metadata": {
    "collapsed": false
   },
   "outputs": [
    {
     "data": {
      "text/html": [
       "<div>\n",
       "<table border=\"1\" class=\"dataframe\">\n",
       "  <thead>\n",
       "    <tr style=\"text-align: right;\">\n",
       "      <th></th>\n",
       "      <th>CONTINENT</th>\n",
       "      <th>geometry</th>\n",
       "      <th>centroid</th>\n",
       "      <th>zoom</th>\n",
       "    </tr>\n",
       "  </thead>\n",
       "  <tbody>\n",
       "    <tr>\n",
       "      <th>0</th>\n",
       "      <td>Africa</td>\n",
       "      <td>(POLYGON ((57.61097335815452 -19.9809703826903...</td>\n",
       "      <td>[18.28460154096003, 6.430399240054449]</td>\n",
       "      <td>3</td>\n",
       "    </tr>\n",
       "    <tr>\n",
       "      <th>1</th>\n",
       "      <td>Asia</td>\n",
       "      <td>(POLYGON ((119.934997558594 -9.275830268859863...</td>\n",
       "      <td>[95.63247231666449, 45.34251404523374]</td>\n",
       "      <td>3</td>\n",
       "    </tr>\n",
       "    <tr>\n",
       "      <th>2</th>\n",
       "      <td>Central America</td>\n",
       "      <td>(POLYGON ((-60.93902587890619 10.8443069458007...</td>\n",
       "      <td>[-82.9562550907045, 15.20239321094113]</td>\n",
       "      <td>4</td>\n",
       "    </tr>\n",
       "    <tr>\n",
       "      <th>3</th>\n",
       "      <td>Europe</td>\n",
       "      <td>(POLYGON ((-15.41930484771729 28.1820831298831...</td>\n",
       "      <td>[28.076526846466454, 55.799638688178504]</td>\n",
       "      <td>3</td>\n",
       "    </tr>\n",
       "    <tr>\n",
       "      <th>4</th>\n",
       "      <td>North America</td>\n",
       "      <td>(POLYGON ((-157.9833374023436 21.7111110687258...</td>\n",
       "      <td>[-92.46111753951266, 57.24275592459956]</td>\n",
       "      <td>3</td>\n",
       "    </tr>\n",
       "    <tr>\n",
       "      <th>5</th>\n",
       "      <td>Oceania</td>\n",
       "      <td>(POLYGON ((167.8694458007813 -46.6836128234862...</td>\n",
       "      <td>[136.57919586132738, -25.38548872902159]</td>\n",
       "      <td>5</td>\n",
       "    </tr>\n",
       "    <tr>\n",
       "      <th>6</th>\n",
       "      <td>South America</td>\n",
       "      <td>(POLYGON ((-68.70249938964821 -55.149307250976...</td>\n",
       "      <td>[-60.74598208384878, -15.071475436130527]</td>\n",
       "      <td>4</td>\n",
       "    </tr>\n",
       "  </tbody>\n",
       "</table>\n",
       "</div>"
      ],
      "text/plain": [
       "         CONTINENT                                           geometry  \\\n",
       "0           Africa  (POLYGON ((57.61097335815452 -19.9809703826903...   \n",
       "1             Asia  (POLYGON ((119.934997558594 -9.275830268859863...   \n",
       "2  Central America  (POLYGON ((-60.93902587890619 10.8443069458007...   \n",
       "3           Europe  (POLYGON ((-15.41930484771729 28.1820831298831...   \n",
       "4    North America  (POLYGON ((-157.9833374023436 21.7111110687258...   \n",
       "5          Oceania  (POLYGON ((167.8694458007813 -46.6836128234862...   \n",
       "6    South America  (POLYGON ((-68.70249938964821 -55.149307250976...   \n",
       "\n",
       "                                    centroid  zoom  \n",
       "0     [18.28460154096003, 6.430399240054449]     3  \n",
       "1     [95.63247231666449, 45.34251404523374]     3  \n",
       "2     [-82.9562550907045, 15.20239321094113]     4  \n",
       "3   [28.076526846466454, 55.799638688178504]     3  \n",
       "4    [-92.46111753951266, 57.24275592459956]     3  \n",
       "5   [136.57919586132738, -25.38548872902159]     5  \n",
       "6  [-60.74598208384878, -15.071475436130527]     4  "
      ]
     },
     "execution_count": 33,
     "metadata": {},
     "output_type": "execute_result"
    }
   ],
   "source": [
    "#Add columns to continent dataframe. Note that zoom levels are chosen so that the continent fits the screen\n",
    "\n",
    "continent_for_output['centroid'] = tmp_coords\n",
    "continent_for_output['zoom'] = [3,3,4,3,3,5,4]\n",
    "\n",
    "continent_for_output"
   ]
  },
  {
   "cell_type": "code",
   "execution_count": 34,
   "metadata": {
    "collapsed": false
   },
   "outputs": [],
   "source": [
    "continent_json = continent_for_output.to_json()\n",
    "\n",
    "with open('./data/continent.js','w') as f:\n",
    "    f.write('var geoContinents = ')\n",
    "    f.write(continent_json)"
   ]
  },
  {
   "cell_type": "code",
   "execution_count": 35,
   "metadata": {
    "collapsed": false
   },
   "outputs": [
    {
     "name": "stdout",
     "output_type": "stream",
     "text": [
      "-rw-r--r-- 1 jovyan jovyan 273K Oct 20 12:08 ./data/continent.js\r\n"
     ]
    }
   ],
   "source": [
    "!ls ./data/continent.js -lrth"
   ]
  }
 ],
 "metadata": {
  "kernelspec": {
   "display_name": "Python 3",
   "language": "python",
   "name": "python3"
  },
  "language_info": {
   "codemirror_mode": {
    "name": "ipython",
    "version": 3
   },
   "file_extension": ".py",
   "mimetype": "text/x-python",
   "name": "python",
   "nbconvert_exporter": "python",
   "pygments_lexer": "ipython3",
   "version": "3.5.3"
  }
 },
 "nbformat": 4,
 "nbformat_minor": 2
}
