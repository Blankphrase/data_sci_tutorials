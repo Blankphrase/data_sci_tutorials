{
 "cells": [
  {
   "cell_type": "markdown",
   "metadata": {},
   "source": [
    "# Reconstructing LandMark Data\n",
    "\n",
    "We need to use the [LandMark Map data](http://www.landmarkmap.org/map/) for our Land Rights layer on GFW.\n",
    "These data are private and we can not copy them. We can build the layer based on the way landmark build theirs.\n",
    "\n",
    "The data are held on an ArcGis MapServer, e.g. [http://gis.wri.org/server/rest/services/LandMark/comm_ind_Documented/MapServer](http://gis.wri.org/server/rest/services/LandMark/comm_ind_Documented/MapServer)\n",
    "\n",
    "MapServer Query [documentation](https://developers.arcgis.com/rest/services-reference/query-map-service-layer-.htm)."
   ]
  },
  {
   "cell_type": "code",
   "execution_count": 1,
   "metadata": {},
   "outputs": [],
   "source": [
    "import folium\n",
    "import json\n",
    "import requests\n",
    "from pprint import pprint\n",
    "from pyproj import Proj, transform"
   ]
  },
  {
   "cell_type": "code",
   "execution_count": 2,
   "metadata": {},
   "outputs": [],
   "source": [
    "basemap = \"Mapbox Bright\"\n",
    "\n",
    "map = folium.Map(location=[28.29, -16.6], zoom_start=3, tiles=basemap)"
   ]
  },
  {
   "cell_type": "code",
   "execution_count": null,
   "metadata": {},
   "outputs": [],
   "source": []
  },
  {
   "cell_type": "code",
   "execution_count": 3,
   "metadata": {},
   "outputs": [
    {
     "data": {
      "text/html": [
       "<div style=\"width:100%;\"><div style=\"position:relative;width:100%;height:0;padding-bottom:60%;\"><iframe src=\"data:text/html;charset=utf-8;base64,PCFET0NUWVBFIGh0bWw+CjxoZWFkPiAgICAKICAgIDxtZXRhIGh0dHAtZXF1aXY9ImNvbnRlbnQtdHlwZSIgY29udGVudD0idGV4dC9odG1sOyBjaGFyc2V0PVVURi04IiAvPgogICAgPHNjcmlwdD5MX1BSRUZFUl9DQU5WQVMgPSBmYWxzZTsgTF9OT19UT1VDSCA9IGZhbHNlOyBMX0RJU0FCTEVfM0QgPSBmYWxzZTs8L3NjcmlwdD4KICAgIDxzY3JpcHQgc3JjPSJodHRwczovL2Nkbi5qc2RlbGl2ci5uZXQvbnBtL2xlYWZsZXRAMS4yLjAvZGlzdC9sZWFmbGV0LmpzIj48L3NjcmlwdD4KICAgIDxzY3JpcHQgc3JjPSJodHRwczovL2FqYXguZ29vZ2xlYXBpcy5jb20vYWpheC9saWJzL2pxdWVyeS8xLjExLjEvanF1ZXJ5Lm1pbi5qcyI+PC9zY3JpcHQ+CiAgICA8c2NyaXB0IHNyYz0iaHR0cHM6Ly9tYXhjZG4uYm9vdHN0cmFwY2RuLmNvbS9ib290c3RyYXAvMy4yLjAvanMvYm9vdHN0cmFwLm1pbi5qcyI+PC9zY3JpcHQ+CiAgICA8c2NyaXB0IHNyYz0iaHR0cHM6Ly9jZG5qcy5jbG91ZGZsYXJlLmNvbS9hamF4L2xpYnMvTGVhZmxldC5hd2Vzb21lLW1hcmtlcnMvMi4wLjIvbGVhZmxldC5hd2Vzb21lLW1hcmtlcnMuanMiPjwvc2NyaXB0PgogICAgPGxpbmsgcmVsPSJzdHlsZXNoZWV0IiBocmVmPSJodHRwczovL2Nkbi5qc2RlbGl2ci5uZXQvbnBtL2xlYWZsZXRAMS4yLjAvZGlzdC9sZWFmbGV0LmNzcyIgLz4KICAgIDxsaW5rIHJlbD0ic3R5bGVzaGVldCIgaHJlZj0iaHR0cHM6Ly9tYXhjZG4uYm9vdHN0cmFwY2RuLmNvbS9ib290c3RyYXAvMy4yLjAvY3NzL2Jvb3RzdHJhcC5taW4uY3NzIiAvPgogICAgPGxpbmsgcmVsPSJzdHlsZXNoZWV0IiBocmVmPSJodHRwczovL21heGNkbi5ib290c3RyYXBjZG4uY29tL2Jvb3RzdHJhcC8zLjIuMC9jc3MvYm9vdHN0cmFwLXRoZW1lLm1pbi5jc3MiIC8+CiAgICA8bGluayByZWw9InN0eWxlc2hlZXQiIGhyZWY9Imh0dHBzOi8vbWF4Y2RuLmJvb3RzdHJhcGNkbi5jb20vZm9udC1hd2Vzb21lLzQuNi4zL2Nzcy9mb250LWF3ZXNvbWUubWluLmNzcyIgLz4KICAgIDxsaW5rIHJlbD0ic3R5bGVzaGVldCIgaHJlZj0iaHR0cHM6Ly9jZG5qcy5jbG91ZGZsYXJlLmNvbS9hamF4L2xpYnMvTGVhZmxldC5hd2Vzb21lLW1hcmtlcnMvMi4wLjIvbGVhZmxldC5hd2Vzb21lLW1hcmtlcnMuY3NzIiAvPgogICAgPGxpbmsgcmVsPSJzdHlsZXNoZWV0IiBocmVmPSJodHRwczovL3Jhd2dpdC5jb20vcHl0aG9uLXZpc3VhbGl6YXRpb24vZm9saXVtL21hc3Rlci9mb2xpdW0vdGVtcGxhdGVzL2xlYWZsZXQuYXdlc29tZS5yb3RhdGUuY3NzIiAvPgogICAgPHN0eWxlPmh0bWwsIGJvZHkge3dpZHRoOiAxMDAlO2hlaWdodDogMTAwJTttYXJnaW46IDA7cGFkZGluZzogMDt9PC9zdHlsZT4KICAgIDxzdHlsZT4jbWFwIHtwb3NpdGlvbjphYnNvbHV0ZTt0b3A6MDtib3R0b206MDtyaWdodDowO2xlZnQ6MDt9PC9zdHlsZT4KICAgIAogICAgICAgICAgICA8c3R5bGU+ICNtYXBfNzdmZDE0YTViMmViNDhhZjk3ZDE2MmIyMzY1NzJhYjUgewogICAgICAgICAgICAgICAgcG9zaXRpb24gOiByZWxhdGl2ZTsKICAgICAgICAgICAgICAgIHdpZHRoIDogMTAwLjAlOwogICAgICAgICAgICAgICAgaGVpZ2h0OiAxMDAuMCU7CiAgICAgICAgICAgICAgICBsZWZ0OiAwLjAlOwogICAgICAgICAgICAgICAgdG9wOiAwLjAlOwogICAgICAgICAgICAgICAgfQogICAgICAgICAgICA8L3N0eWxlPgogICAgICAgIAo8L2hlYWQ+Cjxib2R5PiAgICAKICAgIAogICAgICAgICAgICA8ZGl2IGNsYXNzPSJmb2xpdW0tbWFwIiBpZD0ibWFwXzc3ZmQxNGE1YjJlYjQ4YWY5N2QxNjJiMjM2NTcyYWI1IiA+PC9kaXY+CiAgICAgICAgCjwvYm9keT4KPHNjcmlwdD4gICAgCiAgICAKCiAgICAgICAgICAgIAogICAgICAgICAgICAgICAgdmFyIGJvdW5kcyA9IG51bGw7CiAgICAgICAgICAgIAoKICAgICAgICAgICAgdmFyIG1hcF83N2ZkMTRhNWIyZWI0OGFmOTdkMTYyYjIzNjU3MmFiNSA9IEwubWFwKAogICAgICAgICAgICAgICAgICAgICAgICAgICAgICAgICAgJ21hcF83N2ZkMTRhNWIyZWI0OGFmOTdkMTYyYjIzNjU3MmFiNScsCiAgICAgICAgICAgICAgICAgICAgICAgICAgICAgICAgICB7Y2VudGVyOiBbMjguMjksLTE2LjZdLAogICAgICAgICAgICAgICAgICAgICAgICAgICAgICAgICAgem9vbTogMywKICAgICAgICAgICAgICAgICAgICAgICAgICAgICAgICAgIG1heEJvdW5kczogYm91bmRzLAogICAgICAgICAgICAgICAgICAgICAgICAgICAgICAgICAgbGF5ZXJzOiBbXSwKICAgICAgICAgICAgICAgICAgICAgICAgICAgICAgICAgIHdvcmxkQ29weUp1bXA6IGZhbHNlLAogICAgICAgICAgICAgICAgICAgICAgICAgICAgICAgICAgY3JzOiBMLkNSUy5FUFNHMzg1NwogICAgICAgICAgICAgICAgICAgICAgICAgICAgICAgICB9KTsKICAgICAgICAgICAgCiAgICAgICAgCiAgICAKICAgICAgICAgICAgdmFyIHRpbGVfbGF5ZXJfNmQ3NWI3YzhlNDQxNDlmNGFhNTE0M2M1NTMyOGE5ZjIgPSBMLnRpbGVMYXllcigKICAgICAgICAgICAgICAgICdodHRwczovL3tzfS50aWxlcy5tYXBib3guY29tL3YzL21hcGJveC53b3JsZC1icmlnaHQve3p9L3t4fS97eX0ucG5nJywKICAgICAgICAgICAgICAgIHsKICAiYXR0cmlidXRpb24iOiBudWxsLAogICJkZXRlY3RSZXRpbmEiOiBmYWxzZSwKICAibWF4Wm9vbSI6IDE4LAogICJtaW5ab29tIjogMSwKICAibm9XcmFwIjogZmFsc2UsCiAgInN1YmRvbWFpbnMiOiAiYWJjIgp9CiAgICAgICAgICAgICAgICApLmFkZFRvKG1hcF83N2ZkMTRhNWIyZWI0OGFmOTdkMTYyYjIzNjU3MmFiNSk7CiAgICAgICAgCiAgICAKICAgICAgICAgICAgdmFyIHRpbGVfbGF5ZXJfYWM4NzZhNzhlNjQ4NDIzZWI5Nzg2ZDhjODU3MmExODMgPSBMLnRpbGVMYXllcigKICAgICAgICAgICAgICAgICdodHRwOi8vZ2lzLndyaS5vcmcvc2VydmVyL3Jlc3Qvc2VydmljZXMvTGFuZE1hcmsvY29tbV9pbmRfRG9jdW1lbnRlZC9NYXBTZXJ2ZXIvdGlsZS97en0ve3l9L3t4fScsCiAgICAgICAgICAgICAgICB7CiAgImF0dHJpYnV0aW9uIjogIkxhbmRNYXJrIiwKICAiZGV0ZWN0UmV0aW5hIjogdHJ1ZSwKICAibWF4Wm9vbSI6IDExLAogICJtaW5ab29tIjogMSwKICAibm9XcmFwIjogZmFsc2UsCiAgInN1YmRvbWFpbnMiOiAiYWJjIgp9CiAgICAgICAgICAgICAgICApLmFkZFRvKG1hcF83N2ZkMTRhNWIyZWI0OGFmOTdkMTYyYjIzNjU3MmFiNSk7CiAgICAgICAgCiAgICAKICAgICAgICAgICAgdmFyIHRpbGVfbGF5ZXJfNTY3NWNmNWExMDA1NDNjMjkyNmEyMDUyMWRlZTdmZWYgPSBMLnRpbGVMYXllcigKICAgICAgICAgICAgICAgICdodHRwOi8vZ2lzLndyaS5vcmcvc2VydmVyL3Jlc3Qvc2VydmljZXMvTGFuZE1hcmsvY29tbV9pbmRfTm90RG9jdW1lbnRlZC9NYXBTZXJ2ZXIvdGlsZS97en0ve3l9L3t4fScsCiAgICAgICAgICAgICAgICB7CiAgImF0dHJpYnV0aW9uIjogIkxhbmRNYXJrIiwKICAiZGV0ZWN0UmV0aW5hIjogdHJ1ZSwKICAibWF4Wm9vbSI6IDExLAogICJtaW5ab29tIjogMSwKICAibm9XcmFwIjogZmFsc2UsCiAgInN1YmRvbWFpbnMiOiAiYWJjIgp9CiAgICAgICAgICAgICAgICApLmFkZFRvKG1hcF83N2ZkMTRhNWIyZWI0OGFmOTdkMTYyYjIzNjU3MmFiNSk7CiAgICAgICAgCiAgICAKICAgICAgICAgICAgdmFyIHRpbGVfbGF5ZXJfNTJmOWI4NjhhNTM3NGJmYmIyY2Y0NzMwNWVmN2Q5OTEgPSBMLnRpbGVMYXllcigKICAgICAgICAgICAgICAgICdodHRwOi8vZ2lzLndyaS5vcmcvc2VydmVyL3Jlc3Qvc2VydmljZXMvTGFuZE1hcmsvY29tbV9pbmRfRm9ybWFsTGFuZENsYWltL01hcFNlcnZlci97en0ve3l9L3t4fScsCiAgICAgICAgICAgICAgICB7CiAgImF0dHJpYnV0aW9uIjogIkxhbmRNYXJrIiwKICAiZGV0ZWN0UmV0aW5hIjogdHJ1ZSwKICAibWF4Wm9vbSI6IDExLAogICJtaW5ab29tIjogMSwKICAibm9XcmFwIjogZmFsc2UsCiAgInN1YmRvbWFpbnMiOiAiYWJjIgp9CiAgICAgICAgICAgICAgICApLmFkZFRvKG1hcF83N2ZkMTRhNWIyZWI0OGFmOTdkMTYyYjIzNjU3MmFiNSk7CiAgICAgICAgCiAgICAKICAgICAgICAgICAgdmFyIHRpbGVfbGF5ZXJfZmNmY2VmNTNmMWJkNDZkNzkwY2QyZGM2MTFiYzFmYmUgPSBMLnRpbGVMYXllcigKICAgICAgICAgICAgICAgICdodHRwOi8vZ2lzLndyaS5vcmcvc2VydmVyL3Jlc3Qvc2VydmljZXMvTGFuZE1hcmsvY29tbV9pbmRfQ3VzdG9tYXJ5VGVudXJlL01hcFNlcnZlci90aWxlL3t6fS97eX0ve3h9JywKICAgICAgICAgICAgICAgIHsKICAiYXR0cmlidXRpb24iOiAiTGFuZE1hcmsiLAogICJkZXRlY3RSZXRpbmEiOiB0cnVlLAogICJtYXhab29tIjogMTEsCiAgIm1pblpvb20iOiAxLAogICJub1dyYXAiOiBmYWxzZSwKICAic3ViZG9tYWlucyI6ICJhYmMiCn0KICAgICAgICAgICAgICAgICkuYWRkVG8obWFwXzc3ZmQxNGE1YjJlYjQ4YWY5N2QxNjJiMjM2NTcyYWI1KTsKICAgICAgICAKICAgIAogICAgICAgICAgICB2YXIgdGlsZV9sYXllcl9jZTk5MGNmNTQxODk0ZTFhODVjY2NjNzlmOTQ1MDczOCA9IEwudGlsZUxheWVyKAogICAgICAgICAgICAgICAgJ2h0dHA6Ly9naXMud3JpLm9yZy9zZXJ2ZXIvcmVzdC9zZXJ2aWNlcy9MYW5kTWFyay9jb21tX2NvbW1fRG9jdW1lbnRlZC9NYXBTZXJ2ZXIvdGlsZS97en0ve3l9L3t4fScsCiAgICAgICAgICAgICAgICB7CiAgImF0dHJpYnV0aW9uIjogIkxhbmRNYXJrIiwKICAiZGV0ZWN0UmV0aW5hIjogdHJ1ZSwKICAibWF4Wm9vbSI6IDExLAogICJtaW5ab29tIjogMSwKICAibm9XcmFwIjogZmFsc2UsCiAgInN1YmRvbWFpbnMiOiAiYWJjIgp9CiAgICAgICAgICAgICAgICApLmFkZFRvKG1hcF83N2ZkMTRhNWIyZWI0OGFmOTdkMTYyYjIzNjU3MmFiNSk7CiAgICAgICAgCiAgICAKICAgICAgICAgICAgdmFyIHRpbGVfbGF5ZXJfMmM3NTFhMWM2MmUxNGMwYWJmNTJiOTNiODEwYjM3YTEgPSBMLnRpbGVMYXllcigKICAgICAgICAgICAgICAgICdodHRwOi8vZ2lzLndyaS5vcmcvc2VydmVyL3Jlc3Qvc2VydmljZXMvTGFuZE1hcmsvY29tbV9jb21tX05vdERvY3VtZW50ZWQvTWFwU2VydmVyL3RpbGUve3p9L3t5fS97eH0nLAogICAgICAgICAgICAgICAgewogICJhdHRyaWJ1dGlvbiI6ICJMYW5kTWFyayIsCiAgImRldGVjdFJldGluYSI6IHRydWUsCiAgIm1heFpvb20iOiAxMSwKICAibWluWm9vbSI6IDEsCiAgIm5vV3JhcCI6IGZhbHNlLAogICJzdWJkb21haW5zIjogImFiYyIKfQogICAgICAgICAgICAgICAgKS5hZGRUbyhtYXBfNzdmZDE0YTViMmViNDhhZjk3ZDE2MmIyMzY1NzJhYjUpOwogICAgICAgIAogICAgCiAgICAgICAgICAgIHZhciB0aWxlX2xheWVyX2VkMTFjZGEyOTJlNTQ2N2RiYjZhYWFlMGY3N2FhZmE0ID0gTC50aWxlTGF5ZXIoCiAgICAgICAgICAgICAgICAnaHR0cDovL2dpcy53cmkub3JnL3NlcnZlci9yZXN0L3NlcnZpY2VzL0xhbmRNYXJrL2NvbW1fY29tbV9DdXN0b21hcnlUZW51cmUvTWFwU2VydmVyL3RpbGUve3p9L3t5fS97eH0nLAogICAgICAgICAgICAgICAgewogICJhdHRyaWJ1dGlvbiI6ICJMYW5kTWFyayIsCiAgImRldGVjdFJldGluYSI6IHRydWUsCiAgIm1heFpvb20iOiAxMSwKICAibWluWm9vbSI6IDEsCiAgIm5vV3JhcCI6IGZhbHNlLAogICJzdWJkb21haW5zIjogImFiYyIKfQogICAgICAgICAgICAgICAgKS5hZGRUbyhtYXBfNzdmZDE0YTViMmViNDhhZjk3ZDE2MmIyMzY1NzJhYjUpOwogICAgICAgIAogICAgCiAgICAgICAgICAgIHZhciB0aWxlX2xheWVyXzAzYjAxMTgwMjY1MTRlMDU4MDAwYjZmMTQ2MjkzYjdmID0gTC50aWxlTGF5ZXIoCiAgICAgICAgICAgICAgICAnaHR0cDovL2dpcy53cmkub3JnL3NlcnZlci9yZXN0L3NlcnZpY2VzL0xhbmRNYXJrL2NvbW1fY29tbV9Gb3JtYWxMYW5kQ2xhaW0vTWFwU2VydmVyL3RpbGUve3p9L3t5fS97eH0nLAogICAgICAgICAgICAgICAgewogICJhdHRyaWJ1dGlvbiI6ICJMYW5kTWFyayIsCiAgImRldGVjdFJldGluYSI6IHRydWUsCiAgIm1heFpvb20iOiAxMSwKICAibWluWm9vbSI6IDEsCiAgIm5vV3JhcCI6IGZhbHNlLAogICJzdWJkb21haW5zIjogImFiYyIKfQogICAgICAgICAgICAgICAgKS5hZGRUbyhtYXBfNzdmZDE0YTViMmViNDhhZjk3ZDE2MmIyMzY1NzJhYjUpOwogICAgICAgIAogICAgCiAgICAgICAgICAgICAgICB2YXIgbGF0X2xuZ19wb3B1cF8yMTY4NGU1OWY2NzA0ODhmYjUwOWQyNTM3NjdlMjkyNSA9IEwucG9wdXAoKTsKICAgICAgICAgICAgICAgIGZ1bmN0aW9uIGxhdExuZ1BvcChlKSB7CiAgICAgICAgICAgICAgICAgICAgbGF0X2xuZ19wb3B1cF8yMTY4NGU1OWY2NzA0ODhmYjUwOWQyNTM3NjdlMjkyNQogICAgICAgICAgICAgICAgICAgICAgICAuc2V0TGF0TG5nKGUubGF0bG5nKQogICAgICAgICAgICAgICAgICAgICAgICAuc2V0Q29udGVudCgiTGF0aXR1ZGU6ICIgKyBlLmxhdGxuZy5sYXQudG9GaXhlZCg0KSArCiAgICAgICAgICAgICAgICAgICAgICAgICAgICAgICAgICAgICI8YnI+TG9uZ2l0dWRlOiAiICsgZS5sYXRsbmcubG5nLnRvRml4ZWQoNCkpCiAgICAgICAgICAgICAgICAgICAgICAgIC5vcGVuT24obWFwXzc3ZmQxNGE1YjJlYjQ4YWY5N2QxNjJiMjM2NTcyYWI1KTsKICAgICAgICAgICAgICAgICAgICB9CiAgICAgICAgICAgICAgICBtYXBfNzdmZDE0YTViMmViNDhhZjk3ZDE2MmIyMzY1NzJhYjUub24oJ2NsaWNrJywgbGF0TG5nUG9wKTsKICAgICAgICAgICAgCjwvc2NyaXB0Pg==\" style=\"position:absolute;width:100%;height:100%;left:0;top:0;border:none !important;\" allowfullscreen webkitallowfullscreen mozallowfullscreen></iframe></div></div>"
      ],
      "text/plain": [
       "<folium.folium.Map at 0x11b14da58>"
      ]
     },
     "execution_count": 3,
     "metadata": {},
     "output_type": "execute_result"
    }
   ],
   "source": [
    "\n",
    "ind_documented = \"http://gis.wri.org/server/rest/services/LandMark/comm_ind_Documented/MapServer/tile/{z}/{y}/{x}\"\n",
    "ind_not_documented = \"http://gis.wri.org/server/rest/services/LandMark/comm_ind_NotDocumented/MapServer/tile/{z}/{y}/{x}\"\n",
    "ind_formal = \"http://gis.wri.org/server/rest/services/LandMark/comm_ind_FormalLandClaim/MapServer/{z}/{y}/{x}\"\n",
    "ind_customary = \"http://gis.wri.org/server/rest/services/LandMark/comm_ind_CustomaryTenure/MapServer/tile/{z}/{y}/{x}\"\n",
    "\n",
    "\n",
    "com_land_documented = \"http://gis.wri.org/server/rest/services/LandMark/comm_comm_Documented/MapServer/tile/{z}/{y}/{x}\"\n",
    "com_undocumented = \"http://gis.wri.org/server/rest/services/LandMark/comm_comm_NotDocumented/MapServer/tile/{z}/{y}/{x}\"\n",
    "com_tenure = \"http://gis.wri.org/server/rest/services/LandMark/comm_comm_CustomaryTenure/MapServer/tile/{z}/{y}/{x}\"\n",
    "formal_lc = \"http://gis.wri.org/server/rest/services/LandMark/comm_comm_FormalLandClaim/MapServer/tile/{z}/{y}/{x}\"\n",
    "\n",
    "\n",
    "map.add_tile_layer(tiles=ind_documented, name=\"Indigeouns Land: Documented\", attr='LandMark', max_zoom=11, detect_retina=True)\n",
    "map.add_tile_layer(tiles=ind_not_documented, name=\"Indigeouns Land: Not Documented\", attr='LandMark', max_zoom=11, detect_retina=True)\n",
    "map.add_tile_layer(tiles=ind_formal, name=\"Indigenous Land: Formal Tenure\", attr='LandMark', max_zoom=11, detect_retina=True)\n",
    "map.add_tile_layer(tiles=ind_customary, name=\"Indigenous Land: Customary Tenure\", attr='LandMark', max_zoom=11, detect_retina=True)\n",
    "\n",
    "map.add_tile_layer(tiles=com_land_documented, name=\"Community Land: Documented\", attr='LandMark', max_zoom=11, detect_retina=True)\n",
    "map.add_tile_layer(tiles=com_undocumented, name=\"Community Land: Undocumented\", attr='LandMark', max_zoom=11, detect_retina=True)\n",
    "map.add_tile_layer(tiles=com_tenure, name=\"Community Land: Custom Tenure\", attr='LandMark', max_zoom=11, detect_retina=True)\n",
    "map.add_tile_layer(tiles=formal_lc, name=\"Community Land: Formal Land Claim\", attr='LandMark', max_zoom=11, detect_retina=True)\n",
    "\n",
    "\n",
    "map.add_child(folium.LatLngPopup())"
   ]
  },
  {
   "cell_type": "markdown",
   "metadata": {},
   "source": [
    "We also need to return metadata for this layer, and expose it via a pop-up. LandMark appear to query every Arc Layer on click to see if content exists.\n",
    "\n",
    "An example of an original (unmodified) query from the Landmark site is below.\n",
    "\n",
    "I have added a lat/long popup to the above to grab coordinates from the map for examples/testing.\n",
    "-7.9359,-75.4555"
   ]
  },
  {
   "cell_type": "code",
   "execution_count": 4,
   "metadata": {
    "scrolled": true
   },
   "outputs": [
    {
     "name": "stdout",
     "output_type": "stream",
     "text": [
      "Response code 200\n",
      "{'displayFieldName': 'Name',\n",
      " 'features': [{'attributes': {'Add_Note': None,\n",
      "                              'Area_GIS': 48931.569827286236,\n",
      "                              'Area_Ofcl': 48932.1255,\n",
      "                              'Category': 'Indian Reservation',\n",
      "                              'Country': 'United States of America',\n",
      "                              'Data_Ctrb': 'Publicly available',\n",
      "                              'Data_Date': '2015',\n",
      "                              'Data_Src': 'U.S. Census Bureau',\n",
      "                              'Doc_Status': 'Documented',\n",
      "                              'Ethncty_1': None,\n",
      "                              'Ethncty_2': None,\n",
      "                              'Ethncty_3': None,\n",
      "                              'Form_Rec': 'Acknowledged by govt',\n",
      "                              'ISO_Code': 'USA',\n",
      "                              'Identity': 'Indigenous',\n",
      "                              'Method': None,\n",
      "                              'More_info': 'https://www.census.gov/geo/maps-data/data/tiger-line.html',\n",
      "                              'Name': 'Kaibab Indian Reservation',\n",
      "                              'OBJECTID': 33783,\n",
      "                              'Pop_Source': None,\n",
      "                              'Pop_Year': None,\n",
      "                              'Populatn': None,\n",
      "                              'Scale': 'Unknown',\n",
      "                              'Shape_Area': 766858109.5086855,\n",
      "                              'Shape_Length': 133762.1715014863,\n",
      "                              'Stat_Date': None,\n",
      "                              'Stat_Note': None,\n",
      "                              'Upl_Date': '2015/08/26'},\n",
      "               'geometry': {'rings': [[[-12560124, 4439179],\n",
      "                                       [-12527957, 4439213],\n",
      "                                       [-12529955, 4425647],\n",
      "                                       [-12523881, 4425648],\n",
      "                                       [-12523875, 4415543],\n",
      "                                       [-12559887, 4415715],\n",
      "                                       [-12560124, 4439179]],\n",
      "                                      [[-12553225, 4426030],\n",
      "                                       [-12550256, 4426309],\n",
      "                                       [-12552571, 4427592],\n",
      "                                       [-12553225, 4426030]]]}}],\n",
      " 'fieldAliases': {'Add_Note': 'Add_Note',\n",
      "                  'Area_GIS': 'Area_GIS',\n",
      "                  'Area_Ofcl': 'Area_Ofcl',\n",
      "                  'Category': 'Category',\n",
      "                  'Country': 'Country',\n",
      "                  'Data_Ctrb': 'Data_Ctrb',\n",
      "                  'Data_Date': 'Data_Date',\n",
      "                  'Data_Src': 'Data_Src',\n",
      "                  'Doc_Status': 'Doc_Status',\n",
      "                  'Ethncty_1': 'Ethncty_1',\n",
      "                  'Ethncty_2': 'Ethncty_2',\n",
      "                  'Ethncty_3': 'Ethncty_3',\n",
      "                  'Form_Rec': 'Form_Rec',\n",
      "                  'ISO_Code': 'ISO_Code',\n",
      "                  'Identity': 'Identity',\n",
      "                  'Method': 'Method',\n",
      "                  'More_info': 'More_info',\n",
      "                  'Name': 'Name',\n",
      "                  'OBJECTID': 'OBJECTID',\n",
      "                  'Pop_Source': 'Pop_Source',\n",
      "                  'Pop_Year': 'Pop_Year',\n",
      "                  'Populatn': 'Populatn',\n",
      "                  'Scale': 'Scale',\n",
      "                  'Shape_Area': 'Shape_Area',\n",
      "                  'Shape_Length': 'Shape_Length',\n",
      "                  'Stat_Date': 'Stat_Date',\n",
      "                  'Stat_Note': 'Stat_Note',\n",
      "                  'Upl_Date': 'Upl_Date'},\n",
      " 'fields': [{'alias': 'OBJECTID',\n",
      "             'name': 'OBJECTID',\n",
      "             'type': 'esriFieldTypeOID'},\n",
      "            {'alias': 'Country',\n",
      "             'length': 254,\n",
      "             'name': 'Country',\n",
      "             'type': 'esriFieldTypeString'},\n",
      "            {'alias': 'Identity',\n",
      "             'length': 254,\n",
      "             'name': 'Identity',\n",
      "             'type': 'esriFieldTypeString'},\n",
      "            {'alias': 'Form_Rec',\n",
      "             'length': 254,\n",
      "             'name': 'Form_Rec',\n",
      "             'type': 'esriFieldTypeString'},\n",
      "            {'alias': 'Doc_Status',\n",
      "             'length': 254,\n",
      "             'name': 'Doc_Status',\n",
      "             'type': 'esriFieldTypeString'},\n",
      "            {'alias': 'Stat_Date',\n",
      "             'length': 254,\n",
      "             'name': 'Stat_Date',\n",
      "             'type': 'esriFieldTypeString'},\n",
      "            {'alias': 'Stat_Note',\n",
      "             'length': 254,\n",
      "             'name': 'Stat_Note',\n",
      "             'type': 'esriFieldTypeString'},\n",
      "            {'alias': 'ISO_Code',\n",
      "             'length': 254,\n",
      "             'name': 'ISO_Code',\n",
      "             'type': 'esriFieldTypeString'},\n",
      "            {'alias': 'Name',\n",
      "             'length': 254,\n",
      "             'name': 'Name',\n",
      "             'type': 'esriFieldTypeString'},\n",
      "            {'alias': 'Category',\n",
      "             'length': 254,\n",
      "             'name': 'Category',\n",
      "             'type': 'esriFieldTypeString'},\n",
      "            {'alias': 'Ethncty_1',\n",
      "             'length': 254,\n",
      "             'name': 'Ethncty_1',\n",
      "             'type': 'esriFieldTypeString'},\n",
      "            {'alias': 'Ethncty_2',\n",
      "             'length': 254,\n",
      "             'name': 'Ethncty_2',\n",
      "             'type': 'esriFieldTypeString'},\n",
      "            {'alias': 'Ethncty_3',\n",
      "             'length': 254,\n",
      "             'name': 'Ethncty_3',\n",
      "             'type': 'esriFieldTypeString'},\n",
      "            {'alias': 'Populatn',\n",
      "             'name': 'Populatn',\n",
      "             'type': 'esriFieldTypeInteger'},\n",
      "            {'alias': 'Pop_Source',\n",
      "             'length': 254,\n",
      "             'name': 'Pop_Source',\n",
      "             'type': 'esriFieldTypeString'},\n",
      "            {'alias': 'Pop_Year',\n",
      "             'name': 'Pop_Year',\n",
      "             'type': 'esriFieldTypeInteger'},\n",
      "            {'alias': 'Area_Ofcl',\n",
      "             'name': 'Area_Ofcl',\n",
      "             'type': 'esriFieldTypeDouble'},\n",
      "            {'alias': 'Area_GIS',\n",
      "             'name': 'Area_GIS',\n",
      "             'type': 'esriFieldTypeDouble'},\n",
      "            {'alias': 'Scale',\n",
      "             'length': 254,\n",
      "             'name': 'Scale',\n",
      "             'type': 'esriFieldTypeString'},\n",
      "            {'alias': 'Method',\n",
      "             'length': 254,\n",
      "             'name': 'Method',\n",
      "             'type': 'esriFieldTypeString'},\n",
      "            {'alias': 'Data_Ctrb',\n",
      "             'length': 254,\n",
      "             'name': 'Data_Ctrb',\n",
      "             'type': 'esriFieldTypeString'},\n",
      "            {'alias': 'Data_Src',\n",
      "             'length': 254,\n",
      "             'name': 'Data_Src',\n",
      "             'type': 'esriFieldTypeString'},\n",
      "            {'alias': 'Data_Date',\n",
      "             'length': 254,\n",
      "             'name': 'Data_Date',\n",
      "             'type': 'esriFieldTypeString'},\n",
      "            {'alias': 'Add_Note',\n",
      "             'length': 254,\n",
      "             'name': 'Add_Note',\n",
      "             'type': 'esriFieldTypeString'},\n",
      "            {'alias': 'More_info',\n",
      "             'length': 254,\n",
      "             'name': 'More_info',\n",
      "             'type': 'esriFieldTypeString'},\n",
      "            {'alias': 'Upl_Date',\n",
      "             'length': 254,\n",
      "             'name': 'Upl_Date',\n",
      "             'type': 'esriFieldTypeString'},\n",
      "            {'alias': 'Shape_Length',\n",
      "             'name': 'Shape_Length',\n",
      "             'type': 'esriFieldTypeDouble'},\n",
      "            {'alias': 'Shape_Area',\n",
      "             'name': 'Shape_Area',\n",
      "             'type': 'esriFieldTypeDouble'}],\n",
      " 'geometryType': 'esriGeometryPolygon',\n",
      " 'spatialReference': {'latestWkid': 3857, 'wkid': 102100}}\n"
     ]
    }
   ],
   "source": [
    "example_query = (\"http://gis.wri.org/server/rest/services/LandMark/comm_ind_Documented/MapServer/1/query?\"\n",
    "                \"f=json&returnGeometry=true&spatialRel=esriSpatialRelIntersects&maxAllowableOffset=2445&\"\n",
    "                \"geometry=%7B%22xmin%22%3A-12558297.303392%2C%22ymin%22%3A4411155.852665369%2C%22xmax%22%3A\"\n",
    "                \"-12528945.484530501%2C%22ymax%22%3A4440507.671526869%2C%22spatialReference%22%3A%7B%22wkid%\"\n",
    "                \"22%3A102100%7D%7D&geometryType=esriGeometryEnvelope&inSR=102100&outFields=OBJECTID%2CCountry\"\n",
    "                \"%2CIdentity%2CForm_Rec%2CDoc_Status%2CStat_Date%2CStat_Note%2CISO_Code%2CName%2CCategory%2C\"\n",
    "                \"Ethncty_1%2CEthncty_2%2CEthncty_3%2CPopulatn%2CPop_Source%2CPop_Year%2CArea_Ofcl%2CArea_GIS%2C\"\n",
    "                \"Scale%2CMethod%2CData_Ctrb%2CData_Src%2CData_Date%2CAdd_Note%2CMore_info%2CUpl_Date%2C\"\n",
    "                \"Shape_Length%2CShape_Area&outSR=102100\")\n",
    "\n",
    "r = requests.get(example_query)\n",
    "print(f\"Response code {r.status_code}\")\n",
    "pprint(r.json())"
   ]
  },
  {
   "cell_type": "markdown",
   "metadata": {},
   "source": [
    "Let's break this request down and modify it to work with decimal format locations.\n",
    "\n",
    "Also, since we dont know in advance which layer our data will be in, we need to query every layer/layer_id combination until we find features. This is the approach that LandMark seems to have taken."
   ]
  },
  {
   "cell_type": "markdown",
   "metadata": {},
   "source": [
    "https://developers.arcgis.com/rest/services-reference/query-map-service-layer-.htm"
   ]
  },
  {
   "cell_type": "code",
   "execution_count": 351,
   "metadata": {},
   "outputs": [],
   "source": [
    "layers = [\n",
    "    \"comm_ind_Documented\",\n",
    "    \"comm_ind_NotDocumented\",\n",
    "    \"comm_ind_FormalLandClaim\",\n",
    "    \"comm_ind_CustomaryTenure\",\n",
    "    \"comm_comm_Documented\",\n",
    "    \"comm_comm_NotDocumented\",\n",
    "    \"comm_comm_CustomaryTenure\",\n",
    "    \"comm_comm_FormalLandClaim\"\n",
    "         ]\n",
    "\n",
    "layer_ids = [0, 1]\n",
    "\n",
    "def make_envelope(lon, lat, offset=0.5):\n",
    "    center_lon = lon\n",
    "    center_lat = lat\n",
    "    xmin = center_lon - offset\n",
    "    xmax = center_lon + offset\n",
    "    ymin = center_lat - offset\n",
    "    ymax = center_lat + offset\n",
    "    return {'xmin':xmin, 'ymin': ymin, 'xmax': xmax, 'ymax': ymax}\n",
    "\n",
    "def find_popup_data(lon, lat):\n",
    "    \"\"\"\n",
    "    Try all possible layer/layer_id combinations looking too see if any of the intersects\n",
    "    contain data in the response. (This is currently what LandMark seems to do on their map site.)\n",
    "    Return the dictionary object if it exists, ready to put into a pop-up!\n",
    "    \"\"\"\n",
    "    found_items = []\n",
    "    envelope = make_envelope(lon, lat, offset=0.01)  # <-- We will need to change the offset with z-level\n",
    "                                                     # i.e. as we are more zoomed in, the envelope should be smaller \n",
    "    n = 1\n",
    "    for layer in layers:\n",
    "        for layer_id in layer_ids:\n",
    "            \n",
    "            print(f\"{n} of {len(layer_ids) * len(layers)}. Layer: {layer}\")\n",
    "            n += 1\n",
    "            test_query = (\n",
    "                f\"http://gis.wri.org/server/rest/services/LandMark/{layer}/MapServer/{layer_id}/query?\"\n",
    "                 \"f=json&returnGeometry=true&\"\n",
    "                 \"spatialRel=esriSpatialRelIntersects&\"\n",
    "                 \"maxAllowableOffset=0.05&\"\n",
    "                f\"geometry= {envelope}&\"\n",
    "                 \"geometryType=esriGeometryEnvelope&\"\n",
    "                 \"inSR={'wkid': 4326}&\"\n",
    "                 \"outSR={'wkid': 4326}&\"\n",
    "                 \"outFields=OBJECTID,Country,Identity,Form_Rec,Doc_Status,Stat_Date,Stat_Note,ISO_Code,\"\n",
    "                 \"Name,Category,Ethncty_1,Ethncty_2,Ethncty_3,Populatn,Pop_Source,Pop_Year,Area_Ofcl,\"\n",
    "                 \"Area_GIS,Scale,Method,Data_Ctrb,Data_Src,Data_Date,Add_Note,More_info,Upl_Date\"\n",
    "            )\n",
    "            if layer_id == 1:\n",
    "                test_query += \",Shape_Length,Shape_Area\"\n",
    "            try:\n",
    "                r = None\n",
    "                r = requests.get(test_query)\n",
    "                if len(r.json().get('features')) > 0:\n",
    "                    print(f\"\\tFound item. Name: {r.json().get('features')[0].get('attributes').get('Name')}\")\n",
    "                    found_items.append(r.json())\n",
    "                \n",
    "            except:\n",
    "                pass\n",
    "    return found_items\n"
   ]
  },
  {
   "cell_type": "code",
   "execution_count": 358,
   "metadata": {
    "scrolled": false
   },
   "outputs": [
    {
     "name": "stdout",
     "output_type": "stream",
     "text": [
      "1 of 16. Layer: comm_ind_Documented\n",
      "2 of 16. Layer: comm_ind_Documented\n",
      "3 of 16. Layer: comm_ind_NotDocumented\n",
      "4 of 16. Layer: comm_ind_NotDocumented\n",
      "5 of 16. Layer: comm_ind_FormalLandClaim\n",
      "6 of 16. Layer: comm_ind_FormalLandClaim\n",
      "\tFound item. Name: Yavarí - Mirim\n",
      "7 of 16. Layer: comm_ind_CustomaryTenure\n",
      "\tFound item. Name: Carolina\n",
      "8 of 16. Layer: comm_ind_CustomaryTenure\n",
      "9 of 16. Layer: comm_comm_Documented\n",
      "10 of 16. Layer: comm_comm_Documented\n",
      "11 of 16. Layer: comm_comm_NotDocumented\n",
      "12 of 16. Layer: comm_comm_NotDocumented\n",
      "13 of 16. Layer: comm_comm_CustomaryTenure\n",
      "14 of 16. Layer: comm_comm_CustomaryTenure\n",
      "15 of 16. Layer: comm_comm_FormalLandClaim\n",
      "16 of 16. Layer: comm_comm_FormalLandClaim\n"
     ]
    }
   ],
   "source": [
    "#found_items = find_popup_data(-111.6870, 31.9708)  # example location for polygon\n",
    "#found_items = find_popup_data(-53.05220997612444, -29.40287805863888) # example location for point name Kaaguy Poty in BRA\n",
    "found_items = find_popup_data(-71.7934563215134, -4.4187738539085535)\n"
   ]
  },
  {
   "cell_type": "code",
   "execution_count": 359,
   "metadata": {},
   "outputs": [
    {
     "name": "stdout",
     "output_type": "stream",
     "text": [
      "Found 2 items:\n",
      "\t0\n",
      "\t\tYavarí - Mirim\n",
      "\t1\n",
      "\t\tCarolina\n"
     ]
    }
   ],
   "source": [
    "print(f'Found {len(found_items)} items:')\n",
    "\n",
    "for n,item in enumerate(found_items):\n",
    "    print(f'\\t{n}')\n",
    "    for atts in item.get('features'):\n",
    "        print(f\"\\t\\t{atts.get('attributes').get('Name')}\")"
   ]
  },
  {
   "cell_type": "code",
   "execution_count": 360,
   "metadata": {},
   "outputs": [
    {
     "data": {
      "text/plain": [
       "[{'attributes': {'OBJECTID': 108054,\n",
       "   'Country': 'Peru',\n",
       "   'Identity': 'Indigenous',\n",
       "   'Form_Rec': 'Not acknowledged by govt',\n",
       "   'Doc_Status': 'Held or used with formal land claim submitted',\n",
       "   'Stat_Date': ' ',\n",
       "   'Stat_Note': ' ',\n",
       "   'ISO_Code': 'PER',\n",
       "   'Name': 'Yavarí - Mirim',\n",
       "   'Category': 'Reserva Indígena',\n",
       "   'Ethncty_1': ' ',\n",
       "   'Ethncty_2': ' ',\n",
       "   'Ethncty_3': ' ',\n",
       "   'Populatn': 0,\n",
       "   'Pop_Source': ' ',\n",
       "   'Pop_Year': 0,\n",
       "   'Area_Ofcl': 0,\n",
       "   'Area_GIS': 1373493.92546,\n",
       "   'Scale': ' ',\n",
       "   'Method': ' ',\n",
       "   'Data_Ctrb': 'IBC(via RAISG)',\n",
       "   'Data_Src': 'ORPIO - AIDESEP (2008)',\n",
       "   'Data_Date': '2016',\n",
       "   'Add_Note': ' ',\n",
       "   'More_info': 'https://www.amazoniasocioambiental.org/mapas/',\n",
       "   'Upl_Date': '2017/06/02',\n",
       "   'Shape_Length': 784333.60588043,\n",
       "   'Shape_Area': 13911607105.730444},\n",
       "  'geometry': {'rings': [[[-71.57, -4.13],\n",
       "     [-71.26, -4.43],\n",
       "     [-71.51, -4.44],\n",
       "     [-71.6, -4.53],\n",
       "     [-71.62, -4.47],\n",
       "     [-71.91, -4.52],\n",
       "     [-71.95, -4.61],\n",
       "     [-72.37, -4.8],\n",
       "     [-72.64, -5.06],\n",
       "     [-72.77, -5.1],\n",
       "     [-73.25, -4.8],\n",
       "     [-73.1, -4.38],\n",
       "     [-72.46, -4.0],\n",
       "     [-71.57, -4.13]],\n",
       "    [[-72.6, -4.99], [-72.6, -4.99], [-72.6, -4.99], [-72.6, -4.99]]]}}]"
      ]
     },
     "execution_count": 360,
     "metadata": {},
     "output_type": "execute_result"
    }
   ],
   "source": [
    "found_items[0].get('features')"
   ]
  },
  {
   "cell_type": "code",
   "execution_count": 361,
   "metadata": {},
   "outputs": [
    {
     "name": "stdout",
     "output_type": "stream",
     "text": [
      "{'rings': [[[-71.57, -4.13], [-71.26, -4.43], [-71.51, -4.44], [-71.6, -4.53], [-71.62, -4.47], [-71.91, -4.52], [-71.95, -4.61], [-72.37, -4.8], [-72.64, -5.06], [-72.77, -5.1], [-73.25, -4.8], [-73.1, -4.38], [-72.46, -4.0], [-71.57, -4.13]], [[-72.6, -4.99], [-72.6, -4.99], [-72.6, -4.99], [-72.6, -4.99]]]}\n",
      "\n",
      "{'x': -71.79, 'y': -4.42}\n",
      "\n"
     ]
    }
   ],
   "source": [
    "for item in found_items:\n",
    "    print(item.get('features')[0].get('geometry'))\n",
    "    print('')"
   ]
  },
  {
   "cell_type": "code",
   "execution_count": 362,
   "metadata": {},
   "outputs": [
    {
     "name": "stdout",
     "output_type": "stream",
     "text": [
      "Geostore status:  200\n",
      "{'data': {'type': 'geoStore', 'id': '25c686b5619b688d6a46753e5020fa49', 'attributes': {'geojson': {'features': [{'type': 'Feature', 'geometry': {'type': 'MultiPolygon', 'coordinates': [[[[-71.57, -4.13], [-71.26, -4.43], [-71.51, -4.44], [-71.6, -4.53], [-71.62, -4.47], [-71.91, -4.52], [-71.95, -4.61], [-72.37, -4.8], [-72.64, -5.06], [-72.77, -5.1], [-73.25, -4.8], [-73.1, -4.38], [-72.46, -4], [-71.57, -4.13]]], [[[-72.6, -4.99], [-72.6, -4.99], [-72.6, -4.99], [-72.6, -4.99]]]]}}], 'crs': {}, 'type': 'FeatureCollection'}, 'hash': '25c686b5619b688d6a46753e5020fa49', 'provider': {}, 'areaHa': 1380450.1326220776, 'bbox': [-73.25, -5.1, -71.26, -4], 'lock': False, 'info': {'use': {}}}}}\n",
      "Geostore status:  200\n",
      "{'data': {'type': 'geoStore', 'id': '0c6ea90182ed4e822c8e698fdffd3270', 'attributes': {'geojson': {'features': [{'type': 'Feature', 'geometry': {'type': 'Point', 'coordinates': [-71.79, -4.42]}}], 'crs': {}, 'type': 'FeatureCollection'}, 'hash': '0c6ea90182ed4e822c8e698fdffd3270', 'provider': {}, 'areaHa': 0, 'bbox': [-71.79, -4.42, -71.79, -4.42], 'lock': False, 'info': {'use': {}}}}}\n"
     ]
    }
   ],
   "source": [
    "\n",
    "for item in found_items:\n",
    "\n",
    "    geojson_point = {\"esrijson\":item.get('features')[0].get('geometry')\n",
    "                    }\n",
    "\n",
    "    payload = geojson_point\n",
    "    geostore_url = \"https://production-api.globalforestwatch.org/v1/geostore\"\n",
    "    r = requests.post(geostore_url, json=payload)\n",
    "\n",
    "    print('Geostore status: ',r.status_code)\n",
    "    print(r.json())"
   ]
  },
  {
   "cell_type": "code",
   "execution_count": null,
   "metadata": {},
   "outputs": [],
   "source": []
  },
  {
   "cell_type": "markdown",
   "metadata": {},
   "source": [
    "Above shows the working query, within a loop, searching a given lon, lat point for intersecting data. If the data that comes back is correct we stick it into a geostore object, which we can use to trigger an analysis.\n",
    "\n",
    "NB we have reached the conclusion that the best way to make this work is to make the Land Right layer out of multiple layers.\n",
    "\n",
    "This is the only way to get around the multiple simultaneous features selection bug."
   ]
  },
  {
   "cell_type": "code",
   "execution_count": 93,
   "metadata": {},
   "outputs": [],
   "source": [
    "# popup_data = json.get('features')[0].get('attributes')\n",
    "# pprint(popup_data)"
   ]
  },
  {
   "cell_type": "code",
   "execution_count": 95,
   "metadata": {
    "scrolled": true
   },
   "outputs": [
    {
     "name": "stdout",
     "output_type": "stream",
     "text": [
      "'esriGeometryPolygon'\n",
      "{'latestWkid': 4326, 'wkid': 4326}\n",
      "{'rings': [[[-53.24, -29.06],\n",
      "            [-53.23, -29.07],\n",
      "            [-53.25, -29.05],\n",
      "            [-53.24, -29.06]]]}\n"
     ]
    }
   ],
   "source": [
    "pprint(json.get('geometryType'))\n",
    "pprint(json.get('spatialReference'))\n",
    "pprint(json.get('features')[0].get('geometry'))"
   ]
  },
  {
   "cell_type": "code",
   "execution_count": null,
   "metadata": {},
   "outputs": [],
   "source": [
    "\"type\":\"Feature\",\n",
    "            \"properties\":{\n",
    "\n",
    "            },\n",
    "            \"geometry\":{\n",
    "               \"type\":\"Polygon\",\n",
    "               \"coordinates\":["
   ]
  },
  {
   "cell_type": "code",
   "execution_count": 138,
   "metadata": {},
   "outputs": [
    {
     "data": {
      "text/plain": [
       "{'type': 'Feature',\n",
       " 'properties': {},\n",
       " 'geometry': {'type': 'Polygon',\n",
       "  'coordinates': [[[-111.22, 32.1],\n",
       "    [-111.01, 32.15],\n",
       "    [-110.96, 32.0],\n",
       "    [-111.22, 32.1]],\n",
       "   [[-111.41, 33.02], [-111.41, 33.02], [-111.41, 33.02], [-111.41, 33.02]],\n",
       "   [[-112.72, 33.01], [-112.72, 33.01], [-112.72, 33.0], [-112.72, 33.01]],\n",
       "   [[-112.73, 32.25],\n",
       "    [-112.57, 32.59],\n",
       "    [-111.78, 32.79],\n",
       "    [-111.77, 32.37],\n",
       "    [-111.58, 32.42],\n",
       "    [-111.47, 32.22],\n",
       "    [-111.22, 32.19],\n",
       "    [-111.55, 32.01],\n",
       "    [-111.62, 31.51],\n",
       "    [-112.61, 31.82],\n",
       "    [-112.73, 32.25]],\n",
       "   [[-112.73, 32.99], [-112.71, 32.99], [-112.73, 32.99], [-112.73, 32.99]],\n",
       "   [[-112.74, 33.01], [-112.73, 33.01], [-112.73, 33.01], [-112.74, 33.01]],\n",
       "   [[-112.75, 33.01], [-112.75, 33.01], [-112.75, 33.01], [-112.75, 33.01]],\n",
       "   [[-112.76, 33.01], [-112.76, 33.01], [-112.76, 33.0], [-112.76, 33.01]],\n",
       "   [[-112.8, 33.03], [-112.8, 33.02], [-112.8, 33.02], [-112.8, 33.03]]]}}"
      ]
     },
     "execution_count": 138,
     "metadata": {},
     "output_type": "execute_result"
    }
   ],
   "source": [
    "g = {\n",
    "     'type': 'Feature',\n",
    "        'properties':{},\n",
    "        'geometry':{\n",
    "            'type':'Polygon',\n",
    "            'coordinates': json.get('features')[0].get('geometry').get('rings')\n",
    "        }\n",
    "    }\n",
    "\n",
    "g"
   ]
  },
  {
   "cell_type": "code",
   "execution_count": 139,
   "metadata": {},
   "outputs": [
    {
     "name": "stdout",
     "output_type": "stream",
     "text": [
      "https://production-api.globalforestwatch.org/v1/geostore\n",
      "400\n",
      "{'errors': [{'source': {'parameter': 'geojson'}, 'code': 'invalid_body_parameter', 'title': 'Invalid body parameter', 'detail': 'The type property is required and was not found', 'status': 400}]}\n"
     ]
    }
   ],
   "source": [
    "geostore_url = \"https://production-api.globalforestwatch.org/v1/geostore\"\n",
    "body = {'geojson': g}\n",
    "r = requests.post(geostore_url, data=body)\n",
    "print(r.url)\n",
    "print(r.status_code)\n",
    "print(r.json())"
   ]
  },
  {
   "cell_type": "code",
   "execution_count": 137,
   "metadata": {},
   "outputs": [
    {
     "data": {
      "text/plain": [
       "{'type': 'Polygon',\n",
       " 'coordinates': [[[-111.22, 32.1],\n",
       "   [-111.01, 32.15],\n",
       "   [-110.96, 32.0],\n",
       "   [-111.22, 32.1]],\n",
       "  [[-111.41, 33.02], [-111.41, 33.02], [-111.41, 33.02], [-111.41, 33.02]],\n",
       "  [[-112.72, 33.01], [-112.72, 33.01], [-112.72, 33.0], [-112.72, 33.01]],\n",
       "  [[-112.73, 32.25],\n",
       "   [-112.57, 32.59],\n",
       "   [-111.78, 32.79],\n",
       "   [-111.77, 32.37],\n",
       "   [-111.58, 32.42],\n",
       "   [-111.47, 32.22],\n",
       "   [-111.22, 32.19],\n",
       "   [-111.55, 32.01],\n",
       "   [-111.62, 31.51],\n",
       "   [-112.61, 31.82],\n",
       "   [-112.73, 32.25]],\n",
       "  [[-112.73, 32.99], [-112.71, 32.99], [-112.73, 32.99], [-112.73, 32.99]],\n",
       "  [[-112.74, 33.01], [-112.73, 33.01], [-112.73, 33.01], [-112.74, 33.01]],\n",
       "  [[-112.75, 33.01], [-112.75, 33.01], [-112.75, 33.01], [-112.75, 33.01]],\n",
       "  [[-112.76, 33.01], [-112.76, 33.01], [-112.76, 33.0], [-112.76, 33.01]],\n",
       "  [[-112.8, 33.03], [-112.8, 33.02], [-112.8, 33.02], [-112.8, 33.03]]]}"
      ]
     },
     "execution_count": 137,
     "metadata": {},
     "output_type": "execute_result"
    }
   ],
   "source": [
    "g"
   ]
  },
  {
   "cell_type": "markdown",
   "metadata": {},
   "source": [
    "### example query for a single point (to check size of offset applied)\n",
    "```\n",
    "http://gis.wri.org/server/rest/services/LandMark/comm_comm_CustomaryTenure/MapServer/0/query?f=json&returnGeometry=true&spatialRel=esriSpatialRelIntersects&maxAllowableOffset=4891&geometry={\"xmin\":-5981655.389737174,\"ymin\":-2737846.5287887035,\"xmax\":-5922951.752014175,\"ymax\":-2679142.8910657037,\"spatialReference\":{\"wkid\":102100}}&geometryType=esriGeometryEnvelope&inSR=102100&outFields=OBJECTID,Country,Identity,Form_Rec,Doc_Status,Stat_Date,Stat_Note,ISO_Code,Name,Category,Ethncty_1,Ethncty_2,Ethncty_3,Populatn,Pop_Source,Pop_Year,Area_Ofcl,Area_GIS,Scale,Method,Data_Ctrb,Data_Src,Data_Date,Add_Note,More_info,Upl_Date&outSR=102100\n",
    "```"
   ]
  },
  {
   "cell_type": "code",
   "execution_count": 140,
   "metadata": {},
   "outputs": [],
   "source": [
    "import pyproj"
   ]
  },
  {
   "cell_type": "code",
   "execution_count": 160,
   "metadata": {},
   "outputs": [],
   "source": [
    "p1 = pyproj.Proj(init=\"EPSG:3857\")\n",
    "p2 = pyproj.Proj(init='EPSG:4326')"
   ]
  },
  {
   "cell_type": "code",
   "execution_count": 158,
   "metadata": {},
   "outputs": [
    {
     "name": "stdout",
     "output_type": "stream",
     "text": [
      "-180.0 90.0\n"
     ]
    }
   ],
   "source": [
    "lon, lat = (-5981655.389737174, -2737846.5287887035)\n",
    "#lon, lat = (-5922951.752014175, -2679142.8910657037)\n",
    "\n",
    "# find x,y of Jefferson City, MO.\n",
    "x1, y1 = p1(lon, lat)\n",
    "# transform this point to projection 2 coordinates.\n",
    "x2, y2 = transform(p1, p2, x1,y1)\n",
    "print(x2,y2)"
   ]
  },
  {
   "cell_type": "code",
   "execution_count": 165,
   "metadata": {},
   "outputs": [
    {
     "data": {
      "text/plain": [
       "(-20037508.342789244, 111325.14286638486)"
      ]
     },
     "execution_count": 165,
     "metadata": {},
     "output_type": "execute_result"
    }
   ],
   "source": [
    "p1(-180,1)"
   ]
  },
  {
   "cell_type": "code",
   "execution_count": 168,
   "metadata": {},
   "outputs": [
    {
     "name": "stdout",
     "output_type": "stream",
     "text": [
      "(-53.73412460936816, -23.87223032049987)\n",
      "(-53.20678085936831, -23.389107218041758)\n"
     ]
    }
   ],
   "source": [
    "# envelope for a point\n",
    "print(transform(p1, p2, -5981655.389737174, -2737846.5287887035))\n",
    "print(transform(p1,p2, -5922951.752014175, -2679142.8910657037))"
   ]
  },
  {
   "cell_type": "markdown",
   "metadata": {},
   "source": [
    "Looks like they are adding ~0.5 degrees around a point to create an envelope"
   ]
  },
  {
   "cell_type": "code",
   "execution_count": 171,
   "metadata": {},
   "outputs": [
    {
     "data": {
      "text/plain": [
       "(0.043936600546285794, 0.043936596240191)"
      ]
     },
     "execution_count": 171,
     "metadata": {},
     "output_type": "execute_result"
    }
   ],
   "source": [
    "transform(p1, p2,4891, 4891)"
   ]
  },
  {
   "cell_type": "markdown",
   "metadata": {},
   "source": [
    "Also looks like there is an offset of 0.05 degrees added\n",
    "\n",
    "Seems like this is only true at specific z-levels."
   ]
  },
  {
   "cell_type": "code",
   "execution_count": 200,
   "metadata": {},
   "outputs": [
    {
     "name": "stdout",
     "output_type": "stream",
     "text": [
      "(-63.954156347646915, -9.415415703418075)\n",
      "(-63.69048447264698, -9.155198923644756)\n"
     ]
    }
   ],
   "source": [
    "\n",
    "print(transform(p1, p2,-7119344.118733459, -1052868.6772707643))\n",
    "print(transform(p1,p2, -7089992.299871959, -1023516.8584092644))"
   ]
  },
  {
   "cell_type": "code",
   "execution_count": 254,
   "metadata": {},
   "outputs": [
    {
     "data": {
      "text/plain": [
       "{'attributes': {'OBJECTID': 119,\n",
       "  'Country': 'Brazil',\n",
       "  'Identity': 'Indigenous',\n",
       "  'Form_Rec': 'Not acknowledged by govt',\n",
       "  'Doc_Status': 'Held or used with formal land claim submitted',\n",
       "  'Stat_Date': ' ',\n",
       "  'Stat_Note': None,\n",
       "  'ISO_Code': 'BRA',\n",
       "  'Name': 'Tekoa Pindoty',\n",
       "  'Category': 'Terra Indígena',\n",
       "  'Ethncty_1': None,\n",
       "  'Ethncty_2': None,\n",
       "  'Ethncty_3': None,\n",
       "  'Populatn': 0,\n",
       "  'Pop_Source': ' ',\n",
       "  'Pop_Year': ' ',\n",
       "  'Area_Ofcl': 0,\n",
       "  'Area_GIS': 0,\n",
       "  'Scale': ' ',\n",
       "  'Method': ' ',\n",
       "  'Data_Ctrb': 'Publicly available',\n",
       "  'Data_Src': 'Fundação Nacional do Índio - FUNAI',\n",
       "  'Data_Date': '2013',\n",
       "  'Add_Note': None,\n",
       "  'More_info': 'http://www.funai.gov.br/',\n",
       "  'Upl_Date': '2015/04/23'},\n",
       " 'geometry': {'x': -5327051, 'y': -2846602}}"
      ]
     },
     "execution_count": 254,
     "metadata": {},
     "output_type": "execute_result"
    }
   ],
   "source": [
    "url =(\"http://gis.wri.org/server/rest/services/LandMark/comm_ind_FormalLandClaim/MapServer/0/query?\"\n",
    "    \"f=json&returnGeometry=true&spatialRel=esriSpatialRelIntersects&maxAllowableOffset=2445&\"\n",
    "    \"geometry={'xmin':-5344476.321952126,'ymin':-2868706.7212128867,'xmax':-5315124.503090627,\"\n",
    "              \"'ymax':-2839354.902351387,'spatialReference':{'wkid':102100}}&\"\n",
    "    \"geometryType=esriGeometryEnvelope&inSR=102100&outFields=OBJECTID,Country,Identity,\"\n",
    "    \"Form_Rec,Doc_Status,Stat_Date,Stat_Note,ISO_Code,Name,Category,Ethncty_1,Ethncty_2,Ethncty_3,\"\n",
    "   \"Populatn,Pop_Source,Pop_Year,Area_Ofcl,\"\n",
    "    \"Area_GIS,Scale,Method,Data_Ctrb,Data_Src,Data_Date,Add_Note,More_info,Upl_Date&outSR=102100\"\n",
    ")\n",
    "\n",
    "r = requests.get(url)\n",
    "r.json().get('features')[0]"
   ]
  },
  {
   "cell_type": "code",
   "execution_count": 261,
   "metadata": {},
   "outputs": [
    {
     "name": "stdout",
     "output_type": "stream",
     "text": [
      "(0.0219638086967223, 0.021963808158792477)\n"
     ]
    }
   ],
   "source": [
    "print(transform(p1,p2, 2445, 2445))"
   ]
  },
  {
   "cell_type": "code",
   "execution_count": 262,
   "metadata": {},
   "outputs": [
    {
     "data": {
      "text/plain": [
       "{'attributes': {'OBJECTID': 119,\n",
       "  'Country': 'Brazil',\n",
       "  'Identity': 'Indigenous',\n",
       "  'Form_Rec': 'Not acknowledged by govt',\n",
       "  'Doc_Status': 'Held or used with formal land claim submitted',\n",
       "  'Stat_Date': ' ',\n",
       "  'Stat_Note': None,\n",
       "  'ISO_Code': 'BRA',\n",
       "  'Name': 'Tekoa Pindoty',\n",
       "  'Category': 'Terra Indígena',\n",
       "  'Ethncty_1': None,\n",
       "  'Ethncty_2': None,\n",
       "  'Ethncty_3': None,\n",
       "  'Populatn': 0,\n",
       "  'Pop_Source': ' ',\n",
       "  'Pop_Year': ' ',\n",
       "  'Area_Ofcl': 0,\n",
       "  'Area_GIS': 0,\n",
       "  'Scale': ' ',\n",
       "  'Method': ' ',\n",
       "  'Data_Ctrb': 'Publicly available',\n",
       "  'Data_Src': 'Fundação Nacional do Índio - FUNAI',\n",
       "  'Data_Date': '2013',\n",
       "  'Add_Note': None,\n",
       "  'More_info': 'http://www.funai.gov.br/',\n",
       "  'Upl_Date': '2015/04/23'},\n",
       " 'geometry': {'x': -47.854, 'y': -24.763}}"
      ]
     },
     "execution_count": 262,
     "metadata": {},
     "output_type": "execute_result"
    }
   ],
   "source": [
    "url =(\"http://gis.wri.org/server/rest/services/LandMark/comm_ind_FormalLandClaim/MapServer/0/query?\"\n",
    "    \"f=json&returnGeometry=true&spatialRel=esriSpatialRelIntersects&maxAllowableOffset=0.0219638086967223&\"\n",
    "    \"geometry={'xmin':-48.010247656244786,'ymin':-24.942687549135734,'xmax':-47.746575781244864,\"\n",
    "              \"'ymax':-24.703376885973128,'spatialReference':{'wkid': 4326}}&\"\n",
    "    \"geometryType=esriGeometryEnvelope&inSR={'wkid': 4326}&outFields=OBJECTID,Country,Identity,\"\n",
    "    \"Form_Rec,Doc_Status,Stat_Date,Stat_Note,ISO_Code,Name,Category,Ethncty_1,Ethncty_2,Ethncty_3,\"\n",
    "   \"Populatn,Pop_Source,Pop_Year,Area_Ofcl,\"\n",
    "    \"Area_GIS,Scale,Method,Data_Ctrb,Data_Src,Data_Date,Add_Note,More_info,Upl_Date&outSR={'wkid': 4326}\"\n",
    ")\n",
    "\n",
    "r = requests.get(url)\n",
    "r.json().get('features')[0]"
   ]
  },
  {
   "cell_type": "code",
   "execution_count": null,
   "metadata": {},
   "outputs": [],
   "source": []
  }
 ],
 "metadata": {
  "kernelspec": {
   "display_name": "Python 3",
   "language": "python",
   "name": "python3"
  },
  "language_info": {
   "codemirror_mode": {
    "name": "ipython",
    "version": 3
   },
   "file_extension": ".py",
   "mimetype": "text/x-python",
   "name": "python",
   "nbconvert_exporter": "python",
   "pygments_lexer": "ipython3",
   "version": "3.6.5"
  }
 },
 "nbformat": 4,
 "nbformat_minor": 2
}
