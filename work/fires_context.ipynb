{
 "cells": [
  {
   "cell_type": "markdown",
   "metadata": {},
   "source": [
    "## Global Forest Watch Fires data\n",
    "\n",
    "Example of extracting the time series of counts per country from the GFW fires report data (e.g. [from Spain]( http://fires.globalforestwatch.org/report/index.html#aoitype=GLOBAL&reporttype=globalcountryreport&country=Spain&aois=Andalucía!Aragón!Cantabria!Castilla y León!Castilla-La Mancha!Cataluña!Ceuta y Melilla!Comunidad Foral de Navarra!Comunidad Valenciana!Comunidad de Madrid!Extremadura!Galicia!Islas Baleares!Islas Canarias!La Rioja!País Vasco!Principado de Asturias!Región de Murcia&dates=fYear-2017!fMonth-6!fDay-25!tYear-2017!tMonth-7!tDay-2)), and using that to create contextual info for current fires."
   ]
  },
  {
   "cell_type": "code",
   "execution_count": 1,
   "metadata": {},
   "outputs": [
    {
     "data": {
      "text/html": [
       "\n",
       "    <div class=\"bk-root\">\n",
       "        <a href=\"http://bokeh.pydata.org\" target=\"_blank\" class=\"bk-logo bk-logo-small bk-logo-notebook\"></a>\n",
       "        <span id=\"c0c7fa31-372a-4408-b2d1-ff5260bb8f43\">Loading BokehJS ...</span>\n",
       "    </div>"
      ]
     },
     "metadata": {},
     "output_type": "display_data"
    },
    {
     "data": {
      "application/javascript": [
       "\n",
       "(function(global) {\n",
       "  function now() {\n",
       "    return new Date();\n",
       "  }\n",
       "\n",
       "  var force = true;\n",
       "\n",
       "  if (typeof (window._bokeh_onload_callbacks) === \"undefined\" || force === true) {\n",
       "    window._bokeh_onload_callbacks = [];\n",
       "    window._bokeh_is_loading = undefined;\n",
       "  }\n",
       "\n",
       "\n",
       "  \n",
       "  if (typeof (window._bokeh_timeout) === \"undefined\" || force === true) {\n",
       "    window._bokeh_timeout = Date.now() + 5000;\n",
       "    window._bokeh_failed_load = false;\n",
       "  }\n",
       "\n",
       "  var NB_LOAD_WARNING = {'data': {'text/html':\n",
       "     \"<div style='background-color: #fdd'>\\n\"+\n",
       "     \"<p>\\n\"+\n",
       "     \"BokehJS does not appear to have successfully loaded. If loading BokehJS from CDN, this \\n\"+\n",
       "     \"may be due to a slow or bad network connection. Possible fixes:\\n\"+\n",
       "     \"</p>\\n\"+\n",
       "     \"<ul>\\n\"+\n",
       "     \"<li>re-rerun `output_notebook()` to attempt to load from CDN again, or</li>\\n\"+\n",
       "     \"<li>use INLINE resources instead, as so:</li>\\n\"+\n",
       "     \"</ul>\\n\"+\n",
       "     \"<code>\\n\"+\n",
       "     \"from bokeh.resources import INLINE\\n\"+\n",
       "     \"output_notebook(resources=INLINE)\\n\"+\n",
       "     \"</code>\\n\"+\n",
       "     \"</div>\"}};\n",
       "\n",
       "  function display_loaded() {\n",
       "    if (window.Bokeh !== undefined) {\n",
       "      var el = document.getElementById(\"c0c7fa31-372a-4408-b2d1-ff5260bb8f43\");\n",
       "      el.textContent = \"BokehJS \" + Bokeh.version + \" successfully loaded.\";\n",
       "    } else if (Date.now() < window._bokeh_timeout) {\n",
       "      setTimeout(display_loaded, 100)\n",
       "    }\n",
       "  }\n",
       "\n",
       "  function run_callbacks() {\n",
       "    try {\n",
       "      window._bokeh_onload_callbacks.forEach(function(callback) { callback() });\n",
       "    }\n",
       "    finally {\n",
       "      delete window._bokeh_onload_callbacks\n",
       "    }\n",
       "    console.info(\"Bokeh: all callbacks have finished\");\n",
       "  }\n",
       "\n",
       "  function load_libs(js_urls, callback) {\n",
       "    window._bokeh_onload_callbacks.push(callback);\n",
       "    if (window._bokeh_is_loading > 0) {\n",
       "      console.log(\"Bokeh: BokehJS is being loaded, scheduling callback at\", now());\n",
       "      return null;\n",
       "    }\n",
       "    if (js_urls == null || js_urls.length === 0) {\n",
       "      run_callbacks();\n",
       "      return null;\n",
       "    }\n",
       "    console.log(\"Bokeh: BokehJS not loaded, scheduling load and callback at\", now());\n",
       "    window._bokeh_is_loading = js_urls.length;\n",
       "    for (var i = 0; i < js_urls.length; i++) {\n",
       "      var url = js_urls[i];\n",
       "      var s = document.createElement('script');\n",
       "      s.src = url;\n",
       "      s.async = false;\n",
       "      s.onreadystatechange = s.onload = function() {\n",
       "        window._bokeh_is_loading--;\n",
       "        if (window._bokeh_is_loading === 0) {\n",
       "          console.log(\"Bokeh: all BokehJS libraries loaded\");\n",
       "          run_callbacks()\n",
       "        }\n",
       "      };\n",
       "      s.onerror = function() {\n",
       "        console.warn(\"failed to load library \" + url);\n",
       "      };\n",
       "      console.log(\"Bokeh: injecting script tag for BokehJS library: \", url);\n",
       "      document.getElementsByTagName(\"head\")[0].appendChild(s);\n",
       "    }\n",
       "  };var element = document.getElementById(\"c0c7fa31-372a-4408-b2d1-ff5260bb8f43\");\n",
       "  if (element == null) {\n",
       "    console.log(\"Bokeh: ERROR: autoload.js configured with elementid 'c0c7fa31-372a-4408-b2d1-ff5260bb8f43' but no matching script tag was found. \")\n",
       "    return false;\n",
       "  }\n",
       "\n",
       "  var js_urls = [\"https://cdn.pydata.org/bokeh/release/bokeh-0.12.6.min.js\", \"https://cdn.pydata.org/bokeh/release/bokeh-widgets-0.12.6.min.js\"];\n",
       "\n",
       "  var inline_js = [\n",
       "    function(Bokeh) {\n",
       "      Bokeh.set_log_level(\"info\");\n",
       "    },\n",
       "    \n",
       "    function(Bokeh) {\n",
       "      \n",
       "    },\n",
       "    \n",
       "    function(Bokeh) {\n",
       "      \n",
       "      document.getElementById(\"c0c7fa31-372a-4408-b2d1-ff5260bb8f43\").textContent = \"BokehJS is loading...\";\n",
       "    },\n",
       "    function(Bokeh) {\n",
       "      console.log(\"Bokeh: injecting CSS: https://cdn.pydata.org/bokeh/release/bokeh-0.12.6.min.css\");\n",
       "      Bokeh.embed.inject_css(\"https://cdn.pydata.org/bokeh/release/bokeh-0.12.6.min.css\");\n",
       "      console.log(\"Bokeh: injecting CSS: https://cdn.pydata.org/bokeh/release/bokeh-widgets-0.12.6.min.css\");\n",
       "      Bokeh.embed.inject_css(\"https://cdn.pydata.org/bokeh/release/bokeh-widgets-0.12.6.min.css\");\n",
       "    }\n",
       "  ];\n",
       "\n",
       "  function run_inline_js() {\n",
       "    \n",
       "    if ((window.Bokeh !== undefined) || (force === true)) {\n",
       "      for (var i = 0; i < inline_js.length; i++) {\n",
       "        inline_js[i](window.Bokeh);\n",
       "      }if (force === true) {\n",
       "        display_loaded();\n",
       "      }} else if (Date.now() < window._bokeh_timeout) {\n",
       "      setTimeout(run_inline_js, 100);\n",
       "    } else if (!window._bokeh_failed_load) {\n",
       "      console.log(\"Bokeh: BokehJS failed to load within specified timeout.\");\n",
       "      window._bokeh_failed_load = true;\n",
       "    } else if (force !== true) {\n",
       "      var cell = $(document.getElementById(\"c0c7fa31-372a-4408-b2d1-ff5260bb8f43\")).parents('.cell').data().cell;\n",
       "      cell.output_area.append_execute_result(NB_LOAD_WARNING)\n",
       "    }\n",
       "\n",
       "  }\n",
       "\n",
       "  if (window._bokeh_is_loading === 0) {\n",
       "    console.log(\"Bokeh: BokehJS loaded, going straight to plotting\");\n",
       "    run_inline_js();\n",
       "  } else {\n",
       "    load_libs(js_urls, function() {\n",
       "      console.log(\"Bokeh: BokehJS plotting callback run at\", now());\n",
       "      run_inline_js();\n",
       "    });\n",
       "  }\n",
       "}(this));"
      ]
     },
     "metadata": {},
     "output_type": "display_data"
    }
   ],
   "source": [
    "import requests\n",
    "import numpy as np\n",
    "import pandas as pd\n",
    "import json\n",
    "import matplotlib.pyplot as plt\n",
    "%matplotlib inline\n",
    "\n",
    "from bokeh.plotting import figure, show\n",
    "from bokeh.io import output_notebook\n",
    "output_notebook()"
   ]
  },
  {
   "cell_type": "code",
   "execution_count": 2,
   "metadata": {},
   "outputs": [
    {
     "data": {
      "text/plain": [
       "'http://gis-gfw.wri.org/arcgis/rest/services/Fires/FIRMS_Global/MapServer/9/query?f=json&where=ID_0%20%3D%20215%20AND%20NAME_1%20in%20(%27Andaluc%C3%ADa%27%2C%27Arag%C3%B3n%27%2C%27Cantabria%27%2C%27Castilla%20y%20Le%C3%B3n%27%2C%27Castilla-La%20Mancha%27%2C%27Catalu%C3%B1a%27%2C%27Ceuta%20y%20Melilla%27%2C%27Comunidad%20Foral%20de%20Navarra%27%2C%27Comunidad%20Valenciana%27%2C%27Comunidad%20de%20Madrid%27%2C%27Extremadura%27%2C%27Galicia%27%2C%27Islas%20Baleares%27%2C%27Islas%20Canarias%27%2C%27La%20Rioja%27%2C%27Pa%C3%ADs%20Vasco%27%2C%27Principado%20de%20Asturias%27%2C%27Regi%C3%B3n%20de%20Murcia%27)&returnGeometry=false&spatialRel=esriSpatialRelIntersects&groupByFieldsForStatistics=ACQ_DATE&orderByFields=ACQ_DATE%20ASC&outStatistics=%5B%7B%22statisticType%22%3A%22count%22%2C%22onStatisticField%22%3A%22ACQ_DATE%22%2C%22outStatisticFieldName%22%3A%22Count%22%7D%5D&callback=dojo.io.script.jsonp_dojoIoScript3._jsonpCallback'"
      ]
     },
     "execution_count": 2,
     "metadata": {},
     "output_type": "execute_result"
    }
   ],
   "source": [
    "## URL for ESP\n",
    "url = \"http://gis-gfw.wri.org/arcgis/rest/services/Fires/FIRMS_Global/MapServer/9/query?f=json&where=ID_0%20%3D%20215%20AND%20NAME_1%20in%20(%27Andaluc%C3%ADa%27%2C%27Arag%C3%B3n%27%2C%27Cantabria%27%2C%27Castilla%20y%20Le%C3%B3n%27%2C%27Castilla-La%20Mancha%27%2C%27Catalu%C3%B1a%27%2C%27Ceuta%20y%20Melilla%27%2C%27Comunidad%20Foral%20de%20Navarra%27%2C%27Comunidad%20Valenciana%27%2C%27Comunidad%20de%20Madrid%27%2C%27Extremadura%27%2C%27Galicia%27%2C%27Islas%20Baleares%27%2C%27Islas%20Canarias%27%2C%27La%20Rioja%27%2C%27Pa%C3%ADs%20Vasco%27%2C%27Principado%20de%20Asturias%27%2C%27Regi%C3%B3n%20de%20Murcia%27)&returnGeometry=false&spatialRel=esriSpatialRelIntersects&groupByFieldsForStatistics=ACQ_DATE&orderByFields=ACQ_DATE%20ASC&outStatistics=%5B%7B%22statisticType%22%3A%22count%22%2C%22onStatisticField%22%3A%22ACQ_DATE%22%2C%22outStatisticFieldName%22%3A%22Count%22%7D%5D&callback=dojo.io.script.jsonp_dojoIoScript3._jsonpCallback\"\n",
    "url"
   ]
  },
  {
   "cell_type": "code",
   "execution_count": 3,
   "metadata": {
    "collapsed": true
   },
   "outputs": [],
   "source": [
    "r = requests.get(url)\n",
    "r.status_code\n",
    "text = r.text\n",
    "x = text.split('dojo.io.script.jsonp_dojoIoScript3._jsonpCallback(')[1][:-2]\n",
    "d = json.loads(x)"
   ]
  },
  {
   "cell_type": "code",
   "execution_count": 4,
   "metadata": {
    "collapsed": true
   },
   "outputs": [],
   "source": [
    "# Parse the data, transform from microseconds since 1970,01,01 to datetime, and add data into a dataframe\n",
    "date = []\n",
    "count = []\n",
    "for row in d.get('features'):\n",
    "    tmp = row.get('attributes')\n",
    "    date.append( pd.datetime.fromtimestamp( tmp.get('ACQ_DATE') / 1e3))\n",
    "    count.append(tmp.get('Count'))\n",
    "df = pd.DataFrame(count, index=date, columns=['count'])"
   ]
  },
  {
   "cell_type": "code",
   "execution_count": 5,
   "metadata": {},
   "outputs": [
    {
     "data": {
      "text/html": [
       "<div>\n",
       "<style>\n",
       "    .dataframe thead tr:only-child th {\n",
       "        text-align: right;\n",
       "    }\n",
       "\n",
       "    .dataframe thead th {\n",
       "        text-align: left;\n",
       "    }\n",
       "\n",
       "    .dataframe tbody tr th {\n",
       "        vertical-align: top;\n",
       "    }\n",
       "</style>\n",
       "<table border=\"1\" class=\"dataframe\">\n",
       "  <thead>\n",
       "    <tr style=\"text-align: right;\">\n",
       "      <th></th>\n",
       "      <th>count</th>\n",
       "    </tr>\n",
       "  </thead>\n",
       "  <tbody>\n",
       "    <tr>\n",
       "      <th>2012-01-01 01:00:00</th>\n",
       "      <td>19</td>\n",
       "    </tr>\n",
       "    <tr>\n",
       "      <th>2012-01-02 01:00:00</th>\n",
       "      <td>4</td>\n",
       "    </tr>\n",
       "    <tr>\n",
       "      <th>2012-01-03 01:00:00</th>\n",
       "      <td>8</td>\n",
       "    </tr>\n",
       "    <tr>\n",
       "      <th>2012-01-05 01:00:00</th>\n",
       "      <td>9</td>\n",
       "    </tr>\n",
       "    <tr>\n",
       "      <th>2012-01-06 01:00:00</th>\n",
       "      <td>4</td>\n",
       "    </tr>\n",
       "  </tbody>\n",
       "</table>\n",
       "</div>"
      ],
      "text/plain": [
       "                     count\n",
       "2012-01-01 01:00:00     19\n",
       "2012-01-02 01:00:00      4\n",
       "2012-01-03 01:00:00      8\n",
       "2012-01-05 01:00:00      9\n",
       "2012-01-06 01:00:00      4"
      ]
     },
     "execution_count": 5,
     "metadata": {},
     "output_type": "execute_result"
    }
   ],
   "source": [
    "df.head()"
   ]
  },
  {
   "cell_type": "code",
   "execution_count": 6,
   "metadata": {},
   "outputs": [
    {
     "data": {
      "text/html": [
       "<div>\n",
       "<style>\n",
       "    .dataframe thead tr:only-child th {\n",
       "        text-align: right;\n",
       "    }\n",
       "\n",
       "    .dataframe thead th {\n",
       "        text-align: left;\n",
       "    }\n",
       "\n",
       "    .dataframe tbody tr th {\n",
       "        vertical-align: top;\n",
       "    }\n",
       "</style>\n",
       "<table border=\"1\" class=\"dataframe\">\n",
       "  <thead>\n",
       "    <tr style=\"text-align: right;\">\n",
       "      <th></th>\n",
       "      <th>count</th>\n",
       "    </tr>\n",
       "  </thead>\n",
       "  <tbody>\n",
       "    <tr>\n",
       "      <th>2017-06-23 02:00:00</th>\n",
       "      <td>17</td>\n",
       "    </tr>\n",
       "    <tr>\n",
       "      <th>2017-06-24 02:00:00</th>\n",
       "      <td>8</td>\n",
       "    </tr>\n",
       "    <tr>\n",
       "      <th>2017-06-25 02:00:00</th>\n",
       "      <td>20</td>\n",
       "    </tr>\n",
       "    <tr>\n",
       "      <th>2017-06-26 02:00:00</th>\n",
       "      <td>7</td>\n",
       "    </tr>\n",
       "    <tr>\n",
       "      <th>2017-06-27 02:00:00</th>\n",
       "      <td>1</td>\n",
       "    </tr>\n",
       "  </tbody>\n",
       "</table>\n",
       "</div>"
      ],
      "text/plain": [
       "                     count\n",
       "2017-06-23 02:00:00     17\n",
       "2017-06-24 02:00:00      8\n",
       "2017-06-25 02:00:00     20\n",
       "2017-06-26 02:00:00      7\n",
       "2017-06-27 02:00:00      1"
      ]
     },
     "execution_count": 6,
     "metadata": {},
     "output_type": "execute_result"
    }
   ],
   "source": [
    "df.tail()"
   ]
  },
  {
   "cell_type": "code",
   "execution_count": 7,
   "metadata": {},
   "outputs": [
    {
     "data": {
      "text/plain": [
       "<matplotlib.axes._subplots.AxesSubplot at 0x11b147208>"
      ]
     },
     "execution_count": 7,
     "metadata": {},
     "output_type": "execute_result"
    },
    {
     "data": {
      "image/png": "[encoded data removed]",
      "text/plain": [
       "<matplotlib.figure.Figure at 0x10f962fd0>"
      ]
     },
     "metadata": {},
     "output_type": "display_data"
    }
   ],
   "source": [
    "df.plot()"
   ]
  },
  {
   "cell_type": "markdown",
   "metadata": {},
   "source": [
    "These data have a strong seasonality. We can:\n",
    "\n",
    "1. Ignore it and make a simple percentile rank against all data.\n",
    "\n",
    "2. Make a percentile rank against data while considering seasonality (this is harder to make generic, as seasonality differs with location). \n",
    "\n",
    "2. Consider seasonality explicitly, and make an anomaly against a smooth or DOY mean\n",
    "\n",
    "## Percentile rank\n",
    "\n",
    "When given X counts/day, show the percentile rank based on historical data. "
   ]
  },
  {
   "cell_type": "code",
   "execution_count": 8,
   "metadata": {},
   "outputs": [
    {
     "data": {
      "text/plain": [
       "<matplotlib.axes._subplots.AxesSubplot at 0x11b24fe10>"
      ]
     },
     "execution_count": 8,
     "metadata": {},
     "output_type": "execute_result"
    },
    {
     "data": {
      "image/png": "[encoded data removed]",
      "text/plain": [
       "<matplotlib.figure.Figure at 0x10fc25128>"
      ]
     },
     "metadata": {},
     "output_type": "display_data"
    }
   ],
   "source": [
    "df['count'].plot(kind='hist', bins=100, xlim=(0,100))"
   ]
  },
  {
   "cell_type": "code",
   "execution_count": 9,
   "metadata": {
    "collapsed": true
   },
   "outputs": [],
   "source": [
    "from scipy import stats"
   ]
  },
  {
   "cell_type": "code",
   "execution_count": 10,
   "metadata": {},
   "outputs": [
    {
     "name": "stdout",
     "output_type": "stream",
     "text": [
      "FIRES\n",
      "Detected 5 counts/day over A.O.I:  59% of days over the period of 2012-01-01 to 2017-06-27 had more fires.\n"
     ]
    }
   ],
   "source": [
    "historical_data = df['count'].values\n",
    "start = df.index[0]\n",
    "end = df.index[-1]\n",
    "\n",
    "current_count = 5\n",
    "\n",
    "percentile = stats.percentileofscore(historical_data, current_count)\n",
    "percentile_invert = 100 - percentile\n",
    "\n",
    "print(\"FIRES\")\n",
    "print(\"Detected {0:g} counts/day over A.O.I: {1:3.0f}% of days over the period of {2} to {3} had more fires.\".format(current_count, percentile_invert,start.date(), end.date()))"
   ]
  },
  {
   "cell_type": "markdown",
   "metadata": {},
   "source": [
    "## DOY mean and anomaly\n",
    "\n",
    "Now let's get more complicated: \n",
    "1. calculate DOY mean from historical period\n",
    "2. calculate anomaly of any day relative to DOY mean"
   ]
  },
  {
   "cell_type": "code",
   "execution_count": 11,
   "metadata": {
    "collapsed": true
   },
   "outputs": [],
   "source": [
    "tmp = df.index[0]"
   ]
  },
  {
   "cell_type": "code",
   "execution_count": 12,
   "metadata": {},
   "outputs": [
    {
     "data": {
      "text/plain": [
       "1"
      ]
     },
     "execution_count": 12,
     "metadata": {},
     "output_type": "execute_result"
    }
   ],
   "source": [
    "tmp.dayofyear"
   ]
  },
  {
   "cell_type": "code",
   "execution_count": 13,
   "metadata": {
    "collapsed": true
   },
   "outputs": [],
   "source": [
    "# First, add a DOY index to the df\n",
    "\n",
    "tmp_doy = []\n",
    "for row in df.index:\n",
    "    tmp_doy.append(row.dayofyear)\n",
    "df['doy'] = tmp_doy"
   ]
  },
  {
   "cell_type": "code",
   "execution_count": 14,
   "metadata": {},
   "outputs": [
    {
     "data": {
      "text/html": [
       "<div>\n",
       "<style>\n",
       "    .dataframe thead tr:only-child th {\n",
       "        text-align: right;\n",
       "    }\n",
       "\n",
       "    .dataframe thead th {\n",
       "        text-align: left;\n",
       "    }\n",
       "\n",
       "    .dataframe tbody tr th {\n",
       "        vertical-align: top;\n",
       "    }\n",
       "</style>\n",
       "<table border=\"1\" class=\"dataframe\">\n",
       "  <thead>\n",
       "    <tr style=\"text-align: right;\">\n",
       "      <th></th>\n",
       "      <th>count</th>\n",
       "      <th>doy</th>\n",
       "    </tr>\n",
       "  </thead>\n",
       "  <tbody>\n",
       "    <tr>\n",
       "      <th>2012-01-01 01:00:00</th>\n",
       "      <td>19</td>\n",
       "      <td>1</td>\n",
       "    </tr>\n",
       "    <tr>\n",
       "      <th>2012-01-02 01:00:00</th>\n",
       "      <td>4</td>\n",
       "      <td>2</td>\n",
       "    </tr>\n",
       "    <tr>\n",
       "      <th>2012-01-03 01:00:00</th>\n",
       "      <td>8</td>\n",
       "      <td>3</td>\n",
       "    </tr>\n",
       "    <tr>\n",
       "      <th>2012-01-05 01:00:00</th>\n",
       "      <td>9</td>\n",
       "      <td>5</td>\n",
       "    </tr>\n",
       "    <tr>\n",
       "      <th>2012-01-06 01:00:00</th>\n",
       "      <td>4</td>\n",
       "      <td>6</td>\n",
       "    </tr>\n",
       "  </tbody>\n",
       "</table>\n",
       "</div>"
      ],
      "text/plain": [
       "                     count  doy\n",
       "2012-01-01 01:00:00     19    1\n",
       "2012-01-02 01:00:00      4    2\n",
       "2012-01-03 01:00:00      8    3\n",
       "2012-01-05 01:00:00      9    5\n",
       "2012-01-06 01:00:00      4    6"
      ]
     },
     "execution_count": 14,
     "metadata": {},
     "output_type": "execute_result"
    }
   ],
   "source": [
    "df.head()"
   ]
  },
  {
   "cell_type": "code",
   "execution_count": 15,
   "metadata": {},
   "outputs": [
    {
     "name": "stderr",
     "output_type": "stream",
     "text": [
      "/Users/Ben/anaconda/envs/py36/lib/python3.6/site-packages/numpy/core/fromnumeric.py:2889: RuntimeWarning: Mean of empty slice.\n",
      "  out=out, **kwargs)\n",
      "/Users/Ben/anaconda/envs/py36/lib/python3.6/site-packages/numpy/core/_methods.py:80: RuntimeWarning: invalid value encountered in double_scalars\n",
      "  ret = ret.dtype.type(ret / rcount)\n"
     ]
    }
   ],
   "source": [
    "# Use the doy index to find all DOY values and average\n",
    "# These will have really small sample sizes which may be a problem here\n",
    "doy_mean = {}\n",
    "for doy in range(1, 367):\n",
    "    doy_positions = df['doy'] == doy\n",
    "    doy_mean[doy] = np.nanmean(df[doy_positions]['count'].values)"
   ]
  },
  {
   "cell_type": "code",
   "execution_count": 16,
   "metadata": {},
   "outputs": [
    {
     "name": "stderr",
     "output_type": "stream",
     "text": [
      "/Users/Ben/anaconda/envs/py36/lib/python3.6/site-packages/numpy/core/fromnumeric.py:2889: RuntimeWarning: Mean of empty slice.\n",
      "  out=out, **kwargs)\n",
      "/Users/Ben/anaconda/envs/py36/lib/python3.6/site-packages/numpy/core/_methods.py:80: RuntimeWarning: invalid value encountered in double_scalars\n",
      "  ret = ret.dtype.type(ret / rcount)\n"
     ]
    }
   ],
   "source": [
    "# Use the doy index to find all DOY values and average\n",
    "# These will have really small sample sizes which may be a problem here\n",
    "week_mean = {}\n",
    "for doy in range(1, 53):\n",
    "    doy_positions = df['doy'] == doy\n",
    "    doy_mean[doy] = np.nanmean(df[doy_positions]['count'].values)"
   ]
  },
  {
   "cell_type": "code",
   "execution_count": 17,
   "metadata": {
    "collapsed": true
   },
   "outputs": [],
   "source": [
    "doy_val = []\n",
    "for k in doy_mean:\n",
    "    doy_val.append(doy_mean[k])"
   ]
  },
  {
   "cell_type": "code",
   "execution_count": 18,
   "metadata": {},
   "outputs": [
    {
     "data": {
      "text/plain": [
       "<matplotlib.text.Text at 0x11fa38c50>"
      ]
     },
     "execution_count": 18,
     "metadata": {},
     "output_type": "execute_result"
    },
    {
     "data": {
      "image/png": "[encoded data removed]",
      "text/plain": [
       "<matplotlib.figure.Figure at 0x11f86db38>"
      ]
     },
     "metadata": {},
     "output_type": "display_data"
    }
   ],
   "source": [
    "plt.plot(range(1,367),doy_val,'ro',ms=2.)\n",
    "plt.xlabel('DOY')\n",
    "plt.ylabel('Average counts/day')\n",
    "plt.title(\"Fire seasonality for AOI\")"
   ]
  },
  {
   "cell_type": "markdown",
   "metadata": {},
   "source": [
    "Used a dictionary approach as it will be easy to apply these data back to the DF based on the DOY index we created if desired. First let's just check these data."
   ]
  },
  {
   "cell_type": "markdown",
   "metadata": {},
   "source": [
    "## Week of year grouping"
   ]
  },
  {
   "cell_type": "code",
   "execution_count": 19,
   "metadata": {},
   "outputs": [
    {
     "data": {
      "text/html": [
       "<div>\n",
       "<style>\n",
       "    .dataframe thead tr:only-child th {\n",
       "        text-align: right;\n",
       "    }\n",
       "\n",
       "    .dataframe thead th {\n",
       "        text-align: left;\n",
       "    }\n",
       "\n",
       "    .dataframe tbody tr th {\n",
       "        vertical-align: top;\n",
       "    }\n",
       "</style>\n",
       "<table border=\"1\" class=\"dataframe\">\n",
       "  <thead>\n",
       "    <tr style=\"text-align: right;\">\n",
       "      <th></th>\n",
       "      <th>count</th>\n",
       "      <th>doy</th>\n",
       "    </tr>\n",
       "  </thead>\n",
       "  <tbody>\n",
       "    <tr>\n",
       "      <th>2012-01-01 01:00:00</th>\n",
       "      <td>19</td>\n",
       "      <td>1</td>\n",
       "    </tr>\n",
       "    <tr>\n",
       "      <th>2012-01-02 01:00:00</th>\n",
       "      <td>4</td>\n",
       "      <td>2</td>\n",
       "    </tr>\n",
       "    <tr>\n",
       "      <th>2012-01-03 01:00:00</th>\n",
       "      <td>8</td>\n",
       "      <td>3</td>\n",
       "    </tr>\n",
       "    <tr>\n",
       "      <th>2012-01-05 01:00:00</th>\n",
       "      <td>9</td>\n",
       "      <td>5</td>\n",
       "    </tr>\n",
       "    <tr>\n",
       "      <th>2012-01-06 01:00:00</th>\n",
       "      <td>4</td>\n",
       "      <td>6</td>\n",
       "    </tr>\n",
       "  </tbody>\n",
       "</table>\n",
       "</div>"
      ],
      "text/plain": [
       "                     count  doy\n",
       "2012-01-01 01:00:00     19    1\n",
       "2012-01-02 01:00:00      4    2\n",
       "2012-01-03 01:00:00      8    3\n",
       "2012-01-05 01:00:00      9    5\n",
       "2012-01-06 01:00:00      4    6"
      ]
     },
     "execution_count": 19,
     "metadata": {},
     "output_type": "execute_result"
    }
   ],
   "source": [
    "df.head()"
   ]
  },
  {
   "cell_type": "code",
   "execution_count": 20,
   "metadata": {
    "collapsed": true
   },
   "outputs": [],
   "source": [
    "woy = []\n",
    "for day in df.index:\n",
    "    woy.append(day.week)\n",
    "df['woy'] = woy"
   ]
  },
  {
   "cell_type": "code",
   "execution_count": 21,
   "metadata": {},
   "outputs": [],
   "source": [
    "# Use the doy index to find all DOY values and average\n",
    "# These will have really small sample sizes which may be a problem here\n",
    "woy_mean = {}\n",
    "for woy in range(1, 53):\n",
    "    woy_positions = df['woy'] == woy\n",
    "    woy_mean[woy] = np.nanmean(df[woy_positions]['count'].values)"
   ]
  },
  {
   "cell_type": "code",
   "execution_count": 22,
   "metadata": {},
   "outputs": [],
   "source": [
    "woy_means = []\n",
    "for week in range(1,53):\n",
    "    woy_means.append(woy_mean[week])"
   ]
  },
  {
   "cell_type": "code",
   "execution_count": 23,
   "metadata": {},
   "outputs": [
    {
     "data": {
      "text/plain": [
       "[<matplotlib.lines.Line2D at 0x11fabacf8>]"
      ]
     },
     "execution_count": 23,
     "metadata": {},
     "output_type": "execute_result"
    },
    {
     "data": {
      "image/png": "[encoded data removed]",
      "text/plain": [
       "<matplotlib.figure.Figure at 0x11fa02400>"
      ]
     },
     "metadata": {},
     "output_type": "display_data"
    }
   ],
   "source": [
    "plt.plot(range(1,53), woy_means)"
   ]
  },
  {
   "cell_type": "markdown",
   "metadata": {},
   "source": [
    "## Rolling mean approach\n",
    "\n",
    "Based on what I am seeing with DOY values, it looks like the seasonal data are noisey as there only a few datapoints for each day. Therefore we can instead try a smooth approach and show a difference relative to the past 30 days."
   ]
  },
  {
   "cell_type": "code",
   "execution_count": 24,
   "metadata": {},
   "outputs": [
    {
     "name": "stderr",
     "output_type": "stream",
     "text": [
      "/Users/Ben/anaconda/envs/py36/lib/python3.6/site-packages/ipykernel_launcher.py:1: FutureWarning: pd.rolling_mean is deprecated for Series and will be removed in a future version, replace with \n",
      "\tSeries.rolling(window=30,min_periods=0,center=False).mean()\n",
      "  \"\"\"Entry point for launching an IPython kernel.\n"
     ]
    }
   ],
   "source": [
    "df['smooth'] = pd.rolling_mean(df['count'], window=30, min_periods=0, center = False)"
   ]
  },
  {
   "cell_type": "code",
   "execution_count": 25,
   "metadata": {},
   "outputs": [
    {
     "data": {
      "text/html": [
       "\n",
       "\n",
       "    <div class=\"bk-root\">\n",
       "        <div class=\"bk-plotdiv\" id=\"a7d29441-397a-4e9c-b56a-9714ff2d22c5\"></div>\n",
       "    </div>\n",
       "<script type=\"text/javascript\">\n",
       "  \n",
       "  (function(global) {\n",
       "    function now() {\n",
       "      return new Date();\n",
       "    }\n",
       "  \n",
       "    var force = false;\n",
       "  \n",
       "    if (typeof (window._bokeh_onload_callbacks) === \"undefined\" || force === true) {\n",
       "      window._bokeh_onload_callbacks = [];\n",
       "      window._bokeh_is_loading = undefined;\n",
       "    }\n",
       "  \n",
       "  \n",
       "    \n",
       "    if (typeof (window._bokeh_timeout) === \"undefined\" || force === true) {\n",
       "      window._bokeh_timeout = Date.now() + 0;\n",
       "      window._bokeh_failed_load = false;\n",
       "    }\n",
       "  \n",
       "    var NB_LOAD_WARNING = {'data': {'text/html':\n",
       "       \"<div style='background-color: #fdd'>\\n\"+\n",
       "       \"<p>\\n\"+\n",
       "       \"BokehJS does not appear to have successfully loaded. If loading BokehJS from CDN, this \\n\"+\n",
       "       \"may be due to a slow or bad network connection. Possible fixes:\\n\"+\n",
       "       \"</p>\\n\"+\n",
       "       \"<ul>\\n\"+\n",
       "       \"<li>re-rerun `output_notebook()` to attempt to load from CDN again, or</li>\\n\"+\n",
       "       \"<li>use INLINE resources instead, as so:</li>\\n\"+\n",
       "       \"</ul>\\n\"+\n",
       "       \"<code>\\n\"+\n",
       "       \"from bokeh.resources import INLINE\\n\"+\n",
       "       \"output_notebook(resources=INLINE)\\n\"+\n",
       "       \"</code>\\n\"+\n",
       "       \"</div>\"}};\n",
       "  \n",
       "    function display_loaded() {\n",
       "      if (window.Bokeh !== undefined) {\n",
       "        var el = document.getElementById(\"a7d29441-397a-4e9c-b56a-9714ff2d22c5\");\n",
       "        el.textContent = \"BokehJS \" + Bokeh.version + \" successfully loaded.\";\n",
       "      } else if (Date.now() < window._bokeh_timeout) {\n",
       "        setTimeout(display_loaded, 100)\n",
       "      }\n",
       "    }\n",
       "  \n",
       "    function run_callbacks() {\n",
       "      try {\n",
       "        window._bokeh_onload_callbacks.forEach(function(callback) { callback() });\n",
       "      }\n",
       "      finally {\n",
       "        delete window._bokeh_onload_callbacks\n",
       "      }\n",
       "      console.info(\"Bokeh: all callbacks have finished\");\n",
       "    }\n",
       "  \n",
       "    function load_libs(js_urls, callback) {\n",
       "      window._bokeh_onload_callbacks.push(callback);\n",
       "      if (window._bokeh_is_loading > 0) {\n",
       "        console.log(\"Bokeh: BokehJS is being loaded, scheduling callback at\", now());\n",
       "        return null;\n",
       "      }\n",
       "      if (js_urls == null || js_urls.length === 0) {\n",
       "        run_callbacks();\n",
       "        return null;\n",
       "      }\n",
       "      console.log(\"Bokeh: BokehJS not loaded, scheduling load and callback at\", now());\n",
       "      window._bokeh_is_loading = js_urls.length;\n",
       "      for (var i = 0; i < js_urls.length; i++) {\n",
       "        var url = js_urls[i];\n",
       "        var s = document.createElement('script');\n",
       "        s.src = url;\n",
       "        s.async = false;\n",
       "        s.onreadystatechange = s.onload = function() {\n",
       "          window._bokeh_is_loading--;\n",
       "          if (window._bokeh_is_loading === 0) {\n",
       "            console.log(\"Bokeh: all BokehJS libraries loaded\");\n",
       "            run_callbacks()\n",
       "          }\n",
       "        };\n",
       "        s.onerror = function() {\n",
       "          console.warn(\"failed to load library \" + url);\n",
       "        };\n",
       "        console.log(\"Bokeh: injecting script tag for BokehJS library: \", url);\n",
       "        document.getElementsByTagName(\"head\")[0].appendChild(s);\n",
       "      }\n",
       "    };var element = document.getElementById(\"a7d29441-397a-4e9c-b56a-9714ff2d22c5\");\n",
       "    if (element == null) {\n",
       "      console.log(\"Bokeh: ERROR: autoload.js configured with elementid 'a7d29441-397a-4e9c-b56a-9714ff2d22c5' but no matching script tag was found. \")\n",
       "      return false;\n",
       "    }\n",
       "  \n",
       "    var js_urls = [];\n",
       "  \n",
       "    var inline_js = [\n",
       "      function(Bokeh) {\n",
       "        (function() {\n",
       "          var fn = function() {\n",
       "            var docs_json = {\"24a40b38-0628-42bb-8dd7-4202d16c5762\":{\"roots\":{\"references\":[{\"attributes\":{\"fill_alpha\":{\"value\":0.2},\"fill_color\":{\"value\":\"red\"},\"line_alpha\":{\"value\":0.2},\"line_color\":{\"value\":\"red\"},\"size\":{\"units\":\"screen\",\"value\":2},\"x\":{\"field\":\"x\"},\"y\":{\"field\":\"y\"}},\"id\":\"b241cabd-f734-48d1-8ebd-b47d47c9aeb9\",\"type\":\"Circle\"},{\"attributes\":{\"base\":60,\"mantissas\":[1,2,5,10,15,20,30],\"max_interval\":1800000.0,\"min_interval\":1000.0,\"num_minor_ticks\":0},\"id\":\"b54cbb7f-3bef-4656-b3fb-c6f7eaf8abbc\",\"type\":\"AdaptiveTicker\"},{\"attributes\":{},\"id\":\"e625f0a5-d1ad-478e-8afb-f341d494f442\",\"type\":\"DatetimeTickFormatter\"},{\"attributes\":{},\"id\":\"e6574c71-3e5a-426d-88ec-fd4824290f93\",\"type\":\"ToolEvents\"},{\"attributes\":{\"plot\":null,\"text\":\"Fires and Smooth filter\"},\"id\":\"37f8a994-6875-4894-8e1e-452fe0f2f205\",\"type\":\"Title\"},{\"attributes\":{\"plot\":{\"id\":\"b16e231c-d4b3-4459-814e-c52872ae16ba\",\"subtype\":\"Figure\",\"type\":\"Plot\"}},\"id\":\"84fa2853-a75d-40e1-8c1a-993d5a7f0551\",\"type\":\"SaveTool\"},{\"attributes\":{\"label\":{\"value\":\"fires\"},\"renderers\":[{\"id\":\"190f7e92-aaab-4a6b-a863-422cbdbf4d71\",\"type\":\"GlyphRenderer\"}]},\"id\":\"b14f2361-3c8e-48e8-8562-a0410dd01bb4\",\"type\":\"LegendItem\"},{\"attributes\":{\"months\":[0,6]},\"id\":\"3bea3925-4a0d-422d-b627-cf090afd55bc\",\"type\":\"MonthsTicker\"},{\"attributes\":{\"plot\":{\"id\":\"b16e231c-d4b3-4459-814e-c52872ae16ba\",\"subtype\":\"Figure\",\"type\":\"Plot\"}},\"id\":\"c8f8e798-f705-4354-9161-37f33fcffe11\",\"type\":\"ResetTool\"},{\"attributes\":{\"active_drag\":\"auto\",\"active_inspect\":\"auto\",\"active_scroll\":\"auto\",\"active_tap\":\"auto\",\"tools\":[{\"id\":\"0ccd8359-0b6e-4976-81a7-712f92a139ac\",\"type\":\"PanTool\"},{\"id\":\"a4d9ef01-06e8-4407-bfa5-2cce9bb50c52\",\"type\":\"WheelZoomTool\"},{\"id\":\"99d811f2-6ae4-40a1-99a9-f3bce4189fff\",\"type\":\"BoxZoomTool\"},{\"id\":\"84fa2853-a75d-40e1-8c1a-993d5a7f0551\",\"type\":\"SaveTool\"},{\"id\":\"c8f8e798-f705-4354-9161-37f33fcffe11\",\"type\":\"ResetTool\"},{\"id\":\"412baa2b-bf95-4fbd-9d9a-d7984bd1604a\",\"type\":\"HelpTool\"}]},\"id\":\"2853e74c-4820-4958-a44e-5a97c2c537a4\",\"type\":\"Toolbar\"},{\"attributes\":{\"callback\":null,\"column_names\":[\"x\",\"y\"],\"data\":{\"x\":{\"__ndarray__\":\"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\",\"dtype\":\"float64\",\"shape\":[1638]},\"y\":{\"__ndarray__\":\"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\",\"dtype\":\"float64\",\"shape\":[1638]}}},\"id\":\"20483308-bfca-42e4-84b7-f4c541d14b7c\",\"type\":\"ColumnDataSource\"},{\"attributes\":{\"line_color\":{\"value\":\"navy\"},\"x\":{\"field\":\"x\"},\"y\":{\"field\":\"y\"}},\"id\":\"9cec933f-b14c-4b40-bc4f-2a67db533a64\",\"type\":\"Line\"},{\"attributes\":{\"plot\":{\"id\":\"b16e231c-d4b3-4459-814e-c52872ae16ba\",\"subtype\":\"Figure\",\"type\":\"Plot\"}},\"id\":\"412baa2b-bf95-4fbd-9d9a-d7984bd1604a\",\"type\":\"HelpTool\"},{\"attributes\":{\"base\":24,\"mantissas\":[1,2,4,6,8,12],\"max_interval\":43200000.0,\"min_interval\":3600000.0,\"num_minor_ticks\":0},\"id\":\"77dcd68d-3063-43e6-ba77-c9e2871f6aba\",\"type\":\"AdaptiveTicker\"},{\"attributes\":{\"callback\":null},\"id\":\"0127cb06-67c1-4dab-b95a-9d0a729bebd6\",\"type\":\"DataRange1d\"},{\"attributes\":{},\"id\":\"c6469033-23d6-478c-881f-1c87b2cdac38\",\"type\":\"LinearScale\"},{\"attributes\":{},\"id\":\"10ca5d67-9588-42e2-bd4c-bd40b4ae8f33\",\"type\":\"LinearScale\"},{\"attributes\":{\"data_source\":{\"id\":\"20483308-bfca-42e4-84b7-f4c541d14b7c\",\"type\":\"ColumnDataSource\"},\"glyph\":{\"id\":\"9cec933f-b14c-4b40-bc4f-2a67db533a64\",\"type\":\"Line\"},\"hover_glyph\":null,\"muted_glyph\":null,\"nonselection_glyph\":{\"id\":\"18ee66ff-d31d-4936-b53e-e7f48e6ca3d4\",\"type\":\"Line\"},\"selection_glyph\":null},\"id\":\"eb140056-9277-4339-a4e0-bbda0497a194\",\"type\":\"GlyphRenderer\"},{\"attributes\":{\"label\":{\"value\":\"Smooth filter\"},\"renderers\":[{\"id\":\"eb140056-9277-4339-a4e0-bbda0497a194\",\"type\":\"GlyphRenderer\"}]},\"id\":\"2c41e8ee-2c50-40fa-8a38-e987bc8e804c\",\"type\":\"LegendItem\"},{\"attributes\":{\"line_alpha\":{\"value\":0.1},\"line_color\":{\"value\":\"#1f77b4\"},\"x\":{\"field\":\"x\"},\"y\":{\"field\":\"y\"}},\"id\":\"18ee66ff-d31d-4936-b53e-e7f48e6ca3d4\",\"type\":\"Line\"},{\"attributes\":{\"days\":[1,8,15,22]},\"id\":\"a2783adb-e6a5-4222-b67b-e706a04f63c7\",\"type\":\"DaysTicker\"},{\"attributes\":{\"fill_alpha\":{\"value\":0.1},\"fill_color\":{\"value\":\"#1f77b4\"},\"line_alpha\":{\"value\":0.1},\"line_color\":{\"value\":\"#1f77b4\"},\"size\":{\"units\":\"screen\",\"value\":2},\"x\":{\"field\":\"x\"},\"y\":{\"field\":\"y\"}},\"id\":\"4ec8ae8b-758b-4b5b-9b8a-312ae1162403\",\"type\":\"Circle\"},{\"attributes\":{\"months\":[0,1,2,3,4,5,6,7,8,9,10,11]},\"id\":\"1aef2238-96a4-4386-af74-7e0055321a74\",\"type\":\"MonthsTicker\"},{\"attributes\":{\"callback\":null,\"column_names\":[\"x\",\"y\"],\"data\":{\"x\":{\"__ndarray__\":\"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\",\"dtype\":\"float64\",\"shape\":[1638]},\"y\":[19,4,8,9,4,1,30,21,35,21,9,6,6,11,2,5,2,5,1,20,10,6,5,7,2,13,2,3,24,5,3,10,5,11,16,21,13,9,9,16,25,12,33,5,40,25,61,57,55,36,29,92,104,115,56,33,16,19,5,14,27,62,79,96,60,24,81,49,24,4,9,14,4,2,5,17,37,77,43,138,231,116,113,50,47,6,3,18,3,6,2,3,12,10,25,1,1,2,2,4,14,2,6,8,9,2,2,6,2,4,30,1,2,13,38,44,3,1,3,1,1,1,11,21,13,2,5,2,8,10,5,3,6,2,2,1,3,4,17,24,3,6,4,11,5,3,7,7,12,2,4,56,249,361,111,46,2,10,2,2,4,4,9,1,5,10,18,16,15,67,42,41,28,15,3,47,67,5,15,9,6,4,1,9,19,3,19,43,38,13,11,2,24,60,78,22,2,10,6,4,34,47,52,54,2,10,20,28,25,56,29,2,74,53,26,39,22,14,6,15,28,22,4,5,15,1,13,1,27,4,3,1,28,2,89,47,105,5,2,1,1,9,1,10,11,12,7,3,19,14,13,6,3,10,3,18,20,36,2,1,1,8,9,2,20,1,7,1,1,3,1,5,5,18,3,4,1,7,1,1,1,2,1,3,2,7,1,1,2,2,1,4,1,1,4,5,3,7,11,4,1,2,1,8,4,4,1,2,18,2,10,6,5,12,6,1,3,3,3,2,1,5,1,1,2,5,3,2,8,4,8,4,5,1,2,7,3,17,2,12,2,1,10,1,1,2,3,4,3,8,4,4,4,2,3,1,3,1,1,3,6,9,3,3,1,7,1,2,5,1,1,3,1,19,10,3,12,5,14,5,10,11,4,29,13,40,4,5,3,6,1,21,2,11,1,1,12,2,23,17,5,2,1,13,4,12,11,2,9,12,2,20,4,10,14,5,20,2,1,4,16,2,27,3,9,2,1,4,2,7,28,9,9,19,6,19,5,13,6,10,4,7,25,8,29,13,7,13,7,12,13,8,22,13,10,3,2,6,6,4,7,9,48,24,11,1,10,10,24,11,10,3,13,3,5,14,5,9,6,7,7,9,8,9,18,15,21,18,24,22,8,39,10,33,62,18,26,22,15,9,39,31,35,9,1,13,4,14,12,68,75,39,8,13,22,20,15,14,13,25,18,54,5,44,31,4,1,2,1,7,13,13,25,19,46,19,46,6,16,10,12,46,10,30,11,7,6,4,6,1,12,1,15,15,18,21,7,8,18,23,17,3,13,2,46,45,12,40,15,9,3,6,19,12,9,3,2,2,4,27,9,27,6,5,21,6,26,10,25,7,13,9,15,19,5,5,16,8,12,2,3,9,2,6,5,5,2,1,1,2,11,5,1,2,3,1,2,2,1,2,1,1,3,1,6,1,11,10,1,4,12,2,2,16,5,2,8,27,3,2,1,1,3,5,9,4,20,12,25,54,52,68,38,68,37,26,49,71,37,5,87,3,3,5,11,2,24,13,1,1,4,1,1,4,1,13,6,10,12,3,2,15,9,14,22,15,10,15,10,2,14,3,7,7,2,4,9,5,9,2,4,2,4,1,8,3,5,1,34,18,26,8,12,4,2,3,2,1,2,1,3,6,6,1,2,4,1,3,1,2,3,6,10,8,16,9,18,3,2,5,1,1,1,2,11,5,3,19,1,11,3,2,1,9,3,2,1,3,9,7,2,11,3,25,15,15,5,6,5,8,6,10,12,3,2,15,2,13,2,12,6,5,7,5,8,9,1,9,3,7,4,5,3,5,13,3,11,11,5,18,1,15,7,5,1,9,9,3,17,1,15,4,7,4,3,28,15,3,12,24,3,6,3,4,4,18,2,1,9,7,13,6,2,3,2,7,9,14,5,4,5,36,11,14,2,4,3,4,13,3,2,20,12,39,10,21,5,20,7,7,59,31,21,5,12,5,11,1,1,10,7,5,1,1,3,6,4,3,3,5,1,2,2,1,1,1,3,12,7,3,6,6,2,1,8,13,1,8,2,6,2,7,7,15,5,7,9,1,4,4,22,2,7,9,5,11,1,1,1,4,1,4,1,3,10,3,1,2,2,7,5,6,2,1,7,3,2,6,18,7,1,7,2,2,3,6,6,8,3,27,7,31,24,32,21,24,16,12,20,5,17,3,1,2,3,2,3,2,1,10,16,23,12,16,5,8,15,15,15,10,42,1,2,4,8,31,5,4,6,7,6,1,3,6,4,4,3,8,1,11,7,20,4,6,8,9,5,3,1,4,13,6,8,4,2,2,1,4,20,2,7,5,4,2,2,1,1,15,3,16,2,10,5,5,5,12,4,25,4,22,14,2,6,2,48,42,12,14,95,86,25,16,6,19,7,48,42,17,4,9,12,11,24,19,20,40,78,37,3,3,3,4,13,8,1,8,33,62,26,30,36,5,8,3,7,2,2,7,9,15,15,4,6,3,5,7,5,15,34,35,6,9,1,3,8,10,5,2,8,10,10,3,13,5,17,1,1,8,5,11,2,10,6,8,2,13,10,7,5,2,25,10,19,1,2,9,22,3,6,2,5,22,6,6,2,4,10,2,3,7,1,5,6,17,9,2,2,3,6,2,4,10,2,9,6,18,9,5,6,4,17,7,30,12,12,4,2,6,3,7,6,18,4,4,20,9,9,3,9,5,20,4,4,9,13,1,2,5,3,1,20,31,35,5,10,1,6,26,5,23,7,2,3,1,6,1,2,4,7,10,1,1,6,2,1,2,1,2,3,1,2,8,9,1,6,5,7,1,1,1,7,1,9,2,2,2,3,3,17,7,9,1,1,4,18,5,7,13,22,3,3,2,5,7,3,6,5,2,15,1,1,4,6,8,1,4,1,2,7,2,1,1,1,3,1,15,4,24,20,2,30,5,7,1,2,3,5,1,11,1,4,10,2,16,1,9,10,1,5,1,3,5,6,4,5,6,1,5,1,6,9,11,1,13,14,24,8,23,1,11,13,9,3,5,8,2,11,4,2,6,6,1,3,11,4,3,5,11,16,3,13,6,7,26,10,13,9,10,8,15,9,27,12,4,10,3,5,3,15,7,29,23,15,26,39,30,96,115,24,19,27,8,5,1,18,23,11,18,1,24,14,34,4,10,25,28,18,25,5,5,6,36,56,107,63,23,5,22,15,105,5,6,7,15,3,5,10,13,9,5,16,2,6,6,7,25,6,13,3,22,14,12,23,12,26,1,38,17,6,18,3,4,2,9,4,13,1,3,13,74,17,19,62,8,75,17,2,3,3,11,5,7,13,18,10,12,32,28,31,10,8,1,3,2,1,4,1,8,4,4,9,1,12,4,4,1,5,2,1,7,8,6,5,20,9,24,11,31,11,2,7,7,13,10,37,7,8,2,13,2,11,4,7,3,3,7,2,13,14,25,2,2,1,14,2,2,3,1,8,2,2,3,1,6,19,1,4,10,58,7,6,14,14,21,1,8,7,1,12,15,11,110,17,16,3,27,29,31,39,25,34,9,1,5,1,1,14,16,34,12,22,12,22,44,1,65,67,54,9,10,12,17,3,29,133,115,90,91,8,2,8,1,10,1,18,7,3,8,4,1,5,1,1,4,6,9,6,4,17,5,5,1,2,6,5,2,3,6,19,6,5,14,9,2,4,4,9,6,19,5,15,11,4,17,8,20,7,1]}},\"id\":\"eb25ef7e-fbed-4c3a-a8f7-f6999699bc77\",\"type\":\"ColumnDataSource\"},{\"attributes\":{\"below\":[{\"id\":\"a57ccf5e-aa7a-4923-9f5c-3489a5cf1f08\",\"type\":\"DatetimeAxis\"}],\"left\":[{\"id\":\"4ea80dd9-b5de-4115-917e-25794dbd39d9\",\"type\":\"LinearAxis\"}],\"plot_height\":400,\"plot_width\":800,\"renderers\":[{\"id\":\"a57ccf5e-aa7a-4923-9f5c-3489a5cf1f08\",\"type\":\"DatetimeAxis\"},{\"id\":\"1a7c2881-296f-4789-98d3-774f2e2c3153\",\"type\":\"Grid\"},{\"id\":\"4ea80dd9-b5de-4115-917e-25794dbd39d9\",\"type\":\"LinearAxis\"},{\"id\":\"1ff45529-7eb3-44d4-9ba4-7b135bd807e8\",\"type\":\"Grid\"},{\"id\":\"2bf19a84-3e27-4732-9e58-33f282b2808c\",\"type\":\"BoxAnnotation\"},{\"id\":\"cee68fee-d1b9-4034-85df-a556b265fa45\",\"type\":\"Legend\"},{\"id\":\"190f7e92-aaab-4a6b-a863-422cbdbf4d71\",\"type\":\"GlyphRenderer\"},{\"id\":\"eb140056-9277-4339-a4e0-bbda0497a194\",\"type\":\"GlyphRenderer\"}],\"title\":{\"id\":\"37f8a994-6875-4894-8e1e-452fe0f2f205\",\"type\":\"Title\"},\"tool_events\":{\"id\":\"e6574c71-3e5a-426d-88ec-fd4824290f93\",\"type\":\"ToolEvents\"},\"toolbar\":{\"id\":\"2853e74c-4820-4958-a44e-5a97c2c537a4\",\"type\":\"Toolbar\"},\"x_range\":{\"id\":\"0127cb06-67c1-4dab-b95a-9d0a729bebd6\",\"type\":\"DataRange1d\"},\"x_scale\":{\"id\":\"c6469033-23d6-478c-881f-1c87b2cdac38\",\"type\":\"LinearScale\"},\"y_range\":{\"id\":\"ae1463ea-1a8a-4945-936f-c713731bde0d\",\"type\":\"DataRange1d\"},\"y_scale\":{\"id\":\"10ca5d67-9588-42e2-bd4c-bd40b4ae8f33\",\"type\":\"LinearScale\"}},\"id\":\"b16e231c-d4b3-4459-814e-c52872ae16ba\",\"subtype\":\"Figure\",\"type\":\"Plot\"},{\"attributes\":{\"months\":[0,2,4,6,8,10]},\"id\":\"dc52cfa9-14dd-413f-8d4b-f77570898cf5\",\"type\":\"MonthsTicker\"},{\"attributes\":{\"data_source\":{\"id\":\"eb25ef7e-fbed-4c3a-a8f7-f6999699bc77\",\"type\":\"ColumnDataSource\"},\"glyph\":{\"id\":\"b241cabd-f734-48d1-8ebd-b47d47c9aeb9\",\"type\":\"Circle\"},\"hover_glyph\":null,\"muted_glyph\":null,\"nonselection_glyph\":{\"id\":\"4ec8ae8b-758b-4b5b-9b8a-312ae1162403\",\"type\":\"Circle\"},\"selection_glyph\":null},\"id\":\"190f7e92-aaab-4a6b-a863-422cbdbf4d71\",\"type\":\"GlyphRenderer\"},{\"attributes\":{\"plot\":{\"id\":\"b16e231c-d4b3-4459-814e-c52872ae16ba\",\"subtype\":\"Figure\",\"type\":\"Plot\"}},\"id\":\"a4d9ef01-06e8-4407-bfa5-2cce9bb50c52\",\"type\":\"WheelZoomTool\"},{\"attributes\":{\"days\":[1,4,7,10,13,16,19,22,25,28]},\"id\":\"ae5697a1-08fc-4536-971c-40cacfac9f9d\",\"type\":\"DaysTicker\"},{\"attributes\":{\"overlay\":{\"id\":\"2bf19a84-3e27-4732-9e58-33f282b2808c\",\"type\":\"BoxAnnotation\"},\"plot\":{\"id\":\"b16e231c-d4b3-4459-814e-c52872ae16ba\",\"subtype\":\"Figure\",\"type\":\"Plot\"}},\"id\":\"99d811f2-6ae4-40a1-99a9-f3bce4189fff\",\"type\":\"BoxZoomTool\"},{\"attributes\":{\"num_minor_ticks\":5},\"id\":\"3b947558-d4e4-4274-ad81-358452669d34\",\"type\":\"DatetimeTicker\"},{\"attributes\":{\"bottom_units\":\"screen\",\"fill_alpha\":{\"value\":0.5},\"fill_color\":{\"value\":\"lightgrey\"},\"left_units\":\"screen\",\"level\":\"overlay\",\"line_alpha\":{\"value\":1.0},\"line_color\":{\"value\":\"black\"},\"line_dash\":[4,4],\"line_width\":{\"value\":2},\"plot\":null,\"render_mode\":\"css\",\"right_units\":\"screen\",\"top_units\":\"screen\"},\"id\":\"2bf19a84-3e27-4732-9e58-33f282b2808c\",\"type\":\"BoxAnnotation\"},{\"attributes\":{\"max_interval\":500.0,\"num_minor_ticks\":0},\"id\":\"a6c54821-2f35-4ff1-9d6b-078fe75f442c\",\"type\":\"AdaptiveTicker\"},{\"attributes\":{\"plot\":{\"id\":\"b16e231c-d4b3-4459-814e-c52872ae16ba\",\"subtype\":\"Figure\",\"type\":\"Plot\"}},\"id\":\"0ccd8359-0b6e-4976-81a7-712f92a139ac\",\"type\":\"PanTool\"},{\"attributes\":{\"months\":[0,4,8]},\"id\":\"af810ebd-9dc2-459b-b671-a356f9af6ef2\",\"type\":\"MonthsTicker\"},{\"attributes\":{},\"id\":\"4943cbc8-e385-4759-b08f-e10357431a98\",\"type\":\"BasicTickFormatter\"},{\"attributes\":{},\"id\":\"ff1993b9-6d00-4b53-a7ef-be8d3b5c4168\",\"type\":\"YearsTicker\"},{\"attributes\":{\"axis_label\":\"Date\",\"formatter\":{\"id\":\"e625f0a5-d1ad-478e-8afb-f341d494f442\",\"type\":\"DatetimeTickFormatter\"},\"plot\":{\"id\":\"b16e231c-d4b3-4459-814e-c52872ae16ba\",\"subtype\":\"Figure\",\"type\":\"Plot\"},\"ticker\":{\"id\":\"3b947558-d4e4-4274-ad81-358452669d34\",\"type\":\"DatetimeTicker\"}},\"id\":\"a57ccf5e-aa7a-4923-9f5c-3489a5cf1f08\",\"type\":\"DatetimeAxis\"},{\"attributes\":{\"callback\":null},\"id\":\"ae1463ea-1a8a-4945-936f-c713731bde0d\",\"type\":\"DataRange1d\"},{\"attributes\":{\"plot\":{\"id\":\"b16e231c-d4b3-4459-814e-c52872ae16ba\",\"subtype\":\"Figure\",\"type\":\"Plot\"},\"ticker\":{\"id\":\"3b947558-d4e4-4274-ad81-358452669d34\",\"type\":\"DatetimeTicker\"}},\"id\":\"1a7c2881-296f-4789-98d3-774f2e2c3153\",\"type\":\"Grid\"},{\"attributes\":{},\"id\":\"5cfbb526-ecfe-4ac2-b4ed-6ed02ae6b0fe\",\"type\":\"BasicTicker\"},{\"attributes\":{\"axis_label\":\"Count\",\"formatter\":{\"id\":\"4943cbc8-e385-4759-b08f-e10357431a98\",\"type\":\"BasicTickFormatter\"},\"plot\":{\"id\":\"b16e231c-d4b3-4459-814e-c52872ae16ba\",\"subtype\":\"Figure\",\"type\":\"Plot\"},\"ticker\":{\"id\":\"5cfbb526-ecfe-4ac2-b4ed-6ed02ae6b0fe\",\"type\":\"BasicTicker\"}},\"id\":\"4ea80dd9-b5de-4115-917e-25794dbd39d9\",\"type\":\"LinearAxis\"},{\"attributes\":{\"days\":[1,2,3,4,5,6,7,8,9,10,11,12,13,14,15,16,17,18,19,20,21,22,23,24,25,26,27,28,29,30,31]},\"id\":\"d6b3d60f-d333-48ef-95d2-d2e3f71f2332\",\"type\":\"DaysTicker\"},{\"attributes\":{\"days\":[1,15]},\"id\":\"4aa25047-01ce-42e1-b475-6ba711be9086\",\"type\":\"DaysTicker\"},{\"attributes\":{\"dimension\":1,\"plot\":{\"id\":\"b16e231c-d4b3-4459-814e-c52872ae16ba\",\"subtype\":\"Figure\",\"type\":\"Plot\"},\"ticker\":{\"id\":\"5cfbb526-ecfe-4ac2-b4ed-6ed02ae6b0fe\",\"type\":\"BasicTicker\"}},\"id\":\"1ff45529-7eb3-44d4-9ba4-7b135bd807e8\",\"type\":\"Grid\"},{\"attributes\":{\"items\":[{\"id\":\"b14f2361-3c8e-48e8-8562-a0410dd01bb4\",\"type\":\"LegendItem\"},{\"id\":\"2c41e8ee-2c50-40fa-8a38-e987bc8e804c\",\"type\":\"LegendItem\"}],\"location\":\"top_left\",\"plot\":{\"id\":\"b16e231c-d4b3-4459-814e-c52872ae16ba\",\"subtype\":\"Figure\",\"type\":\"Plot\"}},\"id\":\"cee68fee-d1b9-4034-85df-a556b265fa45\",\"type\":\"Legend\"}],\"root_ids\":[\"b16e231c-d4b3-4459-814e-c52872ae16ba\"]},\"title\":\"Bokeh Application\",\"version\":\"0.12.6\"}};\n",
       "            var render_items = [{\"docid\":\"24a40b38-0628-42bb-8dd7-4202d16c5762\",\"elementid\":\"a7d29441-397a-4e9c-b56a-9714ff2d22c5\",\"modelid\":\"b16e231c-d4b3-4459-814e-c52872ae16ba\"}];\n",
       "            \n",
       "            Bokeh.embed.embed_items(docs_json, render_items);\n",
       "          };\n",
       "          if (document.readyState != \"loading\") fn();\n",
       "          else document.addEventListener(\"DOMContentLoaded\", fn);\n",
       "        })();\n",
       "      },\n",
       "      function(Bokeh) {\n",
       "      }\n",
       "    ];\n",
       "  \n",
       "    function run_inline_js() {\n",
       "      \n",
       "      if ((window.Bokeh !== undefined) || (force === true)) {\n",
       "        for (var i = 0; i < inline_js.length; i++) {\n",
       "          inline_js[i](window.Bokeh);\n",
       "        }if (force === true) {\n",
       "          display_loaded();\n",
       "        }} else if (Date.now() < window._bokeh_timeout) {\n",
       "        setTimeout(run_inline_js, 100);\n",
       "      } else if (!window._bokeh_failed_load) {\n",
       "        console.log(\"Bokeh: BokehJS failed to load within specified timeout.\");\n",
       "        window._bokeh_failed_load = true;\n",
       "      } else if (force !== true) {\n",
       "        var cell = $(document.getElementById(\"a7d29441-397a-4e9c-b56a-9714ff2d22c5\")).parents('.cell').data().cell;\n",
       "        cell.output_area.append_execute_result(NB_LOAD_WARNING)\n",
       "      }\n",
       "  \n",
       "    }\n",
       "  \n",
       "    if (window._bokeh_is_loading === 0) {\n",
       "      console.log(\"Bokeh: BokehJS loaded, going straight to plotting\");\n",
       "      run_inline_js();\n",
       "    } else {\n",
       "      load_libs(js_urls, function() {\n",
       "        console.log(\"Bokeh: BokehJS plotting callback run at\", now());\n",
       "        run_inline_js();\n",
       "      });\n",
       "    }\n",
       "  }(this));\n",
       "</script>"
      ]
     },
     "metadata": {},
     "output_type": "display_data"
    }
   ],
   "source": [
    "p = figure(x_axis_type=\"datetime\", title=\"Fires and Smooth filter\", plot_width=800, plot_height=400)\n",
    "p.xaxis.axis_label = 'Date'\n",
    "p.yaxis.axis_label = 'Count'\n",
    "\n",
    "p.circle(df.index, df['count'], size=2, legend='fires',\n",
    "          color='red', alpha=0.2)\n",
    "\n",
    "p.line(df.index, df['smooth'], legend='Smooth filter', color='navy')\n",
    "p.legend.location = \"top_left\"\n",
    "\n",
    "show(p)"
   ]
  },
  {
   "cell_type": "code",
   "execution_count": 26,
   "metadata": {},
   "outputs": [
    {
     "name": "stdout",
     "output_type": "stream",
     "text": [
      "FIRES\n",
      "On 2013-05-17 5 fire pixels detected: -4.77 less fire areas than the previous 30-day moving trend.\n"
     ]
    }
   ],
   "source": [
    "time = df.index[400]                    # extract a random time index to test\n",
    "anom = df['count'][time] -  df['smooth'][time]       # difference the counts on that day by the filter to get anomaly\n",
    "print(\"FIRES\")\n",
    "if anom < 0:\n",
    "    print(\"On {0} {1} fire pixels detected: {2:3.2f} less fire areas than the previous 30-day moving trend.\".format(time.date(),df['count'][time], anom))\n",
    "else:\n",
    "    print(\"On {0} {1} fire pixels detected: {2:3.2f} more fire areas than the previous 30-day moving trend.\".format(time.date(),df['count'][time], anom))"
   ]
  },
  {
   "cell_type": "code",
   "execution_count": null,
   "metadata": {
    "collapsed": true
   },
   "outputs": [],
   "source": []
  },
  {
   "cell_type": "code",
   "execution_count": null,
   "metadata": {
    "collapsed": true
   },
   "outputs": [],
   "source": []
  }
 ],
 "metadata": {
  "anaconda-cloud": {},
  "kernelspec": {
   "display_name": "Python 3",
   "language": "python",
   "name": "python3"
  },
  "language_info": {
   "codemirror_mode": {
    "name": "ipython",
    "version": 3
   },
   "file_extension": ".py",
   "mimetype": "text/x-python",
   "name": "python",
   "nbconvert_exporter": "python",
   "pygments_lexer": "ipython3",
   "version": "3.6.1"
  }
 },
 "nbformat": 4,
 "nbformat_minor": 2
}
