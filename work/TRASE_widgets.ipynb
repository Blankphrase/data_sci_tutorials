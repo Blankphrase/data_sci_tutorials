{
 "cells": [
  {
   "cell_type": "markdown",
   "metadata": {},
   "source": [
    "#   TRASE Widgets\n",
    "\n",
    "[Gdoc - Viz by Indicators](https://docs.google.com/document/d/1DdKbmM-TqlKyIuxPshcuIgMqu6AXmzg_vh8vMnI2Wmk/edit#)\n",
    "\n",
    "[Invision](https://projects.invisionapp.com/share/HRNCCQFUKZV#/screens/314278527)\n",
    "\n",
    "[Gdoc: Dashboard scope from SEI](https://docs.google.com/document/d/1VfQwFTcUrfA9FIB9VcUXdGFm-zEYprYyrEqDOghzmc4/edit)\n",
    "\n",
    "[TRASE data download portal](https://trase.earth/data?lang=en)"
   ]
  },
  {
   "cell_type": "code",
   "execution_count": 1,
   "metadata": {},
   "outputs": [
    {
     "name": "stderr",
     "output_type": "stream",
     "text": [
      "/Users/Ben/anaconda3/lib/python3.6/importlib/_bootstrap.py:219: RuntimeWarning: numpy.dtype size changed, may indicate binary incompatibility. Expected 96, got 88\n",
      "  return f(*args, **kwds)\n",
      "/Users/Ben/anaconda3/lib/python3.6/importlib/_bootstrap.py:219: RuntimeWarning: numpy.dtype size changed, may indicate binary incompatibility. Expected 96, got 88\n",
      "  return f(*args, **kwds)\n"
     ]
    }
   ],
   "source": [
    "import pandas as pd\n",
    "from matplotlib import pyplot as plt\n",
    "import numpy as np\n",
    "\n",
    "%matplotlib inline"
   ]
  },
  {
   "cell_type": "code",
   "execution_count": 2,
   "metadata": {},
   "outputs": [],
   "source": [
    "df = pd.read_json(\"/Users/Ben/Downloads/BRAZIL_SOY_2.2/BRAZIL_SOY_2.2.json\")"
   ]
  },
  {
   "cell_type": "code",
   "execution_count": 3,
   "metadata": {},
   "outputs": [
    {
     "data": {
      "text/html": [
       "<div>\n",
       "<style scoped>\n",
       "    .dataframe tbody tr th:only-of-type {\n",
       "        vertical-align: middle;\n",
       "    }\n",
       "\n",
       "    .dataframe tbody tr th {\n",
       "        vertical-align: top;\n",
       "    }\n",
       "\n",
       "    .dataframe thead th {\n",
       "        text-align: right;\n",
       "    }\n",
       "</style>\n",
       "<table border=\"1\" class=\"dataframe\">\n",
       "  <thead>\n",
       "    <tr style=\"text-align: right;\">\n",
       "      <th></th>\n",
       "      <th>BIOME</th>\n",
       "      <th>COUNTRY</th>\n",
       "      <th>EXPORTER</th>\n",
       "      <th>FOB_USD</th>\n",
       "      <th>IMPORTER</th>\n",
       "      <th>LAND_USE</th>\n",
       "      <th>LOGISTICS HUB</th>\n",
       "      <th>MAX_SOY_DEFORESTATION</th>\n",
       "      <th>MUNICIPALITY</th>\n",
       "      <th>PORT</th>\n",
       "      <th>SOY_DEFORESTATION</th>\n",
       "      <th>SOY_EQUIVALENT_TONS</th>\n",
       "      <th>STATE</th>\n",
       "      <th>TYPE</th>\n",
       "      <th>YEAR</th>\n",
       "      <th>ZERO_DEFORESTATION</th>\n",
       "    </tr>\n",
       "  </thead>\n",
       "  <tbody>\n",
       "    <tr>\n",
       "      <th>0</th>\n",
       "      <td>AMAZONIA</td>\n",
       "      <td>Brazil</td>\n",
       "      <td>Domestic Consumption</td>\n",
       "      <td>NaN</td>\n",
       "      <td>Domestic Consumption</td>\n",
       "      <td>98.497087</td>\n",
       "      <td>DOMESTIC CONSUMPTION</td>\n",
       "      <td>49.248544</td>\n",
       "      <td>Rio Branco</td>\n",
       "      <td>Domestic Consumption</td>\n",
       "      <td>NaN</td>\n",
       "      <td>325.040387</td>\n",
       "      <td>ACRE</td>\n",
       "      <td>Soy bean equivalents</td>\n",
       "      <td>2010</td>\n",
       "      <td>no</td>\n",
       "    </tr>\n",
       "    <tr>\n",
       "      <th>1</th>\n",
       "      <td>AMAZONIA</td>\n",
       "      <td>Brazil</td>\n",
       "      <td>Domestic Consumption</td>\n",
       "      <td>NaN</td>\n",
       "      <td>Domestic Consumption</td>\n",
       "      <td>177.294757</td>\n",
       "      <td>DOMESTIC CONSUMPTION</td>\n",
       "      <td>0.000000</td>\n",
       "      <td>Humaita</td>\n",
       "      <td>Domestic Consumption</td>\n",
       "      <td>NaN</td>\n",
       "      <td>531.884270</td>\n",
       "      <td>AMAZONAS</td>\n",
       "      <td>Soy bean equivalents</td>\n",
       "      <td>2010</td>\n",
       "      <td>no</td>\n",
       "    </tr>\n",
       "    <tr>\n",
       "      <th>2</th>\n",
       "      <td>AMAZONIA</td>\n",
       "      <td>China</td>\n",
       "      <td>Bunge</td>\n",
       "      <td>17591.881611</td>\n",
       "      <td>Bunge</td>\n",
       "      <td>18.801649</td>\n",
       "      <td>NOVA MUTUM</td>\n",
       "      <td>18.801649</td>\n",
       "      <td>Alta Floresta</td>\n",
       "      <td>Paranagua</td>\n",
       "      <td>NaN</td>\n",
       "      <td>56.404948</td>\n",
       "      <td>MATO GROSSO</td>\n",
       "      <td>Soy bean equivalents</td>\n",
       "      <td>2010</td>\n",
       "      <td>yes</td>\n",
       "    </tr>\n",
       "    <tr>\n",
       "      <th>3</th>\n",
       "      <td>AMAZONIA</td>\n",
       "      <td>India</td>\n",
       "      <td>Bunge</td>\n",
       "      <td>607.736002</td>\n",
       "      <td>Bunge</td>\n",
       "      <td>0.602667</td>\n",
       "      <td>NOVA MUTUM</td>\n",
       "      <td>0.602667</td>\n",
       "      <td>Alta Floresta</td>\n",
       "      <td>Paranagua</td>\n",
       "      <td>NaN</td>\n",
       "      <td>1.808002</td>\n",
       "      <td>MATO GROSSO</td>\n",
       "      <td>Soy bean equivalents</td>\n",
       "      <td>2010</td>\n",
       "      <td>yes</td>\n",
       "    </tr>\n",
       "    <tr>\n",
       "      <th>4</th>\n",
       "      <td>AMAZONIA</td>\n",
       "      <td>Thailand</td>\n",
       "      <td>Bunge</td>\n",
       "      <td>21072.516399</td>\n",
       "      <td>Bunge</td>\n",
       "      <td>16.431762</td>\n",
       "      <td>NOVA MUTUM</td>\n",
       "      <td>16.431762</td>\n",
       "      <td>Alta Floresta</td>\n",
       "      <td>Paranagua</td>\n",
       "      <td>NaN</td>\n",
       "      <td>49.295287</td>\n",
       "      <td>MATO GROSSO</td>\n",
       "      <td>Soy bean equivalents</td>\n",
       "      <td>2010</td>\n",
       "      <td>yes</td>\n",
       "    </tr>\n",
       "  </tbody>\n",
       "</table>\n",
       "</div>"
      ],
      "text/plain": [
       "      BIOME   COUNTRY              EXPORTER       FOB_USD  \\\n",
       "0  AMAZONIA    Brazil  Domestic Consumption           NaN   \n",
       "1  AMAZONIA    Brazil  Domestic Consumption           NaN   \n",
       "2  AMAZONIA     China                 Bunge  17591.881611   \n",
       "3  AMAZONIA     India                 Bunge    607.736002   \n",
       "4  AMAZONIA  Thailand                 Bunge  21072.516399   \n",
       "\n",
       "               IMPORTER    LAND_USE         LOGISTICS HUB  \\\n",
       "0  Domestic Consumption   98.497087  DOMESTIC CONSUMPTION   \n",
       "1  Domestic Consumption  177.294757  DOMESTIC CONSUMPTION   \n",
       "2                 Bunge   18.801649            NOVA MUTUM   \n",
       "3                 Bunge    0.602667            NOVA MUTUM   \n",
       "4                 Bunge   16.431762            NOVA MUTUM   \n",
       "\n",
       "   MAX_SOY_DEFORESTATION   MUNICIPALITY                  PORT  \\\n",
       "0              49.248544     Rio Branco  Domestic Consumption   \n",
       "1               0.000000        Humaita  Domestic Consumption   \n",
       "2              18.801649  Alta Floresta             Paranagua   \n",
       "3               0.602667  Alta Floresta             Paranagua   \n",
       "4              16.431762  Alta Floresta             Paranagua   \n",
       "\n",
       "   SOY_DEFORESTATION  SOY_EQUIVALENT_TONS        STATE                  TYPE  \\\n",
       "0                NaN           325.040387         ACRE  Soy bean equivalents   \n",
       "1                NaN           531.884270     AMAZONAS  Soy bean equivalents   \n",
       "2                NaN            56.404948  MATO GROSSO  Soy bean equivalents   \n",
       "3                NaN             1.808002  MATO GROSSO  Soy bean equivalents   \n",
       "4                NaN            49.295287  MATO GROSSO  Soy bean equivalents   \n",
       "\n",
       "   YEAR ZERO_DEFORESTATION  \n",
       "0  2010                 no  \n",
       "1  2010                 no  \n",
       "2  2010                yes  \n",
       "3  2010                yes  \n",
       "4  2010                yes  "
      ]
     },
     "execution_count": 3,
     "metadata": {},
     "output_type": "execute_result"
    }
   ],
   "source": [
    "df.head()"
   ]
  },
  {
   "cell_type": "code",
   "execution_count": 4,
   "metadata": {},
   "outputs": [
    {
     "name": "stdout",
     "output_type": "stream",
     "text": [
      "325,694\n"
     ]
    }
   ],
   "source": [
    "print(f\"{len(df):,g}\")"
   ]
  },
  {
   "cell_type": "code",
   "execution_count": 5,
   "metadata": {},
   "outputs": [],
   "source": [
    "df_atal = df[df[\"MUNICIPALITY\"] == \"Atalaia\"]"
   ]
  },
  {
   "cell_type": "code",
   "execution_count": 6,
   "metadata": {},
   "outputs": [],
   "source": [
    "df_atal_china = df_atal[df_atal['COUNTRY'] == 'China']"
   ]
  },
  {
   "cell_type": "code",
   "execution_count": 7,
   "metadata": {},
   "outputs": [],
   "source": [
    "df_atal_china_bung = df_atal_china[df_atal_china[\"EXPORTER\"] == \"Bunge\"]"
   ]
  },
  {
   "cell_type": "code",
   "execution_count": 8,
   "metadata": {},
   "outputs": [],
   "source": [
    "land_use = []\n",
    "soy_volume = []\n",
    "years = []\n",
    "for year in df_atal_china_bung[\"YEAR\"].unique():\n",
    "    tmp = df_atal_china_bung[df_atal_china_bung[\"YEAR\"] == year]\n",
    "    land_use.append(tmp['LAND_USE'].sum())\n",
    "    soy_volume.append(tmp['SOY_EQUIVALENT_TONS'].sum())\n",
    "    years.append(year)"
   ]
  },
  {
   "cell_type": "markdown",
   "metadata": {},
   "source": [
    "## Land use by time\n",
    "\n",
    "Two views on the widget: absolute area, or relative to the area of Atalaia. Options could be to show the values as the total area (ha) or relative area in (%), or you could calculate both, show only one on the axis, and show the other on hover. "
   ]
  },
  {
   "cell_type": "code",
   "execution_count": 9,
   "metadata": {},
   "outputs": [
    {
     "data": {
      "image/png": "[encoded data removed]",
      "text/plain": [
       "<Figure size 432x288 with 1 Axes>"
      ]
     },
     "metadata": {},
     "output_type": "display_data"
    }
   ],
   "source": [
    "plt.bar(years,land_use)\n",
    "plt.title(\"Atalaia Soy production land use for Chinease exports (absolute area)\")\n",
    "plt.ylabel(\"Ha\")\n",
    "plt.show()"
   ]
  },
  {
   "cell_type": "code",
   "execution_count": 10,
   "metadata": {},
   "outputs": [
    {
     "data": {
      "image/png": "[encoded data removed]",
      "text/plain": [
       "<Figure size 432x288 with 1 Axes>"
      ]
     },
     "metadata": {},
     "output_type": "display_data"
    }
   ],
   "source": [
    "region_area = 53200\n",
    "\n",
    "plt.bar(years, (np.array(land_use)/region_area) * 100)\n",
    "plt.title(\"Atalaia Soy production land use for Chinease exports (relative area)\")\n",
    "plt.ylabel(\"% area of region\")\n",
    "plt.show()"
   ]
  },
  {
   "cell_type": "markdown",
   "metadata": {},
   "source": [
    "## Productivity of land\n",
    "\n",
    "By dividing the soy volume by the land use, you can calculate how productive the land is over time. We note that this may be potentially more interesting for users interested in area specific information, rather than as a function of exporter ect."
   ]
  },
  {
   "cell_type": "code",
   "execution_count": 11,
   "metadata": {},
   "outputs": [
    {
     "data": {
      "image/png": "[encoded data removed]",
      "text/plain": [
       "<Figure size 432x288 with 1 Axes>"
      ]
     },
     "metadata": {},
     "output_type": "display_data"
    }
   ],
   "source": [
    "# Possibly a good vizulisation for region (rather than single destinations)\n",
    "\n",
    "plt.bar(years, np.array(soy_volume)/np.array(land_use))\n",
    "plt.title(\"Atalaia Soy productivity for Chinease exports\")\n",
    "plt.ylabel(\"t/ha\")\n",
    "plt.show()"
   ]
  },
  {
   "cell_type": "markdown",
   "metadata": {},
   "source": [
    "## Forest 500 score\n",
    "\n",
    "We will assume you want company sepcific information. This scale is 1-5. We suggest that you present a ranked list of companies operating in the region that highlights the company someone is specifically interested in.\n",
    "\n",
    "Can contextualise the score by comparing to statistics from the cohort."
   ]
  },
  {
   "cell_type": "markdown",
   "metadata": {},
   "source": [
    "## Max deforestation \n",
    "\n",
    "Basic:\n",
    "* Shows a time series of max deforestation in a region (ha). \n",
    "\n",
    "More advanced: \n",
    "* show both the area and relative area (relative to total area of Amazonia - or total forested area of Amazonia), can show the values on hover.\n",
    "* categories the max deforestation by **copanies, or by country**, showing the top 5 or so responsible in their own colours and the rest grouped to other.\n",
    "\n",
    "\n",
    "Additionally:\n",
    "* pie/donut chart showing total attribution to each company for all time"
   ]
  },
  {
   "cell_type": "code",
   "execution_count": 12,
   "metadata": {},
   "outputs": [],
   "source": [
    "amazonia = df[df[\"BIOME\"] == \"AMAZONIA\"]"
   ]
  },
  {
   "cell_type": "code",
   "execution_count": 13,
   "metadata": {},
   "outputs": [
    {
     "name": "stdout",
     "output_type": "stream",
     "text": [
      "2010\n",
      "2011\n",
      "2012\n",
      "2013\n",
      "2014\n",
      "2015\n"
     ]
    }
   ],
   "source": [
    "max_deforest = []\n",
    "years=[]\n",
    "for year in amazonia[\"YEAR\"].unique():\n",
    "    print(year)\n",
    "    tmp = amazonia[amazonia[\"YEAR\"] == year]\n",
    "    max_deforest.append(tmp[\"MAX_SOY_DEFORESTATION\"].sum())\n",
    "    years.append(year)"
   ]
  },
  {
   "cell_type": "code",
   "execution_count": 14,
   "metadata": {},
   "outputs": [
    {
     "data": {
      "text/plain": [
       "Text(0,0.5,'ha')"
      ]
     },
     "execution_count": 14,
     "metadata": {},
     "output_type": "execute_result"
    },
    {
     "data": {
      "image/png": "[encoded data removed]",
      "text/plain": [
       "<Figure size 432x288 with 1 Axes>"
      ]
     },
     "metadata": {},
     "output_type": "display_data"
    }
   ],
   "source": [
    "plt.bar(years,max_deforest)\n",
    "plt.title('Amazonia max deforestation over time')\n",
    "plt.ylabel(\"ha\")"
   ]
  },
  {
   "cell_type": "code",
   "execution_count": 171,
   "metadata": {},
   "outputs": [],
   "source": [
    "\n",
    "def prop_by_max_deforestation(df, prop='EXPORTER'):\n",
    "    d = {}\n",
    "    for exporter in sorted(df[prop].unique()):\n",
    "        exprt_tmp = df[df[prop] == exporter]\n",
    "        d[exporter] = exprt_tmp[\"MAX_SOY_DEFORESTATION\"].sum()\n",
    "    s = [(k, d[k]) for k in sorted(d, key=d.get, reverse=True)]\n",
    "    return s\n",
    "\n",
    "def key_prop_max_deforestation(df, key_props, prop='EXPORTER'):\n",
    "    d = {}\n",
    "    for key in key_props:\n",
    "        exprt_tmp = df[df[prop] == key]\n",
    "        d[key] = exprt_tmp[\"MAX_SOY_DEFORESTATION\"].sum()\n",
    "    s = [(k, d[k]) for k in sorted(d, key=d.get, reverse=True)]\n",
    "    return s"
   ]
  },
  {
   "cell_type": "code",
   "execution_count": null,
   "metadata": {},
   "outputs": [],
   "source": []
  },
  {
   "cell_type": "code",
   "execution_count": 146,
   "metadata": {},
   "outputs": [],
   "source": []
  },
  {
   "cell_type": "markdown",
   "metadata": {},
   "source": [
    "Exploring the maxdeforestation attributed to each company:"
   ]
  },
  {
   "cell_type": "code",
   "execution_count": 226,
   "metadata": {},
   "outputs": [],
   "source": [
    "s = prop_by_max_deforestation(amazonia, prop='EXPORTER')\n",
    "\n",
    "labels = []\n",
    "volumes = []\n",
    "\n",
    "for item in s:\n",
    "    labels.append('')\n",
    "    volumes.append(item[1])"
   ]
  },
  {
   "cell_type": "code",
   "execution_count": 227,
   "metadata": {},
   "outputs": [
    {
     "data": {
      "text/plain": [
       "[<matplotlib.lines.Line2D at 0x1175b0470>]"
      ]
     },
     "execution_count": 227,
     "metadata": {},
     "output_type": "execute_result"
    },
    {
     "data": {
      "image/png": "[encoded data removed]",
      "text/plain": [
       "<Figure size 432x288 with 1 Axes>"
      ]
     },
     "metadata": {},
     "output_type": "display_data"
    }
   ],
   "source": [
    "# Looks like the top 6 Exporters are responsible for the vast majority of deforestation - we should use 6 categories + other\n",
    "plt.plot(volumes[0:40])"
   ]
  },
  {
   "cell_type": "code",
   "execution_count": 228,
   "metadata": {},
   "outputs": [
    {
     "data": {
      "text/plain": [
       "['Domestic Consumption',\n",
       " 'Cargill',\n",
       " 'Bunge',\n",
       " 'Amaggi',\n",
       " 'Abc Industria E Comercio',\n",
       " 'Adm']"
      ]
     },
     "execution_count": 228,
     "metadata": {},
     "output_type": "execute_result"
    }
   ],
   "source": [
    "# Identify the top exporters responsible for deforestation by name\n",
    "\n",
    "top_exporters = []\n",
    "for item in s[0:6]:\n",
    "    top_exporters.append(item[0])\n",
    "top_exporters"
   ]
  },
  {
   "cell_type": "code",
   "execution_count": 174,
   "metadata": {},
   "outputs": [
    {
     "name": "stdout",
     "output_type": "stream",
     "text": [
      "Domestic Consumption\n",
      "Cargill\n",
      "Bunge\n",
      "Amaggi\n",
      "Abc Industria E Comercio\n",
      "Adm\n"
     ]
    }
   ],
   "source": [
    "for key in top_exporters:\n",
    "    print(key)"
   ]
  },
  {
   "cell_type": "code",
   "execution_count": 183,
   "metadata": {},
   "outputs": [
    {
     "name": "stdout",
     "output_type": "stream",
     "text": [
      "2010\n",
      "2011\n",
      "2012\n",
      "2013\n",
      "2014\n",
      "2015\n"
     ]
    }
   ],
   "source": [
    "max_deforest = []\n",
    "years=[]\n",
    "quantity_by_company = {}\n",
    "for year in amazonia[\"YEAR\"].unique():\n",
    "    print(year)\n",
    "    years.append(year)\n",
    "    tmp = amazonia[amazonia[\"YEAR\"] == year]\n",
    "    tmp_s = key_prop_max_deforestation(tmp, top_exporters, prop=\"EXPORTER\")  # find the quantity attributed to each of the key exporters\n",
    "    tmp_d = {}\n",
    "    for item in tmp_s:\n",
    "        tmp_d[item[0]] =item[1]\n",
    "    tmp_d['Total'] = tmp[\"MAX_SOY_DEFORESTATION\"].sum()\n",
    "    quantity_by_company[year] = tmp_d"
   ]
  },
  {
   "cell_type": "code",
   "execution_count": null,
   "metadata": {},
   "outputs": [],
   "source": []
  },
  {
   "cell_type": "code",
   "execution_count": 188,
   "metadata": {},
   "outputs": [
    {
     "data": {
      "image/png": "[encoded data removed]",
      "text/plain": [
       "<Figure size 720x360 with 1 Axes>"
      ]
     },
     "metadata": {},
     "output_type": "display_data"
    }
   ],
   "source": [
    "plt.figure(figsize=(10,5))\n",
    "menMeans = (20, 35, 30, 35, 27)\n",
    "womenMeans = (25, 32, 34, 20, 25)\n",
    "menStd = (2, 3, 4, 1, 2)\n",
    "womenStd = (3, 5, 2, 3, 3)\n",
    "width = 0.35       # the width of the bars: can also be len(x) sequence\n",
    "\n",
    "tmp = []\n",
    "for year in quantity_by_company.keys():\n",
    "    tmp.append(quantity_by_company[year]['Total'])   \n",
    "plt.bar(years, tmp, width, label='Other')\n",
    "\n",
    "years = list(quantity_by_company.keys())\n",
    "expcount = 0\n",
    "for exporter in top_exporters:\n",
    "    tmp = []\n",
    "    for year in quantity_by_company.keys():\n",
    "        tmp.append(quantity_by_company[year][exporter])\n",
    "    if expcount == 0:\n",
    "        plt.bar(years, tmp, width, label=exporter)\n",
    "        past_values = np.array(tmp)\n",
    "    else:\n",
    "        plt.bar(years, tmp, width, bottom=past_values, label=exporter)\n",
    "        past_values = np.array(tmp) + past_values\n",
    "        pass\n",
    "    expcount += 1\n",
    "\n",
    "plt.ylabel('max deforestation (ha)')\n",
    "plt.title('Max deforestation by exporter')\n",
    "plt.legend()\n",
    "\n",
    "plt.show()"
   ]
  },
  {
   "cell_type": "code",
   "execution_count": null,
   "metadata": {},
   "outputs": [],
   "source": []
  },
  {
   "cell_type": "code",
   "execution_count": 229,
   "metadata": {},
   "outputs": [
    {
     "data": {
      "text/plain": [
       "[<matplotlib.lines.Line2D at 0x1174249e8>]"
      ]
     },
     "execution_count": 229,
     "metadata": {},
     "output_type": "execute_result"
    },
    {
     "data": {
      "image/png": "[encoded data removed]",
      "text/plain": [
       "<Figure size 432x288 with 1 Axes>"
      ]
     },
     "metadata": {},
     "output_type": "display_data"
    }
   ],
   "source": [
    "s = prop_by_max_deforestation(amazonia, prop='COUNTRY')\n",
    "\n",
    "labels = []\n",
    "volumes = []\n",
    "\n",
    "for item in s:\n",
    "    labels.append('')\n",
    "    volumes.append(item[1])\n",
    "\n",
    "plt.plot(volumes[0:40])"
   ]
  },
  {
   "cell_type": "code",
   "execution_count": 230,
   "metadata": {},
   "outputs": [
    {
     "data": {
      "text/plain": [
       "['Brazil', 'China', 'Spain', 'Netherlands', 'United Kingdom', 'Thailand']"
      ]
     },
     "execution_count": 230,
     "metadata": {},
     "output_type": "execute_result"
    }
   ],
   "source": [
    "# Identify the top countries responsible for deforestation by name\n",
    "\n",
    "top_countries = []\n",
    "for item in s[0:6]:\n",
    "    top_countries.append(item[0])\n",
    "top_countries"
   ]
  },
  {
   "cell_type": "code",
   "execution_count": 205,
   "metadata": {},
   "outputs": [
    {
     "name": "stdout",
     "output_type": "stream",
     "text": [
      "2010\n",
      "2011\n",
      "2012\n",
      "2013\n",
      "2014\n",
      "2015\n"
     ]
    }
   ],
   "source": [
    "max_deforest = []\n",
    "years=[]\n",
    "quantity_by_country = {}\n",
    "for year in amazonia[\"YEAR\"].unique():\n",
    "    print(year)\n",
    "    years.append(year)\n",
    "    tmp = amazonia[amazonia[\"YEAR\"] == year]\n",
    "    tmp_s = key_prop_max_deforestation(tmp, top_countries, prop=\"COUNTRY\")  # find the quantity attributed to each of the key exporters\n",
    "    tmp_d = {}\n",
    "    for item in tmp_s:\n",
    "        tmp_d[item[0]] =item[1]\n",
    "    tmp_d['Total'] = tmp[\"MAX_SOY_DEFORESTATION\"].sum()\n",
    "    quantity_by_country[year] = tmp_d"
   ]
  },
  {
   "cell_type": "code",
   "execution_count": 206,
   "metadata": {},
   "outputs": [
    {
     "data": {
      "text/plain": [
       "[('Brazil', 19011.13839918929),\n",
       " ('China', 15966.851940321721),\n",
       " ('Spain', 7430.38267747737),\n",
       " ('Netherlands', 5756.991430680981),\n",
       " ('United Kingdom', 1572.6563217149458),\n",
       " ('Thailand', 1047.3946935751799)]"
      ]
     },
     "execution_count": 206,
     "metadata": {},
     "output_type": "execute_result"
    }
   ],
   "source": [
    "tmp_s"
   ]
  },
  {
   "cell_type": "code",
   "execution_count": 220,
   "metadata": {},
   "outputs": [
    {
     "data": {
      "image/png": "[encoded data removed]",
      "text/plain": [
       "<Figure size 720x360 with 1 Axes>"
      ]
     },
     "metadata": {},
     "output_type": "display_data"
    }
   ],
   "source": [
    "plt.figure(figsize=(10,5))\n",
    "menMeans = (20, 35, 30, 35, 27)\n",
    "womenMeans = (25, 32, 34, 20, 25)\n",
    "menStd = (2, 3, 4, 1, 2)\n",
    "womenStd = (3, 5, 2, 3, 3)\n",
    "width = 0.35       # the width of the bars: can also be len(x) sequence\n",
    "\n",
    "years = list(quantity_by_country.keys())\n",
    "\n",
    "tmp = []\n",
    "for year in quantity_by_country.keys():\n",
    "    tmp.append(quantity_by_country[year]['Total'])   \n",
    "plt.bar(years, tmp, width, label='Other')\n",
    "\n",
    "expcount = 0\n",
    "for country in top_countries:\n",
    "    tmp = []\n",
    "    for year in quantity_by_company.keys():\n",
    "        try:\n",
    "            tmp.append(quantity_by_country[year][country])\n",
    "        except:\n",
    "            print(f'error for {year} {country}')\n",
    "            tmp.append(0)            \n",
    "    if expcount == 0:\n",
    "        plt.bar(years, tmp, width, label=country)\n",
    "        past_values = np.array(tmp)\n",
    "    else:\n",
    "        plt.bar(years, tmp, width, bottom=past_values, label=country)\n",
    "        past_values = np.array(tmp) + past_values\n",
    "        pass\n",
    "    expcount += 1\n",
    "\n",
    "plt.ylabel('max deforestation (ha)')\n",
    "plt.title('Max deforestation by country')\n",
    "plt.legend()\n",
    "\n",
    "plt.show()"
   ]
  },
  {
   "cell_type": "markdown",
   "metadata": {},
   "source": [
    "### Donut chart - area attributed to each company (you could add a year range selector to this to let users select the period)\n"
   ]
  },
  {
   "cell_type": "code",
   "execution_count": 234,
   "metadata": {},
   "outputs": [
    {
     "data": {
      "text/plain": [
       "['Brazil', 'China', 'Spain', 'Netherlands', 'United Kingdom', 'Thailand']"
      ]
     },
     "execution_count": 234,
     "metadata": {},
     "output_type": "execute_result"
    }
   ],
   "source": [
    "top_countries"
   ]
  },
  {
   "cell_type": "code",
   "execution_count": 242,
   "metadata": {},
   "outputs": [],
   "source": [
    "max_deforest = []\n",
    "all_quantity_by_company = {}\n",
    "tmp_s = key_prop_max_deforestation(amazonia, top_countries, prop=\"COUNTRY\") # find the quantity attributed to each of the key exporters\n",
    "tmp_d = {}\n",
    "for item in tmp_s:\n",
    "    tmp_d[item[0]] =item[1]\n",
    "tmp_d['Total'] = amazonia[\"MAX_SOY_DEFORESTATION\"].sum()\n",
    "quantity_by_company[year] = tmp_d"
   ]
  },
  {
   "cell_type": "code",
   "execution_count": 243,
   "metadata": {},
   "outputs": [
    {
     "data": {
      "text/plain": [
       "{'Brazil': 101049.0449328909,\n",
       " 'China': 72274.71298978294,\n",
       " 'Spain': 40960.83098040374,\n",
       " 'Netherlands': 32535.76726711663,\n",
       " 'United Kingdom': 13456.247203387575,\n",
       " 'Thailand': 11780.738472024008,\n",
       " 'Total': 338738.9397374537}"
      ]
     },
     "execution_count": 243,
     "metadata": {},
     "output_type": "execute_result"
    }
   ],
   "source": [
    "tmp_d"
   ]
  },
  {
   "cell_type": "code",
   "execution_count": 252,
   "metadata": {},
   "outputs": [],
   "source": [
    "countries = list(tmp_d.keys())\n",
    "countries.remove(\"Total\")\n",
    "countries.append(\"Other\")"
   ]
  },
  {
   "cell_type": "code",
   "execution_count": 258,
   "metadata": {},
   "outputs": [
    {
     "data": {
      "text/plain": [
       "[101049.0449328909,\n",
       " 72274.71298978294,\n",
       " 40960.83098040374,\n",
       " 32535.76726711663,\n",
       " 13456.247203387575,\n",
       " 11780.738472024008,\n",
       " 338738.9397374537]"
      ]
     },
     "execution_count": 258,
     "metadata": {},
     "output_type": "execute_result"
    }
   ],
   "source": [
    "list(tmp_d.values())"
   ]
  },
  {
   "cell_type": "code",
   "execution_count": 280,
   "metadata": {},
   "outputs": [],
   "source": [
    "total = 0\n",
    "not_total = 0\n",
    "\n",
    "plot_values = []\n",
    "\n",
    "for k in tmp_d:\n",
    "    if k == 'Total':\n",
    "        total = tmp_d[k]\n",
    "    else:\n",
    "        plot_values.append(tmp_d[k])\n",
    "\n",
    "other = total - np.sum(plot_values)\n",
    "\n",
    "plot_values.append(other)"
   ]
  },
  {
   "cell_type": "code",
   "execution_count": 283,
   "metadata": {},
   "outputs": [
    {
     "data": {
      "image/png": "[encoded data removed]",
      "text/plain": [
       "<Figure size 432x288 with 1 Axes>"
      ]
     },
     "metadata": {},
     "output_type": "display_data"
    }
   ],
   "source": [
    "# Pie chart, where the slices will be ordered and plotted counter-clockwise:\n",
    "labels = countries\n",
    "sizes = plot_values\n",
    "\n",
    "fig1, ax1 = plt.subplots()\n",
    "ax1.pie(sizes, labels=labels, autopct='%1.1f%%',\n",
    "        shadow=False, startangle=90)\n",
    "ax1.axis('equal')\n",
    "plt.title(\"Countries primarily responsible for max deforestation from soy\")\n",
    "plt.show()"
   ]
  },
  {
   "cell_type": "code",
   "execution_count": null,
   "metadata": {},
   "outputs": [],
   "source": []
  }
 ],
 "metadata": {
  "kernelspec": {
   "display_name": "Python 3",
   "language": "python",
   "name": "python3"
  },
  "language_info": {
   "codemirror_mode": {
    "name": "ipython",
    "version": 3
   },
   "file_extension": ".py",
   "mimetype": "text/x-python",
   "name": "python",
   "nbconvert_exporter": "python",
   "pygments_lexer": "ipython3",
   "version": "3.6.6"
  }
 },
 "nbformat": 4,
 "nbformat_minor": 2
}
